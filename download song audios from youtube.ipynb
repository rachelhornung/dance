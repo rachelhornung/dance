{
 "cells": [
  {
   "cell_type": "code",
   "execution_count": 1,
   "metadata": {
    "collapsed": true
   },
   "outputs": [],
   "source": [
    "from __future__ import unicode_literals\n",
    "\n",
    "import youtube_dl\n",
    "import pandas as pd\n",
    "import os.path"
   ]
  },
  {
   "cell_type": "code",
   "execution_count": 2,
   "metadata": {
    "collapsed": false
   },
   "outputs": [],
   "source": [
    "# reload song list\n",
    "links = pd.read_csv(\"song_info_list.csv\")\n",
    "# links = data[\"youtube_link\"].unique() # already applied at DF creation"
   ]
  },
  {
   "cell_type": "code",
   "execution_count": 3,
   "metadata": {
    "collapsed": false
   },
   "outputs": [
    {
     "name": "stdout",
     "output_type": "stream",
     "text": [
      "[youtube] KpsVD_GyJuc: Downloading webpage\n",
      "[youtube] KpsVD_GyJuc: Downloading video info webpage\n",
      "[youtube] KpsVD_GyJuc: Extracting video information\n",
      "[youtube] KpsVD_GyJuc: Downloading MPD manifest\n"
     ]
    },
    {
     "name": "stderr",
     "output_type": "stream",
     "text": [
      "WARNING: \"id\" field is not a string - forcing string conversion, there is an error in extractor\n"
     ]
    },
    {
     "name": "stdout",
     "output_type": "stream",
     "text": [
      "[download] Destination: songs/KpsVD_GyJuc.m4a\n",
      "[download] 100% of 994.28KiB in 00:01\n",
      "[ffmpeg] Correcting container in \"songs/KpsVD_GyJuc.m4a\"\n",
      "[ffmpeg] Destination: songs/KpsVD_GyJuc.wav\n",
      "Deleting original file songs/KpsVD_GyJuc.m4a (pass -k to keep)\n",
      "[youtube] ciPGSJW7CnY: Downloading webpage\n",
      "[youtube] ciPGSJW7CnY: Downloading video info webpage\n",
      "[youtube] ciPGSJW7CnY: Extracting video information\n",
      "[youtube] ciPGSJW7CnY: Downloading MPD manifest\n"
     ]
    },
    {
     "name": "stderr",
     "output_type": "stream",
     "text": [
      "WARNING: \"id\" field is not a string - forcing string conversion, there is an error in extractor\n"
     ]
    },
    {
     "name": "stdout",
     "output_type": "stream",
     "text": [
      "[download] Destination: songs/ciPGSJW7CnY.webm\n",
      "[download] 100% of 2.10MiB in 00:04\n",
      "[ffmpeg] Destination: songs/ciPGSJW7CnY.wav\n",
      "Deleting original file songs/ciPGSJW7CnY.webm (pass -k to keep)\n",
      "[youtube] GxOA5umDN18: Downloading webpage\n",
      "[youtube] GxOA5umDN18: Downloading video info webpage\n",
      "[youtube] GxOA5umDN18: Extracting video information\n",
      "[youtube] GxOA5umDN18: Downloading MPD manifest\n",
      "[youtube] GxOA5umDN18: Downloading MPD manifest\n"
     ]
    },
    {
     "name": "stderr",
     "output_type": "stream",
     "text": [
      "WARNING: \"id\" field is not a string - forcing string conversion, there is an error in extractor\n"
     ]
    },
    {
     "name": "stdout",
     "output_type": "stream",
     "text": [
      "[dashsegments] Total fragments: 14\n",
      "[download] Destination: songs/GxOA5umDN18.m4a\n",
      "[download] 100% of 1.82MiB in 00:05\n",
      "[ffmpeg] Correcting container in \"songs/GxOA5umDN18.m4a\"\n",
      "[ffmpeg] Destination: songs/GxOA5umDN18.wav\n",
      "Deleting original file songs/GxOA5umDN18.m4a (pass -k to keep)\n",
      "[youtube] PXSdVXstEAM: Downloading webpage\n",
      "[youtube] PXSdVXstEAM: Downloading video info webpage\n",
      "[youtube] PXSdVXstEAM: Extracting video information\n",
      "[youtube] PXSdVXstEAM: Downloading MPD manifest\n"
     ]
    },
    {
     "name": "stderr",
     "output_type": "stream",
     "text": [
      "WARNING: \"id\" field is not a string - forcing string conversion, there is an error in extractor\n"
     ]
    },
    {
     "name": "stdout",
     "output_type": "stream",
     "text": [
      "[download] Destination: songs/PXSdVXstEAM.m4a\n",
      "[download] 100% of 4.24MiB in 00:09\n",
      "[ffmpeg] Correcting container in \"songs/PXSdVXstEAM.m4a\"\n",
      "[ffmpeg] Destination: songs/PXSdVXstEAM.wav\n",
      "Deleting original file songs/PXSdVXstEAM.m4a (pass -k to keep)\n",
      "[youtube] FgDU17xqNXo: Downloading webpage\n",
      "[youtube] FgDU17xqNXo: Downloading video info webpage\n",
      "[youtube] FgDU17xqNXo: Extracting video information\n",
      "[youtube] FgDU17xqNXo: Downloading MPD manifest\n"
     ]
    },
    {
     "name": "stderr",
     "output_type": "stream",
     "text": [
      "WARNING: \"id\" field is not a string - forcing string conversion, there is an error in extractor\n"
     ]
    },
    {
     "name": "stdout",
     "output_type": "stream",
     "text": [
      "[download] Destination: songs/FgDU17xqNXo.webm\n",
      "[download] 100% of 3.65MiB in 00:07\n",
      "[ffmpeg] Destination: songs/FgDU17xqNXo.wav\n",
      "Deleting original file songs/FgDU17xqNXo.webm (pass -k to keep)\n",
      "[youtube] 6VgG4zl2QTg: Downloading webpage\n",
      "[youtube] 6VgG4zl2QTg: Downloading video info webpage\n",
      "[youtube] 6VgG4zl2QTg: Extracting video information\n",
      "[youtube] 6VgG4zl2QTg: Downloading MPD manifest\n",
      "[youtube] 6VgG4zl2QTg: Downloading MPD manifest\n"
     ]
    },
    {
     "name": "stderr",
     "output_type": "stream",
     "text": [
      "WARNING: \"id\" field is not a string - forcing string conversion, there is an error in extractor\n"
     ]
    },
    {
     "name": "stdout",
     "output_type": "stream",
     "text": [
      "[dashsegments] Total fragments: 16\n",
      "[download] Destination: songs/6VgG4zl2QTg.m4a\n",
      "[download] 100% of 2.15MiB in 00:06\n",
      "[ffmpeg] Correcting container in \"songs/6VgG4zl2QTg.m4a\"\n",
      "[ffmpeg] Destination: songs/6VgG4zl2QTg.wav\n",
      "Deleting original file songs/6VgG4zl2QTg.m4a (pass -k to keep)\n",
      "[youtube] LoyZpt4HFMY: Downloading webpage\n",
      "[youtube] LoyZpt4HFMY: Downloading video info webpage\n",
      "[youtube] LoyZpt4HFMY: Extracting video information\n",
      "[youtube] LoyZpt4HFMY: Downloading MPD manifest\n"
     ]
    },
    {
     "name": "stderr",
     "output_type": "stream",
     "text": [
      "WARNING: \"id\" field is not a string - forcing string conversion, there is an error in extractor\n"
     ]
    },
    {
     "name": "stdout",
     "output_type": "stream",
     "text": [
      "[download] Destination: songs/LoyZpt4HFMY.webm\n",
      "[download] 100% of 2.51MiB in 00:04\n",
      "[ffmpeg] Destination: songs/LoyZpt4HFMY.wav\n",
      "Deleting original file songs/LoyZpt4HFMY.webm (pass -k to keep)\n",
      "[youtube] 4Gs_pVBeVYo: Downloading webpage\n",
      "[youtube] 4Gs_pVBeVYo: Downloading video info webpage\n",
      "[youtube] 4Gs_pVBeVYo: Extracting video information\n",
      "[youtube] 4Gs_pVBeVYo: Downloading MPD manifest\n"
     ]
    },
    {
     "name": "stderr",
     "output_type": "stream",
     "text": [
      "WARNING: \"id\" field is not a string - forcing string conversion, there is an error in extractor\n"
     ]
    },
    {
     "name": "stdout",
     "output_type": "stream",
     "text": [
      "[download] Destination: songs/4Gs_pVBeVYo.m4a\n",
      "[download] 100% of 2.83MiB in 00:05\n",
      "[ffmpeg] Correcting container in \"songs/4Gs_pVBeVYo.m4a\"\n",
      "[ffmpeg] Destination: songs/4Gs_pVBeVYo.wav\n",
      "Deleting original file songs/4Gs_pVBeVYo.m4a (pass -k to keep)\n",
      "[youtube] vtCHTii1BMs: Downloading webpage\n",
      "[youtube] vtCHTii1BMs: Downloading video info webpage\n",
      "[youtube] vtCHTii1BMs: Extracting video information\n",
      "[youtube] vtCHTii1BMs: Downloading MPD manifest\n"
     ]
    },
    {
     "name": "stderr",
     "output_type": "stream",
     "text": [
      "WARNING: \"id\" field is not a string - forcing string conversion, there is an error in extractor\n"
     ]
    },
    {
     "name": "stdout",
     "output_type": "stream",
     "text": [
      "[download] Destination: songs/vtCHTii1BMs.webm\n",
      "[download] 100% of 985.55KiB in 00:01\n",
      "[ffmpeg] Destination: songs/vtCHTii1BMs.wav\n",
      "Deleting original file songs/vtCHTii1BMs.webm (pass -k to keep)\n",
      "[youtube] SwJVBq2lwzI: Downloading webpage\n",
      "[youtube] SwJVBq2lwzI: Downloading video info webpage\n",
      "[youtube] SwJVBq2lwzI: Extracting video information\n",
      "[youtube] SwJVBq2lwzI: Downloading MPD manifest\n"
     ]
    },
    {
     "name": "stderr",
     "output_type": "stream",
     "text": [
      "WARNING: \"id\" field is not a string - forcing string conversion, there is an error in extractor\n"
     ]
    },
    {
     "name": "stdout",
     "output_type": "stream",
     "text": [
      "[download] Destination: songs/SwJVBq2lwzI.webm\n",
      "[download] 100% of 2.98MiB in 00:05\n",
      "[ffmpeg] Destination: songs/SwJVBq2lwzI.wav\n",
      "Deleting original file songs/SwJVBq2lwzI.webm (pass -k to keep)\n",
      "[youtube] i4lpAuGqr2w: Downloading webpage\n",
      "[youtube] i4lpAuGqr2w: Downloading video info webpage\n",
      "[youtube] i4lpAuGqr2w: Extracting video information\n",
      "[youtube] i4lpAuGqr2w: Downloading MPD manifest\n"
     ]
    },
    {
     "name": "stderr",
     "output_type": "stream",
     "text": [
      "WARNING: \"id\" field is not a string - forcing string conversion, there is an error in extractor\n"
     ]
    },
    {
     "name": "stdout",
     "output_type": "stream",
     "text": [
      "[download] Destination: songs/i4lpAuGqr2w.m4a\n",
      "[download] 100% of 4.75MiB in 00:09\n",
      "[ffmpeg] Correcting container in \"songs/i4lpAuGqr2w.m4a\"\n",
      "[ffmpeg] Destination: songs/i4lpAuGqr2w.wav\n",
      "Deleting original file songs/i4lpAuGqr2w.m4a (pass -k to keep)\n",
      "[youtube] 2IrhPpyAEWM: Downloading webpage\n",
      "[youtube] 2IrhPpyAEWM: Downloading video info webpage\n",
      "[youtube] 2IrhPpyAEWM: Extracting video information\n",
      "[youtube] 2IrhPpyAEWM: Downloading MPD manifest\n"
     ]
    },
    {
     "name": "stderr",
     "output_type": "stream",
     "text": [
      "WARNING: \"id\" field is not a string - forcing string conversion, there is an error in extractor\n"
     ]
    },
    {
     "name": "stdout",
     "output_type": "stream",
     "text": [
      "[download] Destination: songs/2IrhPpyAEWM.webm\n",
      "[download] 100% of 3.37MiB in 00:06\n",
      "[ffmpeg] Destination: songs/2IrhPpyAEWM.wav\n",
      "Deleting original file songs/2IrhPpyAEWM.webm (pass -k to keep)\n",
      "[youtube] _X84h81XPCM: Downloading webpage\n",
      "[youtube] _X84h81XPCM: Downloading video info webpage\n",
      "[youtube] _X84h81XPCM: Extracting video information\n",
      "[youtube] _X84h81XPCM: Downloading MPD manifest\n"
     ]
    },
    {
     "name": "stderr",
     "output_type": "stream",
     "text": [
      "WARNING: \"id\" field is not a string - forcing string conversion, there is an error in extractor\n"
     ]
    },
    {
     "name": "stdout",
     "output_type": "stream",
     "text": [
      "[download] Destination: songs/_X84h81XPCM.m4a\n",
      "[download] 100% of 4.75MiB in 00:09\n",
      "[ffmpeg] Correcting container in \"songs/_X84h81XPCM.m4a\"\n",
      "[ffmpeg] Destination: songs/_X84h81XPCM.wav\n",
      "Deleting original file songs/_X84h81XPCM.m4a (pass -k to keep)\n",
      "[youtube] soeuEAGLxOc: Downloading webpage\n",
      "[youtube] soeuEAGLxOc: Downloading video info webpage\n",
      "[youtube] soeuEAGLxOc: Extracting video information\n",
      "[youtube] soeuEAGLxOc: Downloading MPD manifest\n"
     ]
    },
    {
     "name": "stderr",
     "output_type": "stream",
     "text": [
      "WARNING: \"id\" field is not a string - forcing string conversion, there is an error in extractor\n"
     ]
    },
    {
     "name": "stdout",
     "output_type": "stream",
     "text": [
      "[download] Destination: songs/soeuEAGLxOc.webm\n",
      "[download] 100% of 3.34MiB in 00:06\n",
      "[ffmpeg] Destination: songs/soeuEAGLxOc.wav\n",
      "Deleting original file songs/soeuEAGLxOc.webm (pass -k to keep)\n",
      "[youtube] i5De19nvdAM: Downloading webpage\n",
      "[youtube] i5De19nvdAM: Downloading video info webpage\n",
      "[youtube] i5De19nvdAM: Extracting video information\n",
      "[youtube] i5De19nvdAM: Downloading MPD manifest\n"
     ]
    },
    {
     "name": "stderr",
     "output_type": "stream",
     "text": [
      "WARNING: \"id\" field is not a string - forcing string conversion, there is an error in extractor\n"
     ]
    },
    {
     "name": "stdout",
     "output_type": "stream",
     "text": [
      "[download] Destination: songs/i5De19nvdAM.webm\n",
      "[download] 100% of 3.81MiB in 00:07\n",
      "[ffmpeg] Destination: songs/i5De19nvdAM.wav\n",
      "Deleting original file songs/i5De19nvdAM.webm (pass -k to keep)\n",
      "[youtube] 6nQr3B_xeHg: Downloading webpage\n",
      "[youtube] 6nQr3B_xeHg: Downloading video info webpage\n",
      "[youtube] 6nQr3B_xeHg: Extracting video information\n",
      "[youtube] 6nQr3B_xeHg: Downloading MPD manifest\n",
      "[youtube] 6nQr3B_xeHg: Downloading MPD manifest\n"
     ]
    },
    {
     "name": "stderr",
     "output_type": "stream",
     "text": [
      "WARNING: \"id\" field is not a string - forcing string conversion, there is an error in extractor\n"
     ]
    },
    {
     "name": "stdout",
     "output_type": "stream",
     "text": [
      "[dashsegments] Total fragments: 32\n",
      "[download] Destination: songs/6nQr3B_xeHg.m4a\n",
      "[download] 100% of 3.50MiB in 00:12\n",
      "[ffmpeg] Correcting container in \"songs/6nQr3B_xeHg.m4a\"\n",
      "[ffmpeg] Destination: songs/6nQr3B_xeHg.wav\n",
      "Deleting original file songs/6nQr3B_xeHg.m4a (pass -k to keep)\n",
      "[youtube] 11xzO5WrCBI: Downloading webpage\n",
      "[youtube] 11xzO5WrCBI: Downloading video info webpage\n",
      "[youtube] 11xzO5WrCBI: Extracting video information\n",
      "[youtube] 11xzO5WrCBI: Downloading MPD manifest\n"
     ]
    },
    {
     "name": "stderr",
     "output_type": "stream",
     "text": [
      "WARNING: \"id\" field is not a string - forcing string conversion, there is an error in extractor\n"
     ]
    },
    {
     "name": "stdout",
     "output_type": "stream",
     "text": [
      "[download] Destination: songs/11xzO5WrCBI.webm\n",
      "[download] 100% of 7.60MiB in 00:16\n",
      "[ffmpeg] Destination: songs/11xzO5WrCBI.wav\n",
      "Deleting original file songs/11xzO5WrCBI.webm (pass -k to keep)\n",
      "[youtube] VfLTNFJFapI: Downloading webpage\n",
      "[youtube] VfLTNFJFapI: Downloading video info webpage\n",
      "[youtube] VfLTNFJFapI: Extracting video information\n",
      "[youtube] VfLTNFJFapI: Downloading MPD manifest\n"
     ]
    },
    {
     "name": "stderr",
     "output_type": "stream",
     "text": [
      "WARNING: \"id\" field is not a string - forcing string conversion, there is an error in extractor\n"
     ]
    },
    {
     "name": "stdout",
     "output_type": "stream",
     "text": [
      "[download] Destination: songs/VfLTNFJFapI.m4a\n",
      "[download] 100% of 4.03MiB in 00:07\n",
      "[ffmpeg] Correcting container in \"songs/VfLTNFJFapI.m4a\"\n",
      "[ffmpeg] Destination: songs/VfLTNFJFapI.wav\n",
      "Deleting original file songs/VfLTNFJFapI.m4a (pass -k to keep)\n",
      "[youtube] m5xJK4UVw2A: Downloading webpage\n",
      "[youtube] m5xJK4UVw2A: Downloading video info webpage\n",
      "[youtube] m5xJK4UVw2A: Extracting video information\n",
      "[youtube] m5xJK4UVw2A: Downloading MPD manifest\n"
     ]
    },
    {
     "name": "stderr",
     "output_type": "stream",
     "text": [
      "WARNING: \"id\" field is not a string - forcing string conversion, there is an error in extractor\n"
     ]
    },
    {
     "name": "stdout",
     "output_type": "stream",
     "text": [
      "[download] Destination: songs/m5xJK4UVw2A.webm\n",
      "[download] 100% of 2.27MiB in 00:04\n",
      "[ffmpeg] Destination: songs/m5xJK4UVw2A.wav\n",
      "Deleting original file songs/m5xJK4UVw2A.webm (pass -k to keep)\n",
      "[youtube] vCHdH3LiUS4: Downloading webpage\n",
      "[youtube] vCHdH3LiUS4: Downloading video info webpage\n",
      "[youtube] vCHdH3LiUS4: Extracting video information\n",
      "[youtube] vCHdH3LiUS4: Downloading MPD manifest\n"
     ]
    },
    {
     "name": "stderr",
     "output_type": "stream",
     "text": [
      "WARNING: \"id\" field is not a string - forcing string conversion, there is an error in extractor\n"
     ]
    },
    {
     "name": "stdout",
     "output_type": "stream",
     "text": [
      "[download] Destination: songs/vCHdH3LiUS4.webm\n",
      "[download] 100% of 6.73MiB in 00:13\n",
      "[ffmpeg] Destination: songs/vCHdH3LiUS4.wav\n",
      "Deleting original file songs/vCHdH3LiUS4.webm (pass -k to keep)\n",
      "[youtube] ewfPsCNJ4sc: Downloading webpage\n",
      "[youtube] ewfPsCNJ4sc: Downloading video info webpage\n",
      "[youtube] ewfPsCNJ4sc: Extracting video information\n",
      "[youtube] ewfPsCNJ4sc: Downloading MPD manifest\n"
     ]
    },
    {
     "name": "stderr",
     "output_type": "stream",
     "text": [
      "WARNING: \"id\" field is not a string - forcing string conversion, there is an error in extractor\n"
     ]
    },
    {
     "name": "stdout",
     "output_type": "stream",
     "text": [
      "[download] Destination: songs/ewfPsCNJ4sc.webm\n",
      "[download] 100% of 2.30MiB in 00:04\n",
      "[ffmpeg] Destination: songs/ewfPsCNJ4sc.wav\n",
      "Deleting original file songs/ewfPsCNJ4sc.webm (pass -k to keep)\n",
      "[youtube] NZkM_nOJ3d4: Downloading webpage\n",
      "[youtube] NZkM_nOJ3d4: Downloading video info webpage\n",
      "[youtube] NZkM_nOJ3d4: Extracting video information\n",
      "[youtube] NZkM_nOJ3d4: Downloading MPD manifest\n"
     ]
    },
    {
     "name": "stderr",
     "output_type": "stream",
     "text": [
      "WARNING: \"id\" field is not a string - forcing string conversion, there is an error in extractor\n"
     ]
    },
    {
     "name": "stdout",
     "output_type": "stream",
     "text": [
      "[download] Destination: songs/NZkM_nOJ3d4.webm\n",
      "[download] 100% of 3.22MiB in 00:06\n",
      "[ffmpeg] Destination: songs/NZkM_nOJ3d4.wav\n",
      "Deleting original file songs/NZkM_nOJ3d4.webm (pass -k to keep)\n",
      "[youtube] yIeucxfIEwM: Downloading webpage\n",
      "[youtube] yIeucxfIEwM: Downloading video info webpage\n",
      "[youtube] yIeucxfIEwM: Extracting video information\n",
      "[youtube] yIeucxfIEwM: Downloading MPD manifest\n"
     ]
    },
    {
     "name": "stderr",
     "output_type": "stream",
     "text": [
      "WARNING: \"id\" field is not a string - forcing string conversion, there is an error in extractor\n"
     ]
    },
    {
     "name": "stdout",
     "output_type": "stream",
     "text": [
      "[download] Destination: songs/yIeucxfIEwM.m4a\n",
      "[download] 100% of 578.28KiB in 00:01\n",
      "[ffmpeg] Correcting container in \"songs/yIeucxfIEwM.m4a\"\n",
      "[ffmpeg] Destination: songs/yIeucxfIEwM.wav\n",
      "Deleting original file songs/yIeucxfIEwM.m4a (pass -k to keep)\n",
      "[youtube] sCYgYv4zyeQ: Downloading webpage\n",
      "[youtube] sCYgYv4zyeQ: Downloading video info webpage\n",
      "[youtube] sCYgYv4zyeQ: Extracting video information\n",
      "[youtube] sCYgYv4zyeQ: Downloading MPD manifest\n"
     ]
    },
    {
     "name": "stderr",
     "output_type": "stream",
     "text": [
      "WARNING: \"id\" field is not a string - forcing string conversion, there is an error in extractor\n"
     ]
    },
    {
     "name": "stdout",
     "output_type": "stream",
     "text": [
      "[download] Destination: songs/sCYgYv4zyeQ.webm\n",
      "[download] 100% of 3.57MiB in 00:07\n",
      "[ffmpeg] Destination: songs/sCYgYv4zyeQ.wav\n",
      "Deleting original file songs/sCYgYv4zyeQ.webm (pass -k to keep)\n",
      "[youtube] DAOT-JVFuZ0: Downloading webpage\n",
      "[youtube] DAOT-JVFuZ0: Downloading video info webpage\n",
      "[youtube] DAOT-JVFuZ0: Extracting video information\n",
      "[youtube] DAOT-JVFuZ0: Downloading MPD manifest\n"
     ]
    },
    {
     "name": "stderr",
     "output_type": "stream",
     "text": [
      "WARNING: \"id\" field is not a string - forcing string conversion, there is an error in extractor\n"
     ]
    },
    {
     "name": "stdout",
     "output_type": "stream",
     "text": [
      "[download] Destination: songs/DAOT-JVFuZ0.m4a\n",
      "[download] 100% of 2.96MiB in 00:05\n",
      "[ffmpeg] Correcting container in \"songs/DAOT-JVFuZ0.m4a\"\n",
      "[ffmpeg] Destination: songs/DAOT-JVFuZ0.wav\n",
      "Deleting original file songs/DAOT-JVFuZ0.m4a (pass -k to keep)\n",
      "[youtube] 1aulfl1-ZAM: Downloading webpage\n",
      "[youtube] 1aulfl1-ZAM: Downloading video info webpage\n",
      "[youtube] 1aulfl1-ZAM: Extracting video information\n",
      "[youtube] 1aulfl1-ZAM: Downloading MPD manifest\n"
     ]
    },
    {
     "name": "stderr",
     "output_type": "stream",
     "text": [
      "WARNING: \"id\" field is not a string - forcing string conversion, there is an error in extractor\n"
     ]
    },
    {
     "name": "stdout",
     "output_type": "stream",
     "text": [
      "[download] Destination: songs/1aulfl1-ZAM.webm\n",
      "[download] 100% of 6.77MiB in 00:13\n",
      "[ffmpeg] Destination: songs/1aulfl1-ZAM.wav\n",
      "Deleting original file songs/1aulfl1-ZAM.webm (pass -k to keep)\n",
      "[youtube] cbAdQyWnSg8: Downloading webpage\n",
      "[youtube] cbAdQyWnSg8: Downloading video info webpage\n",
      "[youtube] cbAdQyWnSg8: Extracting video information\n",
      "[youtube] cbAdQyWnSg8: Downloading MPD manifest\n"
     ]
    },
    {
     "name": "stderr",
     "output_type": "stream",
     "text": [
      "WARNING: \"id\" field is not a string - forcing string conversion, there is an error in extractor\n"
     ]
    },
    {
     "name": "stdout",
     "output_type": "stream",
     "text": [
      "[download] Destination: songs/cbAdQyWnSg8.m4a\n",
      "[download] 100% of 1.80MiB in 00:03\n",
      "[ffmpeg] Correcting container in \"songs/cbAdQyWnSg8.m4a\"\n",
      "[ffmpeg] Destination: songs/cbAdQyWnSg8.wav\n",
      "Deleting original file songs/cbAdQyWnSg8.m4a (pass -k to keep)\n",
      "[youtube] hbz6f_xGqWI: Downloading webpage\n",
      "[youtube] hbz6f_xGqWI: Downloading video info webpage\n"
     ]
    },
    {
     "name": "stderr",
     "output_type": "stream",
     "text": [
      "ERROR: hbz6f_xGqWI: YouTube said: This video contains content from [Merlin] Beggars, who has blocked it in your country on copyright grounds.\n"
     ]
    },
    {
     "name": "stdout",
     "output_type": "stream",
     "text": [
      "[youtube] LQYwZdioa5o: Downloading webpage\n",
      "[youtube] LQYwZdioa5o: Downloading video info webpage\n",
      "[youtube] LQYwZdioa5o: Extracting video information\n",
      "[youtube] LQYwZdioa5o: Downloading MPD manifest\n"
     ]
    },
    {
     "name": "stderr",
     "output_type": "stream",
     "text": [
      "WARNING: \"id\" field is not a string - forcing string conversion, there is an error in extractor\n"
     ]
    },
    {
     "name": "stdout",
     "output_type": "stream",
     "text": [
      "[download] Destination: songs/LQYwZdioa5o.m4a\n",
      "[download] 100% of 5.27MiB in 00:11\n",
      "[ffmpeg] Correcting container in \"songs/LQYwZdioa5o.m4a\"\n",
      "[ffmpeg] Destination: songs/LQYwZdioa5o.wav\n",
      "Deleting original file songs/LQYwZdioa5o.m4a (pass -k to keep)\n",
      "[youtube] vqHEMuyYIb4: Downloading webpage\n",
      "[youtube] vqHEMuyYIb4: Downloading video info webpage\n",
      "[youtube] vqHEMuyYIb4: Extracting video information\n",
      "[youtube] vqHEMuyYIb4: Downloading MPD manifest\n"
     ]
    },
    {
     "name": "stderr",
     "output_type": "stream",
     "text": [
      "WARNING: \"id\" field is not a string - forcing string conversion, there is an error in extractor\n"
     ]
    },
    {
     "name": "stdout",
     "output_type": "stream",
     "text": [
      "[download] Destination: songs/vqHEMuyYIb4.webm\n",
      "[download] 100% of 3.20MiB in 00:06\n",
      "[ffmpeg] Destination: songs/vqHEMuyYIb4.wav\n",
      "Deleting original file songs/vqHEMuyYIb4.webm (pass -k to keep)\n",
      "[youtube] OnPXHmaLLeM: Downloading webpage\n",
      "[youtube] OnPXHmaLLeM: Downloading video info webpage\n",
      "[youtube] OnPXHmaLLeM: Extracting video information\n",
      "[youtube] OnPXHmaLLeM: Downloading MPD manifest\n"
     ]
    },
    {
     "name": "stderr",
     "output_type": "stream",
     "text": [
      "WARNING: \"id\" field is not a string - forcing string conversion, there is an error in extractor\n"
     ]
    },
    {
     "name": "stdout",
     "output_type": "stream",
     "text": [
      "[download] Destination: songs/OnPXHmaLLeM.webm\n",
      "[download] 100% of 3.02MiB in 00:05\n",
      "[ffmpeg] Destination: songs/OnPXHmaLLeM.wav\n",
      "Deleting original file songs/OnPXHmaLLeM.webm (pass -k to keep)\n",
      "[youtube] hhxxJILP2nQ: Downloading webpage\n",
      "[youtube] hhxxJILP2nQ: Downloading video info webpage\n",
      "[youtube] hhxxJILP2nQ: Extracting video information\n",
      "[youtube] hhxxJILP2nQ: Downloading MPD manifest\n",
      "[youtube] hhxxJILP2nQ: Downloading MPD manifest\n"
     ]
    },
    {
     "name": "stderr",
     "output_type": "stream",
     "text": [
      "WARNING: \"id\" field is not a string - forcing string conversion, there is an error in extractor\n"
     ]
    },
    {
     "name": "stdout",
     "output_type": "stream",
     "text": [
      "[dashsegments] Total fragments: 19\n",
      "[download] Destination: songs/hhxxJILP2nQ.m4a\n",
      "[download] 100% of 1.99MiB in 00:06\n",
      "[ffmpeg] Correcting container in \"songs/hhxxJILP2nQ.m4a\"\n",
      "[ffmpeg] Destination: songs/hhxxJILP2nQ.wav\n",
      "Deleting original file songs/hhxxJILP2nQ.m4a (pass -k to keep)\n",
      "[youtube] 5tBCyese4_g: Downloading webpage\n",
      "[youtube] 5tBCyese4_g: Downloading video info webpage\n",
      "[youtube] 5tBCyese4_g: Extracting video information\n",
      "[youtube] 5tBCyese4_g: Downloading MPD manifest\n"
     ]
    },
    {
     "name": "stderr",
     "output_type": "stream",
     "text": [
      "WARNING: \"id\" field is not a string - forcing string conversion, there is an error in extractor\n"
     ]
    },
    {
     "name": "stdout",
     "output_type": "stream",
     "text": [
      "[download] Destination: songs/5tBCyese4_g.webm\n",
      "[download] 100% of 3.16MiB in 00:06\n",
      "[ffmpeg] Destination: songs/5tBCyese4_g.wav\n",
      "Deleting original file songs/5tBCyese4_g.webm (pass -k to keep)\n",
      "[youtube] 09dQmeB_NgU: Downloading webpage\n",
      "[youtube] 09dQmeB_NgU: Downloading video info webpage\n",
      "[youtube] 09dQmeB_NgU: Extracting video information\n",
      "[youtube] 09dQmeB_NgU: Downloading MPD manifest\n"
     ]
    },
    {
     "name": "stderr",
     "output_type": "stream",
     "text": [
      "WARNING: \"id\" field is not a string - forcing string conversion, there is an error in extractor\n"
     ]
    },
    {
     "name": "stdout",
     "output_type": "stream",
     "text": [
      "[download] Destination: songs/09dQmeB_NgU.webm\n",
      "[download] 100% of 3.15MiB in 00:06\n",
      "[ffmpeg] Destination: songs/09dQmeB_NgU.wav\n",
      "Deleting original file songs/09dQmeB_NgU.webm (pass -k to keep)\n",
      "[youtube] PoTWu87G-KU: Downloading webpage\n",
      "[youtube] PoTWu87G-KU: Downloading video info webpage\n",
      "[youtube] PoTWu87G-KU: Extracting video information\n",
      "[youtube] PoTWu87G-KU: Downloading MPD manifest\n"
     ]
    },
    {
     "name": "stderr",
     "output_type": "stream",
     "text": [
      "WARNING: \"id\" field is not a string - forcing string conversion, there is an error in extractor\n"
     ]
    },
    {
     "name": "stdout",
     "output_type": "stream",
     "text": [
      "[download] Destination: songs/PoTWu87G-KU.webm\n",
      "[download] 100% of 3.13MiB in 00:06\n",
      "[ffmpeg] Destination: songs/PoTWu87G-KU.wav\n",
      "Deleting original file songs/PoTWu87G-KU.webm (pass -k to keep)\n",
      "[youtube] 1iAA-2P4Yy4: Downloading webpage\n",
      "[youtube] 1iAA-2P4Yy4: Downloading video info webpage\n",
      "[youtube] 1iAA-2P4Yy4: Extracting video information\n",
      "[youtube] 1iAA-2P4Yy4: Downloading MPD manifest\n"
     ]
    },
    {
     "name": "stderr",
     "output_type": "stream",
     "text": [
      "WARNING: \"id\" field is not a string - forcing string conversion, there is an error in extractor\n"
     ]
    },
    {
     "name": "stdout",
     "output_type": "stream",
     "text": [
      "[download] Destination: songs/1iAA-2P4Yy4.webm\n",
      "[download] 100% of 2.57MiB in 00:05\n",
      "[ffmpeg] Destination: songs/1iAA-2P4Yy4.wav\n",
      "Deleting original file songs/1iAA-2P4Yy4.webm (pass -k to keep)\n",
      "[youtube] K8pybU_Oq3M: Downloading webpage\n",
      "[youtube] K8pybU_Oq3M: Downloading video info webpage\n",
      "[youtube] K8pybU_Oq3M: Extracting video information\n",
      "[youtube] K8pybU_Oq3M: Downloading MPD manifest\n"
     ]
    },
    {
     "name": "stderr",
     "output_type": "stream",
     "text": [
      "WARNING: \"id\" field is not a string - forcing string conversion, there is an error in extractor\n"
     ]
    },
    {
     "name": "stdout",
     "output_type": "stream",
     "text": [
      "[download] Destination: songs/K8pybU_Oq3M.webm\n",
      "[download] 100% of 5.42MiB in 00:10\n",
      "[ffmpeg] Destination: songs/K8pybU_Oq3M.wav\n",
      "Deleting original file songs/K8pybU_Oq3M.webm (pass -k to keep)\n",
      "[youtube] -6-OQ05-B9I: Downloading webpage\n",
      "[youtube] -6-OQ05-B9I: Downloading video info webpage\n",
      "[youtube] -6-OQ05-B9I: Extracting video information\n",
      "[youtube] -6-OQ05-B9I: Downloading MPD manifest\n",
      "[youtube] -6-OQ05-B9I: Downloading MPD manifest\n"
     ]
    },
    {
     "name": "stderr",
     "output_type": "stream",
     "text": [
      "WARNING: \"id\" field is not a string - forcing string conversion, there is an error in extractor\n"
     ]
    },
    {
     "name": "stdout",
     "output_type": "stream",
     "text": [
      "[dashsegments] Total fragments: 22\n",
      "[download] Destination: songs/-6-OQ05-B9I.m4a\n",
      "[download] 100% of 3.06MiB in 00:09\n",
      "[ffmpeg] Correcting container in \"songs/-6-OQ05-B9I.m4a\"\n",
      "[ffmpeg] Destination: songs/-6-OQ05-B9I.wav\n",
      "Deleting original file songs/-6-OQ05-B9I.m4a (pass -k to keep)\n",
      "[youtube] E45n-JTnZHw: Downloading webpage\n",
      "[youtube] E45n-JTnZHw: Downloading video info webpage\n",
      "[youtube] E45n-JTnZHw: Extracting video information\n",
      "[youtube] E45n-JTnZHw: Downloading MPD manifest\n"
     ]
    },
    {
     "name": "stderr",
     "output_type": "stream",
     "text": [
      "WARNING: \"id\" field is not a string - forcing string conversion, there is an error in extractor\n"
     ]
    },
    {
     "name": "stdout",
     "output_type": "stream",
     "text": [
      "[download] Destination: songs/E45n-JTnZHw.webm\n",
      "[download] 100% of 5.09MiB in 00:10\n",
      "[ffmpeg] Destination: songs/E45n-JTnZHw.wav\n",
      "Deleting original file songs/E45n-JTnZHw.webm (pass -k to keep)\n",
      "[youtube] yz9dNhj4NHQ: Downloading webpage\n",
      "[youtube] yz9dNhj4NHQ: Downloading video info webpage\n",
      "[youtube] yz9dNhj4NHQ: Extracting video information\n",
      "[youtube] yz9dNhj4NHQ: Downloading MPD manifest\n"
     ]
    },
    {
     "name": "stderr",
     "output_type": "stream",
     "text": [
      "WARNING: \"id\" field is not a string - forcing string conversion, there is an error in extractor\n"
     ]
    },
    {
     "name": "stdout",
     "output_type": "stream",
     "text": [
      "[download] Destination: songs/yz9dNhj4NHQ.webm\n",
      "[download] 100% of 4.00MiB in 00:07\n",
      "[ffmpeg] Destination: songs/yz9dNhj4NHQ.wav\n",
      "Deleting original file songs/yz9dNhj4NHQ.webm (pass -k to keep)\n",
      "[youtube] -X3m97P-aUQ: Downloading webpage\n",
      "[youtube] -X3m97P-aUQ: Downloading video info webpage\n",
      "[youtube] -X3m97P-aUQ: Extracting video information\n",
      "[youtube] -X3m97P-aUQ: Downloading MPD manifest\n",
      "[youtube] -X3m97P-aUQ: Downloading MPD manifest\n"
     ]
    },
    {
     "name": "stderr",
     "output_type": "stream",
     "text": [
      "WARNING: \"id\" field is not a string - forcing string conversion, there is an error in extractor\n"
     ]
    },
    {
     "name": "stdout",
     "output_type": "stream",
     "text": [
      "[dashsegments] Total fragments: 26\n",
      "[download] Destination: songs/-X3m97P-aUQ.m4a\n",
      "[download] 100% of 3.67MiB in 00:11\n",
      "[ffmpeg] Correcting container in \"songs/-X3m97P-aUQ.m4a\"\n",
      "[ffmpeg] Destination: songs/-X3m97P-aUQ.wav\n",
      "Deleting original file songs/-X3m97P-aUQ.m4a (pass -k to keep)\n",
      "[youtube] D3ePCuCq0UE: Downloading webpage\n",
      "[youtube] D3ePCuCq0UE: Downloading video info webpage\n",
      "[youtube] D3ePCuCq0UE: Extracting video information\n",
      "[youtube] D3ePCuCq0UE: Downloading MPD manifest\n"
     ]
    },
    {
     "name": "stderr",
     "output_type": "stream",
     "text": [
      "WARNING: \"id\" field is not a string - forcing string conversion, there is an error in extractor\n"
     ]
    },
    {
     "name": "stdout",
     "output_type": "stream",
     "text": [
      "[download] Destination: songs/D3ePCuCq0UE.webm\n",
      "[download] 100% of 2.14MiB in 00:04\n",
      "[ffmpeg] Destination: songs/D3ePCuCq0UE.wav\n",
      "Deleting original file songs/D3ePCuCq0UE.webm (pass -k to keep)\n",
      "[youtube] yKWWyEP7Xaw: Downloading webpage\n",
      "[youtube] yKWWyEP7Xaw: Downloading video info webpage\n",
      "[youtube] yKWWyEP7Xaw: Extracting video information\n",
      "[youtube] yKWWyEP7Xaw: Downloading MPD manifest\n"
     ]
    },
    {
     "name": "stderr",
     "output_type": "stream",
     "text": [
      "WARNING: \"id\" field is not a string - forcing string conversion, there is an error in extractor\n"
     ]
    },
    {
     "name": "stdout",
     "output_type": "stream",
     "text": [
      "[download] Destination: songs/yKWWyEP7Xaw.m4a\n",
      "[download] 100% of 3.20MiB in 00:06\n",
      "[ffmpeg] Correcting container in \"songs/yKWWyEP7Xaw.m4a\"\n",
      "[ffmpeg] Destination: songs/yKWWyEP7Xaw.wav\n",
      "Deleting original file songs/yKWWyEP7Xaw.m4a (pass -k to keep)\n",
      "[youtube] YAudQcLTav4: Downloading webpage\n",
      "[youtube] YAudQcLTav4: Downloading video info webpage\n",
      "[youtube] YAudQcLTav4: Extracting video information\n",
      "[youtube] YAudQcLTav4: Downloading MPD manifest\n"
     ]
    },
    {
     "name": "stderr",
     "output_type": "stream",
     "text": [
      "WARNING: \"id\" field is not a string - forcing string conversion, there is an error in extractor\n"
     ]
    },
    {
     "name": "stdout",
     "output_type": "stream",
     "text": [
      "[download] Destination: songs/YAudQcLTav4.webm\n",
      "[download] 100% of 3.39MiB in 00:06\n",
      "[ffmpeg] Destination: songs/YAudQcLTav4.wav\n",
      "Deleting original file songs/YAudQcLTav4.webm (pass -k to keep)\n",
      "[youtube] qPIB12JewHM: Downloading webpage\n",
      "[youtube] qPIB12JewHM: Downloading video info webpage\n",
      "[youtube] qPIB12JewHM: Extracting video information\n",
      "[youtube] qPIB12JewHM: Downloading MPD manifest\n"
     ]
    },
    {
     "name": "stderr",
     "output_type": "stream",
     "text": [
      "WARNING: \"id\" field is not a string - forcing string conversion, there is an error in extractor\n"
     ]
    },
    {
     "name": "stdout",
     "output_type": "stream",
     "text": [
      "[download] Destination: songs/qPIB12JewHM.webm\n",
      "[download] 100% of 4.14MiB in 00:08\n",
      "[ffmpeg] Destination: songs/qPIB12JewHM.wav\n",
      "Deleting original file songs/qPIB12JewHM.webm (pass -k to keep)\n",
      "[youtube] HpX9nwkVPBg: Downloading webpage\n",
      "[youtube] HpX9nwkVPBg: Downloading video info webpage\n",
      "[youtube] HpX9nwkVPBg: Extracting video information\n",
      "[youtube] HpX9nwkVPBg: Downloading MPD manifest\n"
     ]
    },
    {
     "name": "stderr",
     "output_type": "stream",
     "text": [
      "WARNING: \"id\" field is not a string - forcing string conversion, there is an error in extractor\n"
     ]
    },
    {
     "name": "stdout",
     "output_type": "stream",
     "text": [
      "[download] Destination: songs/HpX9nwkVPBg.webm\n",
      "[download] 100% of 3.55MiB in 00:07\n",
      "[ffmpeg] Destination: songs/HpX9nwkVPBg.wav\n",
      "Deleting original file songs/HpX9nwkVPBg.webm (pass -k to keep)\n",
      "[youtube] GGeSy8YLot4: Downloading webpage\n",
      "[youtube] GGeSy8YLot4: Downloading video info webpage\n",
      "[youtube] GGeSy8YLot4: Extracting video information\n",
      "[youtube] GGeSy8YLot4: Downloading MPD manifest\n"
     ]
    },
    {
     "name": "stderr",
     "output_type": "stream",
     "text": [
      "WARNING: \"id\" field is not a string - forcing string conversion, there is an error in extractor\n"
     ]
    },
    {
     "name": "stdout",
     "output_type": "stream",
     "text": [
      "[download] Destination: songs/GGeSy8YLot4.m4a\n",
      "[download] 100% of 2.55MiB in 00:05\n",
      "[ffmpeg] Correcting container in \"songs/GGeSy8YLot4.m4a\"\n",
      "[ffmpeg] Destination: songs/GGeSy8YLot4.wav\n",
      "Deleting original file songs/GGeSy8YLot4.m4a (pass -k to keep)\n",
      "[youtube] c52cl5LacIk: Downloading webpage\n",
      "[youtube] c52cl5LacIk: Downloading video info webpage\n",
      "[youtube] c52cl5LacIk: Extracting video information\n",
      "[youtube] c52cl5LacIk: Downloading MPD manifest\n"
     ]
    },
    {
     "name": "stderr",
     "output_type": "stream",
     "text": [
      "WARNING: \"id\" field is not a string - forcing string conversion, there is an error in extractor\n"
     ]
    },
    {
     "name": "stdout",
     "output_type": "stream",
     "text": [
      "[download] Destination: songs/c52cl5LacIk.m4a\n",
      "[download] 100% of 1.64MiB in 00:03\n",
      "[ffmpeg] Correcting container in \"songs/c52cl5LacIk.m4a\"\n",
      "[ffmpeg] Destination: songs/c52cl5LacIk.wav\n",
      "Deleting original file songs/c52cl5LacIk.m4a (pass -k to keep)\n",
      "[youtube] gGyeuCEAyWU: Downloading webpage\n",
      "[youtube] gGyeuCEAyWU: Downloading video info webpage\n",
      "[youtube] gGyeuCEAyWU: Extracting video information\n",
      "[youtube] gGyeuCEAyWU: Downloading MPD manifest\n"
     ]
    },
    {
     "name": "stderr",
     "output_type": "stream",
     "text": [
      "WARNING: \"id\" field is not a string - forcing string conversion, there is an error in extractor\n"
     ]
    },
    {
     "name": "stdout",
     "output_type": "stream",
     "text": [
      "[download] Destination: songs/gGyeuCEAyWU.webm\n",
      "[download] 100% of 4.47MiB in 00:08\n",
      "[ffmpeg] Destination: songs/gGyeuCEAyWU.wav\n",
      "Deleting original file songs/gGyeuCEAyWU.webm (pass -k to keep)\n",
      "[youtube] MSLllQktgME: Downloading webpage\n",
      "[youtube] MSLllQktgME: Downloading video info webpage\n",
      "[youtube] MSLllQktgME: Extracting video information\n",
      "[youtube] MSLllQktgME: Downloading MPD manifest\n"
     ]
    },
    {
     "name": "stderr",
     "output_type": "stream",
     "text": [
      "WARNING: \"id\" field is not a string - forcing string conversion, there is an error in extractor\n"
     ]
    },
    {
     "name": "stdout",
     "output_type": "stream",
     "text": [
      "[download] Destination: songs/MSLllQktgME.webm\n",
      "[download] 100% of 6.10MiB in 00:12\n",
      "[ffmpeg] Destination: songs/MSLllQktgME.wav\n",
      "Deleting original file songs/MSLllQktgME.webm (pass -k to keep)\n",
      "[youtube] iRxM60JiMx0: Downloading webpage\n",
      "[youtube] iRxM60JiMx0: Downloading video info webpage\n",
      "[youtube] iRxM60JiMx0: Extracting video information\n",
      "[youtube] iRxM60JiMx0: Downloading MPD manifest\n"
     ]
    },
    {
     "name": "stderr",
     "output_type": "stream",
     "text": [
      "WARNING: \"id\" field is not a string - forcing string conversion, there is an error in extractor\n"
     ]
    },
    {
     "name": "stdout",
     "output_type": "stream",
     "text": [
      "[download] Destination: songs/iRxM60JiMx0.webm\n",
      "[download] 100% of 3.70MiB in 00:07\n",
      "[ffmpeg] Destination: songs/iRxM60JiMx0.wav\n",
      "Deleting original file songs/iRxM60JiMx0.webm (pass -k to keep)\n",
      "[youtube] COsJgTPmcQQ: Downloading webpage\n",
      "[youtube] COsJgTPmcQQ: Downloading video info webpage\n",
      "[youtube] COsJgTPmcQQ: Extracting video information\n",
      "[youtube] COsJgTPmcQQ: Downloading MPD manifest\n"
     ]
    },
    {
     "name": "stderr",
     "output_type": "stream",
     "text": [
      "WARNING: \"id\" field is not a string - forcing string conversion, there is an error in extractor\n"
     ]
    },
    {
     "name": "stdout",
     "output_type": "stream",
     "text": [
      "[download] Destination: songs/COsJgTPmcQQ.webm\n",
      "[download] 100% of 2.80MiB in 00:05\n",
      "[ffmpeg] Destination: songs/COsJgTPmcQQ.wav\n",
      "Deleting original file songs/COsJgTPmcQQ.webm (pass -k to keep)\n",
      "[youtube] ijwNFlCreLQ: Downloading webpage\n",
      "[youtube] ijwNFlCreLQ: Downloading video info webpage\n",
      "[youtube] ijwNFlCreLQ: Extracting video information\n",
      "[youtube] ijwNFlCreLQ: Downloading MPD manifest\n"
     ]
    },
    {
     "name": "stderr",
     "output_type": "stream",
     "text": [
      "WARNING: \"id\" field is not a string - forcing string conversion, there is an error in extractor\n"
     ]
    },
    {
     "name": "stdout",
     "output_type": "stream",
     "text": [
      "[download] Destination: songs/ijwNFlCreLQ.webm\n",
      "[download] 100% of 1.71MiB in 00:03\n",
      "[ffmpeg] Destination: songs/ijwNFlCreLQ.wav\n",
      "Deleting original file songs/ijwNFlCreLQ.webm (pass -k to keep)\n",
      "[youtube] joti5MaNeqs: Downloading webpage\n",
      "[youtube] joti5MaNeqs: Downloading video info webpage\n",
      "[youtube] joti5MaNeqs: Extracting video information\n",
      "[youtube] joti5MaNeqs: Downloading MPD manifest\n"
     ]
    },
    {
     "name": "stderr",
     "output_type": "stream",
     "text": [
      "WARNING: \"id\" field is not a string - forcing string conversion, there is an error in extractor\n"
     ]
    },
    {
     "name": "stdout",
     "output_type": "stream",
     "text": [
      "[download] Destination: songs/joti5MaNeqs.m4a\n",
      "[download] 100% of 4.95MiB in 00:09\n",
      "[ffmpeg] Correcting container in \"songs/joti5MaNeqs.m4a\"\n",
      "[ffmpeg] Destination: songs/joti5MaNeqs.wav\n",
      "Deleting original file songs/joti5MaNeqs.m4a (pass -k to keep)\n",
      "[youtube] LZXvLsltu2A: Downloading webpage\n",
      "[youtube] LZXvLsltu2A: Downloading video info webpage\n",
      "[youtube] LZXvLsltu2A: Extracting video information\n",
      "[youtube] LZXvLsltu2A: Downloading MPD manifest\n"
     ]
    },
    {
     "name": "stderr",
     "output_type": "stream",
     "text": [
      "WARNING: \"id\" field is not a string - forcing string conversion, there is an error in extractor\n"
     ]
    },
    {
     "name": "stdout",
     "output_type": "stream",
     "text": [
      "[download] Destination: songs/LZXvLsltu2A.webm\n",
      "[download] 100% of 2.90MiB in 00:05\n",
      "[ffmpeg] Destination: songs/LZXvLsltu2A.wav\n",
      "Deleting original file songs/LZXvLsltu2A.webm (pass -k to keep)\n",
      "[youtube] EYy8sW0tmY4: Downloading webpage\n",
      "[youtube] EYy8sW0tmY4: Downloading video info webpage\n",
      "[youtube] EYy8sW0tmY4: Extracting video information\n",
      "[youtube] EYy8sW0tmY4: Downloading MPD manifest\n"
     ]
    },
    {
     "name": "stderr",
     "output_type": "stream",
     "text": [
      "WARNING: \"id\" field is not a string - forcing string conversion, there is an error in extractor\n"
     ]
    },
    {
     "name": "stdout",
     "output_type": "stream",
     "text": [
      "[download] Destination: songs/EYy8sW0tmY4.m4a\n",
      "[download] 100% of 4.10MiB in 00:08\n",
      "[ffmpeg] Correcting container in \"songs/EYy8sW0tmY4.m4a\"\n",
      "[ffmpeg] Destination: songs/EYy8sW0tmY4.wav\n",
      "Deleting original file songs/EYy8sW0tmY4.m4a (pass -k to keep)\n",
      "[youtube] MY33gnec-1k: Downloading webpage\n",
      "[youtube] MY33gnec-1k: Downloading video info webpage\n",
      "[youtube] MY33gnec-1k: Extracting video information\n",
      "[youtube] MY33gnec-1k: Downloading MPD manifest\n",
      "[youtube] MY33gnec-1k: Downloading MPD manifest\n"
     ]
    },
    {
     "name": "stderr",
     "output_type": "stream",
     "text": [
      "WARNING: \"id\" field is not a string - forcing string conversion, there is an error in extractor\n"
     ]
    },
    {
     "name": "stdout",
     "output_type": "stream",
     "text": [
      "[dashsegments] Total fragments: 751\n",
      "[download] Destination: songs/MY33gnec-1k.m4a\n",
      "[download] 100% of 56.77MiB in 03:54\n",
      "[ffmpeg] Correcting container in \"songs/MY33gnec-1k.m4a\"\n",
      "[ffmpeg] Destination: songs/MY33gnec-1k.wav\n",
      "Deleting original file songs/MY33gnec-1k.m4a (pass -k to keep)\n",
      "[youtube] nEMRFc-TXkw: Downloading webpage\n",
      "[youtube] nEMRFc-TXkw: Downloading video info webpage\n",
      "[youtube] nEMRFc-TXkw: Extracting video information\n",
      "[youtube] nEMRFc-TXkw: Downloading MPD manifest\n"
     ]
    },
    {
     "name": "stderr",
     "output_type": "stream",
     "text": [
      "WARNING: \"id\" field is not a string - forcing string conversion, there is an error in extractor\n"
     ]
    },
    {
     "name": "stdout",
     "output_type": "stream",
     "text": [
      "[download] Destination: songs/nEMRFc-TXkw.m4a\n",
      "[download] 100% of 5.63MiB in 00:11\n",
      "[ffmpeg] Correcting container in \"songs/nEMRFc-TXkw.m4a\"\n",
      "[ffmpeg] Destination: songs/nEMRFc-TXkw.wav\n",
      "Deleting original file songs/nEMRFc-TXkw.m4a (pass -k to keep)\n",
      "[youtube] PUXDc8ysbd4: Downloading webpage\n",
      "[youtube] PUXDc8ysbd4: Downloading video info webpage\n",
      "[youtube] PUXDc8ysbd4: Extracting video information\n",
      "[youtube] PUXDc8ysbd4: Downloading MPD manifest\n"
     ]
    },
    {
     "name": "stderr",
     "output_type": "stream",
     "text": [
      "WARNING: \"id\" field is not a string - forcing string conversion, there is an error in extractor\n"
     ]
    },
    {
     "name": "stdout",
     "output_type": "stream",
     "text": [
      "[download] Destination: songs/PUXDc8ysbd4.m4a\n",
      "[download] 100% of 1.12MiB in 00:02\n",
      "[ffmpeg] Correcting container in \"songs/PUXDc8ysbd4.m4a\"\n",
      "[ffmpeg] Destination: songs/PUXDc8ysbd4.wav\n",
      "Deleting original file songs/PUXDc8ysbd4.m4a (pass -k to keep)\n",
      "[youtube] iT5CcnhRHho: Downloading webpage\n",
      "[youtube] iT5CcnhRHho: Downloading video info webpage\n",
      "[youtube] iT5CcnhRHho: Extracting video information\n",
      "[youtube] iT5CcnhRHho: Downloading MPD manifest\n"
     ]
    },
    {
     "name": "stderr",
     "output_type": "stream",
     "text": [
      "WARNING: \"id\" field is not a string - forcing string conversion, there is an error in extractor\n"
     ]
    },
    {
     "name": "stdout",
     "output_type": "stream",
     "text": [
      "[download] Destination: songs/iT5CcnhRHho.webm\n",
      "[download] 100% of 4.73MiB in 00:09\n",
      "[ffmpeg] Destination: songs/iT5CcnhRHho.wav\n",
      "Deleting original file songs/iT5CcnhRHho.webm (pass -k to keep)\n",
      "[youtube] _VlK2BOhmvU: Downloading webpage\n",
      "[youtube] _VlK2BOhmvU: Downloading video info webpage\n",
      "[youtube] _VlK2BOhmvU: Extracting video information\n",
      "[youtube] _VlK2BOhmvU: Downloading MPD manifest\n"
     ]
    },
    {
     "name": "stderr",
     "output_type": "stream",
     "text": [
      "WARNING: \"id\" field is not a string - forcing string conversion, there is an error in extractor\n"
     ]
    },
    {
     "name": "stdout",
     "output_type": "stream",
     "text": [
      "[download] Destination: songs/_VlK2BOhmvU.webm\n",
      "[download] 100% of 3.04MiB in 00:06\n",
      "[ffmpeg] Destination: songs/_VlK2BOhmvU.wav\n",
      "Deleting original file songs/_VlK2BOhmvU.webm (pass -k to keep)\n",
      "[youtube] ucJ2Be-Qjak: Downloading webpage\n",
      "[youtube] ucJ2Be-Qjak: Downloading video info webpage\n",
      "[youtube] ucJ2Be-Qjak: Extracting video information\n",
      "[youtube] ucJ2Be-Qjak: Downloading MPD manifest\n"
     ]
    },
    {
     "name": "stderr",
     "output_type": "stream",
     "text": [
      "WARNING: \"id\" field is not a string - forcing string conversion, there is an error in extractor\n"
     ]
    },
    {
     "name": "stdout",
     "output_type": "stream",
     "text": [
      "[download] Destination: songs/ucJ2Be-Qjak.m4a\n",
      "[download] 100% of 2.62MiB in 00:05\n",
      "[ffmpeg] Correcting container in \"songs/ucJ2Be-Qjak.m4a\"\n",
      "[ffmpeg] Destination: songs/ucJ2Be-Qjak.wav\n",
      "Deleting original file songs/ucJ2Be-Qjak.m4a (pass -k to keep)\n",
      "[youtube] 5rOQCR7ZtDg: Downloading webpage\n",
      "[youtube] 5rOQCR7ZtDg: Downloading video info webpage\n",
      "[youtube] 5rOQCR7ZtDg: Extracting video information\n",
      "[youtube] 5rOQCR7ZtDg: Downloading MPD manifest\n"
     ]
    },
    {
     "name": "stderr",
     "output_type": "stream",
     "text": [
      "WARNING: \"id\" field is not a string - forcing string conversion, there is an error in extractor\n"
     ]
    },
    {
     "name": "stdout",
     "output_type": "stream",
     "text": [
      "[download] Destination: songs/5rOQCR7ZtDg.webm\n",
      "[download] 100% of 3.92MiB in 00:07\n",
      "[ffmpeg] Destination: songs/5rOQCR7ZtDg.wav\n",
      "Deleting original file songs/5rOQCR7ZtDg.webm (pass -k to keep)\n",
      "[youtube] OQnvS8evOw0: Downloading webpage\n",
      "[youtube] OQnvS8evOw0: Downloading video info webpage\n",
      "[youtube] OQnvS8evOw0: Extracting video information\n",
      "[youtube] OQnvS8evOw0: Downloading MPD manifest\n",
      "[youtube] OQnvS8evOw0: Downloading MPD manifest\n"
     ]
    },
    {
     "name": "stderr",
     "output_type": "stream",
     "text": [
      "WARNING: \"id\" field is not a string - forcing string conversion, there is an error in extractor\n"
     ]
    },
    {
     "name": "stdout",
     "output_type": "stream",
     "text": [
      "[dashsegments] Total fragments: 14\n",
      "[download] Destination: songs/OQnvS8evOw0.m4a\n",
      "[download] 100% of 1.97MiB in 00:06\n",
      "[ffmpeg] Correcting container in \"songs/OQnvS8evOw0.m4a\"\n",
      "[ffmpeg] Destination: songs/OQnvS8evOw0.wav\n",
      "Deleting original file songs/OQnvS8evOw0.m4a (pass -k to keep)\n",
      "[youtube] O7Ojzd7sC0c: Downloading webpage\n",
      "[youtube] O7Ojzd7sC0c: Downloading video info webpage\n",
      "[youtube] O7Ojzd7sC0c: Extracting video information\n",
      "[youtube] O7Ojzd7sC0c: Downloading MPD manifest\n"
     ]
    },
    {
     "name": "stderr",
     "output_type": "stream",
     "text": [
      "WARNING: \"id\" field is not a string - forcing string conversion, there is an error in extractor\n"
     ]
    },
    {
     "name": "stdout",
     "output_type": "stream",
     "text": [
      "[download] Destination: songs/O7Ojzd7sC0c.webm\n",
      "[download] 100% of 9.41MiB in 00:18\n",
      "[ffmpeg] Destination: songs/O7Ojzd7sC0c.wav\n",
      "Deleting original file songs/O7Ojzd7sC0c.webm (pass -k to keep)\n",
      "[youtube] dYdiaReSJwQ: Downloading webpage\n",
      "[youtube] dYdiaReSJwQ: Downloading video info webpage\n",
      "[youtube] dYdiaReSJwQ: Extracting video information\n",
      "[youtube] dYdiaReSJwQ: Downloading MPD manifest\n"
     ]
    },
    {
     "name": "stderr",
     "output_type": "stream",
     "text": [
      "WARNING: \"id\" field is not a string - forcing string conversion, there is an error in extractor\n"
     ]
    },
    {
     "name": "stdout",
     "output_type": "stream",
     "text": [
      "[download] Destination: songs/dYdiaReSJwQ.webm\n",
      "[download] 100% of 4.38MiB in 00:09\n",
      "[ffmpeg] Destination: songs/dYdiaReSJwQ.wav\n",
      "Deleting original file songs/dYdiaReSJwQ.webm (pass -k to keep)\n",
      "[youtube] ROXKsoS1FEM: Downloading webpage\n",
      "[youtube] ROXKsoS1FEM: Downloading video info webpage\n",
      "[youtube] ROXKsoS1FEM: Extracting video information\n",
      "[youtube] ROXKsoS1FEM: Downloading MPD manifest\n"
     ]
    },
    {
     "name": "stderr",
     "output_type": "stream",
     "text": [
      "WARNING: \"id\" field is not a string - forcing string conversion, there is an error in extractor\n"
     ]
    },
    {
     "name": "stdout",
     "output_type": "stream",
     "text": [
      "[download] Destination: songs/ROXKsoS1FEM.webm\n",
      "[download] 100% of 3.60MiB in 00:07\n",
      "[ffmpeg] Destination: songs/ROXKsoS1FEM.wav\n",
      "Deleting original file songs/ROXKsoS1FEM.webm (pass -k to keep)\n",
      "[youtube] JGT8w_d7BN0: Downloading webpage\n",
      "[youtube] JGT8w_d7BN0: Downloading video info webpage\n",
      "[youtube] JGT8w_d7BN0: Extracting video information\n",
      "[youtube] JGT8w_d7BN0: Downloading MPD manifest\n"
     ]
    },
    {
     "name": "stderr",
     "output_type": "stream",
     "text": [
      "WARNING: \"id\" field is not a string - forcing string conversion, there is an error in extractor\n"
     ]
    },
    {
     "name": "stdout",
     "output_type": "stream",
     "text": [
      "[download] Destination: songs/JGT8w_d7BN0.webm\n",
      "[download] 100% of 2.37MiB in 00:04\n",
      "[ffmpeg] Destination: songs/JGT8w_d7BN0.wav\n",
      "Deleting original file songs/JGT8w_d7BN0.webm (pass -k to keep)\n",
      "[youtube] Fn0NM2NbyYY: Downloading webpage\n",
      "[youtube] Fn0NM2NbyYY: Downloading video info webpage\n",
      "[youtube] Fn0NM2NbyYY: Extracting video information\n",
      "[youtube] Fn0NM2NbyYY: Downloading MPD manifest\n",
      "[youtube] Fn0NM2NbyYY: Downloading MPD manifest\n"
     ]
    },
    {
     "name": "stderr",
     "output_type": "stream",
     "text": [
      "WARNING: \"id\" field is not a string - forcing string conversion, there is an error in extractor\n"
     ]
    },
    {
     "name": "stdout",
     "output_type": "stream",
     "text": [
      "[dashsegments] Total fragments: 15\n",
      "[download] Destination: songs/Fn0NM2NbyYY.m4a\n",
      "[download] 100% of 2.10MiB in 00:09\n",
      "[ffmpeg] Correcting container in \"songs/Fn0NM2NbyYY.m4a\"\n",
      "[ffmpeg] Destination: songs/Fn0NM2NbyYY.wav\n",
      "Deleting original file songs/Fn0NM2NbyYY.m4a (pass -k to keep)\n",
      "[youtube] -0i_XraDT9I: Downloading webpage\n",
      "[youtube] -0i_XraDT9I: Downloading video info webpage\n",
      "[youtube] -0i_XraDT9I: Extracting video information\n",
      "[youtube] -0i_XraDT9I: Downloading MPD manifest\n"
     ]
    },
    {
     "name": "stderr",
     "output_type": "stream",
     "text": [
      "WARNING: \"id\" field is not a string - forcing string conversion, there is an error in extractor\n"
     ]
    },
    {
     "name": "stdout",
     "output_type": "stream",
     "text": [
      "[download] Destination: songs/-0i_XraDT9I.webm\n",
      "[download] 100% of 3.21MiB in 00:06\n",
      "[ffmpeg] Destination: songs/-0i_XraDT9I.wav\n",
      "Deleting original file songs/-0i_XraDT9I.webm (pass -k to keep)\n",
      "[youtube] 5V_A9NXSRTw: Downloading webpage\n",
      "[youtube] 5V_A9NXSRTw: Downloading video info webpage\n",
      "[youtube] 5V_A9NXSRTw: Extracting video information\n",
      "[youtube] 5V_A9NXSRTw: Downloading MPD manifest\n"
     ]
    },
    {
     "name": "stderr",
     "output_type": "stream",
     "text": [
      "WARNING: \"id\" field is not a string - forcing string conversion, there is an error in extractor\n"
     ]
    },
    {
     "name": "stdout",
     "output_type": "stream",
     "text": [
      "[download] Destination: songs/5V_A9NXSRTw.webm\n",
      "[download] 100% of 2.53MiB in 00:04\n",
      "[ffmpeg] Destination: songs/5V_A9NXSRTw.wav\n",
      "Deleting original file songs/5V_A9NXSRTw.webm (pass -k to keep)\n",
      "[youtube] eeXwZ0rjjFQ: Downloading webpage\n",
      "[youtube] eeXwZ0rjjFQ: Downloading video info webpage\n",
      "[youtube] eeXwZ0rjjFQ: Extracting video information\n",
      "[youtube] eeXwZ0rjjFQ: Downloading MPD manifest\n"
     ]
    },
    {
     "name": "stderr",
     "output_type": "stream",
     "text": [
      "WARNING: \"id\" field is not a string - forcing string conversion, there is an error in extractor\n"
     ]
    },
    {
     "name": "stdout",
     "output_type": "stream",
     "text": [
      "[download] Destination: songs/eeXwZ0rjjFQ.m4a\n",
      "[download] 100% of 3.50MiB in 00:06\n",
      "[ffmpeg] Correcting container in \"songs/eeXwZ0rjjFQ.m4a\"\n",
      "[ffmpeg] Destination: songs/eeXwZ0rjjFQ.wav\n",
      "Deleting original file songs/eeXwZ0rjjFQ.m4a (pass -k to keep)\n",
      "[youtube] SGID3j6hC9A: Downloading webpage\n",
      "[youtube] SGID3j6hC9A: Downloading video info webpage\n",
      "[youtube] SGID3j6hC9A: Extracting video information\n",
      "[youtube] SGID3j6hC9A: Downloading MPD manifest\n"
     ]
    },
    {
     "name": "stderr",
     "output_type": "stream",
     "text": [
      "WARNING: \"id\" field is not a string - forcing string conversion, there is an error in extractor\n"
     ]
    },
    {
     "name": "stdout",
     "output_type": "stream",
     "text": [
      "[download] Destination: songs/SGID3j6hC9A.webm\n",
      "[download] 100% of 4.75MiB in 00:09\n",
      "[ffmpeg] Destination: songs/SGID3j6hC9A.wav\n",
      "Deleting original file songs/SGID3j6hC9A.webm (pass -k to keep)\n",
      "[youtube] PD66M73zmXw: Downloading webpage\n",
      "[youtube] PD66M73zmXw: Downloading video info webpage\n",
      "[youtube] PD66M73zmXw: Extracting video information\n",
      "[youtube] PD66M73zmXw: Downloading MPD manifest\n"
     ]
    },
    {
     "name": "stderr",
     "output_type": "stream",
     "text": [
      "WARNING: \"id\" field is not a string - forcing string conversion, there is an error in extractor\n"
     ]
    },
    {
     "name": "stdout",
     "output_type": "stream",
     "text": [
      "[download] Destination: songs/PD66M73zmXw.webm\n",
      "[download] 100% of 1.95MiB in 00:03\n",
      "[ffmpeg] Destination: songs/PD66M73zmXw.wav\n",
      "Deleting original file songs/PD66M73zmXw.webm (pass -k to keep)\n",
      "[youtube] 3oKvTEZ68tg: Downloading webpage\n",
      "[youtube] 3oKvTEZ68tg: Downloading video info webpage\n",
      "[youtube] 3oKvTEZ68tg: Extracting video information\n",
      "[youtube] 3oKvTEZ68tg: Downloading MPD manifest\n"
     ]
    },
    {
     "name": "stderr",
     "output_type": "stream",
     "text": [
      "WARNING: \"id\" field is not a string - forcing string conversion, there is an error in extractor\n"
     ]
    },
    {
     "name": "stdout",
     "output_type": "stream",
     "text": [
      "[download] Destination: songs/3oKvTEZ68tg.m4a\n",
      "[download] 100% of 3.91MiB in 00:07\n",
      "[ffmpeg] Correcting container in \"songs/3oKvTEZ68tg.m4a\"\n",
      "[ffmpeg] Destination: songs/3oKvTEZ68tg.wav\n",
      "Deleting original file songs/3oKvTEZ68tg.m4a (pass -k to keep)\n",
      "[youtube] hyjV9hDNRvQ: Downloading webpage\n",
      "[youtube] hyjV9hDNRvQ: Downloading video info webpage\n",
      "[youtube] hyjV9hDNRvQ: Extracting video information\n",
      "[youtube] hyjV9hDNRvQ: Downloading MPD manifest\n"
     ]
    },
    {
     "name": "stderr",
     "output_type": "stream",
     "text": [
      "WARNING: \"id\" field is not a string - forcing string conversion, there is an error in extractor\n"
     ]
    },
    {
     "name": "stdout",
     "output_type": "stream",
     "text": [
      "[download] Destination: songs/hyjV9hDNRvQ.m4a\n",
      "[download] 100% of 3.63MiB in 00:07\n",
      "[ffmpeg] Correcting container in \"songs/hyjV9hDNRvQ.m4a\"\n",
      "[ffmpeg] Destination: songs/hyjV9hDNRvQ.wav\n",
      "Deleting original file songs/hyjV9hDNRvQ.m4a (pass -k to keep)\n",
      "[youtube] aqifI2285NU: Downloading webpage\n",
      "[youtube] aqifI2285NU: Downloading video info webpage\n",
      "[youtube] aqifI2285NU: Extracting video information\n",
      "[youtube] aqifI2285NU: Downloading MPD manifest\n"
     ]
    },
    {
     "name": "stderr",
     "output_type": "stream",
     "text": [
      "WARNING: \"id\" field is not a string - forcing string conversion, there is an error in extractor\n"
     ]
    },
    {
     "name": "stdout",
     "output_type": "stream",
     "text": [
      "[download] Destination: songs/aqifI2285NU.webm\n",
      "[download] 100% of 9.68MiB in 00:22\n",
      "[ffmpeg] Destination: songs/aqifI2285NU.wav\n",
      "Deleting original file songs/aqifI2285NU.webm (pass -k to keep)\n",
      "[youtube] r21ynktU0Kw: Downloading webpage\n",
      "[youtube] r21ynktU0Kw: Downloading video info webpage\n",
      "[youtube] r21ynktU0Kw: Extracting video information\n",
      "[youtube] r21ynktU0Kw: Downloading MPD manifest\n",
      "[youtube] r21ynktU0Kw: Downloading MPD manifest\n"
     ]
    },
    {
     "name": "stderr",
     "output_type": "stream",
     "text": [
      "WARNING: \"id\" field is not a string - forcing string conversion, there is an error in extractor\n"
     ]
    },
    {
     "name": "stdout",
     "output_type": "stream",
     "text": [
      "[dashsegments] Total fragments: 29\n",
      "[download] Destination: songs/r21ynktU0Kw.m4a\n",
      "[download] 100% of 2.06MiB in 00:08\n",
      "[ffmpeg] Correcting container in \"songs/r21ynktU0Kw.m4a\"\n",
      "[ffmpeg] Destination: songs/r21ynktU0Kw.wav\n",
      "Deleting original file songs/r21ynktU0Kw.m4a (pass -k to keep)\n",
      "[youtube] CxBM-2lm7VI: Downloading webpage\n",
      "[youtube] CxBM-2lm7VI: Downloading video info webpage\n",
      "[youtube] CxBM-2lm7VI: Extracting video information\n",
      "[youtube] CxBM-2lm7VI: Downloading MPD manifest\n"
     ]
    },
    {
     "name": "stderr",
     "output_type": "stream",
     "text": [
      "WARNING: \"id\" field is not a string - forcing string conversion, there is an error in extractor\n"
     ]
    },
    {
     "name": "stdout",
     "output_type": "stream",
     "text": [
      "[download] Destination: songs/CxBM-2lm7VI.webm\n",
      "[download] 100% of 4.24MiB in 00:08\n",
      "[ffmpeg] Destination: songs/CxBM-2lm7VI.wav\n",
      "Deleting original file songs/CxBM-2lm7VI.webm (pass -k to keep)\n",
      "[youtube] veNzNPl23bg: Downloading webpage\n",
      "[youtube] veNzNPl23bg: Downloading video info webpage\n",
      "[youtube] veNzNPl23bg: Extracting video information\n",
      "[youtube] veNzNPl23bg: Downloading MPD manifest\n",
      "[youtube] veNzNPl23bg: Downloading MPD manifest\n"
     ]
    },
    {
     "name": "stderr",
     "output_type": "stream",
     "text": [
      "WARNING: \"id\" field is not a string - forcing string conversion, there is an error in extractor\n"
     ]
    },
    {
     "name": "stdout",
     "output_type": "stream",
     "text": [
      "[dashsegments] Total fragments: 41\n",
      "[download] Destination: songs/veNzNPl23bg.m4a\n",
      "[download] 100% of 5.99MiB in 00:18\n",
      "[ffmpeg] Correcting container in \"songs/veNzNPl23bg.m4a\"\n",
      "[ffmpeg] Destination: songs/veNzNPl23bg.wav\n",
      "Deleting original file songs/veNzNPl23bg.m4a (pass -k to keep)\n",
      "[youtube] fwoyJVgcVLs: Downloading webpage\n",
      "[youtube] fwoyJVgcVLs: Downloading video info webpage\n",
      "[youtube] fwoyJVgcVLs: Extracting video information\n",
      "[youtube] fwoyJVgcVLs: Downloading MPD manifest\n",
      "[youtube] fwoyJVgcVLs: Downloading MPD manifest\n"
     ]
    },
    {
     "name": "stderr",
     "output_type": "stream",
     "text": [
      "WARNING: \"id\" field is not a string - forcing string conversion, there is an error in extractor\n"
     ]
    },
    {
     "name": "stdout",
     "output_type": "stream",
     "text": [
      "[dashsegments] Total fragments: 21\n",
      "[download] Destination: songs/fwoyJVgcVLs.m4a\n",
      "[download] 100% of 2.97MiB in 00:09\n",
      "[ffmpeg] Correcting container in \"songs/fwoyJVgcVLs.m4a\"\n",
      "[ffmpeg] Destination: songs/fwoyJVgcVLs.wav\n",
      "Deleting original file songs/fwoyJVgcVLs.m4a (pass -k to keep)\n",
      "[youtube] _P7f9Qb9KuA: Downloading webpage\n",
      "[youtube] _P7f9Qb9KuA: Downloading video info webpage\n",
      "[youtube] _P7f9Qb9KuA: Extracting video information\n",
      "[youtube] _P7f9Qb9KuA: Downloading MPD manifest\n"
     ]
    },
    {
     "name": "stderr",
     "output_type": "stream",
     "text": [
      "WARNING: \"id\" field is not a string - forcing string conversion, there is an error in extractor\n"
     ]
    },
    {
     "name": "stdout",
     "output_type": "stream",
     "text": [
      "[download] Destination: songs/_P7f9Qb9KuA.webm\n",
      "[download] 100% of 3.44MiB in 00:06\n",
      "[ffmpeg] Destination: songs/_P7f9Qb9KuA.wav\n",
      "Deleting original file songs/_P7f9Qb9KuA.webm (pass -k to keep)\n",
      "[youtube] GwdzDng0rng: Downloading webpage\n",
      "[youtube] GwdzDng0rng: Downloading video info webpage\n",
      "[youtube] GwdzDng0rng: Extracting video information\n",
      "[youtube] GwdzDng0rng: Downloading MPD manifest\n"
     ]
    },
    {
     "name": "stderr",
     "output_type": "stream",
     "text": [
      "WARNING: \"id\" field is not a string - forcing string conversion, there is an error in extractor\n"
     ]
    },
    {
     "name": "stdout",
     "output_type": "stream",
     "text": [
      "[download] Destination: songs/GwdzDng0rng.webm\n",
      "[download] 100% of 7.91MiB in 00:15\n",
      "[ffmpeg] Destination: songs/GwdzDng0rng.wav\n",
      "Deleting original file songs/GwdzDng0rng.webm (pass -k to keep)\n",
      "[youtube] E9s8f7L2aMU: Downloading webpage\n",
      "[youtube] E9s8f7L2aMU: Downloading video info webpage\n",
      "[youtube] E9s8f7L2aMU: Extracting video information\n",
      "[youtube] E9s8f7L2aMU: Downloading MPD manifest\n"
     ]
    },
    {
     "name": "stderr",
     "output_type": "stream",
     "text": [
      "WARNING: \"id\" field is not a string - forcing string conversion, there is an error in extractor\n"
     ]
    },
    {
     "name": "stdout",
     "output_type": "stream",
     "text": [
      "[download] Destination: songs/E9s8f7L2aMU.webm\n",
      "[download] 100% of 4.34MiB in 00:08\n",
      "[ffmpeg] Destination: songs/E9s8f7L2aMU.wav\n",
      "Deleting original file songs/E9s8f7L2aMU.webm (pass -k to keep)\n",
      "[youtube] oignkHslttU: Downloading webpage\n",
      "[youtube] oignkHslttU: Downloading video info webpage\n",
      "[youtube] oignkHslttU: Extracting video information\n",
      "[youtube] oignkHslttU: Downloading MPD manifest\n",
      "[youtube] oignkHslttU: Downloading MPD manifest\n"
     ]
    },
    {
     "name": "stderr",
     "output_type": "stream",
     "text": [
      "WARNING: \"id\" field is not a string - forcing string conversion, there is an error in extractor\n"
     ]
    },
    {
     "name": "stdout",
     "output_type": "stream",
     "text": [
      "[dashsegments] Total fragments: 25\n",
      "[download] Destination: songs/oignkHslttU.m4a\n",
      "[download] 100% of 3.62MiB in 00:11\n",
      "[ffmpeg] Correcting container in \"songs/oignkHslttU.m4a\"\n",
      "[ffmpeg] Destination: songs/oignkHslttU.wav\n",
      "Deleting original file songs/oignkHslttU.m4a (pass -k to keep)\n",
      "[youtube] C6nEsU3Pj44: Downloading webpage\n",
      "[youtube] C6nEsU3Pj44: Downloading video info webpage\n",
      "[youtube] C6nEsU3Pj44: Extracting video information\n",
      "[youtube] C6nEsU3Pj44: Downloading MPD manifest\n"
     ]
    },
    {
     "name": "stderr",
     "output_type": "stream",
     "text": [
      "WARNING: \"id\" field is not a string - forcing string conversion, there is an error in extractor\n"
     ]
    },
    {
     "name": "stdout",
     "output_type": "stream",
     "text": [
      "[download] Destination: songs/C6nEsU3Pj44.m4a\n",
      "[download] 100% of 247.50KiB in 00:00\n",
      "[ffmpeg] Correcting container in \"songs/C6nEsU3Pj44.m4a\"\n",
      "[ffmpeg] Destination: songs/C6nEsU3Pj44.wav\n",
      "Deleting original file songs/C6nEsU3Pj44.m4a (pass -k to keep)\n",
      "[youtube] MNzh9NNZo7Y: Downloading webpage\n",
      "[youtube] MNzh9NNZo7Y: Downloading video info webpage\n",
      "[youtube] MNzh9NNZo7Y: Extracting video information\n",
      "[youtube] MNzh9NNZo7Y: Downloading MPD manifest\n"
     ]
    },
    {
     "name": "stderr",
     "output_type": "stream",
     "text": [
      "WARNING: \"id\" field is not a string - forcing string conversion, there is an error in extractor\n"
     ]
    },
    {
     "name": "stdout",
     "output_type": "stream",
     "text": [
      "[download] Destination: songs/MNzh9NNZo7Y.webm\n",
      "[download] 100% of 1.18MiB in 00:02\n",
      "[ffmpeg] Destination: songs/MNzh9NNZo7Y.wav\n",
      "Deleting original file songs/MNzh9NNZo7Y.webm (pass -k to keep)\n",
      "[youtube] eoIJdsKCOZA: Downloading webpage\n",
      "[youtube] eoIJdsKCOZA: Downloading video info webpage\n",
      "[youtube] eoIJdsKCOZA: Extracting video information\n",
      "[youtube] eoIJdsKCOZA: Downloading MPD manifest\n"
     ]
    },
    {
     "name": "stderr",
     "output_type": "stream",
     "text": [
      "WARNING: \"id\" field is not a string - forcing string conversion, there is an error in extractor\n"
     ]
    },
    {
     "name": "stdout",
     "output_type": "stream",
     "text": [
      "[download] Destination: songs/eoIJdsKCOZA.m4a\n",
      "[download] 100% of 3.34MiB in 00:06\n",
      "[ffmpeg] Correcting container in \"songs/eoIJdsKCOZA.m4a\"\n",
      "[ffmpeg] Destination: songs/eoIJdsKCOZA.wav\n",
      "Deleting original file songs/eoIJdsKCOZA.m4a (pass -k to keep)\n",
      "[youtube] Fi66fs7xRoc: Downloading webpage\n",
      "[youtube] Fi66fs7xRoc: Downloading video info webpage\n",
      "[youtube] Fi66fs7xRoc: Extracting video information\n",
      "[youtube] Fi66fs7xRoc: Downloading MPD manifest\n"
     ]
    },
    {
     "name": "stderr",
     "output_type": "stream",
     "text": [
      "WARNING: \"id\" field is not a string - forcing string conversion, there is an error in extractor\n"
     ]
    },
    {
     "name": "stdout",
     "output_type": "stream",
     "text": [
      "[download] Destination: songs/Fi66fs7xRoc.webm\n",
      "[download] 100% of 3.70MiB in 00:07\n",
      "[ffmpeg] Destination: songs/Fi66fs7xRoc.wav\n",
      "Deleting original file songs/Fi66fs7xRoc.webm (pass -k to keep)\n",
      "[youtube] 38K4Ud2TW0U: Downloading webpage\n",
      "[youtube] 38K4Ud2TW0U: Downloading video info webpage\n",
      "[youtube] 38K4Ud2TW0U: Extracting video information\n",
      "[youtube] 38K4Ud2TW0U: Downloading MPD manifest\n",
      "[youtube] 38K4Ud2TW0U: Downloading MPD manifest\n"
     ]
    },
    {
     "name": "stderr",
     "output_type": "stream",
     "text": [
      "WARNING: \"id\" field is not a string - forcing string conversion, there is an error in extractor\n"
     ]
    },
    {
     "name": "stdout",
     "output_type": "stream",
     "text": [
      "[dashsegments] Total fragments: 23\n",
      "[download] Destination: songs/38K4Ud2TW0U.m4a\n",
      "[download] 100% of 3.22MiB in 00:10\n",
      "[ffmpeg] Correcting container in \"songs/38K4Ud2TW0U.m4a\"\n",
      "[ffmpeg] Destination: songs/38K4Ud2TW0U.wav\n",
      "Deleting original file songs/38K4Ud2TW0U.m4a (pass -k to keep)\n",
      "[youtube] qZRpT4zjTHs: Downloading webpage\n",
      "[youtube] qZRpT4zjTHs: Downloading video info webpage\n",
      "[youtube] qZRpT4zjTHs: Extracting video information\n",
      "[youtube] qZRpT4zjTHs: Downloading MPD manifest\n",
      "[youtube] qZRpT4zjTHs: Downloading MPD manifest\n"
     ]
    },
    {
     "name": "stderr",
     "output_type": "stream",
     "text": [
      "WARNING: \"id\" field is not a string - forcing string conversion, there is an error in extractor\n"
     ]
    },
    {
     "name": "stdout",
     "output_type": "stream",
     "text": [
      "[dashsegments] Total fragments: 29\n",
      "[download] Destination: songs/qZRpT4zjTHs.m4a\n",
      "[download] 100% of 3.06MiB in 00:10\n",
      "[ffmpeg] Correcting container in \"songs/qZRpT4zjTHs.m4a\"\n",
      "[ffmpeg] Destination: songs/qZRpT4zjTHs.wav\n",
      "Deleting original file songs/qZRpT4zjTHs.m4a (pass -k to keep)\n",
      "[youtube] BVU61OlayM8: Downloading webpage\n",
      "[youtube] BVU61OlayM8: Downloading video info webpage\n",
      "[youtube] BVU61OlayM8: Extracting video information\n",
      "[youtube] BVU61OlayM8: Downloading MPD manifest\n"
     ]
    },
    {
     "name": "stderr",
     "output_type": "stream",
     "text": [
      "WARNING: \"id\" field is not a string - forcing string conversion, there is an error in extractor\n"
     ]
    },
    {
     "name": "stdout",
     "output_type": "stream",
     "text": [
      "[download] Destination: songs/BVU61OlayM8.webm\n",
      "[download] 100% of 2.72MiB in 00:05\n",
      "[ffmpeg] Destination: songs/BVU61OlayM8.wav\n",
      "Deleting original file songs/BVU61OlayM8.webm (pass -k to keep)\n",
      "[youtube] 9PQtj3k8b10: Downloading webpage\n",
      "[youtube] 9PQtj3k8b10: Downloading video info webpage\n",
      "[youtube] 9PQtj3k8b10: Extracting video information\n",
      "[youtube] 9PQtj3k8b10: Downloading MPD manifest\n"
     ]
    },
    {
     "name": "stderr",
     "output_type": "stream",
     "text": [
      "WARNING: \"id\" field is not a string - forcing string conversion, there is an error in extractor\n"
     ]
    },
    {
     "name": "stdout",
     "output_type": "stream",
     "text": [
      "[download] Destination: songs/9PQtj3k8b10.m4a\n",
      "[download] 100% of 2.27MiB in 00:04\n",
      "[ffmpeg] Correcting container in \"songs/9PQtj3k8b10.m4a\"\n",
      "[ffmpeg] Destination: songs/9PQtj3k8b10.wav\n",
      "Deleting original file songs/9PQtj3k8b10.m4a (pass -k to keep)\n",
      "[youtube] 4XVNvLqNK3A: Downloading webpage\n",
      "[youtube] 4XVNvLqNK3A: Downloading video info webpage\n",
      "[youtube] 4XVNvLqNK3A: Extracting video information\n",
      "[youtube] 4XVNvLqNK3A: Downloading MPD manifest\n",
      "[youtube] 4XVNvLqNK3A: Downloading MPD manifest\n"
     ]
    },
    {
     "name": "stderr",
     "output_type": "stream",
     "text": [
      "WARNING: \"id\" field is not a string - forcing string conversion, there is an error in extractor\n"
     ]
    },
    {
     "name": "stdout",
     "output_type": "stream",
     "text": [
      "[dashsegments] Total fragments: 31\n",
      "[download] Destination: songs/4XVNvLqNK3A.m4a\n",
      "[download] 100% of 3.32MiB in 00:11\n",
      "[ffmpeg] Correcting container in \"songs/4XVNvLqNK3A.m4a\"\n",
      "[ffmpeg] Destination: songs/4XVNvLqNK3A.wav\n",
      "Deleting original file songs/4XVNvLqNK3A.m4a (pass -k to keep)\n",
      "[youtube] TbiX3SIJzbE: Downloading webpage\n",
      "[youtube] TbiX3SIJzbE: Downloading video info webpage\n",
      "[youtube] TbiX3SIJzbE: Extracting video information\n",
      "[youtube] TbiX3SIJzbE: Downloading MPD manifest\n"
     ]
    },
    {
     "name": "stderr",
     "output_type": "stream",
     "text": [
      "WARNING: \"id\" field is not a string - forcing string conversion, there is an error in extractor\n"
     ]
    },
    {
     "name": "stdout",
     "output_type": "stream",
     "text": [
      "[download] Destination: songs/TbiX3SIJzbE.webm\n",
      "[download] 100% of 2.86MiB in 00:05\n",
      "[ffmpeg] Destination: songs/TbiX3SIJzbE.wav\n",
      "Deleting original file songs/TbiX3SIJzbE.webm (pass -k to keep)\n",
      "[youtube] 7UqLJf4BO0w: Downloading webpage\n",
      "[youtube] 7UqLJf4BO0w: Downloading video info webpage\n",
      "[youtube] 7UqLJf4BO0w: Extracting video information\n",
      "[youtube] 7UqLJf4BO0w: Downloading MPD manifest\n"
     ]
    },
    {
     "name": "stderr",
     "output_type": "stream",
     "text": [
      "WARNING: \"id\" field is not a string - forcing string conversion, there is an error in extractor\n"
     ]
    },
    {
     "name": "stdout",
     "output_type": "stream",
     "text": [
      "[download] Destination: songs/7UqLJf4BO0w.webm\n",
      "[download] 100% of 1.34MiB in 00:02\n",
      "[ffmpeg] Destination: songs/7UqLJf4BO0w.wav\n",
      "Deleting original file songs/7UqLJf4BO0w.webm (pass -k to keep)\n",
      "[youtube] 64h--vI9mkU: Downloading webpage\n",
      "[youtube] 64h--vI9mkU: Downloading video info webpage\n",
      "[youtube] 64h--vI9mkU: Extracting video information\n",
      "[youtube] 64h--vI9mkU: Downloading MPD manifest\n",
      "[youtube] 64h--vI9mkU: Downloading MPD manifest\n"
     ]
    },
    {
     "name": "stderr",
     "output_type": "stream",
     "text": [
      "WARNING: \"id\" field is not a string - forcing string conversion, there is an error in extractor\n"
     ]
    },
    {
     "name": "stdout",
     "output_type": "stream",
     "text": [
      "[dashsegments] Total fragments: 25\n",
      "[download] Destination: songs/64h--vI9mkU.m4a\n",
      "[download] 100% of 2.63MiB in 00:09\n",
      "[ffmpeg] Correcting container in \"songs/64h--vI9mkU.m4a\"\n",
      "[ffmpeg] Destination: songs/64h--vI9mkU.wav\n",
      "Deleting original file songs/64h--vI9mkU.m4a (pass -k to keep)\n",
      "[youtube] G333Is7VPOg: Downloading webpage\n",
      "[youtube] G333Is7VPOg: Downloading video info webpage\n",
      "[youtube] G333Is7VPOg: Extracting video information\n",
      "[youtube] G333Is7VPOg: Downloading MPD manifest\n"
     ]
    },
    {
     "name": "stderr",
     "output_type": "stream",
     "text": [
      "WARNING: \"id\" field is not a string - forcing string conversion, there is an error in extractor\n"
     ]
    },
    {
     "name": "stdout",
     "output_type": "stream",
     "text": [
      "[download] Destination: songs/G333Is7VPOg.webm\n",
      "[download] 100% of 4.81MiB in 00:09\n",
      "[ffmpeg] Destination: songs/G333Is7VPOg.wav\n",
      "Deleting original file songs/G333Is7VPOg.webm (pass -k to keep)\n",
      "[youtube] 5a7t_KsxumE: Downloading webpage\n",
      "[youtube] 5a7t_KsxumE: Downloading video info webpage\n",
      "[youtube] 5a7t_KsxumE: Extracting video information\n",
      "[youtube] 5a7t_KsxumE: Downloading MPD manifest\n"
     ]
    },
    {
     "name": "stderr",
     "output_type": "stream",
     "text": [
      "WARNING: \"id\" field is not a string - forcing string conversion, there is an error in extractor\n"
     ]
    },
    {
     "name": "stdout",
     "output_type": "stream",
     "text": [
      "[download] Destination: songs/5a7t_KsxumE.webm\n",
      "[download] 100% of 4.85MiB in 00:10\n",
      "[ffmpeg] Destination: songs/5a7t_KsxumE.wav\n",
      "Deleting original file songs/5a7t_KsxumE.webm (pass -k to keep)\n",
      "[youtube] jR9Ke02m_zk: Downloading webpage\n",
      "[youtube] jR9Ke02m_zk: Downloading video info webpage\n",
      "[youtube] jR9Ke02m_zk: Extracting video information\n",
      "[youtube] jR9Ke02m_zk: Downloading MPD manifest\n"
     ]
    },
    {
     "name": "stderr",
     "output_type": "stream",
     "text": [
      "WARNING: \"id\" field is not a string - forcing string conversion, there is an error in extractor\n"
     ]
    },
    {
     "name": "stdout",
     "output_type": "stream",
     "text": [
      "[download] Destination: songs/jR9Ke02m_zk.webm\n",
      "[download] 100% of 4.83MiB in 00:09\n",
      "[ffmpeg] Destination: songs/jR9Ke02m_zk.wav\n",
      "Deleting original file songs/jR9Ke02m_zk.webm (pass -k to keep)\n",
      "[youtube] Y-zjFp70esY: Downloading webpage\n",
      "[youtube] Y-zjFp70esY: Downloading video info webpage\n",
      "[youtube] Y-zjFp70esY: Extracting video information\n",
      "[youtube] Y-zjFp70esY: Downloading MPD manifest\n"
     ]
    },
    {
     "name": "stderr",
     "output_type": "stream",
     "text": [
      "WARNING: \"id\" field is not a string - forcing string conversion, there is an error in extractor\n"
     ]
    },
    {
     "name": "stdout",
     "output_type": "stream",
     "text": [
      "[download] Destination: songs/Y-zjFp70esY.webm\n",
      "[download] 100% of 3.32MiB in 00:06\n",
      "[ffmpeg] Destination: songs/Y-zjFp70esY.wav\n",
      "Deleting original file songs/Y-zjFp70esY.webm (pass -k to keep)\n",
      "[youtube] yZdl1ZgbS0E: Downloading webpage\n",
      "[youtube] yZdl1ZgbS0E: Downloading video info webpage\n",
      "[youtube] yZdl1ZgbS0E: Extracting video information\n",
      "[youtube] yZdl1ZgbS0E: Downloading MPD manifest\n",
      "[youtube] yZdl1ZgbS0E: Downloading MPD manifest\n"
     ]
    },
    {
     "name": "stderr",
     "output_type": "stream",
     "text": [
      "WARNING: \"id\" field is not a string - forcing string conversion, there is an error in extractor\n"
     ]
    },
    {
     "name": "stdout",
     "output_type": "stream",
     "text": [
      "[dashsegments] Total fragments: 25\n",
      "[download] Destination: songs/yZdl1ZgbS0E.m4a\n",
      "[download] 100% of 3.50MiB in 00:12\n",
      "[ffmpeg] Correcting container in \"songs/yZdl1ZgbS0E.m4a\"\n",
      "[ffmpeg] Destination: songs/yZdl1ZgbS0E.wav\n",
      "Deleting original file songs/yZdl1ZgbS0E.m4a (pass -k to keep)\n",
      "[youtube] SMATgjzrms0: Downloading webpage\n",
      "[youtube] SMATgjzrms0: Downloading video info webpage\n",
      "[youtube] SMATgjzrms0: Extracting video information\n",
      "[youtube] SMATgjzrms0: Downloading MPD manifest\n"
     ]
    },
    {
     "name": "stderr",
     "output_type": "stream",
     "text": [
      "WARNING: \"id\" field is not a string - forcing string conversion, there is an error in extractor\n"
     ]
    },
    {
     "name": "stdout",
     "output_type": "stream",
     "text": [
      "[download] Destination: songs/SMATgjzrms0.webm\n",
      "[download] 100% of 2.08MiB in 00:04\n",
      "[ffmpeg] Destination: songs/SMATgjzrms0.wav\n",
      "Deleting original file songs/SMATgjzrms0.webm (pass -k to keep)\n",
      "[youtube] aENX1Sf3fgQ: Downloading webpage\n",
      "[youtube] aENX1Sf3fgQ: Downloading video info webpage\n",
      "[youtube] aENX1Sf3fgQ: Extracting video information\n",
      "[youtube] aENX1Sf3fgQ: Downloading MPD manifest\n"
     ]
    },
    {
     "name": "stderr",
     "output_type": "stream",
     "text": [
      "WARNING: \"id\" field is not a string - forcing string conversion, there is an error in extractor\n"
     ]
    },
    {
     "name": "stdout",
     "output_type": "stream",
     "text": [
      "[download] Destination: songs/aENX1Sf3fgQ.webm\n",
      "[download] 100% of 3.98MiB in 00:07\n",
      "[ffmpeg] Destination: songs/aENX1Sf3fgQ.wav\n",
      "Deleting original file songs/aENX1Sf3fgQ.webm (pass -k to keep)\n",
      "[youtube] 3MCslYiB0Vk: Downloading webpage\n",
      "[youtube] 3MCslYiB0Vk: Downloading video info webpage\n",
      "[youtube] 3MCslYiB0Vk: Extracting video information\n",
      "[youtube] 3MCslYiB0Vk: Downloading MPD manifest\n"
     ]
    },
    {
     "name": "stderr",
     "output_type": "stream",
     "text": [
      "WARNING: \"id\" field is not a string - forcing string conversion, there is an error in extractor\n"
     ]
    },
    {
     "name": "stdout",
     "output_type": "stream",
     "text": [
      "[download] Destination: songs/3MCslYiB0Vk.webm\n",
      "[download] 100% of 3.30MiB in 00:06\n",
      "[ffmpeg] Destination: songs/3MCslYiB0Vk.wav\n",
      "Deleting original file songs/3MCslYiB0Vk.webm (pass -k to keep)\n",
      "[youtube] edysTHU-_js: Downloading webpage\n",
      "[youtube] edysTHU-_js: Downloading video info webpage\n",
      "[youtube] edysTHU-_js: Extracting video information\n",
      "[youtube] edysTHU-_js: Downloading MPD manifest\n"
     ]
    },
    {
     "name": "stderr",
     "output_type": "stream",
     "text": [
      "WARNING: \"id\" field is not a string - forcing string conversion, there is an error in extractor\n"
     ]
    },
    {
     "name": "stdout",
     "output_type": "stream",
     "text": [
      "[download] Destination: songs/edysTHU-_js.webm\n",
      "[download] 100% of 4.40MiB in 00:08\n",
      "[ffmpeg] Destination: songs/edysTHU-_js.wav\n",
      "Deleting original file songs/edysTHU-_js.webm (pass -k to keep)\n",
      "[youtube] 8bxlM7jXpiM: Downloading webpage\n",
      "[youtube] 8bxlM7jXpiM: Downloading video info webpage\n",
      "[youtube] 8bxlM7jXpiM: Extracting video information\n",
      "[youtube] 8bxlM7jXpiM: Downloading MPD manifest\n"
     ]
    },
    {
     "name": "stderr",
     "output_type": "stream",
     "text": [
      "WARNING: \"id\" field is not a string - forcing string conversion, there is an error in extractor\n"
     ]
    },
    {
     "name": "stdout",
     "output_type": "stream",
     "text": [
      "[download] Destination: songs/8bxlM7jXpiM.webm\n",
      "[download] 100% of 2.20MiB in 00:04\n",
      "[ffmpeg] Destination: songs/8bxlM7jXpiM.wav\n",
      "Deleting original file songs/8bxlM7jXpiM.webm (pass -k to keep)\n",
      "[youtube] eRFPCbwKTow: Downloading webpage\n",
      "[youtube] eRFPCbwKTow: Downloading video info webpage\n",
      "[youtube] eRFPCbwKTow: Extracting video information\n",
      "[youtube] eRFPCbwKTow: Downloading MPD manifest\n"
     ]
    },
    {
     "name": "stderr",
     "output_type": "stream",
     "text": [
      "WARNING: \"id\" field is not a string - forcing string conversion, there is an error in extractor\n"
     ]
    },
    {
     "name": "stdout",
     "output_type": "stream",
     "text": [
      "[download] Destination: songs/eRFPCbwKTow.webm\n",
      "[download] 100% of 7.09MiB in 00:14\n",
      "[ffmpeg] Destination: songs/eRFPCbwKTow.wav\n",
      "Deleting original file songs/eRFPCbwKTow.webm (pass -k to keep)\n",
      "[youtube] xpAkF7z3DmI: Downloading webpage\n",
      "[youtube] xpAkF7z3DmI: Downloading video info webpage\n",
      "[youtube] xpAkF7z3DmI: Extracting video information\n",
      "[youtube] xpAkF7z3DmI: Downloading MPD manifest\n"
     ]
    },
    {
     "name": "stderr",
     "output_type": "stream",
     "text": [
      "WARNING: \"id\" field is not a string - forcing string conversion, there is an error in extractor\n"
     ]
    },
    {
     "name": "stdout",
     "output_type": "stream",
     "text": [
      "[download] Destination: songs/xpAkF7z3DmI.m4a\n",
      "[download] 100% of 3.70MiB in 00:07\n",
      "[ffmpeg] Correcting container in \"songs/xpAkF7z3DmI.m4a\"\n",
      "[ffmpeg] Destination: songs/xpAkF7z3DmI.wav\n",
      "Deleting original file songs/xpAkF7z3DmI.m4a (pass -k to keep)\n",
      "[youtube] EzEozHkbQ_s: Downloading webpage\n",
      "[youtube] EzEozHkbQ_s: Downloading video info webpage\n"
     ]
    },
    {
     "name": "stderr",
     "output_type": "stream",
     "text": [
      "ERROR: EzEozHkbQ_s: YouTube said: This video contains content from Rai, who has blocked it on copyright grounds.\n"
     ]
    },
    {
     "name": "stdout",
     "output_type": "stream",
     "text": [
      "[youtube] WyVpItBaEx4: Downloading webpage\n",
      "[youtube] WyVpItBaEx4: Downloading video info webpage\n",
      "[youtube] WyVpItBaEx4: Extracting video information\n",
      "[youtube] WyVpItBaEx4: Downloading MPD manifest\n"
     ]
    },
    {
     "name": "stderr",
     "output_type": "stream",
     "text": [
      "WARNING: \"id\" field is not a string - forcing string conversion, there is an error in extractor\n"
     ]
    },
    {
     "name": "stdout",
     "output_type": "stream",
     "text": [
      "[download] Destination: songs/WyVpItBaEx4.m4a\n",
      "[download] 100% of 2.80MiB in 00:05\n",
      "[ffmpeg] Correcting container in \"songs/WyVpItBaEx4.m4a\"\n",
      "[ffmpeg] Destination: songs/WyVpItBaEx4.wav\n",
      "Deleting original file songs/WyVpItBaEx4.m4a (pass -k to keep)\n",
      "[youtube] KWuoSTn1NTc: Downloading webpage\n",
      "[youtube] KWuoSTn1NTc: Downloading video info webpage\n",
      "[youtube] KWuoSTn1NTc: Extracting video information\n",
      "[youtube] KWuoSTn1NTc: Downloading MPD manifest\n"
     ]
    },
    {
     "name": "stderr",
     "output_type": "stream",
     "text": [
      "WARNING: \"id\" field is not a string - forcing string conversion, there is an error in extractor\n"
     ]
    },
    {
     "name": "stdout",
     "output_type": "stream",
     "text": [
      "[download] Destination: songs/KWuoSTn1NTc.m4a\n",
      "[download] 100% of 3.21MiB in 00:06\n",
      "[ffmpeg] Correcting container in \"songs/KWuoSTn1NTc.m4a\"\n",
      "[ffmpeg] Destination: songs/KWuoSTn1NTc.wav\n",
      "Deleting original file songs/KWuoSTn1NTc.m4a (pass -k to keep)\n",
      "[youtube] MIENus8bJlY: Downloading webpage\n",
      "[youtube] MIENus8bJlY: Downloading video info webpage\n"
     ]
    },
    {
     "name": "stderr",
     "output_type": "stream",
     "text": [
      "ERROR: MIENus8bJlY: YouTube said: This video contains content from UMG_MK, who has blocked it in your country on copyright grounds.\n"
     ]
    },
    {
     "name": "stdout",
     "output_type": "stream",
     "text": [
      "[youtube] E6ZTvsbnAXY: Downloading webpage\n",
      "[youtube] E6ZTvsbnAXY: Downloading video info webpage\n",
      "[youtube] E6ZTvsbnAXY: Extracting video information\n",
      "[youtube] E6ZTvsbnAXY: Downloading MPD manifest\n"
     ]
    },
    {
     "name": "stderr",
     "output_type": "stream",
     "text": [
      "WARNING: \"id\" field is not a string - forcing string conversion, there is an error in extractor\n"
     ]
    },
    {
     "name": "stdout",
     "output_type": "stream",
     "text": [
      "[download] Destination: songs/E6ZTvsbnAXY.webm\n",
      "[download] 100% of 4.19MiB in 00:08\n",
      "[ffmpeg] Destination: songs/E6ZTvsbnAXY.wav\n",
      "Deleting original file songs/E6ZTvsbnAXY.webm (pass -k to keep)\n",
      "[youtube] 0pbuWH3Qzx4: Downloading webpage\n",
      "[youtube] 0pbuWH3Qzx4: Downloading video info webpage\n",
      "[youtube] 0pbuWH3Qzx4: Extracting video information\n",
      "[youtube] 0pbuWH3Qzx4: Downloading MPD manifest\n"
     ]
    },
    {
     "name": "stderr",
     "output_type": "stream",
     "text": [
      "WARNING: \"id\" field is not a string - forcing string conversion, there is an error in extractor\n"
     ]
    },
    {
     "name": "stdout",
     "output_type": "stream",
     "text": [
      "[download] Destination: songs/0pbuWH3Qzx4.webm\n",
      "[download] 100% of 2.50MiB in 00:04\n",
      "[ffmpeg] Destination: songs/0pbuWH3Qzx4.wav\n",
      "Deleting original file songs/0pbuWH3Qzx4.webm (pass -k to keep)\n",
      "[youtube] AC6ow5oV36k: Downloading webpage\n",
      "[youtube] AC6ow5oV36k: Downloading video info webpage\n",
      "[youtube] AC6ow5oV36k: Extracting video information\n",
      "[youtube] AC6ow5oV36k: Downloading MPD manifest\n"
     ]
    },
    {
     "name": "stderr",
     "output_type": "stream",
     "text": [
      "WARNING: \"id\" field is not a string - forcing string conversion, there is an error in extractor\n"
     ]
    },
    {
     "name": "stdout",
     "output_type": "stream",
     "text": [
      "[download] Destination: songs/AC6ow5oV36k.m4a\n",
      "[download] 100% of 2.39MiB in 00:04\n",
      "[ffmpeg] Correcting container in \"songs/AC6ow5oV36k.m4a\"\n",
      "[ffmpeg] Destination: songs/AC6ow5oV36k.wav\n",
      "Deleting original file songs/AC6ow5oV36k.m4a (pass -k to keep)\n",
      "[youtube] axfY__4fnqI: Downloading webpage\n",
      "[youtube] axfY__4fnqI: Downloading video info webpage\n",
      "[youtube] axfY__4fnqI: Extracting video information\n",
      "[youtube] axfY__4fnqI: Downloading MPD manifest\n"
     ]
    },
    {
     "name": "stderr",
     "output_type": "stream",
     "text": [
      "WARNING: \"id\" field is not a string - forcing string conversion, there is an error in extractor\n"
     ]
    },
    {
     "name": "stdout",
     "output_type": "stream",
     "text": [
      "[download] Destination: songs/axfY__4fnqI.webm\n",
      "[download] 100% of 4.81MiB in 00:09\n",
      "[ffmpeg] Destination: songs/axfY__4fnqI.wav\n",
      "Deleting original file songs/axfY__4fnqI.webm (pass -k to keep)\n",
      "[youtube] 4S5bjZPZQ-A: Downloading webpage\n",
      "[youtube] 4S5bjZPZQ-A: Downloading video info webpage\n",
      "[youtube] 4S5bjZPZQ-A: Extracting video information\n",
      "[youtube] 4S5bjZPZQ-A: Downloading MPD manifest\n"
     ]
    },
    {
     "name": "stderr",
     "output_type": "stream",
     "text": [
      "WARNING: \"id\" field is not a string - forcing string conversion, there is an error in extractor\n"
     ]
    },
    {
     "name": "stdout",
     "output_type": "stream",
     "text": [
      "[download] Destination: songs/4S5bjZPZQ-A.m4a\n",
      "[download] 100% of 3.58MiB in 00:07\n",
      "[ffmpeg] Correcting container in \"songs/4S5bjZPZQ-A.m4a\"\n",
      "[ffmpeg] Destination: songs/4S5bjZPZQ-A.wav\n",
      "Deleting original file songs/4S5bjZPZQ-A.m4a (pass -k to keep)\n",
      "[youtube] vCHN5W8dSJU: Downloading webpage\n",
      "[youtube] vCHN5W8dSJU: Downloading video info webpage\n",
      "[youtube] vCHN5W8dSJU: Extracting video information\n",
      "[youtube] vCHN5W8dSJU: Downloading MPD manifest\n"
     ]
    },
    {
     "name": "stderr",
     "output_type": "stream",
     "text": [
      "WARNING: \"id\" field is not a string - forcing string conversion, there is an error in extractor\n"
     ]
    },
    {
     "name": "stdout",
     "output_type": "stream",
     "text": [
      "[download] Destination: songs/vCHN5W8dSJU.webm\n",
      "[download] 100% of 3.03MiB in 00:05\n",
      "[ffmpeg] Destination: songs/vCHN5W8dSJU.wav\n",
      "Deleting original file songs/vCHN5W8dSJU.webm (pass -k to keep)\n",
      "[youtube] oUgh6ivoQYc: Downloading webpage\n",
      "[youtube] oUgh6ivoQYc: Downloading video info webpage\n",
      "[youtube] oUgh6ivoQYc: Extracting video information\n",
      "[youtube] oUgh6ivoQYc: Downloading MPD manifest\n"
     ]
    },
    {
     "name": "stderr",
     "output_type": "stream",
     "text": [
      "WARNING: \"id\" field is not a string - forcing string conversion, there is an error in extractor\n"
     ]
    },
    {
     "name": "stdout",
     "output_type": "stream",
     "text": [
      "[download] Destination: songs/oUgh6ivoQYc.webm\n",
      "[download] 100% of 3.61MiB in 00:07\n",
      "[ffmpeg] Destination: songs/oUgh6ivoQYc.wav\n",
      "Deleting original file songs/oUgh6ivoQYc.webm (pass -k to keep)\n",
      "[youtube] ZMMRHBrMWhA: Downloading webpage\n",
      "[youtube] ZMMRHBrMWhA: Downloading video info webpage\n",
      "[youtube] ZMMRHBrMWhA: Extracting video information\n",
      "[youtube] ZMMRHBrMWhA: Downloading MPD manifest\n"
     ]
    },
    {
     "name": "stderr",
     "output_type": "stream",
     "text": [
      "WARNING: \"id\" field is not a string - forcing string conversion, there is an error in extractor\n"
     ]
    },
    {
     "name": "stdout",
     "output_type": "stream",
     "text": [
      "[download] Destination: songs/ZMMRHBrMWhA.m4a\n",
      "[download] 100% of 4.85MiB in 00:09\n",
      "[ffmpeg] Correcting container in \"songs/ZMMRHBrMWhA.m4a\"\n",
      "[ffmpeg] Destination: songs/ZMMRHBrMWhA.wav\n",
      "Deleting original file songs/ZMMRHBrMWhA.m4a (pass -k to keep)\n",
      "[youtube] yyYK5fqfRI4: Downloading webpage\n",
      "[youtube] yyYK5fqfRI4: Downloading video info webpage\n",
      "[youtube] yyYK5fqfRI4: Extracting video information\n",
      "[youtube] yyYK5fqfRI4: Downloading MPD manifest\n"
     ]
    },
    {
     "name": "stderr",
     "output_type": "stream",
     "text": [
      "WARNING: \"id\" field is not a string - forcing string conversion, there is an error in extractor\n"
     ]
    },
    {
     "name": "stdout",
     "output_type": "stream",
     "text": [
      "[download] Destination: songs/yyYK5fqfRI4.m4a\n",
      "[download] 100% of 4.34MiB in 00:08\n",
      "[ffmpeg] Correcting container in \"songs/yyYK5fqfRI4.m4a\"\n",
      "[ffmpeg] Destination: songs/yyYK5fqfRI4.wav\n",
      "Deleting original file songs/yyYK5fqfRI4.m4a (pass -k to keep)\n",
      "[youtube] Iv7JPe3HvXo: Downloading webpage\n",
      "[youtube] Iv7JPe3HvXo: Downloading video info webpage\n",
      "[youtube] Iv7JPe3HvXo: Extracting video information\n",
      "[youtube] Iv7JPe3HvXo: Downloading MPD manifest\n"
     ]
    },
    {
     "name": "stderr",
     "output_type": "stream",
     "text": [
      "WARNING: \"id\" field is not a string - forcing string conversion, there is an error in extractor\n"
     ]
    },
    {
     "name": "stdout",
     "output_type": "stream",
     "text": [
      "[download] Destination: songs/Iv7JPe3HvXo.webm\n",
      "[download] 100% of 1.52MiB in 00:03\n",
      "[ffmpeg] Destination: songs/Iv7JPe3HvXo.wav\n",
      "Deleting original file songs/Iv7JPe3HvXo.webm (pass -k to keep)\n",
      "[youtube] bS1F1u1RIJA: Downloading webpage\n",
      "[youtube] bS1F1u1RIJA: Downloading video info webpage\n",
      "[youtube] bS1F1u1RIJA: Extracting video information\n",
      "[youtube] bS1F1u1RIJA: Downloading MPD manifest\n"
     ]
    },
    {
     "name": "stderr",
     "output_type": "stream",
     "text": [
      "WARNING: \"id\" field is not a string - forcing string conversion, there is an error in extractor\n"
     ]
    },
    {
     "name": "stdout",
     "output_type": "stream",
     "text": [
      "[download] Destination: songs/bS1F1u1RIJA.webm\n",
      "[download] 100% of 3.44MiB in 00:07\n",
      "[ffmpeg] Destination: songs/bS1F1u1RIJA.wav\n",
      "Deleting original file songs/bS1F1u1RIJA.webm (pass -k to keep)\n",
      "[youtube] SEGuAOHDKi0: Downloading webpage\n",
      "[youtube] SEGuAOHDKi0: Downloading video info webpage\n",
      "[youtube] SEGuAOHDKi0: Extracting video information\n",
      "[youtube] SEGuAOHDKi0: Downloading MPD manifest\n"
     ]
    },
    {
     "name": "stderr",
     "output_type": "stream",
     "text": [
      "WARNING: \"id\" field is not a string - forcing string conversion, there is an error in extractor\n"
     ]
    },
    {
     "name": "stdout",
     "output_type": "stream",
     "text": [
      "[download] Destination: songs/SEGuAOHDKi0.m4a\n",
      "[download] 100% of 3.27MiB in 00:06\n",
      "[ffmpeg] Correcting container in \"songs/SEGuAOHDKi0.m4a\"\n",
      "[ffmpeg] Destination: songs/SEGuAOHDKi0.wav\n",
      "Deleting original file songs/SEGuAOHDKi0.m4a (pass -k to keep)\n",
      "[youtube] tSSfjdAN3MU: Downloading webpage\n",
      "[youtube] tSSfjdAN3MU: Downloading video info webpage\n",
      "[youtube] tSSfjdAN3MU: Extracting video information\n",
      "[youtube] tSSfjdAN3MU: Downloading MPD manifest\n"
     ]
    },
    {
     "name": "stderr",
     "output_type": "stream",
     "text": [
      "WARNING: \"id\" field is not a string - forcing string conversion, there is an error in extractor\n"
     ]
    },
    {
     "name": "stdout",
     "output_type": "stream",
     "text": [
      "[download] Destination: songs/tSSfjdAN3MU.webm\n",
      "[download] 100% of 3.76MiB in 00:07\n",
      "[ffmpeg] Destination: songs/tSSfjdAN3MU.wav\n",
      "Deleting original file songs/tSSfjdAN3MU.webm (pass -k to keep)\n",
      "[youtube] IHH8bfPhusM: Downloading webpage\n",
      "[youtube] IHH8bfPhusM: Downloading video info webpage\n",
      "[youtube] IHH8bfPhusM: Extracting video information\n",
      "[youtube] IHH8bfPhusM: Downloading MPD manifest\n"
     ]
    },
    {
     "name": "stderr",
     "output_type": "stream",
     "text": [
      "WARNING: \"id\" field is not a string - forcing string conversion, there is an error in extractor\n"
     ]
    },
    {
     "name": "stdout",
     "output_type": "stream",
     "text": [
      "[download] Destination: songs/IHH8bfPhusM.webm\n",
      "[download] 100% of 3.94MiB in 00:07\n",
      "[ffmpeg] Destination: songs/IHH8bfPhusM.wav\n",
      "Deleting original file songs/IHH8bfPhusM.webm (pass -k to keep)\n",
      "[youtube] IWLAwYPjlrg: Downloading webpage\n",
      "[youtube] IWLAwYPjlrg: Downloading video info webpage\n",
      "[youtube] IWLAwYPjlrg: Extracting video information\n",
      "[youtube] IWLAwYPjlrg: Downloading MPD manifest\n"
     ]
    },
    {
     "name": "stderr",
     "output_type": "stream",
     "text": [
      "WARNING: \"id\" field is not a string - forcing string conversion, there is an error in extractor\n"
     ]
    },
    {
     "name": "stdout",
     "output_type": "stream",
     "text": [
      "[download] Destination: songs/IWLAwYPjlrg.webm\n",
      "[download] 100% of 7.44MiB in 00:14\n",
      "[ffmpeg] Destination: songs/IWLAwYPjlrg.wav\n",
      "Deleting original file songs/IWLAwYPjlrg.webm (pass -k to keep)\n",
      "[youtube] Yon18DBsU_c: Downloading webpage\n",
      "[youtube] Yon18DBsU_c: Downloading video info webpage\n",
      "[youtube] Yon18DBsU_c: Extracting video information\n",
      "[youtube] Yon18DBsU_c: Downloading MPD manifest\n"
     ]
    },
    {
     "name": "stderr",
     "output_type": "stream",
     "text": [
      "WARNING: \"id\" field is not a string - forcing string conversion, there is an error in extractor\n"
     ]
    },
    {
     "name": "stdout",
     "output_type": "stream",
     "text": [
      "[download] Destination: songs/Yon18DBsU_c.webm\n",
      "[download] 100% of 2.78MiB in 00:05\n",
      "[ffmpeg] Destination: songs/Yon18DBsU_c.wav\n",
      "Deleting original file songs/Yon18DBsU_c.webm (pass -k to keep)\n",
      "[youtube] p_zYnNEPSy4: Downloading webpage\n",
      "[youtube] p_zYnNEPSy4: Downloading video info webpage\n",
      "[youtube] p_zYnNEPSy4: Extracting video information\n",
      "[youtube] p_zYnNEPSy4: Downloading MPD manifest\n"
     ]
    },
    {
     "name": "stderr",
     "output_type": "stream",
     "text": [
      "WARNING: \"id\" field is not a string - forcing string conversion, there is an error in extractor\n"
     ]
    },
    {
     "name": "stdout",
     "output_type": "stream",
     "text": [
      "[download] Destination: songs/p_zYnNEPSy4.webm\n",
      "[download] 100% of 3.31MiB in 00:06\n",
      "[ffmpeg] Destination: songs/p_zYnNEPSy4.wav\n",
      "Deleting original file songs/p_zYnNEPSy4.webm (pass -k to keep)\n",
      "[youtube] Fl__LEXnWkI: Downloading webpage\n",
      "[youtube] Fl__LEXnWkI: Downloading video info webpage\n",
      "[youtube] Fl__LEXnWkI: Extracting video information\n",
      "[youtube] Fl__LEXnWkI: Downloading MPD manifest\n"
     ]
    },
    {
     "name": "stderr",
     "output_type": "stream",
     "text": [
      "WARNING: \"id\" field is not a string - forcing string conversion, there is an error in extractor\n"
     ]
    },
    {
     "name": "stdout",
     "output_type": "stream",
     "text": [
      "[download] Destination: songs/Fl__LEXnWkI.webm\n",
      "[download] 100% of 2.36MiB in 00:04\n",
      "[ffmpeg] Destination: songs/Fl__LEXnWkI.wav\n",
      "Deleting original file songs/Fl__LEXnWkI.webm (pass -k to keep)\n",
      "[youtube] vI1CC8Punh4: Downloading webpage\n",
      "[youtube] vI1CC8Punh4: Downloading video info webpage\n"
     ]
    },
    {
     "name": "stderr",
     "output_type": "stream",
     "text": [
      "ERROR: vI1CC8Punh4: YouTube said: This video contains content from WMG, who has blocked it on copyright grounds.\n"
     ]
    },
    {
     "name": "stdout",
     "output_type": "stream",
     "text": [
      "[youtube] JD0cg1yyDWc: Downloading webpage\n",
      "[youtube] JD0cg1yyDWc: Downloading video info webpage\n",
      "[youtube] JD0cg1yyDWc: Extracting video information\n",
      "[youtube] JD0cg1yyDWc: Downloading MPD manifest\n"
     ]
    },
    {
     "name": "stderr",
     "output_type": "stream",
     "text": [
      "WARNING: \"id\" field is not a string - forcing string conversion, there is an error in extractor\n"
     ]
    },
    {
     "name": "stdout",
     "output_type": "stream",
     "text": [
      "[download] Destination: songs/JD0cg1yyDWc.webm\n",
      "[download] 100% of 3.03MiB in 00:05\n",
      "[ffmpeg] Destination: songs/JD0cg1yyDWc.wav\n",
      "Deleting original file songs/JD0cg1yyDWc.webm (pass -k to keep)\n",
      "[youtube] cy2kJCaIPDU: Downloading webpage\n",
      "[youtube] cy2kJCaIPDU: Downloading video info webpage\n",
      "[youtube] cy2kJCaIPDU: Extracting video information\n",
      "[youtube] cy2kJCaIPDU: Downloading MPD manifest\n"
     ]
    },
    {
     "name": "stderr",
     "output_type": "stream",
     "text": [
      "WARNING: \"id\" field is not a string - forcing string conversion, there is an error in extractor\n"
     ]
    },
    {
     "name": "stdout",
     "output_type": "stream",
     "text": [
      "[download] Destination: songs/cy2kJCaIPDU.m4a\n",
      "[download] 100% of 6.46MiB in 00:12\n",
      "[ffmpeg] Correcting container in \"songs/cy2kJCaIPDU.m4a\"\n",
      "[ffmpeg] Destination: songs/cy2kJCaIPDU.wav\n",
      "Deleting original file songs/cy2kJCaIPDU.m4a (pass -k to keep)\n",
      "[youtube] CKRL1o-FbO4: Downloading webpage\n",
      "[youtube] CKRL1o-FbO4: Downloading video info webpage\n",
      "[youtube] CKRL1o-FbO4: Extracting video information\n",
      "[youtube] CKRL1o-FbO4: Downloading MPD manifest\n"
     ]
    },
    {
     "name": "stderr",
     "output_type": "stream",
     "text": [
      "WARNING: \"id\" field is not a string - forcing string conversion, there is an error in extractor\n"
     ]
    },
    {
     "name": "stdout",
     "output_type": "stream",
     "text": [
      "[download] Destination: songs/CKRL1o-FbO4.webm\n",
      "[download] 100% of 2.64MiB in 00:05\n",
      "[ffmpeg] Destination: songs/CKRL1o-FbO4.wav\n",
      "Deleting original file songs/CKRL1o-FbO4.webm (pass -k to keep)\n",
      "[youtube] HbiDNKD2zbs: Downloading webpage\n",
      "[youtube] HbiDNKD2zbs: Downloading video info webpage\n",
      "[youtube] HbiDNKD2zbs: Extracting video information\n",
      "[youtube] HbiDNKD2zbs: Downloading MPD manifest\n"
     ]
    },
    {
     "name": "stderr",
     "output_type": "stream",
     "text": [
      "WARNING: \"id\" field is not a string - forcing string conversion, there is an error in extractor\n"
     ]
    },
    {
     "name": "stdout",
     "output_type": "stream",
     "text": [
      "[download] Destination: songs/HbiDNKD2zbs.webm\n",
      "[download] 100% of 3.46MiB in 00:06\n",
      "[ffmpeg] Destination: songs/HbiDNKD2zbs.wav\n",
      "Deleting original file songs/HbiDNKD2zbs.webm (pass -k to keep)\n",
      "[youtube] ZKYMqXe0-DI: Downloading webpage\n",
      "[youtube] ZKYMqXe0-DI: Downloading video info webpage\n",
      "[youtube] ZKYMqXe0-DI: Extracting video information\n",
      "[youtube] ZKYMqXe0-DI: Downloading MPD manifest\n"
     ]
    },
    {
     "name": "stderr",
     "output_type": "stream",
     "text": [
      "WARNING: \"id\" field is not a string - forcing string conversion, there is an error in extractor\n"
     ]
    },
    {
     "name": "stdout",
     "output_type": "stream",
     "text": [
      "[download] Destination: songs/ZKYMqXe0-DI.m4a\n",
      "[download] 100% of 7.07MiB in 00:16\n",
      "[ffmpeg] Correcting container in \"songs/ZKYMqXe0-DI.m4a\"\n",
      "[ffmpeg] Destination: songs/ZKYMqXe0-DI.wav\n",
      "Deleting original file songs/ZKYMqXe0-DI.m4a (pass -k to keep)\n",
      "[youtube] PbGMq0Kxko8: Downloading webpage\n",
      "[youtube] PbGMq0Kxko8: Downloading video info webpage\n",
      "[youtube] PbGMq0Kxko8: Extracting video information\n",
      "[youtube] PbGMq0Kxko8: Downloading MPD manifest\n"
     ]
    },
    {
     "name": "stderr",
     "output_type": "stream",
     "text": [
      "WARNING: \"id\" field is not a string - forcing string conversion, there is an error in extractor\n"
     ]
    },
    {
     "name": "stdout",
     "output_type": "stream",
     "text": [
      "[download] Destination: songs/PbGMq0Kxko8.webm\n",
      "[download] 100% of 215.34MiB in 07:13\n",
      "[ffmpeg] Destination: songs/PbGMq0Kxko8.wav\n",
      "Deleting original file songs/PbGMq0Kxko8.webm (pass -k to keep)\n",
      "[youtube] n4-p69zuTjY: Downloading webpage\n",
      "[youtube] n4-p69zuTjY: Downloading video info webpage\n",
      "[youtube] n4-p69zuTjY: Extracting video information\n",
      "[youtube] n4-p69zuTjY: Downloading MPD manifest\n"
     ]
    },
    {
     "name": "stderr",
     "output_type": "stream",
     "text": [
      "WARNING: \"id\" field is not a string - forcing string conversion, there is an error in extractor\n"
     ]
    },
    {
     "name": "stdout",
     "output_type": "stream",
     "text": [
      "[download] Destination: songs/n4-p69zuTjY.webm\n",
      "[download] 100% of 4.91MiB in 00:09\n",
      "[ffmpeg] Destination: songs/n4-p69zuTjY.wav\n",
      "Deleting original file songs/n4-p69zuTjY.webm (pass -k to keep)\n",
      "[youtube] 0i56pyT4UWQ: Downloading webpage\n",
      "[youtube] 0i56pyT4UWQ: Downloading video info webpage\n",
      "[youtube] 0i56pyT4UWQ: Extracting video information\n",
      "[youtube] 0i56pyT4UWQ: Downloading MPD manifest\n"
     ]
    },
    {
     "name": "stderr",
     "output_type": "stream",
     "text": [
      "WARNING: \"id\" field is not a string - forcing string conversion, there is an error in extractor\n"
     ]
    },
    {
     "name": "stdout",
     "output_type": "stream",
     "text": [
      "[download] Destination: songs/0i56pyT4UWQ.m4a\n",
      "[download] 100% of 4.51MiB in 00:08\n",
      "[ffmpeg] Correcting container in \"songs/0i56pyT4UWQ.m4a\"\n",
      "[ffmpeg] Destination: songs/0i56pyT4UWQ.wav\n",
      "Deleting original file songs/0i56pyT4UWQ.m4a (pass -k to keep)\n",
      "[youtube] 3dw_BMeN7tk: Downloading webpage\n",
      "[youtube] 3dw_BMeN7tk: Downloading video info webpage\n",
      "[youtube] 3dw_BMeN7tk: Extracting video information\n",
      "[youtube] 3dw_BMeN7tk: Downloading MPD manifest\n",
      "[youtube] 3dw_BMeN7tk: Downloading MPD manifest\n"
     ]
    },
    {
     "name": "stderr",
     "output_type": "stream",
     "text": [
      "WARNING: \"id\" field is not a string - forcing string conversion, there is an error in extractor\n"
     ]
    },
    {
     "name": "stdout",
     "output_type": "stream",
     "text": [
      "[dashsegments] Total fragments: 7\n",
      "[download] Destination: songs/3dw_BMeN7tk.m4a\n",
      "[download] 100% of 808.74KiB in 00:03\n",
      "[ffmpeg] Correcting container in \"songs/3dw_BMeN7tk.m4a\"\n",
      "[ffmpeg] Destination: songs/3dw_BMeN7tk.wav\n",
      "Deleting original file songs/3dw_BMeN7tk.m4a (pass -k to keep)\n",
      "[youtube] TPqZs7Vl_xg: Downloading webpage\n",
      "[youtube] TPqZs7Vl_xg: Downloading video info webpage\n",
      "[youtube] TPqZs7Vl_xg: Extracting video information\n",
      "[youtube] TPqZs7Vl_xg: Downloading MPD manifest\n"
     ]
    },
    {
     "name": "stderr",
     "output_type": "stream",
     "text": [
      "WARNING: \"id\" field is not a string - forcing string conversion, there is an error in extractor\n"
     ]
    },
    {
     "name": "stdout",
     "output_type": "stream",
     "text": [
      "[download] Destination: songs/TPqZs7Vl_xg.webm\n",
      "[download] 100% of 2.73MiB in 00:05\n",
      "[ffmpeg] Destination: songs/TPqZs7Vl_xg.wav\n",
      "Deleting original file songs/TPqZs7Vl_xg.webm (pass -k to keep)\n",
      "[youtube] JuGuPZnqqlI: Downloading webpage\n",
      "[youtube] JuGuPZnqqlI: Downloading video info webpage\n",
      "[youtube] JuGuPZnqqlI: Extracting video information\n",
      "[youtube] JuGuPZnqqlI: Downloading MPD manifest\n"
     ]
    },
    {
     "name": "stderr",
     "output_type": "stream",
     "text": [
      "WARNING: \"id\" field is not a string - forcing string conversion, there is an error in extractor\n"
     ]
    },
    {
     "name": "stdout",
     "output_type": "stream",
     "text": [
      "[download] Destination: songs/JuGuPZnqqlI.webm\n",
      "[download] 100% of 4.29MiB in 00:08\n",
      "[ffmpeg] Destination: songs/JuGuPZnqqlI.wav\n",
      "Deleting original file songs/JuGuPZnqqlI.webm (pass -k to keep)\n",
      "[youtube] X393JREUEfk: Downloading webpage\n",
      "[youtube] X393JREUEfk: Downloading video info webpage\n",
      "[youtube] X393JREUEfk: Extracting video information\n",
      "[youtube] X393JREUEfk: Downloading MPD manifest\n"
     ]
    },
    {
     "name": "stderr",
     "output_type": "stream",
     "text": [
      "WARNING: \"id\" field is not a string - forcing string conversion, there is an error in extractor\n"
     ]
    },
    {
     "name": "stdout",
     "output_type": "stream",
     "text": [
      "[download] Destination: songs/X393JREUEfk.webm\n",
      "[download] 100% of 5.01MiB in 00:09\n",
      "[ffmpeg] Destination: songs/X393JREUEfk.wav\n",
      "Deleting original file songs/X393JREUEfk.webm (pass -k to keep)\n",
      "[youtube] lJ2X4OHwNYg: Downloading webpage\n",
      "[youtube] lJ2X4OHwNYg: Downloading video info webpage\n",
      "[youtube] lJ2X4OHwNYg: Extracting video information\n",
      "[youtube] lJ2X4OHwNYg: Downloading MPD manifest\n"
     ]
    },
    {
     "name": "stderr",
     "output_type": "stream",
     "text": [
      "WARNING: \"id\" field is not a string - forcing string conversion, there is an error in extractor\n"
     ]
    },
    {
     "name": "stdout",
     "output_type": "stream",
     "text": [
      "[download] Destination: songs/lJ2X4OHwNYg.m4a\n",
      "[download] 100% of 3.53MiB in 00:06\n",
      "[ffmpeg] Correcting container in \"songs/lJ2X4OHwNYg.m4a\"\n",
      "[ffmpeg] Destination: songs/lJ2X4OHwNYg.wav\n",
      "Deleting original file songs/lJ2X4OHwNYg.m4a (pass -k to keep)\n",
      "[youtube] 317eucCSL3s: Downloading webpage\n",
      "[youtube] 317eucCSL3s: Downloading video info webpage\n",
      "[youtube] 317eucCSL3s: Extracting video information\n",
      "[youtube] 317eucCSL3s: Downloading MPD manifest\n"
     ]
    },
    {
     "name": "stderr",
     "output_type": "stream",
     "text": [
      "WARNING: \"id\" field is not a string - forcing string conversion, there is an error in extractor\n"
     ]
    },
    {
     "name": "stdout",
     "output_type": "stream",
     "text": [
      "[download] Destination: songs/317eucCSL3s.webm\n",
      "[download] 100% of 2.60MiB in 00:05\n",
      "[ffmpeg] Destination: songs/317eucCSL3s.wav\n",
      "Deleting original file songs/317eucCSL3s.webm (pass -k to keep)\n",
      "[youtube] 1fUAiuQgHww: Downloading webpage\n",
      "[youtube] 1fUAiuQgHww: Downloading video info webpage\n",
      "[youtube] 1fUAiuQgHww: Extracting video information\n",
      "[youtube] 1fUAiuQgHww: Downloading MPD manifest\n"
     ]
    },
    {
     "name": "stderr",
     "output_type": "stream",
     "text": [
      "WARNING: \"id\" field is not a string - forcing string conversion, there is an error in extractor\n"
     ]
    },
    {
     "name": "stdout",
     "output_type": "stream",
     "text": [
      "[download] Destination: songs/1fUAiuQgHww.m4a\n",
      "[download] 100% of 3.22MiB in 00:10\n",
      "[ffmpeg] Correcting container in \"songs/1fUAiuQgHww.m4a\"\n",
      "[ffmpeg] Destination: songs/1fUAiuQgHww.wav\n",
      "Deleting original file songs/1fUAiuQgHww.m4a (pass -k to keep)\n",
      "[youtube] 2qtbVRaSZ7Q: Downloading webpage\n",
      "[youtube] 2qtbVRaSZ7Q: Downloading video info webpage\n",
      "[youtube] 2qtbVRaSZ7Q: Extracting video information\n",
      "[youtube] 2qtbVRaSZ7Q: Downloading MPD manifest\n"
     ]
    },
    {
     "name": "stderr",
     "output_type": "stream",
     "text": [
      "WARNING: \"id\" field is not a string - forcing string conversion, there is an error in extractor\n"
     ]
    },
    {
     "name": "stdout",
     "output_type": "stream",
     "text": [
      "[download] Destination: songs/2qtbVRaSZ7Q.m4a\n",
      "[download] 100% of 2.28MiB in 00:04\n",
      "[ffmpeg] Correcting container in \"songs/2qtbVRaSZ7Q.m4a\"\n",
      "[ffmpeg] Destination: songs/2qtbVRaSZ7Q.wav\n",
      "Deleting original file songs/2qtbVRaSZ7Q.m4a (pass -k to keep)\n",
      "[youtube] WY4biwR9FCg: Downloading webpage\n",
      "[youtube] WY4biwR9FCg: Downloading video info webpage\n",
      "[youtube] WY4biwR9FCg: Extracting video information\n",
      "[youtube] WY4biwR9FCg: Downloading MPD manifest\n"
     ]
    },
    {
     "name": "stderr",
     "output_type": "stream",
     "text": [
      "WARNING: \"id\" field is not a string - forcing string conversion, there is an error in extractor\n"
     ]
    },
    {
     "name": "stdout",
     "output_type": "stream",
     "text": [
      "[download] Destination: songs/WY4biwR9FCg.m4a\n",
      "[download] 100% of 3.34MiB in 00:06\n",
      "[ffmpeg] Correcting container in \"songs/WY4biwR9FCg.m4a\"\n",
      "[ffmpeg] Destination: songs/WY4biwR9FCg.wav\n",
      "Deleting original file songs/WY4biwR9FCg.m4a (pass -k to keep)\n",
      "[youtube] oh4eMC-kE_8: Downloading webpage\n",
      "[youtube] oh4eMC-kE_8: Downloading video info webpage\n",
      "[youtube] oh4eMC-kE_8: Extracting video information\n",
      "[youtube] oh4eMC-kE_8: Downloading MPD manifest\n"
     ]
    },
    {
     "name": "stderr",
     "output_type": "stream",
     "text": [
      "WARNING: \"id\" field is not a string - forcing string conversion, there is an error in extractor\n"
     ]
    },
    {
     "name": "stdout",
     "output_type": "stream",
     "text": [
      "[download] Destination: songs/oh4eMC-kE_8.m4a\n",
      "[download] 100% of 3.41MiB in 00:06\n",
      "[ffmpeg] Correcting container in \"songs/oh4eMC-kE_8.m4a\"\n",
      "[ffmpeg] Destination: songs/oh4eMC-kE_8.wav\n",
      "Deleting original file songs/oh4eMC-kE_8.m4a (pass -k to keep)\n",
      "[youtube] ShOQQOy5pf8: Downloading webpage\n",
      "[youtube] ShOQQOy5pf8: Downloading video info webpage\n",
      "[youtube] ShOQQOy5pf8: Extracting video information\n",
      "[youtube] ShOQQOy5pf8: Downloading MPD manifest\n"
     ]
    },
    {
     "name": "stderr",
     "output_type": "stream",
     "text": [
      "WARNING: \"id\" field is not a string - forcing string conversion, there is an error in extractor\n"
     ]
    },
    {
     "name": "stdout",
     "output_type": "stream",
     "text": [
      "[download] Destination: songs/ShOQQOy5pf8.webm\n",
      "[download] 100% of 3.94MiB in 00:07\n",
      "[ffmpeg] Destination: songs/ShOQQOy5pf8.wav\n",
      "Deleting original file songs/ShOQQOy5pf8.webm (pass -k to keep)\n",
      "[youtube] twfGKO6iaW0: Downloading webpage\n",
      "[youtube] twfGKO6iaW0: Downloading video info webpage\n",
      "[youtube] twfGKO6iaW0: Extracting video information\n",
      "[youtube] twfGKO6iaW0: Downloading MPD manifest\n"
     ]
    },
    {
     "name": "stderr",
     "output_type": "stream",
     "text": [
      "WARNING: \"id\" field is not a string - forcing string conversion, there is an error in extractor\n"
     ]
    },
    {
     "name": "stdout",
     "output_type": "stream",
     "text": [
      "[download] Destination: songs/twfGKO6iaW0.webm\n",
      "[download] 100% of 5.50MiB in 00:11\n",
      "[ffmpeg] Destination: songs/twfGKO6iaW0.wav\n",
      "Deleting original file songs/twfGKO6iaW0.webm (pass -k to keep)\n",
      "[youtube] C1wdAoSulm8: Downloading webpage\n",
      "[youtube] C1wdAoSulm8: Downloading video info webpage\n",
      "[youtube] C1wdAoSulm8: Extracting video information\n",
      "[youtube] C1wdAoSulm8: Downloading MPD manifest\n"
     ]
    },
    {
     "name": "stderr",
     "output_type": "stream",
     "text": [
      "WARNING: \"id\" field is not a string - forcing string conversion, there is an error in extractor\n"
     ]
    },
    {
     "name": "stdout",
     "output_type": "stream",
     "text": [
      "[download] Destination: songs/C1wdAoSulm8.webm\n",
      "[download] 100% of 4.05MiB in 00:07\n",
      "[ffmpeg] Destination: songs/C1wdAoSulm8.wav\n",
      "Deleting original file songs/C1wdAoSulm8.webm (pass -k to keep)\n",
      "[youtube] XdEADrk0fsc: Downloading webpage\n",
      "[youtube] XdEADrk0fsc: Downloading video info webpage\n",
      "[youtube] XdEADrk0fsc: Extracting video information\n",
      "[youtube] XdEADrk0fsc: Downloading MPD manifest\n",
      "[youtube] XdEADrk0fsc: Downloading MPD manifest\n"
     ]
    },
    {
     "name": "stderr",
     "output_type": "stream",
     "text": [
      "WARNING: \"id\" field is not a string - forcing string conversion, there is an error in extractor\n"
     ]
    },
    {
     "name": "stdout",
     "output_type": "stream",
     "text": [
      "[dashsegments] Total fragments: 18\n",
      "[download] Destination: songs/XdEADrk0fsc.m4a\n",
      "[download] 100% of 2.50MiB in 00:09\n",
      "[ffmpeg] Correcting container in \"songs/XdEADrk0fsc.m4a\"\n",
      "[ffmpeg] Destination: songs/XdEADrk0fsc.wav\n",
      "Deleting original file songs/XdEADrk0fsc.m4a (pass -k to keep)\n",
      "[youtube] xlIQ5yo8Jg8: Downloading webpage\n",
      "[youtube] xlIQ5yo8Jg8: Downloading video info webpage\n",
      "[youtube] xlIQ5yo8Jg8: Extracting video information\n",
      "[youtube] xlIQ5yo8Jg8: Downloading MPD manifest\n"
     ]
    },
    {
     "name": "stderr",
     "output_type": "stream",
     "text": [
      "WARNING: \"id\" field is not a string - forcing string conversion, there is an error in extractor\n"
     ]
    },
    {
     "name": "stdout",
     "output_type": "stream",
     "text": [
      "[download] Destination: songs/xlIQ5yo8Jg8.m4a\n",
      "[download] 100% of 2.56MiB in 00:05\n",
      "[ffmpeg] Correcting container in \"songs/xlIQ5yo8Jg8.m4a\"\n",
      "[ffmpeg] Destination: songs/xlIQ5yo8Jg8.wav\n",
      "Deleting original file songs/xlIQ5yo8Jg8.m4a (pass -k to keep)\n",
      "[youtube] dW8AXNm2yl4: Downloading webpage\n",
      "[youtube] dW8AXNm2yl4: Downloading video info webpage\n",
      "[youtube] dW8AXNm2yl4: Extracting video information\n",
      "[youtube] dW8AXNm2yl4: Downloading MPD manifest\n"
     ]
    },
    {
     "name": "stderr",
     "output_type": "stream",
     "text": [
      "WARNING: \"id\" field is not a string - forcing string conversion, there is an error in extractor\n"
     ]
    },
    {
     "name": "stdout",
     "output_type": "stream",
     "text": [
      "[download] Destination: songs/dW8AXNm2yl4.m4a\n",
      "[download] 100% of 4.55MiB in 00:08\n",
      "[ffmpeg] Correcting container in \"songs/dW8AXNm2yl4.m4a\"\n",
      "[ffmpeg] Destination: songs/dW8AXNm2yl4.wav\n",
      "Deleting original file songs/dW8AXNm2yl4.m4a (pass -k to keep)\n",
      "[youtube] MnvPoR2eJRs: Downloading webpage\n",
      "[youtube] MnvPoR2eJRs: Downloading video info webpage\n",
      "[youtube] MnvPoR2eJRs: Extracting video information\n",
      "[youtube] MnvPoR2eJRs: Downloading MPD manifest\n"
     ]
    },
    {
     "name": "stderr",
     "output_type": "stream",
     "text": [
      "WARNING: \"id\" field is not a string - forcing string conversion, there is an error in extractor\n"
     ]
    },
    {
     "name": "stdout",
     "output_type": "stream",
     "text": [
      "[download] Destination: songs/MnvPoR2eJRs.m4a\n",
      "[download] 100% of 2.53MiB in 00:04\n",
      "[ffmpeg] Correcting container in \"songs/MnvPoR2eJRs.m4a\"\n",
      "[ffmpeg] Destination: songs/MnvPoR2eJRs.wav\n",
      "Deleting original file songs/MnvPoR2eJRs.m4a (pass -k to keep)\n",
      "[youtube] tg4nEY8-kSM: Downloading webpage\n",
      "[youtube] tg4nEY8-kSM: Downloading video info webpage\n",
      "[youtube] tg4nEY8-kSM: Extracting video information\n",
      "[youtube] tg4nEY8-kSM: Downloading MPD manifest\n"
     ]
    },
    {
     "name": "stderr",
     "output_type": "stream",
     "text": [
      "WARNING: \"id\" field is not a string - forcing string conversion, there is an error in extractor\n"
     ]
    },
    {
     "name": "stdout",
     "output_type": "stream",
     "text": [
      "[download] Destination: songs/tg4nEY8-kSM.webm\n",
      "[download] 100% of 3.24MiB in 00:06\n",
      "[ffmpeg] Destination: songs/tg4nEY8-kSM.wav\n",
      "Deleting original file songs/tg4nEY8-kSM.webm (pass -k to keep)\n",
      "[youtube] Tp2s1C8sBTc: Downloading webpage\n",
      "[youtube] Tp2s1C8sBTc: Downloading video info webpage\n",
      "[youtube] Tp2s1C8sBTc: Extracting video information\n",
      "[youtube] Tp2s1C8sBTc: Downloading MPD manifest\n"
     ]
    },
    {
     "name": "stderr",
     "output_type": "stream",
     "text": [
      "WARNING: \"id\" field is not a string - forcing string conversion, there is an error in extractor\n"
     ]
    },
    {
     "name": "stdout",
     "output_type": "stream",
     "text": [
      "[download] Destination: songs/Tp2s1C8sBTc.webm\n",
      "[download] 100% of 3.26MiB in 00:06\n",
      "[ffmpeg] Destination: songs/Tp2s1C8sBTc.wav\n",
      "Deleting original file songs/Tp2s1C8sBTc.webm (pass -k to keep)\n",
      "[youtube] aqNmVTs0Tm4: Downloading webpage\n",
      "[youtube] aqNmVTs0Tm4: Downloading video info webpage\n",
      "[youtube] aqNmVTs0Tm4: Extracting video information\n",
      "[youtube] aqNmVTs0Tm4: Downloading MPD manifest\n"
     ]
    },
    {
     "name": "stderr",
     "output_type": "stream",
     "text": [
      "WARNING: \"id\" field is not a string - forcing string conversion, there is an error in extractor\n"
     ]
    },
    {
     "name": "stdout",
     "output_type": "stream",
     "text": [
      "[download] Destination: songs/aqNmVTs0Tm4.webm\n",
      "[download] 100% of 3.29MiB in 00:06\n",
      "[ffmpeg] Destination: songs/aqNmVTs0Tm4.wav\n",
      "Deleting original file songs/aqNmVTs0Tm4.webm (pass -k to keep)\n",
      "[youtube] gLIBce-F3L8: Downloading webpage\n",
      "[youtube] gLIBce-F3L8: Downloading video info webpage\n",
      "[youtube] gLIBce-F3L8: Extracting video information\n",
      "[youtube] gLIBce-F3L8: Downloading MPD manifest\n"
     ]
    },
    {
     "name": "stderr",
     "output_type": "stream",
     "text": [
      "WARNING: \"id\" field is not a string - forcing string conversion, there is an error in extractor\n"
     ]
    },
    {
     "name": "stdout",
     "output_type": "stream",
     "text": [
      "[download] Destination: songs/gLIBce-F3L8.webm\n",
      "[download] 100% of 3.06MiB in 00:06\n",
      "[ffmpeg] Destination: songs/gLIBce-F3L8.wav\n",
      "Deleting original file songs/gLIBce-F3L8.webm (pass -k to keep)\n",
      "[youtube] n6wxTkkfLqM: Downloading webpage\n",
      "[youtube] n6wxTkkfLqM: Downloading video info webpage\n",
      "[youtube] n6wxTkkfLqM: Extracting video information\n",
      "[youtube] n6wxTkkfLqM: Downloading MPD manifest\n"
     ]
    },
    {
     "name": "stderr",
     "output_type": "stream",
     "text": [
      "WARNING: \"id\" field is not a string - forcing string conversion, there is an error in extractor\n"
     ]
    },
    {
     "name": "stdout",
     "output_type": "stream",
     "text": [
      "[download] Destination: songs/n6wxTkkfLqM.webm\n",
      "[download] 100% of 6.17MiB in 00:12\n",
      "[ffmpeg] Destination: songs/n6wxTkkfLqM.wav\n",
      "Deleting original file songs/n6wxTkkfLqM.webm (pass -k to keep)\n",
      "[youtube] y8MHGvonktM: Downloading webpage\n",
      "[youtube] y8MHGvonktM: Downloading video info webpage\n",
      "[youtube] y8MHGvonktM: Extracting video information\n",
      "[youtube] y8MHGvonktM: Downloading MPD manifest\n"
     ]
    },
    {
     "name": "stderr",
     "output_type": "stream",
     "text": [
      "WARNING: \"id\" field is not a string - forcing string conversion, there is an error in extractor\n"
     ]
    },
    {
     "name": "stdout",
     "output_type": "stream",
     "text": [
      "[download] Destination: songs/y8MHGvonktM.webm\n",
      "[download] 100% of 6.89MiB in 00:13\n",
      "[ffmpeg] Destination: songs/y8MHGvonktM.wav\n",
      "Deleting original file songs/y8MHGvonktM.webm (pass -k to keep)\n",
      "[youtube] g_OyZGmIJy0: Downloading webpage\n",
      "[youtube] g_OyZGmIJy0: Downloading video info webpage\n",
      "[youtube] g_OyZGmIJy0: Extracting video information\n",
      "[youtube] g_OyZGmIJy0: Downloading MPD manifest\n"
     ]
    },
    {
     "name": "stderr",
     "output_type": "stream",
     "text": [
      "WARNING: \"id\" field is not a string - forcing string conversion, there is an error in extractor\n"
     ]
    },
    {
     "name": "stdout",
     "output_type": "stream",
     "text": [
      "[download] Destination: songs/g_OyZGmIJy0.webm\n",
      "[download] 100% of 1.92MiB in 00:03\n",
      "[ffmpeg] Destination: songs/g_OyZGmIJy0.wav\n",
      "Deleting original file songs/g_OyZGmIJy0.webm (pass -k to keep)\n",
      "[youtube] am2XyntXWzk: Downloading webpage\n",
      "[youtube] am2XyntXWzk: Downloading video info webpage\n",
      "[youtube] am2XyntXWzk: Extracting video information\n",
      "[youtube] am2XyntXWzk: Downloading MPD manifest\n"
     ]
    },
    {
     "name": "stderr",
     "output_type": "stream",
     "text": [
      "WARNING: \"id\" field is not a string - forcing string conversion, there is an error in extractor\n"
     ]
    },
    {
     "name": "stdout",
     "output_type": "stream",
     "text": [
      "[download] Destination: songs/am2XyntXWzk.webm\n",
      "[download] 100% of 3.05MiB in 00:06\n",
      "[ffmpeg] Destination: songs/am2XyntXWzk.wav\n",
      "Deleting original file songs/am2XyntXWzk.webm (pass -k to keep)\n",
      "[youtube] cmvef-I0nyY: Downloading webpage\n",
      "[youtube] cmvef-I0nyY: Downloading video info webpage\n",
      "[youtube] cmvef-I0nyY: Extracting video information\n",
      "[youtube] cmvef-I0nyY: Downloading MPD manifest\n"
     ]
    },
    {
     "name": "stderr",
     "output_type": "stream",
     "text": [
      "WARNING: \"id\" field is not a string - forcing string conversion, there is an error in extractor\n"
     ]
    },
    {
     "name": "stdout",
     "output_type": "stream",
     "text": [
      "[download] Destination: songs/cmvef-I0nyY.webm\n",
      "[download] 100% of 2.09MiB in 00:04\n",
      "[ffmpeg] Destination: songs/cmvef-I0nyY.wav\n",
      "Deleting original file songs/cmvef-I0nyY.webm (pass -k to keep)\n",
      "[youtube] 7nFtb1dutj8: Downloading webpage\n",
      "[youtube] 7nFtb1dutj8: Downloading video info webpage\n",
      "[youtube] 7nFtb1dutj8: Extracting video information\n",
      "[youtube] 7nFtb1dutj8: Downloading MPD manifest\n"
     ]
    },
    {
     "name": "stderr",
     "output_type": "stream",
     "text": [
      "WARNING: \"id\" field is not a string - forcing string conversion, there is an error in extractor\n"
     ]
    },
    {
     "name": "stdout",
     "output_type": "stream",
     "text": [
      "[download] Destination: songs/7nFtb1dutj8.m4a\n",
      "[download] 100% of 3.48MiB in 00:06\n",
      "[ffmpeg] Correcting container in \"songs/7nFtb1dutj8.m4a\"\n",
      "[ffmpeg] Destination: songs/7nFtb1dutj8.wav\n",
      "Deleting original file songs/7nFtb1dutj8.m4a (pass -k to keep)\n",
      "[youtube] bkPocZruyLs: Downloading webpage\n",
      "[youtube] bkPocZruyLs: Downloading video info webpage\n",
      "[youtube] bkPocZruyLs: Extracting video information\n",
      "[youtube] bkPocZruyLs: Downloading MPD manifest\n"
     ]
    },
    {
     "name": "stderr",
     "output_type": "stream",
     "text": [
      "WARNING: \"id\" field is not a string - forcing string conversion, there is an error in extractor\n"
     ]
    },
    {
     "name": "stdout",
     "output_type": "stream",
     "text": [
      "[download] Destination: songs/bkPocZruyLs.webm\n",
      "[download] 100% of 1.39MiB in 00:02\n",
      "[ffmpeg] Destination: songs/bkPocZruyLs.wav\n",
      "Deleting original file songs/bkPocZruyLs.webm (pass -k to keep)\n",
      "[youtube] XLNzefI5jys: Downloading webpage\n",
      "[youtube] XLNzefI5jys: Downloading video info webpage\n",
      "[youtube] XLNzefI5jys: Extracting video information\n",
      "[youtube] XLNzefI5jys: Downloading MPD manifest\n"
     ]
    },
    {
     "name": "stderr",
     "output_type": "stream",
     "text": [
      "WARNING: \"id\" field is not a string - forcing string conversion, there is an error in extractor\n"
     ]
    },
    {
     "name": "stdout",
     "output_type": "stream",
     "text": [
      "[download] Destination: songs/XLNzefI5jys.m4a\n",
      "[download] 100% of 4.02MiB in 00:07\n",
      "[ffmpeg] Correcting container in \"songs/XLNzefI5jys.m4a\"\n",
      "[ffmpeg] Destination: songs/XLNzefI5jys.wav\n",
      "Deleting original file songs/XLNzefI5jys.m4a (pass -k to keep)\n",
      "[youtube] S4afM72DwoA: Downloading webpage\n",
      "[youtube] S4afM72DwoA: Downloading video info webpage\n",
      "[youtube] S4afM72DwoA: Extracting video information\n",
      "[youtube] S4afM72DwoA: Downloading MPD manifest\n"
     ]
    },
    {
     "name": "stderr",
     "output_type": "stream",
     "text": [
      "WARNING: \"id\" field is not a string - forcing string conversion, there is an error in extractor\n"
     ]
    },
    {
     "name": "stdout",
     "output_type": "stream",
     "text": [
      "[download] Destination: songs/S4afM72DwoA.webm\n",
      "[download] 100% of 1.22MiB in 00:02\n",
      "[ffmpeg] Destination: songs/S4afM72DwoA.wav\n",
      "Deleting original file songs/S4afM72DwoA.webm (pass -k to keep)\n",
      "[youtube] 5Sh9irzHHOg: Downloading webpage\n",
      "[youtube] 5Sh9irzHHOg: Downloading video info webpage\n",
      "[youtube] 5Sh9irzHHOg: Extracting video information\n",
      "[youtube] 5Sh9irzHHOg: Downloading MPD manifest\n"
     ]
    },
    {
     "name": "stderr",
     "output_type": "stream",
     "text": [
      "WARNING: \"id\" field is not a string - forcing string conversion, there is an error in extractor\n"
     ]
    },
    {
     "name": "stdout",
     "output_type": "stream",
     "text": [
      "[download] Destination: songs/5Sh9irzHHOg.webm\n",
      "[download] 100% of 3.15MiB in 00:06\n",
      "[ffmpeg] Destination: songs/5Sh9irzHHOg.wav\n",
      "Deleting original file songs/5Sh9irzHHOg.webm (pass -k to keep)\n",
      "[youtube] cHQCUZ422qU: Downloading webpage\n",
      "[youtube] cHQCUZ422qU: Downloading video info webpage\n",
      "[youtube] cHQCUZ422qU: Extracting video information\n",
      "[youtube] cHQCUZ422qU: Downloading MPD manifest\n"
     ]
    },
    {
     "name": "stderr",
     "output_type": "stream",
     "text": [
      "WARNING: \"id\" field is not a string - forcing string conversion, there is an error in extractor\n"
     ]
    },
    {
     "name": "stdout",
     "output_type": "stream",
     "text": [
      "[download] Destination: songs/cHQCUZ422qU.webm\n",
      "[download] 100% of 3.04MiB in 00:06\n",
      "[ffmpeg] Destination: songs/cHQCUZ422qU.wav\n",
      "Deleting original file songs/cHQCUZ422qU.webm (pass -k to keep)\n",
      "[youtube] kCeZzW54a2o: Downloading webpage\n",
      "[youtube] kCeZzW54a2o: Downloading video info webpage\n",
      "[youtube] kCeZzW54a2o: Extracting video information\n",
      "[youtube] kCeZzW54a2o: Downloading MPD manifest\n"
     ]
    },
    {
     "name": "stderr",
     "output_type": "stream",
     "text": [
      "WARNING: \"id\" field is not a string - forcing string conversion, there is an error in extractor\n"
     ]
    },
    {
     "name": "stdout",
     "output_type": "stream",
     "text": [
      "[download] Destination: songs/kCeZzW54a2o.webm\n",
      "[download] 100% of 3.22MiB in 00:06\n",
      "[ffmpeg] Destination: songs/kCeZzW54a2o.wav\n",
      "Deleting original file songs/kCeZzW54a2o.webm (pass -k to keep)\n",
      "[youtube] 5A44N_ewyTU: Downloading webpage\n",
      "[youtube] 5A44N_ewyTU: Downloading video info webpage\n",
      "[youtube] 5A44N_ewyTU: Extracting video information\n",
      "[youtube] 5A44N_ewyTU: Downloading MPD manifest\n"
     ]
    },
    {
     "name": "stderr",
     "output_type": "stream",
     "text": [
      "WARNING: \"id\" field is not a string - forcing string conversion, there is an error in extractor\n"
     ]
    },
    {
     "name": "stdout",
     "output_type": "stream",
     "text": [
      "[download] Destination: songs/5A44N_ewyTU.m4a\n",
      "[download] 100% of 4.06MiB in 00:08\n",
      "[ffmpeg] Correcting container in \"songs/5A44N_ewyTU.m4a\"\n",
      "[ffmpeg] Destination: songs/5A44N_ewyTU.wav\n",
      "Deleting original file songs/5A44N_ewyTU.m4a (pass -k to keep)\n",
      "[youtube] sqGP6p0mNc8: Downloading webpage\n",
      "[youtube] sqGP6p0mNc8: Downloading video info webpage\n",
      "[youtube] sqGP6p0mNc8: Extracting video information\n",
      "[youtube] sqGP6p0mNc8: Downloading MPD manifest\n"
     ]
    },
    {
     "name": "stderr",
     "output_type": "stream",
     "text": [
      "WARNING: \"id\" field is not a string - forcing string conversion, there is an error in extractor\n"
     ]
    },
    {
     "name": "stdout",
     "output_type": "stream",
     "text": [
      "[download] Destination: songs/sqGP6p0mNc8.webm\n",
      "[download] 100% of 2.83MiB in 00:05\n",
      "[ffmpeg] Destination: songs/sqGP6p0mNc8.wav\n",
      "Deleting original file songs/sqGP6p0mNc8.webm (pass -k to keep)\n",
      "[youtube] Gv-0SIK3tpk: Downloading webpage\n",
      "[youtube] Gv-0SIK3tpk: Downloading video info webpage\n",
      "[youtube] Gv-0SIK3tpk: Extracting video information\n",
      "[youtube] Gv-0SIK3tpk: Downloading MPD manifest\n"
     ]
    },
    {
     "name": "stderr",
     "output_type": "stream",
     "text": [
      "WARNING: \"id\" field is not a string - forcing string conversion, there is an error in extractor\n"
     ]
    },
    {
     "name": "stdout",
     "output_type": "stream",
     "text": [
      "[download] Destination: songs/Gv-0SIK3tpk.m4a\n",
      "[download] 100% of 4.02MiB in 00:07\n",
      "[ffmpeg] Correcting container in \"songs/Gv-0SIK3tpk.m4a\"\n",
      "[ffmpeg] Destination: songs/Gv-0SIK3tpk.wav\n",
      "Deleting original file songs/Gv-0SIK3tpk.m4a (pass -k to keep)\n",
      "[youtube] aNs_PpRDzsc: Downloading webpage\n",
      "[youtube] aNs_PpRDzsc: Downloading video info webpage\n",
      "[youtube] aNs_PpRDzsc: Extracting video information\n",
      "[youtube] aNs_PpRDzsc: Downloading MPD manifest\n"
     ]
    },
    {
     "name": "stderr",
     "output_type": "stream",
     "text": [
      "WARNING: \"id\" field is not a string - forcing string conversion, there is an error in extractor\n"
     ]
    },
    {
     "name": "stdout",
     "output_type": "stream",
     "text": [
      "[download] Destination: songs/aNs_PpRDzsc.webm\n",
      "[download] 100% of 2.52MiB in 00:04\n",
      "[ffmpeg] Destination: songs/aNs_PpRDzsc.wav\n",
      "Deleting original file songs/aNs_PpRDzsc.webm (pass -k to keep)\n",
      "[youtube] NN35-Nc4nU8: Downloading webpage\n",
      "[youtube] NN35-Nc4nU8: Downloading video info webpage\n",
      "[youtube] NN35-Nc4nU8: Extracting video information\n",
      "[youtube] NN35-Nc4nU8: Downloading MPD manifest\n",
      "[youtube] NN35-Nc4nU8: Downloading MPD manifest\n"
     ]
    },
    {
     "name": "stderr",
     "output_type": "stream",
     "text": [
      "WARNING: \"id\" field is not a string - forcing string conversion, there is an error in extractor\n"
     ]
    },
    {
     "name": "stdout",
     "output_type": "stream",
     "text": [
      "[dashsegments] Total fragments: 29\n",
      "[download] Destination: songs/NN35-Nc4nU8.m4a\n",
      "[download] 100% of 4.23MiB in 00:14\n",
      "[ffmpeg] Correcting container in \"songs/NN35-Nc4nU8.m4a\"\n",
      "[ffmpeg] Destination: songs/NN35-Nc4nU8.wav\n",
      "Deleting original file songs/NN35-Nc4nU8.m4a (pass -k to keep)\n",
      "[youtube] HK6_XODyNqU: Downloading webpage\n",
      "[youtube] HK6_XODyNqU: Downloading video info webpage\n",
      "[youtube] HK6_XODyNqU: Extracting video information\n",
      "[youtube] HK6_XODyNqU: Downloading MPD manifest\n"
     ]
    },
    {
     "name": "stderr",
     "output_type": "stream",
     "text": [
      "WARNING: \"id\" field is not a string - forcing string conversion, there is an error in extractor\n"
     ]
    },
    {
     "name": "stdout",
     "output_type": "stream",
     "text": [
      "[download] Destination: songs/HK6_XODyNqU.webm\n",
      "[download] 100% of 3.39MiB in 00:06\n",
      "[ffmpeg] Destination: songs/HK6_XODyNqU.wav\n",
      "Deleting original file songs/HK6_XODyNqU.webm (pass -k to keep)\n",
      "[youtube] isrzYDKmir4: Downloading webpage\n",
      "[youtube] isrzYDKmir4: Downloading video info webpage\n",
      "[youtube] isrzYDKmir4: Extracting video information\n",
      "[youtube] isrzYDKmir4: Downloading MPD manifest\n"
     ]
    },
    {
     "name": "stderr",
     "output_type": "stream",
     "text": [
      "WARNING: \"id\" field is not a string - forcing string conversion, there is an error in extractor\n"
     ]
    },
    {
     "name": "stdout",
     "output_type": "stream",
     "text": [
      "[download] Destination: songs/isrzYDKmir4.webm\n",
      "[download] 100% of 2.40MiB in 00:04\n",
      "[ffmpeg] Destination: songs/isrzYDKmir4.wav\n",
      "Deleting original file songs/isrzYDKmir4.webm (pass -k to keep)\n",
      "[youtube] LzzkTUooip8: Downloading webpage\n",
      "[youtube] LzzkTUooip8: Downloading video info webpage\n",
      "[youtube] LzzkTUooip8: Extracting video information\n",
      "[youtube] LzzkTUooip8: Downloading MPD manifest\n"
     ]
    },
    {
     "name": "stderr",
     "output_type": "stream",
     "text": [
      "WARNING: \"id\" field is not a string - forcing string conversion, there is an error in extractor\n"
     ]
    },
    {
     "name": "stdout",
     "output_type": "stream",
     "text": [
      "[download] Destination: songs/LzzkTUooip8.webm\n",
      "[download] 100% of 3.12MiB in 00:06\n",
      "[ffmpeg] Destination: songs/LzzkTUooip8.wav\n",
      "Deleting original file songs/LzzkTUooip8.webm (pass -k to keep)\n",
      "[youtube] pctI_9zlQWg: Downloading webpage\n",
      "[youtube] pctI_9zlQWg: Downloading video info webpage\n",
      "[youtube] pctI_9zlQWg: Extracting video information\n",
      "[youtube] pctI_9zlQWg: Downloading MPD manifest\n",
      "[youtube] pctI_9zlQWg: Downloading MPD manifest\n"
     ]
    },
    {
     "name": "stderr",
     "output_type": "stream",
     "text": [
      "WARNING: \"id\" field is not a string - forcing string conversion, there is an error in extractor\n"
     ]
    },
    {
     "name": "stdout",
     "output_type": "stream",
     "text": [
      "[dashsegments] Total fragments: 22\n",
      "[download] Destination: songs/pctI_9zlQWg.m4a\n",
      "[download] 100% of 3.19MiB in 00:11\n",
      "[ffmpeg] Correcting container in \"songs/pctI_9zlQWg.m4a\"\n",
      "[ffmpeg] Destination: songs/pctI_9zlQWg.wav\n",
      "Deleting original file songs/pctI_9zlQWg.m4a (pass -k to keep)\n",
      "[youtube] hQepCuSapX0: Downloading webpage\n",
      "[youtube] hQepCuSapX0: Downloading video info webpage\n",
      "[youtube] hQepCuSapX0: Extracting video information\n",
      "[youtube] hQepCuSapX0: Downloading MPD manifest\n"
     ]
    },
    {
     "name": "stderr",
     "output_type": "stream",
     "text": [
      "WARNING: \"id\" field is not a string - forcing string conversion, there is an error in extractor\n"
     ]
    },
    {
     "name": "stdout",
     "output_type": "stream",
     "text": [
      "[download] Destination: songs/hQepCuSapX0.webm\n",
      "[download] 100% of 4.68MiB in 00:09\n",
      "[ffmpeg] Destination: songs/hQepCuSapX0.wav\n",
      "Deleting original file songs/hQepCuSapX0.webm (pass -k to keep)\n",
      "[youtube] TWgmJeNxkzs: Downloading webpage\n",
      "[youtube] TWgmJeNxkzs: Downloading video info webpage\n",
      "[youtube] TWgmJeNxkzs: Extracting video information\n",
      "[youtube] TWgmJeNxkzs: Downloading MPD manifest\n"
     ]
    },
    {
     "name": "stderr",
     "output_type": "stream",
     "text": [
      "WARNING: \"id\" field is not a string - forcing string conversion, there is an error in extractor\n"
     ]
    },
    {
     "name": "stdout",
     "output_type": "stream",
     "text": [
      "[download] Destination: songs/TWgmJeNxkzs.m4a\n",
      "[download] 100% of 2.67MiB in 00:05\n",
      "[ffmpeg] Correcting container in \"songs/TWgmJeNxkzs.m4a\"\n",
      "[ffmpeg] Destination: songs/TWgmJeNxkzs.wav\n",
      "Deleting original file songs/TWgmJeNxkzs.m4a (pass -k to keep)\n",
      "[youtube] BLiH1Wtd4jU: Downloading webpage\n",
      "[youtube] BLiH1Wtd4jU: Downloading video info webpage\n",
      "[youtube] BLiH1Wtd4jU: Extracting video information\n",
      "[youtube] BLiH1Wtd4jU: Downloading MPD manifest\n"
     ]
    },
    {
     "name": "stderr",
     "output_type": "stream",
     "text": [
      "WARNING: \"id\" field is not a string - forcing string conversion, there is an error in extractor\n"
     ]
    },
    {
     "name": "stdout",
     "output_type": "stream",
     "text": [
      "[download] Destination: songs/BLiH1Wtd4jU.webm\n",
      "[download] 100% of 1.93MiB in 00:03\n",
      "[ffmpeg] Destination: songs/BLiH1Wtd4jU.wav\n",
      "Deleting original file songs/BLiH1Wtd4jU.webm (pass -k to keep)\n",
      "[youtube] j8d6A4J0Aqc: Downloading webpage\n",
      "[youtube] j8d6A4J0Aqc: Downloading video info webpage\n",
      "[youtube] j8d6A4J0Aqc: Extracting video information\n",
      "[youtube] j8d6A4J0Aqc: Downloading MPD manifest\n"
     ]
    },
    {
     "name": "stderr",
     "output_type": "stream",
     "text": [
      "WARNING: \"id\" field is not a string - forcing string conversion, there is an error in extractor\n"
     ]
    },
    {
     "name": "stdout",
     "output_type": "stream",
     "text": [
      "[download] Destination: songs/j8d6A4J0Aqc.webm\n",
      "[download] 100% of 4.79MiB in 00:09\n",
      "[ffmpeg] Destination: songs/j8d6A4J0Aqc.wav\n",
      "Deleting original file songs/j8d6A4J0Aqc.webm (pass -k to keep)\n",
      "[youtube] Zfy6No9Q1yw: Downloading webpage\n",
      "[youtube] Zfy6No9Q1yw: Downloading video info webpage\n",
      "[youtube] Zfy6No9Q1yw: Extracting video information\n",
      "[youtube] Zfy6No9Q1yw: Downloading MPD manifest\n"
     ]
    },
    {
     "name": "stderr",
     "output_type": "stream",
     "text": [
      "WARNING: \"id\" field is not a string - forcing string conversion, there is an error in extractor\n"
     ]
    },
    {
     "name": "stdout",
     "output_type": "stream",
     "text": [
      "[download] Destination: songs/Zfy6No9Q1yw.webm\n",
      "[download] 100% of 4.40MiB in 00:08\n",
      "[ffmpeg] Destination: songs/Zfy6No9Q1yw.wav\n",
      "Deleting original file songs/Zfy6No9Q1yw.webm (pass -k to keep)\n",
      "[youtube] V_35E33WYbI: Downloading webpage\n",
      "[youtube] V_35E33WYbI: Downloading video info webpage\n",
      "[youtube] V_35E33WYbI: Extracting video information\n",
      "[youtube] V_35E33WYbI: Downloading MPD manifest\n"
     ]
    },
    {
     "name": "stderr",
     "output_type": "stream",
     "text": [
      "WARNING: \"id\" field is not a string - forcing string conversion, there is an error in extractor\n"
     ]
    },
    {
     "name": "stdout",
     "output_type": "stream",
     "text": [
      "[download] Destination: songs/V_35E33WYbI.webm\n",
      "[download] 100% of 3.77MiB in 00:07\n",
      "[ffmpeg] Destination: songs/V_35E33WYbI.wav\n",
      "Deleting original file songs/V_35E33WYbI.webm (pass -k to keep)\n",
      "[youtube] NH9mwHTND7w: Downloading webpage\n",
      "[youtube] NH9mwHTND7w: Downloading video info webpage\n",
      "[youtube] NH9mwHTND7w: Extracting video information\n",
      "[youtube] NH9mwHTND7w: Downloading MPD manifest\n"
     ]
    },
    {
     "name": "stderr",
     "output_type": "stream",
     "text": [
      "WARNING: \"id\" field is not a string - forcing string conversion, there is an error in extractor\n"
     ]
    },
    {
     "name": "stdout",
     "output_type": "stream",
     "text": [
      "[download] Destination: songs/NH9mwHTND7w.webm\n",
      "[download] 100% of 2.43MiB in 00:04\n",
      "[ffmpeg] Destination: songs/NH9mwHTND7w.wav\n",
      "Deleting original file songs/NH9mwHTND7w.webm (pass -k to keep)\n",
      "[youtube] c2eWE4i2UXE: Downloading webpage\n",
      "[youtube] c2eWE4i2UXE: Downloading video info webpage\n",
      "[youtube] c2eWE4i2UXE: Extracting video information\n",
      "[youtube] c2eWE4i2UXE: Downloading MPD manifest\n"
     ]
    },
    {
     "name": "stderr",
     "output_type": "stream",
     "text": [
      "WARNING: \"id\" field is not a string - forcing string conversion, there is an error in extractor\n"
     ]
    },
    {
     "name": "stdout",
     "output_type": "stream",
     "text": [
      "[download] Destination: songs/c2eWE4i2UXE.webm\n",
      "[download] 100% of 4.93MiB in 00:09\n",
      "[ffmpeg] Destination: songs/c2eWE4i2UXE.wav\n",
      "Deleting original file songs/c2eWE4i2UXE.webm (pass -k to keep)\n",
      "[youtube] hX5vAczM7Qc: Downloading webpage\n",
      "[youtube] hX5vAczM7Qc: Downloading video info webpage\n"
     ]
    },
    {
     "name": "stderr",
     "output_type": "stream",
     "text": [
      "ERROR: hX5vAczM7Qc: YouTube said: This video contains content from WMG, who has blocked it in your country on copyright grounds.\n"
     ]
    },
    {
     "name": "stdout",
     "output_type": "stream",
     "text": [
      "[youtube] gKQs0lPUzTk: Downloading webpage\n",
      "[youtube] gKQs0lPUzTk: Downloading video info webpage\n",
      "[youtube] gKQs0lPUzTk: Extracting video information\n",
      "[youtube] gKQs0lPUzTk: Downloading MPD manifest\n"
     ]
    },
    {
     "name": "stderr",
     "output_type": "stream",
     "text": [
      "WARNING: \"id\" field is not a string - forcing string conversion, there is an error in extractor\n"
     ]
    },
    {
     "name": "stdout",
     "output_type": "stream",
     "text": [
      "[download] Destination: songs/gKQs0lPUzTk.m4a\n",
      "[download] 100% of 2.32MiB in 00:04\n",
      "[ffmpeg] Correcting container in \"songs/gKQs0lPUzTk.m4a\"\n",
      "[ffmpeg] Destination: songs/gKQs0lPUzTk.wav\n",
      "Deleting original file songs/gKQs0lPUzTk.m4a (pass -k to keep)\n",
      "[youtube] TsvLy-wwe84: Downloading webpage\n",
      "[youtube] TsvLy-wwe84: Downloading video info webpage\n",
      "[youtube] TsvLy-wwe84: Extracting video information\n",
      "[youtube] TsvLy-wwe84: Downloading MPD manifest\n",
      "[youtube] TsvLy-wwe84: Downloading MPD manifest\n"
     ]
    },
    {
     "name": "stderr",
     "output_type": "stream",
     "text": [
      "WARNING: \"id\" field is not a string - forcing string conversion, there is an error in extractor\n"
     ]
    },
    {
     "name": "stdout",
     "output_type": "stream",
     "text": [
      "[dashsegments] Total fragments: 25\n",
      "[download] Destination: songs/TsvLy-wwe84.m4a\n",
      "[download] 100% of 3.50MiB in 00:12\n",
      "[ffmpeg] Correcting container in \"songs/TsvLy-wwe84.m4a\"\n",
      "[ffmpeg] Destination: songs/TsvLy-wwe84.wav\n",
      "Deleting original file songs/TsvLy-wwe84.m4a (pass -k to keep)\n",
      "[youtube] KB9K0zGfCr8: Downloading webpage\n",
      "[youtube] KB9K0zGfCr8: Downloading video info webpage\n",
      "[youtube] KB9K0zGfCr8: Extracting video information\n",
      "[youtube] KB9K0zGfCr8: Downloading MPD manifest\n"
     ]
    },
    {
     "name": "stderr",
     "output_type": "stream",
     "text": [
      "WARNING: \"id\" field is not a string - forcing string conversion, there is an error in extractor\n"
     ]
    },
    {
     "name": "stdout",
     "output_type": "stream",
     "text": [
      "[download] Destination: songs/KB9K0zGfCr8.m4a\n",
      "[download] 100% of 3.50MiB in 00:06\n",
      "[ffmpeg] Correcting container in \"songs/KB9K0zGfCr8.m4a\"\n",
      "[ffmpeg] Destination: songs/KB9K0zGfCr8.wav\n",
      "Deleting original file songs/KB9K0zGfCr8.m4a (pass -k to keep)\n",
      "[youtube] rPodDtUsupw: Downloading webpage\n",
      "[youtube] rPodDtUsupw: Downloading video info webpage\n",
      "[youtube] rPodDtUsupw: Extracting video information\n",
      "[youtube] rPodDtUsupw: Downloading MPD manifest\n",
      "[youtube] rPodDtUsupw: Downloading MPD manifest\n"
     ]
    },
    {
     "name": "stderr",
     "output_type": "stream",
     "text": [
      "WARNING: \"id\" field is not a string - forcing string conversion, there is an error in extractor\n"
     ]
    },
    {
     "name": "stdout",
     "output_type": "stream",
     "text": [
      "[dashsegments] Total fragments: 45\n",
      "[download] Destination: songs/rPodDtUsupw.m4a\n",
      "[download] 100% of 2.49MiB in 00:13\n",
      "[ffmpeg] Correcting container in \"songs/rPodDtUsupw.m4a\"\n",
      "[ffmpeg] Destination: songs/rPodDtUsupw.wav\n",
      "Deleting original file songs/rPodDtUsupw.m4a (pass -k to keep)\n",
      "[youtube] NZp_GY7mNwY: Downloading webpage\n",
      "[youtube] NZp_GY7mNwY: Downloading video info webpage\n",
      "[youtube] NZp_GY7mNwY: Extracting video information\n",
      "[youtube] NZp_GY7mNwY: Downloading MPD manifest\n"
     ]
    },
    {
     "name": "stderr",
     "output_type": "stream",
     "text": [
      "WARNING: \"id\" field is not a string - forcing string conversion, there is an error in extractor\n"
     ]
    },
    {
     "name": "stdout",
     "output_type": "stream",
     "text": [
      "[download] Destination: songs/NZp_GY7mNwY.m4a\n",
      "[download] 100% of 3.22MiB in 00:06\n",
      "[ffmpeg] Correcting container in \"songs/NZp_GY7mNwY.m4a\"\n",
      "[ffmpeg] Destination: songs/NZp_GY7mNwY.wav\n",
      "Deleting original file songs/NZp_GY7mNwY.m4a (pass -k to keep)\n",
      "[youtube] iOUBJ-6ATxA: Downloading webpage\n",
      "[youtube] iOUBJ-6ATxA: Downloading video info webpage\n",
      "[youtube] iOUBJ-6ATxA: Extracting video information\n",
      "[youtube] iOUBJ-6ATxA: Downloading MPD manifest\n"
     ]
    },
    {
     "name": "stderr",
     "output_type": "stream",
     "text": [
      "WARNING: \"id\" field is not a string - forcing string conversion, there is an error in extractor\n"
     ]
    },
    {
     "name": "stdout",
     "output_type": "stream",
     "text": [
      "[download] Destination: songs/iOUBJ-6ATxA.webm\n",
      "[download] 100% of 3.06MiB in 00:06\n",
      "[ffmpeg] Destination: songs/iOUBJ-6ATxA.wav\n",
      "Deleting original file songs/iOUBJ-6ATxA.webm (pass -k to keep)\n",
      "[youtube] 1mSysnB4fMw: Downloading webpage\n",
      "[youtube] 1mSysnB4fMw: Downloading video info webpage\n",
      "[youtube] 1mSysnB4fMw: Extracting video information\n",
      "[youtube] 1mSysnB4fMw: Downloading MPD manifest\n"
     ]
    },
    {
     "name": "stderr",
     "output_type": "stream",
     "text": [
      "WARNING: \"id\" field is not a string - forcing string conversion, there is an error in extractor\n"
     ]
    },
    {
     "name": "stdout",
     "output_type": "stream",
     "text": [
      "[download] Destination: songs/1mSysnB4fMw.webm\n",
      "[download] 100% of 2.85MiB in 00:05\n",
      "[ffmpeg] Destination: songs/1mSysnB4fMw.wav\n",
      "Deleting original file songs/1mSysnB4fMw.webm (pass -k to keep)\n",
      "[youtube] UxMudofIfJ0: Downloading webpage\n",
      "[youtube] UxMudofIfJ0: Downloading video info webpage\n",
      "[youtube] UxMudofIfJ0: Extracting video information\n",
      "[youtube] UxMudofIfJ0: Downloading MPD manifest\n"
     ]
    },
    {
     "name": "stderr",
     "output_type": "stream",
     "text": [
      "WARNING: \"id\" field is not a string - forcing string conversion, there is an error in extractor\n"
     ]
    },
    {
     "name": "stdout",
     "output_type": "stream",
     "text": [
      "[download] Destination: songs/UxMudofIfJ0.m4a\n",
      "[download] 100% of 2.10MiB in 00:04\n",
      "[ffmpeg] Correcting container in \"songs/UxMudofIfJ0.m4a\"\n",
      "[ffmpeg] Destination: songs/UxMudofIfJ0.wav\n",
      "Deleting original file songs/UxMudofIfJ0.m4a (pass -k to keep)\n",
      "[youtube] WkLn5NX_ycI: Downloading webpage\n",
      "[youtube] WkLn5NX_ycI: Downloading video info webpage\n",
      "[youtube] WkLn5NX_ycI: Extracting video information\n",
      "[youtube] WkLn5NX_ycI: Downloading MPD manifest\n"
     ]
    },
    {
     "name": "stderr",
     "output_type": "stream",
     "text": [
      "WARNING: \"id\" field is not a string - forcing string conversion, there is an error in extractor\n"
     ]
    },
    {
     "name": "stdout",
     "output_type": "stream",
     "text": [
      "[download] Destination: songs/WkLn5NX_ycI.m4a\n",
      "[download] 100% of 2.21MiB in 00:04\n",
      "[ffmpeg] Correcting container in \"songs/WkLn5NX_ycI.m4a\"\n",
      "[ffmpeg] Destination: songs/WkLn5NX_ycI.wav\n",
      "Deleting original file songs/WkLn5NX_ycI.m4a (pass -k to keep)\n",
      "[youtube] z-JQL4Y8E4g: Downloading webpage\n",
      "[youtube] z-JQL4Y8E4g: Downloading video info webpage\n",
      "[youtube] z-JQL4Y8E4g: Extracting video information\n",
      "[youtube] z-JQL4Y8E4g: Downloading MPD manifest\n"
     ]
    },
    {
     "name": "stderr",
     "output_type": "stream",
     "text": [
      "WARNING: \"id\" field is not a string - forcing string conversion, there is an error in extractor\n"
     ]
    },
    {
     "name": "stdout",
     "output_type": "stream",
     "text": [
      "[download] Destination: songs/z-JQL4Y8E4g.webm\n",
      "[download] 100% of 3.12MiB in 00:06\n",
      "[ffmpeg] Destination: songs/z-JQL4Y8E4g.wav\n",
      "Deleting original file songs/z-JQL4Y8E4g.webm (pass -k to keep)\n",
      "[youtube] hzGrD9pVIKI: Downloading webpage\n",
      "[youtube] hzGrD9pVIKI: Downloading video info webpage\n",
      "[youtube] hzGrD9pVIKI: Extracting video information\n",
      "[youtube] hzGrD9pVIKI: Downloading MPD manifest\n"
     ]
    },
    {
     "name": "stderr",
     "output_type": "stream",
     "text": [
      "WARNING: \"id\" field is not a string - forcing string conversion, there is an error in extractor\n"
     ]
    },
    {
     "name": "stdout",
     "output_type": "stream",
     "text": [
      "[download] Destination: songs/hzGrD9pVIKI.webm\n",
      "[download] 100% of 4.06MiB in 00:08\n",
      "[ffmpeg] Destination: songs/hzGrD9pVIKI.wav\n",
      "Deleting original file songs/hzGrD9pVIKI.webm (pass -k to keep)\n",
      "[youtube] kEf2XxwU758: Downloading webpage\n",
      "[youtube] kEf2XxwU758: Downloading video info webpage\n",
      "[youtube] kEf2XxwU758: Extracting video information\n",
      "[youtube] kEf2XxwU758: Downloading MPD manifest\n"
     ]
    },
    {
     "name": "stderr",
     "output_type": "stream",
     "text": [
      "WARNING: \"id\" field is not a string - forcing string conversion, there is an error in extractor\n"
     ]
    },
    {
     "name": "stdout",
     "output_type": "stream",
     "text": [
      "[download] Destination: songs/kEf2XxwU758.webm\n",
      "[download] 100% of 3.81MiB in 00:07\n",
      "[ffmpeg] Destination: songs/kEf2XxwU758.wav\n",
      "Deleting original file songs/kEf2XxwU758.webm (pass -k to keep)\n",
      "[youtube] k7hU1mpG7B0: Downloading webpage\n",
      "[youtube] k7hU1mpG7B0: Downloading video info webpage\n",
      "[youtube] k7hU1mpG7B0: Extracting video information\n",
      "[youtube] k7hU1mpG7B0: Downloading MPD manifest\n"
     ]
    },
    {
     "name": "stderr",
     "output_type": "stream",
     "text": [
      "WARNING: \"id\" field is not a string - forcing string conversion, there is an error in extractor\n"
     ]
    },
    {
     "name": "stdout",
     "output_type": "stream",
     "text": [
      "[download] Destination: songs/k7hU1mpG7B0.m4a\n",
      "[download] 100% of 3.50MiB in 00:06\n",
      "[ffmpeg] Correcting container in \"songs/k7hU1mpG7B0.m4a\"\n",
      "[ffmpeg] Destination: songs/k7hU1mpG7B0.wav\n",
      "Deleting original file songs/k7hU1mpG7B0.m4a (pass -k to keep)\n",
      "[youtube] dBqd46VSjEI: Downloading webpage\n",
      "[youtube] dBqd46VSjEI: Downloading video info webpage\n",
      "[youtube] dBqd46VSjEI: Extracting video information\n",
      "[youtube] dBqd46VSjEI: Downloading MPD manifest\n",
      "[youtube] dBqd46VSjEI: Downloading MPD manifest\n"
     ]
    },
    {
     "name": "stderr",
     "output_type": "stream",
     "text": [
      "WARNING: \"id\" field is not a string - forcing string conversion, there is an error in extractor\n"
     ]
    },
    {
     "name": "stdout",
     "output_type": "stream",
     "text": [
      "[dashsegments] Total fragments: 47\n",
      "[download] Destination: songs/dBqd46VSjEI.m4a\n",
      "[download] 100% of 3.48MiB in 00:15\n",
      "[ffmpeg] Correcting container in \"songs/dBqd46VSjEI.m4a\"\n",
      "[ffmpeg] Destination: songs/dBqd46VSjEI.wav\n",
      "Deleting original file songs/dBqd46VSjEI.m4a (pass -k to keep)\n",
      "[youtube] RZfxH5fyqAY: Downloading webpage\n",
      "[youtube] RZfxH5fyqAY: Downloading video info webpage\n",
      "[youtube] RZfxH5fyqAY: Extracting video information\n",
      "[youtube] RZfxH5fyqAY: Downloading MPD manifest\n"
     ]
    },
    {
     "name": "stderr",
     "output_type": "stream",
     "text": [
      "WARNING: \"id\" field is not a string - forcing string conversion, there is an error in extractor\n"
     ]
    },
    {
     "name": "stdout",
     "output_type": "stream",
     "text": [
      "[download] Destination: songs/RZfxH5fyqAY.m4a\n",
      "[download] 100% of 4.09MiB in 00:08\n",
      "[ffmpeg] Correcting container in \"songs/RZfxH5fyqAY.m4a\"\n",
      "[ffmpeg] Destination: songs/RZfxH5fyqAY.wav\n",
      "Deleting original file songs/RZfxH5fyqAY.m4a (pass -k to keep)\n",
      "[youtube] LYQ74lEhUms: Downloading webpage\n",
      "[youtube] LYQ74lEhUms: Downloading video info webpage\n",
      "[youtube] LYQ74lEhUms: Extracting video information\n",
      "[youtube] LYQ74lEhUms: Downloading MPD manifest\n",
      "[youtube] LYQ74lEhUms: Downloading MPD manifest\n"
     ]
    },
    {
     "name": "stderr",
     "output_type": "stream",
     "text": [
      "WARNING: \"id\" field is not a string - forcing string conversion, there is an error in extractor\n"
     ]
    },
    {
     "name": "stdout",
     "output_type": "stream",
     "text": [
      "[dashsegments] Total fragments: 51\n",
      "[download] Destination: songs/LYQ74lEhUms.m4a\n",
      "[download] 100% of 7.57MiB in 00:28\n",
      "[ffmpeg] Correcting container in \"songs/LYQ74lEhUms.m4a\"\n",
      "[ffmpeg] Destination: songs/LYQ74lEhUms.wav\n",
      "Deleting original file songs/LYQ74lEhUms.m4a (pass -k to keep)\n",
      "[youtube] 8Usd9xC-xhA: Downloading webpage\n",
      "[youtube] 8Usd9xC-xhA: Downloading video info webpage\n",
      "[youtube] 8Usd9xC-xhA: Extracting video information\n",
      "[youtube] 8Usd9xC-xhA: Downloading MPD manifest\n"
     ]
    },
    {
     "name": "stderr",
     "output_type": "stream",
     "text": [
      "WARNING: \"id\" field is not a string - forcing string conversion, there is an error in extractor\n"
     ]
    },
    {
     "name": "stdout",
     "output_type": "stream",
     "text": [
      "[download] Destination: songs/8Usd9xC-xhA.webm\n",
      "[download] 100% of 4.49MiB in 00:09\n",
      "[ffmpeg] Destination: songs/8Usd9xC-xhA.wav\n",
      "Deleting original file songs/8Usd9xC-xhA.webm (pass -k to keep)\n",
      "[youtube] hBaYOD_NJY8: Downloading webpage\n",
      "[youtube] hBaYOD_NJY8: Downloading video info webpage\n",
      "[youtube] hBaYOD_NJY8: Extracting video information\n",
      "[youtube] hBaYOD_NJY8: Downloading MPD manifest\n"
     ]
    },
    {
     "name": "stderr",
     "output_type": "stream",
     "text": [
      "WARNING: \"id\" field is not a string - forcing string conversion, there is an error in extractor\n"
     ]
    },
    {
     "name": "stdout",
     "output_type": "stream",
     "text": [
      "[download] Destination: songs/hBaYOD_NJY8.webm\n",
      "[download] 100% of 3.19MiB in 00:06\n",
      "[ffmpeg] Destination: songs/hBaYOD_NJY8.wav\n",
      "Deleting original file songs/hBaYOD_NJY8.webm (pass -k to keep)\n",
      "[youtube] UR7Ec5KB200: Downloading webpage\n",
      "[youtube] UR7Ec5KB200: Downloading video info webpage\n",
      "[youtube] UR7Ec5KB200: Extracting video information\n",
      "[youtube] UR7Ec5KB200: Downloading MPD manifest\n"
     ]
    },
    {
     "name": "stderr",
     "output_type": "stream",
     "text": [
      "WARNING: \"id\" field is not a string - forcing string conversion, there is an error in extractor\n"
     ]
    },
    {
     "name": "stdout",
     "output_type": "stream",
     "text": [
      "[download] Destination: songs/UR7Ec5KB200.webm\n",
      "[download] 100% of 3.41MiB in 00:06\n",
      "[ffmpeg] Destination: songs/UR7Ec5KB200.wav\n",
      "Deleting original file songs/UR7Ec5KB200.webm (pass -k to keep)\n",
      "[youtube] zAtduX-X__g: Downloading webpage\n",
      "[youtube] zAtduX-X__g: Downloading video info webpage\n",
      "[youtube] zAtduX-X__g: Extracting video information\n",
      "[youtube] zAtduX-X__g: Downloading MPD manifest\n"
     ]
    },
    {
     "name": "stderr",
     "output_type": "stream",
     "text": [
      "WARNING: \"id\" field is not a string - forcing string conversion, there is an error in extractor\n"
     ]
    },
    {
     "name": "stdout",
     "output_type": "stream",
     "text": [
      "[download] Destination: songs/zAtduX-X__g.webm\n",
      "[download] 100% of 2.12MiB in 00:04\n",
      "[ffmpeg] Destination: songs/zAtduX-X__g.wav\n",
      "Deleting original file songs/zAtduX-X__g.webm (pass -k to keep)\n",
      "[youtube] DejHF61vLm0: Downloading webpage\n",
      "[youtube] DejHF61vLm0: Downloading video info webpage\n",
      "[youtube] DejHF61vLm0: Extracting video information\n",
      "[youtube] DejHF61vLm0: Downloading MPD manifest\n"
     ]
    },
    {
     "name": "stderr",
     "output_type": "stream",
     "text": [
      "WARNING: \"id\" field is not a string - forcing string conversion, there is an error in extractor\n"
     ]
    },
    {
     "name": "stdout",
     "output_type": "stream",
     "text": [
      "[download] Destination: songs/DejHF61vLm0.webm\n",
      "[download] 100% of 3.03MiB in 00:05\n",
      "[ffmpeg] Destination: songs/DejHF61vLm0.wav\n",
      "Deleting original file songs/DejHF61vLm0.webm (pass -k to keep)\n",
      "[youtube] 6sGg0at4mI4: Downloading webpage\n",
      "[youtube] 6sGg0at4mI4: Downloading video info webpage\n",
      "[youtube] 6sGg0at4mI4: Extracting video information\n",
      "[youtube] 6sGg0at4mI4: Downloading MPD manifest\n"
     ]
    },
    {
     "name": "stderr",
     "output_type": "stream",
     "text": [
      "WARNING: \"id\" field is not a string - forcing string conversion, there is an error in extractor\n"
     ]
    },
    {
     "name": "stdout",
     "output_type": "stream",
     "text": [
      "[download] Destination: songs/6sGg0at4mI4.webm\n",
      "[download] 100% of 3.14MiB in 00:06\n",
      "[ffmpeg] Destination: songs/6sGg0at4mI4.wav\n",
      "Deleting original file songs/6sGg0at4mI4.webm (pass -k to keep)\n",
      "[youtube] NBkx2E05zcM: Downloading webpage\n",
      "[youtube] NBkx2E05zcM: Downloading video info webpage\n",
      "[youtube] NBkx2E05zcM: Extracting video information\n",
      "[youtube] NBkx2E05zcM: Downloading MPD manifest\n"
     ]
    },
    {
     "name": "stderr",
     "output_type": "stream",
     "text": [
      "WARNING: \"id\" field is not a string - forcing string conversion, there is an error in extractor\n"
     ]
    },
    {
     "name": "stdout",
     "output_type": "stream",
     "text": [
      "[download] Destination: songs/NBkx2E05zcM.webm\n",
      "[download] 100% of 4.06MiB in 00:08\n",
      "[ffmpeg] Destination: songs/NBkx2E05zcM.wav\n",
      "Deleting original file songs/NBkx2E05zcM.webm (pass -k to keep)\n",
      "[youtube] kjRo_CHSdt0: Downloading webpage\n",
      "[youtube] kjRo_CHSdt0: Downloading video info webpage\n",
      "[youtube] kjRo_CHSdt0: Extracting video information\n",
      "[youtube] kjRo_CHSdt0: Downloading MPD manifest\n"
     ]
    },
    {
     "name": "stderr",
     "output_type": "stream",
     "text": [
      "WARNING: \"id\" field is not a string - forcing string conversion, there is an error in extractor\n"
     ]
    },
    {
     "name": "stdout",
     "output_type": "stream",
     "text": [
      "[download] Destination: songs/kjRo_CHSdt0.webm\n",
      "[download] 100% of 2.81MiB in 00:05\n",
      "[ffmpeg] Destination: songs/kjRo_CHSdt0.wav\n",
      "Deleting original file songs/kjRo_CHSdt0.webm (pass -k to keep)\n",
      "[youtube] hSkmZ2mF7lQ: Downloading webpage\n",
      "[youtube] hSkmZ2mF7lQ: Downloading video info webpage\n",
      "[youtube] hSkmZ2mF7lQ: Extracting video information\n",
      "[youtube] hSkmZ2mF7lQ: Downloading MPD manifest\n"
     ]
    },
    {
     "name": "stderr",
     "output_type": "stream",
     "text": [
      "WARNING: \"id\" field is not a string - forcing string conversion, there is an error in extractor\n"
     ]
    },
    {
     "name": "stdout",
     "output_type": "stream",
     "text": [
      "[download] Destination: songs/hSkmZ2mF7lQ.webm\n",
      "[download] 100% of 6.61MiB in 00:13\n",
      "[ffmpeg] Destination: songs/hSkmZ2mF7lQ.wav\n",
      "Deleting original file songs/hSkmZ2mF7lQ.webm (pass -k to keep)\n",
      "[youtube] sC-hpQR6cUw: Downloading webpage\n",
      "[youtube] sC-hpQR6cUw: Downloading video info webpage\n",
      "[youtube] sC-hpQR6cUw: Extracting video information\n",
      "[youtube] sC-hpQR6cUw: Downloading MPD manifest\n"
     ]
    },
    {
     "name": "stderr",
     "output_type": "stream",
     "text": [
      "WARNING: \"id\" field is not a string - forcing string conversion, there is an error in extractor\n"
     ]
    },
    {
     "name": "stdout",
     "output_type": "stream",
     "text": [
      "[download] Destination: songs/sC-hpQR6cUw.webm\n",
      "[download] 100% of 3.08MiB in 00:06\n",
      "[ffmpeg] Destination: songs/sC-hpQR6cUw.wav\n",
      "Deleting original file songs/sC-hpQR6cUw.webm (pass -k to keep)\n",
      "[youtube] bZ6jmRGr44A: Downloading webpage\n",
      "[youtube] bZ6jmRGr44A: Downloading video info webpage\n",
      "[youtube] bZ6jmRGr44A: Extracting video information\n",
      "[youtube] bZ6jmRGr44A: Downloading MPD manifest\n"
     ]
    },
    {
     "name": "stderr",
     "output_type": "stream",
     "text": [
      "WARNING: \"id\" field is not a string - forcing string conversion, there is an error in extractor\n"
     ]
    },
    {
     "name": "stdout",
     "output_type": "stream",
     "text": [
      "[download] Destination: songs/bZ6jmRGr44A.webm\n",
      "[download] 100% of 4.46MiB in 00:09\n",
      "[ffmpeg] Destination: songs/bZ6jmRGr44A.wav\n",
      "Deleting original file songs/bZ6jmRGr44A.webm (pass -k to keep)\n",
      "[youtube] cLeh8qNyOPk: Downloading webpage\n",
      "[youtube] cLeh8qNyOPk: Downloading video info webpage\n",
      "[youtube] cLeh8qNyOPk: Extracting video information\n",
      "[youtube] cLeh8qNyOPk: Downloading MPD manifest\n",
      "[youtube] cLeh8qNyOPk: Downloading MPD manifest\n"
     ]
    },
    {
     "name": "stderr",
     "output_type": "stream",
     "text": [
      "WARNING: \"id\" field is not a string - forcing string conversion, there is an error in extractor\n"
     ]
    },
    {
     "name": "stdout",
     "output_type": "stream",
     "text": [
      "[dashsegments] Total fragments: 64\n",
      "[download] Destination: songs/cLeh8qNyOPk.m4a\n",
      "[download] 100% of 9.44MiB in 00:31\n",
      "[ffmpeg] Correcting container in \"songs/cLeh8qNyOPk.m4a\"\n",
      "[ffmpeg] Destination: songs/cLeh8qNyOPk.wav\n",
      "Deleting original file songs/cLeh8qNyOPk.m4a (pass -k to keep)\n",
      "[youtube] pEeiitlkF8w: Downloading webpage\n",
      "[youtube] pEeiitlkF8w: Downloading video info webpage\n",
      "[youtube] pEeiitlkF8w: Extracting video information\n",
      "[youtube] pEeiitlkF8w: Downloading MPD manifest\n"
     ]
    },
    {
     "name": "stderr",
     "output_type": "stream",
     "text": [
      "WARNING: \"id\" field is not a string - forcing string conversion, there is an error in extractor\n"
     ]
    },
    {
     "name": "stdout",
     "output_type": "stream",
     "text": [
      "[download] Destination: songs/pEeiitlkF8w.webm\n",
      "[download] 100% of 4.06MiB in 00:08\n",
      "[ffmpeg] Destination: songs/pEeiitlkF8w.wav\n",
      "Deleting original file songs/pEeiitlkF8w.webm (pass -k to keep)\n",
      "[youtube] cgPcyw2NaZA: Downloading webpage\n",
      "[youtube] cgPcyw2NaZA: Downloading video info webpage\n",
      "[youtube] cgPcyw2NaZA: Extracting video information\n",
      "[youtube] cgPcyw2NaZA: Downloading MPD manifest\n"
     ]
    },
    {
     "name": "stderr",
     "output_type": "stream",
     "text": [
      "WARNING: \"id\" field is not a string - forcing string conversion, there is an error in extractor\n"
     ]
    },
    {
     "name": "stdout",
     "output_type": "stream",
     "text": [
      "[download] Destination: songs/cgPcyw2NaZA.webm\n",
      "[download] 100% of 2.07MiB in 00:04\n",
      "[ffmpeg] Destination: songs/cgPcyw2NaZA.wav\n",
      "Deleting original file songs/cgPcyw2NaZA.webm (pass -k to keep)\n",
      "[youtube] 4tmLfnLQzpQ: Downloading webpage\n",
      "[youtube] 4tmLfnLQzpQ: Downloading video info webpage\n",
      "[youtube] 4tmLfnLQzpQ: Extracting video information\n",
      "[youtube] 4tmLfnLQzpQ: Downloading MPD manifest\n"
     ]
    },
    {
     "name": "stderr",
     "output_type": "stream",
     "text": [
      "WARNING: \"id\" field is not a string - forcing string conversion, there is an error in extractor\n"
     ]
    },
    {
     "name": "stdout",
     "output_type": "stream",
     "text": [
      "[download] Destination: songs/4tmLfnLQzpQ.webm\n",
      "[download] 100% of 40.28MiB in 01:21\n",
      "[ffmpeg] Destination: songs/4tmLfnLQzpQ.wav\n",
      "Deleting original file songs/4tmLfnLQzpQ.webm (pass -k to keep)\n",
      "[youtube] WMRuYbmmDWw: Downloading webpage\n",
      "[youtube] WMRuYbmmDWw: Downloading video info webpage\n",
      "[youtube] WMRuYbmmDWw: Extracting video information\n",
      "[youtube] WMRuYbmmDWw: Downloading MPD manifest\n"
     ]
    },
    {
     "name": "stderr",
     "output_type": "stream",
     "text": [
      "WARNING: \"id\" field is not a string - forcing string conversion, there is an error in extractor\n"
     ]
    },
    {
     "name": "stdout",
     "output_type": "stream",
     "text": [
      "[download] Destination: songs/WMRuYbmmDWw.m4a\n",
      "[download] 100% of 2.57MiB in 00:05\n",
      "[ffmpeg] Correcting container in \"songs/WMRuYbmmDWw.m4a\"\n",
      "[ffmpeg] Destination: songs/WMRuYbmmDWw.wav\n",
      "Deleting original file songs/WMRuYbmmDWw.m4a (pass -k to keep)\n",
      "[youtube] 98IBgKbzCRE: Downloading webpage\n",
      "[youtube] 98IBgKbzCRE: Downloading video info webpage\n",
      "[youtube] 98IBgKbzCRE: Extracting video information\n",
      "[youtube] 98IBgKbzCRE: Downloading MPD manifest\n"
     ]
    },
    {
     "name": "stderr",
     "output_type": "stream",
     "text": [
      "WARNING: \"id\" field is not a string - forcing string conversion, there is an error in extractor\n"
     ]
    },
    {
     "name": "stdout",
     "output_type": "stream",
     "text": [
      "[download] Destination: songs/98IBgKbzCRE.webm\n",
      "[download] 100% of 3.12MiB in 00:06\n",
      "[ffmpeg] Destination: songs/98IBgKbzCRE.wav\n",
      "Deleting original file songs/98IBgKbzCRE.webm (pass -k to keep)\n",
      "[youtube] Rnzi9tWcdZI: Downloading webpage\n",
      "[youtube] Rnzi9tWcdZI: Downloading video info webpage\n",
      "[youtube] Rnzi9tWcdZI: Extracting video information\n",
      "[youtube] Rnzi9tWcdZI: Downloading MPD manifest\n"
     ]
    },
    {
     "name": "stderr",
     "output_type": "stream",
     "text": [
      "WARNING: \"id\" field is not a string - forcing string conversion, there is an error in extractor\n"
     ]
    },
    {
     "name": "stdout",
     "output_type": "stream",
     "text": [
      "[download] Destination: songs/Rnzi9tWcdZI.m4a\n",
      "[download] 100% of 2.65MiB in 00:05\n",
      "[ffmpeg] Correcting container in \"songs/Rnzi9tWcdZI.m4a\"\n",
      "[ffmpeg] Destination: songs/Rnzi9tWcdZI.wav\n",
      "Deleting original file songs/Rnzi9tWcdZI.m4a (pass -k to keep)\n",
      "[youtube] bZHmUIvL9xw: Downloading webpage\n",
      "[youtube] bZHmUIvL9xw: Downloading video info webpage\n",
      "[youtube] bZHmUIvL9xw: Extracting video information\n",
      "[youtube] bZHmUIvL9xw: Downloading MPD manifest\n"
     ]
    },
    {
     "name": "stderr",
     "output_type": "stream",
     "text": [
      "WARNING: \"id\" field is not a string - forcing string conversion, there is an error in extractor\n"
     ]
    },
    {
     "name": "stdout",
     "output_type": "stream",
     "text": [
      "[download] Destination: songs/bZHmUIvL9xw.webm\n",
      "[download] 100% of 2.39MiB in 00:04\n",
      "[ffmpeg] Destination: songs/bZHmUIvL9xw.wav\n",
      "Deleting original file songs/bZHmUIvL9xw.webm (pass -k to keep)\n",
      "[youtube] 7STvsMT7cDs: Downloading webpage\n",
      "[youtube] 7STvsMT7cDs: Downloading video info webpage\n",
      "[youtube] 7STvsMT7cDs: Extracting video information\n",
      "[youtube] 7STvsMT7cDs: Downloading MPD manifest\n"
     ]
    },
    {
     "name": "stderr",
     "output_type": "stream",
     "text": [
      "WARNING: \"id\" field is not a string - forcing string conversion, there is an error in extractor\n"
     ]
    },
    {
     "name": "stdout",
     "output_type": "stream",
     "text": [
      "[download] Destination: songs/7STvsMT7cDs.webm\n",
      "[download] 100% of 3.16MiB in 00:06\n",
      "[ffmpeg] Destination: songs/7STvsMT7cDs.wav\n",
      "Deleting original file songs/7STvsMT7cDs.webm (pass -k to keep)\n",
      "[youtube] RIkBD6ijIHI: Downloading webpage\n",
      "[youtube] RIkBD6ijIHI: Downloading video info webpage\n",
      "[youtube] RIkBD6ijIHI: Extracting video information\n",
      "[youtube] RIkBD6ijIHI: Downloading MPD manifest\n"
     ]
    },
    {
     "name": "stderr",
     "output_type": "stream",
     "text": [
      "WARNING: \"id\" field is not a string - forcing string conversion, there is an error in extractor\n"
     ]
    },
    {
     "name": "stdout",
     "output_type": "stream",
     "text": [
      "[download] Destination: songs/RIkBD6ijIHI.webm\n",
      "[download] 100% of 3.52MiB in 00:06\n",
      "[ffmpeg] Destination: songs/RIkBD6ijIHI.wav\n",
      "Deleting original file songs/RIkBD6ijIHI.webm (pass -k to keep)\n",
      "[youtube] GWxQwltyDZg: Downloading webpage\n",
      "[youtube] GWxQwltyDZg: Downloading video info webpage\n",
      "[youtube] GWxQwltyDZg: Extracting video information\n",
      "[youtube] GWxQwltyDZg: Downloading MPD manifest\n"
     ]
    },
    {
     "name": "stderr",
     "output_type": "stream",
     "text": [
      "WARNING: \"id\" field is not a string - forcing string conversion, there is an error in extractor\n"
     ]
    },
    {
     "name": "stdout",
     "output_type": "stream",
     "text": [
      "[download] Destination: songs/GWxQwltyDZg.m4a\n",
      "[download] 100% of 3.80MiB in 00:07\n",
      "[ffmpeg] Correcting container in \"songs/GWxQwltyDZg.m4a\"\n",
      "[ffmpeg] Destination: songs/GWxQwltyDZg.wav\n",
      "Deleting original file songs/GWxQwltyDZg.m4a (pass -k to keep)\n",
      "[youtube] mboshegyHmc: Downloading webpage\n",
      "[youtube] mboshegyHmc: Downloading video info webpage\n",
      "[youtube] mboshegyHmc: Extracting video information\n",
      "[youtube] mboshegyHmc: Downloading MPD manifest\n"
     ]
    },
    {
     "name": "stderr",
     "output_type": "stream",
     "text": [
      "WARNING: \"id\" field is not a string - forcing string conversion, there is an error in extractor\n"
     ]
    },
    {
     "name": "stdout",
     "output_type": "stream",
     "text": [
      "[download] Destination: songs/mboshegyHmc.webm\n",
      "[download] 100% of 3.16MiB in 00:06\n",
      "[ffmpeg] Destination: songs/mboshegyHmc.wav\n",
      "Deleting original file songs/mboshegyHmc.webm (pass -k to keep)\n",
      "[youtube] Ib5oqSbGw44: Downloading webpage\n",
      "[youtube] Ib5oqSbGw44: Downloading video info webpage\n",
      "[youtube] Ib5oqSbGw44: Extracting video information\n",
      "[youtube] Ib5oqSbGw44: Downloading MPD manifest\n"
     ]
    },
    {
     "name": "stderr",
     "output_type": "stream",
     "text": [
      "WARNING: \"id\" field is not a string - forcing string conversion, there is an error in extractor\n"
     ]
    },
    {
     "name": "stdout",
     "output_type": "stream",
     "text": [
      "[download] Destination: songs/Ib5oqSbGw44.webm\n",
      "[download] 100% of 3.68MiB in 00:07\n",
      "[ffmpeg] Destination: songs/Ib5oqSbGw44.wav\n",
      "Deleting original file songs/Ib5oqSbGw44.webm (pass -k to keep)\n",
      "[youtube] tPdXgpSRUE8: Downloading webpage\n",
      "[youtube] tPdXgpSRUE8: Downloading video info webpage\n",
      "[youtube] tPdXgpSRUE8: Extracting video information\n",
      "[youtube] tPdXgpSRUE8: Downloading MPD manifest\n"
     ]
    },
    {
     "name": "stderr",
     "output_type": "stream",
     "text": [
      "WARNING: \"id\" field is not a string - forcing string conversion, there is an error in extractor\n"
     ]
    },
    {
     "name": "stdout",
     "output_type": "stream",
     "text": [
      "[download] Destination: songs/tPdXgpSRUE8.webm\n",
      "[download] 100% of 3.24MiB in 00:06\n",
      "[ffmpeg] Destination: songs/tPdXgpSRUE8.wav\n",
      "Deleting original file songs/tPdXgpSRUE8.webm (pass -k to keep)\n",
      "[youtube] IohXZCbjQQE: Downloading webpage\n",
      "[youtube] IohXZCbjQQE: Downloading video info webpage\n",
      "[youtube] IohXZCbjQQE: Extracting video information\n",
      "[youtube] IohXZCbjQQE: Downloading MPD manifest\n"
     ]
    },
    {
     "name": "stderr",
     "output_type": "stream",
     "text": [
      "WARNING: \"id\" field is not a string - forcing string conversion, there is an error in extractor\n"
     ]
    },
    {
     "name": "stdout",
     "output_type": "stream",
     "text": [
      "[dashsegments] Total fragments: 23\n",
      "[download] Destination: songs/IohXZCbjQQE.m4a\n",
      "[download] 100% of 3.21MiB in 00:11\n",
      "[ffmpeg] Correcting container in \"songs/IohXZCbjQQE.m4a\"\n",
      "[ffmpeg] Destination: songs/IohXZCbjQQE.wav\n",
      "Deleting original file songs/IohXZCbjQQE.m4a (pass -k to keep)\n",
      "[youtube] Pe4H9Bxs__s: Downloading webpage\n",
      "[youtube] Pe4H9Bxs__s: Downloading video info webpage\n",
      "[youtube] Pe4H9Bxs__s: Extracting video information\n",
      "[youtube] Pe4H9Bxs__s: Downloading MPD manifest\n"
     ]
    },
    {
     "name": "stderr",
     "output_type": "stream",
     "text": [
      "WARNING: \"id\" field is not a string - forcing string conversion, there is an error in extractor\n"
     ]
    },
    {
     "name": "stdout",
     "output_type": "stream",
     "text": [
      "[download] Destination: songs/Pe4H9Bxs__s.webm\n",
      "[download] 100% of 3.53MiB in 00:06\n",
      "[ffmpeg] Destination: songs/Pe4H9Bxs__s.wav\n",
      "Deleting original file songs/Pe4H9Bxs__s.webm (pass -k to keep)\n",
      "[youtube] TwBK4ZkcqxY: Downloading webpage\n",
      "[youtube] TwBK4ZkcqxY: Downloading video info webpage\n",
      "[youtube] TwBK4ZkcqxY: Extracting video information\n",
      "[youtube] TwBK4ZkcqxY: Downloading MPD manifest\n"
     ]
    },
    {
     "name": "stderr",
     "output_type": "stream",
     "text": [
      "WARNING: \"id\" field is not a string - forcing string conversion, there is an error in extractor\n"
     ]
    },
    {
     "name": "stdout",
     "output_type": "stream",
     "text": [
      "[download] Destination: songs/TwBK4ZkcqxY.webm\n",
      "[download] 100% of 4.15MiB in 00:08\n",
      "[ffmpeg] Destination: songs/TwBK4ZkcqxY.wav\n",
      "Deleting original file songs/TwBK4ZkcqxY.webm (pass -k to keep)\n",
      "[youtube] jfpnIyqieyk: Downloading webpage\n",
      "[youtube] jfpnIyqieyk: Downloading video info webpage\n",
      "[youtube] jfpnIyqieyk: Extracting video information\n",
      "[youtube] jfpnIyqieyk: Downloading MPD manifest\n"
     ]
    },
    {
     "name": "stderr",
     "output_type": "stream",
     "text": [
      "WARNING: \"id\" field is not a string - forcing string conversion, there is an error in extractor\n"
     ]
    },
    {
     "name": "stdout",
     "output_type": "stream",
     "text": [
      "[download] Destination: songs/jfpnIyqieyk.webm\n",
      "[download] 100% of 4.70MiB in 00:09\n",
      "[ffmpeg] Destination: songs/jfpnIyqieyk.wav\n",
      "Deleting original file songs/jfpnIyqieyk.webm (pass -k to keep)\n",
      "[youtube] H67jI1xJyog: Downloading webpage\n",
      "[youtube] H67jI1xJyog: Downloading video info webpage\n",
      "[youtube] H67jI1xJyog: Extracting video information\n",
      "[youtube] H67jI1xJyog: Downloading MPD manifest\n"
     ]
    },
    {
     "name": "stderr",
     "output_type": "stream",
     "text": [
      "WARNING: \"id\" field is not a string - forcing string conversion, there is an error in extractor\n"
     ]
    },
    {
     "name": "stdout",
     "output_type": "stream",
     "text": [
      "[download] Destination: songs/H67jI1xJyog.m4a\n",
      "[download] 100% of 3.98MiB in 00:07\n",
      "[ffmpeg] Correcting container in \"songs/H67jI1xJyog.m4a\"\n",
      "[ffmpeg] Destination: songs/H67jI1xJyog.wav\n",
      "Deleting original file songs/H67jI1xJyog.m4a (pass -k to keep)\n",
      "[youtube] bQdQP3R_cjc: Downloading webpage\n",
      "[youtube] bQdQP3R_cjc: Downloading video info webpage\n",
      "[youtube] bQdQP3R_cjc: Extracting video information\n",
      "[youtube] bQdQP3R_cjc: Downloading MPD manifest\n"
     ]
    },
    {
     "name": "stderr",
     "output_type": "stream",
     "text": [
      "WARNING: \"id\" field is not a string - forcing string conversion, there is an error in extractor\n"
     ]
    },
    {
     "name": "stdout",
     "output_type": "stream",
     "text": [
      "[download] Destination: songs/bQdQP3R_cjc.webm\n",
      "[download] 100% of 4.22MiB in 00:08\n",
      "[ffmpeg] Destination: songs/bQdQP3R_cjc.wav\n",
      "Deleting original file songs/bQdQP3R_cjc.webm (pass -k to keep)\n",
      "[youtube] ANO13Xd2oDI: Downloading webpage\n",
      "[youtube] ANO13Xd2oDI: Downloading video info webpage\n",
      "[youtube] ANO13Xd2oDI: Extracting video information\n",
      "[youtube] ANO13Xd2oDI: Downloading MPD manifest\n"
     ]
    },
    {
     "name": "stderr",
     "output_type": "stream",
     "text": [
      "WARNING: \"id\" field is not a string - forcing string conversion, there is an error in extractor\n"
     ]
    },
    {
     "name": "stdout",
     "output_type": "stream",
     "text": [
      "[download] Destination: songs/ANO13Xd2oDI.webm\n",
      "[download] 100% of 3.35MiB in 00:06\n",
      "[ffmpeg] Destination: songs/ANO13Xd2oDI.wav\n",
      "Deleting original file songs/ANO13Xd2oDI.webm (pass -k to keep)\n",
      "[youtube] t6FVlfOgTo8: Downloading webpage\n",
      "[youtube] t6FVlfOgTo8: Downloading video info webpage\n"
     ]
    },
    {
     "name": "stderr",
     "output_type": "stream",
     "text": [
      "ERROR: t6FVlfOgTo8: YouTube said: This video contains content from [Merlin] BecauseMusic, who has blocked it on copyright grounds.\n"
     ]
    },
    {
     "name": "stdout",
     "output_type": "stream",
     "text": [
      "[youtube] VzTxoyNC-zI: Downloading webpage\n",
      "[youtube] VzTxoyNC-zI: Downloading video info webpage\n",
      "[youtube] VzTxoyNC-zI: Extracting video information\n",
      "[youtube] VzTxoyNC-zI: Downloading MPD manifest\n",
      "[youtube] VzTxoyNC-zI: Downloading MPD manifest\n"
     ]
    },
    {
     "name": "stderr",
     "output_type": "stream",
     "text": [
      "WARNING: \"id\" field is not a string - forcing string conversion, there is an error in extractor\n"
     ]
    },
    {
     "name": "stdout",
     "output_type": "stream",
     "text": [
      "[dashsegments] Total fragments: 7\n",
      "[download] Destination: songs/VzTxoyNC-zI.m4a\n",
      "[download] 100% of 639.39KiB in 00:02\n",
      "[ffmpeg] Correcting container in \"songs/VzTxoyNC-zI.m4a\"\n",
      "[ffmpeg] Destination: songs/VzTxoyNC-zI.wav\n",
      "Deleting original file songs/VzTxoyNC-zI.m4a (pass -k to keep)\n",
      "[youtube] sKAe6wSC6zk: Downloading webpage\n",
      "[youtube] sKAe6wSC6zk: Downloading video info webpage\n",
      "[youtube] sKAe6wSC6zk: Extracting video information\n",
      "[youtube] sKAe6wSC6zk: Downloading MPD manifest\n"
     ]
    },
    {
     "name": "stderr",
     "output_type": "stream",
     "text": [
      "WARNING: \"id\" field is not a string - forcing string conversion, there is an error in extractor\n"
     ]
    },
    {
     "name": "stdout",
     "output_type": "stream",
     "text": [
      "[download] Destination: songs/sKAe6wSC6zk.m4a\n",
      "[download] 100% of 4.49MiB in 00:08\n",
      "[ffmpeg] Correcting container in \"songs/sKAe6wSC6zk.m4a\"\n",
      "[ffmpeg] Destination: songs/sKAe6wSC6zk.wav\n",
      "Deleting original file songs/sKAe6wSC6zk.m4a (pass -k to keep)\n",
      "[youtube] 61lL1bb0LQQ: Downloading webpage\n",
      "[youtube] 61lL1bb0LQQ: Downloading video info webpage\n",
      "[youtube] 61lL1bb0LQQ: Extracting video information\n",
      "[youtube] 61lL1bb0LQQ: Downloading MPD manifest\n",
      "[youtube] 61lL1bb0LQQ: Downloading MPD manifest\n"
     ]
    },
    {
     "name": "stderr",
     "output_type": "stream",
     "text": [
      "WARNING: \"id\" field is not a string - forcing string conversion, there is an error in extractor\n"
     ]
    },
    {
     "name": "stdout",
     "output_type": "stream",
     "text": [
      "[dashsegments] Total fragments: 45\n",
      "[download] Destination: songs/61lL1bb0LQQ.m4a\n",
      "[download] 100% of 3.33MiB in 00:14\n",
      "[ffmpeg] Correcting container in \"songs/61lL1bb0LQQ.m4a\"\n",
      "[ffmpeg] Destination: songs/61lL1bb0LQQ.wav\n",
      "Deleting original file songs/61lL1bb0LQQ.m4a (pass -k to keep)\n",
      "[youtube] pgOcBf9pbUw: Downloading webpage\n",
      "[youtube] pgOcBf9pbUw: Downloading video info webpage\n",
      "[youtube] pgOcBf9pbUw: Extracting video information\n",
      "[youtube] pgOcBf9pbUw: Downloading MPD manifest\n"
     ]
    },
    {
     "name": "stderr",
     "output_type": "stream",
     "text": [
      "WARNING: \"id\" field is not a string - forcing string conversion, there is an error in extractor\n"
     ]
    },
    {
     "name": "stdout",
     "output_type": "stream",
     "text": [
      "[download] Destination: songs/pgOcBf9pbUw.webm\n",
      "[download] 100% of 3.41MiB in 00:06\n",
      "[ffmpeg] Destination: songs/pgOcBf9pbUw.wav\n",
      "Deleting original file songs/pgOcBf9pbUw.webm (pass -k to keep)\n",
      "[youtube] PZkXxFOSRxQ: Downloading webpage\n",
      "[youtube] PZkXxFOSRxQ: Downloading video info webpage\n",
      "[youtube] PZkXxFOSRxQ: Extracting video information\n",
      "[youtube] PZkXxFOSRxQ: Downloading MPD manifest\n"
     ]
    },
    {
     "name": "stderr",
     "output_type": "stream",
     "text": [
      "WARNING: \"id\" field is not a string - forcing string conversion, there is an error in extractor\n"
     ]
    },
    {
     "name": "stdout",
     "output_type": "stream",
     "text": [
      "[download] Destination: songs/PZkXxFOSRxQ.webm\n",
      "[download] 100% of 4.32MiB in 00:08\n",
      "[ffmpeg] Destination: songs/PZkXxFOSRxQ.wav\n",
      "Deleting original file songs/PZkXxFOSRxQ.webm (pass -k to keep)\n",
      "[youtube] w0N4twV28Mw: Downloading webpage\n",
      "[youtube] w0N4twV28Mw: Downloading video info webpage\n"
     ]
    },
    {
     "name": "stderr",
     "output_type": "stream",
     "text": [
      "ERROR: w0N4twV28Mw: YouTube said: This video contains content from SME, who has blocked it in your country on copyright grounds.\n"
     ]
    },
    {
     "name": "stdout",
     "output_type": "stream",
     "text": [
      "[youtube] H3IK46Hb_B8: Downloading webpage\n",
      "[youtube] H3IK46Hb_B8: Downloading video info webpage\n",
      "[youtube] H3IK46Hb_B8: Extracting video information\n",
      "[youtube] H3IK46Hb_B8: Downloading MPD manifest\n"
     ]
    },
    {
     "name": "stderr",
     "output_type": "stream",
     "text": [
      "WARNING: \"id\" field is not a string - forcing string conversion, there is an error in extractor\n"
     ]
    },
    {
     "name": "stdout",
     "output_type": "stream",
     "text": [
      "[download] Destination: songs/H3IK46Hb_B8.m4a\n",
      "[download] 100% of 2.16MiB in 00:04\n",
      "[ffmpeg] Correcting container in \"songs/H3IK46Hb_B8.m4a\"\n",
      "[ffmpeg] Destination: songs/H3IK46Hb_B8.wav\n",
      "Deleting original file songs/H3IK46Hb_B8.m4a (pass -k to keep)\n",
      "[youtube] ryI90VsFNf0: Downloading webpage\n",
      "[youtube] ryI90VsFNf0: Downloading video info webpage\n",
      "[youtube] ryI90VsFNf0: Extracting video information\n",
      "[youtube] ryI90VsFNf0: Downloading MPD manifest\n"
     ]
    },
    {
     "name": "stderr",
     "output_type": "stream",
     "text": [
      "WARNING: \"id\" field is not a string - forcing string conversion, there is an error in extractor\n"
     ]
    },
    {
     "name": "stdout",
     "output_type": "stream",
     "text": [
      "[download] Destination: songs/ryI90VsFNf0.webm\n",
      "[download] 100% of 2.88MiB in 00:05\n",
      "[ffmpeg] Destination: songs/ryI90VsFNf0.wav\n",
      "Deleting original file songs/ryI90VsFNf0.webm (pass -k to keep)\n",
      "[youtube] sDpPcId4R4M: Downloading webpage\n",
      "[youtube] sDpPcId4R4M: Downloading video info webpage\n",
      "[youtube] sDpPcId4R4M: Extracting video information\n",
      "[youtube] sDpPcId4R4M: Downloading MPD manifest\n"
     ]
    },
    {
     "name": "stderr",
     "output_type": "stream",
     "text": [
      "WARNING: \"id\" field is not a string - forcing string conversion, there is an error in extractor\n"
     ]
    },
    {
     "name": "stdout",
     "output_type": "stream",
     "text": [
      "[download] Destination: songs/sDpPcId4R4M.webm\n",
      "[download] 100% of 5.10MiB in 00:10\n",
      "[ffmpeg] Destination: songs/sDpPcId4R4M.wav\n",
      "Deleting original file songs/sDpPcId4R4M.webm (pass -k to keep)\n",
      "[youtube] bem-qr0hTwQ: Downloading webpage\n",
      "[youtube] bem-qr0hTwQ: Downloading video info webpage\n",
      "[youtube] bem-qr0hTwQ: Extracting video information\n",
      "[youtube] bem-qr0hTwQ: Downloading MPD manifest\n"
     ]
    },
    {
     "name": "stderr",
     "output_type": "stream",
     "text": [
      "WARNING: \"id\" field is not a string - forcing string conversion, there is an error in extractor\n"
     ]
    },
    {
     "name": "stdout",
     "output_type": "stream",
     "text": [
      "[download] Destination: songs/bem-qr0hTwQ.webm\n",
      "[download] 100% of 4.05MiB in 00:07\n",
      "[ffmpeg] Destination: songs/bem-qr0hTwQ.wav\n",
      "Deleting original file songs/bem-qr0hTwQ.webm (pass -k to keep)\n",
      "[youtube] LdGNUVZFLEI: Downloading webpage\n",
      "[youtube] LdGNUVZFLEI: Downloading video info webpage\n",
      "[youtube] LdGNUVZFLEI: Extracting video information\n",
      "[youtube] LdGNUVZFLEI: Downloading MPD manifest\n"
     ]
    },
    {
     "name": "stderr",
     "output_type": "stream",
     "text": [
      "WARNING: \"id\" field is not a string - forcing string conversion, there is an error in extractor\n"
     ]
    },
    {
     "name": "stdout",
     "output_type": "stream",
     "text": [
      "[download] Destination: songs/LdGNUVZFLEI.webm\n",
      "[download] 100% of 4.76MiB in 00:09\n",
      "[ffmpeg] Destination: songs/LdGNUVZFLEI.wav\n",
      "Deleting original file songs/LdGNUVZFLEI.webm (pass -k to keep)\n",
      "[youtube] F9W4OdEpkwU: Downloading webpage\n",
      "[youtube] F9W4OdEpkwU: Downloading video info webpage\n",
      "[youtube] F9W4OdEpkwU: Extracting video information\n",
      "[youtube] F9W4OdEpkwU: Downloading MPD manifest\n"
     ]
    },
    {
     "name": "stderr",
     "output_type": "stream",
     "text": [
      "WARNING: \"id\" field is not a string - forcing string conversion, there is an error in extractor\n"
     ]
    },
    {
     "name": "stdout",
     "output_type": "stream",
     "text": [
      "[download] Destination: songs/F9W4OdEpkwU.webm\n",
      "[download] 100% of 4.72MiB in 00:09\n",
      "[ffmpeg] Destination: songs/F9W4OdEpkwU.wav\n",
      "Deleting original file songs/F9W4OdEpkwU.webm (pass -k to keep)\n",
      "[youtube] kxQiT8hjW8s: Downloading webpage\n",
      "[youtube] kxQiT8hjW8s: Downloading video info webpage\n",
      "[youtube] kxQiT8hjW8s: Extracting video information\n",
      "[youtube] kxQiT8hjW8s: Downloading MPD manifest\n",
      "[youtube] kxQiT8hjW8s: Downloading MPD manifest\n"
     ]
    },
    {
     "name": "stderr",
     "output_type": "stream",
     "text": [
      "WARNING: \"id\" field is not a string - forcing string conversion, there is an error in extractor\n"
     ]
    },
    {
     "name": "stdout",
     "output_type": "stream",
     "text": [
      "[dashsegments] Total fragments: 17\n",
      "[download] Destination: songs/kxQiT8hjW8s.m4a\n",
      "[download] 100% of 2.40MiB in 00:08\n",
      "[ffmpeg] Correcting container in \"songs/kxQiT8hjW8s.m4a\"\n",
      "[ffmpeg] Destination: songs/kxQiT8hjW8s.wav\n",
      "Deleting original file songs/kxQiT8hjW8s.m4a (pass -k to keep)\n",
      "[youtube] Cj73eyVOdqU: Downloading webpage\n",
      "[youtube] Cj73eyVOdqU: Downloading video info webpage\n",
      "[youtube] Cj73eyVOdqU: Extracting video information\n",
      "[youtube] Cj73eyVOdqU: Downloading MPD manifest\n"
     ]
    },
    {
     "name": "stderr",
     "output_type": "stream",
     "text": [
      "WARNING: \"id\" field is not a string - forcing string conversion, there is an error in extractor\n"
     ]
    },
    {
     "name": "stdout",
     "output_type": "stream",
     "text": [
      "[download] Destination: songs/Cj73eyVOdqU.m4a\n",
      "[download] 100% of 3.37MiB in 00:06\n",
      "[ffmpeg] Correcting container in \"songs/Cj73eyVOdqU.m4a\"\n",
      "[ffmpeg] Destination: songs/Cj73eyVOdqU.wav\n",
      "Deleting original file songs/Cj73eyVOdqU.m4a (pass -k to keep)\n",
      "[youtube] 1_dCc4PYJJ0: Downloading webpage\n",
      "[youtube] 1_dCc4PYJJ0: Downloading video info webpage\n",
      "[youtube] 1_dCc4PYJJ0: Extracting video information\n",
      "[youtube] 1_dCc4PYJJ0: Downloading MPD manifest\n"
     ]
    },
    {
     "name": "stderr",
     "output_type": "stream",
     "text": [
      "WARNING: \"id\" field is not a string - forcing string conversion, there is an error in extractor\n"
     ]
    },
    {
     "name": "stdout",
     "output_type": "stream",
     "text": [
      "[download] Destination: songs/1_dCc4PYJJ0.webm\n",
      "[download] 100% of 3.49MiB in 00:06\n",
      "[ffmpeg] Destination: songs/1_dCc4PYJJ0.wav\n",
      "Deleting original file songs/1_dCc4PYJJ0.webm (pass -k to keep)\n",
      "[youtube] MyWJhKo29qI: Downloading webpage\n",
      "[youtube] MyWJhKo29qI: Downloading video info webpage\n",
      "[youtube] MyWJhKo29qI: Extracting video information\n",
      "[youtube] MyWJhKo29qI: Downloading MPD manifest\n"
     ]
    },
    {
     "name": "stderr",
     "output_type": "stream",
     "text": [
      "WARNING: \"id\" field is not a string - forcing string conversion, there is an error in extractor\n"
     ]
    },
    {
     "name": "stdout",
     "output_type": "stream",
     "text": [
      "[download] Destination: songs/MyWJhKo29qI.m4a\n",
      "[download] 100% of 2.59MiB in 00:05\n",
      "[ffmpeg] Correcting container in \"songs/MyWJhKo29qI.m4a\"\n",
      "[ffmpeg] Destination: songs/MyWJhKo29qI.wav\n",
      "Deleting original file songs/MyWJhKo29qI.m4a (pass -k to keep)\n",
      "[youtube] s6gpLwy5d0E: Downloading webpage\n",
      "[youtube] s6gpLwy5d0E: Downloading video info webpage\n",
      "[youtube] s6gpLwy5d0E: Extracting video information\n",
      "[youtube] s6gpLwy5d0E: Downloading MPD manifest\n"
     ]
    },
    {
     "name": "stderr",
     "output_type": "stream",
     "text": [
      "WARNING: \"id\" field is not a string - forcing string conversion, there is an error in extractor\n"
     ]
    },
    {
     "name": "stdout",
     "output_type": "stream",
     "text": [
      "[download] Destination: songs/s6gpLwy5d0E.webm\n",
      "[download] 100% of 3.36MiB in 00:11\n",
      "[ffmpeg] Destination: songs/s6gpLwy5d0E.wav\n",
      "Deleting original file songs/s6gpLwy5d0E.webm (pass -k to keep)\n",
      "[youtube] DrGuVa-4BVE: Downloading webpage\n",
      "[youtube] DrGuVa-4BVE: Downloading video info webpage\n",
      "[youtube] DrGuVa-4BVE: Extracting video information\n",
      "[youtube] DrGuVa-4BVE: Downloading MPD manifest\n"
     ]
    },
    {
     "name": "stderr",
     "output_type": "stream",
     "text": [
      "WARNING: \"id\" field is not a string - forcing string conversion, there is an error in extractor\n"
     ]
    },
    {
     "name": "stdout",
     "output_type": "stream",
     "text": [
      "[download] Destination: songs/DrGuVa-4BVE.m4a\n",
      "[download] 100% of 4.02MiB in 00:07\n",
      "[ffmpeg] Correcting container in \"songs/DrGuVa-4BVE.m4a\"\n",
      "[ffmpeg] Destination: songs/DrGuVa-4BVE.wav\n",
      "Deleting original file songs/DrGuVa-4BVE.m4a (pass -k to keep)\n",
      "[youtube] KfkiWUmAoQM: Downloading webpage\n",
      "[youtube] KfkiWUmAoQM: Downloading video info webpage\n",
      "[youtube] KfkiWUmAoQM: Extracting video information\n",
      "[youtube] KfkiWUmAoQM: Downloading MPD manifest\n"
     ]
    },
    {
     "name": "stderr",
     "output_type": "stream",
     "text": [
      "WARNING: \"id\" field is not a string - forcing string conversion, there is an error in extractor\n"
     ]
    },
    {
     "name": "stdout",
     "output_type": "stream",
     "text": [
      "[download] Destination: songs/KfkiWUmAoQM.m4a\n",
      "[download] 100% of 3.64MiB in 00:07\n",
      "[ffmpeg] Correcting container in \"songs/KfkiWUmAoQM.m4a\"\n",
      "[ffmpeg] Destination: songs/KfkiWUmAoQM.wav\n",
      "Deleting original file songs/KfkiWUmAoQM.m4a (pass -k to keep)\n",
      "[youtube] kZleKDugyYo: Downloading webpage\n",
      "[youtube] kZleKDugyYo: Downloading video info webpage\n",
      "[youtube] kZleKDugyYo: Extracting video information\n",
      "[youtube] kZleKDugyYo: Downloading MPD manifest\n"
     ]
    },
    {
     "name": "stderr",
     "output_type": "stream",
     "text": [
      "WARNING: \"id\" field is not a string - forcing string conversion, there is an error in extractor\n"
     ]
    },
    {
     "name": "stdout",
     "output_type": "stream",
     "text": [
      "[download] Destination: songs/kZleKDugyYo.webm\n",
      "[download] 100% of 4.11MiB in 00:08\n",
      "[ffmpeg] Destination: songs/kZleKDugyYo.wav\n",
      "Deleting original file songs/kZleKDugyYo.webm (pass -k to keep)\n",
      "[youtube] jx4_Q7Uyq8s: Downloading webpage\n",
      "[youtube] jx4_Q7Uyq8s: Downloading video info webpage\n",
      "[youtube] jx4_Q7Uyq8s: Extracting video information\n",
      "[youtube] jx4_Q7Uyq8s: Downloading MPD manifest\n"
     ]
    },
    {
     "name": "stderr",
     "output_type": "stream",
     "text": [
      "WARNING: \"id\" field is not a string - forcing string conversion, there is an error in extractor\n"
     ]
    },
    {
     "name": "stdout",
     "output_type": "stream",
     "text": [
      "[download] Destination: songs/jx4_Q7Uyq8s.webm\n",
      "[download] 100% of 3.09MiB in 00:06\n",
      "[ffmpeg] Destination: songs/jx4_Q7Uyq8s.wav\n",
      "Deleting original file songs/jx4_Q7Uyq8s.webm (pass -k to keep)\n",
      "[youtube] 1jxfiDEc-5Y: Downloading webpage\n",
      "[youtube] 1jxfiDEc-5Y: Downloading video info webpage\n",
      "[youtube] 1jxfiDEc-5Y: Extracting video information\n",
      "[youtube] 1jxfiDEc-5Y: Downloading MPD manifest\n"
     ]
    },
    {
     "name": "stderr",
     "output_type": "stream",
     "text": [
      "WARNING: \"id\" field is not a string - forcing string conversion, there is an error in extractor\n"
     ]
    },
    {
     "name": "stdout",
     "output_type": "stream",
     "text": [
      "[download] Destination: songs/1jxfiDEc-5Y.webm\n",
      "[download] 100% of 4.15MiB in 00:08\n",
      "[ffmpeg] Destination: songs/1jxfiDEc-5Y.wav\n",
      "Deleting original file songs/1jxfiDEc-5Y.webm (pass -k to keep)\n",
      "[youtube] fDk3w_cse4o: Downloading webpage\n",
      "[youtube] fDk3w_cse4o: Downloading video info webpage\n",
      "[youtube] fDk3w_cse4o: Extracting video information\n",
      "[youtube] fDk3w_cse4o: Downloading MPD manifest\n"
     ]
    },
    {
     "name": "stderr",
     "output_type": "stream",
     "text": [
      "WARNING: \"id\" field is not a string - forcing string conversion, there is an error in extractor\n"
     ]
    },
    {
     "name": "stdout",
     "output_type": "stream",
     "text": [
      "[download] Destination: songs/fDk3w_cse4o.webm\n",
      "[download] 100% of 3.20MiB in 00:06\n",
      "[ffmpeg] Destination: songs/fDk3w_cse4o.wav\n",
      "Deleting original file songs/fDk3w_cse4o.webm (pass -k to keep)\n",
      "[youtube] IZ-9QVLWPww: Downloading webpage\n",
      "[youtube] IZ-9QVLWPww: Downloading video info webpage\n",
      "[youtube] IZ-9QVLWPww: Extracting video information\n",
      "[youtube] IZ-9QVLWPww: Downloading MPD manifest\n",
      "[youtube] IZ-9QVLWPww: Downloading MPD manifest\n"
     ]
    },
    {
     "name": "stderr",
     "output_type": "stream",
     "text": [
      "WARNING: \"id\" field is not a string - forcing string conversion, there is an error in extractor\n"
     ]
    },
    {
     "name": "stdout",
     "output_type": "stream",
     "text": [
      "[dashsegments] Total fragments: 71\n",
      "[download] Destination: songs/IZ-9QVLWPww.m4a\n",
      "[download] 100% of 3.92MiB in 00:20\n",
      "[ffmpeg] Correcting container in \"songs/IZ-9QVLWPww.m4a\"\n",
      "[ffmpeg] Destination: songs/IZ-9QVLWPww.wav\n",
      "Deleting original file songs/IZ-9QVLWPww.m4a (pass -k to keep)\n",
      "[youtube] WAT4vAQvKRM: Downloading webpage\n",
      "[youtube] WAT4vAQvKRM: Downloading video info webpage\n",
      "[youtube] WAT4vAQvKRM: Extracting video information\n",
      "[youtube] WAT4vAQvKRM: Downloading MPD manifest\n"
     ]
    },
    {
     "name": "stderr",
     "output_type": "stream",
     "text": [
      "WARNING: \"id\" field is not a string - forcing string conversion, there is an error in extractor\n"
     ]
    },
    {
     "name": "stdout",
     "output_type": "stream",
     "text": [
      "[download] Destination: songs/WAT4vAQvKRM.m4a\n",
      "[download] 100% of 4.14MiB in 00:08\n",
      "[ffmpeg] Correcting container in \"songs/WAT4vAQvKRM.m4a\"\n",
      "[ffmpeg] Destination: songs/WAT4vAQvKRM.wav\n",
      "Deleting original file songs/WAT4vAQvKRM.m4a (pass -k to keep)\n",
      "[youtube] vAc4q1YqdOU: Downloading webpage\n",
      "[youtube] vAc4q1YqdOU: Downloading video info webpage\n",
      "[youtube] vAc4q1YqdOU: Extracting video information\n",
      "[youtube] vAc4q1YqdOU: Downloading MPD manifest\n"
     ]
    },
    {
     "name": "stderr",
     "output_type": "stream",
     "text": [
      "WARNING: \"id\" field is not a string - forcing string conversion, there is an error in extractor\n"
     ]
    },
    {
     "name": "stdout",
     "output_type": "stream",
     "text": [
      "[download] Destination: songs/vAc4q1YqdOU.webm\n",
      "[download] 100% of 3.27MiB in 00:06\n",
      "[ffmpeg] Destination: songs/vAc4q1YqdOU.wav\n",
      "Deleting original file songs/vAc4q1YqdOU.webm (pass -k to keep)\n",
      "[youtube] C8Zu4erHcPQ: Downloading webpage\n",
      "[youtube] C8Zu4erHcPQ: Downloading video info webpage\n",
      "[youtube] C8Zu4erHcPQ: Extracting video information\n",
      "[youtube] C8Zu4erHcPQ: Downloading MPD manifest\n"
     ]
    },
    {
     "name": "stderr",
     "output_type": "stream",
     "text": [
      "WARNING: \"id\" field is not a string - forcing string conversion, there is an error in extractor\n"
     ]
    },
    {
     "name": "stdout",
     "output_type": "stream",
     "text": [
      "[download] Destination: songs/C8Zu4erHcPQ.m4a\n",
      "[download] 100% of 3.33MiB in 00:06\n",
      "[ffmpeg] Correcting container in \"songs/C8Zu4erHcPQ.m4a\"\n",
      "[ffmpeg] Destination: songs/C8Zu4erHcPQ.wav\n",
      "Deleting original file songs/C8Zu4erHcPQ.m4a (pass -k to keep)\n",
      "[youtube] SMxeGGV_HFE: Downloading webpage\n",
      "[youtube] SMxeGGV_HFE: Downloading video info webpage\n",
      "[youtube] SMxeGGV_HFE: Extracting video information\n",
      "[youtube] SMxeGGV_HFE: Downloading MPD manifest\n"
     ]
    },
    {
     "name": "stderr",
     "output_type": "stream",
     "text": [
      "WARNING: \"id\" field is not a string - forcing string conversion, there is an error in extractor\n"
     ]
    },
    {
     "name": "stdout",
     "output_type": "stream",
     "text": [
      "[download] Destination: songs/SMxeGGV_HFE.webm\n",
      "[download] 100% of 4.99MiB in 00:10\n",
      "[ffmpeg] Destination: songs/SMxeGGV_HFE.wav\n",
      "Deleting original file songs/SMxeGGV_HFE.webm (pass -k to keep)\n",
      "[youtube] swMTl9WKNiI: Downloading webpage\n",
      "[youtube] swMTl9WKNiI: Downloading video info webpage\n",
      "[youtube] swMTl9WKNiI: Extracting video information\n",
      "[youtube] swMTl9WKNiI: Downloading MPD manifest\n"
     ]
    },
    {
     "name": "stderr",
     "output_type": "stream",
     "text": [
      "WARNING: \"id\" field is not a string - forcing string conversion, there is an error in extractor\n"
     ]
    },
    {
     "name": "stdout",
     "output_type": "stream",
     "text": [
      "[download] Destination: songs/swMTl9WKNiI.webm\n",
      "[download] 100% of 3.32MiB in 00:06\n",
      "[ffmpeg] Destination: songs/swMTl9WKNiI.wav\n",
      "Deleting original file songs/swMTl9WKNiI.webm (pass -k to keep)\n",
      "[youtube] GXu2aUaMWaY: Downloading webpage\n",
      "[youtube] GXu2aUaMWaY: Downloading video info webpage\n",
      "[youtube] GXu2aUaMWaY: Extracting video information\n",
      "[youtube] GXu2aUaMWaY: Downloading MPD manifest\n"
     ]
    },
    {
     "name": "stderr",
     "output_type": "stream",
     "text": [
      "WARNING: \"id\" field is not a string - forcing string conversion, there is an error in extractor\n"
     ]
    },
    {
     "name": "stdout",
     "output_type": "stream",
     "text": [
      "[download] Destination: songs/GXu2aUaMWaY.webm\n",
      "[download] 100% of 3.58MiB in 00:07\n",
      "[ffmpeg] Destination: songs/GXu2aUaMWaY.wav\n",
      "Deleting original file songs/GXu2aUaMWaY.webm (pass -k to keep)\n",
      "[youtube] lWdJMhnCgwQ: Downloading webpage\n",
      "[youtube] lWdJMhnCgwQ: Downloading video info webpage\n",
      "[youtube] lWdJMhnCgwQ: Extracting video information\n",
      "[youtube] lWdJMhnCgwQ: Downloading MPD manifest\n"
     ]
    },
    {
     "name": "stderr",
     "output_type": "stream",
     "text": [
      "WARNING: \"id\" field is not a string - forcing string conversion, there is an error in extractor\n"
     ]
    },
    {
     "name": "stdout",
     "output_type": "stream",
     "text": [
      "[download] Destination: songs/lWdJMhnCgwQ.m4a\n",
      "[download] 100% of 3.89MiB in 00:07\n",
      "[ffmpeg] Correcting container in \"songs/lWdJMhnCgwQ.m4a\"\n",
      "[ffmpeg] Destination: songs/lWdJMhnCgwQ.wav\n",
      "Deleting original file songs/lWdJMhnCgwQ.m4a (pass -k to keep)\n",
      "[youtube] yyAthqewF2g: Downloading webpage\n",
      "[youtube] yyAthqewF2g: Downloading embed webpage\n",
      "[youtube] yyAthqewF2g: Refetching age-gated info webpage\n",
      "[youtube] yyAthqewF2g: Extracting video information\n"
     ]
    },
    {
     "name": "stderr",
     "output_type": "stream",
     "text": [
      "WARNING: \"id\" field is not a string - forcing string conversion, there is an error in extractor\n"
     ]
    },
    {
     "name": "stdout",
     "output_type": "stream",
     "text": [
      "[download] Destination: songs/yyAthqewF2g.webm\n",
      "[download] 100% of 2.97MiB in 00:05\n",
      "[ffmpeg] Destination: songs/yyAthqewF2g.wav\n",
      "Deleting original file songs/yyAthqewF2g.webm (pass -k to keep)\n",
      "[youtube] yLiVYTCl9D4: Downloading webpage\n",
      "[youtube] yLiVYTCl9D4: Downloading video info webpage\n",
      "[youtube] yLiVYTCl9D4: Extracting video information\n",
      "[youtube] yLiVYTCl9D4: Downloading MPD manifest\n"
     ]
    },
    {
     "name": "stderr",
     "output_type": "stream",
     "text": [
      "WARNING: \"id\" field is not a string - forcing string conversion, there is an error in extractor\n"
     ]
    },
    {
     "name": "stdout",
     "output_type": "stream",
     "text": [
      "[download] Destination: songs/yLiVYTCl9D4.webm\n",
      "[download] 100% of 2.66MiB in 00:05\n",
      "[ffmpeg] Destination: songs/yLiVYTCl9D4.wav\n",
      "Deleting original file songs/yLiVYTCl9D4.webm (pass -k to keep)\n",
      "[youtube] biuxXenJKf8: Downloading webpage\n",
      "[youtube] biuxXenJKf8: Downloading video info webpage\n",
      "[youtube] biuxXenJKf8: Extracting video information\n",
      "[youtube] biuxXenJKf8: Downloading MPD manifest\n"
     ]
    },
    {
     "name": "stderr",
     "output_type": "stream",
     "text": [
      "WARNING: \"id\" field is not a string - forcing string conversion, there is an error in extractor\n"
     ]
    },
    {
     "name": "stdout",
     "output_type": "stream",
     "text": [
      "[download] Destination: songs/biuxXenJKf8.webm\n",
      "[download] 100% of 3.64MiB in 00:07\n",
      "[ffmpeg] Destination: songs/biuxXenJKf8.wav\n",
      "Deleting original file songs/biuxXenJKf8.webm (pass -k to keep)\n",
      "[youtube] 8eIB4sA36C4: Downloading webpage\n",
      "[youtube] 8eIB4sA36C4: Downloading video info webpage\n",
      "[youtube] 8eIB4sA36C4: Extracting video information\n",
      "[youtube] 8eIB4sA36C4: Downloading MPD manifest\n"
     ]
    },
    {
     "name": "stderr",
     "output_type": "stream",
     "text": [
      "WARNING: \"id\" field is not a string - forcing string conversion, there is an error in extractor\n"
     ]
    },
    {
     "name": "stdout",
     "output_type": "stream",
     "text": [
      "[download] Destination: songs/8eIB4sA36C4.webm\n",
      "[download] 100% of 3.23MiB in 00:06\n",
      "[ffmpeg] Destination: songs/8eIB4sA36C4.wav\n",
      "Deleting original file songs/8eIB4sA36C4.webm (pass -k to keep)\n",
      "[youtube] MLC5mVb6ct0: Downloading webpage\n",
      "[youtube] MLC5mVb6ct0: Downloading video info webpage\n",
      "[youtube] MLC5mVb6ct0: Extracting video information\n",
      "[youtube] MLC5mVb6ct0: Downloading MPD manifest\n",
      "[youtube] MLC5mVb6ct0: Downloading MPD manifest\n"
     ]
    },
    {
     "name": "stderr",
     "output_type": "stream",
     "text": [
      "WARNING: \"id\" field is not a string - forcing string conversion, there is an error in extractor\n"
     ]
    },
    {
     "name": "stdout",
     "output_type": "stream",
     "text": [
      "[dashsegments] Total fragments: 20\n",
      "[download] Destination: songs/MLC5mVb6ct0.m4a\n",
      "[download] 100% of 2.75MiB in 00:09\n",
      "[ffmpeg] Correcting container in \"songs/MLC5mVb6ct0.m4a\"\n",
      "[ffmpeg] Destination: songs/MLC5mVb6ct0.wav\n",
      "Deleting original file songs/MLC5mVb6ct0.m4a (pass -k to keep)\n",
      "[youtube] hcie4MOU-wQ: Downloading webpage\n",
      "[youtube] hcie4MOU-wQ: Downloading video info webpage\n",
      "[youtube] hcie4MOU-wQ: Extracting video information\n",
      "[youtube] hcie4MOU-wQ: Downloading MPD manifest\n"
     ]
    },
    {
     "name": "stderr",
     "output_type": "stream",
     "text": [
      "WARNING: \"id\" field is not a string - forcing string conversion, there is an error in extractor\n"
     ]
    },
    {
     "name": "stdout",
     "output_type": "stream",
     "text": [
      "[download] Destination: songs/hcie4MOU-wQ.webm\n",
      "[download] 100% of 3.55MiB in 00:07\n",
      "[ffmpeg] Destination: songs/hcie4MOU-wQ.wav\n",
      "Deleting original file songs/hcie4MOU-wQ.webm (pass -k to keep)\n",
      "[youtube] qJRTBtrF-UU: Downloading webpage\n",
      "[youtube] qJRTBtrF-UU: Downloading video info webpage\n",
      "[youtube] qJRTBtrF-UU: Extracting video information\n",
      "[youtube] qJRTBtrF-UU: Downloading MPD manifest\n"
     ]
    },
    {
     "name": "stderr",
     "output_type": "stream",
     "text": [
      "WARNING: \"id\" field is not a string - forcing string conversion, there is an error in extractor\n"
     ]
    },
    {
     "name": "stdout",
     "output_type": "stream",
     "text": [
      "[download] Destination: songs/qJRTBtrF-UU.webm\n",
      "[download] 100% of 5.74MiB in 00:11\n",
      "[ffmpeg] Destination: songs/qJRTBtrF-UU.wav\n",
      "Deleting original file songs/qJRTBtrF-UU.webm (pass -k to keep)\n",
      "[youtube] CS7JSJDnues: Downloading webpage\n",
      "[youtube] CS7JSJDnues: Downloading video info webpage\n",
      "[youtube] CS7JSJDnues: Extracting video information\n",
      "[youtube] CS7JSJDnues: Downloading MPD manifest\n"
     ]
    },
    {
     "name": "stderr",
     "output_type": "stream",
     "text": [
      "WARNING: \"id\" field is not a string - forcing string conversion, there is an error in extractor\n"
     ]
    },
    {
     "name": "stdout",
     "output_type": "stream",
     "text": [
      "[download] Destination: songs/CS7JSJDnues.m4a\n",
      "[download] 100% of 2.90MiB in 00:06\n",
      "[ffmpeg] Correcting container in \"songs/CS7JSJDnues.m4a\"\n",
      "[ffmpeg] Destination: songs/CS7JSJDnues.wav\n",
      "Deleting original file songs/CS7JSJDnues.m4a (pass -k to keep)\n",
      "[youtube] Xm9UBT4Vd3k: Downloading webpage\n",
      "[youtube] Xm9UBT4Vd3k: Downloading video info webpage\n",
      "[youtube] Xm9UBT4Vd3k: Extracting video information\n",
      "[youtube] Xm9UBT4Vd3k: Downloading MPD manifest\n"
     ]
    },
    {
     "name": "stderr",
     "output_type": "stream",
     "text": [
      "WARNING: \"id\" field is not a string - forcing string conversion, there is an error in extractor\n"
     ]
    },
    {
     "name": "stdout",
     "output_type": "stream",
     "text": [
      "[download] Destination: songs/Xm9UBT4Vd3k.webm\n",
      "[download] 100% of 4.13MiB in 00:08\n",
      "[ffmpeg] Destination: songs/Xm9UBT4Vd3k.wav\n",
      "Deleting original file songs/Xm9UBT4Vd3k.webm (pass -k to keep)\n",
      "[youtube] QN4Fhz0I3xU: Downloading webpage\n",
      "[youtube] QN4Fhz0I3xU: Downloading video info webpage\n",
      "[youtube] QN4Fhz0I3xU: Extracting video information\n",
      "[youtube] QN4Fhz0I3xU: Downloading MPD manifest\n"
     ]
    },
    {
     "name": "stderr",
     "output_type": "stream",
     "text": [
      "WARNING: \"id\" field is not a string - forcing string conversion, there is an error in extractor\n"
     ]
    },
    {
     "name": "stdout",
     "output_type": "stream",
     "text": [
      "[download] Destination: songs/QN4Fhz0I3xU.webm\n",
      "[download] 100% of 4.32MiB in 00:08\n",
      "[ffmpeg] Destination: songs/QN4Fhz0I3xU.wav\n",
      "Deleting original file songs/QN4Fhz0I3xU.webm (pass -k to keep)\n",
      "[youtube] 9-BM-X0nG4c: Downloading webpage\n",
      "[youtube] 9-BM-X0nG4c: Downloading video info webpage\n",
      "[youtube] 9-BM-X0nG4c: Extracting video information\n",
      "[youtube] 9-BM-X0nG4c: Downloading MPD manifest\n"
     ]
    },
    {
     "name": "stderr",
     "output_type": "stream",
     "text": [
      "WARNING: \"id\" field is not a string - forcing string conversion, there is an error in extractor\n"
     ]
    },
    {
     "name": "stdout",
     "output_type": "stream",
     "text": [
      "[download] Destination: songs/9-BM-X0nG4c.m4a\n",
      "[download] 100% of 4.20MiB in 00:08\n",
      "[ffmpeg] Correcting container in \"songs/9-BM-X0nG4c.m4a\"\n",
      "[ffmpeg] Destination: songs/9-BM-X0nG4c.wav\n",
      "Deleting original file songs/9-BM-X0nG4c.m4a (pass -k to keep)\n",
      "[youtube] noORNEsjgpg: Downloading webpage\n",
      "[youtube] noORNEsjgpg: Downloading video info webpage\n",
      "[youtube] noORNEsjgpg: Extracting video information\n",
      "[youtube] noORNEsjgpg: Downloading MPD manifest\n"
     ]
    },
    {
     "name": "stderr",
     "output_type": "stream",
     "text": [
      "WARNING: \"id\" field is not a string - forcing string conversion, there is an error in extractor\n"
     ]
    },
    {
     "name": "stdout",
     "output_type": "stream",
     "text": [
      "[download] Destination: songs/noORNEsjgpg.webm\n",
      "[download] 100% of 2.27MiB in 00:04\n",
      "[ffmpeg] Destination: songs/noORNEsjgpg.wav\n",
      "Deleting original file songs/noORNEsjgpg.webm (pass -k to keep)\n",
      "[youtube] rUbvi70LcNc: Downloading webpage\n",
      "[youtube] rUbvi70LcNc: Downloading video info webpage\n",
      "[youtube] rUbvi70LcNc: Extracting video information\n",
      "[youtube] rUbvi70LcNc: Downloading MPD manifest\n",
      "[youtube] rUbvi70LcNc: Downloading MPD manifest\n"
     ]
    },
    {
     "name": "stderr",
     "output_type": "stream",
     "text": [
      "WARNING: \"id\" field is not a string - forcing string conversion, there is an error in extractor\n"
     ]
    },
    {
     "name": "stdout",
     "output_type": "stream",
     "text": [
      "[dashsegments] Total fragments: 6\n",
      "[download] Destination: songs/rUbvi70LcNc.m4a\n",
      "[download] 100% of 490.09KiB in 00:02\n",
      "[ffmpeg] Correcting container in \"songs/rUbvi70LcNc.m4a\"\n",
      "[ffmpeg] Destination: songs/rUbvi70LcNc.wav\n",
      "Deleting original file songs/rUbvi70LcNc.m4a (pass -k to keep)\n",
      "[youtube] myIG9PEwXZw: Downloading webpage\n",
      "[youtube] myIG9PEwXZw: Downloading video info webpage\n",
      "[youtube] myIG9PEwXZw: Extracting video information\n",
      "[youtube] myIG9PEwXZw: Downloading MPD manifest\n"
     ]
    },
    {
     "name": "stderr",
     "output_type": "stream",
     "text": [
      "WARNING: \"id\" field is not a string - forcing string conversion, there is an error in extractor\n"
     ]
    },
    {
     "name": "stdout",
     "output_type": "stream",
     "text": [
      "[download] Destination: songs/myIG9PEwXZw.webm\n",
      "[download] 100% of 1.49MiB in 00:02\n",
      "[ffmpeg] Destination: songs/myIG9PEwXZw.wav\n",
      "Deleting original file songs/myIG9PEwXZw.webm (pass -k to keep)\n",
      "[youtube] PfYYPl0Nd7s: Downloading webpage\n",
      "[youtube] PfYYPl0Nd7s: Downloading video info webpage\n",
      "[youtube] PfYYPl0Nd7s: Extracting video information\n",
      "[youtube] PfYYPl0Nd7s: Downloading MPD manifest\n"
     ]
    },
    {
     "name": "stderr",
     "output_type": "stream",
     "text": [
      "WARNING: \"id\" field is not a string - forcing string conversion, there is an error in extractor\n"
     ]
    },
    {
     "name": "stdout",
     "output_type": "stream",
     "text": [
      "[download] Destination: songs/PfYYPl0Nd7s.webm\n",
      "[download] 100% of 5.13MiB in 00:10\n",
      "[ffmpeg] Destination: songs/PfYYPl0Nd7s.wav\n",
      "Deleting original file songs/PfYYPl0Nd7s.webm (pass -k to keep)\n",
      "[youtube] vXGj35-FvBk: Downloading webpage\n",
      "[youtube] vXGj35-FvBk: Downloading video info webpage\n",
      "[youtube] vXGj35-FvBk: Extracting video information\n",
      "[youtube] vXGj35-FvBk: Downloading MPD manifest\n"
     ]
    },
    {
     "name": "stderr",
     "output_type": "stream",
     "text": [
      "WARNING: \"id\" field is not a string - forcing string conversion, there is an error in extractor\n"
     ]
    },
    {
     "name": "stdout",
     "output_type": "stream",
     "text": [
      "[download] Destination: songs/vXGj35-FvBk.webm\n",
      "[download] 100% of 4.27MiB in 00:08\n",
      "[ffmpeg] Destination: songs/vXGj35-FvBk.wav\n",
      "Deleting original file songs/vXGj35-FvBk.webm (pass -k to keep)\n",
      "[youtube] THSY0okBDdw: Downloading webpage\n",
      "[youtube] THSY0okBDdw: Downloading video info webpage\n",
      "[youtube] THSY0okBDdw: Extracting video information\n",
      "[youtube] THSY0okBDdw: Downloading MPD manifest\n"
     ]
    },
    {
     "name": "stderr",
     "output_type": "stream",
     "text": [
      "WARNING: \"id\" field is not a string - forcing string conversion, there is an error in extractor\n"
     ]
    },
    {
     "name": "stdout",
     "output_type": "stream",
     "text": [
      "[download] Destination: songs/THSY0okBDdw.webm\n",
      "[download] 100% of 5.58MiB in 00:11\n",
      "[ffmpeg] Destination: songs/THSY0okBDdw.wav\n",
      "Deleting original file songs/THSY0okBDdw.webm (pass -k to keep)\n",
      "[youtube] wkv64uLyEN0: Downloading webpage\n",
      "[youtube] wkv64uLyEN0: Downloading video info webpage\n",
      "[youtube] wkv64uLyEN0: Extracting video information\n",
      "[youtube] wkv64uLyEN0: Downloading MPD manifest\n"
     ]
    },
    {
     "name": "stderr",
     "output_type": "stream",
     "text": [
      "WARNING: \"id\" field is not a string - forcing string conversion, there is an error in extractor\n"
     ]
    },
    {
     "name": "stdout",
     "output_type": "stream",
     "text": [
      "[download] Destination: songs/wkv64uLyEN0.webm\n",
      "[download] 100% of 4.23MiB in 00:08\n",
      "[ffmpeg] Destination: songs/wkv64uLyEN0.wav\n",
      "Deleting original file songs/wkv64uLyEN0.webm (pass -k to keep)\n",
      "[youtube] i4kHfWTpmW4: Downloading webpage\n",
      "[youtube] i4kHfWTpmW4: Downloading video info webpage\n",
      "[youtube] i4kHfWTpmW4: Extracting video information\n",
      "[youtube] i4kHfWTpmW4: Downloading MPD manifest\n"
     ]
    },
    {
     "name": "stderr",
     "output_type": "stream",
     "text": [
      "WARNING: \"id\" field is not a string - forcing string conversion, there is an error in extractor\n"
     ]
    },
    {
     "name": "stdout",
     "output_type": "stream",
     "text": [
      "[download] Destination: songs/i4kHfWTpmW4.webm\n",
      "[download] 100% of 3.04MiB in 00:05\n",
      "[ffmpeg] Destination: songs/i4kHfWTpmW4.wav\n",
      "Deleting original file songs/i4kHfWTpmW4.webm (pass -k to keep)\n",
      "[youtube] QrSNAyw2mY8: Downloading webpage\n",
      "[youtube] QrSNAyw2mY8: Downloading video info webpage\n",
      "[youtube] QrSNAyw2mY8: Extracting video information\n",
      "[youtube] QrSNAyw2mY8: Downloading MPD manifest\n"
     ]
    },
    {
     "name": "stderr",
     "output_type": "stream",
     "text": [
      "WARNING: \"id\" field is not a string - forcing string conversion, there is an error in extractor\n"
     ]
    },
    {
     "name": "stdout",
     "output_type": "stream",
     "text": [
      "[download] Destination: songs/QrSNAyw2mY8.m4a\n",
      "[download] 100% of 1.66MiB in 00:03\n",
      "[ffmpeg] Correcting container in \"songs/QrSNAyw2mY8.m4a\"\n",
      "[ffmpeg] Destination: songs/QrSNAyw2mY8.wav\n",
      "Deleting original file songs/QrSNAyw2mY8.m4a (pass -k to keep)\n",
      "[youtube] XnJf8hiwDK0: Downloading webpage\n",
      "[youtube] XnJf8hiwDK0: Downloading video info webpage\n",
      "[youtube] XnJf8hiwDK0: Extracting video information\n",
      "[youtube] XnJf8hiwDK0: Downloading MPD manifest\n"
     ]
    },
    {
     "name": "stderr",
     "output_type": "stream",
     "text": [
      "WARNING: \"id\" field is not a string - forcing string conversion, there is an error in extractor\n"
     ]
    },
    {
     "name": "stdout",
     "output_type": "stream",
     "text": [
      "[download] Destination: songs/XnJf8hiwDK0.m4a\n",
      "[download] 100% of 2.40MiB in 00:05\n",
      "[ffmpeg] Correcting container in \"songs/XnJf8hiwDK0.m4a\"\n",
      "[ffmpeg] Destination: songs/XnJf8hiwDK0.wav\n",
      "Deleting original file songs/XnJf8hiwDK0.m4a (pass -k to keep)\n",
      "[youtube] K7Ajd5duFtU: Downloading webpage\n",
      "[youtube] K7Ajd5duFtU: Downloading video info webpage\n",
      "[youtube] K7Ajd5duFtU: Extracting video information\n",
      "[youtube] K7Ajd5duFtU: Downloading MPD manifest\n"
     ]
    },
    {
     "name": "stderr",
     "output_type": "stream",
     "text": [
      "WARNING: \"id\" field is not a string - forcing string conversion, there is an error in extractor\n"
     ]
    },
    {
     "name": "stdout",
     "output_type": "stream",
     "text": [
      "[download] Destination: songs/K7Ajd5duFtU.m4a\n",
      "[download] 100% of 3.33MiB in 00:06\n",
      "[ffmpeg] Correcting container in \"songs/K7Ajd5duFtU.m4a\"\n",
      "[ffmpeg] Destination: songs/K7Ajd5duFtU.wav\n",
      "Deleting original file songs/K7Ajd5duFtU.m4a (pass -k to keep)\n",
      "[youtube] SRkX1Up1vnc: Downloading webpage\n",
      "[youtube] SRkX1Up1vnc: Downloading video info webpage\n",
      "[youtube] SRkX1Up1vnc: Extracting video information\n",
      "[youtube] SRkX1Up1vnc: Downloading MPD manifest\n"
     ]
    },
    {
     "name": "stderr",
     "output_type": "stream",
     "text": [
      "WARNING: \"id\" field is not a string - forcing string conversion, there is an error in extractor\n"
     ]
    },
    {
     "name": "stdout",
     "output_type": "stream",
     "text": [
      "[download] Destination: songs/SRkX1Up1vnc.webm\n",
      "[download] 100% of 3.56MiB in 00:07\n",
      "[ffmpeg] Destination: songs/SRkX1Up1vnc.wav\n",
      "Deleting original file songs/SRkX1Up1vnc.webm (pass -k to keep)\n",
      "[youtube] i__PYqDbbx8: Downloading webpage\n",
      "[youtube] i__PYqDbbx8: Downloading video info webpage\n",
      "[youtube] i__PYqDbbx8: Extracting video information\n",
      "[youtube] i__PYqDbbx8: Downloading MPD manifest\n"
     ]
    },
    {
     "name": "stderr",
     "output_type": "stream",
     "text": [
      "WARNING: \"id\" field is not a string - forcing string conversion, there is an error in extractor\n"
     ]
    },
    {
     "name": "stdout",
     "output_type": "stream",
     "text": [
      "[download] Destination: songs/i__PYqDbbx8.webm\n",
      "[download] 100% of 2.38MiB in 00:04\n",
      "[ffmpeg] Destination: songs/i__PYqDbbx8.wav\n",
      "Deleting original file songs/i__PYqDbbx8.webm (pass -k to keep)\n",
      "[youtube] 1VV8kIHUX_k: Downloading webpage\n",
      "[youtube] 1VV8kIHUX_k: Downloading video info webpage\n",
      "[youtube] 1VV8kIHUX_k: Extracting video information\n",
      "[youtube] 1VV8kIHUX_k: Downloading MPD manifest\n"
     ]
    },
    {
     "name": "stderr",
     "output_type": "stream",
     "text": [
      "WARNING: \"id\" field is not a string - forcing string conversion, there is an error in extractor\n"
     ]
    },
    {
     "name": "stdout",
     "output_type": "stream",
     "text": [
      "[download] Destination: songs/1VV8kIHUX_k.m4a\n",
      "[download] 100% of 2.15MiB in 00:04\n",
      "[ffmpeg] Correcting container in \"songs/1VV8kIHUX_k.m4a\"\n",
      "[ffmpeg] Destination: songs/1VV8kIHUX_k.wav\n",
      "Deleting original file songs/1VV8kIHUX_k.m4a (pass -k to keep)\n",
      "[youtube] t-Zf3ttMWRc: Downloading webpage\n",
      "[youtube] t-Zf3ttMWRc: Downloading video info webpage\n"
     ]
    },
    {
     "name": "stderr",
     "output_type": "stream",
     "text": [
      "ERROR: t-Zf3ttMWRc: YouTube said: This video contains content from INgrooves, who has blocked it on copyright grounds.\n"
     ]
    },
    {
     "name": "stdout",
     "output_type": "stream",
     "text": [
      "[youtube] tWidOmbqLPk: Downloading webpage\n",
      "[youtube] tWidOmbqLPk: Downloading video info webpage\n",
      "[youtube] tWidOmbqLPk: Extracting video information\n",
      "[youtube] tWidOmbqLPk: Downloading MPD manifest\n"
     ]
    },
    {
     "name": "stderr",
     "output_type": "stream",
     "text": [
      "WARNING: \"id\" field is not a string - forcing string conversion, there is an error in extractor\n"
     ]
    },
    {
     "name": "stdout",
     "output_type": "stream",
     "text": [
      "[download] Destination: songs/tWidOmbqLPk.webm\n",
      "[download] 100% of 3.70MiB in 00:07\n",
      "[ffmpeg] Destination: songs/tWidOmbqLPk.wav\n",
      "Deleting original file songs/tWidOmbqLPk.webm (pass -k to keep)\n",
      "[youtube] hRrcghrBH5I: Downloading webpage\n",
      "[youtube] hRrcghrBH5I: Downloading video info webpage\n",
      "[youtube] hRrcghrBH5I: Extracting video information\n",
      "[youtube] hRrcghrBH5I: Downloading MPD manifest\n"
     ]
    },
    {
     "name": "stderr",
     "output_type": "stream",
     "text": [
      "WARNING: \"id\" field is not a string - forcing string conversion, there is an error in extractor\n"
     ]
    },
    {
     "name": "stdout",
     "output_type": "stream",
     "text": [
      "[download] Destination: songs/hRrcghrBH5I.webm\n",
      "[download] 100% of 4.35MiB in 00:08\n",
      "[ffmpeg] Destination: songs/hRrcghrBH5I.wav\n",
      "Deleting original file songs/hRrcghrBH5I.webm (pass -k to keep)\n",
      "[youtube] 4QlAx5oi0ww: Downloading webpage\n",
      "[youtube] 4QlAx5oi0ww: Downloading video info webpage\n",
      "[youtube] 4QlAx5oi0ww: Extracting video information\n",
      "[youtube] 4QlAx5oi0ww: Downloading MPD manifest\n"
     ]
    },
    {
     "name": "stderr",
     "output_type": "stream",
     "text": [
      "WARNING: \"id\" field is not a string - forcing string conversion, there is an error in extractor\n"
     ]
    },
    {
     "name": "stdout",
     "output_type": "stream",
     "text": [
      "[download] Destination: songs/4QlAx5oi0ww.m4a\n",
      "[download] 100% of 304.34KiB in 00:00\n",
      "[ffmpeg] Correcting container in \"songs/4QlAx5oi0ww.m4a\"\n",
      "[ffmpeg] Destination: songs/4QlAx5oi0ww.wav\n",
      "Deleting original file songs/4QlAx5oi0ww.m4a (pass -k to keep)\n",
      "[youtube] YiB7hzN3Gtg: Downloading webpage\n",
      "[youtube] YiB7hzN3Gtg: Downloading video info webpage\n",
      "[youtube] YiB7hzN3Gtg: Extracting video information\n",
      "[youtube] YiB7hzN3Gtg: Downloading MPD manifest\n"
     ]
    },
    {
     "name": "stderr",
     "output_type": "stream",
     "text": [
      "WARNING: \"id\" field is not a string - forcing string conversion, there is an error in extractor\n"
     ]
    },
    {
     "name": "stdout",
     "output_type": "stream",
     "text": [
      "[download] Destination: songs/YiB7hzN3Gtg.webm\n",
      "[download] 100% of 2.49MiB in 00:04\n",
      "[ffmpeg] Destination: songs/YiB7hzN3Gtg.wav\n",
      "Deleting original file songs/YiB7hzN3Gtg.webm (pass -k to keep)\n",
      "[youtube] CiFoj-JXgew: Downloading webpage\n",
      "[youtube] CiFoj-JXgew: Downloading video info webpage\n",
      "[youtube] CiFoj-JXgew: Extracting video information\n",
      "[youtube] CiFoj-JXgew: Downloading MPD manifest\n"
     ]
    },
    {
     "name": "stderr",
     "output_type": "stream",
     "text": [
      "WARNING: \"id\" field is not a string - forcing string conversion, there is an error in extractor\n"
     ]
    },
    {
     "name": "stdout",
     "output_type": "stream",
     "text": [
      "[download] Destination: songs/CiFoj-JXgew.m4a\n",
      "[download] 100% of 2.52MiB in 00:04\n",
      "[ffmpeg] Correcting container in \"songs/CiFoj-JXgew.m4a\"\n",
      "[ffmpeg] Destination: songs/CiFoj-JXgew.wav\n",
      "Deleting original file songs/CiFoj-JXgew.m4a (pass -k to keep)\n",
      "[youtube] Wo5vpbTTjz4: Downloading webpage\n",
      "[youtube] Wo5vpbTTjz4: Downloading video info webpage\n",
      "[youtube] Wo5vpbTTjz4: Extracting video information\n",
      "[youtube] Wo5vpbTTjz4: Downloading MPD manifest\n"
     ]
    },
    {
     "name": "stderr",
     "output_type": "stream",
     "text": [
      "WARNING: \"id\" field is not a string - forcing string conversion, there is an error in extractor\n"
     ]
    },
    {
     "name": "stdout",
     "output_type": "stream",
     "text": [
      "[download] Destination: songs/Wo5vpbTTjz4.webm\n",
      "[download] 100% of 2.84MiB in 00:05\n",
      "[ffmpeg] Destination: songs/Wo5vpbTTjz4.wav\n",
      "Deleting original file songs/Wo5vpbTTjz4.webm (pass -k to keep)\n",
      "[youtube] fdRoy3nBDf4: Downloading webpage\n",
      "[youtube] fdRoy3nBDf4: Downloading video info webpage\n",
      "[youtube] fdRoy3nBDf4: Extracting video information\n",
      "[youtube] fdRoy3nBDf4: Downloading MPD manifest\n"
     ]
    },
    {
     "name": "stderr",
     "output_type": "stream",
     "text": [
      "WARNING: \"id\" field is not a string - forcing string conversion, there is an error in extractor\n"
     ]
    },
    {
     "name": "stdout",
     "output_type": "stream",
     "text": [
      "[download] Destination: songs/fdRoy3nBDf4.m4a\n",
      "[download] 100% of 1.97MiB in 00:03\n",
      "[ffmpeg] Correcting container in \"songs/fdRoy3nBDf4.m4a\"\n",
      "[ffmpeg] Destination: songs/fdRoy3nBDf4.wav\n",
      "Deleting original file songs/fdRoy3nBDf4.m4a (pass -k to keep)\n",
      "[youtube] My2FRPA3Gf8: Downloading webpage\n",
      "[youtube] My2FRPA3Gf8: Downloading video info webpage\n",
      "[youtube] My2FRPA3Gf8: Extracting video information\n",
      "[youtube] My2FRPA3Gf8: Downloading MPD manifest\n"
     ]
    },
    {
     "name": "stderr",
     "output_type": "stream",
     "text": [
      "WARNING: \"id\" field is not a string - forcing string conversion, there is an error in extractor\n"
     ]
    },
    {
     "name": "stdout",
     "output_type": "stream",
     "text": [
      "[download] Destination: songs/My2FRPA3Gf8.webm\n",
      "[download] 100% of 3.59MiB in 00:07\n",
      "[ffmpeg] Destination: songs/My2FRPA3Gf8.wav\n",
      "Deleting original file songs/My2FRPA3Gf8.webm (pass -k to keep)\n",
      "[youtube] vxxr2SnSF4g: Downloading webpage\n",
      "[youtube] vxxr2SnSF4g: Downloading video info webpage\n",
      "[youtube] vxxr2SnSF4g: Extracting video information\n",
      "[youtube] vxxr2SnSF4g: Downloading MPD manifest\n"
     ]
    },
    {
     "name": "stderr",
     "output_type": "stream",
     "text": [
      "WARNING: \"id\" field is not a string - forcing string conversion, there is an error in extractor\n"
     ]
    },
    {
     "name": "stdout",
     "output_type": "stream",
     "text": [
      "[download] Destination: songs/vxxr2SnSF4g.m4a\n",
      "[download] 100% of 2.10MiB in 00:04\n",
      "[ffmpeg] Correcting container in \"songs/vxxr2SnSF4g.m4a\"\n",
      "[ffmpeg] Destination: songs/vxxr2SnSF4g.wav\n",
      "Deleting original file songs/vxxr2SnSF4g.m4a (pass -k to keep)\n",
      "[youtube] 3aU1dOyspeI: Downloading webpage\n",
      "[youtube] 3aU1dOyspeI: Downloading video info webpage\n",
      "[youtube] 3aU1dOyspeI: Extracting video information\n",
      "[youtube] 3aU1dOyspeI: Downloading MPD manifest\n"
     ]
    },
    {
     "name": "stderr",
     "output_type": "stream",
     "text": [
      "WARNING: \"id\" field is not a string - forcing string conversion, there is an error in extractor\n"
     ]
    },
    {
     "name": "stdout",
     "output_type": "stream",
     "text": [
      "[dashsegments] Total fragments: 39\n",
      "[download] Destination: songs/3aU1dOyspeI.m4a\n",
      "[download] 100% of 5.68MiB in 00:17\n",
      "[ffmpeg] Correcting container in \"songs/3aU1dOyspeI.m4a\"\n",
      "[ffmpeg] Destination: songs/3aU1dOyspeI.wav\n",
      "Deleting original file songs/3aU1dOyspeI.m4a (pass -k to keep)\n",
      "[youtube] EIpF8wFjwb0: Downloading webpage\n",
      "[youtube] EIpF8wFjwb0: Downloading video info webpage\n",
      "[youtube] EIpF8wFjwb0: Extracting video information\n",
      "[youtube] EIpF8wFjwb0: Downloading MPD manifest\n"
     ]
    },
    {
     "name": "stderr",
     "output_type": "stream",
     "text": [
      "WARNING: \"id\" field is not a string - forcing string conversion, there is an error in extractor\n"
     ]
    },
    {
     "name": "stdout",
     "output_type": "stream",
     "text": [
      "[download] Destination: songs/EIpF8wFjwb0.webm\n",
      "[download] 100% of 3.42MiB in 00:06\n",
      "[ffmpeg] Destination: songs/EIpF8wFjwb0.wav\n",
      "Deleting original file songs/EIpF8wFjwb0.webm (pass -k to keep)\n",
      "[youtube] mCtUjkoWc7c: Downloading webpage\n",
      "[youtube] mCtUjkoWc7c: Downloading video info webpage\n",
      "[youtube] mCtUjkoWc7c: Extracting video information\n",
      "[youtube] mCtUjkoWc7c: Downloading MPD manifest\n"
     ]
    },
    {
     "name": "stderr",
     "output_type": "stream",
     "text": [
      "WARNING: \"id\" field is not a string - forcing string conversion, there is an error in extractor\n"
     ]
    },
    {
     "name": "stdout",
     "output_type": "stream",
     "text": [
      "[download] Destination: songs/mCtUjkoWc7c.webm\n",
      "[download] 100% of 5.22MiB in 00:10\n",
      "[ffmpeg] Destination: songs/mCtUjkoWc7c.wav\n",
      "Deleting original file songs/mCtUjkoWc7c.webm (pass -k to keep)\n",
      "[youtube] Ghgol0Eq0xQ: Downloading webpage\n",
      "[youtube] Ghgol0Eq0xQ: Downloading video info webpage\n",
      "[youtube] Ghgol0Eq0xQ: Extracting video information\n",
      "[youtube] Ghgol0Eq0xQ: Downloading MPD manifest\n",
      "[youtube] Ghgol0Eq0xQ: Downloading MPD manifest\n"
     ]
    },
    {
     "name": "stderr",
     "output_type": "stream",
     "text": [
      "WARNING: \"id\" field is not a string - forcing string conversion, there is an error in extractor\n"
     ]
    },
    {
     "name": "stdout",
     "output_type": "stream",
     "text": [
      "[dashsegments] Total fragments: 29\n",
      "[download] Destination: songs/Ghgol0Eq0xQ.m4a\n",
      "[download] 100% of 4.20MiB in 00:14\n",
      "[ffmpeg] Correcting container in \"songs/Ghgol0Eq0xQ.m4a\"\n",
      "[ffmpeg] Destination: songs/Ghgol0Eq0xQ.wav\n",
      "Deleting original file songs/Ghgol0Eq0xQ.m4a (pass -k to keep)\n",
      "[youtube] 0nTiiFVDv1w: Downloading webpage\n",
      "[youtube] 0nTiiFVDv1w: Downloading video info webpage\n",
      "[youtube] 0nTiiFVDv1w: Extracting video information\n",
      "[youtube] 0nTiiFVDv1w: Downloading MPD manifest\n"
     ]
    },
    {
     "name": "stderr",
     "output_type": "stream",
     "text": [
      "WARNING: \"id\" field is not a string - forcing string conversion, there is an error in extractor\n"
     ]
    },
    {
     "name": "stdout",
     "output_type": "stream",
     "text": [
      "[download] Destination: songs/0nTiiFVDv1w.webm\n",
      "[download] 100% of 3.53MiB in 00:06\n",
      "[ffmpeg] Destination: songs/0nTiiFVDv1w.wav\n",
      "Deleting original file songs/0nTiiFVDv1w.webm (pass -k to keep)\n",
      "[youtube] fR9812rptho: Downloading webpage\n",
      "[youtube] fR9812rptho: Downloading video info webpage\n",
      "[youtube] fR9812rptho: Extracting video information\n",
      "[youtube] fR9812rptho: Downloading MPD manifest\n"
     ]
    },
    {
     "name": "stderr",
     "output_type": "stream",
     "text": [
      "WARNING: \"id\" field is not a string - forcing string conversion, there is an error in extractor\n"
     ]
    },
    {
     "name": "stdout",
     "output_type": "stream",
     "text": [
      "[download] Destination: songs/fR9812rptho.webm\n",
      "[download] 100% of 5.25MiB in 00:10\n",
      "[ffmpeg] Destination: songs/fR9812rptho.wav\n",
      "Deleting original file songs/fR9812rptho.webm (pass -k to keep)\n",
      "[youtube] JQpXYwDibPI: Downloading webpage\n",
      "[youtube] JQpXYwDibPI: Downloading video info webpage\n",
      "[youtube] JQpXYwDibPI: Extracting video information\n",
      "[youtube] JQpXYwDibPI: Downloading MPD manifest\n"
     ]
    },
    {
     "name": "stderr",
     "output_type": "stream",
     "text": [
      "WARNING: \"id\" field is not a string - forcing string conversion, there is an error in extractor\n"
     ]
    },
    {
     "name": "stdout",
     "output_type": "stream",
     "text": [
      "[download] Destination: songs/JQpXYwDibPI.webm\n",
      "[download] 100% of 2.58MiB in 00:05\n",
      "[ffmpeg] Destination: songs/JQpXYwDibPI.wav\n",
      "Deleting original file songs/JQpXYwDibPI.webm (pass -k to keep)\n",
      "[youtube] Cwkej79U3ek: Downloading webpage\n",
      "[youtube] Cwkej79U3ek: Downloading video info webpage\n",
      "[youtube] Cwkej79U3ek: Extracting video information\n",
      "[youtube] Cwkej79U3ek: Downloading MPD manifest\n"
     ]
    },
    {
     "name": "stderr",
     "output_type": "stream",
     "text": [
      "WARNING: \"id\" field is not a string - forcing string conversion, there is an error in extractor\n"
     ]
    },
    {
     "name": "stdout",
     "output_type": "stream",
     "text": [
      "[download] Destination: songs/Cwkej79U3ek.webm\n",
      "[download] 100% of 4.30MiB in 00:08\n",
      "[ffmpeg] Destination: songs/Cwkej79U3ek.wav\n",
      "Deleting original file songs/Cwkej79U3ek.webm (pass -k to keep)\n",
      "[youtube] Os12LjYH4-4: Downloading webpage\n",
      "[youtube] Os12LjYH4-4: Downloading video info webpage\n",
      "[youtube] Os12LjYH4-4: Extracting video information\n",
      "[youtube] Os12LjYH4-4: Downloading MPD manifest\n"
     ]
    },
    {
     "name": "stderr",
     "output_type": "stream",
     "text": [
      "WARNING: \"id\" field is not a string - forcing string conversion, there is an error in extractor\n"
     ]
    },
    {
     "name": "stdout",
     "output_type": "stream",
     "text": [
      "[download] Destination: songs/Os12LjYH4-4.webm\n",
      "[download] 100% of 3.38MiB in 00:06\n",
      "[ffmpeg] Destination: songs/Os12LjYH4-4.wav\n",
      "Deleting original file songs/Os12LjYH4-4.webm (pass -k to keep)\n",
      "[youtube] GYyb_EB8WLk: Downloading webpage\n",
      "[youtube] GYyb_EB8WLk: Downloading video info webpage\n",
      "[youtube] GYyb_EB8WLk: Extracting video information\n",
      "[youtube] GYyb_EB8WLk: Downloading MPD manifest\n"
     ]
    },
    {
     "name": "stderr",
     "output_type": "stream",
     "text": [
      "WARNING: \"id\" field is not a string - forcing string conversion, there is an error in extractor\n"
     ]
    },
    {
     "name": "stdout",
     "output_type": "stream",
     "text": [
      "[download] Destination: songs/GYyb_EB8WLk.webm\n",
      "[download] 100% of 2.53MiB in 00:04\n",
      "[ffmpeg] Destination: songs/GYyb_EB8WLk.wav\n",
      "Deleting original file songs/GYyb_EB8WLk.webm (pass -k to keep)\n",
      "[youtube] E9CDZJBCjFE: Downloading webpage\n",
      "[youtube] E9CDZJBCjFE: Downloading video info webpage\n",
      "[youtube] E9CDZJBCjFE: Extracting video information\n",
      "[youtube] E9CDZJBCjFE: Downloading MPD manifest\n"
     ]
    },
    {
     "name": "stderr",
     "output_type": "stream",
     "text": [
      "WARNING: \"id\" field is not a string - forcing string conversion, there is an error in extractor\n"
     ]
    },
    {
     "name": "stdout",
     "output_type": "stream",
     "text": [
      "[download] Destination: songs/E9CDZJBCjFE.m4a\n",
      "[download] 100% of 3.51MiB in 00:06\n",
      "[ffmpeg] Correcting container in \"songs/E9CDZJBCjFE.m4a\"\n",
      "[ffmpeg] Destination: songs/E9CDZJBCjFE.wav\n",
      "Deleting original file songs/E9CDZJBCjFE.m4a (pass -k to keep)\n",
      "[youtube] IlPksvVEHXA: Downloading webpage\n",
      "[youtube] IlPksvVEHXA: Downloading video info webpage\n",
      "[youtube] IlPksvVEHXA: Extracting video information\n",
      "[youtube] IlPksvVEHXA: Downloading MPD manifest\n"
     ]
    },
    {
     "name": "stderr",
     "output_type": "stream",
     "text": [
      "WARNING: \"id\" field is not a string - forcing string conversion, there is an error in extractor\n"
     ]
    },
    {
     "name": "stdout",
     "output_type": "stream",
     "text": [
      "[download] Destination: songs/IlPksvVEHXA.webm\n",
      "[download] 100% of 1.62MiB in 00:03\n",
      "[ffmpeg] Destination: songs/IlPksvVEHXA.wav\n",
      "Deleting original file songs/IlPksvVEHXA.webm (pass -k to keep)\n",
      "[youtube] U8rkTl5V59I: Downloading webpage\n",
      "[youtube] U8rkTl5V59I: Downloading video info webpage\n",
      "[youtube] U8rkTl5V59I: Extracting video information\n",
      "[youtube] U8rkTl5V59I: Downloading MPD manifest\n",
      "[youtube] U8rkTl5V59I: Downloading MPD manifest\n"
     ]
    },
    {
     "name": "stderr",
     "output_type": "stream",
     "text": [
      "WARNING: \"id\" field is not a string - forcing string conversion, there is an error in extractor\n"
     ]
    },
    {
     "name": "stdout",
     "output_type": "stream",
     "text": [
      "[dashsegments] Total fragments: 39\n",
      "[download] Destination: songs/U8rkTl5V59I.m4a\n",
      "[download] 100% of 2.82MiB in 00:14\n",
      "[ffmpeg] Correcting container in \"songs/U8rkTl5V59I.m4a\"\n",
      "[ffmpeg] Destination: songs/U8rkTl5V59I.wav\n",
      "Deleting original file songs/U8rkTl5V59I.m4a (pass -k to keep)\n",
      "[youtube] f6D__DGYuG4: Downloading webpage\n",
      "[youtube] f6D__DGYuG4: Downloading video info webpage\n",
      "[youtube] f6D__DGYuG4: Extracting video information\n",
      "[youtube] f6D__DGYuG4: Downloading MPD manifest\n"
     ]
    },
    {
     "name": "stderr",
     "output_type": "stream",
     "text": [
      "WARNING: \"id\" field is not a string - forcing string conversion, there is an error in extractor\n"
     ]
    },
    {
     "name": "stdout",
     "output_type": "stream",
     "text": [
      "[download] Destination: songs/f6D__DGYuG4.webm\n",
      "[download] 100% of 4.15MiB in 00:08\n",
      "[ffmpeg] Destination: songs/f6D__DGYuG4.wav\n",
      "Deleting original file songs/f6D__DGYuG4.webm (pass -k to keep)\n",
      "[youtube] 6CLN-2hwvBg: Downloading webpage\n",
      "[youtube] 6CLN-2hwvBg: Downloading video info webpage\n",
      "[youtube] 6CLN-2hwvBg: Extracting video information\n",
      "[youtube] 6CLN-2hwvBg: Downloading MPD manifest\n"
     ]
    },
    {
     "name": "stderr",
     "output_type": "stream",
     "text": [
      "WARNING: \"id\" field is not a string - forcing string conversion, there is an error in extractor\n"
     ]
    },
    {
     "name": "stdout",
     "output_type": "stream",
     "text": [
      "[download] Destination: songs/6CLN-2hwvBg.webm\n",
      "[download] 100% of 3.26MiB in 00:06\n",
      "[ffmpeg] Destination: songs/6CLN-2hwvBg.wav\n",
      "Deleting original file songs/6CLN-2hwvBg.webm (pass -k to keep)\n",
      "[youtube] WgQN2aF7jM4: Downloading webpage\n",
      "[youtube] WgQN2aF7jM4: Downloading video info webpage\n",
      "[youtube] WgQN2aF7jM4: Extracting video information\n",
      "[youtube] WgQN2aF7jM4: Downloading MPD manifest\n",
      "[youtube] WgQN2aF7jM4: Downloading MPD manifest\n"
     ]
    },
    {
     "name": "stderr",
     "output_type": "stream",
     "text": [
      "WARNING: \"id\" field is not a string - forcing string conversion, there is an error in extractor\n"
     ]
    },
    {
     "name": "stdout",
     "output_type": "stream",
     "text": [
      "[dashsegments] Total fragments: 30\n",
      "[download] Destination: songs/WgQN2aF7jM4.m4a\n",
      "[download] 100% of 4.35MiB in 00:15\n",
      "[ffmpeg] Correcting container in \"songs/WgQN2aF7jM4.m4a\"\n",
      "[ffmpeg] Destination: songs/WgQN2aF7jM4.wav\n",
      "Deleting original file songs/WgQN2aF7jM4.m4a (pass -k to keep)\n",
      "[youtube] dvgZkm1xWPE: Downloading webpage\n",
      "[youtube] dvgZkm1xWPE: Downloading video info webpage\n",
      "[youtube] dvgZkm1xWPE: Extracting video information\n",
      "[youtube] dvgZkm1xWPE: Downloading MPD manifest\n"
     ]
    },
    {
     "name": "stderr",
     "output_type": "stream",
     "text": [
      "WARNING: \"id\" field is not a string - forcing string conversion, there is an error in extractor\n"
     ]
    },
    {
     "name": "stdout",
     "output_type": "stream",
     "text": [
      "[download] Destination: songs/dvgZkm1xWPE.webm\n",
      "[download] 100% of 3.78MiB in 00:07\n",
      "[ffmpeg] Destination: songs/dvgZkm1xWPE.wav\n",
      "Deleting original file songs/dvgZkm1xWPE.webm (pass -k to keep)\n",
      "[youtube] 4Gfyyb2Cbxw: Downloading webpage\n",
      "[youtube] 4Gfyyb2Cbxw: Downloading video info webpage\n",
      "[youtube] 4Gfyyb2Cbxw: Extracting video information\n",
      "[youtube] 4Gfyyb2Cbxw: Downloading MPD manifest\n"
     ]
    },
    {
     "name": "stderr",
     "output_type": "stream",
     "text": [
      "WARNING: \"id\" field is not a string - forcing string conversion, there is an error in extractor\n"
     ]
    },
    {
     "name": "stdout",
     "output_type": "stream",
     "text": [
      "[download] Destination: songs/4Gfyyb2Cbxw.webm\n",
      "[download] 100% of 3.39MiB in 00:06\n",
      "[ffmpeg] Destination: songs/4Gfyyb2Cbxw.wav\n",
      "Deleting original file songs/4Gfyyb2Cbxw.webm (pass -k to keep)\n",
      "[youtube] buXkhVX6j4M: Downloading webpage\n",
      "[youtube] buXkhVX6j4M: Downloading video info webpage\n",
      "[youtube] buXkhVX6j4M: Extracting video information\n",
      "[youtube] buXkhVX6j4M: Downloading MPD manifest\n"
     ]
    },
    {
     "name": "stderr",
     "output_type": "stream",
     "text": [
      "WARNING: \"id\" field is not a string - forcing string conversion, there is an error in extractor\n"
     ]
    },
    {
     "name": "stdout",
     "output_type": "stream",
     "text": [
      "[download] Destination: songs/buXkhVX6j4M.webm\n",
      "[download] 100% of 2.96MiB in 00:05\n",
      "[ffmpeg] Destination: songs/buXkhVX6j4M.wav\n",
      "Deleting original file songs/buXkhVX6j4M.webm (pass -k to keep)\n",
      "[youtube] MH4ToHif92w: Downloading webpage\n",
      "[youtube] MH4ToHif92w: Downloading video info webpage\n",
      "[youtube] MH4ToHif92w: Extracting video information\n",
      "[youtube] MH4ToHif92w: Downloading MPD manifest\n"
     ]
    },
    {
     "name": "stderr",
     "output_type": "stream",
     "text": [
      "WARNING: \"id\" field is not a string - forcing string conversion, there is an error in extractor\n"
     ]
    },
    {
     "name": "stdout",
     "output_type": "stream",
     "text": [
      "[download] Destination: songs/MH4ToHif92w.webm\n",
      "[download] 100% of 3.22MiB in 00:06\n",
      "[ffmpeg] Destination: songs/MH4ToHif92w.wav\n",
      "Deleting original file songs/MH4ToHif92w.webm (pass -k to keep)\n",
      "[youtube] q9aA9XvSeek: Downloading webpage\n",
      "[youtube] q9aA9XvSeek: Downloading video info webpage\n",
      "[youtube] q9aA9XvSeek: Extracting video information\n",
      "[youtube] q9aA9XvSeek: Downloading MPD manifest\n"
     ]
    },
    {
     "name": "stderr",
     "output_type": "stream",
     "text": [
      "WARNING: \"id\" field is not a string - forcing string conversion, there is an error in extractor\n"
     ]
    },
    {
     "name": "stdout",
     "output_type": "stream",
     "text": [
      "[download] Destination: songs/q9aA9XvSeek.m4a\n",
      "[download] 100% of 1.33MiB in 00:02\n",
      "[ffmpeg] Correcting container in \"songs/q9aA9XvSeek.m4a\"\n",
      "[ffmpeg] Destination: songs/q9aA9XvSeek.wav\n",
      "Deleting original file songs/q9aA9XvSeek.m4a (pass -k to keep)\n",
      "[youtube] Z_AX1cvBfgI: Downloading webpage\n",
      "[youtube] Z_AX1cvBfgI: Downloading video info webpage\n",
      "[youtube] Z_AX1cvBfgI: Extracting video information\n",
      "[youtube] Z_AX1cvBfgI: Downloading MPD manifest\n"
     ]
    },
    {
     "name": "stderr",
     "output_type": "stream",
     "text": [
      "WARNING: \"id\" field is not a string - forcing string conversion, there is an error in extractor\n"
     ]
    },
    {
     "name": "stdout",
     "output_type": "stream",
     "text": [
      "[download] Destination: songs/Z_AX1cvBfgI.webm\n",
      "[download] 100% of 6.50MiB in 00:13\n",
      "[ffmpeg] Destination: songs/Z_AX1cvBfgI.wav\n",
      "Deleting original file songs/Z_AX1cvBfgI.webm (pass -k to keep)\n",
      "[youtube] Ef1UqaOxPXc: Downloading webpage\n",
      "[youtube] Ef1UqaOxPXc: Downloading video info webpage\n",
      "[youtube] Ef1UqaOxPXc: Extracting video information\n",
      "[youtube] Ef1UqaOxPXc: Downloading MPD manifest\n"
     ]
    },
    {
     "name": "stderr",
     "output_type": "stream",
     "text": [
      "WARNING: \"id\" field is not a string - forcing string conversion, there is an error in extractor\n"
     ]
    },
    {
     "name": "stdout",
     "output_type": "stream",
     "text": [
      "[download] Destination: songs/Ef1UqaOxPXc.webm\n",
      "[download] 100% of 3.82MiB in 00:08\n",
      "[ffmpeg] Destination: songs/Ef1UqaOxPXc.wav\n",
      "Deleting original file songs/Ef1UqaOxPXc.webm (pass -k to keep)\n",
      "[youtube] hFCJIpWTXD4: Downloading webpage\n",
      "[youtube] hFCJIpWTXD4: Downloading video info webpage\n",
      "[youtube] hFCJIpWTXD4: Extracting video information\n",
      "[youtube] hFCJIpWTXD4: Downloading MPD manifest\n"
     ]
    },
    {
     "name": "stderr",
     "output_type": "stream",
     "text": [
      "WARNING: \"id\" field is not a string - forcing string conversion, there is an error in extractor\n"
     ]
    },
    {
     "name": "stdout",
     "output_type": "stream",
     "text": [
      "[download] Destination: songs/hFCJIpWTXD4.webm\n",
      "[download] 100% of 2.10MiB in 00:04\n",
      "[ffmpeg] Destination: songs/hFCJIpWTXD4.wav\n",
      "Deleting original file songs/hFCJIpWTXD4.webm (pass -k to keep)\n",
      "[youtube] eohHBv7s9Rc: Downloading webpage\n",
      "[youtube] eohHBv7s9Rc: Downloading video info webpage\n",
      "[youtube] eohHBv7s9Rc: Extracting video information\n",
      "[youtube] eohHBv7s9Rc: Downloading MPD manifest\n"
     ]
    },
    {
     "name": "stderr",
     "output_type": "stream",
     "text": [
      "WARNING: \"id\" field is not a string - forcing string conversion, there is an error in extractor\n"
     ]
    },
    {
     "name": "stdout",
     "output_type": "stream",
     "text": [
      "[download] Destination: songs/eohHBv7s9Rc.webm\n",
      "[download] 100% of 5.39MiB in 00:10\n",
      "[ffmpeg] Destination: songs/eohHBv7s9Rc.wav\n",
      "Deleting original file songs/eohHBv7s9Rc.webm (pass -k to keep)\n",
      "[youtube] fyDz4mLfy9w: Downloading webpage\n",
      "[youtube] fyDz4mLfy9w: Downloading video info webpage\n",
      "[youtube] fyDz4mLfy9w: Extracting video information\n",
      "[youtube] fyDz4mLfy9w: Downloading MPD manifest\n"
     ]
    },
    {
     "name": "stderr",
     "output_type": "stream",
     "text": [
      "WARNING: \"id\" field is not a string - forcing string conversion, there is an error in extractor\n"
     ]
    },
    {
     "name": "stdout",
     "output_type": "stream",
     "text": [
      "[download] Destination: songs/fyDz4mLfy9w.webm\n",
      "[download] 100% of 4.79MiB in 00:09\n",
      "[ffmpeg] Destination: songs/fyDz4mLfy9w.wav\n",
      "Deleting original file songs/fyDz4mLfy9w.webm (pass -k to keep)\n",
      "[youtube] qx8kSxWNphc: Downloading webpage\n",
      "[youtube] qx8kSxWNphc: Downloading video info webpage\n",
      "[youtube] qx8kSxWNphc: Extracting video information\n",
      "[youtube] qx8kSxWNphc: Downloading MPD manifest\n",
      "[youtube] qx8kSxWNphc: Downloading MPD manifest\n"
     ]
    },
    {
     "name": "stderr",
     "output_type": "stream",
     "text": [
      "WARNING: \"id\" field is not a string - forcing string conversion, there is an error in extractor\n"
     ]
    },
    {
     "name": "stdout",
     "output_type": "stream",
     "text": [
      "[dashsegments] Total fragments: 8\n",
      "[download] Destination: songs/qx8kSxWNphc.m4a\n",
      "[download] 100% of 707.32KiB in 00:02\n",
      "[ffmpeg] Correcting container in \"songs/qx8kSxWNphc.m4a\"\n",
      "[ffmpeg] Destination: songs/qx8kSxWNphc.wav\n",
      "Deleting original file songs/qx8kSxWNphc.m4a (pass -k to keep)\n",
      "[youtube] sqRi9aab5E4: Downloading webpage\n",
      "[youtube] sqRi9aab5E4: Downloading video info webpage\n",
      "[youtube] sqRi9aab5E4: Extracting video information\n",
      "[youtube] sqRi9aab5E4: Downloading MPD manifest\n"
     ]
    },
    {
     "name": "stderr",
     "output_type": "stream",
     "text": [
      "WARNING: \"id\" field is not a string - forcing string conversion, there is an error in extractor\n"
     ]
    },
    {
     "name": "stdout",
     "output_type": "stream",
     "text": [
      "[download] Destination: songs/sqRi9aab5E4.webm\n",
      "[download] 100% of 3.23MiB in 00:06\n",
      "[ffmpeg] Destination: songs/sqRi9aab5E4.wav\n",
      "Deleting original file songs/sqRi9aab5E4.webm (pass -k to keep)\n",
      "[youtube] rDNdSCw6vQU: Downloading webpage\n",
      "[youtube] rDNdSCw6vQU: Downloading video info webpage\n",
      "[youtube] rDNdSCw6vQU: Extracting video information\n",
      "[youtube] rDNdSCw6vQU: Downloading MPD manifest\n"
     ]
    },
    {
     "name": "stderr",
     "output_type": "stream",
     "text": [
      "WARNING: \"id\" field is not a string - forcing string conversion, there is an error in extractor\n"
     ]
    },
    {
     "name": "stdout",
     "output_type": "stream",
     "text": [
      "[download] Destination: songs/rDNdSCw6vQU.webm\n",
      "[download] 100% of 3.18MiB in 00:06\n",
      "[ffmpeg] Destination: songs/rDNdSCw6vQU.wav\n",
      "Deleting original file songs/rDNdSCw6vQU.webm (pass -k to keep)\n",
      "[youtube] uOEcjPLwtzE: Downloading webpage\n",
      "[youtube] uOEcjPLwtzE: Downloading video info webpage\n",
      "[youtube] uOEcjPLwtzE: Extracting video information\n",
      "[youtube] uOEcjPLwtzE: Downloading MPD manifest\n"
     ]
    },
    {
     "name": "stderr",
     "output_type": "stream",
     "text": [
      "WARNING: \"id\" field is not a string - forcing string conversion, there is an error in extractor\n"
     ]
    },
    {
     "name": "stdout",
     "output_type": "stream",
     "text": [
      "[download] Destination: songs/uOEcjPLwtzE.webm\n",
      "[download] 100% of 4.93MiB in 00:09\n",
      "[ffmpeg] Destination: songs/uOEcjPLwtzE.wav\n",
      "Deleting original file songs/uOEcjPLwtzE.webm (pass -k to keep)\n",
      "[youtube] 0-1dFESfapM: Downloading webpage\n",
      "[youtube] 0-1dFESfapM: Downloading video info webpage\n",
      "[youtube] 0-1dFESfapM: Extracting video information\n",
      "[youtube] 0-1dFESfapM: Downloading MPD manifest\n"
     ]
    },
    {
     "name": "stderr",
     "output_type": "stream",
     "text": [
      "WARNING: \"id\" field is not a string - forcing string conversion, there is an error in extractor\n"
     ]
    },
    {
     "name": "stdout",
     "output_type": "stream",
     "text": [
      "[download] Destination: songs/0-1dFESfapM.m4a\n",
      "[download] 100% of 4.41MiB in 00:08\n",
      "[ffmpeg] Correcting container in \"songs/0-1dFESfapM.m4a\"\n",
      "[ffmpeg] Destination: songs/0-1dFESfapM.wav\n",
      "Deleting original file songs/0-1dFESfapM.m4a (pass -k to keep)\n",
      "[youtube] zswsNNUpf4Y: Downloading webpage\n",
      "[youtube] zswsNNUpf4Y: Downloading video info webpage\n",
      "[youtube] zswsNNUpf4Y: Extracting video information\n",
      "[youtube] zswsNNUpf4Y: Downloading MPD manifest\n"
     ]
    },
    {
     "name": "stderr",
     "output_type": "stream",
     "text": [
      "WARNING: \"id\" field is not a string - forcing string conversion, there is an error in extractor\n"
     ]
    },
    {
     "name": "stdout",
     "output_type": "stream",
     "text": [
      "[download] Destination: songs/zswsNNUpf4Y.webm\n",
      "[download] 100% of 2.92MiB in 00:05\n",
      "[ffmpeg] Destination: songs/zswsNNUpf4Y.wav\n",
      "Deleting original file songs/zswsNNUpf4Y.webm (pass -k to keep)\n",
      "[youtube] 7GJ5M6dV56c: Downloading webpage\n",
      "[youtube] 7GJ5M6dV56c: Downloading video info webpage\n",
      "[youtube] 7GJ5M6dV56c: Extracting video information\n",
      "[youtube] 7GJ5M6dV56c: Downloading MPD manifest\n"
     ]
    },
    {
     "name": "stderr",
     "output_type": "stream",
     "text": [
      "WARNING: \"id\" field is not a string - forcing string conversion, there is an error in extractor\n"
     ]
    },
    {
     "name": "stdout",
     "output_type": "stream",
     "text": [
      "[download] Destination: songs/7GJ5M6dV56c.webm\n",
      "[download] 100% of 3.36MiB in 00:06\n",
      "[ffmpeg] Destination: songs/7GJ5M6dV56c.wav\n",
      "Deleting original file songs/7GJ5M6dV56c.webm (pass -k to keep)\n",
      "[youtube] QBbU_wzWCgg: Downloading webpage\n",
      "[youtube] QBbU_wzWCgg: Downloading video info webpage\n",
      "[youtube] QBbU_wzWCgg: Extracting video information\n",
      "[youtube] QBbU_wzWCgg: Downloading MPD manifest\n"
     ]
    },
    {
     "name": "stderr",
     "output_type": "stream",
     "text": [
      "WARNING: \"id\" field is not a string - forcing string conversion, there is an error in extractor\n"
     ]
    },
    {
     "name": "stdout",
     "output_type": "stream",
     "text": [
      "[download] Destination: songs/QBbU_wzWCgg.webm\n",
      "[download] 100% of 2.69MiB in 00:05\n",
      "[ffmpeg] Destination: songs/QBbU_wzWCgg.wav\n",
      "Deleting original file songs/QBbU_wzWCgg.webm (pass -k to keep)\n",
      "[youtube] gAFHaOB5nr0: Downloading webpage\n",
      "[youtube] gAFHaOB5nr0: Downloading video info webpage\n",
      "[youtube] gAFHaOB5nr0: Extracting video information\n",
      "[youtube] gAFHaOB5nr0: Downloading MPD manifest\n"
     ]
    },
    {
     "name": "stderr",
     "output_type": "stream",
     "text": [
      "WARNING: \"id\" field is not a string - forcing string conversion, there is an error in extractor\n"
     ]
    },
    {
     "name": "stdout",
     "output_type": "stream",
     "text": [
      "[download] Destination: songs/gAFHaOB5nr0.webm\n",
      "[download] 100% of 2.89MiB in 00:05\n",
      "[ffmpeg] Destination: songs/gAFHaOB5nr0.wav\n",
      "Deleting original file songs/gAFHaOB5nr0.webm (pass -k to keep)\n",
      "[youtube] PS3VNSR6coI: Downloading webpage\n",
      "[youtube] PS3VNSR6coI: Downloading video info webpage\n",
      "[youtube] PS3VNSR6coI: Extracting video information\n",
      "[youtube] PS3VNSR6coI: Downloading MPD manifest\n"
     ]
    },
    {
     "name": "stderr",
     "output_type": "stream",
     "text": [
      "WARNING: \"id\" field is not a string - forcing string conversion, there is an error in extractor\n"
     ]
    },
    {
     "name": "stdout",
     "output_type": "stream",
     "text": [
      "[download] Destination: songs/PS3VNSR6coI.webm\n",
      "[download] 100% of 2.62MiB in 00:05\n",
      "[ffmpeg] Destination: songs/PS3VNSR6coI.wav\n",
      "Deleting original file songs/PS3VNSR6coI.webm (pass -k to keep)\n",
      "[youtube] QhzUMsAuYmI: Downloading webpage\n",
      "[youtube] QhzUMsAuYmI: Downloading video info webpage\n",
      "[youtube] QhzUMsAuYmI: Extracting video information\n",
      "[youtube] QhzUMsAuYmI: Downloading MPD manifest\n"
     ]
    },
    {
     "name": "stderr",
     "output_type": "stream",
     "text": [
      "WARNING: \"id\" field is not a string - forcing string conversion, there is an error in extractor\n"
     ]
    },
    {
     "name": "stdout",
     "output_type": "stream",
     "text": [
      "[download] Destination: songs/QhzUMsAuYmI.m4a\n",
      "[download] 100% of 2.90MiB in 00:05\n",
      "[ffmpeg] Correcting container in \"songs/QhzUMsAuYmI.m4a\"\n",
      "[ffmpeg] Destination: songs/QhzUMsAuYmI.wav\n",
      "Deleting original file songs/QhzUMsAuYmI.m4a (pass -k to keep)\n",
      "[youtube] HLXHBykreCQ: Downloading webpage\n",
      "[youtube] HLXHBykreCQ: Downloading video info webpage\n",
      "[youtube] HLXHBykreCQ: Extracting video information\n",
      "[youtube] HLXHBykreCQ: Downloading MPD manifest\n",
      "[youtube] HLXHBykreCQ: Downloading MPD manifest\n"
     ]
    },
    {
     "name": "stderr",
     "output_type": "stream",
     "text": [
      "WARNING: \"id\" field is not a string - forcing string conversion, there is an error in extractor\n"
     ]
    },
    {
     "name": "stdout",
     "output_type": "stream",
     "text": [
      "[dashsegments] Total fragments: 3\n",
      "[download] Destination: songs/HLXHBykreCQ.m4a\n",
      "[download] 100% of 288.32KiB in 00:01\n",
      "[ffmpeg] Correcting container in \"songs/HLXHBykreCQ.m4a\"\n",
      "[ffmpeg] Destination: songs/HLXHBykreCQ.wav\n",
      "Deleting original file songs/HLXHBykreCQ.m4a (pass -k to keep)\n",
      "[youtube] xMGpOzkoO0o: Downloading webpage\n",
      "[youtube] xMGpOzkoO0o: Downloading video info webpage\n",
      "[youtube] xMGpOzkoO0o: Extracting video information\n",
      "[youtube] xMGpOzkoO0o: Downloading MPD manifest\n"
     ]
    },
    {
     "name": "stderr",
     "output_type": "stream",
     "text": [
      "WARNING: \"id\" field is not a string - forcing string conversion, there is an error in extractor\n"
     ]
    },
    {
     "name": "stdout",
     "output_type": "stream",
     "text": [
      "[download] Destination: songs/xMGpOzkoO0o.m4a\n",
      "[download] 100% of 5.72MiB in 00:11\n",
      "[ffmpeg] Correcting container in \"songs/xMGpOzkoO0o.m4a\"\n",
      "[ffmpeg] Destination: songs/xMGpOzkoO0o.wav\n",
      "Deleting original file songs/xMGpOzkoO0o.m4a (pass -k to keep)\n",
      "[youtube] bbQaktvt9xI: Downloading webpage\n",
      "[youtube] bbQaktvt9xI: Downloading video info webpage\n",
      "[youtube] bbQaktvt9xI: Extracting video information\n",
      "[youtube] bbQaktvt9xI: Downloading MPD manifest\n",
      "[youtube] bbQaktvt9xI: Downloading MPD manifest\n"
     ]
    },
    {
     "name": "stderr",
     "output_type": "stream",
     "text": [
      "WARNING: \"id\" field is not a string - forcing string conversion, there is an error in extractor\n"
     ]
    },
    {
     "name": "stdout",
     "output_type": "stream",
     "text": [
      "[dashsegments] Total fragments: 34\n",
      "[download] Destination: songs/bbQaktvt9xI.m4a\n",
      "[download] 100% of 4.94MiB in 00:16\n",
      "[ffmpeg] Correcting container in \"songs/bbQaktvt9xI.m4a\"\n",
      "[ffmpeg] Destination: songs/bbQaktvt9xI.wav\n",
      "Deleting original file songs/bbQaktvt9xI.m4a (pass -k to keep)\n",
      "[youtube] d7_VpPCV5js: Downloading webpage\n",
      "[youtube] d7_VpPCV5js: Downloading video info webpage\n",
      "[youtube] d7_VpPCV5js: Extracting video information\n",
      "[youtube] d7_VpPCV5js: Downloading MPD manifest\n"
     ]
    },
    {
     "name": "stderr",
     "output_type": "stream",
     "text": [
      "WARNING: \"id\" field is not a string - forcing string conversion, there is an error in extractor\n"
     ]
    },
    {
     "name": "stdout",
     "output_type": "stream",
     "text": [
      "[download] Destination: songs/d7_VpPCV5js.webm\n",
      "[download] 100% of 4.89MiB in 00:09\n",
      "[ffmpeg] Destination: songs/d7_VpPCV5js.wav\n",
      "Deleting original file songs/d7_VpPCV5js.webm (pass -k to keep)\n",
      "[youtube] fD0K1b3ODJM: Downloading webpage\n",
      "[youtube] fD0K1b3ODJM: Downloading video info webpage\n",
      "[youtube] fD0K1b3ODJM: Extracting video information\n",
      "[youtube] fD0K1b3ODJM: Downloading MPD manifest\n"
     ]
    },
    {
     "name": "stderr",
     "output_type": "stream",
     "text": [
      "WARNING: \"id\" field is not a string - forcing string conversion, there is an error in extractor\n"
     ]
    },
    {
     "name": "stdout",
     "output_type": "stream",
     "text": [
      "[download] Destination: songs/fD0K1b3ODJM.webm\n",
      "[download] 100% of 6.13MiB in 00:12\n",
      "[ffmpeg] Destination: songs/fD0K1b3ODJM.wav\n",
      "Deleting original file songs/fD0K1b3ODJM.webm (pass -k to keep)\n",
      "[youtube] _2H1pkYlY4A: Downloading webpage\n",
      "[youtube] _2H1pkYlY4A: Downloading video info webpage\n",
      "[youtube] _2H1pkYlY4A: Extracting video information\n",
      "[youtube] _2H1pkYlY4A: Downloading MPD manifest\n"
     ]
    },
    {
     "name": "stderr",
     "output_type": "stream",
     "text": [
      "WARNING: \"id\" field is not a string - forcing string conversion, there is an error in extractor\n"
     ]
    },
    {
     "name": "stdout",
     "output_type": "stream",
     "text": [
      "[download] Destination: songs/_2H1pkYlY4A.webm\n",
      "[download] 100% of 4.09MiB in 00:08\n",
      "[ffmpeg] Destination: songs/_2H1pkYlY4A.wav\n",
      "Deleting original file songs/_2H1pkYlY4A.webm (pass -k to keep)\n",
      "[youtube] lHoap236hgM: Downloading webpage\n",
      "[youtube] lHoap236hgM: Downloading video info webpage\n",
      "[youtube] lHoap236hgM: Extracting video information\n",
      "[youtube] lHoap236hgM: Downloading MPD manifest\n",
      "[youtube] lHoap236hgM: Downloading MPD manifest\n"
     ]
    },
    {
     "name": "stderr",
     "output_type": "stream",
     "text": [
      "WARNING: \"id\" field is not a string - forcing string conversion, there is an error in extractor\n"
     ]
    },
    {
     "name": "stdout",
     "output_type": "stream",
     "text": [
      "[dashsegments] Total fragments: 15\n",
      "[download] Destination: songs/lHoap236hgM.m4a\n",
      "[download] 100% of 1.97MiB in 00:06\n",
      "[ffmpeg] Correcting container in \"songs/lHoap236hgM.m4a\"\n",
      "[ffmpeg] Destination: songs/lHoap236hgM.wav\n",
      "Deleting original file songs/lHoap236hgM.m4a (pass -k to keep)\n",
      "[youtube] -0OwTIAx218: Downloading webpage\n",
      "[youtube] -0OwTIAx218: Downloading video info webpage\n",
      "[youtube] -0OwTIAx218: Extracting video information\n",
      "[youtube] -0OwTIAx218: Downloading MPD manifest\n"
     ]
    },
    {
     "name": "stderr",
     "output_type": "stream",
     "text": [
      "WARNING: \"id\" field is not a string - forcing string conversion, there is an error in extractor\n"
     ]
    },
    {
     "name": "stdout",
     "output_type": "stream",
     "text": [
      "[download] Destination: songs/-0OwTIAx218.webm\n",
      "[download] 100% of 3.14MiB in 00:06\n",
      "[ffmpeg] Destination: songs/-0OwTIAx218.wav\n",
      "Deleting original file songs/-0OwTIAx218.webm (pass -k to keep)\n",
      "[youtube] 4umc87T5UMs: Downloading webpage\n",
      "[youtube] 4umc87T5UMs: Downloading video info webpage\n",
      "[youtube] 4umc87T5UMs: Extracting video information\n",
      "[youtube] 4umc87T5UMs: Downloading MPD manifest\n"
     ]
    },
    {
     "name": "stderr",
     "output_type": "stream",
     "text": [
      "WARNING: \"id\" field is not a string - forcing string conversion, there is an error in extractor\n"
     ]
    },
    {
     "name": "stdout",
     "output_type": "stream",
     "text": [
      "[download] Destination: songs/4umc87T5UMs.webm\n",
      "[download] 100% of 3.77MiB in 00:07\n",
      "[ffmpeg] Destination: songs/4umc87T5UMs.wav\n",
      "Deleting original file songs/4umc87T5UMs.webm (pass -k to keep)\n",
      "[youtube] H9sk1GkDTYA: Downloading webpage\n",
      "[youtube] H9sk1GkDTYA: Downloading video info webpage\n",
      "[youtube] H9sk1GkDTYA: Extracting video information\n",
      "[youtube] H9sk1GkDTYA: Downloading MPD manifest\n"
     ]
    },
    {
     "name": "stderr",
     "output_type": "stream",
     "text": [
      "WARNING: \"id\" field is not a string - forcing string conversion, there is an error in extractor\n"
     ]
    },
    {
     "name": "stdout",
     "output_type": "stream",
     "text": [
      "[download] Destination: songs/H9sk1GkDTYA.webm\n",
      "[download] 100% of 3.68MiB in 00:07\n",
      "[ffmpeg] Destination: songs/H9sk1GkDTYA.wav\n",
      "Deleting original file songs/H9sk1GkDTYA.webm (pass -k to keep)\n",
      "[youtube] -VOhAcYs1Ok: Downloading webpage\n",
      "[youtube] -VOhAcYs1Ok: Downloading video info webpage\n",
      "[youtube] -VOhAcYs1Ok: Extracting video information\n",
      "[youtube] -VOhAcYs1Ok: Downloading MPD manifest\n"
     ]
    },
    {
     "name": "stderr",
     "output_type": "stream",
     "text": [
      "WARNING: \"id\" field is not a string - forcing string conversion, there is an error in extractor\n"
     ]
    },
    {
     "name": "stdout",
     "output_type": "stream",
     "text": [
      "[download] Destination: songs/-VOhAcYs1Ok.webm\n",
      "[download] 100% of 3.32MiB in 00:06\n",
      "[ffmpeg] Destination: songs/-VOhAcYs1Ok.wav\n",
      "Deleting original file songs/-VOhAcYs1Ok.webm (pass -k to keep)\n",
      "[youtube] 7mRIkQ2e0Vw: Downloading webpage\n",
      "[youtube] 7mRIkQ2e0Vw: Downloading video info webpage\n",
      "[youtube] 7mRIkQ2e0Vw: Extracting video information\n",
      "[youtube] 7mRIkQ2e0Vw: Downloading MPD manifest\n"
     ]
    },
    {
     "name": "stderr",
     "output_type": "stream",
     "text": [
      "WARNING: \"id\" field is not a string - forcing string conversion, there is an error in extractor\n"
     ]
    },
    {
     "name": "stdout",
     "output_type": "stream",
     "text": [
      "[download] Destination: songs/7mRIkQ2e0Vw.m4a\n",
      "[download] 100% of 3.58MiB in 00:07\n",
      "[ffmpeg] Correcting container in \"songs/7mRIkQ2e0Vw.m4a\"\n",
      "[ffmpeg] Destination: songs/7mRIkQ2e0Vw.wav\n",
      "Deleting original file songs/7mRIkQ2e0Vw.m4a (pass -k to keep)\n",
      "[youtube] tnPgTfZ-mPk: Downloading webpage\n",
      "[youtube] tnPgTfZ-mPk: Downloading video info webpage\n",
      "[youtube] tnPgTfZ-mPk: Extracting video information\n",
      "[youtube] tnPgTfZ-mPk: Downloading MPD manifest\n"
     ]
    },
    {
     "name": "stderr",
     "output_type": "stream",
     "text": [
      "WARNING: \"id\" field is not a string - forcing string conversion, there is an error in extractor\n"
     ]
    },
    {
     "name": "stdout",
     "output_type": "stream",
     "text": [
      "[download] Destination: songs/tnPgTfZ-mPk.m4a\n",
      "[download] 100% of 2.85MiB in 00:05\n",
      "[ffmpeg] Correcting container in \"songs/tnPgTfZ-mPk.m4a\"\n",
      "[ffmpeg] Destination: songs/tnPgTfZ-mPk.wav\n",
      "Deleting original file songs/tnPgTfZ-mPk.m4a (pass -k to keep)\n",
      "[youtube] pcvNst5DBSA: Downloading webpage\n",
      "[youtube] pcvNst5DBSA: Downloading video info webpage\n",
      "[youtube] pcvNst5DBSA: Extracting video information\n",
      "[youtube] pcvNst5DBSA: Downloading MPD manifest\n"
     ]
    },
    {
     "name": "stderr",
     "output_type": "stream",
     "text": [
      "WARNING: \"id\" field is not a string - forcing string conversion, there is an error in extractor\n"
     ]
    },
    {
     "name": "stdout",
     "output_type": "stream",
     "text": [
      "[download] Destination: songs/pcvNst5DBSA.m4a\n",
      "[download] 100% of 1.56MiB in 00:03\n",
      "[ffmpeg] Correcting container in \"songs/pcvNst5DBSA.m4a\"\n",
      "[ffmpeg] Destination: songs/pcvNst5DBSA.wav\n",
      "Deleting original file songs/pcvNst5DBSA.m4a (pass -k to keep)\n",
      "[youtube] YkyayKKbCbg: Downloading webpage\n",
      "[youtube] YkyayKKbCbg: Downloading video info webpage\n",
      "[youtube] YkyayKKbCbg: Extracting video information\n",
      "[youtube] YkyayKKbCbg: Downloading MPD manifest\n"
     ]
    },
    {
     "name": "stderr",
     "output_type": "stream",
     "text": [
      "WARNING: \"id\" field is not a string - forcing string conversion, there is an error in extractor\n"
     ]
    },
    {
     "name": "stdout",
     "output_type": "stream",
     "text": [
      "[download] Destination: songs/YkyayKKbCbg.m4a\n",
      "[download] 100% of 1.98MiB in 00:03\n",
      "[ffmpeg] Correcting container in \"songs/YkyayKKbCbg.m4a\"\n",
      "[ffmpeg] Destination: songs/YkyayKKbCbg.wav\n",
      "Deleting original file songs/YkyayKKbCbg.m4a (pass -k to keep)\n",
      "[youtube] wrQ0AFccMFs: Downloading webpage\n",
      "[youtube] wrQ0AFccMFs: Downloading video info webpage\n",
      "[youtube] wrQ0AFccMFs: Extracting video information\n",
      "[youtube] wrQ0AFccMFs: Downloading MPD manifest\n"
     ]
    },
    {
     "name": "stderr",
     "output_type": "stream",
     "text": [
      "WARNING: \"id\" field is not a string - forcing string conversion, there is an error in extractor\n"
     ]
    },
    {
     "name": "stdout",
     "output_type": "stream",
     "text": [
      "[download] Destination: songs/wrQ0AFccMFs.webm\n",
      "[download] 100% of 4.07MiB in 00:08\n",
      "[ffmpeg] Destination: songs/wrQ0AFccMFs.wav\n",
      "Deleting original file songs/wrQ0AFccMFs.webm (pass -k to keep)\n",
      "[youtube] lb-Ff4piZIg: Downloading webpage\n",
      "[youtube] lb-Ff4piZIg: Downloading video info webpage\n",
      "[youtube] lb-Ff4piZIg: Extracting video information\n",
      "[youtube] lb-Ff4piZIg: Downloading MPD manifest\n"
     ]
    },
    {
     "name": "stderr",
     "output_type": "stream",
     "text": [
      "WARNING: \"id\" field is not a string - forcing string conversion, there is an error in extractor\n"
     ]
    },
    {
     "name": "stdout",
     "output_type": "stream",
     "text": [
      "[download] Destination: songs/lb-Ff4piZIg.webm\n",
      "[download] 100% of 3.18MiB in 00:06\n",
      "[ffmpeg] Destination: songs/lb-Ff4piZIg.wav\n",
      "Deleting original file songs/lb-Ff4piZIg.webm (pass -k to keep)\n",
      "[youtube] A1C4lNhuNLU: Downloading webpage\n",
      "[youtube] A1C4lNhuNLU: Downloading video info webpage\n",
      "[youtube] A1C4lNhuNLU: Extracting video information\n",
      "[youtube] A1C4lNhuNLU: Downloading MPD manifest\n"
     ]
    },
    {
     "name": "stderr",
     "output_type": "stream",
     "text": [
      "WARNING: \"id\" field is not a string - forcing string conversion, there is an error in extractor\n"
     ]
    },
    {
     "name": "stdout",
     "output_type": "stream",
     "text": [
      "[download] Destination: songs/A1C4lNhuNLU.m4a\n",
      "[download] 100% of 3.40MiB in 00:06\n",
      "[ffmpeg] Correcting container in \"songs/A1C4lNhuNLU.m4a\"\n",
      "[ffmpeg] Destination: songs/A1C4lNhuNLU.wav\n",
      "Deleting original file songs/A1C4lNhuNLU.m4a (pass -k to keep)\n",
      "[youtube] nq0upOjTJMQ: Downloading webpage\n",
      "[youtube] nq0upOjTJMQ: Downloading video info webpage\n",
      "[youtube] nq0upOjTJMQ: Extracting video information\n",
      "[youtube] nq0upOjTJMQ: Downloading MPD manifest\n"
     ]
    },
    {
     "name": "stderr",
     "output_type": "stream",
     "text": [
      "WARNING: \"id\" field is not a string - forcing string conversion, there is an error in extractor\n"
     ]
    },
    {
     "name": "stdout",
     "output_type": "stream",
     "text": [
      "[download] Destination: songs/nq0upOjTJMQ.webm\n",
      "[download] 100% of 5.59MiB in 00:11\n",
      "[ffmpeg] Destination: songs/nq0upOjTJMQ.wav\n",
      "Deleting original file songs/nq0upOjTJMQ.webm (pass -k to keep)\n",
      "[youtube] 6-9b_GGwqIo: Downloading webpage\n",
      "[youtube] 6-9b_GGwqIo: Downloading video info webpage\n",
      "[youtube] 6-9b_GGwqIo: Extracting video information\n",
      "[youtube] 6-9b_GGwqIo: Downloading MPD manifest\n"
     ]
    },
    {
     "name": "stderr",
     "output_type": "stream",
     "text": [
      "WARNING: \"id\" field is not a string - forcing string conversion, there is an error in extractor\n"
     ]
    },
    {
     "name": "stdout",
     "output_type": "stream",
     "text": [
      "[download] Destination: songs/6-9b_GGwqIo.m4a\n",
      "[download] 100% of 3.68MiB in 00:07\n",
      "[ffmpeg] Correcting container in \"songs/6-9b_GGwqIo.m4a\"\n",
      "[ffmpeg] Destination: songs/6-9b_GGwqIo.wav\n",
      "Deleting original file songs/6-9b_GGwqIo.m4a (pass -k to keep)\n",
      "[youtube] iXxOvTE2lbA: Downloading webpage\n",
      "[youtube] iXxOvTE2lbA: Downloading video info webpage\n",
      "[youtube] iXxOvTE2lbA: Extracting video information\n",
      "[youtube] iXxOvTE2lbA: Downloading MPD manifest\n"
     ]
    },
    {
     "name": "stderr",
     "output_type": "stream",
     "text": [
      "WARNING: \"id\" field is not a string - forcing string conversion, there is an error in extractor\n"
     ]
    },
    {
     "name": "stdout",
     "output_type": "stream",
     "text": [
      "[download] Destination: songs/iXxOvTE2lbA.webm\n",
      "[download] 100% of 2.46MiB in 00:04\n",
      "[ffmpeg] Destination: songs/iXxOvTE2lbA.wav\n",
      "Deleting original file songs/iXxOvTE2lbA.webm (pass -k to keep)\n",
      "[youtube] ICL6BuyHsQU: Downloading webpage\n",
      "[youtube] ICL6BuyHsQU: Downloading video info webpage\n",
      "[youtube] ICL6BuyHsQU: Extracting video information\n",
      "[youtube] ICL6BuyHsQU: Downloading MPD manifest\n"
     ]
    },
    {
     "name": "stderr",
     "output_type": "stream",
     "text": [
      "WARNING: \"id\" field is not a string - forcing string conversion, there is an error in extractor\n"
     ]
    },
    {
     "name": "stdout",
     "output_type": "stream",
     "text": [
      "[download] Destination: songs/ICL6BuyHsQU.webm\n",
      "[download] 100% of 4.38MiB in 00:08\n",
      "[ffmpeg] Destination: songs/ICL6BuyHsQU.wav\n",
      "Deleting original file songs/ICL6BuyHsQU.webm (pass -k to keep)\n",
      "[youtube] IOKnIzd4csU: Downloading webpage\n",
      "[youtube] IOKnIzd4csU: Downloading video info webpage\n",
      "[youtube] IOKnIzd4csU: Extracting video information\n",
      "[youtube] IOKnIzd4csU: Downloading MPD manifest\n"
     ]
    },
    {
     "name": "stderr",
     "output_type": "stream",
     "text": [
      "WARNING: \"id\" field is not a string - forcing string conversion, there is an error in extractor\n"
     ]
    },
    {
     "name": "stdout",
     "output_type": "stream",
     "text": [
      "[download] Destination: songs/IOKnIzd4csU.webm\n",
      "[download] 100% of 4.31MiB in 00:08\n",
      "[ffmpeg] Destination: songs/IOKnIzd4csU.wav\n",
      "Deleting original file songs/IOKnIzd4csU.webm (pass -k to keep)\n",
      "[youtube] 6_LACdP2uSQ: Downloading webpage\n",
      "[youtube] 6_LACdP2uSQ: Downloading video info webpage\n",
      "[youtube] 6_LACdP2uSQ: Extracting video information\n",
      "[youtube] 6_LACdP2uSQ: Downloading MPD manifest\n"
     ]
    },
    {
     "name": "stderr",
     "output_type": "stream",
     "text": [
      "WARNING: \"id\" field is not a string - forcing string conversion, there is an error in extractor\n"
     ]
    },
    {
     "name": "stdout",
     "output_type": "stream",
     "text": [
      "[download] Destination: songs/6_LACdP2uSQ.m4a\n",
      "[download] 100% of 1.93MiB in 00:03\n",
      "[ffmpeg] Correcting container in \"songs/6_LACdP2uSQ.m4a\"\n",
      "[ffmpeg] Destination: songs/6_LACdP2uSQ.wav\n",
      "Deleting original file songs/6_LACdP2uSQ.m4a (pass -k to keep)\n",
      "[youtube] mLtlJepCQ2o: Downloading webpage\n",
      "[youtube] mLtlJepCQ2o: Downloading video info webpage\n"
     ]
    },
    {
     "name": "stderr",
     "output_type": "stream",
     "text": [
      "ERROR: mLtlJepCQ2o: YouTube said: This video contains content from [Merlin] Danmark Music Group, who has blocked it in your country on copyright grounds.\n"
     ]
    },
    {
     "name": "stdout",
     "output_type": "stream",
     "text": [
      "[youtube] zjlW-moh3E8: Downloading webpage\n",
      "[youtube] zjlW-moh3E8: Downloading video info webpage\n",
      "[youtube] zjlW-moh3E8: Extracting video information\n",
      "[youtube] zjlW-moh3E8: Downloading MPD manifest\n"
     ]
    },
    {
     "name": "stderr",
     "output_type": "stream",
     "text": [
      "WARNING: \"id\" field is not a string - forcing string conversion, there is an error in extractor\n"
     ]
    },
    {
     "name": "stdout",
     "output_type": "stream",
     "text": [
      "[download] Destination: songs/zjlW-moh3E8.webm\n",
      "[download] 100% of 3.38MiB in 00:06\n",
      "[ffmpeg] Destination: songs/zjlW-moh3E8.wav\n",
      "Deleting original file songs/zjlW-moh3E8.webm (pass -k to keep)\n",
      "[youtube] _Bo_Krf1xrk: Downloading webpage\n",
      "[youtube] _Bo_Krf1xrk: Downloading video info webpage\n",
      "[youtube] _Bo_Krf1xrk: Extracting video information\n",
      "[youtube] _Bo_Krf1xrk: Downloading MPD manifest\n"
     ]
    },
    {
     "name": "stderr",
     "output_type": "stream",
     "text": [
      "WARNING: \"id\" field is not a string - forcing string conversion, there is an error in extractor\n"
     ]
    },
    {
     "name": "stdout",
     "output_type": "stream",
     "text": [
      "[download] Destination: songs/_Bo_Krf1xrk.webm\n",
      "[download] 100% of 1.08MiB in 00:02\n",
      "[ffmpeg] Destination: songs/_Bo_Krf1xrk.wav\n",
      "Deleting original file songs/_Bo_Krf1xrk.webm (pass -k to keep)\n",
      "[youtube] UMaYu5nInuY: Downloading webpage\n",
      "[youtube] UMaYu5nInuY: Downloading video info webpage\n",
      "[youtube] UMaYu5nInuY: Extracting video information\n",
      "[youtube] UMaYu5nInuY: Downloading MPD manifest\n"
     ]
    },
    {
     "name": "stderr",
     "output_type": "stream",
     "text": [
      "WARNING: \"id\" field is not a string - forcing string conversion, there is an error in extractor\n"
     ]
    },
    {
     "name": "stdout",
     "output_type": "stream",
     "text": [
      "[download] Destination: songs/UMaYu5nInuY.webm\n",
      "[download] 100% of 2.87MiB in 00:05\n",
      "[ffmpeg] Destination: songs/UMaYu5nInuY.wav\n",
      "Deleting original file songs/UMaYu5nInuY.webm (pass -k to keep)\n",
      "[youtube] OzzczWILqdk: Downloading webpage\n",
      "[youtube] OzzczWILqdk: Downloading video info webpage\n",
      "[youtube] OzzczWILqdk: Extracting video information\n",
      "[youtube] OzzczWILqdk: Downloading MPD manifest\n"
     ]
    },
    {
     "name": "stderr",
     "output_type": "stream",
     "text": [
      "WARNING: \"id\" field is not a string - forcing string conversion, there is an error in extractor\n"
     ]
    },
    {
     "name": "stdout",
     "output_type": "stream",
     "text": [
      "[download] Destination: songs/OzzczWILqdk.m4a\n",
      "[download] 100% of 3.68MiB in 00:07\n",
      "[ffmpeg] Correcting container in \"songs/OzzczWILqdk.m4a\"\n",
      "[ffmpeg] Destination: songs/OzzczWILqdk.wav\n",
      "Deleting original file songs/OzzczWILqdk.m4a (pass -k to keep)\n",
      "[youtube] Xa8ywWvxcmc: Downloading webpage\n",
      "[youtube] Xa8ywWvxcmc: Downloading video info webpage\n",
      "[youtube] Xa8ywWvxcmc: Extracting video information\n",
      "[youtube] Xa8ywWvxcmc: Downloading MPD manifest\n"
     ]
    },
    {
     "name": "stderr",
     "output_type": "stream",
     "text": [
      "WARNING: \"id\" field is not a string - forcing string conversion, there is an error in extractor\n"
     ]
    },
    {
     "name": "stdout",
     "output_type": "stream",
     "text": [
      "[download] Destination: songs/Xa8ywWvxcmc.m4a\n",
      "[download] 100% of 4.24MiB in 00:08\n",
      "[ffmpeg] Correcting container in \"songs/Xa8ywWvxcmc.m4a\"\n",
      "[ffmpeg] Destination: songs/Xa8ywWvxcmc.wav\n",
      "Deleting original file songs/Xa8ywWvxcmc.m4a (pass -k to keep)\n",
      "[youtube] lGfqh1Fw3Kk: Downloading webpage\n",
      "[youtube] lGfqh1Fw3Kk: Downloading video info webpage\n",
      "[youtube] lGfqh1Fw3Kk: Extracting video information\n",
      "[youtube] lGfqh1Fw3Kk: Downloading MPD manifest\n"
     ]
    },
    {
     "name": "stderr",
     "output_type": "stream",
     "text": [
      "WARNING: \"id\" field is not a string - forcing string conversion, there is an error in extractor\n"
     ]
    },
    {
     "name": "stdout",
     "output_type": "stream",
     "text": [
      "[download] Destination: songs/lGfqh1Fw3Kk.webm\n",
      "[download] 100% of 2.96MiB in 00:05\n",
      "[ffmpeg] Destination: songs/lGfqh1Fw3Kk.wav\n",
      "Deleting original file songs/lGfqh1Fw3Kk.webm (pass -k to keep)\n",
      "[youtube] WHNWQZ2bI-Q: Downloading webpage\n",
      "[youtube] WHNWQZ2bI-Q: Downloading video info webpage\n",
      "[youtube] WHNWQZ2bI-Q: Extracting video information\n",
      "[youtube] WHNWQZ2bI-Q: Downloading MPD manifest\n"
     ]
    },
    {
     "name": "stderr",
     "output_type": "stream",
     "text": [
      "WARNING: \"id\" field is not a string - forcing string conversion, there is an error in extractor\n"
     ]
    },
    {
     "name": "stdout",
     "output_type": "stream",
     "text": [
      "[download] Destination: songs/WHNWQZ2bI-Q.m4a\n",
      "[download] 100% of 3.35MiB in 00:06\n",
      "[ffmpeg] Correcting container in \"songs/WHNWQZ2bI-Q.m4a\"\n",
      "[ffmpeg] Destination: songs/WHNWQZ2bI-Q.wav\n",
      "Deleting original file songs/WHNWQZ2bI-Q.m4a (pass -k to keep)\n",
      "[youtube] V8KgKwXG1ak: Downloading webpage\n",
      "[youtube] V8KgKwXG1ak: Downloading video info webpage\n",
      "[youtube] V8KgKwXG1ak: Extracting video information\n",
      "[youtube] V8KgKwXG1ak: Downloading MPD manifest\n"
     ]
    },
    {
     "name": "stderr",
     "output_type": "stream",
     "text": [
      "WARNING: \"id\" field is not a string - forcing string conversion, there is an error in extractor\n"
     ]
    },
    {
     "name": "stdout",
     "output_type": "stream",
     "text": [
      "[download] Destination: songs/V8KgKwXG1ak.webm\n",
      "[download] 100% of 3.44MiB in 00:06\n",
      "[ffmpeg] Destination: songs/V8KgKwXG1ak.wav\n",
      "Deleting original file songs/V8KgKwXG1ak.webm (pass -k to keep)\n",
      "[youtube] 7CuZV8VX_eQ: Downloading webpage\n",
      "[youtube] 7CuZV8VX_eQ: Downloading video info webpage\n",
      "[youtube] 7CuZV8VX_eQ: Extracting video information\n",
      "[youtube] 7CuZV8VX_eQ: Downloading MPD manifest\n"
     ]
    },
    {
     "name": "stderr",
     "output_type": "stream",
     "text": [
      "WARNING: \"id\" field is not a string - forcing string conversion, there is an error in extractor\n"
     ]
    },
    {
     "name": "stdout",
     "output_type": "stream",
     "text": [
      "[download] Destination: songs/7CuZV8VX_eQ.m4a\n",
      "[download] 100% of 1.12MiB in 00:02\n",
      "[ffmpeg] Correcting container in \"songs/7CuZV8VX_eQ.m4a\"\n",
      "[ffmpeg] Destination: songs/7CuZV8VX_eQ.wav\n",
      "Deleting original file songs/7CuZV8VX_eQ.m4a (pass -k to keep)\n",
      "[youtube] huClwqHQl6M: Downloading webpage\n",
      "[youtube] huClwqHQl6M: Downloading video info webpage\n",
      "[youtube] huClwqHQl6M: Extracting video information\n",
      "[youtube] huClwqHQl6M: Downloading MPD manifest\n"
     ]
    },
    {
     "name": "stderr",
     "output_type": "stream",
     "text": [
      "WARNING: \"id\" field is not a string - forcing string conversion, there is an error in extractor\n"
     ]
    },
    {
     "name": "stdout",
     "output_type": "stream",
     "text": [
      "[download] Destination: songs/huClwqHQl6M.webm\n",
      "[download] 100% of 4.59MiB in 00:09\n",
      "[ffmpeg] Destination: songs/huClwqHQl6M.wav\n",
      "Deleting original file songs/huClwqHQl6M.webm (pass -k to keep)\n",
      "[youtube] F858-cvliFk: Downloading webpage\n",
      "[youtube] F858-cvliFk: Downloading video info webpage\n",
      "[youtube] F858-cvliFk: Extracting video information\n",
      "[youtube] F858-cvliFk: Downloading MPD manifest\n"
     ]
    },
    {
     "name": "stderr",
     "output_type": "stream",
     "text": [
      "WARNING: \"id\" field is not a string - forcing string conversion, there is an error in extractor\n"
     ]
    },
    {
     "name": "stdout",
     "output_type": "stream",
     "text": [
      "[download] Destination: songs/F858-cvliFk.webm\n",
      "[download] 100% of 3.13MiB in 00:06\n",
      "[ffmpeg] Destination: songs/F858-cvliFk.wav\n",
      "Deleting original file songs/F858-cvliFk.webm (pass -k to keep)\n",
      "[youtube] CrAFOlBDoMI: Downloading webpage\n",
      "[youtube] CrAFOlBDoMI: Downloading video info webpage\n",
      "[youtube] CrAFOlBDoMI: Extracting video information\n",
      "[youtube] CrAFOlBDoMI: Downloading MPD manifest\n"
     ]
    },
    {
     "name": "stderr",
     "output_type": "stream",
     "text": [
      "WARNING: \"id\" field is not a string - forcing string conversion, there is an error in extractor\n"
     ]
    },
    {
     "name": "stdout",
     "output_type": "stream",
     "text": [
      "[download] Destination: songs/CrAFOlBDoMI.m4a\n",
      "[download] 100% of 3.24MiB in 00:06\n",
      "[ffmpeg] Correcting container in \"songs/CrAFOlBDoMI.m4a\"\n",
      "[ffmpeg] Destination: songs/CrAFOlBDoMI.wav\n",
      "Deleting original file songs/CrAFOlBDoMI.m4a (pass -k to keep)\n",
      "[youtube] oQ37ZYTFhGs: Downloading webpage\n",
      "[youtube] oQ37ZYTFhGs: Downloading video info webpage\n",
      "[youtube] oQ37ZYTFhGs: Extracting video information\n",
      "[youtube] oQ37ZYTFhGs: Downloading MPD manifest\n"
     ]
    },
    {
     "name": "stderr",
     "output_type": "stream",
     "text": [
      "WARNING: \"id\" field is not a string - forcing string conversion, there is an error in extractor\n"
     ]
    },
    {
     "name": "stdout",
     "output_type": "stream",
     "text": [
      "[download] Destination: songs/oQ37ZYTFhGs.m4a\n",
      "[download] 100% of 4.66MiB in 00:09\n",
      "[ffmpeg] Correcting container in \"songs/oQ37ZYTFhGs.m4a\"\n",
      "[ffmpeg] Destination: songs/oQ37ZYTFhGs.wav\n",
      "Deleting original file songs/oQ37ZYTFhGs.m4a (pass -k to keep)\n",
      "[youtube] mYdCCxXqeRo: Downloading webpage\n",
      "[youtube] mYdCCxXqeRo: Downloading video info webpage\n",
      "[youtube] mYdCCxXqeRo: Extracting video information\n",
      "[youtube] mYdCCxXqeRo: Downloading MPD manifest\n"
     ]
    },
    {
     "name": "stderr",
     "output_type": "stream",
     "text": [
      "WARNING: \"id\" field is not a string - forcing string conversion, there is an error in extractor\n"
     ]
    },
    {
     "name": "stdout",
     "output_type": "stream",
     "text": [
      "[download] Destination: songs/mYdCCxXqeRo.m4a\n",
      "[download] 100% of 247.77KiB in 00:00\n",
      "[ffmpeg] Correcting container in \"songs/mYdCCxXqeRo.m4a\"\n",
      "[ffmpeg] Destination: songs/mYdCCxXqeRo.wav\n",
      "Deleting original file songs/mYdCCxXqeRo.m4a (pass -k to keep)\n",
      "[youtube] 3SGaP9ytjdM: Downloading webpage\n",
      "[youtube] 3SGaP9ytjdM: Downloading video info webpage\n",
      "[youtube] 3SGaP9ytjdM: Extracting video information\n",
      "[youtube] 3SGaP9ytjdM: Downloading MPD manifest\n"
     ]
    },
    {
     "name": "stderr",
     "output_type": "stream",
     "text": [
      "WARNING: \"id\" field is not a string - forcing string conversion, there is an error in extractor\n"
     ]
    },
    {
     "name": "stdout",
     "output_type": "stream",
     "text": [
      "[download] Destination: songs/3SGaP9ytjdM.webm\n",
      "[download] 100% of 2.45MiB in 00:04\n",
      "[ffmpeg] Destination: songs/3SGaP9ytjdM.wav\n",
      "Deleting original file songs/3SGaP9ytjdM.webm (pass -k to keep)\n",
      "[youtube] i1O2J4yYk8g: Downloading webpage\n",
      "[youtube] i1O2J4yYk8g: Downloading video info webpage\n",
      "[youtube] i1O2J4yYk8g: Extracting video information\n",
      "[youtube] i1O2J4yYk8g: Downloading MPD manifest\n"
     ]
    },
    {
     "name": "stderr",
     "output_type": "stream",
     "text": [
      "WARNING: \"id\" field is not a string - forcing string conversion, there is an error in extractor\n"
     ]
    },
    {
     "name": "stdout",
     "output_type": "stream",
     "text": [
      "[download] Destination: songs/i1O2J4yYk8g.webm\n",
      "[download] 100% of 4.48MiB in 00:08\n",
      "[ffmpeg] Destination: songs/i1O2J4yYk8g.wav\n",
      "Deleting original file songs/i1O2J4yYk8g.webm (pass -k to keep)\n",
      "[youtube] zWNm5rAVpbA: Downloading webpage\n",
      "[youtube] zWNm5rAVpbA: Downloading video info webpage\n",
      "[youtube] zWNm5rAVpbA: Extracting video information\n",
      "[youtube] zWNm5rAVpbA: Downloading MPD manifest\n"
     ]
    },
    {
     "name": "stderr",
     "output_type": "stream",
     "text": [
      "WARNING: \"id\" field is not a string - forcing string conversion, there is an error in extractor\n"
     ]
    },
    {
     "name": "stdout",
     "output_type": "stream",
     "text": [
      "[download] Destination: songs/zWNm5rAVpbA.m4a\n",
      "[download] 100% of 4.12MiB in 00:08\n",
      "[ffmpeg] Correcting container in \"songs/zWNm5rAVpbA.m4a\"\n",
      "[ffmpeg] Destination: songs/zWNm5rAVpbA.wav\n",
      "Deleting original file songs/zWNm5rAVpbA.m4a (pass -k to keep)\n",
      "[youtube] 3oKQosog90M: Downloading webpage\n",
      "[youtube] 3oKQosog90M: Downloading video info webpage\n",
      "[youtube] 3oKQosog90M: Extracting video information\n",
      "[youtube] 3oKQosog90M: Downloading MPD manifest\n"
     ]
    },
    {
     "name": "stderr",
     "output_type": "stream",
     "text": [
      "WARNING: \"id\" field is not a string - forcing string conversion, there is an error in extractor\n"
     ]
    },
    {
     "name": "stdout",
     "output_type": "stream",
     "text": [
      "[download] Destination: songs/3oKQosog90M.webm\n",
      "[download] 100% of 1.96MiB in 00:03\n",
      "[ffmpeg] Destination: songs/3oKQosog90M.wav\n",
      "Deleting original file songs/3oKQosog90M.webm (pass -k to keep)\n",
      "[youtube] U4v2sNRPtJw: Downloading webpage\n",
      "[youtube] U4v2sNRPtJw: Downloading video info webpage\n",
      "[youtube] U4v2sNRPtJw: Extracting video information\n",
      "[youtube] U4v2sNRPtJw: Downloading MPD manifest\n"
     ]
    },
    {
     "name": "stderr",
     "output_type": "stream",
     "text": [
      "WARNING: \"id\" field is not a string - forcing string conversion, there is an error in extractor\n"
     ]
    },
    {
     "name": "stdout",
     "output_type": "stream",
     "text": [
      "[download] Destination: songs/U4v2sNRPtJw.m4a\n",
      "[download] 100% of 1.51MiB in 00:02\n",
      "[ffmpeg] Correcting container in \"songs/U4v2sNRPtJw.m4a\"\n",
      "[ffmpeg] Destination: songs/U4v2sNRPtJw.wav\n",
      "Deleting original file songs/U4v2sNRPtJw.m4a (pass -k to keep)\n",
      "[youtube] FHal6s6-HcM: Downloading webpage\n",
      "[youtube] FHal6s6-HcM: Downloading video info webpage\n",
      "[youtube] FHal6s6-HcM: Extracting video information\n",
      "[youtube] FHal6s6-HcM: Downloading MPD manifest\n"
     ]
    },
    {
     "name": "stderr",
     "output_type": "stream",
     "text": [
      "WARNING: \"id\" field is not a string - forcing string conversion, there is an error in extractor\n"
     ]
    },
    {
     "name": "stdout",
     "output_type": "stream",
     "text": [
      "[download] Destination: songs/FHal6s6-HcM.m4a\n",
      "[download] 100% of 2.82MiB in 00:05\n",
      "[ffmpeg] Correcting container in \"songs/FHal6s6-HcM.m4a\"\n",
      "[ffmpeg] Destination: songs/FHal6s6-HcM.wav\n",
      "Deleting original file songs/FHal6s6-HcM.m4a (pass -k to keep)\n",
      "[youtube] PJB_6HbXgcc: Downloading webpage\n",
      "[youtube] PJB_6HbXgcc: Downloading video info webpage\n",
      "[youtube] PJB_6HbXgcc: Extracting video information\n",
      "[youtube] PJB_6HbXgcc: Downloading MPD manifest\n"
     ]
    },
    {
     "name": "stderr",
     "output_type": "stream",
     "text": [
      "WARNING: \"id\" field is not a string - forcing string conversion, there is an error in extractor\n"
     ]
    },
    {
     "name": "stdout",
     "output_type": "stream",
     "text": [
      "[download] Destination: songs/PJB_6HbXgcc.webm\n",
      "[download] 100% of 4.64MiB in 00:09\n",
      "[ffmpeg] Destination: songs/PJB_6HbXgcc.wav\n",
      "Deleting original file songs/PJB_6HbXgcc.webm (pass -k to keep)\n",
      "[youtube] PvtCO5l5e6Q: Downloading webpage\n",
      "[youtube] PvtCO5l5e6Q: Downloading video info webpage\n",
      "[youtube] PvtCO5l5e6Q: Extracting video information\n",
      "[youtube] PvtCO5l5e6Q: Downloading js player vflIfz8pB\n",
      "[youtube] PvtCO5l5e6Q: Downloading MPD manifest\n"
     ]
    },
    {
     "name": "stderr",
     "output_type": "stream",
     "text": [
      "WARNING: \"id\" field is not a string - forcing string conversion, there is an error in extractor\n"
     ]
    },
    {
     "name": "stdout",
     "output_type": "stream",
     "text": [
      "[download] Destination: songs/PvtCO5l5e6Q.webm\n",
      "[download] 100% of 3.51MiB in 00:06\n",
      "[ffmpeg] Destination: songs/PvtCO5l5e6Q.wav\n",
      "Deleting original file songs/PvtCO5l5e6Q.webm (pass -k to keep)\n",
      "[youtube] ZKPkxoIFNk8: Downloading webpage\n",
      "[youtube] ZKPkxoIFNk8: Downloading video info webpage\n",
      "[youtube] ZKPkxoIFNk8: Extracting video information\n",
      "[youtube] ZKPkxoIFNk8: Downloading MPD manifest\n"
     ]
    },
    {
     "name": "stderr",
     "output_type": "stream",
     "text": [
      "WARNING: \"id\" field is not a string - forcing string conversion, there is an error in extractor\n"
     ]
    },
    {
     "name": "stdout",
     "output_type": "stream",
     "text": [
      "[download] Destination: songs/ZKPkxoIFNk8.webm\n",
      "[download] 100% of 2.81MiB in 00:05\n",
      "[ffmpeg] Destination: songs/ZKPkxoIFNk8.wav\n",
      "Deleting original file songs/ZKPkxoIFNk8.webm (pass -k to keep)\n",
      "[youtube] MyEK3f8aXRs: Downloading webpage\n",
      "[youtube] MyEK3f8aXRs: Downloading video info webpage\n",
      "[youtube] MyEK3f8aXRs: Extracting video information\n",
      "[youtube] MyEK3f8aXRs: Downloading MPD manifest\n"
     ]
    },
    {
     "name": "stderr",
     "output_type": "stream",
     "text": [
      "WARNING: \"id\" field is not a string - forcing string conversion, there is an error in extractor\n"
     ]
    },
    {
     "name": "stdout",
     "output_type": "stream",
     "text": [
      "[download] Destination: songs/MyEK3f8aXRs.m4a\n",
      "[download] 100% of 1.54MiB in 00:03\n",
      "[ffmpeg] Correcting container in \"songs/MyEK3f8aXRs.m4a\"\n",
      "[ffmpeg] Destination: songs/MyEK3f8aXRs.wav\n",
      "Deleting original file songs/MyEK3f8aXRs.m4a (pass -k to keep)\n",
      "[youtube] R426j7W2ZU8: Downloading webpage\n",
      "[youtube] R426j7W2ZU8: Downloading video info webpage\n",
      "[youtube] R426j7W2ZU8: Extracting video information\n",
      "[youtube] R426j7W2ZU8: Downloading MPD manifest\n",
      "[youtube] R426j7W2ZU8: Downloading MPD manifest\n"
     ]
    },
    {
     "name": "stderr",
     "output_type": "stream",
     "text": [
      "WARNING: \"id\" field is not a string - forcing string conversion, there is an error in extractor\n"
     ]
    },
    {
     "name": "stdout",
     "output_type": "stream",
     "text": [
      "[dashsegments] Total fragments: 27\n",
      "[download] Destination: songs/R426j7W2ZU8.m4a\n",
      "[download] 100% of 2.91MiB in 00:11\n",
      "[ffmpeg] Correcting container in \"songs/R426j7W2ZU8.m4a\"\n",
      "[ffmpeg] Destination: songs/R426j7W2ZU8.wav\n",
      "Deleting original file songs/R426j7W2ZU8.m4a (pass -k to keep)\n",
      "[youtube] nehRB1FTeTo: Downloading webpage\n",
      "[youtube] nehRB1FTeTo: Downloading video info webpage\n"
     ]
    },
    {
     "name": "stderr",
     "output_type": "stream",
     "text": [
      "ERROR: nehRB1FTeTo: YouTube said: This video contains content from UMG_MK, who has blocked it in your country on copyright grounds.\n"
     ]
    },
    {
     "name": "stdout",
     "output_type": "stream",
     "text": [
      "[youtube] fFBA_Ykx-L4: Downloading webpage\n",
      "[youtube] fFBA_Ykx-L4: Downloading video info webpage\n",
      "[youtube] fFBA_Ykx-L4: Extracting video information\n",
      "[youtube] fFBA_Ykx-L4: Downloading MPD manifest\n"
     ]
    },
    {
     "name": "stderr",
     "output_type": "stream",
     "text": [
      "WARNING: \"id\" field is not a string - forcing string conversion, there is an error in extractor\n"
     ]
    },
    {
     "name": "stdout",
     "output_type": "stream",
     "text": [
      "[download] Destination: songs/fFBA_Ykx-L4.m4a\n",
      "[download] 100% of 46.78KiB in 00:00\n",
      "[ffmpeg] Correcting container in \"songs/fFBA_Ykx-L4.m4a\"\n",
      "[ffmpeg] Destination: songs/fFBA_Ykx-L4.wav\n",
      "Deleting original file songs/fFBA_Ykx-L4.m4a (pass -k to keep)\n",
      "[youtube] HBjDZMJUduo: Downloading webpage\n",
      "[youtube] HBjDZMJUduo: Downloading video info webpage\n",
      "[youtube] HBjDZMJUduo: Extracting video information\n",
      "[youtube] HBjDZMJUduo: Downloading MPD manifest\n"
     ]
    },
    {
     "name": "stderr",
     "output_type": "stream",
     "text": [
      "WARNING: \"id\" field is not a string - forcing string conversion, there is an error in extractor\n"
     ]
    },
    {
     "name": "stdout",
     "output_type": "stream",
     "text": [
      "[download] Destination: songs/HBjDZMJUduo.webm\n",
      "[download] 100% of 3.89MiB in 00:07\n",
      "[ffmpeg] Destination: songs/HBjDZMJUduo.wav\n",
      "Deleting original file songs/HBjDZMJUduo.webm (pass -k to keep)\n",
      "[youtube] 2tNCOpFBoJo: Downloading webpage\n",
      "[youtube] 2tNCOpFBoJo: Downloading video info webpage\n",
      "[youtube] 2tNCOpFBoJo: Extracting video information\n",
      "[youtube] 2tNCOpFBoJo: Downloading MPD manifest\n"
     ]
    },
    {
     "name": "stderr",
     "output_type": "stream",
     "text": [
      "WARNING: \"id\" field is not a string - forcing string conversion, there is an error in extractor\n"
     ]
    },
    {
     "name": "stdout",
     "output_type": "stream",
     "text": [
      "[download] Destination: songs/2tNCOpFBoJo.webm\n",
      "[download] 100% of 3.13MiB in 00:06\n",
      "[ffmpeg] Destination: songs/2tNCOpFBoJo.wav\n",
      "Deleting original file songs/2tNCOpFBoJo.webm (pass -k to keep)\n",
      "[youtube] W2Vc_aFtnqE: Downloading webpage\n",
      "[youtube] W2Vc_aFtnqE: Downloading video info webpage\n",
      "[youtube] W2Vc_aFtnqE: Extracting video information\n",
      "[youtube] W2Vc_aFtnqE: Downloading MPD manifest\n"
     ]
    },
    {
     "name": "stderr",
     "output_type": "stream",
     "text": [
      "WARNING: \"id\" field is not a string - forcing string conversion, there is an error in extractor\n"
     ]
    },
    {
     "name": "stdout",
     "output_type": "stream",
     "text": [
      "[download] Destination: songs/W2Vc_aFtnqE.webm\n",
      "[download] 100% of 4.32MiB in 00:08\n",
      "[ffmpeg] Destination: songs/W2Vc_aFtnqE.wav\n",
      "Deleting original file songs/W2Vc_aFtnqE.webm (pass -k to keep)\n",
      "[youtube] _Yw4alPd8Sk: Downloading webpage\n",
      "[youtube] _Yw4alPd8Sk: Downloading video info webpage\n",
      "[youtube] _Yw4alPd8Sk: Extracting video information\n",
      "[youtube] _Yw4alPd8Sk: Downloading MPD manifest\n",
      "[youtube] _Yw4alPd8Sk: Downloading MPD manifest\n"
     ]
    },
    {
     "name": "stderr",
     "output_type": "stream",
     "text": [
      "WARNING: \"id\" field is not a string - forcing string conversion, there is an error in extractor\n"
     ]
    },
    {
     "name": "stdout",
     "output_type": "stream",
     "text": [
      "[dashsegments] Total fragments: 17\n",
      "[download] Destination: songs/_Yw4alPd8Sk.m4a\n",
      "[download] 100% of 2.30MiB in 00:07\n",
      "[ffmpeg] Correcting container in \"songs/_Yw4alPd8Sk.m4a\"\n",
      "[ffmpeg] Destination: songs/_Yw4alPd8Sk.wav\n",
      "Deleting original file songs/_Yw4alPd8Sk.m4a (pass -k to keep)\n",
      "[youtube] rDmYkIah7Do: Downloading webpage\n",
      "[youtube] rDmYkIah7Do: Downloading video info webpage\n",
      "[youtube] rDmYkIah7Do: Extracting video information\n",
      "[youtube] rDmYkIah7Do: Downloading MPD manifest\n"
     ]
    },
    {
     "name": "stderr",
     "output_type": "stream",
     "text": [
      "WARNING: \"id\" field is not a string - forcing string conversion, there is an error in extractor\n"
     ]
    },
    {
     "name": "stdout",
     "output_type": "stream",
     "text": [
      "[download] Destination: songs/rDmYkIah7Do.webm\n",
      "[download] 100% of 2.61MiB in 00:05\n",
      "[ffmpeg] Destination: songs/rDmYkIah7Do.wav\n",
      "Deleting original file songs/rDmYkIah7Do.webm (pass -k to keep)\n",
      "[youtube] ldDPkTuF7OY: Downloading webpage\n",
      "[youtube] ldDPkTuF7OY: Downloading video info webpage\n",
      "[youtube] ldDPkTuF7OY: Extracting video information\n",
      "[youtube] ldDPkTuF7OY: Downloading MPD manifest\n"
     ]
    },
    {
     "name": "stderr",
     "output_type": "stream",
     "text": [
      "WARNING: \"id\" field is not a string - forcing string conversion, there is an error in extractor\n"
     ]
    },
    {
     "name": "stdout",
     "output_type": "stream",
     "text": [
      "[download] Destination: songs/ldDPkTuF7OY.webm\n",
      "[download] 100% of 2.41MiB in 00:04\n",
      "[ffmpeg] Destination: songs/ldDPkTuF7OY.wav\n",
      "Deleting original file songs/ldDPkTuF7OY.webm (pass -k to keep)\n",
      "[youtube] 8kAU3B9Pi_U: Downloading webpage\n",
      "[youtube] 8kAU3B9Pi_U: Downloading video info webpage\n",
      "[youtube] 8kAU3B9Pi_U: Extracting video information\n",
      "[youtube] 8kAU3B9Pi_U: Downloading MPD manifest\n"
     ]
    },
    {
     "name": "stderr",
     "output_type": "stream",
     "text": [
      "WARNING: \"id\" field is not a string - forcing string conversion, there is an error in extractor\n"
     ]
    },
    {
     "name": "stdout",
     "output_type": "stream",
     "text": [
      "[download] Destination: songs/8kAU3B9Pi_U.m4a\n",
      "[download] 100% of 2.89MiB in 00:05\n",
      "[ffmpeg] Correcting container in \"songs/8kAU3B9Pi_U.m4a\"\n",
      "[ffmpeg] Destination: songs/8kAU3B9Pi_U.wav\n",
      "Deleting original file songs/8kAU3B9Pi_U.m4a (pass -k to keep)\n",
      "[youtube] -cutHzT6Hc8: Downloading webpage\n",
      "[youtube] -cutHzT6Hc8: Downloading video info webpage\n",
      "[youtube] -cutHzT6Hc8: Extracting video information\n",
      "[youtube] -cutHzT6Hc8: Downloading MPD manifest\n"
     ]
    },
    {
     "name": "stderr",
     "output_type": "stream",
     "text": [
      "WARNING: \"id\" field is not a string - forcing string conversion, there is an error in extractor\n"
     ]
    },
    {
     "name": "stdout",
     "output_type": "stream",
     "text": [
      "[download] Destination: songs/-cutHzT6Hc8.webm\n",
      "[download] 100% of 3.98MiB in 00:07\n",
      "[ffmpeg] Destination: songs/-cutHzT6Hc8.wav\n",
      "Deleting original file songs/-cutHzT6Hc8.webm (pass -k to keep)\n",
      "[youtube] aiumJ_nDkhs: Downloading webpage\n",
      "[youtube] aiumJ_nDkhs: Downloading video info webpage\n",
      "[youtube] aiumJ_nDkhs: Extracting video information\n",
      "[youtube] aiumJ_nDkhs: Downloading MPD manifest\n"
     ]
    },
    {
     "name": "stderr",
     "output_type": "stream",
     "text": [
      "WARNING: \"id\" field is not a string - forcing string conversion, there is an error in extractor\n"
     ]
    },
    {
     "name": "stdout",
     "output_type": "stream",
     "text": [
      "[download] Destination: songs/aiumJ_nDkhs.webm\n",
      "[download] 100% of 4.04MiB in 00:07\n",
      "[ffmpeg] Destination: songs/aiumJ_nDkhs.wav\n",
      "Deleting original file songs/aiumJ_nDkhs.webm (pass -k to keep)\n",
      "[youtube] Y_kT4OpU7xk: Downloading webpage\n",
      "[youtube] Y_kT4OpU7xk: Downloading video info webpage\n",
      "[youtube] Y_kT4OpU7xk: Extracting video information\n",
      "[youtube] Y_kT4OpU7xk: Downloading MPD manifest\n"
     ]
    },
    {
     "name": "stderr",
     "output_type": "stream",
     "text": [
      "WARNING: \"id\" field is not a string - forcing string conversion, there is an error in extractor\n"
     ]
    },
    {
     "name": "stdout",
     "output_type": "stream",
     "text": [
      "[download] Destination: songs/Y_kT4OpU7xk.webm\n",
      "[download] 100% of 3.17MiB in 00:06\n",
      "[ffmpeg] Destination: songs/Y_kT4OpU7xk.wav\n",
      "Deleting original file songs/Y_kT4OpU7xk.webm (pass -k to keep)\n",
      "[youtube] AN4hkX4TNxM: Downloading webpage\n",
      "[youtube] AN4hkX4TNxM: Downloading video info webpage\n",
      "[youtube] AN4hkX4TNxM: Extracting video information\n",
      "[youtube] AN4hkX4TNxM: Downloading MPD manifest\n",
      "[youtube] AN4hkX4TNxM: Downloading MPD manifest\n"
     ]
    },
    {
     "name": "stderr",
     "output_type": "stream",
     "text": [
      "WARNING: \"id\" field is not a string - forcing string conversion, there is an error in extractor\n"
     ]
    },
    {
     "name": "stdout",
     "output_type": "stream",
     "text": [
      "[dashsegments] Total fragments: 26\n",
      "[download] Destination: songs/AN4hkX4TNxM.m4a\n",
      "[download] 100% of 3.64MiB in 00:12\n",
      "[ffmpeg] Correcting container in \"songs/AN4hkX4TNxM.m4a\"\n",
      "[ffmpeg] Destination: songs/AN4hkX4TNxM.wav\n",
      "Deleting original file songs/AN4hkX4TNxM.m4a (pass -k to keep)\n",
      "[youtube] dWDhS1lZ2lc: Downloading webpage\n",
      "[youtube] dWDhS1lZ2lc: Downloading video info webpage\n",
      "[youtube] dWDhS1lZ2lc: Extracting video information\n",
      "[youtube] dWDhS1lZ2lc: Downloading MPD manifest\n"
     ]
    },
    {
     "name": "stderr",
     "output_type": "stream",
     "text": [
      "WARNING: \"id\" field is not a string - forcing string conversion, there is an error in extractor\n"
     ]
    },
    {
     "name": "stdout",
     "output_type": "stream",
     "text": [
      "[download] Destination: songs/dWDhS1lZ2lc.webm\n",
      "[download] 100% of 8.11MiB in 00:16\n",
      "[ffmpeg] Destination: songs/dWDhS1lZ2lc.wav\n",
      "Deleting original file songs/dWDhS1lZ2lc.webm (pass -k to keep)\n",
      "[youtube] CLNuAmuZ74I: Downloading webpage\n",
      "[youtube] CLNuAmuZ74I: Downloading video info webpage\n",
      "[youtube] CLNuAmuZ74I: Extracting video information\n",
      "[youtube] CLNuAmuZ74I: Downloading MPD manifest\n"
     ]
    },
    {
     "name": "stderr",
     "output_type": "stream",
     "text": [
      "WARNING: \"id\" field is not a string - forcing string conversion, there is an error in extractor\n"
     ]
    },
    {
     "name": "stdout",
     "output_type": "stream",
     "text": [
      "[download] Destination: songs/CLNuAmuZ74I.m4a\n",
      "[download] 100% of 1.70MiB in 00:03\n",
      "[ffmpeg] Correcting container in \"songs/CLNuAmuZ74I.m4a\"\n",
      "[ffmpeg] Destination: songs/CLNuAmuZ74I.wav\n",
      "Deleting original file songs/CLNuAmuZ74I.m4a (pass -k to keep)\n",
      "[youtube] tnA3KAqrXvg: Downloading webpage\n",
      "[youtube] tnA3KAqrXvg: Downloading video info webpage\n",
      "[youtube] tnA3KAqrXvg: Extracting video information\n",
      "[youtube] tnA3KAqrXvg: Downloading MPD manifest\n"
     ]
    },
    {
     "name": "stderr",
     "output_type": "stream",
     "text": [
      "WARNING: \"id\" field is not a string - forcing string conversion, there is an error in extractor\n"
     ]
    },
    {
     "name": "stdout",
     "output_type": "stream",
     "text": [
      "[download] Destination: songs/tnA3KAqrXvg.m4a\n",
      "[download] 100% of 2.76MiB in 00:05\n",
      "[ffmpeg] Correcting container in \"songs/tnA3KAqrXvg.m4a\"\n",
      "[ffmpeg] Destination: songs/tnA3KAqrXvg.wav\n",
      "Deleting original file songs/tnA3KAqrXvg.m4a (pass -k to keep)\n",
      "[youtube] Y9uVjJIS-tA: Downloading webpage\n",
      "[youtube] Y9uVjJIS-tA: Downloading video info webpage\n",
      "[youtube] Y9uVjJIS-tA: Extracting video information\n",
      "[youtube] Y9uVjJIS-tA: Downloading MPD manifest\n"
     ]
    },
    {
     "name": "stderr",
     "output_type": "stream",
     "text": [
      "WARNING: \"id\" field is not a string - forcing string conversion, there is an error in extractor\n"
     ]
    },
    {
     "name": "stdout",
     "output_type": "stream",
     "text": [
      "[download] Destination: songs/Y9uVjJIS-tA.webm\n",
      "[download] 100% of 6.53MiB in 00:13\n",
      "[ffmpeg] Destination: songs/Y9uVjJIS-tA.wav\n",
      "Deleting original file songs/Y9uVjJIS-tA.webm (pass -k to keep)\n",
      "[youtube] nAvGOOqkb3E: Downloading webpage\n",
      "[youtube] nAvGOOqkb3E: Downloading video info webpage\n",
      "[youtube] nAvGOOqkb3E: Extracting video information\n",
      "[youtube] nAvGOOqkb3E: Downloading MPD manifest\n"
     ]
    },
    {
     "name": "stderr",
     "output_type": "stream",
     "text": [
      "WARNING: \"id\" field is not a string - forcing string conversion, there is an error in extractor\n"
     ]
    },
    {
     "name": "stdout",
     "output_type": "stream",
     "text": [
      "[download] Destination: songs/nAvGOOqkb3E.m4a\n",
      "[download] 100% of 1.37MiB in 00:02\n",
      "[ffmpeg] Correcting container in \"songs/nAvGOOqkb3E.m4a\"\n",
      "[ffmpeg] Destination: songs/nAvGOOqkb3E.wav\n",
      "Deleting original file songs/nAvGOOqkb3E.m4a (pass -k to keep)\n",
      "[youtube] QWb6losRD38: Downloading webpage\n",
      "[youtube] QWb6losRD38: Downloading video info webpage\n",
      "[youtube] QWb6losRD38: Extracting video information\n",
      "[youtube] QWb6losRD38: Downloading MPD manifest\n"
     ]
    },
    {
     "name": "stderr",
     "output_type": "stream",
     "text": [
      "WARNING: \"id\" field is not a string - forcing string conversion, there is an error in extractor\n"
     ]
    },
    {
     "name": "stdout",
     "output_type": "stream",
     "text": [
      "[download] Destination: songs/QWb6losRD38.webm\n",
      "[download] 100% of 4.19MiB in 00:08\n",
      "[ffmpeg] Destination: songs/QWb6losRD38.wav\n",
      "Deleting original file songs/QWb6losRD38.webm (pass -k to keep)\n",
      "[youtube] AlhAnqliWH8: Downloading webpage\n",
      "[youtube] AlhAnqliWH8: Downloading video info webpage\n",
      "[youtube] AlhAnqliWH8: Extracting video information\n",
      "[youtube] AlhAnqliWH8: Downloading MPD manifest\n"
     ]
    },
    {
     "name": "stderr",
     "output_type": "stream",
     "text": [
      "WARNING: \"id\" field is not a string - forcing string conversion, there is an error in extractor\n"
     ]
    },
    {
     "name": "stdout",
     "output_type": "stream",
     "text": [
      "[download] Destination: songs/AlhAnqliWH8.webm\n",
      "[download] 100% of 3.95MiB in 00:07\n",
      "[ffmpeg] Destination: songs/AlhAnqliWH8.wav\n",
      "Deleting original file songs/AlhAnqliWH8.webm (pass -k to keep)\n",
      "[youtube] o91dpGDHGe8: Downloading webpage\n",
      "[youtube] o91dpGDHGe8: Downloading video info webpage\n",
      "[youtube] o91dpGDHGe8: Extracting video information\n",
      "[youtube] o91dpGDHGe8: Downloading MPD manifest\n"
     ]
    },
    {
     "name": "stderr",
     "output_type": "stream",
     "text": [
      "WARNING: \"id\" field is not a string - forcing string conversion, there is an error in extractor\n"
     ]
    },
    {
     "name": "stdout",
     "output_type": "stream",
     "text": [
      "[download] Destination: songs/o91dpGDHGe8.m4a\n",
      "[download] 100% of 3.28MiB in 00:06\n",
      "[ffmpeg] Correcting container in \"songs/o91dpGDHGe8.m4a\"\n",
      "[ffmpeg] Destination: songs/o91dpGDHGe8.wav\n",
      "Deleting original file songs/o91dpGDHGe8.m4a (pass -k to keep)\n",
      "[youtube] je9kxGsp1pU: Downloading webpage\n",
      "[youtube] je9kxGsp1pU: Downloading video info webpage\n",
      "[youtube] je9kxGsp1pU: Extracting video information\n",
      "[youtube] je9kxGsp1pU: Downloading MPD manifest\n"
     ]
    },
    {
     "name": "stderr",
     "output_type": "stream",
     "text": [
      "WARNING: \"id\" field is not a string - forcing string conversion, there is an error in extractor\n"
     ]
    },
    {
     "name": "stdout",
     "output_type": "stream",
     "text": [
      "[download] Destination: songs/je9kxGsp1pU.m4a\n",
      "[download] 100% of 2.28MiB in 00:04\n",
      "[ffmpeg] Correcting container in \"songs/je9kxGsp1pU.m4a\"\n",
      "[ffmpeg] Destination: songs/je9kxGsp1pU.wav\n",
      "Deleting original file songs/je9kxGsp1pU.m4a (pass -k to keep)\n",
      "[youtube] fBPWW_Qo3b8: Downloading webpage\n",
      "[youtube] fBPWW_Qo3b8: Downloading video info webpage\n",
      "[youtube] fBPWW_Qo3b8: Extracting video information\n",
      "[youtube] fBPWW_Qo3b8: Downloading MPD manifest\n"
     ]
    },
    {
     "name": "stderr",
     "output_type": "stream",
     "text": [
      "WARNING: \"id\" field is not a string - forcing string conversion, there is an error in extractor\n"
     ]
    },
    {
     "name": "stdout",
     "output_type": "stream",
     "text": [
      "[download] Destination: songs/fBPWW_Qo3b8.webm\n",
      "[download] 100% of 3.37MiB in 00:06\n",
      "[ffmpeg] Destination: songs/fBPWW_Qo3b8.wav\n",
      "Deleting original file songs/fBPWW_Qo3b8.webm (pass -k to keep)\n",
      "[youtube] BYsXCumQjBw: Downloading webpage\n",
      "[youtube] BYsXCumQjBw: Downloading video info webpage\n"
     ]
    },
    {
     "name": "stderr",
     "output_type": "stream",
     "text": [
      "ERROR: BYsXCumQjBw: YouTube said: This video contains content from Apple Corps Ltd, who has blocked it on copyright grounds.\n"
     ]
    },
    {
     "name": "stdout",
     "output_type": "stream",
     "text": [
      "[youtube] z2--3a48q6M: Downloading webpage\n",
      "[youtube] z2--3a48q6M: Downloading video info webpage\n",
      "[youtube] z2--3a48q6M: Extracting video information\n",
      "[youtube] z2--3a48q6M: Downloading MPD manifest\n"
     ]
    },
    {
     "name": "stderr",
     "output_type": "stream",
     "text": [
      "WARNING: \"id\" field is not a string - forcing string conversion, there is an error in extractor\n"
     ]
    },
    {
     "name": "stdout",
     "output_type": "stream",
     "text": [
      "[download] Destination: songs/z2--3a48q6M.m4a\n",
      "[download] 100% of 1.74MiB in 00:03\n",
      "[ffmpeg] Correcting container in \"songs/z2--3a48q6M.m4a\"\n",
      "[ffmpeg] Destination: songs/z2--3a48q6M.wav\n",
      "Deleting original file songs/z2--3a48q6M.m4a (pass -k to keep)\n",
      "[youtube] J0wqnZ5H-zQ: Downloading webpage\n",
      "[youtube] J0wqnZ5H-zQ: Downloading video info webpage\n",
      "[youtube] J0wqnZ5H-zQ: Extracting video information\n",
      "[youtube] J0wqnZ5H-zQ: Downloading MPD manifest\n",
      "[youtube] J0wqnZ5H-zQ: Downloading MPD manifest\n"
     ]
    },
    {
     "name": "stderr",
     "output_type": "stream",
     "text": [
      "WARNING: \"id\" field is not a string - forcing string conversion, there is an error in extractor\n"
     ]
    },
    {
     "name": "stdout",
     "output_type": "stream",
     "text": [
      "[dashsegments] Total fragments: 25\n",
      "[download] Destination: songs/J0wqnZ5H-zQ.m4a\n",
      "[download] 100% of 3.62MiB in 00:11\n",
      "[ffmpeg] Correcting container in \"songs/J0wqnZ5H-zQ.m4a\"\n",
      "[ffmpeg] Destination: songs/J0wqnZ5H-zQ.wav\n",
      "Deleting original file songs/J0wqnZ5H-zQ.m4a (pass -k to keep)\n",
      "[youtube] Zmn-09BWSoE: Downloading webpage\n",
      "[youtube] Zmn-09BWSoE: Downloading video info webpage\n",
      "[youtube] Zmn-09BWSoE: Extracting video information\n",
      "[youtube] Zmn-09BWSoE: Downloading MPD manifest\n"
     ]
    },
    {
     "name": "stderr",
     "output_type": "stream",
     "text": [
      "WARNING: \"id\" field is not a string - forcing string conversion, there is an error in extractor\n"
     ]
    },
    {
     "name": "stdout",
     "output_type": "stream",
     "text": [
      "[download] Destination: songs/Zmn-09BWSoE.m4a\n",
      "[download] 100% of 2.72MiB in 00:05\n",
      "[ffmpeg] Correcting container in \"songs/Zmn-09BWSoE.m4a\"\n",
      "[ffmpeg] Destination: songs/Zmn-09BWSoE.wav\n",
      "Deleting original file songs/Zmn-09BWSoE.m4a (pass -k to keep)\n",
      "[youtube] PKvgg-qeRrw: Downloading webpage\n",
      "[youtube] PKvgg-qeRrw: Downloading video info webpage\n",
      "[youtube] PKvgg-qeRrw: Extracting video information\n",
      "[youtube] PKvgg-qeRrw: Downloading MPD manifest\n"
     ]
    },
    {
     "name": "stderr",
     "output_type": "stream",
     "text": [
      "WARNING: \"id\" field is not a string - forcing string conversion, there is an error in extractor\n"
     ]
    },
    {
     "name": "stdout",
     "output_type": "stream",
     "text": [
      "[download] Destination: songs/PKvgg-qeRrw.m4a\n",
      "[download] 100% of 718.33KiB in 00:01\n",
      "[ffmpeg] Correcting container in \"songs/PKvgg-qeRrw.m4a\"\n",
      "[ffmpeg] Destination: songs/PKvgg-qeRrw.wav\n",
      "Deleting original file songs/PKvgg-qeRrw.m4a (pass -k to keep)\n",
      "[youtube] ywPI6Hq38ow: Downloading webpage\n",
      "[youtube] ywPI6Hq38ow: Downloading video info webpage\n",
      "[youtube] ywPI6Hq38ow: Extracting video information\n",
      "[youtube] ywPI6Hq38ow: Downloading MPD manifest\n"
     ]
    },
    {
     "name": "stderr",
     "output_type": "stream",
     "text": [
      "WARNING: \"id\" field is not a string - forcing string conversion, there is an error in extractor\n"
     ]
    },
    {
     "name": "stdout",
     "output_type": "stream",
     "text": [
      "[download] Destination: songs/ywPI6Hq38ow.webm\n",
      "[download] 100% of 4.31MiB in 00:08\n",
      "[ffmpeg] Destination: songs/ywPI6Hq38ow.wav\n",
      "Deleting original file songs/ywPI6Hq38ow.webm (pass -k to keep)\n",
      "[youtube] QQPFjWS-S3c: Downloading webpage\n",
      "[youtube] QQPFjWS-S3c: Downloading video info webpage\n",
      "[youtube] QQPFjWS-S3c: Extracting video information\n",
      "[youtube] QQPFjWS-S3c: Downloading MPD manifest\n"
     ]
    },
    {
     "name": "stderr",
     "output_type": "stream",
     "text": [
      "WARNING: \"id\" field is not a string - forcing string conversion, there is an error in extractor\n"
     ]
    },
    {
     "name": "stdout",
     "output_type": "stream",
     "text": [
      "[download] Destination: songs/QQPFjWS-S3c.m4a\n",
      "[download] 100% of 1.98MiB in 00:03\n",
      "[ffmpeg] Correcting container in \"songs/QQPFjWS-S3c.m4a\"\n",
      "[ffmpeg] Destination: songs/QQPFjWS-S3c.wav\n",
      "Deleting original file songs/QQPFjWS-S3c.m4a (pass -k to keep)\n",
      "[youtube] IvRnrIv3mpM: Downloading webpage\n",
      "[youtube] IvRnrIv3mpM: Downloading video info webpage\n",
      "[youtube] IvRnrIv3mpM: Extracting video information\n",
      "[youtube] IvRnrIv3mpM: Downloading MPD manifest\n"
     ]
    },
    {
     "name": "stderr",
     "output_type": "stream",
     "text": [
      "WARNING: \"id\" field is not a string - forcing string conversion, there is an error in extractor\n"
     ]
    },
    {
     "name": "stdout",
     "output_type": "stream",
     "text": [
      "[download] Destination: songs/IvRnrIv3mpM.webm\n",
      "[download] 100% of 3.17MiB in 00:06\n",
      "[ffmpeg] Destination: songs/IvRnrIv3mpM.wav\n",
      "Deleting original file songs/IvRnrIv3mpM.webm (pass -k to keep)\n",
      "[youtube] 5hrnbioBxUI: Downloading webpage\n",
      "[youtube] 5hrnbioBxUI: Downloading video info webpage\n",
      "[youtube] 5hrnbioBxUI: Extracting video information\n",
      "[youtube] 5hrnbioBxUI: Downloading MPD manifest\n"
     ]
    },
    {
     "name": "stderr",
     "output_type": "stream",
     "text": [
      "WARNING: \"id\" field is not a string - forcing string conversion, there is an error in extractor\n"
     ]
    },
    {
     "name": "stdout",
     "output_type": "stream",
     "text": [
      "[download] Destination: songs/5hrnbioBxUI.m4a\n",
      "[download] 100% of 2.70MiB in 00:05\n",
      "[ffmpeg] Correcting container in \"songs/5hrnbioBxUI.m4a\"\n",
      "[ffmpeg] Destination: songs/5hrnbioBxUI.wav\n",
      "Deleting original file songs/5hrnbioBxUI.m4a (pass -k to keep)\n",
      "[youtube] KPjSaDVIR0Y: Downloading webpage\n",
      "[youtube] KPjSaDVIR0Y: Downloading video info webpage\n",
      "[youtube] KPjSaDVIR0Y: Extracting video information\n",
      "[youtube] KPjSaDVIR0Y: Downloading MPD manifest\n"
     ]
    },
    {
     "name": "stderr",
     "output_type": "stream",
     "text": [
      "WARNING: \"id\" field is not a string - forcing string conversion, there is an error in extractor\n"
     ]
    },
    {
     "name": "stdout",
     "output_type": "stream",
     "text": [
      "[download] Destination: songs/KPjSaDVIR0Y.webm\n",
      "[download] 100% of 3.10MiB in 00:06\n",
      "[ffmpeg] Destination: songs/KPjSaDVIR0Y.wav\n",
      "Deleting original file songs/KPjSaDVIR0Y.webm (pass -k to keep)\n",
      "[youtube] QotZ7TIaztw: Downloading webpage\n",
      "[youtube] QotZ7TIaztw: Downloading video info webpage\n",
      "[youtube] QotZ7TIaztw: Extracting video information\n",
      "[youtube] QotZ7TIaztw: Downloading MPD manifest\n"
     ]
    },
    {
     "name": "stderr",
     "output_type": "stream",
     "text": [
      "WARNING: \"id\" field is not a string - forcing string conversion, there is an error in extractor\n"
     ]
    },
    {
     "name": "stdout",
     "output_type": "stream",
     "text": [
      "[download] Destination: songs/QotZ7TIaztw.webm\n",
      "[download] 100% of 3.26MiB in 00:06\n",
      "[ffmpeg] Destination: songs/QotZ7TIaztw.wav\n",
      "Deleting original file songs/QotZ7TIaztw.webm (pass -k to keep)\n",
      "[youtube] EKrH7o5xs84: Downloading webpage\n",
      "[youtube] EKrH7o5xs84: Downloading video info webpage\n",
      "[youtube] EKrH7o5xs84: Extracting video information\n",
      "[youtube] EKrH7o5xs84: Downloading MPD manifest\n"
     ]
    },
    {
     "name": "stderr",
     "output_type": "stream",
     "text": [
      "WARNING: \"id\" field is not a string - forcing string conversion, there is an error in extractor\n"
     ]
    },
    {
     "name": "stdout",
     "output_type": "stream",
     "text": [
      "[download] Destination: songs/EKrH7o5xs84.webm\n",
      "[download] 100% of 3.82MiB in 00:07\n",
      "[ffmpeg] Destination: songs/EKrH7o5xs84.wav\n",
      "Deleting original file songs/EKrH7o5xs84.webm (pass -k to keep)\n",
      "[youtube] 9pWFv3PD5lg: Downloading webpage\n",
      "[youtube] 9pWFv3PD5lg: Downloading video info webpage\n",
      "[youtube] 9pWFv3PD5lg: Extracting video information\n",
      "[youtube] 9pWFv3PD5lg: Downloading MPD manifest\n"
     ]
    },
    {
     "name": "stderr",
     "output_type": "stream",
     "text": [
      "WARNING: \"id\" field is not a string - forcing string conversion, there is an error in extractor\n"
     ]
    },
    {
     "name": "stdout",
     "output_type": "stream",
     "text": [
      "[download] Destination: songs/9pWFv3PD5lg.webm\n",
      "[download] 100% of 3.17MiB in 00:06\n",
      "[ffmpeg] Destination: songs/9pWFv3PD5lg.wav\n",
      "Deleting original file songs/9pWFv3PD5lg.webm (pass -k to keep)\n",
      "[youtube] HUzGtV9R-Wc: Downloading webpage\n",
      "[youtube] HUzGtV9R-Wc: Downloading video info webpage\n",
      "[youtube] HUzGtV9R-Wc: Extracting video information\n",
      "[youtube] HUzGtV9R-Wc: Downloading MPD manifest\n"
     ]
    },
    {
     "name": "stderr",
     "output_type": "stream",
     "text": [
      "WARNING: \"id\" field is not a string - forcing string conversion, there is an error in extractor\n"
     ]
    },
    {
     "name": "stdout",
     "output_type": "stream",
     "text": [
      "[download] Destination: songs/HUzGtV9R-Wc.webm\n",
      "[download] 100% of 4.53MiB in 00:08\n",
      "[ffmpeg] Destination: songs/HUzGtV9R-Wc.wav\n",
      "Deleting original file songs/HUzGtV9R-Wc.webm (pass -k to keep)\n",
      "[youtube] aD81TBHgrNs: Downloading webpage\n",
      "[youtube] aD81TBHgrNs: Downloading video info webpage\n",
      "[youtube] aD81TBHgrNs: Extracting video information\n",
      "[youtube] aD81TBHgrNs: Downloading MPD manifest\n"
     ]
    },
    {
     "name": "stderr",
     "output_type": "stream",
     "text": [
      "WARNING: \"id\" field is not a string - forcing string conversion, there is an error in extractor\n"
     ]
    },
    {
     "name": "stdout",
     "output_type": "stream",
     "text": [
      "[download] Destination: songs/aD81TBHgrNs.webm\n",
      "[download] 100% of 2.04MiB in 00:04\n",
      "[ffmpeg] Destination: songs/aD81TBHgrNs.wav\n",
      "Deleting original file songs/aD81TBHgrNs.webm (pass -k to keep)\n",
      "[youtube] Kgjkth6BRRY: Downloading webpage\n",
      "[youtube] Kgjkth6BRRY: Downloading video info webpage\n",
      "[youtube] Kgjkth6BRRY: Extracting video information\n",
      "[youtube] Kgjkth6BRRY: Downloading MPD manifest\n"
     ]
    },
    {
     "name": "stderr",
     "output_type": "stream",
     "text": [
      "WARNING: \"id\" field is not a string - forcing string conversion, there is an error in extractor\n"
     ]
    },
    {
     "name": "stdout",
     "output_type": "stream",
     "text": [
      "[download] Destination: songs/Kgjkth6BRRY.webm\n",
      "[download] 100% of 3.22MiB in 00:06\n",
      "[ffmpeg] Destination: songs/Kgjkth6BRRY.wav\n",
      "Deleting original file songs/Kgjkth6BRRY.webm (pass -k to keep)\n",
      "[youtube] 15xFAnhbC5E: Downloading webpage\n",
      "[youtube] 15xFAnhbC5E: Downloading video info webpage\n",
      "[youtube] 15xFAnhbC5E: Extracting video information\n",
      "[youtube] 15xFAnhbC5E: Downloading MPD manifest\n"
     ]
    },
    {
     "name": "stderr",
     "output_type": "stream",
     "text": [
      "WARNING: \"id\" field is not a string - forcing string conversion, there is an error in extractor\n"
     ]
    },
    {
     "name": "stdout",
     "output_type": "stream",
     "text": [
      "[download] Destination: songs/15xFAnhbC5E.m4a\n",
      "[download] 100% of 5.28MiB in 00:10\n",
      "[ffmpeg] Correcting container in \"songs/15xFAnhbC5E.m4a\"\n",
      "[ffmpeg] Destination: songs/15xFAnhbC5E.wav\n",
      "Deleting original file songs/15xFAnhbC5E.m4a (pass -k to keep)\n",
      "[youtube] D2PXD5usV0I: Downloading webpage\n",
      "[youtube] D2PXD5usV0I: Downloading video info webpage\n",
      "[youtube] D2PXD5usV0I: Extracting video information\n",
      "[youtube] D2PXD5usV0I: Downloading MPD manifest\n"
     ]
    },
    {
     "name": "stderr",
     "output_type": "stream",
     "text": [
      "WARNING: \"id\" field is not a string - forcing string conversion, there is an error in extractor\n"
     ]
    },
    {
     "name": "stdout",
     "output_type": "stream",
     "text": [
      "[download] Destination: songs/D2PXD5usV0I.m4a\n",
      "[download] 100% of 1.93MiB in 00:04\n",
      "[ffmpeg] Correcting container in \"songs/D2PXD5usV0I.m4a\"\n",
      "[ffmpeg] Destination: songs/D2PXD5usV0I.wav\n",
      "Deleting original file songs/D2PXD5usV0I.m4a (pass -k to keep)\n",
      "[youtube] wFv1Saxu07I: Downloading webpage\n",
      "[youtube] wFv1Saxu07I: Downloading video info webpage\n",
      "[youtube] wFv1Saxu07I: Extracting video information\n",
      "[youtube] wFv1Saxu07I: Downloading MPD manifest\n",
      "[youtube] wFv1Saxu07I: Downloading MPD manifest\n"
     ]
    },
    {
     "name": "stderr",
     "output_type": "stream",
     "text": [
      "WARNING: \"id\" field is not a string - forcing string conversion, there is an error in extractor\n"
     ]
    },
    {
     "name": "stdout",
     "output_type": "stream",
     "text": [
      "[dashsegments] Total fragments: 24\n",
      "[download] Destination: songs/wFv1Saxu07I.m4a\n",
      "[download] 100% of 3.48MiB in 00:10\n",
      "[ffmpeg] Correcting container in \"songs/wFv1Saxu07I.m4a\"\n",
      "[ffmpeg] Destination: songs/wFv1Saxu07I.wav\n",
      "Deleting original file songs/wFv1Saxu07I.m4a (pass -k to keep)\n",
      "[youtube] ETMCgLeRME8: Downloading webpage\n",
      "[youtube] ETMCgLeRME8: Downloading video info webpage\n",
      "[youtube] ETMCgLeRME8: Extracting video information\n",
      "[youtube] ETMCgLeRME8: Downloading MPD manifest\n"
     ]
    },
    {
     "name": "stderr",
     "output_type": "stream",
     "text": [
      "WARNING: \"id\" field is not a string - forcing string conversion, there is an error in extractor\n"
     ]
    },
    {
     "name": "stdout",
     "output_type": "stream",
     "text": [
      "[download] Destination: songs/ETMCgLeRME8.webm\n",
      "[download] 100% of 1.42MiB in 00:02\n",
      "[ffmpeg] Destination: songs/ETMCgLeRME8.wav\n",
      "Deleting original file songs/ETMCgLeRME8.webm (pass -k to keep)\n",
      "[youtube] x3P1S1b-43c: Downloading webpage\n",
      "[youtube] x3P1S1b-43c: Downloading video info webpage\n",
      "[youtube] x3P1S1b-43c: Extracting video information\n",
      "[youtube] x3P1S1b-43c: Downloading MPD manifest\n",
      "[youtube] x3P1S1b-43c: Downloading MPD manifest\n"
     ]
    },
    {
     "name": "stderr",
     "output_type": "stream",
     "text": [
      "WARNING: \"id\" field is not a string - forcing string conversion, there is an error in extractor\n"
     ]
    },
    {
     "name": "stdout",
     "output_type": "stream",
     "text": [
      "[dashsegments] Total fragments: 41\n",
      "[download] Destination: songs/x3P1S1b-43c.m4a\n",
      "[download] 100% of 3.00MiB in 00:13\n",
      "[ffmpeg] Correcting container in \"songs/x3P1S1b-43c.m4a\"\n",
      "[ffmpeg] Destination: songs/x3P1S1b-43c.wav\n",
      "Deleting original file songs/x3P1S1b-43c.m4a (pass -k to keep)\n",
      "[youtube] PM2SYVHlcwM: Downloading webpage\n",
      "[youtube] PM2SYVHlcwM: Downloading video info webpage\n",
      "[youtube] PM2SYVHlcwM: Extracting video information\n",
      "[youtube] PM2SYVHlcwM: Downloading MPD manifest\n",
      "[youtube] PM2SYVHlcwM: Downloading MPD manifest\n"
     ]
    },
    {
     "name": "stderr",
     "output_type": "stream",
     "text": [
      "WARNING: \"id\" field is not a string - forcing string conversion, there is an error in extractor\n"
     ]
    },
    {
     "name": "stdout",
     "output_type": "stream",
     "text": [
      "[dashsegments] Total fragments: 28\n",
      "[download] Destination: songs/PM2SYVHlcwM.m4a\n",
      "[download] 100% of 4.01MiB in 00:14\n",
      "[ffmpeg] Correcting container in \"songs/PM2SYVHlcwM.m4a\"\n",
      "[ffmpeg] Destination: songs/PM2SYVHlcwM.wav\n",
      "Deleting original file songs/PM2SYVHlcwM.m4a (pass -k to keep)\n",
      "[youtube] sjWeRXa4kM8: Downloading webpage\n",
      "[youtube] sjWeRXa4kM8: Downloading video info webpage\n",
      "[youtube] sjWeRXa4kM8: Extracting video information\n",
      "[youtube] sjWeRXa4kM8: Downloading MPD manifest\n",
      "[youtube] sjWeRXa4kM8: Downloading MPD manifest\n"
     ]
    },
    {
     "name": "stderr",
     "output_type": "stream",
     "text": [
      "WARNING: \"id\" field is not a string - forcing string conversion, there is an error in extractor\n"
     ]
    },
    {
     "name": "stdout",
     "output_type": "stream",
     "text": [
      "[dashsegments] Total fragments: 27\n",
      "[download] Destination: songs/sjWeRXa4kM8.m4a\n",
      "[download] 100% of 3.92MiB in 00:13\n",
      "[ffmpeg] Correcting container in \"songs/sjWeRXa4kM8.m4a\"\n",
      "[ffmpeg] Destination: songs/sjWeRXa4kM8.wav\n",
      "Deleting original file songs/sjWeRXa4kM8.m4a (pass -k to keep)\n",
      "[youtube] fa7jEYAogC0: Downloading webpage\n",
      "[youtube] fa7jEYAogC0: Downloading video info webpage\n",
      "[youtube] fa7jEYAogC0: Extracting video information\n",
      "[youtube] fa7jEYAogC0: Downloading MPD manifest\n",
      "[youtube] fa7jEYAogC0: Downloading MPD manifest\n"
     ]
    },
    {
     "name": "stderr",
     "output_type": "stream",
     "text": [
      "WARNING: \"id\" field is not a string - forcing string conversion, there is an error in extractor\n"
     ]
    },
    {
     "name": "stdout",
     "output_type": "stream",
     "text": [
      "[dashsegments] Total fragments: 25\n",
      "[download] Destination: songs/fa7jEYAogC0.m4a\n",
      "[download] 100% of 3.49MiB in 00:12\n",
      "[ffmpeg] Correcting container in \"songs/fa7jEYAogC0.m4a\"\n",
      "[ffmpeg] Destination: songs/fa7jEYAogC0.wav\n",
      "Deleting original file songs/fa7jEYAogC0.m4a (pass -k to keep)\n",
      "[youtube] 4ErjBF5GDNg: Downloading webpage\n",
      "[youtube] 4ErjBF5GDNg: Downloading video info webpage\n",
      "[youtube] 4ErjBF5GDNg: Extracting video information\n",
      "[youtube] 4ErjBF5GDNg: Downloading MPD manifest\n"
     ]
    },
    {
     "name": "stderr",
     "output_type": "stream",
     "text": [
      "WARNING: \"id\" field is not a string - forcing string conversion, there is an error in extractor\n"
     ]
    },
    {
     "name": "stdout",
     "output_type": "stream",
     "text": [
      "[download] Destination: songs/4ErjBF5GDNg.webm\n",
      "[download] 100% of 3.57MiB in 00:07\n",
      "[ffmpeg] Destination: songs/4ErjBF5GDNg.wav\n",
      "Deleting original file songs/4ErjBF5GDNg.webm (pass -k to keep)\n",
      "[youtube] _d1EEULSuKg: Downloading webpage\n",
      "[youtube] _d1EEULSuKg: Downloading video info webpage\n",
      "[youtube] _d1EEULSuKg: Extracting video information\n",
      "[youtube] _d1EEULSuKg: Downloading MPD manifest\n"
     ]
    },
    {
     "name": "stderr",
     "output_type": "stream",
     "text": [
      "WARNING: \"id\" field is not a string - forcing string conversion, there is an error in extractor\n"
     ]
    },
    {
     "name": "stdout",
     "output_type": "stream",
     "text": [
      "[download] Destination: songs/_d1EEULSuKg.m4a\n",
      "[download] 100% of 3.68MiB in 00:07\n",
      "[ffmpeg] Correcting container in \"songs/_d1EEULSuKg.m4a\"\n",
      "[ffmpeg] Destination: songs/_d1EEULSuKg.wav\n",
      "Deleting original file songs/_d1EEULSuKg.m4a (pass -k to keep)\n",
      "[youtube] 1XlKJHVAUYw: Downloading webpage\n",
      "[youtube] 1XlKJHVAUYw: Downloading video info webpage\n",
      "[youtube] 1XlKJHVAUYw: Extracting video information\n",
      "[youtube] 1XlKJHVAUYw: Downloading MPD manifest\n"
     ]
    },
    {
     "name": "stderr",
     "output_type": "stream",
     "text": [
      "WARNING: \"id\" field is not a string - forcing string conversion, there is an error in extractor\n"
     ]
    },
    {
     "name": "stdout",
     "output_type": "stream",
     "text": [
      "[download] Destination: songs/1XlKJHVAUYw.m4a\n",
      "[download] 100% of 4.21MiB in 00:08\n",
      "[ffmpeg] Correcting container in \"songs/1XlKJHVAUYw.m4a\"\n",
      "[ffmpeg] Destination: songs/1XlKJHVAUYw.wav\n",
      "Deleting original file songs/1XlKJHVAUYw.m4a (pass -k to keep)\n",
      "[youtube] JGftIcp2SC0: Downloading webpage\n",
      "[youtube] JGftIcp2SC0: Downloading video info webpage\n",
      "[youtube] JGftIcp2SC0: Extracting video information\n",
      "[youtube] JGftIcp2SC0: Downloading MPD manifest\n"
     ]
    },
    {
     "name": "stderr",
     "output_type": "stream",
     "text": [
      "WARNING: \"id\" field is not a string - forcing string conversion, there is an error in extractor\n"
     ]
    },
    {
     "name": "stdout",
     "output_type": "stream",
     "text": [
      "[download] Destination: songs/JGftIcp2SC0.webm\n",
      "[download] 100% of 4.03MiB in 00:12\n",
      "[ffmpeg] Destination: songs/JGftIcp2SC0.wav\n",
      "Deleting original file songs/JGftIcp2SC0.webm (pass -k to keep)\n",
      "[youtube] SYJp0hV7i5U: Downloading webpage\n",
      "[youtube] SYJp0hV7i5U: Downloading video info webpage\n",
      "[youtube] SYJp0hV7i5U: Extracting video information\n",
      "[youtube] SYJp0hV7i5U: Downloading MPD manifest\n"
     ]
    },
    {
     "name": "stderr",
     "output_type": "stream",
     "text": [
      "WARNING: \"id\" field is not a string - forcing string conversion, there is an error in extractor\n"
     ]
    },
    {
     "name": "stdout",
     "output_type": "stream",
     "text": [
      "[download] Destination: songs/SYJp0hV7i5U.m4a\n",
      "[download] 100% of 2.88MiB in 00:05\n",
      "[ffmpeg] Correcting container in \"songs/SYJp0hV7i5U.m4a\"\n",
      "[ffmpeg] Destination: songs/SYJp0hV7i5U.wav\n",
      "Deleting original file songs/SYJp0hV7i5U.m4a (pass -k to keep)\n",
      "[youtube] 9FuVhro28RE: Downloading webpage\n",
      "[youtube] 9FuVhro28RE: Downloading video info webpage\n",
      "[youtube] 9FuVhro28RE: Extracting video information\n",
      "[youtube] 9FuVhro28RE: Downloading MPD manifest\n",
      "[youtube] 9FuVhro28RE: Downloading MPD manifest\n"
     ]
    },
    {
     "name": "stderr",
     "output_type": "stream",
     "text": [
      "WARNING: \"id\" field is not a string - forcing string conversion, there is an error in extractor\n"
     ]
    },
    {
     "name": "stdout",
     "output_type": "stream",
     "text": [
      "[dashsegments] Total fragments: 21\n",
      "[download] Destination: songs/9FuVhro28RE.m4a\n",
      "[download] 100% of 2.94MiB in 00:10\n",
      "[ffmpeg] Correcting container in \"songs/9FuVhro28RE.m4a\"\n",
      "[ffmpeg] Destination: songs/9FuVhro28RE.wav\n",
      "Deleting original file songs/9FuVhro28RE.m4a (pass -k to keep)\n",
      "[youtube] k0lRy0t0oQM: Downloading webpage\n",
      "[youtube] k0lRy0t0oQM: Downloading video info webpage\n",
      "[youtube] k0lRy0t0oQM: Extracting video information\n",
      "[youtube] k0lRy0t0oQM: Downloading MPD manifest\n"
     ]
    },
    {
     "name": "stderr",
     "output_type": "stream",
     "text": [
      "WARNING: \"id\" field is not a string - forcing string conversion, there is an error in extractor\n"
     ]
    },
    {
     "name": "stdout",
     "output_type": "stream",
     "text": [
      "[download] Destination: songs/k0lRy0t0oQM.webm\n",
      "[download] 100% of 3.65MiB in 00:07\n",
      "[ffmpeg] Destination: songs/k0lRy0t0oQM.wav\n",
      "Deleting original file songs/k0lRy0t0oQM.webm (pass -k to keep)\n",
      "[youtube] kSQ-8zUZKYY: Downloading webpage\n",
      "[youtube] kSQ-8zUZKYY: Downloading video info webpage\n",
      "[youtube] kSQ-8zUZKYY: Extracting video information\n",
      "[youtube] kSQ-8zUZKYY: Downloading MPD manifest\n"
     ]
    },
    {
     "name": "stderr",
     "output_type": "stream",
     "text": [
      "WARNING: \"id\" field is not a string - forcing string conversion, there is an error in extractor\n"
     ]
    },
    {
     "name": "stdout",
     "output_type": "stream",
     "text": [
      "[download] Destination: songs/kSQ-8zUZKYY.webm\n",
      "[download] 100% of 3.66MiB in 00:07\n",
      "[ffmpeg] Destination: songs/kSQ-8zUZKYY.wav\n",
      "Deleting original file songs/kSQ-8zUZKYY.webm (pass -k to keep)\n",
      "[youtube] 26DmDSg9KAc: Downloading webpage\n",
      "[youtube] 26DmDSg9KAc: Downloading video info webpage\n",
      "[youtube] 26DmDSg9KAc: Extracting video information\n",
      "[youtube] 26DmDSg9KAc: Downloading MPD manifest\n"
     ]
    },
    {
     "name": "stderr",
     "output_type": "stream",
     "text": [
      "WARNING: \"id\" field is not a string - forcing string conversion, there is an error in extractor\n"
     ]
    },
    {
     "name": "stdout",
     "output_type": "stream",
     "text": [
      "[download] Destination: songs/26DmDSg9KAc.webm\n",
      "[download] 100% of 2.97MiB in 00:05\n",
      "[ffmpeg] Destination: songs/26DmDSg9KAc.wav\n",
      "Deleting original file songs/26DmDSg9KAc.webm (pass -k to keep)\n",
      "[youtube] o0RnPHfLrkY: Downloading webpage\n",
      "[youtube] o0RnPHfLrkY: Downloading video info webpage\n",
      "[youtube] o0RnPHfLrkY: Extracting video information\n",
      "[youtube] o0RnPHfLrkY: Downloading MPD manifest\n"
     ]
    },
    {
     "name": "stderr",
     "output_type": "stream",
     "text": [
      "WARNING: \"id\" field is not a string - forcing string conversion, there is an error in extractor\n"
     ]
    },
    {
     "name": "stdout",
     "output_type": "stream",
     "text": [
      "[download] Destination: songs/o0RnPHfLrkY.webm\n",
      "[download] 100% of 3.34MiB in 00:06\n",
      "[ffmpeg] Destination: songs/o0RnPHfLrkY.wav\n",
      "Deleting original file songs/o0RnPHfLrkY.webm (pass -k to keep)\n",
      "[youtube] 9zAYturK4cM: Downloading webpage\n",
      "[youtube] 9zAYturK4cM: Downloading video info webpage\n",
      "[youtube] 9zAYturK4cM: Extracting video information\n",
      "[youtube] 9zAYturK4cM: Downloading MPD manifest\n"
     ]
    },
    {
     "name": "stderr",
     "output_type": "stream",
     "text": [
      "WARNING: \"id\" field is not a string - forcing string conversion, there is an error in extractor\n"
     ]
    },
    {
     "name": "stdout",
     "output_type": "stream",
     "text": [
      "[download] Destination: songs/9zAYturK4cM.webm\n",
      "[download] 100% of 4.16MiB in 00:08\n",
      "[ffmpeg] Destination: songs/9zAYturK4cM.wav\n",
      "Deleting original file songs/9zAYturK4cM.webm (pass -k to keep)\n",
      "[youtube] Igj4GnkXjiA: Downloading webpage\n",
      "[youtube] Igj4GnkXjiA: Downloading video info webpage\n",
      "[youtube] Igj4GnkXjiA: Extracting video information\n",
      "[youtube] Igj4GnkXjiA: Downloading MPD manifest\n"
     ]
    },
    {
     "name": "stderr",
     "output_type": "stream",
     "text": [
      "WARNING: \"id\" field is not a string - forcing string conversion, there is an error in extractor\n"
     ]
    },
    {
     "name": "stdout",
     "output_type": "stream",
     "text": [
      "[download] Destination: songs/Igj4GnkXjiA.webm\n",
      "[download] 100% of 2.83MiB in 00:05\n",
      "[ffmpeg] Destination: songs/Igj4GnkXjiA.wav\n",
      "Deleting original file songs/Igj4GnkXjiA.webm (pass -k to keep)\n",
      "[youtube] VHgzqbfy77U: Downloading webpage\n",
      "[youtube] VHgzqbfy77U: Downloading video info webpage\n",
      "[youtube] VHgzqbfy77U: Extracting video information\n",
      "[youtube] VHgzqbfy77U: Downloading MPD manifest\n"
     ]
    },
    {
     "name": "stderr",
     "output_type": "stream",
     "text": [
      "WARNING: \"id\" field is not a string - forcing string conversion, there is an error in extractor\n"
     ]
    },
    {
     "name": "stdout",
     "output_type": "stream",
     "text": [
      "[download] Destination: songs/VHgzqbfy77U.m4a\n",
      "[download] 100% of 2.43MiB in 00:04\n",
      "[ffmpeg] Correcting container in \"songs/VHgzqbfy77U.m4a\"\n",
      "[ffmpeg] Destination: songs/VHgzqbfy77U.wav\n",
      "Deleting original file songs/VHgzqbfy77U.m4a (pass -k to keep)\n",
      "[youtube] aUAMzYMAk44: Downloading webpage\n",
      "[youtube] aUAMzYMAk44: Downloading video info webpage\n",
      "[youtube] aUAMzYMAk44: Extracting video information\n",
      "[youtube] aUAMzYMAk44: Downloading MPD manifest\n"
     ]
    },
    {
     "name": "stderr",
     "output_type": "stream",
     "text": [
      "WARNING: \"id\" field is not a string - forcing string conversion, there is an error in extractor\n"
     ]
    },
    {
     "name": "stdout",
     "output_type": "stream",
     "text": [
      "[download] Destination: songs/aUAMzYMAk44.webm\n",
      "[download] 100% of 3.18MiB in 00:06\n",
      "[ffmpeg] Destination: songs/aUAMzYMAk44.wav\n",
      "Deleting original file songs/aUAMzYMAk44.webm (pass -k to keep)\n",
      "[youtube] qxbAkQB5fDU: Downloading webpage\n",
      "[youtube] qxbAkQB5fDU: Downloading video info webpage\n",
      "[youtube] qxbAkQB5fDU: Extracting video information\n",
      "[youtube] qxbAkQB5fDU: Downloading MPD manifest\n"
     ]
    },
    {
     "name": "stderr",
     "output_type": "stream",
     "text": [
      "WARNING: \"id\" field is not a string - forcing string conversion, there is an error in extractor\n"
     ]
    },
    {
     "name": "stdout",
     "output_type": "stream",
     "text": [
      "[download] Destination: songs/qxbAkQB5fDU.webm\n",
      "[download] 100% of 3.83MiB in 00:07\n",
      "[ffmpeg] Destination: songs/qxbAkQB5fDU.wav\n",
      "Deleting original file songs/qxbAkQB5fDU.webm (pass -k to keep)\n",
      "[youtube] Yb8fNjUybcA: Downloading webpage\n",
      "[youtube] Yb8fNjUybcA: Downloading video info webpage\n",
      "[youtube] Yb8fNjUybcA: Extracting video information\n",
      "[youtube] Yb8fNjUybcA: Downloading MPD manifest\n"
     ]
    },
    {
     "name": "stderr",
     "output_type": "stream",
     "text": [
      "WARNING: \"id\" field is not a string - forcing string conversion, there is an error in extractor\n"
     ]
    },
    {
     "name": "stdout",
     "output_type": "stream",
     "text": [
      "[download] Destination: songs/Yb8fNjUybcA.webm\n",
      "[download] 100% of 5.06MiB in 00:10\n",
      "[ffmpeg] Destination: songs/Yb8fNjUybcA.wav\n",
      "Deleting original file songs/Yb8fNjUybcA.webm (pass -k to keep)\n",
      "[youtube] RkZC7sqImaM: Downloading webpage\n",
      "[youtube] RkZC7sqImaM: Downloading video info webpage\n",
      "[youtube] RkZC7sqImaM: Extracting video information\n",
      "[youtube] RkZC7sqImaM: Downloading MPD manifest\n"
     ]
    },
    {
     "name": "stderr",
     "output_type": "stream",
     "text": [
      "WARNING: \"id\" field is not a string - forcing string conversion, there is an error in extractor\n"
     ]
    },
    {
     "name": "stdout",
     "output_type": "stream",
     "text": [
      "[download] Destination: songs/RkZC7sqImaM.webm\n",
      "[download] 100% of 4.40MiB in 00:08\n",
      "[ffmpeg] Destination: songs/RkZC7sqImaM.wav\n",
      "Deleting original file songs/RkZC7sqImaM.webm (pass -k to keep)\n",
      "[youtube] 1Z3g8DJK-qU: Downloading webpage\n",
      "[youtube] 1Z3g8DJK-qU: Downloading video info webpage\n",
      "[youtube] 1Z3g8DJK-qU: Extracting video information\n",
      "[youtube] 1Z3g8DJK-qU: Downloading MPD manifest\n"
     ]
    },
    {
     "name": "stderr",
     "output_type": "stream",
     "text": [
      "WARNING: \"id\" field is not a string - forcing string conversion, there is an error in extractor\n"
     ]
    },
    {
     "name": "stdout",
     "output_type": "stream",
     "text": [
      "[download] Destination: songs/1Z3g8DJK-qU.webm\n",
      "[download] 100% of 3.23MiB in 00:06\n",
      "[ffmpeg] Destination: songs/1Z3g8DJK-qU.wav\n",
      "Deleting original file songs/1Z3g8DJK-qU.webm (pass -k to keep)\n",
      "[youtube] v8M_Cqqopew: Downloading webpage\n",
      "[youtube] v8M_Cqqopew: Downloading video info webpage\n",
      "[youtube] v8M_Cqqopew: Extracting video information\n",
      "[youtube] v8M_Cqqopew: Downloading MPD manifest\n"
     ]
    },
    {
     "name": "stderr",
     "output_type": "stream",
     "text": [
      "WARNING: \"id\" field is not a string - forcing string conversion, there is an error in extractor\n"
     ]
    },
    {
     "name": "stdout",
     "output_type": "stream",
     "text": [
      "[download] Destination: songs/v8M_Cqqopew.m4a\n",
      "[download] 100% of 9.90MiB in 00:19\n",
      "[ffmpeg] Correcting container in \"songs/v8M_Cqqopew.m4a\"\n",
      "[ffmpeg] Destination: songs/v8M_Cqqopew.wav\n",
      "Deleting original file songs/v8M_Cqqopew.m4a (pass -k to keep)\n",
      "[youtube] xrTFb_3hy_g: Downloading webpage\n",
      "[youtube] xrTFb_3hy_g: Downloading video info webpage\n",
      "[youtube] xrTFb_3hy_g: Extracting video information\n",
      "[youtube] xrTFb_3hy_g: Downloading MPD manifest\n",
      "[youtube] xrTFb_3hy_g: Downloading MPD manifest\n"
     ]
    },
    {
     "name": "stderr",
     "output_type": "stream",
     "text": [
      "WARNING: \"id\" field is not a string - forcing string conversion, there is an error in extractor\n"
     ]
    },
    {
     "name": "stdout",
     "output_type": "stream",
     "text": [
      "[dashsegments] Total fragments: 27\n",
      "[download] Destination: songs/xrTFb_3hy_g.m4a\n",
      "[download] 100% of 3.93MiB in 00:12\n",
      "[ffmpeg] Correcting container in \"songs/xrTFb_3hy_g.m4a\"\n",
      "[ffmpeg] Destination: songs/xrTFb_3hy_g.wav\n",
      "Deleting original file songs/xrTFb_3hy_g.m4a (pass -k to keep)\n",
      "[youtube] l8r8ZYe5Snc: Downloading webpage\n",
      "[youtube] l8r8ZYe5Snc: Downloading video info webpage\n",
      "[youtube] l8r8ZYe5Snc: Extracting video information\n",
      "[youtube] l8r8ZYe5Snc: Downloading MPD manifest\n"
     ]
    },
    {
     "name": "stderr",
     "output_type": "stream",
     "text": [
      "WARNING: \"id\" field is not a string - forcing string conversion, there is an error in extractor\n"
     ]
    },
    {
     "name": "stdout",
     "output_type": "stream",
     "text": [
      "[download] Destination: songs/l8r8ZYe5Snc.webm\n",
      "[download] 100% of 5.61MiB in 00:11\n",
      "[ffmpeg] Destination: songs/l8r8ZYe5Snc.wav\n",
      "Deleting original file songs/l8r8ZYe5Snc.webm (pass -k to keep)\n",
      "[youtube] LoDs_uNOym8: Downloading webpage\n",
      "[youtube] LoDs_uNOym8: Downloading video info webpage\n",
      "[youtube] LoDs_uNOym8: Extracting video information\n",
      "[youtube] LoDs_uNOym8: Downloading MPD manifest\n"
     ]
    },
    {
     "name": "stderr",
     "output_type": "stream",
     "text": [
      "WARNING: \"id\" field is not a string - forcing string conversion, there is an error in extractor\n"
     ]
    },
    {
     "name": "stdout",
     "output_type": "stream",
     "text": [
      "[download] Destination: songs/LoDs_uNOym8.webm\n",
      "[download] 100% of 910.97KiB in 00:01\n",
      "[ffmpeg] Destination: songs/LoDs_uNOym8.wav\n",
      "Deleting original file songs/LoDs_uNOym8.webm (pass -k to keep)\n",
      "[youtube] ZTJPccoPKj0: Downloading webpage\n",
      "[youtube] ZTJPccoPKj0: Downloading video info webpage\n",
      "[youtube] ZTJPccoPKj0: Extracting video information\n",
      "[youtube] ZTJPccoPKj0: Downloading MPD manifest\n"
     ]
    },
    {
     "name": "stderr",
     "output_type": "stream",
     "text": [
      "WARNING: \"id\" field is not a string - forcing string conversion, there is an error in extractor\n"
     ]
    },
    {
     "name": "stdout",
     "output_type": "stream",
     "text": [
      "[download] Destination: songs/ZTJPccoPKj0.webm\n",
      "[download] 100% of 2.20MiB in 00:04\n",
      "[ffmpeg] Destination: songs/ZTJPccoPKj0.wav\n",
      "Deleting original file songs/ZTJPccoPKj0.webm (pass -k to keep)\n",
      "[youtube] fO-HxMojEHk: Downloading webpage\n",
      "[youtube] fO-HxMojEHk: Downloading video info webpage\n",
      "[youtube] fO-HxMojEHk: Extracting video information\n",
      "[youtube] fO-HxMojEHk: Downloading MPD manifest\n"
     ]
    },
    {
     "name": "stderr",
     "output_type": "stream",
     "text": [
      "WARNING: \"id\" field is not a string - forcing string conversion, there is an error in extractor\n"
     ]
    },
    {
     "name": "stdout",
     "output_type": "stream",
     "text": [
      "[download] Destination: songs/fO-HxMojEHk.webm\n",
      "[download] 100% of 6.44MiB in 00:12\n",
      "[ffmpeg] Destination: songs/fO-HxMojEHk.wav\n",
      "Deleting original file songs/fO-HxMojEHk.webm (pass -k to keep)\n",
      "[youtube] IEfg0uwfq5g: Downloading webpage\n",
      "[youtube] IEfg0uwfq5g: Downloading video info webpage\n",
      "[youtube] IEfg0uwfq5g: Extracting video information\n",
      "[youtube] IEfg0uwfq5g: Downloading MPD manifest\n",
      "[youtube] IEfg0uwfq5g: Downloading MPD manifest\n"
     ]
    },
    {
     "name": "stderr",
     "output_type": "stream",
     "text": [
      "WARNING: \"id\" field is not a string - forcing string conversion, there is an error in extractor\n"
     ]
    },
    {
     "name": "stdout",
     "output_type": "stream",
     "text": [
      "[dashsegments] Total fragments: 5\n",
      "[download] Destination: songs/IEfg0uwfq5g.m4a\n",
      "[download] 100% of 253.52KiB in 00:01\n",
      "[ffmpeg] Correcting container in \"songs/IEfg0uwfq5g.m4a\"\n",
      "[ffmpeg] Destination: songs/IEfg0uwfq5g.wav\n",
      "Deleting original file songs/IEfg0uwfq5g.m4a (pass -k to keep)\n",
      "[youtube] qdU2twDs70w: Downloading webpage\n",
      "[youtube] qdU2twDs70w: Downloading video info webpage\n",
      "[youtube] qdU2twDs70w: Extracting video information\n",
      "[youtube] qdU2twDs70w: Downloading MPD manifest\n",
      "[youtube] qdU2twDs70w: Downloading MPD manifest\n"
     ]
    },
    {
     "name": "stderr",
     "output_type": "stream",
     "text": [
      "WARNING: \"id\" field is not a string - forcing string conversion, there is an error in extractor\n"
     ]
    },
    {
     "name": "stdout",
     "output_type": "stream",
     "text": [
      "[dashsegments] Total fragments: 11\n",
      "[download] Destination: songs/qdU2twDs70w.m4a\n",
      "[download] 100% of 1.47MiB in 00:04\n",
      "[ffmpeg] Correcting container in \"songs/qdU2twDs70w.m4a\"\n",
      "[ffmpeg] Destination: songs/qdU2twDs70w.wav\n",
      "Deleting original file songs/qdU2twDs70w.m4a (pass -k to keep)\n",
      "[youtube] 6DaZNzfjsFM: Downloading webpage\n",
      "[youtube] 6DaZNzfjsFM: Downloading video info webpage\n",
      "[youtube] 6DaZNzfjsFM: Extracting video information\n",
      "[youtube] 6DaZNzfjsFM: Downloading MPD manifest\n",
      "[youtube] 6DaZNzfjsFM: Downloading MPD manifest\n"
     ]
    },
    {
     "name": "stderr",
     "output_type": "stream",
     "text": [
      "WARNING: \"id\" field is not a string - forcing string conversion, there is an error in extractor\n"
     ]
    },
    {
     "name": "stdout",
     "output_type": "stream",
     "text": [
      "[dashsegments] Total fragments: 35\n",
      "[download] Destination: songs/6DaZNzfjsFM.m4a\n",
      "[download] 100% of 5.05MiB in 00:18\n",
      "[ffmpeg] Correcting container in \"songs/6DaZNzfjsFM.m4a\"\n",
      "[ffmpeg] Destination: songs/6DaZNzfjsFM.wav\n",
      "Deleting original file songs/6DaZNzfjsFM.m4a (pass -k to keep)\n",
      "[youtube] FJK7n0QyIlE: Downloading webpage\n",
      "[youtube] FJK7n0QyIlE: Downloading video info webpage\n",
      "[youtube] FJK7n0QyIlE: Extracting video information\n",
      "[youtube] FJK7n0QyIlE: Downloading MPD manifest\n"
     ]
    },
    {
     "name": "stderr",
     "output_type": "stream",
     "text": [
      "WARNING: \"id\" field is not a string - forcing string conversion, there is an error in extractor\n"
     ]
    },
    {
     "name": "stdout",
     "output_type": "stream",
     "text": [
      "[download] Destination: songs/FJK7n0QyIlE.m4a\n",
      "[download] 100% of 3.56MiB in 00:07\n",
      "[ffmpeg] Correcting container in \"songs/FJK7n0QyIlE.m4a\"\n",
      "[ffmpeg] Destination: songs/FJK7n0QyIlE.wav\n",
      "Deleting original file songs/FJK7n0QyIlE.m4a (pass -k to keep)\n",
      "[youtube] G53MUKzqA8E: Downloading webpage\n",
      "[youtube] G53MUKzqA8E: Downloading video info webpage\n",
      "[youtube] G53MUKzqA8E: Extracting video information\n",
      "[youtube] G53MUKzqA8E: Downloading MPD manifest\n"
     ]
    },
    {
     "name": "stderr",
     "output_type": "stream",
     "text": [
      "WARNING: \"id\" field is not a string - forcing string conversion, there is an error in extractor\n"
     ]
    },
    {
     "name": "stdout",
     "output_type": "stream",
     "text": [
      "[download] Destination: songs/G53MUKzqA8E.webm\n",
      "[download] 100% of 3.62MiB in 00:07\n",
      "[ffmpeg] Destination: songs/G53MUKzqA8E.wav\n",
      "Deleting original file songs/G53MUKzqA8E.webm (pass -k to keep)\n",
      "[youtube] O0hzu-ShDHc: Downloading webpage\n",
      "[youtube] O0hzu-ShDHc: Downloading video info webpage\n",
      "[youtube] O0hzu-ShDHc: Extracting video information\n",
      "[youtube] O0hzu-ShDHc: Downloading MPD manifest\n"
     ]
    },
    {
     "name": "stderr",
     "output_type": "stream",
     "text": [
      "WARNING: \"id\" field is not a string - forcing string conversion, there is an error in extractor\n"
     ]
    },
    {
     "name": "stdout",
     "output_type": "stream",
     "text": [
      "[download] Destination: songs/O0hzu-ShDHc.m4a\n",
      "[download] 100% of 2.83MiB in 00:05\n",
      "[ffmpeg] Correcting container in \"songs/O0hzu-ShDHc.m4a\"\n",
      "[ffmpeg] Destination: songs/O0hzu-ShDHc.wav\n",
      "Deleting original file songs/O0hzu-ShDHc.m4a (pass -k to keep)\n",
      "[youtube] 8vXhwqsKkhQ: Downloading webpage\n",
      "[youtube] 8vXhwqsKkhQ: Downloading video info webpage\n",
      "[youtube] 8vXhwqsKkhQ: Extracting video information\n",
      "[youtube] 8vXhwqsKkhQ: Downloading MPD manifest\n"
     ]
    },
    {
     "name": "stderr",
     "output_type": "stream",
     "text": [
      "WARNING: \"id\" field is not a string - forcing string conversion, there is an error in extractor\n"
     ]
    },
    {
     "name": "stdout",
     "output_type": "stream",
     "text": [
      "[download] Destination: songs/8vXhwqsKkhQ.webm\n",
      "[download] 100% of 5.41MiB in 00:10\n",
      "[ffmpeg] Destination: songs/8vXhwqsKkhQ.wav\n",
      "Deleting original file songs/8vXhwqsKkhQ.webm (pass -k to keep)\n",
      "[youtube] le860Jd-FqI: Downloading webpage\n",
      "[youtube] le860Jd-FqI: Downloading video info webpage\n",
      "[youtube] le860Jd-FqI: Extracting video information\n",
      "[youtube] le860Jd-FqI: Downloading MPD manifest\n"
     ]
    },
    {
     "name": "stderr",
     "output_type": "stream",
     "text": [
      "WARNING: \"id\" field is not a string - forcing string conversion, there is an error in extractor\n"
     ]
    },
    {
     "name": "stdout",
     "output_type": "stream",
     "text": [
      "[download] Destination: songs/le860Jd-FqI.webm\n",
      "[download] 100% of 5.89MiB in 00:11\n",
      "[ffmpeg] Destination: songs/le860Jd-FqI.wav\n",
      "Deleting original file songs/le860Jd-FqI.webm (pass -k to keep)\n",
      "[youtube] SND5GM7USvg: Downloading webpage\n",
      "[youtube] SND5GM7USvg: Downloading video info webpage\n",
      "[youtube] SND5GM7USvg: Extracting video information\n",
      "[youtube] SND5GM7USvg: Downloading MPD manifest\n",
      "[youtube] SND5GM7USvg: Downloading MPD manifest\n"
     ]
    },
    {
     "name": "stderr",
     "output_type": "stream",
     "text": [
      "WARNING: \"id\" field is not a string - forcing string conversion, there is an error in extractor\n"
     ]
    },
    {
     "name": "stdout",
     "output_type": "stream",
     "text": [
      "[dashsegments] Total fragments: 30\n",
      "[download] Destination: songs/SND5GM7USvg.m4a\n",
      "[download] 100% of 4.30MiB in 00:14\n",
      "[ffmpeg] Correcting container in \"songs/SND5GM7USvg.m4a\"\n",
      "[ffmpeg] Destination: songs/SND5GM7USvg.wav\n",
      "Deleting original file songs/SND5GM7USvg.m4a (pass -k to keep)\n",
      "[youtube] f65Om6aCpdo: Downloading webpage\n",
      "[youtube] f65Om6aCpdo: Downloading video info webpage\n",
      "[youtube] f65Om6aCpdo: Extracting video information\n",
      "[youtube] f65Om6aCpdo: Downloading MPD manifest\n"
     ]
    },
    {
     "name": "stderr",
     "output_type": "stream",
     "text": [
      "WARNING: \"id\" field is not a string - forcing string conversion, there is an error in extractor\n"
     ]
    },
    {
     "name": "stdout",
     "output_type": "stream",
     "text": [
      "[download] Destination: songs/f65Om6aCpdo.m4a\n",
      "[download] 100% of 3.93MiB in 00:07\n",
      "[ffmpeg] Correcting container in \"songs/f65Om6aCpdo.m4a\"\n",
      "[ffmpeg] Destination: songs/f65Om6aCpdo.wav\n",
      "Deleting original file songs/f65Om6aCpdo.m4a (pass -k to keep)\n",
      "[youtube] v-yAmg-T7gI: Downloading webpage\n",
      "[youtube] v-yAmg-T7gI: Downloading video info webpage\n",
      "[youtube] v-yAmg-T7gI: Extracting video information\n",
      "[youtube] v-yAmg-T7gI: Downloading MPD manifest\n"
     ]
    },
    {
     "name": "stderr",
     "output_type": "stream",
     "text": [
      "WARNING: \"id\" field is not a string - forcing string conversion, there is an error in extractor\n"
     ]
    },
    {
     "name": "stdout",
     "output_type": "stream",
     "text": [
      "[download] Destination: songs/v-yAmg-T7gI.webm\n",
      "[download] 100% of 4.08MiB in 00:08\n",
      "[ffmpeg] Destination: songs/v-yAmg-T7gI.wav\n",
      "Deleting original file songs/v-yAmg-T7gI.webm (pass -k to keep)\n",
      "[youtube] a7eYALJaoNo: Downloading webpage\n",
      "[youtube] a7eYALJaoNo: Downloading video info webpage\n",
      "[youtube] a7eYALJaoNo: Extracting video information\n",
      "[youtube] a7eYALJaoNo: Downloading MPD manifest\n"
     ]
    },
    {
     "name": "stderr",
     "output_type": "stream",
     "text": [
      "WARNING: \"id\" field is not a string - forcing string conversion, there is an error in extractor\n"
     ]
    },
    {
     "name": "stdout",
     "output_type": "stream",
     "text": [
      "[download] Destination: songs/a7eYALJaoNo.webm\n",
      "[download] 100% of 2.87MiB in 00:05\n",
      "[ffmpeg] Destination: songs/a7eYALJaoNo.wav\n",
      "Deleting original file songs/a7eYALJaoNo.webm (pass -k to keep)\n",
      "[youtube] EdmoxnTpW9o: Downloading webpage\n",
      "[youtube] EdmoxnTpW9o: Downloading video info webpage\n",
      "[youtube] EdmoxnTpW9o: Extracting video information\n",
      "[youtube] EdmoxnTpW9o: Downloading MPD manifest\n"
     ]
    },
    {
     "name": "stderr",
     "output_type": "stream",
     "text": [
      "WARNING: \"id\" field is not a string - forcing string conversion, there is an error in extractor\n"
     ]
    },
    {
     "name": "stdout",
     "output_type": "stream",
     "text": [
      "[download] Destination: songs/EdmoxnTpW9o.webm\n",
      "[download] 100% of 3.20MiB in 00:06\n",
      "[ffmpeg] Destination: songs/EdmoxnTpW9o.wav\n",
      "Deleting original file songs/EdmoxnTpW9o.webm (pass -k to keep)\n",
      "[youtube] gqY-cQ4oslM: Downloading webpage\n",
      "[youtube] gqY-cQ4oslM: Downloading video info webpage\n",
      "[youtube] gqY-cQ4oslM: Extracting video information\n",
      "[youtube] gqY-cQ4oslM: Downloading MPD manifest\n"
     ]
    },
    {
     "name": "stderr",
     "output_type": "stream",
     "text": [
      "WARNING: \"id\" field is not a string - forcing string conversion, there is an error in extractor\n"
     ]
    },
    {
     "name": "stdout",
     "output_type": "stream",
     "text": [
      "[download] Destination: songs/gqY-cQ4oslM.webm\n",
      "[download] 100% of 2.09MiB in 00:04\n",
      "[ffmpeg] Destination: songs/gqY-cQ4oslM.wav\n",
      "Deleting original file songs/gqY-cQ4oslM.webm (pass -k to keep)\n",
      "[youtube] y8prO_QZ29Q: Downloading webpage\n",
      "[youtube] y8prO_QZ29Q: Downloading video info webpage\n",
      "[youtube] y8prO_QZ29Q: Extracting video information\n",
      "[youtube] y8prO_QZ29Q: Downloading MPD manifest\n"
     ]
    },
    {
     "name": "stderr",
     "output_type": "stream",
     "text": [
      "WARNING: \"id\" field is not a string - forcing string conversion, there is an error in extractor\n"
     ]
    },
    {
     "name": "stdout",
     "output_type": "stream",
     "text": [
      "[download] Destination: songs/y8prO_QZ29Q.m4a\n",
      "[download] 100% of 3.66MiB in 00:07\n",
      "[ffmpeg] Correcting container in \"songs/y8prO_QZ29Q.m4a\"\n",
      "[ffmpeg] Destination: songs/y8prO_QZ29Q.wav\n",
      "Deleting original file songs/y8prO_QZ29Q.m4a (pass -k to keep)\n",
      "[youtube] OZakAOc9JjM: Downloading webpage\n",
      "[youtube] OZakAOc9JjM: Downloading video info webpage\n",
      "[youtube] OZakAOc9JjM: Extracting video information\n",
      "[youtube] OZakAOc9JjM: Downloading MPD manifest\n"
     ]
    },
    {
     "name": "stderr",
     "output_type": "stream",
     "text": [
      "WARNING: \"id\" field is not a string - forcing string conversion, there is an error in extractor\n"
     ]
    },
    {
     "name": "stdout",
     "output_type": "stream",
     "text": [
      "[download] Destination: songs/OZakAOc9JjM.webm\n",
      "[download] 100% of 4.51MiB in 00:08\n",
      "[ffmpeg] Destination: songs/OZakAOc9JjM.wav\n",
      "Deleting original file songs/OZakAOc9JjM.webm (pass -k to keep)\n",
      "[youtube] sLJG9bLdaZk: Downloading webpage\n",
      "[youtube] sLJG9bLdaZk: Downloading video info webpage\n",
      "[youtube] sLJG9bLdaZk: Extracting video information\n",
      "[youtube] sLJG9bLdaZk: Downloading MPD manifest\n",
      "[youtube] sLJG9bLdaZk: Downloading MPD manifest\n"
     ]
    },
    {
     "name": "stderr",
     "output_type": "stream",
     "text": [
      "WARNING: \"id\" field is not a string - forcing string conversion, there is an error in extractor\n"
     ]
    },
    {
     "name": "stdout",
     "output_type": "stream",
     "text": [
      "[dashsegments] Total fragments: 26\n",
      "[download] Destination: songs/sLJG9bLdaZk.m4a\n",
      "[download] 100% of 3.71MiB in 00:13\n",
      "[ffmpeg] Correcting container in \"songs/sLJG9bLdaZk.m4a\"\n",
      "[ffmpeg] Destination: songs/sLJG9bLdaZk.wav\n",
      "Deleting original file songs/sLJG9bLdaZk.m4a (pass -k to keep)\n",
      "[youtube] h1KYJFqVDgs: Downloading webpage\n",
      "[youtube] h1KYJFqVDgs: Downloading video info webpage\n",
      "[youtube] h1KYJFqVDgs: Extracting video information\n",
      "[youtube] h1KYJFqVDgs: Downloading MPD manifest\n"
     ]
    },
    {
     "name": "stderr",
     "output_type": "stream",
     "text": [
      "WARNING: \"id\" field is not a string - forcing string conversion, there is an error in extractor\n"
     ]
    },
    {
     "name": "stdout",
     "output_type": "stream",
     "text": [
      "[download] Destination: songs/h1KYJFqVDgs.webm\n",
      "[download] 100% of 3.57MiB in 00:07\n",
      "[ffmpeg] Destination: songs/h1KYJFqVDgs.wav\n",
      "Deleting original file songs/h1KYJFqVDgs.webm (pass -k to keep)\n",
      "[youtube] Uh6ASSy46Aw: Downloading webpage\n",
      "[youtube] Uh6ASSy46Aw: Downloading video info webpage\n",
      "[youtube] Uh6ASSy46Aw: Extracting video information\n",
      "[youtube] Uh6ASSy46Aw: Downloading MPD manifest\n"
     ]
    },
    {
     "name": "stderr",
     "output_type": "stream",
     "text": [
      "WARNING: \"id\" field is not a string - forcing string conversion, there is an error in extractor\n"
     ]
    },
    {
     "name": "stdout",
     "output_type": "stream",
     "text": [
      "[download] Destination: songs/Uh6ASSy46Aw.webm\n",
      "[download] 100% of 2.42MiB in 00:04\n",
      "[ffmpeg] Destination: songs/Uh6ASSy46Aw.wav\n",
      "Deleting original file songs/Uh6ASSy46Aw.webm (pass -k to keep)\n",
      "[youtube] w7o1-HXYtBw: Downloading webpage\n",
      "[youtube] w7o1-HXYtBw: Downloading video info webpage\n",
      "[youtube] w7o1-HXYtBw: Extracting video information\n",
      "[youtube] w7o1-HXYtBw: Downloading MPD manifest\n"
     ]
    },
    {
     "name": "stderr",
     "output_type": "stream",
     "text": [
      "WARNING: \"id\" field is not a string - forcing string conversion, there is an error in extractor\n"
     ]
    },
    {
     "name": "stdout",
     "output_type": "stream",
     "text": [
      "[download] Destination: songs/w7o1-HXYtBw.webm\n",
      "[download] 100% of 3.67MiB in 00:07\n",
      "[ffmpeg] Destination: songs/w7o1-HXYtBw.wav\n",
      "Deleting original file songs/w7o1-HXYtBw.webm (pass -k to keep)\n",
      "[youtube] ApraCgT10IE: Downloading webpage\n",
      "[youtube] ApraCgT10IE: Downloading video info webpage\n",
      "[youtube] ApraCgT10IE: Extracting video information\n",
      "[youtube] ApraCgT10IE: Downloading MPD manifest\n"
     ]
    },
    {
     "name": "stderr",
     "output_type": "stream",
     "text": [
      "WARNING: \"id\" field is not a string - forcing string conversion, there is an error in extractor\n"
     ]
    },
    {
     "name": "stdout",
     "output_type": "stream",
     "text": [
      "[download] Destination: songs/ApraCgT10IE.webm\n",
      "[download] 100% of 5.11MiB in 00:10\n",
      "[ffmpeg] Destination: songs/ApraCgT10IE.wav\n",
      "Deleting original file songs/ApraCgT10IE.webm (pass -k to keep)\n",
      "[youtube] vuuxGvRTvSw: Downloading webpage\n",
      "[youtube] vuuxGvRTvSw: Downloading video info webpage\n",
      "[youtube] vuuxGvRTvSw: Extracting video information\n",
      "[youtube] vuuxGvRTvSw: Downloading MPD manifest\n"
     ]
    },
    {
     "name": "stderr",
     "output_type": "stream",
     "text": [
      "WARNING: \"id\" field is not a string - forcing string conversion, there is an error in extractor\n"
     ]
    },
    {
     "name": "stdout",
     "output_type": "stream",
     "text": [
      "[download] Destination: songs/vuuxGvRTvSw.webm\n",
      "[download] 100% of 2.93MiB in 00:05\n",
      "[ffmpeg] Destination: songs/vuuxGvRTvSw.wav\n",
      "Deleting original file songs/vuuxGvRTvSw.webm (pass -k to keep)\n",
      "[youtube] 7ZkejDqTuSM: Downloading webpage\n",
      "[youtube] 7ZkejDqTuSM: Downloading video info webpage\n",
      "[youtube] 7ZkejDqTuSM: Extracting video information\n",
      "[youtube] 7ZkejDqTuSM: Downloading MPD manifest\n"
     ]
    },
    {
     "name": "stderr",
     "output_type": "stream",
     "text": [
      "WARNING: \"id\" field is not a string - forcing string conversion, there is an error in extractor\n"
     ]
    },
    {
     "name": "stdout",
     "output_type": "stream",
     "text": [
      "[download] Destination: songs/7ZkejDqTuSM.webm\n",
      "[download] 100% of 3.33MiB in 00:06\n",
      "[ffmpeg] Destination: songs/7ZkejDqTuSM.wav\n",
      "Deleting original file songs/7ZkejDqTuSM.webm (pass -k to keep)\n",
      "[youtube] -qvSs1z0SyE: Downloading webpage\n",
      "[youtube] -qvSs1z0SyE: Downloading video info webpage\n",
      "[youtube] -qvSs1z0SyE: Extracting video information\n",
      "[youtube] -qvSs1z0SyE: Downloading MPD manifest\n"
     ]
    },
    {
     "name": "stderr",
     "output_type": "stream",
     "text": [
      "WARNING: \"id\" field is not a string - forcing string conversion, there is an error in extractor\n"
     ]
    },
    {
     "name": "stdout",
     "output_type": "stream",
     "text": [
      "[download] Destination: songs/-qvSs1z0SyE.webm\n",
      "[download] 100% of 3.29MiB in 00:06\n",
      "[ffmpeg] Destination: songs/-qvSs1z0SyE.wav\n",
      "Deleting original file songs/-qvSs1z0SyE.webm (pass -k to keep)\n",
      "[youtube] rJBa5SJOVyA: Downloading webpage\n",
      "[youtube] rJBa5SJOVyA: Downloading video info webpage\n",
      "[youtube] rJBa5SJOVyA: Extracting video information\n",
      "[youtube] rJBa5SJOVyA: Downloading MPD manifest\n"
     ]
    },
    {
     "name": "stderr",
     "output_type": "stream",
     "text": [
      "WARNING: \"id\" field is not a string - forcing string conversion, there is an error in extractor\n"
     ]
    },
    {
     "name": "stdout",
     "output_type": "stream",
     "text": [
      "[download] Destination: songs/rJBa5SJOVyA.webm\n",
      "[download] 100% of 2.00MiB in 00:03\n",
      "[ffmpeg] Destination: songs/rJBa5SJOVyA.wav\n",
      "Deleting original file songs/rJBa5SJOVyA.webm (pass -k to keep)\n",
      "[youtube] aJtOOBHghcA: Downloading webpage\n",
      "[youtube] aJtOOBHghcA: Downloading video info webpage\n",
      "[youtube] aJtOOBHghcA: Extracting video information\n",
      "[youtube] aJtOOBHghcA: Downloading MPD manifest\n"
     ]
    },
    {
     "name": "stderr",
     "output_type": "stream",
     "text": [
      "WARNING: \"id\" field is not a string - forcing string conversion, there is an error in extractor\n"
     ]
    },
    {
     "name": "stdout",
     "output_type": "stream",
     "text": [
      "[download] Destination: songs/aJtOOBHghcA.webm\n",
      "[download] 100% of 2.78MiB in 00:05\n",
      "[ffmpeg] Destination: songs/aJtOOBHghcA.wav\n",
      "Deleting original file songs/aJtOOBHghcA.webm (pass -k to keep)\n",
      "[youtube] qsHQmQFy3wk: Downloading webpage\n",
      "[youtube] qsHQmQFy3wk: Downloading video info webpage\n",
      "[youtube] qsHQmQFy3wk: Extracting video information\n",
      "[youtube] qsHQmQFy3wk: Downloading MPD manifest\n"
     ]
    },
    {
     "name": "stderr",
     "output_type": "stream",
     "text": [
      "WARNING: \"id\" field is not a string - forcing string conversion, there is an error in extractor\n"
     ]
    },
    {
     "name": "stdout",
     "output_type": "stream",
     "text": [
      "[download] Destination: songs/qsHQmQFy3wk.webm\n",
      "[download] 100% of 3.27MiB in 00:06\n",
      "[ffmpeg] Destination: songs/qsHQmQFy3wk.wav\n",
      "Deleting original file songs/qsHQmQFy3wk.webm (pass -k to keep)\n",
      "[youtube] 0VLKxhG12MQ: Downloading webpage\n",
      "[youtube] 0VLKxhG12MQ: Downloading video info webpage\n",
      "[youtube] 0VLKxhG12MQ: Extracting video information\n",
      "[youtube] 0VLKxhG12MQ: Downloading MPD manifest\n",
      "[youtube] 0VLKxhG12MQ: Downloading MPD manifest\n"
     ]
    },
    {
     "name": "stderr",
     "output_type": "stream",
     "text": [
      "WARNING: \"id\" field is not a string - forcing string conversion, there is an error in extractor\n"
     ]
    },
    {
     "name": "stdout",
     "output_type": "stream",
     "text": [
      "[dashsegments] Total fragments: 8\n",
      "[download] Destination: songs/0VLKxhG12MQ.m4a\n",
      "[download] 100% of 1.06MiB in 00:03\n",
      "[ffmpeg] Correcting container in \"songs/0VLKxhG12MQ.m4a\"\n",
      "[ffmpeg] Destination: songs/0VLKxhG12MQ.wav\n",
      "Deleting original file songs/0VLKxhG12MQ.m4a (pass -k to keep)\n",
      "[youtube] nEbgH0v4NkM: Downloading webpage\n",
      "[youtube] nEbgH0v4NkM: Downloading video info webpage\n",
      "[youtube] nEbgH0v4NkM: Extracting video information\n",
      "[youtube] nEbgH0v4NkM: Downloading MPD manifest\n"
     ]
    },
    {
     "name": "stderr",
     "output_type": "stream",
     "text": [
      "WARNING: \"id\" field is not a string - forcing string conversion, there is an error in extractor\n"
     ]
    },
    {
     "name": "stdout",
     "output_type": "stream",
     "text": [
      "[download] Destination: songs/nEbgH0v4NkM.webm\n",
      "[download] 100% of 3.88MiB in 00:07\n",
      "[ffmpeg] Destination: songs/nEbgH0v4NkM.wav\n",
      "Deleting original file songs/nEbgH0v4NkM.webm (pass -k to keep)\n",
      "[youtube] QjfDbI7MNiM: Downloading webpage\n",
      "[youtube] QjfDbI7MNiM: Downloading video info webpage\n",
      "[youtube] QjfDbI7MNiM: Extracting video information\n",
      "[youtube] QjfDbI7MNiM: Downloading MPD manifest\n"
     ]
    },
    {
     "name": "stderr",
     "output_type": "stream",
     "text": [
      "WARNING: \"id\" field is not a string - forcing string conversion, there is an error in extractor\n"
     ]
    },
    {
     "name": "stdout",
     "output_type": "stream",
     "text": [
      "[download] Destination: songs/QjfDbI7MNiM.webm\n",
      "[download] 100% of 2.18MiB in 00:04\n",
      "[ffmpeg] Destination: songs/QjfDbI7MNiM.wav\n",
      "Deleting original file songs/QjfDbI7MNiM.webm (pass -k to keep)\n",
      "[youtube] iZ9vkd7Rp-g: Downloading webpage\n",
      "[youtube] iZ9vkd7Rp-g: Downloading video info webpage\n",
      "[youtube] iZ9vkd7Rp-g: Extracting video information\n",
      "[youtube] iZ9vkd7Rp-g: Downloading MPD manifest\n"
     ]
    },
    {
     "name": "stderr",
     "output_type": "stream",
     "text": [
      "WARNING: \"id\" field is not a string - forcing string conversion, there is an error in extractor\n"
     ]
    },
    {
     "name": "stdout",
     "output_type": "stream",
     "text": [
      "[download] Destination: songs/iZ9vkd7Rp-g.m4a\n",
      "[download] 100% of 2.12MiB in 00:04\n",
      "[ffmpeg] Correcting container in \"songs/iZ9vkd7Rp-g.m4a\"\n",
      "[ffmpeg] Destination: songs/iZ9vkd7Rp-g.wav\n",
      "Deleting original file songs/iZ9vkd7Rp-g.m4a (pass -k to keep)\n",
      "[youtube] EDMiViA3zoU: Downloading webpage\n",
      "[youtube] EDMiViA3zoU: Downloading video info webpage\n",
      "[youtube] EDMiViA3zoU: Extracting video information\n",
      "[youtube] EDMiViA3zoU: Downloading MPD manifest\n"
     ]
    },
    {
     "name": "stderr",
     "output_type": "stream",
     "text": [
      "WARNING: \"id\" field is not a string - forcing string conversion, there is an error in extractor\n"
     ]
    },
    {
     "name": "stdout",
     "output_type": "stream",
     "text": [
      "[download] Destination: songs/EDMiViA3zoU.webm\n",
      "[download] 100% of 4.44MiB in 00:08\n",
      "[ffmpeg] Destination: songs/EDMiViA3zoU.wav\n",
      "Deleting original file songs/EDMiViA3zoU.webm (pass -k to keep)\n",
      "[youtube] CSyyj4tNkrY: Downloading webpage\n",
      "[youtube] CSyyj4tNkrY: Downloading video info webpage\n",
      "[youtube] CSyyj4tNkrY: Extracting video information\n",
      "[youtube] CSyyj4tNkrY: Downloading MPD manifest\n"
     ]
    },
    {
     "name": "stderr",
     "output_type": "stream",
     "text": [
      "WARNING: \"id\" field is not a string - forcing string conversion, there is an error in extractor\n"
     ]
    },
    {
     "name": "stdout",
     "output_type": "stream",
     "text": [
      "[download] Destination: songs/CSyyj4tNkrY.webm\n",
      "[download] 100% of 969.98KiB in 00:01\n",
      "[ffmpeg] Destination: songs/CSyyj4tNkrY.wav\n",
      "Deleting original file songs/CSyyj4tNkrY.webm (pass -k to keep)\n",
      "[youtube] rhZbnkfeOlM: Downloading webpage\n",
      "[youtube] rhZbnkfeOlM: Downloading video info webpage\n",
      "[youtube] rhZbnkfeOlM: Extracting video information\n",
      "[youtube] rhZbnkfeOlM: Downloading MPD manifest\n",
      "[youtube] rhZbnkfeOlM: Downloading MPD manifest\n"
     ]
    },
    {
     "name": "stderr",
     "output_type": "stream",
     "text": [
      "WARNING: \"id\" field is not a string - forcing string conversion, there is an error in extractor\n"
     ]
    },
    {
     "name": "stdout",
     "output_type": "stream",
     "text": [
      "[dashsegments] Total fragments: 7\n",
      "[download] Destination: songs/rhZbnkfeOlM.m4a\n",
      "[download] 100% of 894.85KiB in 00:03\n",
      "[ffmpeg] Correcting container in \"songs/rhZbnkfeOlM.m4a\"\n",
      "[ffmpeg] Destination: songs/rhZbnkfeOlM.wav\n",
      "Deleting original file songs/rhZbnkfeOlM.m4a (pass -k to keep)\n",
      "[youtube] cdkA8EmP26c: Downloading webpage\n",
      "[youtube] cdkA8EmP26c: Downloading video info webpage\n",
      "[youtube] cdkA8EmP26c: Extracting video information\n",
      "[youtube] cdkA8EmP26c: Downloading MPD manifest\n"
     ]
    },
    {
     "name": "stderr",
     "output_type": "stream",
     "text": [
      "WARNING: \"id\" field is not a string - forcing string conversion, there is an error in extractor\n"
     ]
    },
    {
     "name": "stdout",
     "output_type": "stream",
     "text": [
      "[download] Destination: songs/cdkA8EmP26c.m4a\n",
      "[download] 100% of 3.59MiB in 00:07\n",
      "[ffmpeg] Correcting container in \"songs/cdkA8EmP26c.m4a\"\n",
      "[ffmpeg] Destination: songs/cdkA8EmP26c.wav\n",
      "Deleting original file songs/cdkA8EmP26c.m4a (pass -k to keep)\n",
      "[youtube] PkBEXqKAg4g: Downloading webpage\n",
      "[youtube] PkBEXqKAg4g: Downloading video info webpage\n",
      "[youtube] PkBEXqKAg4g: Extracting video information\n",
      "[youtube] PkBEXqKAg4g: Downloading MPD manifest\n"
     ]
    },
    {
     "name": "stderr",
     "output_type": "stream",
     "text": [
      "WARNING: \"id\" field is not a string - forcing string conversion, there is an error in extractor\n"
     ]
    },
    {
     "name": "stdout",
     "output_type": "stream",
     "text": [
      "[download] Destination: songs/PkBEXqKAg4g.webm\n",
      "[download] 100% of 3.99MiB in 00:07\n",
      "[ffmpeg] Destination: songs/PkBEXqKAg4g.wav\n",
      "Deleting original file songs/PkBEXqKAg4g.webm (pass -k to keep)\n",
      "[youtube] Tx5qz9uldDw: Downloading webpage\n",
      "[youtube] Tx5qz9uldDw: Downloading video info webpage\n",
      "[youtube] Tx5qz9uldDw: Extracting video information\n",
      "[youtube] Tx5qz9uldDw: Downloading MPD manifest\n"
     ]
    },
    {
     "name": "stderr",
     "output_type": "stream",
     "text": [
      "WARNING: \"id\" field is not a string - forcing string conversion, there is an error in extractor\n"
     ]
    },
    {
     "name": "stdout",
     "output_type": "stream",
     "text": [
      "[download] Destination: songs/Tx5qz9uldDw.m4a\n",
      "[download] 100% of 3.94MiB in 00:07\n",
      "[ffmpeg] Correcting container in \"songs/Tx5qz9uldDw.m4a\"\n",
      "[ffmpeg] Destination: songs/Tx5qz9uldDw.wav\n",
      "Deleting original file songs/Tx5qz9uldDw.m4a (pass -k to keep)\n",
      "[youtube] oh-O5JDybcM: Downloading webpage\n",
      "[youtube] oh-O5JDybcM: Downloading video info webpage\n",
      "[youtube] oh-O5JDybcM: Extracting video information\n",
      "[youtube] oh-O5JDybcM: Downloading MPD manifest\n"
     ]
    },
    {
     "name": "stderr",
     "output_type": "stream",
     "text": [
      "WARNING: \"id\" field is not a string - forcing string conversion, there is an error in extractor\n"
     ]
    },
    {
     "name": "stdout",
     "output_type": "stream",
     "text": [
      "[download] Destination: songs/oh-O5JDybcM.m4a\n",
      "[download] 100% of 1.62MiB in 00:03\n",
      "[ffmpeg] Correcting container in \"songs/oh-O5JDybcM.m4a\"\n",
      "[ffmpeg] Destination: songs/oh-O5JDybcM.wav\n",
      "Deleting original file songs/oh-O5JDybcM.m4a (pass -k to keep)\n",
      "[youtube] eFkz1FVFWF0: Downloading webpage\n",
      "[youtube] eFkz1FVFWF0: Downloading video info webpage\n",
      "[youtube] eFkz1FVFWF0: Extracting video information\n",
      "[youtube] eFkz1FVFWF0: Downloading MPD manifest\n"
     ]
    },
    {
     "name": "stderr",
     "output_type": "stream",
     "text": [
      "WARNING: \"id\" field is not a string - forcing string conversion, there is an error in extractor\n"
     ]
    },
    {
     "name": "stdout",
     "output_type": "stream",
     "text": [
      "[download] Destination: songs/eFkz1FVFWF0.webm\n",
      "[download] 100% of 3.33MiB in 00:06\n",
      "[ffmpeg] Destination: songs/eFkz1FVFWF0.wav\n",
      "Deleting original file songs/eFkz1FVFWF0.webm (pass -k to keep)\n",
      "[youtube] jzTJb2a-jxY: Downloading webpage\n",
      "[youtube] jzTJb2a-jxY: Downloading video info webpage\n",
      "[youtube] jzTJb2a-jxY: Extracting video information\n",
      "[youtube] jzTJb2a-jxY: Downloading MPD manifest\n"
     ]
    },
    {
     "name": "stderr",
     "output_type": "stream",
     "text": [
      "WARNING: \"id\" field is not a string - forcing string conversion, there is an error in extractor\n"
     ]
    },
    {
     "name": "stdout",
     "output_type": "stream",
     "text": [
      "[download] Destination: songs/jzTJb2a-jxY.webm\n",
      "[download] 100% of 3.32MiB in 00:07\n",
      "[ffmpeg] Destination: songs/jzTJb2a-jxY.wav\n",
      "Deleting original file songs/jzTJb2a-jxY.webm (pass -k to keep)\n",
      "[youtube] bCx76ecJtWI: Downloading webpage\n",
      "[youtube] bCx76ecJtWI: Downloading video info webpage\n",
      "[youtube] bCx76ecJtWI: Extracting video information\n",
      "[youtube] bCx76ecJtWI: Downloading MPD manifest\n"
     ]
    },
    {
     "name": "stderr",
     "output_type": "stream",
     "text": [
      "WARNING: \"id\" field is not a string - forcing string conversion, there is an error in extractor\n"
     ]
    },
    {
     "name": "stdout",
     "output_type": "stream",
     "text": [
      "[download] Destination: songs/bCx76ecJtWI.webm\n",
      "[download] 100% of 4.45MiB in 00:08\n",
      "[ffmpeg] Destination: songs/bCx76ecJtWI.wav\n",
      "Deleting original file songs/bCx76ecJtWI.webm (pass -k to keep)\n",
      "[youtube] 5H1ln0WTZgk: Downloading webpage\n",
      "[youtube] 5H1ln0WTZgk: Downloading video info webpage\n",
      "[youtube] 5H1ln0WTZgk: Extracting video information\n",
      "[youtube] 5H1ln0WTZgk: Downloading MPD manifest\n"
     ]
    },
    {
     "name": "stderr",
     "output_type": "stream",
     "text": [
      "WARNING: \"id\" field is not a string - forcing string conversion, there is an error in extractor\n"
     ]
    },
    {
     "name": "stdout",
     "output_type": "stream",
     "text": [
      "[download] Destination: songs/5H1ln0WTZgk.webm\n",
      "[download] 100% of 3.21MiB in 00:06\n",
      "[ffmpeg] Destination: songs/5H1ln0WTZgk.wav\n",
      "Deleting original file songs/5H1ln0WTZgk.webm (pass -k to keep)\n",
      "[youtube] oPLI3eK8ewM: Downloading webpage\n",
      "[youtube] oPLI3eK8ewM: Downloading video info webpage\n",
      "[youtube] oPLI3eK8ewM: Extracting video information\n",
      "[youtube] oPLI3eK8ewM: Downloading MPD manifest\n"
     ]
    },
    {
     "name": "stderr",
     "output_type": "stream",
     "text": [
      "WARNING: \"id\" field is not a string - forcing string conversion, there is an error in extractor\n"
     ]
    },
    {
     "name": "stdout",
     "output_type": "stream",
     "text": [
      "[download] Destination: songs/oPLI3eK8ewM.webm\n",
      "[download] 100% of 5.08MiB in 00:10\n",
      "[ffmpeg] Destination: songs/oPLI3eK8ewM.wav\n",
      "Deleting original file songs/oPLI3eK8ewM.webm (pass -k to keep)\n",
      "[youtube] IXj5i5YjPgk: Downloading webpage\n",
      "[youtube] IXj5i5YjPgk: Downloading video info webpage\n",
      "[youtube] IXj5i5YjPgk: Extracting video information\n",
      "[youtube] IXj5i5YjPgk: Downloading MPD manifest\n"
     ]
    },
    {
     "name": "stderr",
     "output_type": "stream",
     "text": [
      "WARNING: \"id\" field is not a string - forcing string conversion, there is an error in extractor\n"
     ]
    },
    {
     "name": "stdout",
     "output_type": "stream",
     "text": [
      "[download] Destination: songs/IXj5i5YjPgk.webm\n",
      "[download] 100% of 2.70MiB in 00:05\n",
      "[ffmpeg] Destination: songs/IXj5i5YjPgk.wav\n",
      "Deleting original file songs/IXj5i5YjPgk.webm (pass -k to keep)\n",
      "[youtube] 8BE9UeZNU8o: Downloading webpage\n",
      "[youtube] 8BE9UeZNU8o: Downloading video info webpage\n",
      "[youtube] 8BE9UeZNU8o: Extracting video information\n",
      "[youtube] 8BE9UeZNU8o: Downloading MPD manifest\n"
     ]
    },
    {
     "name": "stderr",
     "output_type": "stream",
     "text": [
      "WARNING: \"id\" field is not a string - forcing string conversion, there is an error in extractor\n"
     ]
    },
    {
     "name": "stdout",
     "output_type": "stream",
     "text": [
      "[download] Destination: songs/8BE9UeZNU8o.webm\n",
      "[download] 100% of 2.15MiB in 00:04\n",
      "[ffmpeg] Destination: songs/8BE9UeZNU8o.wav\n",
      "Deleting original file songs/8BE9UeZNU8o.webm (pass -k to keep)\n",
      "[youtube] ZotPRPXKhzs: Downloading webpage\n",
      "[youtube] ZotPRPXKhzs: Downloading video info webpage\n",
      "[youtube] ZotPRPXKhzs: Extracting video information\n",
      "[youtube] ZotPRPXKhzs: Downloading MPD manifest\n"
     ]
    },
    {
     "name": "stderr",
     "output_type": "stream",
     "text": [
      "WARNING: \"id\" field is not a string - forcing string conversion, there is an error in extractor\n"
     ]
    },
    {
     "name": "stdout",
     "output_type": "stream",
     "text": [
      "[download] Destination: songs/ZotPRPXKhzs.m4a\n",
      "[download] 100% of 2.68MiB in 00:05\n",
      "[ffmpeg] Correcting container in \"songs/ZotPRPXKhzs.m4a\"\n",
      "[ffmpeg] Destination: songs/ZotPRPXKhzs.wav\n",
      "Deleting original file songs/ZotPRPXKhzs.m4a (pass -k to keep)\n",
      "[youtube] rzxtR-Nd_AM: Downloading webpage\n",
      "[youtube] rzxtR-Nd_AM: Downloading video info webpage\n",
      "[youtube] rzxtR-Nd_AM: Extracting video information\n",
      "[youtube] rzxtR-Nd_AM: Downloading MPD manifest\n"
     ]
    },
    {
     "name": "stderr",
     "output_type": "stream",
     "text": [
      "WARNING: \"id\" field is not a string - forcing string conversion, there is an error in extractor\n"
     ]
    },
    {
     "name": "stdout",
     "output_type": "stream",
     "text": [
      "[download] Destination: songs/rzxtR-Nd_AM.m4a\n",
      "[download] 100% of 3.41MiB in 00:06\n",
      "[ffmpeg] Correcting container in \"songs/rzxtR-Nd_AM.m4a\"\n",
      "[ffmpeg] Destination: songs/rzxtR-Nd_AM.wav\n",
      "Deleting original file songs/rzxtR-Nd_AM.m4a (pass -k to keep)\n",
      "[youtube] fRNkQH4DVg8: Downloading webpage\n",
      "[youtube] fRNkQH4DVg8: Downloading video info webpage\n",
      "[youtube] fRNkQH4DVg8: Extracting video information\n",
      "[youtube] fRNkQH4DVg8: Downloading MPD manifest\n"
     ]
    },
    {
     "name": "stderr",
     "output_type": "stream",
     "text": [
      "WARNING: \"id\" field is not a string - forcing string conversion, there is an error in extractor\n"
     ]
    },
    {
     "name": "stdout",
     "output_type": "stream",
     "text": [
      "[download] Destination: songs/fRNkQH4DVg8.webm\n",
      "[download] 100% of 3.44MiB in 00:06\n",
      "[ffmpeg] Destination: songs/fRNkQH4DVg8.wav\n",
      "Deleting original file songs/fRNkQH4DVg8.webm (pass -k to keep)\n",
      "[youtube] hQxb3qPh4kg: Downloading webpage\n",
      "[youtube] hQxb3qPh4kg: Downloading video info webpage\n",
      "[youtube] hQxb3qPh4kg: Extracting video information\n",
      "[youtube] hQxb3qPh4kg: Downloading MPD manifest\n",
      "[youtube] hQxb3qPh4kg: Downloading MPD manifest\n"
     ]
    },
    {
     "name": "stderr",
     "output_type": "stream",
     "text": [
      "WARNING: \"id\" field is not a string - forcing string conversion, there is an error in extractor\n"
     ]
    },
    {
     "name": "stdout",
     "output_type": "stream",
     "text": [
      "[dashsegments] Total fragments: 5\n",
      "[download] Destination: songs/hQxb3qPh4kg.m4a\n",
      "[download] 100% of 498.33KiB in 00:02\n",
      "[ffmpeg] Correcting container in \"songs/hQxb3qPh4kg.m4a\"\n",
      "[ffmpeg] Destination: songs/hQxb3qPh4kg.wav\n",
      "Deleting original file songs/hQxb3qPh4kg.m4a (pass -k to keep)\n",
      "[youtube] bmFS4IaPH54: Downloading webpage\n",
      "[youtube] bmFS4IaPH54: Downloading video info webpage\n",
      "[youtube] bmFS4IaPH54: Extracting video information\n",
      "[youtube] bmFS4IaPH54: Downloading MPD manifest\n"
     ]
    },
    {
     "name": "stderr",
     "output_type": "stream",
     "text": [
      "WARNING: \"id\" field is not a string - forcing string conversion, there is an error in extractor\n"
     ]
    },
    {
     "name": "stdout",
     "output_type": "stream",
     "text": [
      "[download] Destination: songs/bmFS4IaPH54.m4a\n",
      "[download] 100% of 2.41MiB in 00:04\n",
      "[ffmpeg] Correcting container in \"songs/bmFS4IaPH54.m4a\"\n",
      "[ffmpeg] Destination: songs/bmFS4IaPH54.wav\n",
      "Deleting original file songs/bmFS4IaPH54.m4a (pass -k to keep)\n",
      "[youtube] JPj6oEpu7fk: Downloading webpage\n",
      "[youtube] JPj6oEpu7fk: Downloading video info webpage\n",
      "[youtube] JPj6oEpu7fk: Extracting video information\n",
      "[youtube] JPj6oEpu7fk: Downloading MPD manifest\n"
     ]
    },
    {
     "name": "stderr",
     "output_type": "stream",
     "text": [
      "WARNING: \"id\" field is not a string - forcing string conversion, there is an error in extractor\n"
     ]
    },
    {
     "name": "stdout",
     "output_type": "stream",
     "text": [
      "[download] Destination: songs/JPj6oEpu7fk.webm\n",
      "[download] 100% of 4.58MiB in 00:09\n",
      "[ffmpeg] Destination: songs/JPj6oEpu7fk.wav\n",
      "Deleting original file songs/JPj6oEpu7fk.webm (pass -k to keep)\n",
      "[youtube] YE-vStOMZQk: Downloading webpage\n",
      "[youtube] YE-vStOMZQk: Downloading video info webpage\n",
      "[youtube] YE-vStOMZQk: Extracting video information\n",
      "[youtube] YE-vStOMZQk: Downloading MPD manifest\n"
     ]
    },
    {
     "name": "stderr",
     "output_type": "stream",
     "text": [
      "WARNING: \"id\" field is not a string - forcing string conversion, there is an error in extractor\n"
     ]
    },
    {
     "name": "stdout",
     "output_type": "stream",
     "text": [
      "[download] Destination: songs/YE-vStOMZQk.m4a\n",
      "[download] 100% of 3.27MiB in 00:06\n",
      "[ffmpeg] Correcting container in \"songs/YE-vStOMZQk.m4a\"\n",
      "[ffmpeg] Destination: songs/YE-vStOMZQk.wav\n",
      "Deleting original file songs/YE-vStOMZQk.m4a (pass -k to keep)\n",
      "[youtube] rr8YuYuvdHM: Downloading webpage\n",
      "[youtube] rr8YuYuvdHM: Downloading video info webpage\n",
      "[youtube] rr8YuYuvdHM: Extracting video information\n",
      "[youtube] rr8YuYuvdHM: Downloading MPD manifest\n"
     ]
    },
    {
     "name": "stderr",
     "output_type": "stream",
     "text": [
      "WARNING: \"id\" field is not a string - forcing string conversion, there is an error in extractor\n"
     ]
    },
    {
     "name": "stdout",
     "output_type": "stream",
     "text": [
      "[download] Destination: songs/rr8YuYuvdHM.webm\n",
      "[download] 100% of 5.79MiB in 00:11\n",
      "[ffmpeg] Destination: songs/rr8YuYuvdHM.wav\n",
      "Deleting original file songs/rr8YuYuvdHM.webm (pass -k to keep)\n",
      "[youtube] Hp8EUa1zsq4: Downloading webpage\n",
      "[youtube] Hp8EUa1zsq4: Downloading video info webpage\n",
      "[youtube] Hp8EUa1zsq4: Extracting video information\n",
      "[youtube] Hp8EUa1zsq4: Downloading MPD manifest\n"
     ]
    },
    {
     "name": "stderr",
     "output_type": "stream",
     "text": [
      "WARNING: \"id\" field is not a string - forcing string conversion, there is an error in extractor\n"
     ]
    },
    {
     "name": "stdout",
     "output_type": "stream",
     "text": [
      "[download] Destination: songs/Hp8EUa1zsq4.webm\n",
      "[download] 100% of 5.23MiB in 00:10\n",
      "[ffmpeg] Destination: songs/Hp8EUa1zsq4.wav\n",
      "Deleting original file songs/Hp8EUa1zsq4.webm (pass -k to keep)\n",
      "[youtube] N8jS6jk8QlU: Downloading webpage\n",
      "[youtube] N8jS6jk8QlU: Downloading video info webpage\n",
      "[youtube] N8jS6jk8QlU: Extracting video information\n",
      "[youtube] N8jS6jk8QlU: Downloading MPD manifest\n"
     ]
    },
    {
     "name": "stderr",
     "output_type": "stream",
     "text": [
      "WARNING: \"id\" field is not a string - forcing string conversion, there is an error in extractor\n"
     ]
    },
    {
     "name": "stdout",
     "output_type": "stream",
     "text": [
      "[download] Destination: songs/N8jS6jk8QlU.webm\n",
      "[download] 100% of 6.04MiB in 00:12\n",
      "[ffmpeg] Destination: songs/N8jS6jk8QlU.wav\n",
      "Deleting original file songs/N8jS6jk8QlU.webm (pass -k to keep)\n",
      "[youtube] Lp7F0wE1LJI: Downloading webpage\n",
      "[youtube] Lp7F0wE1LJI: Downloading video info webpage\n",
      "[youtube] Lp7F0wE1LJI: Extracting video information\n",
      "[youtube] Lp7F0wE1LJI: Downloading MPD manifest\n"
     ]
    },
    {
     "name": "stderr",
     "output_type": "stream",
     "text": [
      "WARNING: \"id\" field is not a string - forcing string conversion, there is an error in extractor\n"
     ]
    },
    {
     "name": "stdout",
     "output_type": "stream",
     "text": [
      "[download] Destination: songs/Lp7F0wE1LJI.m4a\n",
      "[download] 100% of 2.98MiB in 00:05\n",
      "[ffmpeg] Correcting container in \"songs/Lp7F0wE1LJI.m4a\"\n",
      "[ffmpeg] Destination: songs/Lp7F0wE1LJI.wav\n",
      "Deleting original file songs/Lp7F0wE1LJI.m4a (pass -k to keep)\n",
      "[youtube] 1e80XYAYUCk: Downloading webpage\n",
      "[youtube] 1e80XYAYUCk: Downloading video info webpage\n",
      "[youtube] 1e80XYAYUCk: Extracting video information\n",
      "[youtube] 1e80XYAYUCk: Downloading MPD manifest\n"
     ]
    },
    {
     "name": "stderr",
     "output_type": "stream",
     "text": [
      "WARNING: \"id\" field is not a string - forcing string conversion, there is an error in extractor\n"
     ]
    },
    {
     "name": "stdout",
     "output_type": "stream",
     "text": [
      "[download] Destination: songs/1e80XYAYUCk.m4a\n",
      "[download] 100% of 3.06MiB in 00:06\n",
      "[ffmpeg] Correcting container in \"songs/1e80XYAYUCk.m4a\"\n",
      "[ffmpeg] Destination: songs/1e80XYAYUCk.wav\n",
      "Deleting original file songs/1e80XYAYUCk.m4a (pass -k to keep)\n",
      "[youtube] qAihnA_b32s: Downloading webpage\n",
      "[youtube] qAihnA_b32s: Downloading video info webpage\n",
      "[youtube] qAihnA_b32s: Extracting video information\n",
      "[youtube] qAihnA_b32s: Downloading MPD manifest\n"
     ]
    },
    {
     "name": "stderr",
     "output_type": "stream",
     "text": [
      "WARNING: \"id\" field is not a string - forcing string conversion, there is an error in extractor\n"
     ]
    },
    {
     "name": "stdout",
     "output_type": "stream",
     "text": [
      "[download] Destination: songs/qAihnA_b32s.m4a\n",
      "[download] 100% of 3.01MiB in 00:05\n",
      "[ffmpeg] Correcting container in \"songs/qAihnA_b32s.m4a\"\n",
      "[ffmpeg] Destination: songs/qAihnA_b32s.wav\n",
      "Deleting original file songs/qAihnA_b32s.m4a (pass -k to keep)\n",
      "[youtube] z9Dr3seO4Tw: Downloading webpage\n",
      "[youtube] z9Dr3seO4Tw: Downloading video info webpage\n",
      "[youtube] z9Dr3seO4Tw: Extracting video information\n",
      "[youtube] z9Dr3seO4Tw: Downloading MPD manifest\n",
      "[youtube] z9Dr3seO4Tw: Downloading MPD manifest\n"
     ]
    },
    {
     "name": "stderr",
     "output_type": "stream",
     "text": [
      "WARNING: \"id\" field is not a string - forcing string conversion, there is an error in extractor\n"
     ]
    },
    {
     "name": "stdout",
     "output_type": "stream",
     "text": [
      "[dashsegments] Total fragments: 23\n",
      "[download] Destination: songs/z9Dr3seO4Tw.m4a\n",
      "[download] 100% of 3.29MiB in 00:11\n",
      "[ffmpeg] Correcting container in \"songs/z9Dr3seO4Tw.m4a\"\n",
      "[ffmpeg] Destination: songs/z9Dr3seO4Tw.wav\n",
      "Deleting original file songs/z9Dr3seO4Tw.m4a (pass -k to keep)\n",
      "[youtube] jhNOcyp-iuE: Downloading webpage\n",
      "[youtube] jhNOcyp-iuE: Downloading video info webpage\n",
      "[youtube] jhNOcyp-iuE: Extracting video information\n",
      "[youtube] jhNOcyp-iuE: Downloading MPD manifest\n"
     ]
    },
    {
     "name": "stderr",
     "output_type": "stream",
     "text": [
      "WARNING: \"id\" field is not a string - forcing string conversion, there is an error in extractor\n"
     ]
    },
    {
     "name": "stdout",
     "output_type": "stream",
     "text": [
      "[download] Destination: songs/jhNOcyp-iuE.webm\n",
      "[download] 100% of 2.91MiB in 00:05\n",
      "[ffmpeg] Destination: songs/jhNOcyp-iuE.wav\n",
      "Deleting original file songs/jhNOcyp-iuE.webm (pass -k to keep)\n",
      "[youtube] PuJrr84dqio: Downloading webpage\n",
      "[youtube] PuJrr84dqio: Downloading video info webpage\n"
     ]
    },
    {
     "name": "stderr",
     "output_type": "stream",
     "text": [
      "ERROR: PuJrr84dqio: YouTube said: This video contains content from [Merlin] Playground Music Scandinavia, who has blocked it on copyright grounds.\n"
     ]
    },
    {
     "name": "stdout",
     "output_type": "stream",
     "text": [
      "[youtube] 6s5jAiZ04Dg: Downloading webpage\n",
      "[youtube] 6s5jAiZ04Dg: Downloading video info webpage\n",
      "[youtube] 6s5jAiZ04Dg: Extracting video information\n",
      "[youtube] 6s5jAiZ04Dg: Downloading MPD manifest\n"
     ]
    },
    {
     "name": "stderr",
     "output_type": "stream",
     "text": [
      "WARNING: \"id\" field is not a string - forcing string conversion, there is an error in extractor\n"
     ]
    },
    {
     "name": "stdout",
     "output_type": "stream",
     "text": [
      "[download] Destination: songs/6s5jAiZ04Dg.webm\n",
      "[download] 100% of 4.46MiB in 00:08\n",
      "[ffmpeg] Destination: songs/6s5jAiZ04Dg.wav\n",
      "Deleting original file songs/6s5jAiZ04Dg.webm (pass -k to keep)\n",
      "[youtube] 5rXBNqVbC6g: Downloading webpage\n",
      "[youtube] 5rXBNqVbC6g: Downloading video info webpage\n",
      "[youtube] 5rXBNqVbC6g: Extracting video information\n",
      "[youtube] 5rXBNqVbC6g: Downloading MPD manifest\n"
     ]
    },
    {
     "name": "stderr",
     "output_type": "stream",
     "text": [
      "WARNING: \"id\" field is not a string - forcing string conversion, there is an error in extractor\n"
     ]
    },
    {
     "name": "stdout",
     "output_type": "stream",
     "text": [
      "[download] Destination: songs/5rXBNqVbC6g.webm\n",
      "[download] 100% of 3.35MiB in 00:06\n",
      "[ffmpeg] Destination: songs/5rXBNqVbC6g.wav\n",
      "Deleting original file songs/5rXBNqVbC6g.webm (pass -k to keep)\n",
      "[youtube] Upt9ItfIUO4: Downloading webpage\n",
      "[youtube] Upt9ItfIUO4: Downloading video info webpage\n",
      "[youtube] Upt9ItfIUO4: Extracting video information\n",
      "[youtube] Upt9ItfIUO4: Downloading MPD manifest\n"
     ]
    },
    {
     "name": "stderr",
     "output_type": "stream",
     "text": [
      "WARNING: \"id\" field is not a string - forcing string conversion, there is an error in extractor\n"
     ]
    },
    {
     "name": "stdout",
     "output_type": "stream",
     "text": [
      "[download] Destination: songs/Upt9ItfIUO4.webm\n",
      "[download] 100% of 3.62MiB in 00:11\n",
      "[ffmpeg] Destination: songs/Upt9ItfIUO4.wav\n",
      "Deleting original file songs/Upt9ItfIUO4.webm (pass -k to keep)\n",
      "[youtube] QEB8-74S144: Downloading webpage\n",
      "[youtube] QEB8-74S144: Downloading video info webpage\n",
      "[youtube] QEB8-74S144: Extracting video information\n",
      "[youtube] QEB8-74S144: Downloading MPD manifest\n"
     ]
    },
    {
     "name": "stderr",
     "output_type": "stream",
     "text": [
      "WARNING: \"id\" field is not a string - forcing string conversion, there is an error in extractor\n"
     ]
    },
    {
     "name": "stdout",
     "output_type": "stream",
     "text": [
      "[download] Destination: songs/QEB8-74S144.webm\n",
      "[download] 100% of 4.16MiB in 00:08\n",
      "[ffmpeg] Destination: songs/QEB8-74S144.wav\n",
      "Deleting original file songs/QEB8-74S144.webm (pass -k to keep)\n",
      "[youtube] qrauOMwqk6Y: Downloading webpage\n",
      "[youtube] qrauOMwqk6Y: Downloading video info webpage\n",
      "[youtube] qrauOMwqk6Y: Extracting video information\n",
      "[youtube] qrauOMwqk6Y: Downloading MPD manifest\n"
     ]
    },
    {
     "name": "stderr",
     "output_type": "stream",
     "text": [
      "WARNING: \"id\" field is not a string - forcing string conversion, there is an error in extractor\n"
     ]
    },
    {
     "name": "stdout",
     "output_type": "stream",
     "text": [
      "[download] Destination: songs/qrauOMwqk6Y.webm\n",
      "[download] 100% of 4.03MiB in 00:07\n",
      "[ffmpeg] Destination: songs/qrauOMwqk6Y.wav\n",
      "Deleting original file songs/qrauOMwqk6Y.webm (pass -k to keep)\n",
      "[youtube] U_2PVixcKFs: Downloading webpage\n",
      "[youtube] U_2PVixcKFs: Downloading video info webpage\n",
      "[youtube] U_2PVixcKFs: Extracting video information\n",
      "[youtube] U_2PVixcKFs: Downloading MPD manifest\n"
     ]
    },
    {
     "name": "stderr",
     "output_type": "stream",
     "text": [
      "WARNING: \"id\" field is not a string - forcing string conversion, there is an error in extractor\n"
     ]
    },
    {
     "name": "stdout",
     "output_type": "stream",
     "text": [
      "[download] Destination: songs/U_2PVixcKFs.m4a\n",
      "[download] 100% of 3.49MiB in 00:06\n",
      "[ffmpeg] Correcting container in \"songs/U_2PVixcKFs.m4a\"\n",
      "[ffmpeg] Destination: songs/U_2PVixcKFs.wav\n",
      "Deleting original file songs/U_2PVixcKFs.m4a (pass -k to keep)\n",
      "[youtube] gGCVUS1AbYk: Downloading webpage\n",
      "[youtube] gGCVUS1AbYk: Downloading video info webpage\n",
      "[youtube] gGCVUS1AbYk: Extracting video information\n",
      "[youtube] gGCVUS1AbYk: Downloading MPD manifest\n"
     ]
    },
    {
     "name": "stderr",
     "output_type": "stream",
     "text": [
      "WARNING: \"id\" field is not a string - forcing string conversion, there is an error in extractor\n"
     ]
    },
    {
     "name": "stdout",
     "output_type": "stream",
     "text": [
      "[download] Destination: songs/gGCVUS1AbYk.webm\n",
      "[download] 100% of 2.47MiB in 00:04\n",
      "[ffmpeg] Destination: songs/gGCVUS1AbYk.wav\n",
      "Deleting original file songs/gGCVUS1AbYk.webm (pass -k to keep)\n",
      "[youtube] VAqwXEwCtgg: Downloading webpage\n",
      "[youtube] VAqwXEwCtgg: Downloading video info webpage\n",
      "[youtube] VAqwXEwCtgg: Extracting video information\n",
      "[youtube] VAqwXEwCtgg: Downloading MPD manifest\n",
      "[youtube] VAqwXEwCtgg: Downloading MPD manifest\n"
     ]
    },
    {
     "name": "stderr",
     "output_type": "stream",
     "text": [
      "WARNING: \"id\" field is not a string - forcing string conversion, there is an error in extractor\n"
     ]
    },
    {
     "name": "stdout",
     "output_type": "stream",
     "text": [
      "[dashsegments] Total fragments: 6\n",
      "[download] Destination: songs/VAqwXEwCtgg.m4a\n",
      "[download] 100% of 520.73KiB in 00:02\n",
      "[ffmpeg] Correcting container in \"songs/VAqwXEwCtgg.m4a\"\n",
      "[ffmpeg] Destination: songs/VAqwXEwCtgg.wav\n",
      "Deleting original file songs/VAqwXEwCtgg.m4a (pass -k to keep)\n",
      "[youtube] JI-o25K6B-E: Downloading webpage\n",
      "[youtube] JI-o25K6B-E: Downloading video info webpage\n",
      "[youtube] JI-o25K6B-E: Extracting video information\n",
      "[youtube] JI-o25K6B-E: Downloading MPD manifest\n"
     ]
    },
    {
     "name": "stderr",
     "output_type": "stream",
     "text": [
      "WARNING: \"id\" field is not a string - forcing string conversion, there is an error in extractor\n"
     ]
    },
    {
     "name": "stdout",
     "output_type": "stream",
     "text": [
      "[download] Destination: songs/JI-o25K6B-E.webm\n",
      "[download] 100% of 4.67MiB in 00:09\n",
      "[ffmpeg] Destination: songs/JI-o25K6B-E.wav\n",
      "Deleting original file songs/JI-o25K6B-E.webm (pass -k to keep)\n",
      "[youtube] AelQJTegK-0: Downloading webpage\n",
      "[youtube] AelQJTegK-0: Downloading video info webpage\n",
      "[youtube] AelQJTegK-0: Extracting video information\n",
      "[youtube] AelQJTegK-0: Downloading MPD manifest\n",
      "[youtube] AelQJTegK-0: Downloading MPD manifest\n"
     ]
    },
    {
     "name": "stderr",
     "output_type": "stream",
     "text": [
      "WARNING: \"id\" field is not a string - forcing string conversion, there is an error in extractor\n"
     ]
    },
    {
     "name": "stdout",
     "output_type": "stream",
     "text": [
      "[dashsegments] Total fragments: 31\n",
      "[download] Destination: songs/AelQJTegK-0.m4a\n",
      "[download] 100% of 4.44MiB in 00:14\n",
      "[ffmpeg] Correcting container in \"songs/AelQJTegK-0.m4a\"\n",
      "[ffmpeg] Destination: songs/AelQJTegK-0.wav\n",
      "Deleting original file songs/AelQJTegK-0.m4a (pass -k to keep)\n",
      "[youtube] _K_pc4LHGCg: Downloading webpage\n",
      "[youtube] _K_pc4LHGCg: Downloading video info webpage\n",
      "[youtube] _K_pc4LHGCg: Extracting video information\n",
      "[youtube] _K_pc4LHGCg: Downloading MPD manifest\n"
     ]
    },
    {
     "name": "stderr",
     "output_type": "stream",
     "text": [
      "WARNING: \"id\" field is not a string - forcing string conversion, there is an error in extractor\n"
     ]
    },
    {
     "name": "stdout",
     "output_type": "stream",
     "text": [
      "[download] Destination: songs/_K_pc4LHGCg.m4a\n",
      "[download] 100% of 3.15MiB in 00:06\n",
      "[ffmpeg] Correcting container in \"songs/_K_pc4LHGCg.m4a\"\n",
      "[ffmpeg] Destination: songs/_K_pc4LHGCg.wav\n",
      "Deleting original file songs/_K_pc4LHGCg.m4a (pass -k to keep)\n",
      "[youtube] AdEc7vMCoi4: Downloading webpage\n",
      "[youtube] AdEc7vMCoi4: Downloading video info webpage\n",
      "[youtube] AdEc7vMCoi4: Extracting video information\n",
      "[youtube] AdEc7vMCoi4: Downloading MPD manifest\n"
     ]
    },
    {
     "name": "stderr",
     "output_type": "stream",
     "text": [
      "WARNING: \"id\" field is not a string - forcing string conversion, there is an error in extractor\n"
     ]
    },
    {
     "name": "stdout",
     "output_type": "stream",
     "text": [
      "[download] Destination: songs/AdEc7vMCoi4.m4a\n",
      "[download] 100% of 2.44MiB in 00:04\n",
      "[ffmpeg] Correcting container in \"songs/AdEc7vMCoi4.m4a\"\n",
      "[ffmpeg] Destination: songs/AdEc7vMCoi4.wav\n",
      "Deleting original file songs/AdEc7vMCoi4.m4a (pass -k to keep)\n",
      "[youtube] 8BvLDgDjTcA: Downloading webpage\n",
      "[youtube] 8BvLDgDjTcA: Downloading video info webpage\n",
      "[youtube] 8BvLDgDjTcA: Extracting video information\n",
      "[youtube] 8BvLDgDjTcA: Downloading MPD manifest\n",
      "[youtube] 8BvLDgDjTcA: Downloading MPD manifest\n"
     ]
    },
    {
     "name": "stderr",
     "output_type": "stream",
     "text": [
      "WARNING: \"id\" field is not a string - forcing string conversion, there is an error in extractor\n"
     ]
    },
    {
     "name": "stdout",
     "output_type": "stream",
     "text": [
      "[dashsegments] Total fragments: 20\n",
      "[download] Destination: songs/8BvLDgDjTcA.m4a\n",
      "[download] 100% of 2.86MiB in 00:08\n",
      "[ffmpeg] Correcting container in \"songs/8BvLDgDjTcA.m4a\"\n",
      "[ffmpeg] Destination: songs/8BvLDgDjTcA.wav\n",
      "Deleting original file songs/8BvLDgDjTcA.m4a (pass -k to keep)\n",
      "[youtube] AxY3xhfxkXg: Downloading webpage\n",
      "[youtube] AxY3xhfxkXg: Downloading video info webpage\n",
      "[youtube] AxY3xhfxkXg: Extracting video information\n",
      "[youtube] AxY3xhfxkXg: Downloading MPD manifest\n"
     ]
    },
    {
     "name": "stderr",
     "output_type": "stream",
     "text": [
      "WARNING: \"id\" field is not a string - forcing string conversion, there is an error in extractor\n"
     ]
    },
    {
     "name": "stdout",
     "output_type": "stream",
     "text": [
      "[download] Destination: songs/AxY3xhfxkXg.webm\n",
      "[download] 100% of 3.49MiB in 00:06\n",
      "[ffmpeg] Destination: songs/AxY3xhfxkXg.wav\n",
      "Deleting original file songs/AxY3xhfxkXg.webm (pass -k to keep)\n",
      "[youtube] teLTvbXQZxk: Downloading webpage\n",
      "[youtube] teLTvbXQZxk: Downloading video info webpage\n",
      "[youtube] teLTvbXQZxk: Extracting video information\n",
      "[youtube] teLTvbXQZxk: Downloading MPD manifest\n"
     ]
    },
    {
     "name": "stderr",
     "output_type": "stream",
     "text": [
      "WARNING: \"id\" field is not a string - forcing string conversion, there is an error in extractor\n"
     ]
    },
    {
     "name": "stdout",
     "output_type": "stream",
     "text": [
      "[download] Destination: songs/teLTvbXQZxk.m4a\n",
      "[download] 100% of 3.32MiB in 00:06\n",
      "[ffmpeg] Correcting container in \"songs/teLTvbXQZxk.m4a\"\n",
      "[ffmpeg] Destination: songs/teLTvbXQZxk.wav\n",
      "Deleting original file songs/teLTvbXQZxk.m4a (pass -k to keep)\n",
      "[youtube] tx7FL8RQY6g: Downloading webpage\n",
      "[youtube] tx7FL8RQY6g: Downloading video info webpage\n",
      "[youtube] tx7FL8RQY6g: Extracting video information\n",
      "[youtube] tx7FL8RQY6g: Downloading MPD manifest\n"
     ]
    },
    {
     "name": "stderr",
     "output_type": "stream",
     "text": [
      "WARNING: \"id\" field is not a string - forcing string conversion, there is an error in extractor\n"
     ]
    },
    {
     "name": "stdout",
     "output_type": "stream",
     "text": [
      "[download] Destination: songs/tx7FL8RQY6g.webm\n",
      "[download] 100% of 3.10MiB in 00:06\n",
      "[ffmpeg] Destination: songs/tx7FL8RQY6g.wav\n",
      "Deleting original file songs/tx7FL8RQY6g.webm (pass -k to keep)\n",
      "[youtube] Y_f4POiGfQ4: Downloading webpage\n",
      "[youtube] Y_f4POiGfQ4: Downloading video info webpage\n",
      "[youtube] Y_f4POiGfQ4: Extracting video information\n",
      "[youtube] Y_f4POiGfQ4: Downloading MPD manifest\n"
     ]
    },
    {
     "name": "stderr",
     "output_type": "stream",
     "text": [
      "WARNING: \"id\" field is not a string - forcing string conversion, there is an error in extractor\n"
     ]
    },
    {
     "name": "stdout",
     "output_type": "stream",
     "text": [
      "[download] Destination: songs/Y_f4POiGfQ4.webm\n",
      "[download] 100% of 3.98MiB in 00:07\n",
      "[ffmpeg] Destination: songs/Y_f4POiGfQ4.wav\n",
      "Deleting original file songs/Y_f4POiGfQ4.webm (pass -k to keep)\n",
      "[youtube] J_1NaNiz1Gw: Downloading webpage\n",
      "[youtube] J_1NaNiz1Gw: Downloading video info webpage\n",
      "[youtube] J_1NaNiz1Gw: Extracting video information\n",
      "[youtube] J_1NaNiz1Gw: Downloading MPD manifest\n"
     ]
    },
    {
     "name": "stderr",
     "output_type": "stream",
     "text": [
      "WARNING: \"id\" field is not a string - forcing string conversion, there is an error in extractor\n"
     ]
    },
    {
     "name": "stdout",
     "output_type": "stream",
     "text": [
      "[download] Destination: songs/J_1NaNiz1Gw.m4a\n",
      "[download] 100% of 3.24MiB in 00:06\n",
      "[ffmpeg] Correcting container in \"songs/J_1NaNiz1Gw.m4a\"\n",
      "[ffmpeg] Destination: songs/J_1NaNiz1Gw.wav\n",
      "Deleting original file songs/J_1NaNiz1Gw.m4a (pass -k to keep)\n",
      "[youtube] 6HOgXStQJdk: Downloading webpage\n",
      "[youtube] 6HOgXStQJdk: Downloading video info webpage\n",
      "[youtube] 6HOgXStQJdk: Extracting video information\n",
      "[youtube] 6HOgXStQJdk: Downloading MPD manifest\n"
     ]
    },
    {
     "name": "stderr",
     "output_type": "stream",
     "text": [
      "WARNING: \"id\" field is not a string - forcing string conversion, there is an error in extractor\n"
     ]
    },
    {
     "name": "stdout",
     "output_type": "stream",
     "text": [
      "[download] Destination: songs/6HOgXStQJdk.m4a\n",
      "[download] 100% of 1.58MiB in 00:03\n",
      "[ffmpeg] Correcting container in \"songs/6HOgXStQJdk.m4a\"\n",
      "[ffmpeg] Destination: songs/6HOgXStQJdk.wav\n",
      "Deleting original file songs/6HOgXStQJdk.m4a (pass -k to keep)\n",
      "[youtube] II0FdLhJNzo: Downloading webpage\n",
      "[youtube] II0FdLhJNzo: Downloading video info webpage\n",
      "[youtube] II0FdLhJNzo: Extracting video information\n",
      "[youtube] II0FdLhJNzo: Downloading MPD manifest\n"
     ]
    },
    {
     "name": "stderr",
     "output_type": "stream",
     "text": [
      "WARNING: \"id\" field is not a string - forcing string conversion, there is an error in extractor\n"
     ]
    },
    {
     "name": "stdout",
     "output_type": "stream",
     "text": [
      "[download] Destination: songs/II0FdLhJNzo.webm\n",
      "[download] 100% of 4.20MiB in 00:08\n",
      "[ffmpeg] Destination: songs/II0FdLhJNzo.wav\n",
      "Deleting original file songs/II0FdLhJNzo.webm (pass -k to keep)\n",
      "[youtube] 19wmSdxbY-k: Downloading webpage\n",
      "[youtube] 19wmSdxbY-k: Downloading video info webpage\n",
      "[youtube] 19wmSdxbY-k: Extracting video information\n",
      "[youtube] 19wmSdxbY-k: Downloading MPD manifest\n"
     ]
    },
    {
     "name": "stderr",
     "output_type": "stream",
     "text": [
      "WARNING: \"id\" field is not a string - forcing string conversion, there is an error in extractor\n"
     ]
    },
    {
     "name": "stdout",
     "output_type": "stream",
     "text": [
      "[download] Destination: songs/19wmSdxbY-k.m4a\n",
      "[download] 100% of 2.36MiB in 00:04\n",
      "[ffmpeg] Correcting container in \"songs/19wmSdxbY-k.m4a\"\n",
      "[ffmpeg] Destination: songs/19wmSdxbY-k.wav\n",
      "Deleting original file songs/19wmSdxbY-k.m4a (pass -k to keep)\n",
      "[youtube] N1U8y3a3C-c: Downloading webpage\n",
      "[youtube] N1U8y3a3C-c: Downloading video info webpage\n",
      "[youtube] N1U8y3a3C-c: Extracting video information\n",
      "[youtube] N1U8y3a3C-c: Downloading MPD manifest\n"
     ]
    },
    {
     "name": "stderr",
     "output_type": "stream",
     "text": [
      "WARNING: \"id\" field is not a string - forcing string conversion, there is an error in extractor\n"
     ]
    },
    {
     "name": "stdout",
     "output_type": "stream",
     "text": [
      "[download] Destination: songs/N1U8y3a3C-c.webm\n",
      "[download] 100% of 3.32MiB in 00:06\n",
      "[ffmpeg] Destination: songs/N1U8y3a3C-c.wav\n",
      "Deleting original file songs/N1U8y3a3C-c.webm (pass -k to keep)\n",
      "[youtube] e3upRwFrrFM: Downloading webpage\n",
      "[youtube] e3upRwFrrFM: Downloading video info webpage\n",
      "[youtube] e3upRwFrrFM: Extracting video information\n",
      "[youtube] e3upRwFrrFM: Downloading MPD manifest\n"
     ]
    },
    {
     "name": "stderr",
     "output_type": "stream",
     "text": [
      "WARNING: \"id\" field is not a string - forcing string conversion, there is an error in extractor\n"
     ]
    },
    {
     "name": "stdout",
     "output_type": "stream",
     "text": [
      "[download] Destination: songs/e3upRwFrrFM.webm\n",
      "[download] 100% of 7.01MiB in 00:14\n",
      "[ffmpeg] Destination: songs/e3upRwFrrFM.wav\n",
      "Deleting original file songs/e3upRwFrrFM.webm (pass -k to keep)\n",
      "[youtube] G5IDkk1Das8: Downloading webpage\n",
      "[youtube] G5IDkk1Das8: Downloading video info webpage\n",
      "[youtube] G5IDkk1Das8: Extracting video information\n",
      "[youtube] G5IDkk1Das8: Downloading MPD manifest\n"
     ]
    },
    {
     "name": "stderr",
     "output_type": "stream",
     "text": [
      "WARNING: \"id\" field is not a string - forcing string conversion, there is an error in extractor\n"
     ]
    },
    {
     "name": "stdout",
     "output_type": "stream",
     "text": [
      "[download] Destination: songs/G5IDkk1Das8.webm\n",
      "[download] 100% of 4.45MiB in 00:08\n",
      "[ffmpeg] Destination: songs/G5IDkk1Das8.wav\n",
      "Deleting original file songs/G5IDkk1Das8.webm (pass -k to keep)\n",
      "[youtube] 3_ihd_udB54: Downloading webpage\n",
      "[youtube] 3_ihd_udB54: Downloading video info webpage\n",
      "[youtube] 3_ihd_udB54: Extracting video information\n",
      "[youtube] 3_ihd_udB54: Downloading MPD manifest\n"
     ]
    },
    {
     "name": "stderr",
     "output_type": "stream",
     "text": [
      "WARNING: \"id\" field is not a string - forcing string conversion, there is an error in extractor\n"
     ]
    },
    {
     "name": "stdout",
     "output_type": "stream",
     "text": [
      "[download] Destination: songs/3_ihd_udB54.webm\n",
      "[download] 100% of 2.41MiB in 00:04\n",
      "[ffmpeg] Destination: songs/3_ihd_udB54.wav\n",
      "Deleting original file songs/3_ihd_udB54.webm (pass -k to keep)\n",
      "[youtube] XVCu-aeqcGg: Downloading webpage\n",
      "[youtube] XVCu-aeqcGg: Downloading video info webpage\n",
      "[youtube] XVCu-aeqcGg: Extracting video information\n",
      "[youtube] XVCu-aeqcGg: Downloading MPD manifest\n"
     ]
    },
    {
     "name": "stderr",
     "output_type": "stream",
     "text": [
      "WARNING: \"id\" field is not a string - forcing string conversion, there is an error in extractor\n"
     ]
    },
    {
     "name": "stdout",
     "output_type": "stream",
     "text": [
      "[download] Destination: songs/XVCu-aeqcGg.webm\n",
      "[download] 100% of 3.30MiB in 00:06\n",
      "[ffmpeg] Destination: songs/XVCu-aeqcGg.wav\n",
      "Deleting original file songs/XVCu-aeqcGg.webm (pass -k to keep)\n",
      "[youtube] EAbl7JGgvbE: Downloading webpage\n",
      "[youtube] EAbl7JGgvbE: Downloading video info webpage\n",
      "[youtube] EAbl7JGgvbE: Extracting video information\n",
      "[youtube] EAbl7JGgvbE: Downloading MPD manifest\n",
      "[youtube] EAbl7JGgvbE: Downloading MPD manifest\n"
     ]
    },
    {
     "name": "stderr",
     "output_type": "stream",
     "text": [
      "WARNING: \"id\" field is not a string - forcing string conversion, there is an error in extractor\n"
     ]
    },
    {
     "name": "stdout",
     "output_type": "stream",
     "text": [
      "[dashsegments] Total fragments: 5\n",
      "[download] Destination: songs/EAbl7JGgvbE.m4a\n",
      "[download] 100% of 463.15KiB in 00:02\n",
      "[ffmpeg] Correcting container in \"songs/EAbl7JGgvbE.m4a\"\n",
      "[ffmpeg] Destination: songs/EAbl7JGgvbE.wav\n",
      "Deleting original file songs/EAbl7JGgvbE.m4a (pass -k to keep)\n",
      "[youtube] mweiHcQraFQ: Downloading webpage\n",
      "[youtube] mweiHcQraFQ: Downloading video info webpage\n",
      "[youtube] mweiHcQraFQ: Extracting video information\n",
      "[youtube] mweiHcQraFQ: Downloading MPD manifest\n"
     ]
    },
    {
     "name": "stderr",
     "output_type": "stream",
     "text": [
      "WARNING: \"id\" field is not a string - forcing string conversion, there is an error in extractor\n"
     ]
    },
    {
     "name": "stdout",
     "output_type": "stream",
     "text": [
      "[download] Destination: songs/mweiHcQraFQ.webm\n",
      "[download] 100% of 3.32MiB in 00:07\n",
      "[ffmpeg] Destination: songs/mweiHcQraFQ.wav\n",
      "Deleting original file songs/mweiHcQraFQ.webm (pass -k to keep)\n",
      "[youtube] ZBc1aS39dpQ: Downloading webpage\n",
      "[youtube] ZBc1aS39dpQ: Downloading video info webpage\n",
      "[youtube] ZBc1aS39dpQ: Extracting video information\n",
      "[youtube] ZBc1aS39dpQ: Downloading MPD manifest\n"
     ]
    },
    {
     "name": "stderr",
     "output_type": "stream",
     "text": [
      "WARNING: \"id\" field is not a string - forcing string conversion, there is an error in extractor\n"
     ]
    },
    {
     "name": "stdout",
     "output_type": "stream",
     "text": [
      "[download] Destination: songs/ZBc1aS39dpQ.webm\n",
      "[download] 100% of 2.05MiB in 00:04\n",
      "[ffmpeg] Destination: songs/ZBc1aS39dpQ.wav\n",
      "Deleting original file songs/ZBc1aS39dpQ.webm (pass -k to keep)\n",
      "[youtube] aZbxZdfj3h8: Downloading webpage\n",
      "[youtube] aZbxZdfj3h8: Downloading video info webpage\n",
      "[youtube] aZbxZdfj3h8: Extracting video information\n",
      "[youtube] aZbxZdfj3h8: Downloading MPD manifest\n"
     ]
    },
    {
     "name": "stderr",
     "output_type": "stream",
     "text": [
      "WARNING: \"id\" field is not a string - forcing string conversion, there is an error in extractor\n"
     ]
    },
    {
     "name": "stdout",
     "output_type": "stream",
     "text": [
      "[download] Destination: songs/aZbxZdfj3h8.webm\n",
      "[download] 100% of 4.29MiB in 00:08\n",
      "[ffmpeg] Destination: songs/aZbxZdfj3h8.wav\n",
      "Deleting original file songs/aZbxZdfj3h8.webm (pass -k to keep)\n",
      "[youtube] qMM3BVB2OD8: Downloading webpage\n",
      "[youtube] qMM3BVB2OD8: Downloading video info webpage\n",
      "[youtube] qMM3BVB2OD8: Extracting video information\n",
      "[youtube] qMM3BVB2OD8: Downloading MPD manifest\n"
     ]
    },
    {
     "name": "stderr",
     "output_type": "stream",
     "text": [
      "WARNING: \"id\" field is not a string - forcing string conversion, there is an error in extractor\n"
     ]
    },
    {
     "name": "stdout",
     "output_type": "stream",
     "text": [
      "[download] Destination: songs/qMM3BVB2OD8.webm\n",
      "[download] 100% of 3.64MiB in 00:07\n",
      "[ffmpeg] Destination: songs/qMM3BVB2OD8.wav\n",
      "Deleting original file songs/qMM3BVB2OD8.webm (pass -k to keep)\n",
      "[youtube] ReJbdAGmjBc: Downloading webpage\n",
      "[youtube] ReJbdAGmjBc: Downloading video info webpage\n",
      "[youtube] ReJbdAGmjBc: Extracting video information\n",
      "[youtube] ReJbdAGmjBc: Downloading MPD manifest\n"
     ]
    },
    {
     "name": "stderr",
     "output_type": "stream",
     "text": [
      "WARNING: \"id\" field is not a string - forcing string conversion, there is an error in extractor\n"
     ]
    },
    {
     "name": "stdout",
     "output_type": "stream",
     "text": [
      "[download] Destination: songs/ReJbdAGmjBc.m4a\n",
      "[download] 100% of 3.28MiB in 00:06\n",
      "[ffmpeg] Correcting container in \"songs/ReJbdAGmjBc.m4a\"\n",
      "[ffmpeg] Destination: songs/ReJbdAGmjBc.wav\n",
      "Deleting original file songs/ReJbdAGmjBc.m4a (pass -k to keep)\n",
      "[youtube] vUPFhgfWTzg: Downloading webpage\n",
      "[youtube] vUPFhgfWTzg: Downloading video info webpage\n",
      "[youtube] vUPFhgfWTzg: Extracting video information\n",
      "[youtube] vUPFhgfWTzg: Downloading MPD manifest\n"
     ]
    },
    {
     "name": "stderr",
     "output_type": "stream",
     "text": [
      "WARNING: \"id\" field is not a string - forcing string conversion, there is an error in extractor\n"
     ]
    },
    {
     "name": "stdout",
     "output_type": "stream",
     "text": [
      "[download] Destination: songs/vUPFhgfWTzg.webm\n",
      "[download] 100% of 3.84MiB in 00:07\n",
      "[ffmpeg] Destination: songs/vUPFhgfWTzg.wav\n",
      "Deleting original file songs/vUPFhgfWTzg.webm (pass -k to keep)\n",
      "[youtube] _bfYKQNzg2U: Downloading webpage\n",
      "[youtube] _bfYKQNzg2U: Downloading video info webpage\n",
      "[youtube] _bfYKQNzg2U: Extracting video information\n",
      "[youtube] _bfYKQNzg2U: Downloading MPD manifest\n"
     ]
    },
    {
     "name": "stderr",
     "output_type": "stream",
     "text": [
      "WARNING: \"id\" field is not a string - forcing string conversion, there is an error in extractor\n"
     ]
    },
    {
     "name": "stdout",
     "output_type": "stream",
     "text": [
      "[download] Destination: songs/_bfYKQNzg2U.webm\n",
      "[download] 100% of 3.93MiB in 00:07\n",
      "[ffmpeg] Destination: songs/_bfYKQNzg2U.wav\n",
      "Deleting original file songs/_bfYKQNzg2U.webm (pass -k to keep)\n",
      "[youtube] mlA06HIE7SY: Downloading webpage\n",
      "[youtube] mlA06HIE7SY: Downloading video info webpage\n",
      "[youtube] mlA06HIE7SY: Extracting video information\n",
      "[youtube] mlA06HIE7SY: Downloading MPD manifest\n"
     ]
    },
    {
     "name": "stderr",
     "output_type": "stream",
     "text": [
      "WARNING: \"id\" field is not a string - forcing string conversion, there is an error in extractor\n"
     ]
    },
    {
     "name": "stdout",
     "output_type": "stream",
     "text": [
      "[download] Destination: songs/mlA06HIE7SY.webm\n",
      "[download] 100% of 3.74MiB in 00:07\n",
      "[ffmpeg] Destination: songs/mlA06HIE7SY.wav\n",
      "Deleting original file songs/mlA06HIE7SY.webm (pass -k to keep)\n",
      "[youtube] KeXErYP3x4I: Downloading webpage\n",
      "[youtube] KeXErYP3x4I: Downloading video info webpage\n",
      "[youtube] KeXErYP3x4I: Extracting video information\n",
      "[youtube] KeXErYP3x4I: Downloading MPD manifest\n"
     ]
    },
    {
     "name": "stderr",
     "output_type": "stream",
     "text": [
      "WARNING: \"id\" field is not a string - forcing string conversion, there is an error in extractor\n"
     ]
    },
    {
     "name": "stdout",
     "output_type": "stream",
     "text": [
      "[download] Destination: songs/KeXErYP3x4I.webm\n",
      "[download] 100% of 2.71MiB in 00:05\n",
      "[ffmpeg] Destination: songs/KeXErYP3x4I.wav\n",
      "Deleting original file songs/KeXErYP3x4I.webm (pass -k to keep)\n",
      "[youtube] 9_GV50Kqnqc: Downloading webpage\n",
      "[youtube] 9_GV50Kqnqc: Downloading video info webpage\n",
      "[youtube] 9_GV50Kqnqc: Extracting video information\n",
      "[youtube] 9_GV50Kqnqc: Downloading MPD manifest\n"
     ]
    },
    {
     "name": "stderr",
     "output_type": "stream",
     "text": [
      "WARNING: \"id\" field is not a string - forcing string conversion, there is an error in extractor\n"
     ]
    },
    {
     "name": "stdout",
     "output_type": "stream",
     "text": [
      "[download] Destination: songs/9_GV50Kqnqc.m4a\n",
      "[download] 100% of 5.08MiB in 00:10\n",
      "[ffmpeg] Correcting container in \"songs/9_GV50Kqnqc.m4a\"\n",
      "[ffmpeg] Destination: songs/9_GV50Kqnqc.wav\n",
      "Deleting original file songs/9_GV50Kqnqc.m4a (pass -k to keep)\n",
      "[youtube] 4YwNOras7sM: Downloading webpage\n",
      "[youtube] 4YwNOras7sM: Downloading video info webpage\n",
      "[youtube] 4YwNOras7sM: Extracting video information\n",
      "[youtube] 4YwNOras7sM: Downloading MPD manifest\n"
     ]
    },
    {
     "name": "stderr",
     "output_type": "stream",
     "text": [
      "WARNING: \"id\" field is not a string - forcing string conversion, there is an error in extractor\n"
     ]
    },
    {
     "name": "stdout",
     "output_type": "stream",
     "text": [
      "[download] Destination: songs/4YwNOras7sM.webm\n",
      "[download] 100% of 2.69MiB in 00:05\n",
      "[ffmpeg] Destination: songs/4YwNOras7sM.wav\n",
      "Deleting original file songs/4YwNOras7sM.webm (pass -k to keep)\n",
      "[youtube] J45WVZaH2PU: Downloading webpage\n",
      "[youtube] J45WVZaH2PU: Downloading video info webpage\n",
      "[youtube] J45WVZaH2PU: Extracting video information\n",
      "[youtube] J45WVZaH2PU: Downloading MPD manifest\n"
     ]
    },
    {
     "name": "stderr",
     "output_type": "stream",
     "text": [
      "WARNING: \"id\" field is not a string - forcing string conversion, there is an error in extractor\n"
     ]
    },
    {
     "name": "stdout",
     "output_type": "stream",
     "text": [
      "[download] Destination: songs/J45WVZaH2PU.webm\n",
      "[download] 100% of 2.65MiB in 00:05\n",
      "[ffmpeg] Destination: songs/J45WVZaH2PU.wav\n",
      "Deleting original file songs/J45WVZaH2PU.webm (pass -k to keep)\n",
      "[youtube] 39Nmr1TjdwY: Downloading webpage\n",
      "[youtube] 39Nmr1TjdwY: Downloading video info webpage\n",
      "[youtube] 39Nmr1TjdwY: Extracting video information\n",
      "[youtube] 39Nmr1TjdwY: Downloading MPD manifest\n"
     ]
    },
    {
     "name": "stderr",
     "output_type": "stream",
     "text": [
      "WARNING: \"id\" field is not a string - forcing string conversion, there is an error in extractor\n"
     ]
    },
    {
     "name": "stdout",
     "output_type": "stream",
     "text": [
      "[download] Destination: songs/39Nmr1TjdwY.webm\n",
      "[download] 100% of 6.99MiB in 00:14\n",
      "[ffmpeg] Destination: songs/39Nmr1TjdwY.wav\n",
      "Deleting original file songs/39Nmr1TjdwY.webm (pass -k to keep)\n",
      "[youtube] J8YI5vscyPE: Downloading webpage\n",
      "[youtube] J8YI5vscyPE: Downloading video info webpage\n",
      "[youtube] J8YI5vscyPE: Extracting video information\n",
      "[youtube] J8YI5vscyPE: Downloading MPD manifest\n"
     ]
    },
    {
     "name": "stderr",
     "output_type": "stream",
     "text": [
      "WARNING: \"id\" field is not a string - forcing string conversion, there is an error in extractor\n"
     ]
    },
    {
     "name": "stdout",
     "output_type": "stream",
     "text": [
      "[download] Destination: songs/J8YI5vscyPE.webm\n",
      "[download] 100% of 7.60MiB in 00:15\n",
      "[ffmpeg] Destination: songs/J8YI5vscyPE.wav\n",
      "Deleting original file songs/J8YI5vscyPE.webm (pass -k to keep)\n",
      "[youtube] yFUmDbrKgok: Downloading webpage\n",
      "[youtube] yFUmDbrKgok: Downloading video info webpage\n",
      "[youtube] yFUmDbrKgok: Extracting video information\n",
      "[youtube] yFUmDbrKgok: Downloading MPD manifest\n",
      "[youtube] yFUmDbrKgok: Downloading MPD manifest\n"
     ]
    },
    {
     "name": "stderr",
     "output_type": "stream",
     "text": [
      "WARNING: \"id\" field is not a string - forcing string conversion, there is an error in extractor\n"
     ]
    },
    {
     "name": "stdout",
     "output_type": "stream",
     "text": [
      "[dashsegments] Total fragments: 22\n",
      "[download] Destination: songs/yFUmDbrKgok.m4a\n",
      "[download] 100% of 3.17MiB in 00:10\n",
      "[ffmpeg] Correcting container in \"songs/yFUmDbrKgok.m4a\"\n",
      "[ffmpeg] Destination: songs/yFUmDbrKgok.wav\n",
      "Deleting original file songs/yFUmDbrKgok.m4a (pass -k to keep)\n",
      "[youtube] MSxXOgmQcfI: Downloading webpage\n",
      "[youtube] MSxXOgmQcfI: Downloading video info webpage\n",
      "[youtube] MSxXOgmQcfI: Extracting video information\n",
      "[youtube] MSxXOgmQcfI: Downloading MPD manifest\n"
     ]
    },
    {
     "name": "stderr",
     "output_type": "stream",
     "text": [
      "WARNING: \"id\" field is not a string - forcing string conversion, there is an error in extractor\n"
     ]
    },
    {
     "name": "stdout",
     "output_type": "stream",
     "text": [
      "[download] Destination: songs/MSxXOgmQcfI.m4a\n",
      "[download] 100% of 3.14MiB in 00:06\n",
      "[ffmpeg] Correcting container in \"songs/MSxXOgmQcfI.m4a\"\n",
      "[ffmpeg] Destination: songs/MSxXOgmQcfI.wav\n",
      "Deleting original file songs/MSxXOgmQcfI.m4a (pass -k to keep)\n",
      "[youtube] WnTNqGwcGac: Downloading webpage\n",
      "[youtube] WnTNqGwcGac: Downloading video info webpage\n",
      "[youtube] WnTNqGwcGac: Extracting video information\n",
      "[youtube] WnTNqGwcGac: Downloading MPD manifest\n",
      "[youtube] WnTNqGwcGac: Downloading MPD manifest\n"
     ]
    },
    {
     "name": "stderr",
     "output_type": "stream",
     "text": [
      "WARNING: \"id\" field is not a string - forcing string conversion, there is an error in extractor\n"
     ]
    },
    {
     "name": "stdout",
     "output_type": "stream",
     "text": [
      "[dashsegments] Total fragments: 38\n",
      "[download] Destination: songs/WnTNqGwcGac.m4a\n",
      "[download] 100% of 5.59MiB in 00:19\n",
      "[ffmpeg] Correcting container in \"songs/WnTNqGwcGac.m4a\"\n",
      "[ffmpeg] Destination: songs/WnTNqGwcGac.wav\n",
      "Deleting original file songs/WnTNqGwcGac.m4a (pass -k to keep)\n",
      "[youtube] hAUNKgGrlNM: Downloading webpage\n",
      "[youtube] hAUNKgGrlNM: Downloading video info webpage\n",
      "[youtube] hAUNKgGrlNM: Extracting video information\n",
      "[youtube] hAUNKgGrlNM: Downloading MPD manifest\n",
      "[youtube] hAUNKgGrlNM: Downloading MPD manifest\n"
     ]
    },
    {
     "name": "stderr",
     "output_type": "stream",
     "text": [
      "WARNING: \"id\" field is not a string - forcing string conversion, there is an error in extractor\n"
     ]
    },
    {
     "name": "stdout",
     "output_type": "stream",
     "text": [
      "[dashsegments] Total fragments: 26\n",
      "[download] Destination: songs/hAUNKgGrlNM.m4a\n",
      "[download] 100% of 3.76MiB in 00:12\n",
      "[ffmpeg] Correcting container in \"songs/hAUNKgGrlNM.m4a\"\n",
      "[ffmpeg] Destination: songs/hAUNKgGrlNM.wav\n",
      "Deleting original file songs/hAUNKgGrlNM.m4a (pass -k to keep)\n",
      "[youtube] S3yVyubh5w8: Downloading webpage\n",
      "[youtube] S3yVyubh5w8: Downloading video info webpage\n",
      "[youtube] S3yVyubh5w8: Extracting video information\n",
      "[youtube] S3yVyubh5w8: Downloading MPD manifest\n"
     ]
    },
    {
     "name": "stderr",
     "output_type": "stream",
     "text": [
      "WARNING: \"id\" field is not a string - forcing string conversion, there is an error in extractor\n"
     ]
    },
    {
     "name": "stdout",
     "output_type": "stream",
     "text": [
      "[download] Destination: songs/S3yVyubh5w8.webm\n",
      "[download] 100% of 4.83MiB in 00:09\n",
      "[ffmpeg] Destination: songs/S3yVyubh5w8.wav\n",
      "Deleting original file songs/S3yVyubh5w8.webm (pass -k to keep)\n",
      "[youtube] pA_SSAxJozE: Downloading webpage\n",
      "[youtube] pA_SSAxJozE: Downloading video info webpage\n",
      "[youtube] pA_SSAxJozE: Extracting video information\n",
      "[youtube] pA_SSAxJozE: Downloading MPD manifest\n"
     ]
    },
    {
     "name": "stderr",
     "output_type": "stream",
     "text": [
      "WARNING: \"id\" field is not a string - forcing string conversion, there is an error in extractor\n"
     ]
    },
    {
     "name": "stdout",
     "output_type": "stream",
     "text": [
      "[download] Destination: songs/pA_SSAxJozE.m4a\n",
      "[download] 100% of 2.72MiB in 00:05\n",
      "[ffmpeg] Correcting container in \"songs/pA_SSAxJozE.m4a\"\n",
      "[ffmpeg] Destination: songs/pA_SSAxJozE.wav\n",
      "Deleting original file songs/pA_SSAxJozE.m4a (pass -k to keep)\n",
      "[youtube] LlQYfDBmVC8: Downloading webpage\n",
      "[youtube] LlQYfDBmVC8: Downloading video info webpage\n",
      "[youtube] LlQYfDBmVC8: Extracting video information\n",
      "[youtube] LlQYfDBmVC8: Downloading MPD manifest\n",
      "[youtube] LlQYfDBmVC8: Downloading MPD manifest\n"
     ]
    },
    {
     "name": "stderr",
     "output_type": "stream",
     "text": [
      "WARNING: \"id\" field is not a string - forcing string conversion, there is an error in extractor\n"
     ]
    },
    {
     "name": "stdout",
     "output_type": "stream",
     "text": [
      "[dashsegments] Total fragments: 28\n",
      "[download] Destination: songs/LlQYfDBmVC8.m4a\n",
      "[download] 100% of 4.00MiB in 00:13\n",
      "[ffmpeg] Correcting container in \"songs/LlQYfDBmVC8.m4a\"\n",
      "[ffmpeg] Destination: songs/LlQYfDBmVC8.wav\n",
      "Deleting original file songs/LlQYfDBmVC8.m4a (pass -k to keep)\n",
      "[youtube] iMi7CPsJgZQ: Downloading webpage\n",
      "[youtube] iMi7CPsJgZQ: Downloading video info webpage\n",
      "[youtube] iMi7CPsJgZQ: Extracting video information\n",
      "[youtube] iMi7CPsJgZQ: Downloading MPD manifest\n"
     ]
    },
    {
     "name": "stderr",
     "output_type": "stream",
     "text": [
      "WARNING: \"id\" field is not a string - forcing string conversion, there is an error in extractor\n"
     ]
    },
    {
     "name": "stdout",
     "output_type": "stream",
     "text": [
      "[download] Destination: songs/iMi7CPsJgZQ.m4a\n",
      "[download] 100% of 3.61MiB in 00:07\n",
      "[ffmpeg] Correcting container in \"songs/iMi7CPsJgZQ.m4a\"\n",
      "[ffmpeg] Destination: songs/iMi7CPsJgZQ.wav\n",
      "Deleting original file songs/iMi7CPsJgZQ.m4a (pass -k to keep)\n",
      "[youtube] stivdLaAUDI: Downloading webpage\n",
      "[youtube] stivdLaAUDI: Downloading video info webpage\n",
      "[youtube] stivdLaAUDI: Extracting video information\n",
      "[youtube] stivdLaAUDI: Downloading MPD manifest\n",
      "[youtube] stivdLaAUDI: Downloading MPD manifest\n"
     ]
    },
    {
     "name": "stderr",
     "output_type": "stream",
     "text": [
      "WARNING: \"id\" field is not a string - forcing string conversion, there is an error in extractor\n"
     ]
    },
    {
     "name": "stdout",
     "output_type": "stream",
     "text": [
      "[dashsegments] Total fragments: 28\n",
      "[download] Destination: songs/stivdLaAUDI.m4a\n",
      "[download] 100% of 4.03MiB in 00:12\n",
      "[ffmpeg] Correcting container in \"songs/stivdLaAUDI.m4a\"\n",
      "[ffmpeg] Destination: songs/stivdLaAUDI.wav\n",
      "Deleting original file songs/stivdLaAUDI.m4a (pass -k to keep)\n",
      "[youtube] iYU17Lu096A: Downloading webpage\n",
      "[youtube] iYU17Lu096A: Downloading video info webpage\n",
      "[youtube] iYU17Lu096A: Extracting video information\n",
      "[youtube] iYU17Lu096A: Downloading MPD manifest\n"
     ]
    },
    {
     "name": "stderr",
     "output_type": "stream",
     "text": [
      "WARNING: \"id\" field is not a string - forcing string conversion, there is an error in extractor\n"
     ]
    },
    {
     "name": "stdout",
     "output_type": "stream",
     "text": [
      "[download] Destination: songs/iYU17Lu096A.webm\n",
      "[download] 100% of 3.69MiB in 00:07\n",
      "[ffmpeg] Destination: songs/iYU17Lu096A.wav\n",
      "Deleting original file songs/iYU17Lu096A.webm (pass -k to keep)\n",
      "[youtube] A8lc3izhWE0: Downloading webpage\n",
      "[youtube] A8lc3izhWE0: Downloading video info webpage\n",
      "[youtube] A8lc3izhWE0: Extracting video information\n",
      "[youtube] A8lc3izhWE0: Downloading MPD manifest\n"
     ]
    },
    {
     "name": "stderr",
     "output_type": "stream",
     "text": [
      "WARNING: \"id\" field is not a string - forcing string conversion, there is an error in extractor\n"
     ]
    },
    {
     "name": "stdout",
     "output_type": "stream",
     "text": [
      "[download] Destination: songs/A8lc3izhWE0.webm\n",
      "[download] 100% of 2.03MiB in 00:04\n",
      "[ffmpeg] Destination: songs/A8lc3izhWE0.wav\n",
      "Deleting original file songs/A8lc3izhWE0.webm (pass -k to keep)\n",
      "[youtube] 18FClLOmTsY: Downloading webpage\n",
      "[youtube] 18FClLOmTsY: Downloading video info webpage\n",
      "[youtube] 18FClLOmTsY: Extracting video information\n",
      "[youtube] 18FClLOmTsY: Downloading MPD manifest\n"
     ]
    },
    {
     "name": "stderr",
     "output_type": "stream",
     "text": [
      "WARNING: \"id\" field is not a string - forcing string conversion, there is an error in extractor\n"
     ]
    },
    {
     "name": "stdout",
     "output_type": "stream",
     "text": [
      "[download] Destination: songs/18FClLOmTsY.webm\n",
      "[download] 100% of 2.47MiB in 00:04\n",
      "[ffmpeg] Destination: songs/18FClLOmTsY.wav\n",
      "Deleting original file songs/18FClLOmTsY.webm (pass -k to keep)\n",
      "[youtube] PbtO0j8e9qE: Downloading webpage\n",
      "[youtube] PbtO0j8e9qE: Downloading video info webpage\n",
      "[youtube] PbtO0j8e9qE: Extracting video information\n",
      "[youtube] PbtO0j8e9qE: Downloading MPD manifest\n"
     ]
    },
    {
     "name": "stderr",
     "output_type": "stream",
     "text": [
      "WARNING: \"id\" field is not a string - forcing string conversion, there is an error in extractor\n"
     ]
    },
    {
     "name": "stdout",
     "output_type": "stream",
     "text": [
      "[download] Destination: songs/PbtO0j8e9qE.m4a\n",
      "[download] 100% of 1.53MiB in 00:03\n",
      "[ffmpeg] Correcting container in \"songs/PbtO0j8e9qE.m4a\"\n",
      "[ffmpeg] Destination: songs/PbtO0j8e9qE.wav\n",
      "Deleting original file songs/PbtO0j8e9qE.m4a (pass -k to keep)\n",
      "[youtube] OOzzuwCZWFE: Downloading webpage\n",
      "[youtube] OOzzuwCZWFE: Downloading video info webpage\n"
     ]
    },
    {
     "name": "stderr",
     "output_type": "stream",
     "text": [
      "ERROR: OOzzuwCZWFE: YouTube said: This video contains content from SME, who has blocked it in your country on copyright grounds.\n"
     ]
    },
    {
     "name": "stdout",
     "output_type": "stream",
     "text": [
      "[youtube] 0H1eKVbOW5U: Downloading webpage\n",
      "[youtube] 0H1eKVbOW5U: Downloading video info webpage\n",
      "[youtube] 0H1eKVbOW5U: Extracting video information\n",
      "[youtube] 0H1eKVbOW5U: Downloading MPD manifest\n"
     ]
    },
    {
     "name": "stderr",
     "output_type": "stream",
     "text": [
      "WARNING: \"id\" field is not a string - forcing string conversion, there is an error in extractor\n"
     ]
    },
    {
     "name": "stdout",
     "output_type": "stream",
     "text": [
      "[download] Destination: songs/0H1eKVbOW5U.m4a\n",
      "[download] 100% of 4.05MiB in 00:07\n",
      "[ffmpeg] Correcting container in \"songs/0H1eKVbOW5U.m4a\"\n",
      "[ffmpeg] Destination: songs/0H1eKVbOW5U.wav\n",
      "Deleting original file songs/0H1eKVbOW5U.m4a (pass -k to keep)\n",
      "[youtube] 8AQ-RzRG0Bs: Downloading webpage\n",
      "[youtube] 8AQ-RzRG0Bs: Downloading video info webpage\n",
      "[youtube] 8AQ-RzRG0Bs: Extracting video information\n",
      "[youtube] 8AQ-RzRG0Bs: Downloading MPD manifest\n"
     ]
    },
    {
     "name": "stderr",
     "output_type": "stream",
     "text": [
      "WARNING: \"id\" field is not a string - forcing string conversion, there is an error in extractor\n"
     ]
    },
    {
     "name": "stdout",
     "output_type": "stream",
     "text": [
      "[download] Destination: songs/8AQ-RzRG0Bs.m4a\n",
      "[download] 100% of 2.59MiB in 00:05\n",
      "[ffmpeg] Correcting container in \"songs/8AQ-RzRG0Bs.m4a\"\n",
      "[ffmpeg] Destination: songs/8AQ-RzRG0Bs.wav\n",
      "Deleting original file songs/8AQ-RzRG0Bs.m4a (pass -k to keep)\n",
      "[youtube] wHS26LcIR6w: Downloading webpage\n",
      "[youtube] wHS26LcIR6w: Downloading video info webpage\n",
      "[youtube] wHS26LcIR6w: Extracting video information\n",
      "[youtube] wHS26LcIR6w: Downloading MPD manifest\n"
     ]
    },
    {
     "name": "stderr",
     "output_type": "stream",
     "text": [
      "WARNING: \"id\" field is not a string - forcing string conversion, there is an error in extractor\n"
     ]
    },
    {
     "name": "stdout",
     "output_type": "stream",
     "text": [
      "[download] Destination: songs/wHS26LcIR6w.webm\n",
      "[download] 100% of 3.39MiB in 00:06\n",
      "[ffmpeg] Destination: songs/wHS26LcIR6w.wav\n",
      "Deleting original file songs/wHS26LcIR6w.webm (pass -k to keep)\n",
      "[youtube] YTJccwkMQCY: Downloading webpage\n",
      "[youtube] YTJccwkMQCY: Downloading video info webpage\n",
      "[youtube] YTJccwkMQCY: Extracting video information\n",
      "[youtube] YTJccwkMQCY: Downloading MPD manifest\n",
      "[youtube] YTJccwkMQCY: Downloading MPD manifest\n"
     ]
    },
    {
     "name": "stderr",
     "output_type": "stream",
     "text": [
      "WARNING: \"id\" field is not a string - forcing string conversion, there is an error in extractor\n"
     ]
    },
    {
     "name": "stdout",
     "output_type": "stream",
     "text": [
      "[dashsegments] Total fragments: 9\n",
      "[download] Destination: songs/YTJccwkMQCY.m4a\n",
      "[download] 100% of 1.07MiB in 00:04\n",
      "[ffmpeg] Correcting container in \"songs/YTJccwkMQCY.m4a\"\n",
      "[ffmpeg] Destination: songs/YTJccwkMQCY.wav\n",
      "Deleting original file songs/YTJccwkMQCY.m4a (pass -k to keep)\n",
      "[youtube] _BdwO1oxnMY: Downloading webpage\n",
      "[youtube] _BdwO1oxnMY: Downloading video info webpage\n",
      "[youtube] _BdwO1oxnMY: Extracting video information\n",
      "[youtube] _BdwO1oxnMY: Downloading MPD manifest\n"
     ]
    },
    {
     "name": "stderr",
     "output_type": "stream",
     "text": [
      "WARNING: \"id\" field is not a string - forcing string conversion, there is an error in extractor\n"
     ]
    },
    {
     "name": "stdout",
     "output_type": "stream",
     "text": [
      "[download] Destination: songs/_BdwO1oxnMY.webm\n",
      "[download] 100% of 2.30MiB in 00:04\n",
      "[ffmpeg] Destination: songs/_BdwO1oxnMY.wav\n",
      "Deleting original file songs/_BdwO1oxnMY.webm (pass -k to keep)\n",
      "[youtube] GbDn3xCZ75o: Downloading webpage\n",
      "[youtube] GbDn3xCZ75o: Downloading video info webpage\n",
      "[youtube] GbDn3xCZ75o: Extracting video information\n",
      "[youtube] GbDn3xCZ75o: Downloading MPD manifest\n"
     ]
    },
    {
     "name": "stderr",
     "output_type": "stream",
     "text": [
      "WARNING: \"id\" field is not a string - forcing string conversion, there is an error in extractor\n"
     ]
    },
    {
     "name": "stdout",
     "output_type": "stream",
     "text": [
      "[download] Destination: songs/GbDn3xCZ75o.webm\n",
      "[download] 100% of 4.44MiB in 00:08\n",
      "[ffmpeg] Destination: songs/GbDn3xCZ75o.wav\n",
      "Deleting original file songs/GbDn3xCZ75o.webm (pass -k to keep)\n",
      "[youtube] 20y_RhUq9C0: Downloading webpage\n",
      "[youtube] 20y_RhUq9C0: Downloading video info webpage\n",
      "[youtube] 20y_RhUq9C0: Extracting video information\n",
      "[youtube] 20y_RhUq9C0: Downloading MPD manifest\n"
     ]
    },
    {
     "name": "stderr",
     "output_type": "stream",
     "text": [
      "WARNING: \"id\" field is not a string - forcing string conversion, there is an error in extractor\n"
     ]
    },
    {
     "name": "stdout",
     "output_type": "stream",
     "text": [
      "[download] Destination: songs/20y_RhUq9C0.webm\n",
      "[download] 100% of 2.93MiB in 00:10\n",
      "[ffmpeg] Destination: songs/20y_RhUq9C0.wav\n",
      "Deleting original file songs/20y_RhUq9C0.webm (pass -k to keep)\n",
      "[youtube] bdhxgWo6LNs: Downloading webpage\n",
      "[youtube] bdhxgWo6LNs: Downloading video info webpage\n",
      "[youtube] bdhxgWo6LNs: Extracting video information\n",
      "[youtube] bdhxgWo6LNs: Downloading MPD manifest\n"
     ]
    },
    {
     "name": "stderr",
     "output_type": "stream",
     "text": [
      "WARNING: \"id\" field is not a string - forcing string conversion, there is an error in extractor\n"
     ]
    },
    {
     "name": "stdout",
     "output_type": "stream",
     "text": [
      "[download] Destination: songs/bdhxgWo6LNs.m4a\n",
      "[download] 100% of 3.60MiB in 00:07\n",
      "[ffmpeg] Correcting container in \"songs/bdhxgWo6LNs.m4a\"\n",
      "[ffmpeg] Destination: songs/bdhxgWo6LNs.wav\n",
      "Deleting original file songs/bdhxgWo6LNs.m4a (pass -k to keep)\n",
      "[youtube] 1J4mgQc06LM: Downloading webpage\n",
      "[youtube] 1J4mgQc06LM: Downloading video info webpage\n",
      "[youtube] 1J4mgQc06LM: Extracting video information\n",
      "[youtube] 1J4mgQc06LM: Downloading MPD manifest\n"
     ]
    },
    {
     "name": "stderr",
     "output_type": "stream",
     "text": [
      "WARNING: \"id\" field is not a string - forcing string conversion, there is an error in extractor\n"
     ]
    },
    {
     "name": "stdout",
     "output_type": "stream",
     "text": [
      "[download] Destination: songs/1J4mgQc06LM.webm\n",
      "[download] 100% of 771.97KiB in 00:01\n",
      "[ffmpeg] Destination: songs/1J4mgQc06LM.wav\n",
      "Deleting original file songs/1J4mgQc06LM.webm (pass -k to keep)\n",
      "[youtube] dU-fSZak4oo: Downloading webpage\n",
      "[youtube] dU-fSZak4oo: Downloading video info webpage\n",
      "[youtube] dU-fSZak4oo: Extracting video information\n",
      "[youtube] dU-fSZak4oo: Downloading MPD manifest\n"
     ]
    },
    {
     "name": "stderr",
     "output_type": "stream",
     "text": [
      "WARNING: \"id\" field is not a string - forcing string conversion, there is an error in extractor\n"
     ]
    },
    {
     "name": "stdout",
     "output_type": "stream",
     "text": [
      "[download] Destination: songs/dU-fSZak4oo.m4a\n",
      "[download] 100% of 170.95KiB in 00:00\n",
      "[ffmpeg] Correcting container in \"songs/dU-fSZak4oo.m4a\"\n",
      "[ffmpeg] Destination: songs/dU-fSZak4oo.wav\n",
      "Deleting original file songs/dU-fSZak4oo.m4a (pass -k to keep)\n",
      "[youtube] 4QVKwJRoZ9M: Downloading webpage\n",
      "[youtube] 4QVKwJRoZ9M: Downloading video info webpage\n",
      "[youtube] 4QVKwJRoZ9M: Extracting video information\n",
      "[youtube] 4QVKwJRoZ9M: Downloading MPD manifest\n"
     ]
    },
    {
     "name": "stderr",
     "output_type": "stream",
     "text": [
      "WARNING: \"id\" field is not a string - forcing string conversion, there is an error in extractor\n"
     ]
    },
    {
     "name": "stdout",
     "output_type": "stream",
     "text": [
      "[download] Destination: songs/4QVKwJRoZ9M.m4a\n",
      "[download] 100% of 2.49MiB in 00:04\n",
      "[ffmpeg] Correcting container in \"songs/4QVKwJRoZ9M.m4a\"\n",
      "[ffmpeg] Destination: songs/4QVKwJRoZ9M.wav\n",
      "Deleting original file songs/4QVKwJRoZ9M.m4a (pass -k to keep)\n",
      "[youtube] pqYlOx_F1cQ: Downloading webpage\n",
      "[youtube] pqYlOx_F1cQ: Downloading video info webpage\n",
      "[youtube] pqYlOx_F1cQ: Extracting video information\n",
      "[youtube] pqYlOx_F1cQ: Downloading MPD manifest\n"
     ]
    },
    {
     "name": "stderr",
     "output_type": "stream",
     "text": [
      "WARNING: \"id\" field is not a string - forcing string conversion, there is an error in extractor\n"
     ]
    },
    {
     "name": "stdout",
     "output_type": "stream",
     "text": [
      "[download] Destination: songs/pqYlOx_F1cQ.webm\n",
      "[download] 100% of 2.49MiB in 00:04\n",
      "[ffmpeg] Destination: songs/pqYlOx_F1cQ.wav\n",
      "Deleting original file songs/pqYlOx_F1cQ.webm (pass -k to keep)\n",
      "[youtube] g6CyRx_zI_w: Downloading webpage\n",
      "[youtube] g6CyRx_zI_w: Downloading video info webpage\n",
      "[youtube] g6CyRx_zI_w: Extracting video information\n",
      "[youtube] g6CyRx_zI_w: Downloading MPD manifest\n"
     ]
    },
    {
     "name": "stderr",
     "output_type": "stream",
     "text": [
      "WARNING: \"id\" field is not a string - forcing string conversion, there is an error in extractor\n"
     ]
    },
    {
     "name": "stdout",
     "output_type": "stream",
     "text": [
      "[download] Destination: songs/g6CyRx_zI_w.webm\n",
      "[download] 100% of 3.52MiB in 00:06\n",
      "[ffmpeg] Destination: songs/g6CyRx_zI_w.wav\n",
      "Deleting original file songs/g6CyRx_zI_w.webm (pass -k to keep)\n",
      "[youtube] b983oR5xJc8: Downloading webpage\n",
      "[youtube] b983oR5xJc8: Downloading video info webpage\n",
      "[youtube] b983oR5xJc8: Extracting video information\n",
      "[youtube] b983oR5xJc8: Downloading MPD manifest\n",
      "[youtube] b983oR5xJc8: Downloading MPD manifest\n"
     ]
    },
    {
     "name": "stderr",
     "output_type": "stream",
     "text": [
      "WARNING: \"id\" field is not a string - forcing string conversion, there is an error in extractor\n"
     ]
    },
    {
     "name": "stdout",
     "output_type": "stream",
     "text": [
      "[dashsegments] Total fragments: 24\n",
      "[download] Destination: songs/b983oR5xJc8.m4a\n",
      "[download] 100% of 1.68MiB in 00:08\n",
      "[ffmpeg] Correcting container in \"songs/b983oR5xJc8.m4a\"\n",
      "[ffmpeg] Destination: songs/b983oR5xJc8.wav\n",
      "Deleting original file songs/b983oR5xJc8.m4a (pass -k to keep)\n",
      "[youtube] jxK4Rh3NDC4: Downloading webpage\n",
      "[youtube] jxK4Rh3NDC4: Downloading video info webpage\n",
      "[youtube] jxK4Rh3NDC4: Extracting video information\n",
      "[youtube] jxK4Rh3NDC4: Downloading MPD manifest\n"
     ]
    },
    {
     "name": "stderr",
     "output_type": "stream",
     "text": [
      "WARNING: \"id\" field is not a string - forcing string conversion, there is an error in extractor\n"
     ]
    },
    {
     "name": "stdout",
     "output_type": "stream",
     "text": [
      "[download] Destination: songs/jxK4Rh3NDC4.webm\n",
      "[download] 100% of 4.21MiB in 00:08\n",
      "[ffmpeg] Destination: songs/jxK4Rh3NDC4.wav\n",
      "Deleting original file songs/jxK4Rh3NDC4.webm (pass -k to keep)\n",
      "[youtube] 6PDmZnG8KsM: Downloading webpage\n",
      "[youtube] 6PDmZnG8KsM: Downloading video info webpage\n",
      "[youtube] 6PDmZnG8KsM: Extracting video information\n",
      "[youtube] 6PDmZnG8KsM: Downloading MPD manifest\n"
     ]
    },
    {
     "name": "stderr",
     "output_type": "stream",
     "text": [
      "WARNING: \"id\" field is not a string - forcing string conversion, there is an error in extractor\n"
     ]
    },
    {
     "name": "stdout",
     "output_type": "stream",
     "text": [
      "[download] Destination: songs/6PDmZnG8KsM.m4a\n",
      "[download] 100% of 3.79MiB in 00:07\n",
      "[ffmpeg] Correcting container in \"songs/6PDmZnG8KsM.m4a\"\n",
      "[ffmpeg] Destination: songs/6PDmZnG8KsM.wav\n",
      "Deleting original file songs/6PDmZnG8KsM.m4a (pass -k to keep)\n",
      "[youtube] BncTUzBRoCA: Downloading webpage\n",
      "[youtube] BncTUzBRoCA: Downloading video info webpage\n",
      "[youtube] BncTUzBRoCA: Extracting video information\n",
      "[youtube] BncTUzBRoCA: Downloading MPD manifest\n"
     ]
    },
    {
     "name": "stderr",
     "output_type": "stream",
     "text": [
      "WARNING: \"id\" field is not a string - forcing string conversion, there is an error in extractor\n"
     ]
    },
    {
     "name": "stdout",
     "output_type": "stream",
     "text": [
      "[download] Destination: songs/BncTUzBRoCA.webm\n",
      "[download] 100% of 3.35MiB in 00:06\n",
      "[ffmpeg] Destination: songs/BncTUzBRoCA.wav\n",
      "Deleting original file songs/BncTUzBRoCA.webm (pass -k to keep)\n",
      "[youtube] c1ffBgJ2LqM: Downloading webpage\n",
      "[youtube] c1ffBgJ2LqM: Downloading video info webpage\n",
      "[youtube] c1ffBgJ2LqM: Extracting video information\n",
      "[youtube] c1ffBgJ2LqM: Downloading MPD manifest\n"
     ]
    },
    {
     "name": "stderr",
     "output_type": "stream",
     "text": [
      "WARNING: \"id\" field is not a string - forcing string conversion, there is an error in extractor\n"
     ]
    },
    {
     "name": "stdout",
     "output_type": "stream",
     "text": [
      "[download] Destination: songs/c1ffBgJ2LqM.m4a\n",
      "[download] 100% of 3.63MiB in 00:07\n",
      "[ffmpeg] Correcting container in \"songs/c1ffBgJ2LqM.m4a\"\n",
      "[ffmpeg] Destination: songs/c1ffBgJ2LqM.wav\n",
      "Deleting original file songs/c1ffBgJ2LqM.m4a (pass -k to keep)\n",
      "[youtube] NVCRgI2Ld7U: Downloading webpage\n",
      "[youtube] NVCRgI2Ld7U: Downloading video info webpage\n",
      "[youtube] NVCRgI2Ld7U: Extracting video information\n",
      "[youtube] NVCRgI2Ld7U: Downloading MPD manifest\n"
     ]
    },
    {
     "name": "stderr",
     "output_type": "stream",
     "text": [
      "WARNING: \"id\" field is not a string - forcing string conversion, there is an error in extractor\n"
     ]
    },
    {
     "name": "stdout",
     "output_type": "stream",
     "text": [
      "[download] Destination: songs/NVCRgI2Ld7U.m4a\n",
      "[download] 100% of 2.85MiB in 00:05\n",
      "[ffmpeg] Correcting container in \"songs/NVCRgI2Ld7U.m4a\"\n",
      "[ffmpeg] Destination: songs/NVCRgI2Ld7U.wav\n",
      "Deleting original file songs/NVCRgI2Ld7U.m4a (pass -k to keep)\n",
      "[youtube] sDAYx_QAhVw: Downloading webpage\n",
      "[youtube] sDAYx_QAhVw: Downloading video info webpage\n",
      "[youtube] sDAYx_QAhVw: Extracting video information\n",
      "[youtube] sDAYx_QAhVw: Downloading MPD manifest\n"
     ]
    },
    {
     "name": "stderr",
     "output_type": "stream",
     "text": [
      "WARNING: \"id\" field is not a string - forcing string conversion, there is an error in extractor\n"
     ]
    },
    {
     "name": "stdout",
     "output_type": "stream",
     "text": [
      "[download] Destination: songs/sDAYx_QAhVw.m4a\n",
      "[download] 100% of 2.12MiB in 00:04\n",
      "[ffmpeg] Correcting container in \"songs/sDAYx_QAhVw.m4a\"\n",
      "[ffmpeg] Destination: songs/sDAYx_QAhVw.wav\n",
      "Deleting original file songs/sDAYx_QAhVw.m4a (pass -k to keep)\n",
      "[youtube] chbSKIGmBHI: Downloading webpage\n",
      "[youtube] chbSKIGmBHI: Downloading video info webpage\n",
      "[youtube] chbSKIGmBHI: Extracting video information\n",
      "[youtube] chbSKIGmBHI: Downloading MPD manifest\n"
     ]
    },
    {
     "name": "stderr",
     "output_type": "stream",
     "text": [
      "WARNING: \"id\" field is not a string - forcing string conversion, there is an error in extractor\n"
     ]
    },
    {
     "name": "stdout",
     "output_type": "stream",
     "text": [
      "[download] Destination: songs/chbSKIGmBHI.webm\n",
      "[download] 100% of 2.65MiB in 00:05\n",
      "[ffmpeg] Destination: songs/chbSKIGmBHI.wav\n",
      "Deleting original file songs/chbSKIGmBHI.webm (pass -k to keep)\n",
      "[youtube] cY6j7T4iADA: Downloading webpage\n",
      "[youtube] cY6j7T4iADA: Downloading video info webpage\n",
      "[youtube] cY6j7T4iADA: Extracting video information\n",
      "[youtube] cY6j7T4iADA: Downloading MPD manifest\n"
     ]
    },
    {
     "name": "stderr",
     "output_type": "stream",
     "text": [
      "WARNING: \"id\" field is not a string - forcing string conversion, there is an error in extractor\n"
     ]
    },
    {
     "name": "stdout",
     "output_type": "stream",
     "text": [
      "[download] Destination: songs/cY6j7T4iADA.webm\n",
      "[download] 100% of 3.44MiB in 00:06\n",
      "[ffmpeg] Destination: songs/cY6j7T4iADA.wav\n",
      "Deleting original file songs/cY6j7T4iADA.webm (pass -k to keep)\n",
      "[youtube] -Px1rfFz42I: Downloading webpage\n",
      "[youtube] -Px1rfFz42I: Downloading video info webpage\n",
      "[youtube] -Px1rfFz42I: Extracting video information\n",
      "[youtube] -Px1rfFz42I: Downloading MPD manifest\n"
     ]
    },
    {
     "name": "stderr",
     "output_type": "stream",
     "text": [
      "WARNING: \"id\" field is not a string - forcing string conversion, there is an error in extractor\n"
     ]
    },
    {
     "name": "stdout",
     "output_type": "stream",
     "text": [
      "[download] Destination: songs/-Px1rfFz42I.webm\n",
      "[download] 100% of 3.04MiB in 00:06\n",
      "[ffmpeg] Destination: songs/-Px1rfFz42I.wav\n",
      "Deleting original file songs/-Px1rfFz42I.webm (pass -k to keep)\n",
      "[youtube] ZKdc0DuQwxo: Downloading webpage\n",
      "[youtube] ZKdc0DuQwxo: Downloading video info webpage\n",
      "[youtube] ZKdc0DuQwxo: Extracting video information\n",
      "[youtube] ZKdc0DuQwxo: Downloading MPD manifest\n",
      "[youtube] ZKdc0DuQwxo: Downloading MPD manifest\n"
     ]
    },
    {
     "name": "stderr",
     "output_type": "stream",
     "text": [
      "WARNING: \"id\" field is not a string - forcing string conversion, there is an error in extractor\n"
     ]
    },
    {
     "name": "stdout",
     "output_type": "stream",
     "text": [
      "[dashsegments] Total fragments: 20\n",
      "[download] Destination: songs/ZKdc0DuQwxo.m4a\n",
      "[download] 100% of 2.76MiB in 00:09\n",
      "[ffmpeg] Correcting container in \"songs/ZKdc0DuQwxo.m4a\"\n",
      "[ffmpeg] Destination: songs/ZKdc0DuQwxo.wav\n",
      "Deleting original file songs/ZKdc0DuQwxo.m4a (pass -k to keep)\n",
      "[youtube] kSYblBKZ75Y: Downloading webpage\n",
      "[youtube] kSYblBKZ75Y: Downloading video info webpage\n",
      "[youtube] kSYblBKZ75Y: Extracting video information\n",
      "[youtube] kSYblBKZ75Y: Downloading MPD manifest\n"
     ]
    },
    {
     "name": "stderr",
     "output_type": "stream",
     "text": [
      "WARNING: \"id\" field is not a string - forcing string conversion, there is an error in extractor\n"
     ]
    },
    {
     "name": "stdout",
     "output_type": "stream",
     "text": [
      "[download] Destination: songs/kSYblBKZ75Y.m4a\n",
      "[download] 100% of 2.49MiB in 00:04\n",
      "[ffmpeg] Correcting container in \"songs/kSYblBKZ75Y.m4a\"\n",
      "[ffmpeg] Destination: songs/kSYblBKZ75Y.wav\n",
      "Deleting original file songs/kSYblBKZ75Y.m4a (pass -k to keep)\n",
      "[youtube] S2DSfaIcAp0: Downloading webpage\n",
      "[youtube] S2DSfaIcAp0: Downloading video info webpage\n",
      "[youtube] S2DSfaIcAp0: Extracting video information\n",
      "[youtube] S2DSfaIcAp0: Downloading MPD manifest\n"
     ]
    },
    {
     "name": "stderr",
     "output_type": "stream",
     "text": [
      "WARNING: \"id\" field is not a string - forcing string conversion, there is an error in extractor\n"
     ]
    },
    {
     "name": "stdout",
     "output_type": "stream",
     "text": [
      "[download] Destination: songs/S2DSfaIcAp0.webm\n",
      "[download] 100% of 4.66MiB in 00:09\n",
      "[ffmpeg] Destination: songs/S2DSfaIcAp0.wav\n",
      "Deleting original file songs/S2DSfaIcAp0.webm (pass -k to keep)\n",
      "[youtube] 1Di7DWJyF0k: Downloading webpage\n",
      "[youtube] 1Di7DWJyF0k: Downloading video info webpage\n",
      "[youtube] 1Di7DWJyF0k: Extracting video information\n",
      "[youtube] 1Di7DWJyF0k: Downloading MPD manifest\n"
     ]
    },
    {
     "name": "stderr",
     "output_type": "stream",
     "text": [
      "WARNING: \"id\" field is not a string - forcing string conversion, there is an error in extractor\n"
     ]
    },
    {
     "name": "stdout",
     "output_type": "stream",
     "text": [
      "[download] Destination: songs/1Di7DWJyF0k.webm\n",
      "[download] 100% of 3.88MiB in 00:07\n",
      "[ffmpeg] Destination: songs/1Di7DWJyF0k.wav\n",
      "Deleting original file songs/1Di7DWJyF0k.webm (pass -k to keep)\n",
      "[youtube] BsirsrtjbX8: Downloading webpage\n",
      "[youtube] BsirsrtjbX8: Downloading video info webpage\n",
      "[youtube] BsirsrtjbX8: Extracting video information\n",
      "[youtube] BsirsrtjbX8: Downloading MPD manifest\n",
      "[youtube] BsirsrtjbX8: Downloading MPD manifest\n"
     ]
    },
    {
     "name": "stderr",
     "output_type": "stream",
     "text": [
      "WARNING: \"id\" field is not a string - forcing string conversion, there is an error in extractor\n"
     ]
    },
    {
     "name": "stdout",
     "output_type": "stream",
     "text": [
      "[dashsegments] Total fragments: 21\n",
      "[download] Destination: songs/BsirsrtjbX8.m4a\n",
      "[download] 100% of 2.17MiB in 00:08\n",
      "[ffmpeg] Correcting container in \"songs/BsirsrtjbX8.m4a\"\n",
      "[ffmpeg] Destination: songs/BsirsrtjbX8.wav\n",
      "Deleting original file songs/BsirsrtjbX8.m4a (pass -k to keep)\n",
      "[youtube] JBjN7qVFcrY: Downloading webpage\n",
      "[youtube] JBjN7qVFcrY: Downloading video info webpage\n",
      "[youtube] JBjN7qVFcrY: Extracting video information\n",
      "[youtube] JBjN7qVFcrY: Downloading MPD manifest\n"
     ]
    },
    {
     "name": "stderr",
     "output_type": "stream",
     "text": [
      "WARNING: \"id\" field is not a string - forcing string conversion, there is an error in extractor\n"
     ]
    },
    {
     "name": "stdout",
     "output_type": "stream",
     "text": [
      "[download] Destination: songs/JBjN7qVFcrY.webm\n",
      "[download] 100% of 1.95MiB in 00:03\n",
      "[ffmpeg] Destination: songs/JBjN7qVFcrY.wav\n",
      "Deleting original file songs/JBjN7qVFcrY.webm (pass -k to keep)\n",
      "[youtube] RPhpJ-Exx-s: Downloading webpage\n",
      "[youtube] RPhpJ-Exx-s: Downloading video info webpage\n",
      "[youtube] RPhpJ-Exx-s: Extracting video information\n",
      "[youtube] RPhpJ-Exx-s: Downloading MPD manifest\n"
     ]
    },
    {
     "name": "stderr",
     "output_type": "stream",
     "text": [
      "WARNING: \"id\" field is not a string - forcing string conversion, there is an error in extractor\n"
     ]
    },
    {
     "name": "stdout",
     "output_type": "stream",
     "text": [
      "[download] Destination: songs/RPhpJ-Exx-s.webm\n",
      "[download] 100% of 9.46MiB in 00:18\n",
      "[ffmpeg] Destination: songs/RPhpJ-Exx-s.wav\n",
      "Deleting original file songs/RPhpJ-Exx-s.webm (pass -k to keep)\n",
      "[youtube] iSAZoQnDNkI: Downloading webpage\n",
      "[youtube] iSAZoQnDNkI: Downloading video info webpage\n",
      "[youtube] iSAZoQnDNkI: Extracting video information\n",
      "[youtube] iSAZoQnDNkI: Downloading MPD manifest\n",
      "[youtube] iSAZoQnDNkI: Downloading MPD manifest\n"
     ]
    },
    {
     "name": "stderr",
     "output_type": "stream",
     "text": [
      "WARNING: \"id\" field is not a string - forcing string conversion, there is an error in extractor\n"
     ]
    },
    {
     "name": "stdout",
     "output_type": "stream",
     "text": [
      "[dashsegments] Total fragments: 17\n",
      "[download] Destination: songs/iSAZoQnDNkI.m4a\n",
      "[download] 100% of 1.80MiB in 00:06\n",
      "[ffmpeg] Correcting container in \"songs/iSAZoQnDNkI.m4a\"\n",
      "[ffmpeg] Destination: songs/iSAZoQnDNkI.wav\n",
      "Deleting original file songs/iSAZoQnDNkI.m4a (pass -k to keep)\n",
      "[youtube] xkyJdxPr4BM: Downloading webpage\n",
      "[youtube] xkyJdxPr4BM: Downloading video info webpage\n",
      "[youtube] xkyJdxPr4BM: Extracting video information\n",
      "[youtube] xkyJdxPr4BM: Downloading MPD manifest\n"
     ]
    },
    {
     "name": "stderr",
     "output_type": "stream",
     "text": [
      "WARNING: \"id\" field is not a string - forcing string conversion, there is an error in extractor\n"
     ]
    },
    {
     "name": "stdout",
     "output_type": "stream",
     "text": [
      "[download] Destination: songs/xkyJdxPr4BM.webm\n",
      "[download] 100% of 3.90MiB in 00:08\n",
      "[ffmpeg] Destination: songs/xkyJdxPr4BM.wav\n",
      "Deleting original file songs/xkyJdxPr4BM.webm (pass -k to keep)\n",
      "[youtube] 1uKPFBr_Nqc: Downloading webpage\n",
      "[youtube] 1uKPFBr_Nqc: Downloading video info webpage\n",
      "[youtube] 1uKPFBr_Nqc: Extracting video information\n",
      "[youtube] 1uKPFBr_Nqc: Downloading MPD manifest\n"
     ]
    },
    {
     "name": "stderr",
     "output_type": "stream",
     "text": [
      "WARNING: \"id\" field is not a string - forcing string conversion, there is an error in extractor\n"
     ]
    },
    {
     "name": "stdout",
     "output_type": "stream",
     "text": [
      "[download] Destination: songs/1uKPFBr_Nqc.webm\n",
      "[download] 100% of 3.92MiB in 00:07\n",
      "[ffmpeg] Destination: songs/1uKPFBr_Nqc.wav\n",
      "Deleting original file songs/1uKPFBr_Nqc.webm (pass -k to keep)\n",
      "[youtube] 1s8QazwmSI0: Downloading webpage\n",
      "[youtube] 1s8QazwmSI0: Downloading video info webpage\n",
      "[youtube] 1s8QazwmSI0: Extracting video information\n",
      "[youtube] 1s8QazwmSI0: Downloading MPD manifest\n"
     ]
    },
    {
     "name": "stderr",
     "output_type": "stream",
     "text": [
      "WARNING: \"id\" field is not a string - forcing string conversion, there is an error in extractor\n"
     ]
    },
    {
     "name": "stdout",
     "output_type": "stream",
     "text": [
      "[download] Destination: songs/1s8QazwmSI0.webm\n",
      "[download] 100% of 3.62MiB in 00:07\n",
      "[ffmpeg] Destination: songs/1s8QazwmSI0.wav\n",
      "Deleting original file songs/1s8QazwmSI0.webm (pass -k to keep)\n",
      "[youtube] 2Y10aEKRXu8: Downloading webpage\n",
      "[youtube] 2Y10aEKRXu8: Downloading video info webpage\n",
      "[youtube] 2Y10aEKRXu8: Extracting video information\n",
      "[youtube] 2Y10aEKRXu8: Downloading MPD manifest\n"
     ]
    },
    {
     "name": "stderr",
     "output_type": "stream",
     "text": [
      "WARNING: \"id\" field is not a string - forcing string conversion, there is an error in extractor\n"
     ]
    },
    {
     "name": "stdout",
     "output_type": "stream",
     "text": [
      "[download] Destination: songs/2Y10aEKRXu8.webm\n",
      "[download] 100% of 2.45MiB in 00:04\n",
      "[ffmpeg] Destination: songs/2Y10aEKRXu8.wav\n",
      "Deleting original file songs/2Y10aEKRXu8.webm (pass -k to keep)\n",
      "[youtube] oockGqmyRHQ: Downloading webpage\n",
      "[youtube] oockGqmyRHQ: Downloading video info webpage\n",
      "[youtube] oockGqmyRHQ: Extracting video information\n",
      "[youtube] oockGqmyRHQ: Downloading MPD manifest\n"
     ]
    },
    {
     "name": "stderr",
     "output_type": "stream",
     "text": [
      "WARNING: \"id\" field is not a string - forcing string conversion, there is an error in extractor\n"
     ]
    },
    {
     "name": "stdout",
     "output_type": "stream",
     "text": [
      "[download] Destination: songs/oockGqmyRHQ.webm\n",
      "[download] 100% of 2.89MiB in 00:05\n",
      "[ffmpeg] Destination: songs/oockGqmyRHQ.wav\n",
      "Deleting original file songs/oockGqmyRHQ.webm (pass -k to keep)\n",
      "[youtube] _yUmXNnp3Oo: Downloading webpage\n",
      "[youtube] _yUmXNnp3Oo: Downloading video info webpage\n",
      "[youtube] _yUmXNnp3Oo: Extracting video information\n",
      "[youtube] _yUmXNnp3Oo: Downloading MPD manifest\n"
     ]
    },
    {
     "name": "stderr",
     "output_type": "stream",
     "text": [
      "WARNING: \"id\" field is not a string - forcing string conversion, there is an error in extractor\n"
     ]
    },
    {
     "name": "stdout",
     "output_type": "stream",
     "text": [
      "[download] Destination: songs/_yUmXNnp3Oo.webm\n",
      "[download] 100% of 4.08MiB in 00:08\n",
      "[ffmpeg] Destination: songs/_yUmXNnp3Oo.wav\n",
      "Deleting original file songs/_yUmXNnp3Oo.webm (pass -k to keep)\n",
      "[youtube] z4VlHf0lubw: Downloading webpage\n",
      "[youtube] z4VlHf0lubw: Downloading video info webpage\n",
      "[youtube] z4VlHf0lubw: Extracting video information\n",
      "[youtube] z4VlHf0lubw: Downloading MPD manifest\n"
     ]
    },
    {
     "name": "stderr",
     "output_type": "stream",
     "text": [
      "WARNING: \"id\" field is not a string - forcing string conversion, there is an error in extractor\n"
     ]
    },
    {
     "name": "stdout",
     "output_type": "stream",
     "text": [
      "[download] Destination: songs/z4VlHf0lubw.webm\n",
      "[download] 100% of 2.49MiB in 00:04\n",
      "[ffmpeg] Destination: songs/z4VlHf0lubw.wav\n",
      "Deleting original file songs/z4VlHf0lubw.webm (pass -k to keep)\n",
      "[youtube] DehtqLVmdcA: Downloading webpage\n",
      "[youtube] DehtqLVmdcA: Downloading video info webpage\n",
      "[youtube] DehtqLVmdcA: Extracting video information\n",
      "[youtube] DehtqLVmdcA: Downloading MPD manifest\n"
     ]
    },
    {
     "name": "stderr",
     "output_type": "stream",
     "text": [
      "WARNING: \"id\" field is not a string - forcing string conversion, there is an error in extractor\n"
     ]
    },
    {
     "name": "stdout",
     "output_type": "stream",
     "text": [
      "[download] Destination: songs/DehtqLVmdcA.webm\n",
      "[download] 100% of 3.41MiB in 00:06\n",
      "[ffmpeg] Destination: songs/DehtqLVmdcA.wav\n",
      "Deleting original file songs/DehtqLVmdcA.webm (pass -k to keep)\n",
      "[youtube] 69iWNqa-IBk: Downloading webpage\n",
      "[youtube] 69iWNqa-IBk: Downloading video info webpage\n",
      "[youtube] 69iWNqa-IBk: Extracting video information\n",
      "[youtube] 69iWNqa-IBk: Downloading MPD manifest\n",
      "[youtube] 69iWNqa-IBk: Downloading MPD manifest\n"
     ]
    },
    {
     "name": "stderr",
     "output_type": "stream",
     "text": [
      "WARNING: \"id\" field is not a string - forcing string conversion, there is an error in extractor\n"
     ]
    },
    {
     "name": "stdout",
     "output_type": "stream",
     "text": [
      "[dashsegments] Total fragments: 63\n",
      "[download] Destination: songs/69iWNqa-IBk.m4a\n",
      "[download] 100% of 4.62MiB in 00:21\n",
      "[ffmpeg] Correcting container in \"songs/69iWNqa-IBk.m4a\"\n",
      "[ffmpeg] Destination: songs/69iWNqa-IBk.wav\n",
      "Deleting original file songs/69iWNqa-IBk.m4a (pass -k to keep)\n",
      "[youtube] 4h11GolBkh8: Downloading webpage\n",
      "[youtube] 4h11GolBkh8: Downloading video info webpage\n",
      "[youtube] 4h11GolBkh8: Extracting video information\n",
      "[youtube] 4h11GolBkh8: Downloading MPD manifest\n"
     ]
    },
    {
     "name": "stderr",
     "output_type": "stream",
     "text": [
      "WARNING: \"id\" field is not a string - forcing string conversion, there is an error in extractor\n"
     ]
    },
    {
     "name": "stdout",
     "output_type": "stream",
     "text": [
      "[download] Destination: songs/4h11GolBkh8.webm\n",
      "[download] 100% of 3.95MiB in 00:07\n",
      "[ffmpeg] Destination: songs/4h11GolBkh8.wav\n",
      "Deleting original file songs/4h11GolBkh8.webm (pass -k to keep)\n",
      "[youtube] O1VbYoNxoUU: Downloading webpage\n",
      "[youtube] O1VbYoNxoUU: Downloading video info webpage\n",
      "[youtube] O1VbYoNxoUU: Extracting video information\n",
      "[youtube] O1VbYoNxoUU: Downloading MPD manifest\n"
     ]
    },
    {
     "name": "stderr",
     "output_type": "stream",
     "text": [
      "WARNING: \"id\" field is not a string - forcing string conversion, there is an error in extractor\n"
     ]
    },
    {
     "name": "stdout",
     "output_type": "stream",
     "text": [
      "[download] Destination: songs/O1VbYoNxoUU.webm\n",
      "[download] 100% of 4.96MiB in 00:10\n",
      "[ffmpeg] Destination: songs/O1VbYoNxoUU.wav\n",
      "Deleting original file songs/O1VbYoNxoUU.webm (pass -k to keep)\n",
      "[youtube] tWjNFC-FinU: Downloading webpage\n",
      "[youtube] tWjNFC-FinU: Downloading video info webpage\n",
      "[youtube] tWjNFC-FinU: Extracting video information\n",
      "[youtube] tWjNFC-FinU: Downloading MPD manifest\n"
     ]
    },
    {
     "name": "stderr",
     "output_type": "stream",
     "text": [
      "WARNING: \"id\" field is not a string - forcing string conversion, there is an error in extractor\n"
     ]
    },
    {
     "name": "stdout",
     "output_type": "stream",
     "text": [
      "[download] Destination: songs/tWjNFC-FinU.webm\n",
      "[download] 100% of 2.94MiB in 00:06\n",
      "[ffmpeg] Destination: songs/tWjNFC-FinU.wav\n",
      "Deleting original file songs/tWjNFC-FinU.webm (pass -k to keep)\n",
      "[youtube] PX_nBd5EHDE: Downloading webpage\n",
      "[youtube] PX_nBd5EHDE: Downloading video info webpage\n",
      "[youtube] PX_nBd5EHDE: Extracting video information\n",
      "[youtube] PX_nBd5EHDE: Downloading MPD manifest\n"
     ]
    },
    {
     "name": "stderr",
     "output_type": "stream",
     "text": [
      "WARNING: \"id\" field is not a string - forcing string conversion, there is an error in extractor\n"
     ]
    },
    {
     "name": "stdout",
     "output_type": "stream",
     "text": [
      "[download] Destination: songs/PX_nBd5EHDE.webm\n",
      "[download] 100% of 4.19MiB in 00:08\n",
      "[ffmpeg] Destination: songs/PX_nBd5EHDE.wav\n",
      "Deleting original file songs/PX_nBd5EHDE.webm (pass -k to keep)\n",
      "[youtube] iqydU66sNA4: Downloading webpage\n",
      "[youtube] iqydU66sNA4: Downloading video info webpage\n",
      "[youtube] iqydU66sNA4: Extracting video information\n",
      "[youtube] iqydU66sNA4: Downloading MPD manifest\n"
     ]
    },
    {
     "name": "stderr",
     "output_type": "stream",
     "text": [
      "WARNING: \"id\" field is not a string - forcing string conversion, there is an error in extractor\n"
     ]
    },
    {
     "name": "stdout",
     "output_type": "stream",
     "text": [
      "[download] Destination: songs/iqydU66sNA4.webm\n",
      "[download] 100% of 3.55MiB in 00:07\n",
      "[ffmpeg] Destination: songs/iqydU66sNA4.wav\n",
      "Deleting original file songs/iqydU66sNA4.webm (pass -k to keep)\n",
      "[youtube] HDAN0jsjEb4: Downloading webpage\n",
      "[youtube] HDAN0jsjEb4: Downloading video info webpage\n",
      "[youtube] HDAN0jsjEb4: Extracting video information\n",
      "[youtube] HDAN0jsjEb4: Downloading MPD manifest\n",
      "[youtube] HDAN0jsjEb4: Downloading MPD manifest\n"
     ]
    },
    {
     "name": "stderr",
     "output_type": "stream",
     "text": [
      "WARNING: \"id\" field is not a string - forcing string conversion, there is an error in extractor\n"
     ]
    },
    {
     "name": "stdout",
     "output_type": "stream",
     "text": [
      "[dashsegments] Total fragments: 29\n",
      "[download] Destination: songs/HDAN0jsjEb4.m4a\n",
      "[download] 100% of 3.16MiB in 00:12\n",
      "[ffmpeg] Correcting container in \"songs/HDAN0jsjEb4.m4a\"\n",
      "[ffmpeg] Destination: songs/HDAN0jsjEb4.wav\n",
      "Deleting original file songs/HDAN0jsjEb4.m4a (pass -k to keep)\n",
      "[youtube] vT3HrrrHzII: Downloading webpage\n",
      "[youtube] vT3HrrrHzII: Downloading video info webpage\n",
      "[youtube] vT3HrrrHzII: Extracting video information\n",
      "[youtube] vT3HrrrHzII: Downloading MPD manifest\n"
     ]
    },
    {
     "name": "stderr",
     "output_type": "stream",
     "text": [
      "WARNING: \"id\" field is not a string - forcing string conversion, there is an error in extractor\n"
     ]
    },
    {
     "name": "stdout",
     "output_type": "stream",
     "text": [
      "[download] Destination: songs/vT3HrrrHzII.webm\n",
      "[download] 100% of 3.37MiB in 00:06\n",
      "[ffmpeg] Destination: songs/vT3HrrrHzII.wav\n",
      "Deleting original file songs/vT3HrrrHzII.webm (pass -k to keep)\n",
      "[youtube] OsM-b4v1cd4: Downloading webpage\n",
      "[youtube] OsM-b4v1cd4: Downloading video info webpage\n",
      "[youtube] OsM-b4v1cd4: Extracting video information\n",
      "[youtube] OsM-b4v1cd4: Downloading MPD manifest\n"
     ]
    },
    {
     "name": "stderr",
     "output_type": "stream",
     "text": [
      "WARNING: \"id\" field is not a string - forcing string conversion, there is an error in extractor\n"
     ]
    },
    {
     "name": "stdout",
     "output_type": "stream",
     "text": [
      "[download] Destination: songs/OsM-b4v1cd4.webm\n",
      "[download] 100% of 2.98MiB in 00:05\n",
      "[ffmpeg] Destination: songs/OsM-b4v1cd4.wav\n",
      "Deleting original file songs/OsM-b4v1cd4.webm (pass -k to keep)\n",
      "[youtube] US8qym3_kiM: Downloading webpage\n",
      "[youtube] US8qym3_kiM: Downloading video info webpage\n",
      "[youtube] US8qym3_kiM: Extracting video information\n",
      "[youtube] US8qym3_kiM: Downloading MPD manifest\n"
     ]
    },
    {
     "name": "stderr",
     "output_type": "stream",
     "text": [
      "WARNING: \"id\" field is not a string - forcing string conversion, there is an error in extractor\n"
     ]
    },
    {
     "name": "stdout",
     "output_type": "stream",
     "text": [
      "[download] Destination: songs/US8qym3_kiM.webm\n",
      "[download] 100% of 3.58MiB in 00:07\n",
      "[ffmpeg] Destination: songs/US8qym3_kiM.wav\n",
      "Deleting original file songs/US8qym3_kiM.webm (pass -k to keep)\n",
      "[youtube] a5xsWpGqvEY: Downloading webpage\n",
      "[youtube] a5xsWpGqvEY: Downloading video info webpage\n",
      "[youtube] a5xsWpGqvEY: Extracting video information\n",
      "[youtube] a5xsWpGqvEY: Downloading MPD manifest\n"
     ]
    },
    {
     "name": "stderr",
     "output_type": "stream",
     "text": [
      "WARNING: \"id\" field is not a string - forcing string conversion, there is an error in extractor\n"
     ]
    },
    {
     "name": "stdout",
     "output_type": "stream",
     "text": [
      "[download] Destination: songs/a5xsWpGqvEY.m4a\n",
      "[download] 100% of 3.59MiB in 00:07\n",
      "[ffmpeg] Correcting container in \"songs/a5xsWpGqvEY.m4a\"\n",
      "[ffmpeg] Destination: songs/a5xsWpGqvEY.wav\n",
      "Deleting original file songs/a5xsWpGqvEY.m4a (pass -k to keep)\n",
      "[youtube] lSsxFxancyg: Downloading webpage\n",
      "[youtube] lSsxFxancyg: Downloading video info webpage\n",
      "[youtube] lSsxFxancyg: Extracting video information\n",
      "[youtube] lSsxFxancyg: Downloading MPD manifest\n"
     ]
    },
    {
     "name": "stderr",
     "output_type": "stream",
     "text": [
      "WARNING: \"id\" field is not a string - forcing string conversion, there is an error in extractor\n"
     ]
    },
    {
     "name": "stdout",
     "output_type": "stream",
     "text": [
      "[download] Destination: songs/lSsxFxancyg.webm\n",
      "[download] 100% of 5.36MiB in 00:10\n",
      "[ffmpeg] Destination: songs/lSsxFxancyg.wav\n",
      "Deleting original file songs/lSsxFxancyg.webm (pass -k to keep)\n",
      "[youtube] QPJmOsHuX0w: Downloading webpage\n",
      "[youtube] QPJmOsHuX0w: Downloading video info webpage\n",
      "[youtube] QPJmOsHuX0w: Extracting video information\n",
      "[youtube] QPJmOsHuX0w: Downloading MPD manifest\n"
     ]
    },
    {
     "name": "stderr",
     "output_type": "stream",
     "text": [
      "WARNING: \"id\" field is not a string - forcing string conversion, there is an error in extractor\n"
     ]
    },
    {
     "name": "stdout",
     "output_type": "stream",
     "text": [
      "[download] Destination: songs/QPJmOsHuX0w.m4a\n",
      "[download] 100% of 3.22MiB in 00:06\n",
      "[ffmpeg] Correcting container in \"songs/QPJmOsHuX0w.m4a\"\n",
      "[ffmpeg] Destination: songs/QPJmOsHuX0w.wav\n",
      "Deleting original file songs/QPJmOsHuX0w.m4a (pass -k to keep)\n",
      "[youtube] a5r1IFJBLEk: Downloading webpage\n",
      "[youtube] a5r1IFJBLEk: Downloading video info webpage\n",
      "[youtube] a5r1IFJBLEk: Extracting video information\n",
      "[youtube] a5r1IFJBLEk: Downloading MPD manifest\n"
     ]
    },
    {
     "name": "stderr",
     "output_type": "stream",
     "text": [
      "WARNING: \"id\" field is not a string - forcing string conversion, there is an error in extractor\n"
     ]
    },
    {
     "name": "stdout",
     "output_type": "stream",
     "text": [
      "[download] Destination: songs/a5r1IFJBLEk.m4a\n",
      "[download] 100% of 536.74KiB in 00:01\n",
      "[ffmpeg] Correcting container in \"songs/a5r1IFJBLEk.m4a\"\n",
      "[ffmpeg] Destination: songs/a5r1IFJBLEk.wav\n",
      "Deleting original file songs/a5r1IFJBLEk.m4a (pass -k to keep)\n",
      "[youtube] iEROv-qF29Y: Downloading webpage\n",
      "[youtube] iEROv-qF29Y: Downloading video info webpage\n",
      "[youtube] iEROv-qF29Y: Extracting video information\n",
      "[youtube] iEROv-qF29Y: Downloading MPD manifest\n"
     ]
    },
    {
     "name": "stderr",
     "output_type": "stream",
     "text": [
      "WARNING: \"id\" field is not a string - forcing string conversion, there is an error in extractor\n"
     ]
    },
    {
     "name": "stdout",
     "output_type": "stream",
     "text": [
      "[download] Destination: songs/iEROv-qF29Y.webm\n",
      "[download] 100% of 3.65MiB in 00:07\n",
      "[ffmpeg] Destination: songs/iEROv-qF29Y.wav\n",
      "Deleting original file songs/iEROv-qF29Y.webm (pass -k to keep)\n",
      "[youtube] i7sYeFqwShg: Downloading webpage\n",
      "[youtube] i7sYeFqwShg: Downloading video info webpage\n",
      "[youtube] i7sYeFqwShg: Extracting video information\n",
      "[youtube] i7sYeFqwShg: Downloading MPD manifest\n"
     ]
    },
    {
     "name": "stderr",
     "output_type": "stream",
     "text": [
      "WARNING: \"id\" field is not a string - forcing string conversion, there is an error in extractor\n"
     ]
    },
    {
     "name": "stdout",
     "output_type": "stream",
     "text": [
      "[download] Destination: songs/i7sYeFqwShg.m4a\n",
      "[download] 100% of 2.57MiB in 00:05\n",
      "[ffmpeg] Correcting container in \"songs/i7sYeFqwShg.m4a\"\n",
      "[ffmpeg] Destination: songs/i7sYeFqwShg.wav\n",
      "Deleting original file songs/i7sYeFqwShg.m4a (pass -k to keep)\n",
      "[youtube] mNzSo3cnJOc: Downloading webpage\n",
      "[youtube] mNzSo3cnJOc: Downloading video info webpage\n",
      "[youtube] mNzSo3cnJOc: Extracting video information\n",
      "[youtube] mNzSo3cnJOc: Downloading MPD manifest\n"
     ]
    },
    {
     "name": "stderr",
     "output_type": "stream",
     "text": [
      "WARNING: \"id\" field is not a string - forcing string conversion, there is an error in extractor\n"
     ]
    },
    {
     "name": "stdout",
     "output_type": "stream",
     "text": [
      "[download] Destination: songs/mNzSo3cnJOc.webm\n",
      "[download] 100% of 2.46MiB in 00:04\n",
      "[ffmpeg] Destination: songs/mNzSo3cnJOc.wav\n",
      "Deleting original file songs/mNzSo3cnJOc.webm (pass -k to keep)\n",
      "[youtube] 4rifhroClGI: Downloading webpage\n",
      "[youtube] 4rifhroClGI: Downloading video info webpage\n",
      "[youtube] 4rifhroClGI: Extracting video information\n",
      "[youtube] 4rifhroClGI: Downloading MPD manifest\n"
     ]
    },
    {
     "name": "stderr",
     "output_type": "stream",
     "text": [
      "WARNING: \"id\" field is not a string - forcing string conversion, there is an error in extractor\n"
     ]
    },
    {
     "name": "stdout",
     "output_type": "stream",
     "text": [
      "[download] Destination: songs/4rifhroClGI.m4a\n",
      "[download] 100% of 3.02MiB in 00:05\n",
      "[ffmpeg] Correcting container in \"songs/4rifhroClGI.m4a\"\n",
      "[ffmpeg] Destination: songs/4rifhroClGI.wav\n",
      "Deleting original file songs/4rifhroClGI.m4a (pass -k to keep)\n",
      "[youtube] UIpEe5TtR8A: Downloading webpage\n",
      "[youtube] UIpEe5TtR8A: Downloading video info webpage\n",
      "[youtube] UIpEe5TtR8A: Extracting video information\n",
      "[youtube] UIpEe5TtR8A: Downloading MPD manifest\n"
     ]
    },
    {
     "name": "stderr",
     "output_type": "stream",
     "text": [
      "WARNING: \"id\" field is not a string - forcing string conversion, there is an error in extractor\n"
     ]
    },
    {
     "name": "stdout",
     "output_type": "stream",
     "text": [
      "[download] Destination: songs/UIpEe5TtR8A.webm\n",
      "[download] 100% of 3.53MiB in 00:07\n",
      "[ffmpeg] Destination: songs/UIpEe5TtR8A.wav\n",
      "Deleting original file songs/UIpEe5TtR8A.webm (pass -k to keep)\n",
      "[youtube] CeqDZtfZfHw: Downloading webpage\n",
      "[youtube] CeqDZtfZfHw: Downloading video info webpage\n",
      "[youtube] CeqDZtfZfHw: Extracting video information\n",
      "[youtube] CeqDZtfZfHw: Downloading MPD manifest\n"
     ]
    },
    {
     "name": "stderr",
     "output_type": "stream",
     "text": [
      "WARNING: \"id\" field is not a string - forcing string conversion, there is an error in extractor\n"
     ]
    },
    {
     "name": "stdout",
     "output_type": "stream",
     "text": [
      "[download] Destination: songs/CeqDZtfZfHw.webm\n",
      "[download] 100% of 2.92MiB in 00:05\n",
      "[ffmpeg] Destination: songs/CeqDZtfZfHw.wav\n",
      "Deleting original file songs/CeqDZtfZfHw.webm (pass -k to keep)\n",
      "[youtube] K5rvnACCbNM: Downloading webpage\n",
      "[youtube] K5rvnACCbNM: Downloading video info webpage\n",
      "[youtube] K5rvnACCbNM: Extracting video information\n",
      "[youtube] K5rvnACCbNM: Downloading MPD manifest\n"
     ]
    },
    {
     "name": "stderr",
     "output_type": "stream",
     "text": [
      "WARNING: \"id\" field is not a string - forcing string conversion, there is an error in extractor\n"
     ]
    },
    {
     "name": "stdout",
     "output_type": "stream",
     "text": [
      "[download] Destination: songs/K5rvnACCbNM.webm\n",
      "[download] 100% of 3.34MiB in 00:06\n",
      "[ffmpeg] Destination: songs/K5rvnACCbNM.wav\n",
      "Deleting original file songs/K5rvnACCbNM.webm (pass -k to keep)\n",
      "[youtube] xhF4KcO4-TA: Downloading webpage\n",
      "[youtube] xhF4KcO4-TA: Downloading video info webpage\n",
      "[youtube] xhF4KcO4-TA: Extracting video information\n",
      "[youtube] xhF4KcO4-TA: Downloading MPD manifest\n"
     ]
    },
    {
     "name": "stderr",
     "output_type": "stream",
     "text": [
      "WARNING: \"id\" field is not a string - forcing string conversion, there is an error in extractor\n"
     ]
    },
    {
     "name": "stdout",
     "output_type": "stream",
     "text": [
      "[download] Destination: songs/xhF4KcO4-TA.webm\n",
      "[download] 100% of 2.66MiB in 00:05\n",
      "[ffmpeg] Destination: songs/xhF4KcO4-TA.wav\n",
      "Deleting original file songs/xhF4KcO4-TA.webm (pass -k to keep)\n",
      "[youtube] 4xzgYteUQdY: Downloading webpage\n",
      "[youtube] 4xzgYteUQdY: Downloading video info webpage\n",
      "[youtube] 4xzgYteUQdY: Extracting video information\n",
      "[youtube] 4xzgYteUQdY: Downloading MPD manifest\n"
     ]
    },
    {
     "name": "stderr",
     "output_type": "stream",
     "text": [
      "WARNING: \"id\" field is not a string - forcing string conversion, there is an error in extractor\n"
     ]
    },
    {
     "name": "stdout",
     "output_type": "stream",
     "text": [
      "[download] Destination: songs/4xzgYteUQdY.m4a\n",
      "[download] 100% of 3.35MiB in 00:06\n",
      "[ffmpeg] Correcting container in \"songs/4xzgYteUQdY.m4a\"\n",
      "[ffmpeg] Destination: songs/4xzgYteUQdY.wav\n",
      "Deleting original file songs/4xzgYteUQdY.m4a (pass -k to keep)\n",
      "[youtube] ubvV498pyIM: Downloading webpage\n",
      "[youtube] ubvV498pyIM: Downloading video info webpage\n",
      "[youtube] ubvV498pyIM: Extracting video information\n",
      "[youtube] ubvV498pyIM: Downloading MPD manifest\n"
     ]
    },
    {
     "name": "stderr",
     "output_type": "stream",
     "text": [
      "WARNING: \"id\" field is not a string - forcing string conversion, there is an error in extractor\n"
     ]
    },
    {
     "name": "stdout",
     "output_type": "stream",
     "text": [
      "[download] Destination: songs/ubvV498pyIM.webm\n",
      "[download] 100% of 3.59MiB in 00:07\n",
      "[ffmpeg] Destination: songs/ubvV498pyIM.wav\n",
      "Deleting original file songs/ubvV498pyIM.webm (pass -k to keep)\n",
      "[youtube] brllVhefy4A: Downloading webpage\n",
      "[youtube] brllVhefy4A: Downloading video info webpage\n",
      "[youtube] brllVhefy4A: Extracting video information\n",
      "[youtube] brllVhefy4A: Downloading MPD manifest\n"
     ]
    },
    {
     "name": "stderr",
     "output_type": "stream",
     "text": [
      "WARNING: \"id\" field is not a string - forcing string conversion, there is an error in extractor\n"
     ]
    },
    {
     "name": "stdout",
     "output_type": "stream",
     "text": [
      "[download] Destination: songs/brllVhefy4A.webm\n",
      "[download] 100% of 3.67MiB in 00:07\n",
      "[ffmpeg] Destination: songs/brllVhefy4A.wav\n",
      "Deleting original file songs/brllVhefy4A.webm (pass -k to keep)\n",
      "[youtube] byI_2gRlUdo: Downloading webpage\n",
      "[youtube] byI_2gRlUdo: Downloading video info webpage\n",
      "[youtube] byI_2gRlUdo: Extracting video information\n",
      "[youtube] byI_2gRlUdo: Downloading MPD manifest\n",
      "[youtube] byI_2gRlUdo: Downloading MPD manifest\n"
     ]
    },
    {
     "name": "stderr",
     "output_type": "stream",
     "text": [
      "WARNING: \"id\" field is not a string - forcing string conversion, there is an error in extractor\n"
     ]
    },
    {
     "name": "stdout",
     "output_type": "stream",
     "text": [
      "[dashsegments] Total fragments: 17\n",
      "[download] Destination: songs/byI_2gRlUdo.m4a\n",
      "[download] 100% of 1.80MiB in 00:07\n",
      "[ffmpeg] Correcting container in \"songs/byI_2gRlUdo.m4a\"\n",
      "[ffmpeg] Destination: songs/byI_2gRlUdo.wav\n",
      "Deleting original file songs/byI_2gRlUdo.m4a (pass -k to keep)\n",
      "[youtube] fEqHX-DGVmc: Downloading webpage\n",
      "[youtube] fEqHX-DGVmc: Downloading video info webpage\n",
      "[youtube] fEqHX-DGVmc: Extracting video information\n",
      "[youtube] fEqHX-DGVmc: Downloading MPD manifest\n"
     ]
    },
    {
     "name": "stderr",
     "output_type": "stream",
     "text": [
      "WARNING: \"id\" field is not a string - forcing string conversion, there is an error in extractor\n"
     ]
    },
    {
     "name": "stdout",
     "output_type": "stream",
     "text": [
      "[download] Destination: songs/fEqHX-DGVmc.webm\n",
      "[download] 100% of 3.61MiB in 00:07\n",
      "[ffmpeg] Destination: songs/fEqHX-DGVmc.wav\n",
      "Deleting original file songs/fEqHX-DGVmc.webm (pass -k to keep)\n",
      "[youtube] IBKX7-78zwg: Downloading webpage\n",
      "[youtube] IBKX7-78zwg: Downloading video info webpage\n",
      "[youtube] IBKX7-78zwg: Extracting video information\n",
      "[youtube] IBKX7-78zwg: Downloading MPD manifest\n"
     ]
    },
    {
     "name": "stderr",
     "output_type": "stream",
     "text": [
      "WARNING: \"id\" field is not a string - forcing string conversion, there is an error in extractor\n"
     ]
    },
    {
     "name": "stdout",
     "output_type": "stream",
     "text": [
      "[download] Destination: songs/IBKX7-78zwg.webm\n",
      "[download] 100% of 2.01MiB in 00:03\n",
      "[ffmpeg] Destination: songs/IBKX7-78zwg.wav\n",
      "Deleting original file songs/IBKX7-78zwg.webm (pass -k to keep)\n",
      "[youtube] RThEaTS3qmQ: Downloading webpage\n",
      "[youtube] RThEaTS3qmQ: Downloading video info webpage\n",
      "[youtube] RThEaTS3qmQ: Extracting video information\n",
      "[youtube] RThEaTS3qmQ: Downloading MPD manifest\n"
     ]
    },
    {
     "name": "stderr",
     "output_type": "stream",
     "text": [
      "WARNING: \"id\" field is not a string - forcing string conversion, there is an error in extractor\n"
     ]
    },
    {
     "name": "stdout",
     "output_type": "stream",
     "text": [
      "[download] Destination: songs/RThEaTS3qmQ.m4a\n",
      "[download] 100% of 2.52MiB in 00:04\n",
      "[ffmpeg] Correcting container in \"songs/RThEaTS3qmQ.m4a\"\n",
      "[ffmpeg] Destination: songs/RThEaTS3qmQ.wav\n",
      "Deleting original file songs/RThEaTS3qmQ.m4a (pass -k to keep)\n",
      "[youtube] WMfeEMtJ6NU: Downloading webpage\n",
      "[youtube] WMfeEMtJ6NU: Downloading video info webpage\n",
      "[youtube] WMfeEMtJ6NU: Extracting video information\n",
      "[youtube] WMfeEMtJ6NU: Downloading MPD manifest\n"
     ]
    },
    {
     "name": "stderr",
     "output_type": "stream",
     "text": [
      "WARNING: \"id\" field is not a string - forcing string conversion, there is an error in extractor\n"
     ]
    },
    {
     "name": "stdout",
     "output_type": "stream",
     "text": [
      "[download] Destination: songs/WMfeEMtJ6NU.webm\n",
      "[download] 100% of 3.05MiB in 00:07\n",
      "[ffmpeg] Destination: songs/WMfeEMtJ6NU.wav\n",
      "Deleting original file songs/WMfeEMtJ6NU.webm (pass -k to keep)\n",
      "[youtube] 9d2oBB3Ue6s: Downloading webpage\n",
      "[youtube] 9d2oBB3Ue6s: Downloading video info webpage\n",
      "[youtube] 9d2oBB3Ue6s: Extracting video information\n",
      "[youtube] 9d2oBB3Ue6s: Downloading MPD manifest\n"
     ]
    },
    {
     "name": "stderr",
     "output_type": "stream",
     "text": [
      "WARNING: \"id\" field is not a string - forcing string conversion, there is an error in extractor\n"
     ]
    },
    {
     "name": "stdout",
     "output_type": "stream",
     "text": [
      "[download] Destination: songs/9d2oBB3Ue6s.webm\n",
      "[download] 100% of 3.13MiB in 00:06\n",
      "[ffmpeg] Destination: songs/9d2oBB3Ue6s.wav\n",
      "Deleting original file songs/9d2oBB3Ue6s.webm (pass -k to keep)\n",
      "[youtube] EIaUEMDaGkA: Downloading webpage\n",
      "[youtube] EIaUEMDaGkA: Downloading video info webpage\n",
      "[youtube] EIaUEMDaGkA: Extracting video information\n",
      "[youtube] EIaUEMDaGkA: Downloading MPD manifest\n"
     ]
    },
    {
     "name": "stderr",
     "output_type": "stream",
     "text": [
      "WARNING: \"id\" field is not a string - forcing string conversion, there is an error in extractor\n"
     ]
    },
    {
     "name": "stdout",
     "output_type": "stream",
     "text": [
      "[download] Destination: songs/EIaUEMDaGkA.m4a\n",
      "[download] 100% of 10.42MiB in 00:20\n",
      "[ffmpeg] Correcting container in \"songs/EIaUEMDaGkA.m4a\"\n",
      "[ffmpeg] Destination: songs/EIaUEMDaGkA.wav\n",
      "Deleting original file songs/EIaUEMDaGkA.m4a (pass -k to keep)\n",
      "[youtube] Hy02L0MTkns: Downloading webpage\n",
      "[youtube] Hy02L0MTkns: Downloading video info webpage\n",
      "[youtube] Hy02L0MTkns: Extracting video information\n",
      "[youtube] Hy02L0MTkns: Downloading MPD manifest\n"
     ]
    },
    {
     "name": "stderr",
     "output_type": "stream",
     "text": [
      "WARNING: \"id\" field is not a string - forcing string conversion, there is an error in extractor\n"
     ]
    },
    {
     "name": "stdout",
     "output_type": "stream",
     "text": [
      "[download] Destination: songs/Hy02L0MTkns.webm\n",
      "[download] 100% of 3.28MiB in 00:06\n",
      "[ffmpeg] Destination: songs/Hy02L0MTkns.wav\n",
      "Deleting original file songs/Hy02L0MTkns.webm (pass -k to keep)\n",
      "[youtube] pRLqD_7g7I8: Downloading webpage\n",
      "[youtube] pRLqD_7g7I8: Downloading video info webpage\n",
      "[youtube] pRLqD_7g7I8: Extracting video information\n",
      "[youtube] pRLqD_7g7I8: Downloading MPD manifest\n"
     ]
    },
    {
     "name": "stderr",
     "output_type": "stream",
     "text": [
      "WARNING: \"id\" field is not a string - forcing string conversion, there is an error in extractor\n"
     ]
    },
    {
     "name": "stdout",
     "output_type": "stream",
     "text": [
      "[download] Destination: songs/pRLqD_7g7I8.webm\n",
      "[download] 100% of 4.36MiB in 00:08\n",
      "[ffmpeg] Destination: songs/pRLqD_7g7I8.wav\n",
      "Deleting original file songs/pRLqD_7g7I8.webm (pass -k to keep)\n",
      "[youtube] mbLdhiIbFek: Downloading webpage\n",
      "[youtube] mbLdhiIbFek: Downloading video info webpage\n",
      "[youtube] mbLdhiIbFek: Extracting video information\n",
      "[youtube] mbLdhiIbFek: Downloading MPD manifest\n"
     ]
    },
    {
     "name": "stderr",
     "output_type": "stream",
     "text": [
      "WARNING: \"id\" field is not a string - forcing string conversion, there is an error in extractor\n"
     ]
    },
    {
     "name": "stdout",
     "output_type": "stream",
     "text": [
      "[download] Destination: songs/mbLdhiIbFek.webm\n",
      "[download] 100% of 4.24MiB in 00:08\n",
      "[ffmpeg] Destination: songs/mbLdhiIbFek.wav\n",
      "Deleting original file songs/mbLdhiIbFek.webm (pass -k to keep)\n",
      "[youtube] drqYUebMX64: Downloading webpage\n",
      "[youtube] drqYUebMX64: Downloading video info webpage\n",
      "[youtube] drqYUebMX64: Extracting video information\n",
      "[youtube] drqYUebMX64: Downloading MPD manifest\n"
     ]
    },
    {
     "name": "stderr",
     "output_type": "stream",
     "text": [
      "WARNING: \"id\" field is not a string - forcing string conversion, there is an error in extractor\n"
     ]
    },
    {
     "name": "stdout",
     "output_type": "stream",
     "text": [
      "[download] Destination: songs/drqYUebMX64.webm\n",
      "[download] 100% of 3.34MiB in 00:06\n",
      "[ffmpeg] Destination: songs/drqYUebMX64.wav\n",
      "Deleting original file songs/drqYUebMX64.webm (pass -k to keep)\n",
      "[youtube] mER77TLKpEM: Downloading webpage\n",
      "[youtube] mER77TLKpEM: Downloading video info webpage\n",
      "[youtube] mER77TLKpEM: Extracting video information\n",
      "[youtube] mER77TLKpEM: Downloading MPD manifest\n"
     ]
    },
    {
     "name": "stderr",
     "output_type": "stream",
     "text": [
      "WARNING: \"id\" field is not a string - forcing string conversion, there is an error in extractor\n"
     ]
    },
    {
     "name": "stdout",
     "output_type": "stream",
     "text": [
      "[download] Destination: songs/mER77TLKpEM.m4a\n",
      "[download] 100% of 3.53MiB in 00:06\n",
      "[ffmpeg] Correcting container in \"songs/mER77TLKpEM.m4a\"\n",
      "[ffmpeg] Destination: songs/mER77TLKpEM.wav\n",
      "Deleting original file songs/mER77TLKpEM.m4a (pass -k to keep)\n",
      "[youtube] 4vlPDOX7i5I: Downloading webpage\n",
      "[youtube] 4vlPDOX7i5I: Downloading video info webpage\n",
      "[youtube] 4vlPDOX7i5I: Extracting video information\n",
      "[youtube] 4vlPDOX7i5I: Downloading MPD manifest\n"
     ]
    },
    {
     "name": "stderr",
     "output_type": "stream",
     "text": [
      "WARNING: \"id\" field is not a string - forcing string conversion, there is an error in extractor\n"
     ]
    },
    {
     "name": "stdout",
     "output_type": "stream",
     "text": [
      "[download] Destination: songs/4vlPDOX7i5I.m4a\n",
      "[download] 100% of 3.47MiB in 00:06\n",
      "[ffmpeg] Correcting container in \"songs/4vlPDOX7i5I.m4a\"\n",
      "[ffmpeg] Destination: songs/4vlPDOX7i5I.wav\n",
      "Deleting original file songs/4vlPDOX7i5I.m4a (pass -k to keep)\n",
      "[youtube] JMcPtnzP_jg: Downloading webpage\n",
      "[youtube] JMcPtnzP_jg: Downloading video info webpage\n",
      "[youtube] JMcPtnzP_jg: Extracting video information\n",
      "[youtube] JMcPtnzP_jg: Downloading MPD manifest\n",
      "[youtube] JMcPtnzP_jg: Downloading MPD manifest\n"
     ]
    },
    {
     "name": "stderr",
     "output_type": "stream",
     "text": [
      "WARNING: \"id\" field is not a string - forcing string conversion, there is an error in extractor\n"
     ]
    },
    {
     "name": "stdout",
     "output_type": "stream",
     "text": [
      "[dashsegments] Total fragments: 39\n",
      "[download] Destination: songs/JMcPtnzP_jg.m4a\n",
      "[download] 100% of 4.21MiB in 00:17\n",
      "[ffmpeg] Correcting container in \"songs/JMcPtnzP_jg.m4a\"\n",
      "[ffmpeg] Destination: songs/JMcPtnzP_jg.wav\n",
      "Deleting original file songs/JMcPtnzP_jg.m4a (pass -k to keep)\n",
      "[youtube] x4PGh0-stg0: Downloading webpage\n",
      "[youtube] x4PGh0-stg0: Downloading video info webpage\n",
      "[youtube] x4PGh0-stg0: Extracting video information\n",
      "[youtube] x4PGh0-stg0: Downloading MPD manifest\n"
     ]
    },
    {
     "name": "stderr",
     "output_type": "stream",
     "text": [
      "WARNING: \"id\" field is not a string - forcing string conversion, there is an error in extractor\n"
     ]
    },
    {
     "name": "stdout",
     "output_type": "stream",
     "text": [
      "[download] Destination: songs/x4PGh0-stg0.webm\n",
      "[download] 100% of 1.31MiB in 00:03\n",
      "[ffmpeg] Destination: songs/x4PGh0-stg0.wav\n",
      "Deleting original file songs/x4PGh0-stg0.webm (pass -k to keep)\n",
      "[youtube] QbVNy9KMQzw: Downloading webpage\n",
      "[youtube] QbVNy9KMQzw: Downloading video info webpage\n",
      "[youtube] QbVNy9KMQzw: Extracting video information\n",
      "[youtube] QbVNy9KMQzw: Downloading MPD manifest\n"
     ]
    },
    {
     "name": "stderr",
     "output_type": "stream",
     "text": [
      "WARNING: \"id\" field is not a string - forcing string conversion, there is an error in extractor\n"
     ]
    },
    {
     "name": "stdout",
     "output_type": "stream",
     "text": [
      "[download] Destination: songs/QbVNy9KMQzw.webm\n",
      "[download] 100% of 3.88MiB in 00:07\n",
      "[ffmpeg] Destination: songs/QbVNy9KMQzw.wav\n",
      "Deleting original file songs/QbVNy9KMQzw.webm (pass -k to keep)\n",
      "[youtube] xD-xZnLJcQM: Downloading webpage\n",
      "[youtube] xD-xZnLJcQM: Downloading video info webpage\n",
      "[youtube] xD-xZnLJcQM: Extracting video information\n",
      "[youtube] xD-xZnLJcQM: Downloading MPD manifest\n"
     ]
    },
    {
     "name": "stderr",
     "output_type": "stream",
     "text": [
      "WARNING: \"id\" field is not a string - forcing string conversion, there is an error in extractor\n"
     ]
    },
    {
     "name": "stdout",
     "output_type": "stream",
     "text": [
      "[download] Destination: songs/xD-xZnLJcQM.m4a\n",
      "[download] 100% of 2.85MiB in 00:05\n",
      "[ffmpeg] Correcting container in \"songs/xD-xZnLJcQM.m4a\"\n",
      "[ffmpeg] Destination: songs/xD-xZnLJcQM.wav\n",
      "Deleting original file songs/xD-xZnLJcQM.m4a (pass -k to keep)\n",
      "[youtube] or2XWuDE8i8: Downloading webpage\n",
      "[youtube] or2XWuDE8i8: Downloading video info webpage\n",
      "[youtube] or2XWuDE8i8: Extracting video information\n",
      "[youtube] or2XWuDE8i8: Downloading MPD manifest\n"
     ]
    },
    {
     "name": "stderr",
     "output_type": "stream",
     "text": [
      "WARNING: \"id\" field is not a string - forcing string conversion, there is an error in extractor\n"
     ]
    },
    {
     "name": "stdout",
     "output_type": "stream",
     "text": [
      "[download] Destination: songs/or2XWuDE8i8.webm\n",
      "[download] 100% of 3.26MiB in 00:06\n",
      "[ffmpeg] Destination: songs/or2XWuDE8i8.wav\n",
      "Deleting original file songs/or2XWuDE8i8.webm (pass -k to keep)\n",
      "[youtube] d447hxwdSo8: Downloading webpage\n",
      "[youtube] d447hxwdSo8: Downloading video info webpage\n",
      "[youtube] d447hxwdSo8: Extracting video information\n",
      "[youtube] d447hxwdSo8: Downloading MPD manifest\n"
     ]
    },
    {
     "name": "stderr",
     "output_type": "stream",
     "text": [
      "WARNING: \"id\" field is not a string - forcing string conversion, there is an error in extractor\n"
     ]
    },
    {
     "name": "stdout",
     "output_type": "stream",
     "text": [
      "[download] Destination: songs/d447hxwdSo8.webm\n",
      "[download] 100% of 3.53MiB in 00:06\n",
      "[ffmpeg] Destination: songs/d447hxwdSo8.wav\n",
      "Deleting original file songs/d447hxwdSo8.webm (pass -k to keep)\n",
      "[youtube] 7pb-yFby6kg: Downloading webpage\n",
      "[youtube] 7pb-yFby6kg: Downloading video info webpage\n",
      "[youtube] 7pb-yFby6kg: Extracting video information\n",
      "[youtube] 7pb-yFby6kg: Downloading MPD manifest\n"
     ]
    },
    {
     "name": "stderr",
     "output_type": "stream",
     "text": [
      "WARNING: \"id\" field is not a string - forcing string conversion, there is an error in extractor\n"
     ]
    },
    {
     "name": "stdout",
     "output_type": "stream",
     "text": [
      "[download] Destination: songs/7pb-yFby6kg.webm\n",
      "[download] 100% of 2.67MiB in 00:05\n",
      "[ffmpeg] Destination: songs/7pb-yFby6kg.wav\n",
      "Deleting original file songs/7pb-yFby6kg.webm (pass -k to keep)\n",
      "[youtube] WYShpKlqIKc: Downloading webpage\n",
      "[youtube] WYShpKlqIKc: Downloading video info webpage\n",
      "[youtube] WYShpKlqIKc: Extracting video information\n",
      "[youtube] WYShpKlqIKc: Downloading MPD manifest\n"
     ]
    },
    {
     "name": "stderr",
     "output_type": "stream",
     "text": [
      "WARNING: \"id\" field is not a string - forcing string conversion, there is an error in extractor\n"
     ]
    },
    {
     "name": "stdout",
     "output_type": "stream",
     "text": [
      "[download] Destination: songs/WYShpKlqIKc.webm\n",
      "[download] 100% of 3.62MiB in 00:07\n",
      "[ffmpeg] Destination: songs/WYShpKlqIKc.wav\n",
      "Deleting original file songs/WYShpKlqIKc.webm (pass -k to keep)\n",
      "[youtube] _OSXrYH__zg: Downloading webpage\n",
      "[youtube] _OSXrYH__zg: Downloading video info webpage\n",
      "[youtube] _OSXrYH__zg: Extracting video information\n",
      "[youtube] _OSXrYH__zg: Downloading MPD manifest\n"
     ]
    },
    {
     "name": "stderr",
     "output_type": "stream",
     "text": [
      "WARNING: \"id\" field is not a string - forcing string conversion, there is an error in extractor\n"
     ]
    },
    {
     "name": "stdout",
     "output_type": "stream",
     "text": [
      "[download] Destination: songs/_OSXrYH__zg.webm\n",
      "[download] 100% of 2.96MiB in 00:05\n",
      "[ffmpeg] Destination: songs/_OSXrYH__zg.wav\n",
      "Deleting original file songs/_OSXrYH__zg.webm (pass -k to keep)\n",
      "[youtube] WCx736eYvJ0: Downloading webpage\n",
      "[youtube] WCx736eYvJ0: Downloading video info webpage\n",
      "[youtube] WCx736eYvJ0: Extracting video information\n",
      "[youtube] WCx736eYvJ0: Downloading MPD manifest\n"
     ]
    },
    {
     "name": "stderr",
     "output_type": "stream",
     "text": [
      "WARNING: \"id\" field is not a string - forcing string conversion, there is an error in extractor\n"
     ]
    },
    {
     "name": "stdout",
     "output_type": "stream",
     "text": [
      "[download] Destination: songs/WCx736eYvJ0.m4a\n",
      "[download] 100% of 3.76MiB in 00:07\n",
      "[ffmpeg] Correcting container in \"songs/WCx736eYvJ0.m4a\"\n",
      "[ffmpeg] Destination: songs/WCx736eYvJ0.wav\n",
      "Deleting original file songs/WCx736eYvJ0.m4a (pass -k to keep)\n",
      "[youtube] U7gmkIr6p48: Downloading webpage\n",
      "[youtube] U7gmkIr6p48: Downloading video info webpage\n",
      "[youtube] U7gmkIr6p48: Extracting video information\n",
      "[youtube] U7gmkIr6p48: Downloading MPD manifest\n"
     ]
    },
    {
     "name": "stderr",
     "output_type": "stream",
     "text": [
      "WARNING: \"id\" field is not a string - forcing string conversion, there is an error in extractor\n"
     ]
    },
    {
     "name": "stdout",
     "output_type": "stream",
     "text": [
      "[download] Destination: songs/U7gmkIr6p48.m4a\n",
      "[download] 100% of 6.25MiB in 00:12\n",
      "[ffmpeg] Correcting container in \"songs/U7gmkIr6p48.m4a\"\n",
      "[ffmpeg] Destination: songs/U7gmkIr6p48.wav\n",
      "Deleting original file songs/U7gmkIr6p48.m4a (pass -k to keep)\n",
      "[youtube] 5S-VOiKo5jo: Downloading webpage\n",
      "[youtube] 5S-VOiKo5jo: Downloading video info webpage\n",
      "[youtube] 5S-VOiKo5jo: Extracting video information\n",
      "[youtube] 5S-VOiKo5jo: Downloading MPD manifest\n"
     ]
    },
    {
     "name": "stderr",
     "output_type": "stream",
     "text": [
      "WARNING: \"id\" field is not a string - forcing string conversion, there is an error in extractor\n"
     ]
    },
    {
     "name": "stdout",
     "output_type": "stream",
     "text": [
      "[download] Destination: songs/5S-VOiKo5jo.webm\n",
      "[download] 100% of 3.06MiB in 00:06\n",
      "[ffmpeg] Destination: songs/5S-VOiKo5jo.wav\n",
      "Deleting original file songs/5S-VOiKo5jo.webm (pass -k to keep)\n",
      "[youtube] zQIGZsvgXjo: Downloading webpage\n",
      "[youtube] zQIGZsvgXjo: Downloading video info webpage\n",
      "[youtube] zQIGZsvgXjo: Extracting video information\n",
      "[youtube] zQIGZsvgXjo: Downloading MPD manifest\n"
     ]
    },
    {
     "name": "stderr",
     "output_type": "stream",
     "text": [
      "WARNING: \"id\" field is not a string - forcing string conversion, there is an error in extractor\n"
     ]
    },
    {
     "name": "stdout",
     "output_type": "stream",
     "text": [
      "[download] Destination: songs/zQIGZsvgXjo.m4a\n",
      "[download] 100% of 1.75MiB in 00:03\n",
      "[ffmpeg] Correcting container in \"songs/zQIGZsvgXjo.m4a\"\n",
      "[ffmpeg] Destination: songs/zQIGZsvgXjo.wav\n",
      "Deleting original file songs/zQIGZsvgXjo.m4a (pass -k to keep)\n",
      "[youtube] xxDCr5--_zM: Downloading webpage\n",
      "[youtube] xxDCr5--_zM: Downloading video info webpage\n",
      "[youtube] xxDCr5--_zM: Extracting video information\n",
      "[youtube] xxDCr5--_zM: Downloading MPD manifest\n",
      "[youtube] xxDCr5--_zM: Downloading MPD manifest\n"
     ]
    },
    {
     "name": "stderr",
     "output_type": "stream",
     "text": [
      "WARNING: \"id\" field is not a string - forcing string conversion, there is an error in extractor\n"
     ]
    },
    {
     "name": "stdout",
     "output_type": "stream",
     "text": [
      "[dashsegments] Total fragments: 37\n",
      "[download] Destination: songs/xxDCr5--_zM.m4a\n",
      "[download] 100% of 2.72MiB in 00:25\n",
      "[ffmpeg] Correcting container in \"songs/xxDCr5--_zM.m4a\"\n",
      "[ffmpeg] Destination: songs/xxDCr5--_zM.wav\n",
      "Deleting original file songs/xxDCr5--_zM.m4a (pass -k to keep)\n",
      "[youtube] N-llm1n-5go: Downloading webpage\n",
      "[youtube] N-llm1n-5go: Downloading video info webpage\n",
      "[youtube] N-llm1n-5go: Extracting video information\n",
      "[youtube] N-llm1n-5go: Downloading MPD manifest\n"
     ]
    },
    {
     "name": "stderr",
     "output_type": "stream",
     "text": [
      "WARNING: \"id\" field is not a string - forcing string conversion, there is an error in extractor\n"
     ]
    },
    {
     "name": "stdout",
     "output_type": "stream",
     "text": [
      "[download] Destination: songs/N-llm1n-5go.m4a\n",
      "[download] 100% of 4.37MiB in 00:08\n",
      "[ffmpeg] Correcting container in \"songs/N-llm1n-5go.m4a\"\n",
      "[ffmpeg] Destination: songs/N-llm1n-5go.wav\n",
      "Deleting original file songs/N-llm1n-5go.m4a (pass -k to keep)\n",
      "[youtube] AiJBjv911VM: Downloading webpage\n",
      "[youtube] AiJBjv911VM: Downloading video info webpage\n",
      "[youtube] AiJBjv911VM: Extracting video information\n",
      "[youtube] AiJBjv911VM: Downloading MPD manifest\n"
     ]
    },
    {
     "name": "stderr",
     "output_type": "stream",
     "text": [
      "WARNING: \"id\" field is not a string - forcing string conversion, there is an error in extractor\n"
     ]
    },
    {
     "name": "stdout",
     "output_type": "stream",
     "text": [
      "[download] Destination: songs/AiJBjv911VM.webm\n",
      "[download] 100% of 6.71MiB in 00:13\n",
      "[ffmpeg] Destination: songs/AiJBjv911VM.wav\n",
      "Deleting original file songs/AiJBjv911VM.webm (pass -k to keep)\n",
      "[youtube] 4LyauX2ZXLs: Downloading webpage\n",
      "[youtube] 4LyauX2ZXLs: Downloading video info webpage\n",
      "[youtube] 4LyauX2ZXLs: Extracting video information\n",
      "[youtube] 4LyauX2ZXLs: Downloading MPD manifest\n",
      "[youtube] 4LyauX2ZXLs: Downloading MPD manifest\n"
     ]
    },
    {
     "name": "stderr",
     "output_type": "stream",
     "text": [
      "WARNING: \"id\" field is not a string - forcing string conversion, there is an error in extractor\n"
     ]
    },
    {
     "name": "stdout",
     "output_type": "stream",
     "text": [
      "[dashsegments] Total fragments: 29\n",
      "[download] Destination: songs/4LyauX2ZXLs.m4a\n",
      "[download] 100% of 4.10MiB in 00:14\n",
      "[ffmpeg] Correcting container in \"songs/4LyauX2ZXLs.m4a\"\n",
      "[ffmpeg] Destination: songs/4LyauX2ZXLs.wav\n",
      "Deleting original file songs/4LyauX2ZXLs.m4a (pass -k to keep)\n",
      "[youtube] Slqr_RVJG6A: Downloading webpage\n",
      "[youtube] Slqr_RVJG6A: Downloading video info webpage\n",
      "[youtube] Slqr_RVJG6A: Extracting video information\n",
      "[youtube] Slqr_RVJG6A: Downloading MPD manifest\n"
     ]
    },
    {
     "name": "stderr",
     "output_type": "stream",
     "text": [
      "WARNING: \"id\" field is not a string - forcing string conversion, there is an error in extractor\n"
     ]
    },
    {
     "name": "stdout",
     "output_type": "stream",
     "text": [
      "[download] Destination: songs/Slqr_RVJG6A.webm\n",
      "[download] 100% of 8.32MiB in 00:16\n",
      "[ffmpeg] Destination: songs/Slqr_RVJG6A.wav\n",
      "Deleting original file songs/Slqr_RVJG6A.webm (pass -k to keep)\n",
      "[youtube] 3D2sAIhtFY4: Downloading webpage\n",
      "[youtube] 3D2sAIhtFY4: Downloading video info webpage\n",
      "[youtube] 3D2sAIhtFY4: Extracting video information\n",
      "[youtube] 3D2sAIhtFY4: Downloading MPD manifest\n"
     ]
    },
    {
     "name": "stderr",
     "output_type": "stream",
     "text": [
      "WARNING: \"id\" field is not a string - forcing string conversion, there is an error in extractor\n"
     ]
    },
    {
     "name": "stdout",
     "output_type": "stream",
     "text": [
      "[download] Destination: songs/3D2sAIhtFY4.webm\n",
      "[download] 100% of 3.86MiB in 00:07\n",
      "[ffmpeg] Destination: songs/3D2sAIhtFY4.wav\n",
      "Deleting original file songs/3D2sAIhtFY4.webm (pass -k to keep)\n",
      "[youtube] aQUljW_s50I: Downloading webpage\n",
      "[youtube] aQUljW_s50I: Downloading video info webpage\n",
      "[youtube] aQUljW_s50I: Extracting video information\n",
      "[youtube] aQUljW_s50I: Downloading MPD manifest\n"
     ]
    },
    {
     "name": "stderr",
     "output_type": "stream",
     "text": [
      "WARNING: \"id\" field is not a string - forcing string conversion, there is an error in extractor\n"
     ]
    },
    {
     "name": "stdout",
     "output_type": "stream",
     "text": [
      "[download] Destination: songs/aQUljW_s50I.webm\n",
      "[download] 100% of 3.13MiB in 00:06\n",
      "[ffmpeg] Destination: songs/aQUljW_s50I.wav\n",
      "Deleting original file songs/aQUljW_s50I.webm (pass -k to keep)\n",
      "[youtube] xivwrVTm0F0: Downloading webpage\n",
      "[youtube] xivwrVTm0F0: Downloading video info webpage\n",
      "[youtube] xivwrVTm0F0: Extracting video information\n",
      "[youtube] xivwrVTm0F0: Downloading MPD manifest\n"
     ]
    },
    {
     "name": "stderr",
     "output_type": "stream",
     "text": [
      "WARNING: \"id\" field is not a string - forcing string conversion, there is an error in extractor\n"
     ]
    },
    {
     "name": "stdout",
     "output_type": "stream",
     "text": [
      "[download] Destination: songs/xivwrVTm0F0.webm\n",
      "[download] 100% of 426.81KiB in 00:00\n",
      "[ffmpeg] Destination: songs/xivwrVTm0F0.wav\n",
      "Deleting original file songs/xivwrVTm0F0.webm (pass -k to keep)\n",
      "[youtube] R9n1CZtR8ss: Downloading webpage\n",
      "[youtube] R9n1CZtR8ss: Downloading video info webpage\n",
      "[youtube] R9n1CZtR8ss: Extracting video information\n",
      "[youtube] R9n1CZtR8ss: Downloading MPD manifest\n"
     ]
    },
    {
     "name": "stderr",
     "output_type": "stream",
     "text": [
      "WARNING: \"id\" field is not a string - forcing string conversion, there is an error in extractor\n"
     ]
    },
    {
     "name": "stdout",
     "output_type": "stream",
     "text": [
      "[download] Destination: songs/R9n1CZtR8ss.webm\n",
      "[download] 100% of 5.83MiB in 00:11\n",
      "[ffmpeg] Destination: songs/R9n1CZtR8ss.wav\n",
      "Deleting original file songs/R9n1CZtR8ss.webm (pass -k to keep)\n",
      "[youtube] tBbeIjczAkc: Downloading webpage\n",
      "[youtube] tBbeIjczAkc: Downloading video info webpage\n",
      "[youtube] tBbeIjczAkc: Extracting video information\n",
      "[youtube] tBbeIjczAkc: Downloading MPD manifest\n"
     ]
    },
    {
     "name": "stderr",
     "output_type": "stream",
     "text": [
      "WARNING: \"id\" field is not a string - forcing string conversion, there is an error in extractor\n"
     ]
    },
    {
     "name": "stdout",
     "output_type": "stream",
     "text": [
      "[download] Destination: songs/tBbeIjczAkc.webm\n",
      "[download] 100% of 4.44MiB in 00:09\n",
      "[ffmpeg] Destination: songs/tBbeIjczAkc.wav\n",
      "Deleting original file songs/tBbeIjczAkc.webm (pass -k to keep)\n",
      "[youtube] S7q_12tYZdA: Downloading webpage\n",
      "[youtube] S7q_12tYZdA: Downloading video info webpage\n",
      "[youtube] S7q_12tYZdA: Extracting video information\n",
      "[youtube] S7q_12tYZdA: Downloading MPD manifest\n"
     ]
    },
    {
     "name": "stderr",
     "output_type": "stream",
     "text": [
      "WARNING: \"id\" field is not a string - forcing string conversion, there is an error in extractor\n"
     ]
    },
    {
     "name": "stdout",
     "output_type": "stream",
     "text": [
      "[download] Destination: songs/S7q_12tYZdA.webm\n",
      "[download] 100% of 3.54MiB in 00:06\n",
      "[ffmpeg] Destination: songs/S7q_12tYZdA.wav\n",
      "Deleting original file songs/S7q_12tYZdA.webm (pass -k to keep)\n",
      "[youtube] DWX-YFyIZQc: Downloading webpage\n",
      "[youtube] DWX-YFyIZQc: Downloading video info webpage\n",
      "[youtube] DWX-YFyIZQc: Extracting video information\n",
      "[youtube] DWX-YFyIZQc: Downloading MPD manifest\n"
     ]
    },
    {
     "name": "stderr",
     "output_type": "stream",
     "text": [
      "WARNING: \"id\" field is not a string - forcing string conversion, there is an error in extractor\n"
     ]
    },
    {
     "name": "stdout",
     "output_type": "stream",
     "text": [
      "[download] Destination: songs/DWX-YFyIZQc.webm\n",
      "[download] 100% of 5.67MiB in 00:11\n",
      "[ffmpeg] Destination: songs/DWX-YFyIZQc.wav\n",
      "Deleting original file songs/DWX-YFyIZQc.webm (pass -k to keep)\n",
      "[youtube] v9xlhqjMJnA: Downloading webpage\n",
      "[youtube] v9xlhqjMJnA: Downloading video info webpage\n",
      "[youtube] v9xlhqjMJnA: Extracting video information\n",
      "[youtube] v9xlhqjMJnA: Downloading MPD manifest\n"
     ]
    },
    {
     "name": "stderr",
     "output_type": "stream",
     "text": [
      "WARNING: \"id\" field is not a string - forcing string conversion, there is an error in extractor\n"
     ]
    },
    {
     "name": "stdout",
     "output_type": "stream",
     "text": [
      "[download] Destination: songs/v9xlhqjMJnA.webm\n",
      "[download] 100% of 2.77MiB in 00:05\n",
      "[ffmpeg] Destination: songs/v9xlhqjMJnA.wav\n",
      "Deleting original file songs/v9xlhqjMJnA.webm (pass -k to keep)\n",
      "[youtube] khuY5BZtTC4: Downloading webpage\n",
      "[youtube] khuY5BZtTC4: Downloading video info webpage\n",
      "[youtube] khuY5BZtTC4: Extracting video information\n",
      "[youtube] khuY5BZtTC4: Downloading MPD manifest\n",
      "[youtube] khuY5BZtTC4: Downloading MPD manifest\n"
     ]
    },
    {
     "name": "stderr",
     "output_type": "stream",
     "text": [
      "WARNING: \"id\" field is not a string - forcing string conversion, there is an error in extractor\n"
     ]
    },
    {
     "name": "stdout",
     "output_type": "stream",
     "text": [
      "[dashsegments] Total fragments: 17\n",
      "[download] Destination: songs/khuY5BZtTC4.m4a\n",
      "[download] 100% of 1.76MiB in 00:07\n",
      "[ffmpeg] Correcting container in \"songs/khuY5BZtTC4.m4a\"\n",
      "[ffmpeg] Destination: songs/khuY5BZtTC4.wav\n",
      "Deleting original file songs/khuY5BZtTC4.m4a (pass -k to keep)\n",
      "[youtube] _Wcx-5V46bk: Downloading webpage\n",
      "[youtube] _Wcx-5V46bk: Downloading video info webpage\n",
      "[youtube] _Wcx-5V46bk: Extracting video information\n",
      "[youtube] _Wcx-5V46bk: Downloading MPD manifest\n"
     ]
    },
    {
     "name": "stderr",
     "output_type": "stream",
     "text": [
      "WARNING: \"id\" field is not a string - forcing string conversion, there is an error in extractor\n"
     ]
    },
    {
     "name": "stdout",
     "output_type": "stream",
     "text": [
      "[download] Destination: songs/_Wcx-5V46bk.webm\n",
      "[download] 100% of 2.42MiB in 00:04\n",
      "[ffmpeg] Destination: songs/_Wcx-5V46bk.wav\n",
      "Deleting original file songs/_Wcx-5V46bk.webm (pass -k to keep)\n",
      "[youtube] ZyURS1nvQ_c: Downloading webpage\n",
      "[youtube] ZyURS1nvQ_c: Downloading video info webpage\n",
      "[youtube] ZyURS1nvQ_c: Extracting video information\n",
      "[youtube] ZyURS1nvQ_c: Downloading MPD manifest\n"
     ]
    },
    {
     "name": "stderr",
     "output_type": "stream",
     "text": [
      "WARNING: \"id\" field is not a string - forcing string conversion, there is an error in extractor\n"
     ]
    },
    {
     "name": "stdout",
     "output_type": "stream",
     "text": [
      "[download] Destination: songs/ZyURS1nvQ_c.m4a\n",
      "[download] 100% of 2.21MiB in 00:04\n",
      "[ffmpeg] Correcting container in \"songs/ZyURS1nvQ_c.m4a\"\n",
      "[ffmpeg] Destination: songs/ZyURS1nvQ_c.wav\n",
      "Deleting original file songs/ZyURS1nvQ_c.m4a (pass -k to keep)\n",
      "[youtube] ysta8oGYcaM: Downloading webpage\n",
      "[youtube] ysta8oGYcaM: Downloading video info webpage\n",
      "[youtube] ysta8oGYcaM: Extracting video information\n",
      "[youtube] ysta8oGYcaM: Downloading MPD manifest\n"
     ]
    },
    {
     "name": "stderr",
     "output_type": "stream",
     "text": [
      "WARNING: \"id\" field is not a string - forcing string conversion, there is an error in extractor\n"
     ]
    },
    {
     "name": "stdout",
     "output_type": "stream",
     "text": [
      "[download] Destination: songs/ysta8oGYcaM.m4a\n",
      "[download] 100% of 2.67MiB in 00:05\n",
      "[ffmpeg] Correcting container in \"songs/ysta8oGYcaM.m4a\"\n",
      "[ffmpeg] Destination: songs/ysta8oGYcaM.wav\n",
      "Deleting original file songs/ysta8oGYcaM.m4a (pass -k to keep)\n",
      "[youtube] -biNAkdBu2E: Downloading webpage\n",
      "[youtube] -biNAkdBu2E: Downloading video info webpage\n",
      "[youtube] -biNAkdBu2E: Extracting video information\n",
      "[youtube] -biNAkdBu2E: Downloading MPD manifest\n",
      "[youtube] -biNAkdBu2E: Downloading MPD manifest\n"
     ]
    },
    {
     "name": "stderr",
     "output_type": "stream",
     "text": [
      "WARNING: \"id\" field is not a string - forcing string conversion, there is an error in extractor\n"
     ]
    },
    {
     "name": "stdout",
     "output_type": "stream",
     "text": [
      "[dashsegments] Total fragments: 24\n",
      "[download] Destination: songs/-biNAkdBu2E.m4a\n",
      "[download] 100% of 3.44MiB in 00:11\n",
      "[ffmpeg] Correcting container in \"songs/-biNAkdBu2E.m4a\"\n",
      "[ffmpeg] Destination: songs/-biNAkdBu2E.wav\n",
      "Deleting original file songs/-biNAkdBu2E.m4a (pass -k to keep)\n",
      "[youtube] klGcXdHUVZ4: Downloading webpage\n",
      "[youtube] klGcXdHUVZ4: Downloading video info webpage\n",
      "[youtube] klGcXdHUVZ4: Extracting video information\n",
      "[youtube] klGcXdHUVZ4: Downloading MPD manifest\n"
     ]
    },
    {
     "name": "stderr",
     "output_type": "stream",
     "text": [
      "WARNING: \"id\" field is not a string - forcing string conversion, there is an error in extractor\n"
     ]
    },
    {
     "name": "stdout",
     "output_type": "stream",
     "text": [
      "[download] Destination: songs/klGcXdHUVZ4.m4a\n",
      "[download] 100% of 6.22MiB in 00:12\n",
      "[ffmpeg] Correcting container in \"songs/klGcXdHUVZ4.m4a\"\n",
      "[ffmpeg] Destination: songs/klGcXdHUVZ4.wav\n",
      "Deleting original file songs/klGcXdHUVZ4.m4a (pass -k to keep)\n",
      "[youtube] PxnyKWyefOM: Downloading webpage\n",
      "[youtube] PxnyKWyefOM: Downloading video info webpage\n",
      "[youtube] PxnyKWyefOM: Extracting video information\n",
      "[youtube] PxnyKWyefOM: Downloading MPD manifest\n"
     ]
    },
    {
     "name": "stderr",
     "output_type": "stream",
     "text": [
      "WARNING: \"id\" field is not a string - forcing string conversion, there is an error in extractor\n"
     ]
    },
    {
     "name": "stdout",
     "output_type": "stream",
     "text": [
      "[download] Destination: songs/PxnyKWyefOM.webm\n",
      "[download] 100% of 2.76MiB in 00:05\n",
      "[ffmpeg] Destination: songs/PxnyKWyefOM.wav\n",
      "Deleting original file songs/PxnyKWyefOM.webm (pass -k to keep)\n",
      "[youtube] 8fCQd1Cjaa0: Downloading webpage\n",
      "[youtube] 8fCQd1Cjaa0: Downloading video info webpage\n",
      "[youtube] 8fCQd1Cjaa0: Extracting video information\n",
      "[youtube] 8fCQd1Cjaa0: Downloading MPD manifest\n"
     ]
    },
    {
     "name": "stderr",
     "output_type": "stream",
     "text": [
      "WARNING: \"id\" field is not a string - forcing string conversion, there is an error in extractor\n"
     ]
    },
    {
     "name": "stdout",
     "output_type": "stream",
     "text": [
      "[download] Destination: songs/8fCQd1Cjaa0.webm\n",
      "[download] 100% of 3.82MiB in 00:07\n",
      "[ffmpeg] Destination: songs/8fCQd1Cjaa0.wav\n",
      "Deleting original file songs/8fCQd1Cjaa0.webm (pass -k to keep)\n",
      "[youtube] eCL8SH1uOKc: Downloading webpage\n",
      "[youtube] eCL8SH1uOKc: Downloading video info webpage\n",
      "[youtube] eCL8SH1uOKc: Extracting video information\n",
      "[youtube] eCL8SH1uOKc: Downloading MPD manifest\n"
     ]
    },
    {
     "name": "stderr",
     "output_type": "stream",
     "text": [
      "WARNING: \"id\" field is not a string - forcing string conversion, there is an error in extractor\n"
     ]
    },
    {
     "name": "stdout",
     "output_type": "stream",
     "text": [
      "[download] Destination: songs/eCL8SH1uOKc.webm\n",
      "[download] 100% of 3.74MiB in 00:07\n",
      "[ffmpeg] Destination: songs/eCL8SH1uOKc.wav\n",
      "Deleting original file songs/eCL8SH1uOKc.webm (pass -k to keep)\n",
      "[youtube] 7ikKDk2Eigg: Downloading webpage\n",
      "[youtube] 7ikKDk2Eigg: Downloading video info webpage\n",
      "[youtube] 7ikKDk2Eigg: Extracting video information\n",
      "[youtube] 7ikKDk2Eigg: Downloading MPD manifest\n"
     ]
    },
    {
     "name": "stderr",
     "output_type": "stream",
     "text": [
      "WARNING: \"id\" field is not a string - forcing string conversion, there is an error in extractor\n"
     ]
    },
    {
     "name": "stdout",
     "output_type": "stream",
     "text": [
      "[download] Destination: songs/7ikKDk2Eigg.webm\n",
      "[download] 100% of 3.78MiB in 00:07\n",
      "[ffmpeg] Destination: songs/7ikKDk2Eigg.wav\n",
      "Deleting original file songs/7ikKDk2Eigg.webm (pass -k to keep)\n",
      "[youtube] XajW047TtGY: Downloading webpage\n",
      "[youtube] XajW047TtGY: Downloading video info webpage\n",
      "[youtube] XajW047TtGY: Extracting video information\n",
      "[youtube] XajW047TtGY: Downloading MPD manifest\n"
     ]
    },
    {
     "name": "stderr",
     "output_type": "stream",
     "text": [
      "WARNING: \"id\" field is not a string - forcing string conversion, there is an error in extractor\n"
     ]
    },
    {
     "name": "stdout",
     "output_type": "stream",
     "text": [
      "[download] Destination: songs/XajW047TtGY.m4a\n",
      "[download] 100% of 2.99MiB in 00:05\n",
      "[ffmpeg] Correcting container in \"songs/XajW047TtGY.m4a\"\n",
      "[ffmpeg] Destination: songs/XajW047TtGY.wav\n",
      "Deleting original file songs/XajW047TtGY.m4a (pass -k to keep)\n",
      "[youtube] jZDc_xHc2Ck: Downloading webpage\n",
      "[youtube] jZDc_xHc2Ck: Downloading video info webpage\n",
      "[youtube] jZDc_xHc2Ck: Extracting video information\n",
      "[youtube] jZDc_xHc2Ck: Downloading MPD manifest\n"
     ]
    },
    {
     "name": "stderr",
     "output_type": "stream",
     "text": [
      "WARNING: \"id\" field is not a string - forcing string conversion, there is an error in extractor\n"
     ]
    },
    {
     "name": "stdout",
     "output_type": "stream",
     "text": [
      "[download] Destination: songs/jZDc_xHc2Ck.m4a\n",
      "[download] 100% of 1.38MiB in 00:02\n",
      "[ffmpeg] Correcting container in \"songs/jZDc_xHc2Ck.m4a\"\n",
      "[ffmpeg] Destination: songs/jZDc_xHc2Ck.wav\n",
      "Deleting original file songs/jZDc_xHc2Ck.m4a (pass -k to keep)\n",
      "[youtube] 7K43SEzYPG0: Downloading webpage\n",
      "[youtube] 7K43SEzYPG0: Downloading video info webpage\n",
      "[youtube] 7K43SEzYPG0: Extracting video information\n",
      "[youtube] 7K43SEzYPG0: Downloading MPD manifest\n"
     ]
    },
    {
     "name": "stderr",
     "output_type": "stream",
     "text": [
      "WARNING: \"id\" field is not a string - forcing string conversion, there is an error in extractor\n"
     ]
    },
    {
     "name": "stdout",
     "output_type": "stream",
     "text": [
      "[download] Destination: songs/7K43SEzYPG0.m4a\n",
      "[download] 100% of 146.72KiB in 00:00\n",
      "[ffmpeg] Correcting container in \"songs/7K43SEzYPG0.m4a\"\n",
      "[ffmpeg] Destination: songs/7K43SEzYPG0.wav\n",
      "Deleting original file songs/7K43SEzYPG0.m4a (pass -k to keep)\n",
      "[youtube] HKbJreU2V4k: Downloading webpage\n",
      "[youtube] HKbJreU2V4k: Downloading video info webpage\n",
      "[youtube] HKbJreU2V4k: Extracting video information\n",
      "[youtube] HKbJreU2V4k: Downloading MPD manifest\n"
     ]
    },
    {
     "name": "stderr",
     "output_type": "stream",
     "text": [
      "WARNING: \"id\" field is not a string - forcing string conversion, there is an error in extractor\n"
     ]
    },
    {
     "name": "stdout",
     "output_type": "stream",
     "text": [
      "[download] Destination: songs/HKbJreU2V4k.webm\n",
      "[download] 100% of 3.00MiB in 00:05\n",
      "[ffmpeg] Destination: songs/HKbJreU2V4k.wav\n",
      "Deleting original file songs/HKbJreU2V4k.webm (pass -k to keep)\n",
      "[youtube] vKZ40l9c4dY: Downloading webpage\n",
      "[youtube] vKZ40l9c4dY: Downloading video info webpage\n",
      "[youtube] vKZ40l9c4dY: Extracting video information\n",
      "[youtube] vKZ40l9c4dY: Downloading MPD manifest\n"
     ]
    },
    {
     "name": "stderr",
     "output_type": "stream",
     "text": [
      "WARNING: \"id\" field is not a string - forcing string conversion, there is an error in extractor\n"
     ]
    },
    {
     "name": "stdout",
     "output_type": "stream",
     "text": [
      "[download] Destination: songs/vKZ40l9c4dY.webm\n",
      "[download] 100% of 2.05MiB in 00:04\n",
      "[ffmpeg] Destination: songs/vKZ40l9c4dY.wav\n",
      "Deleting original file songs/vKZ40l9c4dY.webm (pass -k to keep)\n",
      "[youtube] wcCoaN5q2Pg: Downloading webpage\n",
      "[youtube] wcCoaN5q2Pg: Downloading video info webpage\n",
      "[youtube] wcCoaN5q2Pg: Extracting video information\n",
      "[youtube] wcCoaN5q2Pg: Downloading MPD manifest\n"
     ]
    },
    {
     "name": "stderr",
     "output_type": "stream",
     "text": [
      "WARNING: \"id\" field is not a string - forcing string conversion, there is an error in extractor\n"
     ]
    },
    {
     "name": "stdout",
     "output_type": "stream",
     "text": [
      "[download] Destination: songs/wcCoaN5q2Pg.m4a\n",
      "[download] 100% of 2.89MiB in 00:05\n",
      "[ffmpeg] Correcting container in \"songs/wcCoaN5q2Pg.m4a\"\n",
      "[ffmpeg] Destination: songs/wcCoaN5q2Pg.wav\n",
      "Deleting original file songs/wcCoaN5q2Pg.m4a (pass -k to keep)\n",
      "[youtube] VU5Nuucb8_E: Downloading webpage\n",
      "[youtube] VU5Nuucb8_E: Downloading video info webpage\n",
      "[youtube] VU5Nuucb8_E: Extracting video information\n",
      "[youtube] VU5Nuucb8_E: Downloading MPD manifest\n"
     ]
    },
    {
     "name": "stderr",
     "output_type": "stream",
     "text": [
      "WARNING: \"id\" field is not a string - forcing string conversion, there is an error in extractor\n"
     ]
    },
    {
     "name": "stdout",
     "output_type": "stream",
     "text": [
      "[download] Destination: songs/VU5Nuucb8_E.m4a\n",
      "[download] 100% of 2.39MiB in 00:04\n",
      "[ffmpeg] Correcting container in \"songs/VU5Nuucb8_E.m4a\"\n",
      "[ffmpeg] Destination: songs/VU5Nuucb8_E.wav\n",
      "Deleting original file songs/VU5Nuucb8_E.m4a (pass -k to keep)\n",
      "[youtube] 72lT5wxZli4: Downloading webpage\n",
      "[youtube] 72lT5wxZli4: Downloading video info webpage\n",
      "[youtube] 72lT5wxZli4: Extracting video information\n",
      "[youtube] 72lT5wxZli4: Downloading MPD manifest\n"
     ]
    },
    {
     "name": "stderr",
     "output_type": "stream",
     "text": [
      "WARNING: \"id\" field is not a string - forcing string conversion, there is an error in extractor\n"
     ]
    },
    {
     "name": "stdout",
     "output_type": "stream",
     "text": [
      "[download] Destination: songs/72lT5wxZli4.m4a\n",
      "[download] 100% of 2.47MiB in 00:04\n",
      "[ffmpeg] Correcting container in \"songs/72lT5wxZli4.m4a\"\n",
      "[ffmpeg] Destination: songs/72lT5wxZli4.wav\n",
      "Deleting original file songs/72lT5wxZli4.m4a (pass -k to keep)\n",
      "[youtube] 9nH7b9bbReM: Downloading webpage\n",
      "[youtube] 9nH7b9bbReM: Downloading video info webpage\n",
      "[youtube] 9nH7b9bbReM: Extracting video information\n",
      "[youtube] 9nH7b9bbReM: Downloading MPD manifest\n"
     ]
    },
    {
     "name": "stderr",
     "output_type": "stream",
     "text": [
      "WARNING: \"id\" field is not a string - forcing string conversion, there is an error in extractor\n"
     ]
    },
    {
     "name": "stdout",
     "output_type": "stream",
     "text": [
      "[download] Destination: songs/9nH7b9bbReM.webm\n",
      "[download] 100% of 661.71KiB in 00:01\n",
      "[ffmpeg] Destination: songs/9nH7b9bbReM.wav\n",
      "Deleting original file songs/9nH7b9bbReM.webm (pass -k to keep)\n",
      "[youtube] -cbUW2EY4KE: Downloading webpage\n",
      "[youtube] -cbUW2EY4KE: Downloading video info webpage\n",
      "[youtube] -cbUW2EY4KE: Extracting video information\n",
      "[youtube] -cbUW2EY4KE: Downloading MPD manifest\n"
     ]
    },
    {
     "name": "stderr",
     "output_type": "stream",
     "text": [
      "WARNING: \"id\" field is not a string - forcing string conversion, there is an error in extractor\n"
     ]
    },
    {
     "name": "stdout",
     "output_type": "stream",
     "text": [
      "[download] Destination: songs/-cbUW2EY4KE.m4a\n",
      "[download] 100% of 2.81MiB in 00:05\n",
      "[ffmpeg] Correcting container in \"songs/-cbUW2EY4KE.m4a\"\n",
      "[ffmpeg] Destination: songs/-cbUW2EY4KE.wav\n",
      "Deleting original file songs/-cbUW2EY4KE.m4a (pass -k to keep)\n",
      "[youtube] CrCz7fAlKsc: Downloading webpage\n",
      "[youtube] CrCz7fAlKsc: Downloading video info webpage\n",
      "[youtube] CrCz7fAlKsc: Extracting video information\n",
      "[youtube] CrCz7fAlKsc: Downloading MPD manifest\n",
      "[youtube] CrCz7fAlKsc: Downloading MPD manifest\n"
     ]
    },
    {
     "name": "stderr",
     "output_type": "stream",
     "text": [
      "WARNING: \"id\" field is not a string - forcing string conversion, there is an error in extractor\n"
     ]
    },
    {
     "name": "stdout",
     "output_type": "stream",
     "text": [
      "[dashsegments] Total fragments: 14\n",
      "[download] Destination: songs/CrCz7fAlKsc.m4a\n",
      "[download] 100% of 1.42MiB in 00:05\n",
      "[ffmpeg] Correcting container in \"songs/CrCz7fAlKsc.m4a\"\n",
      "[ffmpeg] Destination: songs/CrCz7fAlKsc.wav\n",
      "Deleting original file songs/CrCz7fAlKsc.m4a (pass -k to keep)\n",
      "[youtube] 0SXO5WKMHwI: Downloading webpage\n",
      "[youtube] 0SXO5WKMHwI: Downloading video info webpage\n",
      "[youtube] 0SXO5WKMHwI: Extracting video information\n",
      "[youtube] 0SXO5WKMHwI: Downloading MPD manifest\n"
     ]
    },
    {
     "name": "stderr",
     "output_type": "stream",
     "text": [
      "WARNING: \"id\" field is not a string - forcing string conversion, there is an error in extractor\n"
     ]
    },
    {
     "name": "stdout",
     "output_type": "stream",
     "text": [
      "[download] Destination: songs/0SXO5WKMHwI.webm\n",
      "[download] 100% of 2.73MiB in 00:05\n",
      "[ffmpeg] Destination: songs/0SXO5WKMHwI.wav\n",
      "Deleting original file songs/0SXO5WKMHwI.webm (pass -k to keep)\n",
      "[youtube] yridlWE2zUQ: Downloading webpage\n",
      "[youtube] yridlWE2zUQ: Downloading video info webpage\n",
      "[youtube] yridlWE2zUQ: Extracting video information\n",
      "[youtube] yridlWE2zUQ: Downloading MPD manifest\n"
     ]
    },
    {
     "name": "stderr",
     "output_type": "stream",
     "text": [
      "WARNING: \"id\" field is not a string - forcing string conversion, there is an error in extractor\n"
     ]
    },
    {
     "name": "stdout",
     "output_type": "stream",
     "text": [
      "[download] Destination: songs/yridlWE2zUQ.webm\n",
      "[download] 100% of 3.59MiB in 00:07\n",
      "[ffmpeg] Destination: songs/yridlWE2zUQ.wav\n",
      "Deleting original file songs/yridlWE2zUQ.webm (pass -k to keep)\n",
      "[youtube] m6Ya7GmKMZ4: Downloading webpage\n",
      "[youtube] m6Ya7GmKMZ4: Downloading video info webpage\n",
      "[youtube] m6Ya7GmKMZ4: Extracting video information\n",
      "[youtube] m6Ya7GmKMZ4: Downloading MPD manifest\n"
     ]
    },
    {
     "name": "stderr",
     "output_type": "stream",
     "text": [
      "WARNING: \"id\" field is not a string - forcing string conversion, there is an error in extractor\n"
     ]
    },
    {
     "name": "stdout",
     "output_type": "stream",
     "text": [
      "[download] Destination: songs/m6Ya7GmKMZ4.m4a\n",
      "[download] 100% of 2.80MiB in 00:05\n",
      "[ffmpeg] Correcting container in \"songs/m6Ya7GmKMZ4.m4a\"\n",
      "[ffmpeg] Destination: songs/m6Ya7GmKMZ4.wav\n",
      "Deleting original file songs/m6Ya7GmKMZ4.m4a (pass -k to keep)\n",
      "[youtube] gKiaL2pbwj0: Downloading webpage\n",
      "[youtube] gKiaL2pbwj0: Downloading video info webpage\n",
      "[youtube] gKiaL2pbwj0: Extracting video information\n",
      "[youtube] gKiaL2pbwj0: Downloading MPD manifest\n"
     ]
    },
    {
     "name": "stderr",
     "output_type": "stream",
     "text": [
      "WARNING: \"id\" field is not a string - forcing string conversion, there is an error in extractor\n"
     ]
    },
    {
     "name": "stdout",
     "output_type": "stream",
     "text": [
      "[download] Destination: songs/gKiaL2pbwj0.webm\n",
      "[download] 100% of 4.09MiB in 00:14\n",
      "[ffmpeg] Destination: songs/gKiaL2pbwj0.wav\n",
      "Deleting original file songs/gKiaL2pbwj0.webm (pass -k to keep)\n",
      "[youtube] JDUjeR01wnU: Downloading webpage\n",
      "[youtube] JDUjeR01wnU: Downloading video info webpage\n",
      "[youtube] JDUjeR01wnU: Extracting video information\n",
      "[youtube] JDUjeR01wnU: Downloading MPD manifest\n"
     ]
    },
    {
     "name": "stderr",
     "output_type": "stream",
     "text": [
      "WARNING: \"id\" field is not a string - forcing string conversion, there is an error in extractor\n"
     ]
    },
    {
     "name": "stdout",
     "output_type": "stream",
     "text": [
      "[download] Destination: songs/JDUjeR01wnU.m4a\n",
      "[download] 100% of 1.87MiB in 00:03\n",
      "[ffmpeg] Correcting container in \"songs/JDUjeR01wnU.m4a\"\n",
      "[ffmpeg] Destination: songs/JDUjeR01wnU.wav\n",
      "Deleting original file songs/JDUjeR01wnU.m4a (pass -k to keep)\n",
      "[youtube] fxofatCcjFc: Downloading webpage\n",
      "[youtube] fxofatCcjFc: Downloading video info webpage\n",
      "[youtube] fxofatCcjFc: Extracting video information\n",
      "[youtube] fxofatCcjFc: Downloading MPD manifest\n"
     ]
    },
    {
     "name": "stderr",
     "output_type": "stream",
     "text": [
      "WARNING: \"id\" field is not a string - forcing string conversion, there is an error in extractor\n"
     ]
    },
    {
     "name": "stdout",
     "output_type": "stream",
     "text": [
      "[download] Destination: songs/fxofatCcjFc.webm\n",
      "[download] 100% of 3.57MiB in 00:07\n",
      "[ffmpeg] Destination: songs/fxofatCcjFc.wav\n",
      "Deleting original file songs/fxofatCcjFc.webm (pass -k to keep)\n",
      "[youtube] dYV8pqyB_JE: Downloading webpage\n",
      "[youtube] dYV8pqyB_JE: Downloading video info webpage\n",
      "[youtube] dYV8pqyB_JE: Extracting video information\n",
      "[youtube] dYV8pqyB_JE: Downloading MPD manifest\n"
     ]
    },
    {
     "name": "stderr",
     "output_type": "stream",
     "text": [
      "WARNING: \"id\" field is not a string - forcing string conversion, there is an error in extractor\n"
     ]
    },
    {
     "name": "stdout",
     "output_type": "stream",
     "text": [
      "[download] Destination: songs/dYV8pqyB_JE.webm\n",
      "[download] 100% of 4.16MiB in 00:08\n",
      "[ffmpeg] Destination: songs/dYV8pqyB_JE.wav\n",
      "Deleting original file songs/dYV8pqyB_JE.webm (pass -k to keep)\n",
      "[youtube] lJj22Z006ec: Downloading webpage\n",
      "[youtube] lJj22Z006ec: Downloading video info webpage\n",
      "[youtube] lJj22Z006ec: Extracting video information\n",
      "[youtube] lJj22Z006ec: Downloading MPD manifest\n"
     ]
    },
    {
     "name": "stderr",
     "output_type": "stream",
     "text": [
      "WARNING: \"id\" field is not a string - forcing string conversion, there is an error in extractor\n"
     ]
    },
    {
     "name": "stdout",
     "output_type": "stream",
     "text": [
      "[download] Destination: songs/lJj22Z006ec.webm\n",
      "[download] 100% of 1.76MiB in 00:03\n",
      "[ffmpeg] Destination: songs/lJj22Z006ec.wav\n",
      "Deleting original file songs/lJj22Z006ec.webm (pass -k to keep)\n",
      "[youtube] DGQHyZrdyI0: Downloading webpage\n",
      "[youtube] DGQHyZrdyI0: Downloading video info webpage\n",
      "[youtube] DGQHyZrdyI0: Extracting video information\n",
      "[youtube] DGQHyZrdyI0: Downloading MPD manifest\n"
     ]
    },
    {
     "name": "stderr",
     "output_type": "stream",
     "text": [
      "WARNING: \"id\" field is not a string - forcing string conversion, there is an error in extractor\n"
     ]
    },
    {
     "name": "stdout",
     "output_type": "stream",
     "text": [
      "[download] Destination: songs/DGQHyZrdyI0.m4a\n",
      "[download] 100% of 2.49MiB in 00:04\n",
      "[ffmpeg] Correcting container in \"songs/DGQHyZrdyI0.m4a\"\n",
      "[ffmpeg] Destination: songs/DGQHyZrdyI0.wav\n",
      "Deleting original file songs/DGQHyZrdyI0.m4a (pass -k to keep)\n",
      "[youtube] 3SsF7odS80w: Downloading webpage\n",
      "[youtube] 3SsF7odS80w: Downloading video info webpage\n",
      "[youtube] 3SsF7odS80w: Extracting video information\n",
      "[youtube] 3SsF7odS80w: Downloading MPD manifest\n"
     ]
    },
    {
     "name": "stderr",
     "output_type": "stream",
     "text": [
      "WARNING: \"id\" field is not a string - forcing string conversion, there is an error in extractor\n"
     ]
    },
    {
     "name": "stdout",
     "output_type": "stream",
     "text": [
      "[download] Destination: songs/3SsF7odS80w.m4a\n",
      "[download] 100% of 3.52MiB in 00:06\n",
      "[ffmpeg] Correcting container in \"songs/3SsF7odS80w.m4a\"\n",
      "[ffmpeg] Destination: songs/3SsF7odS80w.wav\n",
      "Deleting original file songs/3SsF7odS80w.m4a (pass -k to keep)\n",
      "[youtube] V5ZG378DH1c: Downloading webpage\n",
      "[youtube] V5ZG378DH1c: Downloading video info webpage\n",
      "[youtube] V5ZG378DH1c: Extracting video information\n",
      "[youtube] V5ZG378DH1c: Downloading MPD manifest\n"
     ]
    },
    {
     "name": "stderr",
     "output_type": "stream",
     "text": [
      "WARNING: \"id\" field is not a string - forcing string conversion, there is an error in extractor\n"
     ]
    },
    {
     "name": "stdout",
     "output_type": "stream",
     "text": [
      "[download] Destination: songs/V5ZG378DH1c.webm\n",
      "[download] 100% of 2.92MiB in 00:05\n",
      "[ffmpeg] Destination: songs/V5ZG378DH1c.wav\n",
      "Deleting original file songs/V5ZG378DH1c.webm (pass -k to keep)\n",
      "[youtube] kvxPYZ3p0j8: Downloading webpage\n",
      "[youtube] kvxPYZ3p0j8: Downloading video info webpage\n",
      "[youtube] kvxPYZ3p0j8: Extracting video information\n",
      "[youtube] kvxPYZ3p0j8: Downloading MPD manifest\n"
     ]
    },
    {
     "name": "stderr",
     "output_type": "stream",
     "text": [
      "WARNING: \"id\" field is not a string - forcing string conversion, there is an error in extractor\n"
     ]
    },
    {
     "name": "stdout",
     "output_type": "stream",
     "text": [
      "[download] Destination: songs/kvxPYZ3p0j8.webm\n",
      "[download] 100% of 3.41MiB in 00:06\n",
      "[ffmpeg] Destination: songs/kvxPYZ3p0j8.wav\n",
      "Deleting original file songs/kvxPYZ3p0j8.webm (pass -k to keep)\n",
      "[youtube] aAlN_9pbMLg: Downloading webpage\n",
      "[youtube] aAlN_9pbMLg: Downloading video info webpage\n",
      "[youtube] aAlN_9pbMLg: Extracting video information\n",
      "[youtube] aAlN_9pbMLg: Downloading MPD manifest\n"
     ]
    },
    {
     "name": "stderr",
     "output_type": "stream",
     "text": [
      "WARNING: \"id\" field is not a string - forcing string conversion, there is an error in extractor\n"
     ]
    },
    {
     "name": "stdout",
     "output_type": "stream",
     "text": [
      "[download] Destination: songs/aAlN_9pbMLg.webm\n",
      "[download] 100% of 3.21MiB in 00:06\n",
      "[ffmpeg] Destination: songs/aAlN_9pbMLg.wav\n",
      "Deleting original file songs/aAlN_9pbMLg.webm (pass -k to keep)\n",
      "[youtube] sEApFUc0ih0: Downloading webpage\n",
      "[youtube] sEApFUc0ih0: Downloading video info webpage\n",
      "[youtube] sEApFUc0ih0: Extracting video information\n",
      "[youtube] sEApFUc0ih0: Downloading MPD manifest\n"
     ]
    },
    {
     "name": "stderr",
     "output_type": "stream",
     "text": [
      "WARNING: \"id\" field is not a string - forcing string conversion, there is an error in extractor\n"
     ]
    },
    {
     "name": "stdout",
     "output_type": "stream",
     "text": [
      "[download] Destination: songs/sEApFUc0ih0.webm\n",
      "[download] 100% of 2.76MiB in 00:05\n",
      "[ffmpeg] Destination: songs/sEApFUc0ih0.wav\n",
      "Deleting original file songs/sEApFUc0ih0.webm (pass -k to keep)\n",
      "[youtube] NuxCPvS3dWA: Downloading webpage\n",
      "[youtube] NuxCPvS3dWA: Downloading video info webpage\n",
      "[youtube] NuxCPvS3dWA: Extracting video information\n",
      "[youtube] NuxCPvS3dWA: Downloading MPD manifest\n"
     ]
    },
    {
     "name": "stderr",
     "output_type": "stream",
     "text": [
      "WARNING: \"id\" field is not a string - forcing string conversion, there is an error in extractor\n"
     ]
    },
    {
     "name": "stdout",
     "output_type": "stream",
     "text": [
      "[download] Destination: songs/NuxCPvS3dWA.webm\n",
      "[download] 100% of 4.07MiB in 00:08\n",
      "[ffmpeg] Destination: songs/NuxCPvS3dWA.wav\n",
      "Deleting original file songs/NuxCPvS3dWA.webm (pass -k to keep)\n",
      "[youtube] uvqz2LWzGBU: Downloading webpage\n",
      "[youtube] uvqz2LWzGBU: Downloading video info webpage\n",
      "[youtube] uvqz2LWzGBU: Extracting video information\n",
      "[youtube] uvqz2LWzGBU: Downloading MPD manifest\n"
     ]
    },
    {
     "name": "stderr",
     "output_type": "stream",
     "text": [
      "WARNING: \"id\" field is not a string - forcing string conversion, there is an error in extractor\n"
     ]
    },
    {
     "name": "stdout",
     "output_type": "stream",
     "text": [
      "[download] Destination: songs/uvqz2LWzGBU.m4a\n",
      "[download] 100% of 1.59MiB in 00:03\n",
      "[ffmpeg] Correcting container in \"songs/uvqz2LWzGBU.m4a\"\n",
      "[ffmpeg] Destination: songs/uvqz2LWzGBU.wav\n",
      "Deleting original file songs/uvqz2LWzGBU.m4a (pass -k to keep)\n",
      "[youtube] 424rudlEMDk: Downloading webpage\n",
      "[youtube] 424rudlEMDk: Downloading video info webpage\n",
      "[youtube] 424rudlEMDk: Extracting video information\n",
      "[youtube] 424rudlEMDk: Downloading MPD manifest\n"
     ]
    },
    {
     "name": "stderr",
     "output_type": "stream",
     "text": [
      "WARNING: \"id\" field is not a string - forcing string conversion, there is an error in extractor\n"
     ]
    },
    {
     "name": "stdout",
     "output_type": "stream",
     "text": [
      "[download] Destination: songs/424rudlEMDk.webm\n",
      "[download] 100% of 2.90MiB in 00:06\n",
      "[ffmpeg] Destination: songs/424rudlEMDk.wav\n",
      "Deleting original file songs/424rudlEMDk.webm (pass -k to keep)\n",
      "[youtube] soT_D26Wp00: Downloading webpage\n",
      "[youtube] soT_D26Wp00: Downloading video info webpage\n",
      "[youtube] soT_D26Wp00: Extracting video information\n",
      "[youtube] soT_D26Wp00: Downloading MPD manifest\n"
     ]
    },
    {
     "name": "stderr",
     "output_type": "stream",
     "text": [
      "WARNING: \"id\" field is not a string - forcing string conversion, there is an error in extractor\n"
     ]
    },
    {
     "name": "stdout",
     "output_type": "stream",
     "text": [
      "[download] Destination: songs/soT_D26Wp00.m4a\n",
      "[download] 100% of 3.34MiB in 00:06\n",
      "[ffmpeg] Correcting container in \"songs/soT_D26Wp00.m4a\"\n",
      "[ffmpeg] Destination: songs/soT_D26Wp00.wav\n",
      "Deleting original file songs/soT_D26Wp00.m4a (pass -k to keep)\n",
      "[youtube] T1aKNVeke6g: Downloading webpage\n",
      "[youtube] T1aKNVeke6g: Downloading video info webpage\n",
      "[youtube] T1aKNVeke6g: Extracting video information\n",
      "[youtube] T1aKNVeke6g: Downloading MPD manifest\n"
     ]
    },
    {
     "name": "stderr",
     "output_type": "stream",
     "text": [
      "WARNING: \"id\" field is not a string - forcing string conversion, there is an error in extractor\n"
     ]
    },
    {
     "name": "stdout",
     "output_type": "stream",
     "text": [
      "[download] Destination: songs/T1aKNVeke6g.webm\n",
      "[download] 100% of 4.77MiB in 00:09\n",
      "[ffmpeg] Destination: songs/T1aKNVeke6g.wav\n",
      "Deleting original file songs/T1aKNVeke6g.webm (pass -k to keep)\n",
      "[youtube] CgGiCKbud5I: Downloading webpage\n",
      "[youtube] CgGiCKbud5I: Downloading video info webpage\n",
      "[youtube] CgGiCKbud5I: Extracting video information\n",
      "[youtube] CgGiCKbud5I: Downloading MPD manifest\n"
     ]
    },
    {
     "name": "stderr",
     "output_type": "stream",
     "text": [
      "WARNING: \"id\" field is not a string - forcing string conversion, there is an error in extractor\n"
     ]
    },
    {
     "name": "stdout",
     "output_type": "stream",
     "text": [
      "[download] Destination: songs/CgGiCKbud5I.webm\n",
      "[download] 100% of 5.97MiB in 00:11\n",
      "[ffmpeg] Destination: songs/CgGiCKbud5I.wav\n",
      "Deleting original file songs/CgGiCKbud5I.webm (pass -k to keep)\n",
      "[youtube] GQlWAuoh1zg: Downloading webpage\n",
      "[youtube] GQlWAuoh1zg: Downloading video info webpage\n",
      "[youtube] GQlWAuoh1zg: Extracting video information\n",
      "[youtube] GQlWAuoh1zg: Downloading MPD manifest\n"
     ]
    },
    {
     "name": "stderr",
     "output_type": "stream",
     "text": [
      "WARNING: \"id\" field is not a string - forcing string conversion, there is an error in extractor\n"
     ]
    },
    {
     "name": "stdout",
     "output_type": "stream",
     "text": [
      "[download] Destination: songs/GQlWAuoh1zg.webm\n",
      "[download] 100% of 3.92MiB in 00:07\n",
      "[ffmpeg] Destination: songs/GQlWAuoh1zg.wav\n",
      "Deleting original file songs/GQlWAuoh1zg.webm (pass -k to keep)\n",
      "[youtube] 8eBH9wzQVzo: Downloading webpage\n",
      "[youtube] 8eBH9wzQVzo: Downloading video info webpage\n",
      "[youtube] 8eBH9wzQVzo: Extracting video information\n",
      "[youtube] 8eBH9wzQVzo: Downloading MPD manifest\n"
     ]
    },
    {
     "name": "stderr",
     "output_type": "stream",
     "text": [
      "WARNING: \"id\" field is not a string - forcing string conversion, there is an error in extractor\n"
     ]
    },
    {
     "name": "stdout",
     "output_type": "stream",
     "text": [
      "[download] Destination: songs/8eBH9wzQVzo.webm\n",
      "[download] 100% of 4.05MiB in 00:07\n",
      "[ffmpeg] Destination: songs/8eBH9wzQVzo.wav\n",
      "Deleting original file songs/8eBH9wzQVzo.webm (pass -k to keep)\n",
      "[youtube] Fnq4vEig-2s: Downloading webpage\n",
      "[youtube] Fnq4vEig-2s: Downloading video info webpage\n",
      "[youtube] Fnq4vEig-2s: Extracting video information\n",
      "[youtube] Fnq4vEig-2s: Downloading MPD manifest\n"
     ]
    },
    {
     "name": "stderr",
     "output_type": "stream",
     "text": [
      "WARNING: \"id\" field is not a string - forcing string conversion, there is an error in extractor\n"
     ]
    },
    {
     "name": "stdout",
     "output_type": "stream",
     "text": [
      "[download] Destination: songs/Fnq4vEig-2s.webm\n",
      "[download] 100% of 2.60MiB in 00:05\n",
      "[ffmpeg] Destination: songs/Fnq4vEig-2s.wav\n",
      "Deleting original file songs/Fnq4vEig-2s.webm (pass -k to keep)\n",
      "[youtube] Ghki8V2SB4c: Downloading webpage\n",
      "[youtube] Ghki8V2SB4c: Downloading video info webpage\n",
      "[youtube] Ghki8V2SB4c: Extracting video information\n",
      "[youtube] Ghki8V2SB4c: Downloading MPD manifest\n",
      "[youtube] Ghki8V2SB4c: Downloading MPD manifest\n"
     ]
    },
    {
     "name": "stderr",
     "output_type": "stream",
     "text": [
      "WARNING: \"id\" field is not a string - forcing string conversion, there is an error in extractor\n"
     ]
    },
    {
     "name": "stdout",
     "output_type": "stream",
     "text": [
      "[dashsegments] Total fragments: 23\n",
      "[download] Destination: songs/Ghki8V2SB4c.m4a\n",
      "[download] 100% of 3.25MiB in 00:11\n",
      "[ffmpeg] Correcting container in \"songs/Ghki8V2SB4c.m4a\"\n",
      "[ffmpeg] Destination: songs/Ghki8V2SB4c.wav\n",
      "Deleting original file songs/Ghki8V2SB4c.m4a (pass -k to keep)\n",
      "[youtube] ZxRsOC1GN8o: Downloading webpage\n",
      "[youtube] ZxRsOC1GN8o: Downloading video info webpage\n"
     ]
    },
    {
     "name": "stderr",
     "output_type": "stream",
     "text": [
      "ERROR: ZxRsOC1GN8o: YouTube said: This video is not available.\n"
     ]
    },
    {
     "name": "stdout",
     "output_type": "stream",
     "text": [
      "[youtube] 83f_cdBu4kU: Downloading webpage\n",
      "[youtube] 83f_cdBu4kU: Downloading video info webpage\n",
      "[youtube] 83f_cdBu4kU: Extracting video information\n",
      "[youtube] 83f_cdBu4kU: Downloading MPD manifest\n",
      "[youtube] 83f_cdBu4kU: Downloading MPD manifest\n"
     ]
    },
    {
     "name": "stderr",
     "output_type": "stream",
     "text": [
      "WARNING: \"id\" field is not a string - forcing string conversion, there is an error in extractor\n"
     ]
    },
    {
     "name": "stdout",
     "output_type": "stream",
     "text": [
      "[dashsegments] Total fragments: 25\n",
      "[download] Destination: songs/83f_cdBu4kU.m4a\n",
      "[download] 100% of 3.48MiB in 00:11\n",
      "[ffmpeg] Correcting container in \"songs/83f_cdBu4kU.m4a\"\n",
      "[ffmpeg] Destination: songs/83f_cdBu4kU.wav\n",
      "Deleting original file songs/83f_cdBu4kU.m4a (pass -k to keep)\n",
      "[youtube] KZMJ1vhtXFs: Downloading webpage\n",
      "[youtube] KZMJ1vhtXFs: Downloading video info webpage\n",
      "[youtube] KZMJ1vhtXFs: Extracting video information\n",
      "[youtube] KZMJ1vhtXFs: Downloading MPD manifest\n"
     ]
    },
    {
     "name": "stderr",
     "output_type": "stream",
     "text": [
      "WARNING: \"id\" field is not a string - forcing string conversion, there is an error in extractor\n"
     ]
    },
    {
     "name": "stdout",
     "output_type": "stream",
     "text": [
      "[download] Destination: songs/KZMJ1vhtXFs.m4a\n",
      "[download] 100% of 2.86MiB in 00:05\n",
      "[ffmpeg] Correcting container in \"songs/KZMJ1vhtXFs.m4a\"\n",
      "[ffmpeg] Destination: songs/KZMJ1vhtXFs.wav\n",
      "Deleting original file songs/KZMJ1vhtXFs.m4a (pass -k to keep)\n",
      "[youtube] HllJ_7q4qRs: Downloading webpage\n",
      "[youtube] HllJ_7q4qRs: Downloading video info webpage\n",
      "[youtube] HllJ_7q4qRs: Extracting video information\n",
      "[youtube] HllJ_7q4qRs: Downloading MPD manifest\n"
     ]
    },
    {
     "name": "stderr",
     "output_type": "stream",
     "text": [
      "WARNING: \"id\" field is not a string - forcing string conversion, there is an error in extractor\n"
     ]
    },
    {
     "name": "stdout",
     "output_type": "stream",
     "text": [
      "[download] Destination: songs/HllJ_7q4qRs.webm\n",
      "[download] 100% of 2.72MiB in 00:05\n",
      "[ffmpeg] Destination: songs/HllJ_7q4qRs.wav\n",
      "Deleting original file songs/HllJ_7q4qRs.webm (pass -k to keep)\n",
      "[youtube] Jug1Ec9IcMo: Downloading webpage\n",
      "[youtube] Jug1Ec9IcMo: Downloading video info webpage\n",
      "[youtube] Jug1Ec9IcMo: Extracting video information\n",
      "[youtube] Jug1Ec9IcMo: Downloading MPD manifest\n",
      "[youtube] Jug1Ec9IcMo: Downloading MPD manifest\n"
     ]
    },
    {
     "name": "stderr",
     "output_type": "stream",
     "text": [
      "WARNING: \"id\" field is not a string - forcing string conversion, there is an error in extractor\n"
     ]
    },
    {
     "name": "stdout",
     "output_type": "stream",
     "text": [
      "[dashsegments] Total fragments: 22\n",
      "[download] Destination: songs/Jug1Ec9IcMo.m4a\n",
      "[download] 100% of 3.11MiB in 00:11\n",
      "[ffmpeg] Correcting container in \"songs/Jug1Ec9IcMo.m4a\"\n",
      "[ffmpeg] Destination: songs/Jug1Ec9IcMo.wav\n",
      "Deleting original file songs/Jug1Ec9IcMo.m4a (pass -k to keep)\n",
      "[youtube] PmpGsZMCrus: Downloading webpage\n",
      "[youtube] PmpGsZMCrus: Downloading video info webpage\n",
      "[youtube] PmpGsZMCrus: Extracting video information\n",
      "[youtube] PmpGsZMCrus: Downloading MPD manifest\n",
      "[youtube] PmpGsZMCrus: Downloading MPD manifest\n"
     ]
    },
    {
     "name": "stderr",
     "output_type": "stream",
     "text": [
      "WARNING: \"id\" field is not a string - forcing string conversion, there is an error in extractor\n"
     ]
    },
    {
     "name": "stdout",
     "output_type": "stream",
     "text": [
      "[dashsegments] Total fragments: 40\n",
      "[download] Destination: songs/PmpGsZMCrus.m4a\n",
      "[download] 100% of 4.36MiB in 00:16\n",
      "[ffmpeg] Correcting container in \"songs/PmpGsZMCrus.m4a\"\n",
      "[ffmpeg] Destination: songs/PmpGsZMCrus.wav\n",
      "Deleting original file songs/PmpGsZMCrus.m4a (pass -k to keep)\n",
      "[youtube] bBnl97M6cvI: Downloading webpage\n",
      "[youtube] bBnl97M6cvI: Downloading video info webpage\n",
      "[youtube] bBnl97M6cvI: Extracting video information\n",
      "[youtube] bBnl97M6cvI: Downloading MPD manifest\n"
     ]
    },
    {
     "name": "stderr",
     "output_type": "stream",
     "text": [
      "WARNING: \"id\" field is not a string - forcing string conversion, there is an error in extractor\n"
     ]
    },
    {
     "name": "stdout",
     "output_type": "stream",
     "text": [
      "[download] Destination: songs/bBnl97M6cvI.webm\n",
      "[download] 100% of 5.24MiB in 00:10\n",
      "[ffmpeg] Destination: songs/bBnl97M6cvI.wav\n",
      "Deleting original file songs/bBnl97M6cvI.webm (pass -k to keep)\n",
      "[youtube] 625J2orLUFI: Downloading webpage\n",
      "[youtube] 625J2orLUFI: Downloading video info webpage\n",
      "[youtube] 625J2orLUFI: Extracting video information\n",
      "[youtube] 625J2orLUFI: Downloading MPD manifest\n"
     ]
    },
    {
     "name": "stderr",
     "output_type": "stream",
     "text": [
      "WARNING: \"id\" field is not a string - forcing string conversion, there is an error in extractor\n"
     ]
    },
    {
     "name": "stdout",
     "output_type": "stream",
     "text": [
      "[download] Destination: songs/625J2orLUFI.webm\n",
      "[download] 100% of 3.68MiB in 00:07\n",
      "[ffmpeg] Destination: songs/625J2orLUFI.wav\n",
      "Deleting original file songs/625J2orLUFI.webm (pass -k to keep)\n",
      "[youtube] GuAGMTAqnYw: Downloading webpage\n",
      "[youtube] GuAGMTAqnYw: Downloading video info webpage\n"
     ]
    },
    {
     "name": "stderr",
     "output_type": "stream",
     "text": [
      "ERROR: GuAGMTAqnYw: YouTube said: This video contains content from UMG, who has blocked it on copyright grounds.\n"
     ]
    },
    {
     "name": "stdout",
     "output_type": "stream",
     "text": [
      "[youtube] NLfG8AhOAYs: Downloading webpage\n",
      "[youtube] NLfG8AhOAYs: Downloading video info webpage\n",
      "[youtube] NLfG8AhOAYs: Extracting video information\n",
      "[youtube] NLfG8AhOAYs: Downloading MPD manifest\n"
     ]
    },
    {
     "name": "stderr",
     "output_type": "stream",
     "text": [
      "WARNING: \"id\" field is not a string - forcing string conversion, there is an error in extractor\n"
     ]
    },
    {
     "name": "stdout",
     "output_type": "stream",
     "text": [
      "[download] Destination: songs/NLfG8AhOAYs.m4a\n",
      "[download] 100% of 3.10MiB in 00:06\n",
      "[ffmpeg] Correcting container in \"songs/NLfG8AhOAYs.m4a\"\n",
      "[ffmpeg] Destination: songs/NLfG8AhOAYs.wav\n",
      "Deleting original file songs/NLfG8AhOAYs.m4a (pass -k to keep)\n",
      "[youtube] QGRxtVKLawY: Downloading webpage\n",
      "[youtube] QGRxtVKLawY: Downloading video info webpage\n",
      "[youtube] QGRxtVKLawY: Extracting video information\n",
      "[youtube] QGRxtVKLawY: Downloading MPD manifest\n"
     ]
    },
    {
     "name": "stderr",
     "output_type": "stream",
     "text": [
      "WARNING: \"id\" field is not a string - forcing string conversion, there is an error in extractor\n"
     ]
    },
    {
     "name": "stdout",
     "output_type": "stream",
     "text": [
      "[download] Destination: songs/QGRxtVKLawY.webm\n",
      "[download] 100% of 3.37MiB in 00:06\n",
      "[ffmpeg] Destination: songs/QGRxtVKLawY.wav\n",
      "Deleting original file songs/QGRxtVKLawY.webm (pass -k to keep)\n",
      "[youtube] v4OB05yt5yo: Downloading webpage\n",
      "[youtube] v4OB05yt5yo: Downloading video info webpage\n",
      "[youtube] v4OB05yt5yo: Extracting video information\n",
      "[youtube] v4OB05yt5yo: Downloading MPD manifest\n"
     ]
    },
    {
     "name": "stderr",
     "output_type": "stream",
     "text": [
      "WARNING: \"id\" field is not a string - forcing string conversion, there is an error in extractor\n"
     ]
    },
    {
     "name": "stdout",
     "output_type": "stream",
     "text": [
      "[download] Destination: songs/v4OB05yt5yo.m4a\n",
      "[download] 100% of 2.23MiB in 00:04\n",
      "[ffmpeg] Correcting container in \"songs/v4OB05yt5yo.m4a\"\n",
      "[ffmpeg] Destination: songs/v4OB05yt5yo.wav\n",
      "Deleting original file songs/v4OB05yt5yo.m4a (pass -k to keep)\n",
      "[youtube] j0gbLz1SDww: Downloading webpage\n",
      "[youtube] j0gbLz1SDww: Downloading video info webpage\n",
      "[youtube] j0gbLz1SDww: Extracting video information\n",
      "[youtube] j0gbLz1SDww: Downloading MPD manifest\n"
     ]
    },
    {
     "name": "stderr",
     "output_type": "stream",
     "text": [
      "WARNING: \"id\" field is not a string - forcing string conversion, there is an error in extractor\n"
     ]
    },
    {
     "name": "stdout",
     "output_type": "stream",
     "text": [
      "[download] Destination: songs/j0gbLz1SDww.m4a\n",
      "[download] 100% of 3.83MiB in 00:07\n",
      "[ffmpeg] Correcting container in \"songs/j0gbLz1SDww.m4a\"\n",
      "[ffmpeg] Destination: songs/j0gbLz1SDww.wav\n",
      "Deleting original file songs/j0gbLz1SDww.m4a (pass -k to keep)\n",
      "[youtube] rkGUkuzPf6g: Downloading webpage\n",
      "[youtube] rkGUkuzPf6g: Downloading video info webpage\n",
      "[youtube] rkGUkuzPf6g: Extracting video information\n",
      "[youtube] rkGUkuzPf6g: Downloading MPD manifest\n"
     ]
    },
    {
     "name": "stderr",
     "output_type": "stream",
     "text": [
      "WARNING: \"id\" field is not a string - forcing string conversion, there is an error in extractor\n"
     ]
    },
    {
     "name": "stdout",
     "output_type": "stream",
     "text": [
      "[download] Destination: songs/rkGUkuzPf6g.webm\n",
      "[download] 100% of 464.01KiB in 00:00\n",
      "[ffmpeg] Destination: songs/rkGUkuzPf6g.wav\n",
      "Deleting original file songs/rkGUkuzPf6g.webm (pass -k to keep)\n",
      "[youtube] pPBjvVgKAAM: Downloading webpage\n",
      "[youtube] pPBjvVgKAAM: Downloading video info webpage\n",
      "[youtube] pPBjvVgKAAM: Extracting video information\n",
      "[youtube] pPBjvVgKAAM: Downloading MPD manifest\n"
     ]
    },
    {
     "name": "stderr",
     "output_type": "stream",
     "text": [
      "WARNING: \"id\" field is not a string - forcing string conversion, there is an error in extractor\n"
     ]
    },
    {
     "name": "stdout",
     "output_type": "stream",
     "text": [
      "[download] Destination: songs/pPBjvVgKAAM.m4a\n",
      "[download] 100% of 3.60MiB in 00:07\n",
      "[ffmpeg] Correcting container in \"songs/pPBjvVgKAAM.m4a\"\n",
      "[ffmpeg] Destination: songs/pPBjvVgKAAM.wav\n",
      "Deleting original file songs/pPBjvVgKAAM.m4a (pass -k to keep)\n",
      "[youtube] yyGlQVSF2QU: Downloading webpage\n",
      "[youtube] yyGlQVSF2QU: Downloading video info webpage\n",
      "[youtube] yyGlQVSF2QU: Extracting video information\n",
      "[youtube] yyGlQVSF2QU: Downloading MPD manifest\n",
      "[youtube] yyGlQVSF2QU: Downloading MPD manifest\n"
     ]
    },
    {
     "name": "stderr",
     "output_type": "stream",
     "text": [
      "WARNING: \"id\" field is not a string - forcing string conversion, there is an error in extractor\n"
     ]
    },
    {
     "name": "stdout",
     "output_type": "stream",
     "text": [
      "[dashsegments] Total fragments: 19\n",
      "[download] Destination: songs/yyGlQVSF2QU.m4a\n",
      "[download] 100% of 2.64MiB in 00:08\n",
      "[ffmpeg] Correcting container in \"songs/yyGlQVSF2QU.m4a\"\n",
      "[ffmpeg] Destination: songs/yyGlQVSF2QU.wav\n",
      "Deleting original file songs/yyGlQVSF2QU.m4a (pass -k to keep)\n",
      "[youtube] dbD5v2xijqw: Downloading webpage\n",
      "[youtube] dbD5v2xijqw: Downloading video info webpage\n"
     ]
    },
    {
     "name": "stderr",
     "output_type": "stream",
     "text": [
      "ERROR: dbD5v2xijqw: YouTube said: This video contains content from Music Vault, who has blocked it on copyright grounds.\n"
     ]
    },
    {
     "name": "stdout",
     "output_type": "stream",
     "text": [
      "[youtube] pr_HcNzNBXg: Downloading webpage\n",
      "[youtube] pr_HcNzNBXg: Downloading video info webpage\n",
      "[youtube] pr_HcNzNBXg: Extracting video information\n",
      "[youtube] pr_HcNzNBXg: Downloading MPD manifest\n"
     ]
    },
    {
     "name": "stderr",
     "output_type": "stream",
     "text": [
      "WARNING: \"id\" field is not a string - forcing string conversion, there is an error in extractor\n"
     ]
    },
    {
     "name": "stdout",
     "output_type": "stream",
     "text": [
      "[download] Destination: songs/pr_HcNzNBXg.webm\n",
      "[download] 100% of 2.79MiB in 00:06\n",
      "[ffmpeg] Destination: songs/pr_HcNzNBXg.wav\n",
      "Deleting original file songs/pr_HcNzNBXg.webm (pass -k to keep)\n",
      "[youtube] mKYw0Ow4xx8: Downloading webpage\n",
      "[youtube] mKYw0Ow4xx8: Downloading video info webpage\n",
      "[youtube] mKYw0Ow4xx8: Extracting video information\n",
      "[youtube] mKYw0Ow4xx8: Downloading MPD manifest\n",
      "[youtube] mKYw0Ow4xx8: Downloading MPD manifest\n"
     ]
    },
    {
     "name": "stderr",
     "output_type": "stream",
     "text": [
      "WARNING: \"id\" field is not a string - forcing string conversion, there is an error in extractor\n"
     ]
    },
    {
     "name": "stdout",
     "output_type": "stream",
     "text": [
      "[dashsegments] Total fragments: 35\n",
      "[download] Destination: songs/mKYw0Ow4xx8.m4a\n",
      "[download] 100% of 5.10MiB in 00:16\n",
      "[ffmpeg] Correcting container in \"songs/mKYw0Ow4xx8.m4a\"\n",
      "[ffmpeg] Destination: songs/mKYw0Ow4xx8.wav\n",
      "Deleting original file songs/mKYw0Ow4xx8.m4a (pass -k to keep)\n",
      "[youtube] -AfkmVkAPAM: Downloading webpage\n",
      "[youtube] -AfkmVkAPAM: Downloading video info webpage\n",
      "[youtube] -AfkmVkAPAM: Extracting video information\n",
      "[youtube] -AfkmVkAPAM: Downloading MPD manifest\n"
     ]
    },
    {
     "name": "stderr",
     "output_type": "stream",
     "text": [
      "WARNING: \"id\" field is not a string - forcing string conversion, there is an error in extractor\n"
     ]
    },
    {
     "name": "stdout",
     "output_type": "stream",
     "text": [
      "[download] Destination: songs/-AfkmVkAPAM.m4a\n",
      "[download] 100% of 2.14MiB in 00:04\n",
      "[ffmpeg] Correcting container in \"songs/-AfkmVkAPAM.m4a\"\n",
      "[ffmpeg] Destination: songs/-AfkmVkAPAM.wav\n",
      "Deleting original file songs/-AfkmVkAPAM.m4a (pass -k to keep)\n",
      "[youtube] z0NROIs9H2k: Downloading webpage\n",
      "[youtube] z0NROIs9H2k: Downloading video info webpage\n",
      "[youtube] z0NROIs9H2k: Extracting video information\n",
      "[youtube] z0NROIs9H2k: Downloading MPD manifest\n"
     ]
    },
    {
     "name": "stderr",
     "output_type": "stream",
     "text": [
      "WARNING: \"id\" field is not a string - forcing string conversion, there is an error in extractor\n"
     ]
    },
    {
     "name": "stdout",
     "output_type": "stream",
     "text": [
      "[download] Destination: songs/z0NROIs9H2k.webm\n",
      "[download] 100% of 3.79MiB in 00:07\n",
      "[ffmpeg] Destination: songs/z0NROIs9H2k.wav\n",
      "Deleting original file songs/z0NROIs9H2k.webm (pass -k to keep)\n",
      "[youtube] jkZ6SmvXOEY: Downloading webpage\n",
      "[youtube] jkZ6SmvXOEY: Downloading video info webpage\n",
      "[youtube] jkZ6SmvXOEY: Extracting video information\n",
      "[youtube] jkZ6SmvXOEY: Downloading MPD manifest\n"
     ]
    },
    {
     "name": "stderr",
     "output_type": "stream",
     "text": [
      "WARNING: \"id\" field is not a string - forcing string conversion, there is an error in extractor\n"
     ]
    },
    {
     "name": "stdout",
     "output_type": "stream",
     "text": [
      "[download] Destination: songs/jkZ6SmvXOEY.webm\n",
      "[download] 100% of 5.13MiB in 00:10\n",
      "[ffmpeg] Destination: songs/jkZ6SmvXOEY.wav\n",
      "Deleting original file songs/jkZ6SmvXOEY.webm (pass -k to keep)\n",
      "[youtube] gX_0Pji1YJc: Downloading webpage\n",
      "[youtube] gX_0Pji1YJc: Downloading video info webpage\n",
      "[youtube] gX_0Pji1YJc: Extracting video information\n",
      "[youtube] gX_0Pji1YJc: Downloading MPD manifest\n",
      "[youtube] gX_0Pji1YJc: Downloading MPD manifest\n"
     ]
    },
    {
     "name": "stderr",
     "output_type": "stream",
     "text": [
      "WARNING: \"id\" field is not a string - forcing string conversion, there is an error in extractor\n"
     ]
    },
    {
     "name": "stdout",
     "output_type": "stream",
     "text": [
      "[dashsegments] Total fragments: 29\n",
      "[download] Destination: songs/gX_0Pji1YJc.m4a\n",
      "[download] 100% of 4.13MiB in 00:15\n",
      "[ffmpeg] Correcting container in \"songs/gX_0Pji1YJc.m4a\"\n",
      "[ffmpeg] Destination: songs/gX_0Pji1YJc.wav\n",
      "Deleting original file songs/gX_0Pji1YJc.m4a (pass -k to keep)\n",
      "[youtube] gv6XjJnSLOc: Downloading webpage\n",
      "[youtube] gv6XjJnSLOc: Downloading video info webpage\n",
      "[youtube] gv6XjJnSLOc: Extracting video information\n",
      "[youtube] gv6XjJnSLOc: Downloading MPD manifest\n"
     ]
    },
    {
     "name": "stderr",
     "output_type": "stream",
     "text": [
      "WARNING: \"id\" field is not a string - forcing string conversion, there is an error in extractor\n"
     ]
    },
    {
     "name": "stdout",
     "output_type": "stream",
     "text": [
      "[download] Destination: songs/gv6XjJnSLOc.webm\n",
      "[download] 100% of 2.71MiB in 00:05\n",
      "[ffmpeg] Destination: songs/gv6XjJnSLOc.wav\n",
      "Deleting original file songs/gv6XjJnSLOc.webm (pass -k to keep)\n",
      "[youtube] JeUn3tTP6mw: Downloading webpage\n",
      "[youtube] JeUn3tTP6mw: Downloading video info webpage\n",
      "[youtube] JeUn3tTP6mw: Extracting video information\n",
      "[youtube] JeUn3tTP6mw: Downloading MPD manifest\n"
     ]
    },
    {
     "name": "stderr",
     "output_type": "stream",
     "text": [
      "WARNING: \"id\" field is not a string - forcing string conversion, there is an error in extractor\n"
     ]
    },
    {
     "name": "stdout",
     "output_type": "stream",
     "text": [
      "[download] Destination: songs/JeUn3tTP6mw.m4a\n",
      "[download] 100% of 3.46MiB in 00:06\n",
      "[ffmpeg] Correcting container in \"songs/JeUn3tTP6mw.m4a\"\n",
      "[ffmpeg] Destination: songs/JeUn3tTP6mw.wav\n",
      "Deleting original file songs/JeUn3tTP6mw.m4a (pass -k to keep)\n",
      "[youtube] VwnM5wa-XCc: Downloading webpage\n",
      "[youtube] VwnM5wa-XCc: Downloading video info webpage\n",
      "[youtube] VwnM5wa-XCc: Extracting video information\n",
      "[youtube] VwnM5wa-XCc: Downloading MPD manifest\n"
     ]
    },
    {
     "name": "stderr",
     "output_type": "stream",
     "text": [
      "WARNING: \"id\" field is not a string - forcing string conversion, there is an error in extractor\n"
     ]
    },
    {
     "name": "stdout",
     "output_type": "stream",
     "text": [
      "[download] Destination: songs/VwnM5wa-XCc.webm\n",
      "[download] 100% of 4.41MiB in 00:08\n",
      "[ffmpeg] Destination: songs/VwnM5wa-XCc.wav\n",
      "Deleting original file songs/VwnM5wa-XCc.webm (pass -k to keep)\n",
      "[youtube] dXTjKYNIjYk: Downloading webpage\n",
      "[youtube] dXTjKYNIjYk: Downloading video info webpage\n",
      "[youtube] dXTjKYNIjYk: Extracting video information\n",
      "[youtube] dXTjKYNIjYk: Downloading MPD manifest\n"
     ]
    },
    {
     "name": "stderr",
     "output_type": "stream",
     "text": [
      "WARNING: \"id\" field is not a string - forcing string conversion, there is an error in extractor\n"
     ]
    },
    {
     "name": "stdout",
     "output_type": "stream",
     "text": [
      "[download] Destination: songs/dXTjKYNIjYk.webm\n",
      "[download] 100% of 2.30MiB in 00:04\n",
      "[ffmpeg] Destination: songs/dXTjKYNIjYk.wav\n",
      "Deleting original file songs/dXTjKYNIjYk.webm (pass -k to keep)\n",
      "[youtube] Y0hJ9HXVt00: Downloading webpage\n",
      "[youtube] Y0hJ9HXVt00: Downloading video info webpage\n",
      "[youtube] Y0hJ9HXVt00: Extracting video information\n",
      "[youtube] Y0hJ9HXVt00: Downloading MPD manifest\n"
     ]
    },
    {
     "name": "stderr",
     "output_type": "stream",
     "text": [
      "WARNING: \"id\" field is not a string - forcing string conversion, there is an error in extractor\n"
     ]
    },
    {
     "name": "stdout",
     "output_type": "stream",
     "text": [
      "[download] Destination: songs/Y0hJ9HXVt00.m4a\n",
      "[download] 100% of 3.60MiB in 00:07\n",
      "[ffmpeg] Correcting container in \"songs/Y0hJ9HXVt00.m4a\"\n",
      "[ffmpeg] Destination: songs/Y0hJ9HXVt00.wav\n",
      "Deleting original file songs/Y0hJ9HXVt00.m4a (pass -k to keep)\n",
      "[youtube] WSvImrBWKz8: Downloading webpage\n",
      "[youtube] WSvImrBWKz8: Downloading video info webpage\n",
      "[youtube] WSvImrBWKz8: Extracting video information\n",
      "[youtube] WSvImrBWKz8: Downloading MPD manifest\n"
     ]
    },
    {
     "name": "stderr",
     "output_type": "stream",
     "text": [
      "WARNING: \"id\" field is not a string - forcing string conversion, there is an error in extractor\n"
     ]
    },
    {
     "name": "stdout",
     "output_type": "stream",
     "text": [
      "[download] Destination: songs/WSvImrBWKz8.m4a\n",
      "[download] 100% of 3.11MiB in 00:06\n",
      "[ffmpeg] Correcting container in \"songs/WSvImrBWKz8.m4a\"\n",
      "[ffmpeg] Destination: songs/WSvImrBWKz8.wav\n",
      "Deleting original file songs/WSvImrBWKz8.m4a (pass -k to keep)\n",
      "[youtube] pHjj8h1DU84: Downloading webpage\n",
      "[youtube] pHjj8h1DU84: Downloading video info webpage\n",
      "[youtube] pHjj8h1DU84: Extracting video information\n",
      "[youtube] pHjj8h1DU84: Downloading MPD manifest\n",
      "[youtube] pHjj8h1DU84: Downloading MPD manifest\n"
     ]
    },
    {
     "name": "stderr",
     "output_type": "stream",
     "text": [
      "WARNING: \"id\" field is not a string - forcing string conversion, there is an error in extractor\n"
     ]
    },
    {
     "name": "stdout",
     "output_type": "stream",
     "text": [
      "[dashsegments] Total fragments: 28\n",
      "[download] Destination: songs/pHjj8h1DU84.m4a\n",
      "[download] 100% of 2.03MiB in 00:09\n",
      "[ffmpeg] Correcting container in \"songs/pHjj8h1DU84.m4a\"\n",
      "[ffmpeg] Destination: songs/pHjj8h1DU84.wav\n",
      "Deleting original file songs/pHjj8h1DU84.m4a (pass -k to keep)\n",
      "[youtube] JQGnzfTArHI: Downloading webpage\n",
      "[youtube] JQGnzfTArHI: Downloading video info webpage\n",
      "[youtube] JQGnzfTArHI: Extracting video information\n",
      "[youtube] JQGnzfTArHI: Downloading MPD manifest\n",
      "[youtube] JQGnzfTArHI: Downloading MPD manifest\n"
     ]
    },
    {
     "name": "stderr",
     "output_type": "stream",
     "text": [
      "WARNING: \"id\" field is not a string - forcing string conversion, there is an error in extractor\n"
     ]
    },
    {
     "name": "stdout",
     "output_type": "stream",
     "text": [
      "[dashsegments] Total fragments: 24\n",
      "[download] Destination: songs/JQGnzfTArHI.m4a\n",
      "[download] 100% of 3.39MiB in 00:11\n",
      "[ffmpeg] Correcting container in \"songs/JQGnzfTArHI.m4a\"\n",
      "[ffmpeg] Destination: songs/JQGnzfTArHI.wav\n",
      "Deleting original file songs/JQGnzfTArHI.m4a (pass -k to keep)\n",
      "[youtube] u2VxTLB8FVI: Downloading webpage\n",
      "[youtube] u2VxTLB8FVI: Downloading video info webpage\n",
      "[youtube] u2VxTLB8FVI: Extracting video information\n",
      "[youtube] u2VxTLB8FVI: Downloading MPD manifest\n"
     ]
    },
    {
     "name": "stderr",
     "output_type": "stream",
     "text": [
      "WARNING: \"id\" field is not a string - forcing string conversion, there is an error in extractor\n"
     ]
    },
    {
     "name": "stdout",
     "output_type": "stream",
     "text": [
      "[download] Destination: songs/u2VxTLB8FVI.webm\n",
      "[download] 100% of 4.15MiB in 00:08\n",
      "[ffmpeg] Destination: songs/u2VxTLB8FVI.wav\n",
      "Deleting original file songs/u2VxTLB8FVI.webm (pass -k to keep)\n",
      "[youtube] mP2srT6hh2Y: Downloading webpage\n",
      "[youtube] mP2srT6hh2Y: Downloading video info webpage\n",
      "[youtube] mP2srT6hh2Y: Extracting video information\n",
      "[youtube] mP2srT6hh2Y: Downloading MPD manifest\n"
     ]
    },
    {
     "name": "stderr",
     "output_type": "stream",
     "text": [
      "WARNING: \"id\" field is not a string - forcing string conversion, there is an error in extractor\n"
     ]
    },
    {
     "name": "stdout",
     "output_type": "stream",
     "text": [
      "[download] Destination: songs/mP2srT6hh2Y.webm\n",
      "[download] 100% of 3.85MiB in 00:07\n",
      "[ffmpeg] Destination: songs/mP2srT6hh2Y.wav\n",
      "Deleting original file songs/mP2srT6hh2Y.webm (pass -k to keep)\n",
      "[youtube] 2fngvQS_PmQ: Downloading webpage\n",
      "[youtube] 2fngvQS_PmQ: Downloading video info webpage\n",
      "[youtube] 2fngvQS_PmQ: Extracting video information\n",
      "[youtube] 2fngvQS_PmQ: Downloading MPD manifest\n"
     ]
    },
    {
     "name": "stderr",
     "output_type": "stream",
     "text": [
      "WARNING: \"id\" field is not a string - forcing string conversion, there is an error in extractor\n"
     ]
    },
    {
     "name": "stdout",
     "output_type": "stream",
     "text": [
      "[download] Destination: songs/2fngvQS_PmQ.webm\n",
      "[download] 100% of 4.46MiB in 00:08\n",
      "[ffmpeg] Destination: songs/2fngvQS_PmQ.wav\n",
      "Deleting original file songs/2fngvQS_PmQ.webm (pass -k to keep)\n",
      "[youtube] 5X-Mrc2l1d0: Downloading webpage\n",
      "[youtube] 5X-Mrc2l1d0: Downloading video info webpage\n",
      "[youtube] 5X-Mrc2l1d0: Extracting video information\n",
      "[youtube] 5X-Mrc2l1d0: Downloading MPD manifest\n"
     ]
    },
    {
     "name": "stderr",
     "output_type": "stream",
     "text": [
      "WARNING: \"id\" field is not a string - forcing string conversion, there is an error in extractor\n"
     ]
    },
    {
     "name": "stdout",
     "output_type": "stream",
     "text": [
      "[download] Destination: songs/5X-Mrc2l1d0.webm\n",
      "[download] 100% of 3.23MiB in 00:06\n",
      "[ffmpeg] Destination: songs/5X-Mrc2l1d0.wav\n",
      "Deleting original file songs/5X-Mrc2l1d0.webm (pass -k to keep)\n",
      "[youtube] siCCJjOWGWQ: Downloading webpage\n",
      "[youtube] siCCJjOWGWQ: Downloading video info webpage\n",
      "[youtube] siCCJjOWGWQ: Extracting video information\n",
      "[youtube] siCCJjOWGWQ: Downloading MPD manifest\n",
      "[youtube] siCCJjOWGWQ: Downloading MPD manifest\n"
     ]
    },
    {
     "name": "stderr",
     "output_type": "stream",
     "text": [
      "WARNING: \"id\" field is not a string - forcing string conversion, there is an error in extractor\n"
     ]
    },
    {
     "name": "stdout",
     "output_type": "stream",
     "text": [
      "[dashsegments] Total fragments: 29\n",
      "[download] Destination: songs/siCCJjOWGWQ.m4a\n",
      "[download] 100% of 3.10MiB in 00:11\n",
      "[ffmpeg] Correcting container in \"songs/siCCJjOWGWQ.m4a\"\n",
      "[ffmpeg] Destination: songs/siCCJjOWGWQ.wav\n",
      "Deleting original file songs/siCCJjOWGWQ.m4a (pass -k to keep)\n",
      "[youtube] zincPl_RqiI: Downloading webpage\n",
      "[youtube] zincPl_RqiI: Downloading video info webpage\n",
      "[youtube] zincPl_RqiI: Extracting video information\n",
      "[youtube] zincPl_RqiI: Downloading MPD manifest\n"
     ]
    },
    {
     "name": "stderr",
     "output_type": "stream",
     "text": [
      "WARNING: \"id\" field is not a string - forcing string conversion, there is an error in extractor\n"
     ]
    },
    {
     "name": "stdout",
     "output_type": "stream",
     "text": [
      "[download] Destination: songs/zincPl_RqiI.webm\n",
      "[download] 100% of 3.71MiB in 00:07\n",
      "[ffmpeg] Destination: songs/zincPl_RqiI.wav\n",
      "Deleting original file songs/zincPl_RqiI.webm (pass -k to keep)\n",
      "[youtube] kUE0BqNwICs: Downloading webpage\n",
      "[youtube] kUE0BqNwICs: Downloading video info webpage\n",
      "[youtube] kUE0BqNwICs: Extracting video information\n",
      "[youtube] kUE0BqNwICs: Downloading MPD manifest\n"
     ]
    },
    {
     "name": "stderr",
     "output_type": "stream",
     "text": [
      "WARNING: \"id\" field is not a string - forcing string conversion, there is an error in extractor\n"
     ]
    },
    {
     "name": "stdout",
     "output_type": "stream",
     "text": [
      "[download] Destination: songs/kUE0BqNwICs.m4a\n",
      "[download] 100% of 10.34MiB in 00:21\n",
      "[ffmpeg] Correcting container in \"songs/kUE0BqNwICs.m4a\"\n",
      "[ffmpeg] Destination: songs/kUE0BqNwICs.wav\n",
      "Deleting original file songs/kUE0BqNwICs.m4a (pass -k to keep)\n",
      "[youtube] 1LkALz1h9oA: Downloading webpage\n",
      "[youtube] 1LkALz1h9oA: Downloading video info webpage\n",
      "[youtube] 1LkALz1h9oA: Extracting video information\n",
      "[youtube] 1LkALz1h9oA: Downloading MPD manifest\n",
      "[youtube] 1LkALz1h9oA: Downloading MPD manifest\n"
     ]
    },
    {
     "name": "stderr",
     "output_type": "stream",
     "text": [
      "WARNING: \"id\" field is not a string - forcing string conversion, there is an error in extractor\n"
     ]
    },
    {
     "name": "stdout",
     "output_type": "stream",
     "text": [
      "[dashsegments] Total fragments: 40\n",
      "[download] Destination: songs/1LkALz1h9oA.m4a\n",
      "[download] 100% of 5.82MiB in 00:18\n",
      "[ffmpeg] Correcting container in \"songs/1LkALz1h9oA.m4a\"\n",
      "[ffmpeg] Destination: songs/1LkALz1h9oA.wav\n",
      "Deleting original file songs/1LkALz1h9oA.m4a (pass -k to keep)\n",
      "[youtube] 1i9lBLj7GnY: Downloading webpage\n",
      "[youtube] 1i9lBLj7GnY: Downloading video info webpage\n",
      "[youtube] 1i9lBLj7GnY: Extracting video information\n",
      "[youtube] 1i9lBLj7GnY: Downloading MPD manifest\n"
     ]
    },
    {
     "name": "stderr",
     "output_type": "stream",
     "text": [
      "WARNING: \"id\" field is not a string - forcing string conversion, there is an error in extractor\n"
     ]
    },
    {
     "name": "stdout",
     "output_type": "stream",
     "text": [
      "[download] Destination: songs/1i9lBLj7GnY.webm\n",
      "[download] 100% of 4.31MiB in 00:08\n",
      "[ffmpeg] Destination: songs/1i9lBLj7GnY.wav\n",
      "Deleting original file songs/1i9lBLj7GnY.webm (pass -k to keep)\n",
      "[youtube] 0mZowNaGyhk: Downloading webpage\n",
      "[youtube] 0mZowNaGyhk: Downloading video info webpage\n",
      "[youtube] 0mZowNaGyhk: Extracting video information\n",
      "[youtube] 0mZowNaGyhk: Downloading MPD manifest\n"
     ]
    },
    {
     "name": "stderr",
     "output_type": "stream",
     "text": [
      "WARNING: \"id\" field is not a string - forcing string conversion, there is an error in extractor\n"
     ]
    },
    {
     "name": "stdout",
     "output_type": "stream",
     "text": [
      "[download] Destination: songs/0mZowNaGyhk.m4a\n",
      "[download] 100% of 1.18MiB in 00:02\n",
      "[ffmpeg] Correcting container in \"songs/0mZowNaGyhk.m4a\"\n",
      "[ffmpeg] Destination: songs/0mZowNaGyhk.wav\n",
      "Deleting original file songs/0mZowNaGyhk.m4a (pass -k to keep)\n",
      "[youtube] oqMMyR7Gxvk: Downloading webpage\n",
      "[youtube] oqMMyR7Gxvk: Downloading video info webpage\n",
      "[youtube] oqMMyR7Gxvk: Extracting video information\n",
      "[youtube] oqMMyR7Gxvk: Downloading MPD manifest\n"
     ]
    },
    {
     "name": "stderr",
     "output_type": "stream",
     "text": [
      "WARNING: \"id\" field is not a string - forcing string conversion, there is an error in extractor\n"
     ]
    },
    {
     "name": "stdout",
     "output_type": "stream",
     "text": [
      "[download] Destination: songs/oqMMyR7Gxvk.webm\n",
      "[download] 100% of 2.96MiB in 00:05\n",
      "[ffmpeg] Destination: songs/oqMMyR7Gxvk.wav\n",
      "Deleting original file songs/oqMMyR7Gxvk.webm (pass -k to keep)\n",
      "[youtube] sAT8pdM46G8: Downloading webpage\n",
      "[youtube] sAT8pdM46G8: Downloading video info webpage\n",
      "[youtube] sAT8pdM46G8: Extracting video information\n",
      "[youtube] sAT8pdM46G8: Downloading MPD manifest\n"
     ]
    },
    {
     "name": "stderr",
     "output_type": "stream",
     "text": [
      "WARNING: \"id\" field is not a string - forcing string conversion, there is an error in extractor\n"
     ]
    },
    {
     "name": "stdout",
     "output_type": "stream",
     "text": [
      "[download] Destination: songs/sAT8pdM46G8.webm\n",
      "[download] 100% of 1.24MiB in 00:02\n",
      "[ffmpeg] Destination: songs/sAT8pdM46G8.wav\n",
      "Deleting original file songs/sAT8pdM46G8.webm (pass -k to keep)\n",
      "[youtube] lj8kl4ooco0: Downloading webpage\n",
      "[youtube] lj8kl4ooco0: Downloading video info webpage\n",
      "[youtube] lj8kl4ooco0: Extracting video information\n",
      "[youtube] lj8kl4ooco0: Downloading MPD manifest\n"
     ]
    },
    {
     "name": "stderr",
     "output_type": "stream",
     "text": [
      "WARNING: \"id\" field is not a string - forcing string conversion, there is an error in extractor\n"
     ]
    },
    {
     "name": "stdout",
     "output_type": "stream",
     "text": [
      "[download] Destination: songs/lj8kl4ooco0.webm\n",
      "[download] 100% of 3.07MiB in 00:06\n",
      "[ffmpeg] Destination: songs/lj8kl4ooco0.wav\n",
      "Deleting original file songs/lj8kl4ooco0.webm (pass -k to keep)\n",
      "[youtube] YoD3XFhJdsw: Downloading webpage\n",
      "[youtube] YoD3XFhJdsw: Downloading video info webpage\n",
      "[youtube] YoD3XFhJdsw: Extracting video information\n",
      "[youtube] YoD3XFhJdsw: Downloading MPD manifest\n"
     ]
    },
    {
     "name": "stderr",
     "output_type": "stream",
     "text": [
      "WARNING: \"id\" field is not a string - forcing string conversion, there is an error in extractor\n"
     ]
    },
    {
     "name": "stdout",
     "output_type": "stream",
     "text": [
      "[download] Destination: songs/YoD3XFhJdsw.m4a\n",
      "[download] 100% of 3.81MiB in 00:07\n",
      "[ffmpeg] Correcting container in \"songs/YoD3XFhJdsw.m4a\"\n",
      "[ffmpeg] Destination: songs/YoD3XFhJdsw.wav\n",
      "Deleting original file songs/YoD3XFhJdsw.m4a (pass -k to keep)\n",
      "[youtube] 7Gn5RPZT1Go: Downloading webpage\n",
      "[youtube] 7Gn5RPZT1Go: Downloading video info webpage\n",
      "[youtube] 7Gn5RPZT1Go: Extracting video information\n",
      "[youtube] 7Gn5RPZT1Go: Downloading MPD manifest\n"
     ]
    },
    {
     "name": "stderr",
     "output_type": "stream",
     "text": [
      "WARNING: \"id\" field is not a string - forcing string conversion, there is an error in extractor\n"
     ]
    },
    {
     "name": "stdout",
     "output_type": "stream",
     "text": [
      "[download] Destination: songs/7Gn5RPZT1Go.webm\n",
      "[download] 100% of 3.00MiB in 00:05\n",
      "[ffmpeg] Destination: songs/7Gn5RPZT1Go.wav\n",
      "Deleting original file songs/7Gn5RPZT1Go.webm (pass -k to keep)\n",
      "[youtube] f2GvXuGFj9w: Downloading webpage\n",
      "[youtube] f2GvXuGFj9w: Downloading video info webpage\n",
      "[youtube] f2GvXuGFj9w: Extracting video information\n",
      "[youtube] f2GvXuGFj9w: Downloading MPD manifest\n"
     ]
    },
    {
     "name": "stderr",
     "output_type": "stream",
     "text": [
      "WARNING: \"id\" field is not a string - forcing string conversion, there is an error in extractor\n"
     ]
    },
    {
     "name": "stdout",
     "output_type": "stream",
     "text": [
      "[download] Destination: songs/f2GvXuGFj9w.m4a\n",
      "[download] 100% of 3.82MiB in 00:07\n",
      "[ffmpeg] Correcting container in \"songs/f2GvXuGFj9w.m4a\"\n",
      "[ffmpeg] Destination: songs/f2GvXuGFj9w.wav\n",
      "Deleting original file songs/f2GvXuGFj9w.m4a (pass -k to keep)\n",
      "[youtube] CWbpbeuwolw: Downloading webpage\n",
      "[youtube] CWbpbeuwolw: Downloading video info webpage\n",
      "[youtube] CWbpbeuwolw: Extracting video information\n",
      "[youtube] CWbpbeuwolw: Downloading MPD manifest\n"
     ]
    },
    {
     "name": "stderr",
     "output_type": "stream",
     "text": [
      "WARNING: \"id\" field is not a string - forcing string conversion, there is an error in extractor\n"
     ]
    },
    {
     "name": "stdout",
     "output_type": "stream",
     "text": [
      "[download] Destination: songs/CWbpbeuwolw.m4a\n",
      "[download] 100% of 4.62MiB in 00:09\n",
      "[ffmpeg] Correcting container in \"songs/CWbpbeuwolw.m4a\"\n",
      "[ffmpeg] Destination: songs/CWbpbeuwolw.wav\n",
      "Deleting original file songs/CWbpbeuwolw.m4a (pass -k to keep)\n",
      "[youtube] NYENXYf_poA: Downloading webpage\n",
      "[youtube] NYENXYf_poA: Downloading video info webpage\n",
      "[youtube] NYENXYf_poA: Extracting video information\n",
      "[youtube] NYENXYf_poA: Downloading MPD manifest\n"
     ]
    },
    {
     "name": "stderr",
     "output_type": "stream",
     "text": [
      "WARNING: \"id\" field is not a string - forcing string conversion, there is an error in extractor\n"
     ]
    },
    {
     "name": "stdout",
     "output_type": "stream",
     "text": [
      "[download] Destination: songs/NYENXYf_poA.m4a\n",
      "[download] 100% of 232.40KiB in 00:00\n",
      "[ffmpeg] Correcting container in \"songs/NYENXYf_poA.m4a\"\n",
      "[ffmpeg] Destination: songs/NYENXYf_poA.wav\n",
      "Deleting original file songs/NYENXYf_poA.m4a (pass -k to keep)\n",
      "[youtube] tSdHdQlGwhc: Downloading webpage\n",
      "[youtube] tSdHdQlGwhc: Downloading video info webpage\n",
      "[youtube] tSdHdQlGwhc: Extracting video information\n",
      "[youtube] tSdHdQlGwhc: Downloading MPD manifest\n"
     ]
    },
    {
     "name": "stderr",
     "output_type": "stream",
     "text": [
      "WARNING: \"id\" field is not a string - forcing string conversion, there is an error in extractor\n"
     ]
    },
    {
     "name": "stdout",
     "output_type": "stream",
     "text": [
      "[download] Destination: songs/tSdHdQlGwhc.webm\n",
      "[download] 100% of 2.19MiB in 00:04\n",
      "[ffmpeg] Destination: songs/tSdHdQlGwhc.wav\n",
      "Deleting original file songs/tSdHdQlGwhc.webm (pass -k to keep)\n",
      "[youtube] NJPvmoeqOu4: Downloading webpage\n",
      "[youtube] NJPvmoeqOu4: Downloading video info webpage\n",
      "[youtube] NJPvmoeqOu4: Extracting video information\n",
      "[youtube] NJPvmoeqOu4: Downloading MPD manifest\n"
     ]
    },
    {
     "name": "stderr",
     "output_type": "stream",
     "text": [
      "WARNING: \"id\" field is not a string - forcing string conversion, there is an error in extractor\n"
     ]
    },
    {
     "name": "stdout",
     "output_type": "stream",
     "text": [
      "[download] Destination: songs/NJPvmoeqOu4.webm\n",
      "[download] 100% of 2.70MiB in 00:05\n",
      "[ffmpeg] Destination: songs/NJPvmoeqOu4.wav\n",
      "Deleting original file songs/NJPvmoeqOu4.webm (pass -k to keep)\n",
      "[youtube] ijVZaREbppo: Downloading webpage\n",
      "[youtube] ijVZaREbppo: Downloading video info webpage\n",
      "[youtube] ijVZaREbppo: Extracting video information\n",
      "[youtube] ijVZaREbppo: Downloading MPD manifest\n"
     ]
    },
    {
     "name": "stderr",
     "output_type": "stream",
     "text": [
      "WARNING: \"id\" field is not a string - forcing string conversion, there is an error in extractor\n"
     ]
    },
    {
     "name": "stdout",
     "output_type": "stream",
     "text": [
      "[download] Destination: songs/ijVZaREbppo.webm\n",
      "[download] 100% of 3.75MiB in 00:07\n",
      "[ffmpeg] Destination: songs/ijVZaREbppo.wav\n",
      "Deleting original file songs/ijVZaREbppo.webm (pass -k to keep)\n",
      "[youtube] 7f-MkVw07bo: Downloading webpage\n",
      "[youtube] 7f-MkVw07bo: Downloading video info webpage\n",
      "[youtube] 7f-MkVw07bo: Extracting video information\n",
      "[youtube] 7f-MkVw07bo: Downloading MPD manifest\n"
     ]
    },
    {
     "name": "stderr",
     "output_type": "stream",
     "text": [
      "WARNING: \"id\" field is not a string - forcing string conversion, there is an error in extractor\n"
     ]
    },
    {
     "name": "stdout",
     "output_type": "stream",
     "text": [
      "[download] Destination: songs/7f-MkVw07bo.webm\n",
      "[download] 100% of 3.49MiB in 00:06\n",
      "[ffmpeg] Destination: songs/7f-MkVw07bo.wav\n",
      "Deleting original file songs/7f-MkVw07bo.webm (pass -k to keep)\n",
      "[youtube] trnoxBOo-hI: Downloading webpage\n",
      "[youtube] trnoxBOo-hI: Downloading video info webpage\n",
      "[youtube] trnoxBOo-hI: Extracting video information\n",
      "[youtube] trnoxBOo-hI: Downloading MPD manifest\n"
     ]
    },
    {
     "name": "stderr",
     "output_type": "stream",
     "text": [
      "WARNING: \"id\" field is not a string - forcing string conversion, there is an error in extractor\n"
     ]
    },
    {
     "name": "stdout",
     "output_type": "stream",
     "text": [
      "[download] Destination: songs/trnoxBOo-hI.webm\n",
      "[download] 100% of 4.83MiB in 00:09\n",
      "[ffmpeg] Destination: songs/trnoxBOo-hI.wav\n",
      "Deleting original file songs/trnoxBOo-hI.webm (pass -k to keep)\n",
      "[youtube] P-MlDAf_YXk: Downloading webpage\n",
      "[youtube] P-MlDAf_YXk: Downloading video info webpage\n",
      "[youtube] P-MlDAf_YXk: Extracting video information\n",
      "[youtube] P-MlDAf_YXk: Downloading MPD manifest\n"
     ]
    },
    {
     "name": "stderr",
     "output_type": "stream",
     "text": [
      "WARNING: \"id\" field is not a string - forcing string conversion, there is an error in extractor\n"
     ]
    },
    {
     "name": "stdout",
     "output_type": "stream",
     "text": [
      "[download] Destination: songs/P-MlDAf_YXk.webm\n",
      "[download] 100% of 1.90MiB in 00:03\n",
      "[ffmpeg] Destination: songs/P-MlDAf_YXk.wav\n",
      "Deleting original file songs/P-MlDAf_YXk.webm (pass -k to keep)\n",
      "[youtube] LRfbhNCi-nc: Downloading webpage\n",
      "[youtube] LRfbhNCi-nc: Downloading video info webpage\n",
      "[youtube] LRfbhNCi-nc: Extracting video information\n",
      "[youtube] LRfbhNCi-nc: Downloading MPD manifest\n",
      "[youtube] LRfbhNCi-nc: Downloading MPD manifest\n"
     ]
    },
    {
     "name": "stderr",
     "output_type": "stream",
     "text": [
      "WARNING: \"id\" field is not a string - forcing string conversion, there is an error in extractor\n"
     ]
    },
    {
     "name": "stdout",
     "output_type": "stream",
     "text": [
      "[dashsegments] Total fragments: 19\n",
      "[download] Destination: songs/LRfbhNCi-nc.m4a\n",
      "[download] 100% of 1.98MiB in 00:08\n",
      "[ffmpeg] Correcting container in \"songs/LRfbhNCi-nc.m4a\"\n",
      "[ffmpeg] Destination: songs/LRfbhNCi-nc.wav\n",
      "Deleting original file songs/LRfbhNCi-nc.m4a (pass -k to keep)\n",
      "[youtube] jnZ8dMHklLs: Downloading webpage\n",
      "[youtube] jnZ8dMHklLs: Downloading video info webpage\n",
      "[youtube] jnZ8dMHklLs: Extracting video information\n",
      "[youtube] jnZ8dMHklLs: Downloading MPD manifest\n"
     ]
    },
    {
     "name": "stderr",
     "output_type": "stream",
     "text": [
      "WARNING: \"id\" field is not a string - forcing string conversion, there is an error in extractor\n"
     ]
    },
    {
     "name": "stdout",
     "output_type": "stream",
     "text": [
      "[download] Destination: songs/jnZ8dMHklLs.webm\n",
      "[download] 100% of 3.28MiB in 00:06\n",
      "[ffmpeg] Destination: songs/jnZ8dMHklLs.wav\n",
      "Deleting original file songs/jnZ8dMHklLs.webm (pass -k to keep)\n",
      "[youtube] pY3viYRdeg8: Downloading webpage\n",
      "[youtube] pY3viYRdeg8: Downloading video info webpage\n",
      "[youtube] pY3viYRdeg8: Extracting video information\n",
      "[youtube] pY3viYRdeg8: Downloading MPD manifest\n"
     ]
    },
    {
     "name": "stderr",
     "output_type": "stream",
     "text": [
      "WARNING: \"id\" field is not a string - forcing string conversion, there is an error in extractor\n"
     ]
    },
    {
     "name": "stdout",
     "output_type": "stream",
     "text": [
      "[download] Destination: songs/pY3viYRdeg8.webm\n",
      "[download] 100% of 7.68MiB in 00:15\n",
      "[ffmpeg] Destination: songs/pY3viYRdeg8.wav\n",
      "Deleting original file songs/pY3viYRdeg8.webm (pass -k to keep)\n",
      "[youtube] qGgsdm4Pwx8: Downloading webpage\n",
      "[youtube] qGgsdm4Pwx8: Downloading video info webpage\n",
      "[youtube] qGgsdm4Pwx8: Extracting video information\n",
      "[youtube] qGgsdm4Pwx8: Downloading MPD manifest\n"
     ]
    },
    {
     "name": "stderr",
     "output_type": "stream",
     "text": [
      "WARNING: \"id\" field is not a string - forcing string conversion, there is an error in extractor\n"
     ]
    },
    {
     "name": "stdout",
     "output_type": "stream",
     "text": [
      "[download] Destination: songs/qGgsdm4Pwx8.m4a\n",
      "[download] 100% of 2.43MiB in 00:04\n",
      "[ffmpeg] Correcting container in \"songs/qGgsdm4Pwx8.m4a\"\n",
      "[ffmpeg] Destination: songs/qGgsdm4Pwx8.wav\n",
      "Deleting original file songs/qGgsdm4Pwx8.m4a (pass -k to keep)\n",
      "[youtube] ZL6PvyP9JsU: Downloading webpage\n",
      "[youtube] ZL6PvyP9JsU: Downloading video info webpage\n",
      "[youtube] ZL6PvyP9JsU: Extracting video information\n",
      "[youtube] ZL6PvyP9JsU: Downloading MPD manifest\n"
     ]
    },
    {
     "name": "stderr",
     "output_type": "stream",
     "text": [
      "WARNING: \"id\" field is not a string - forcing string conversion, there is an error in extractor\n"
     ]
    },
    {
     "name": "stdout",
     "output_type": "stream",
     "text": [
      "[download] Destination: songs/ZL6PvyP9JsU.webm\n",
      "[download] 100% of 2.69MiB in 00:05\n",
      "[ffmpeg] Destination: songs/ZL6PvyP9JsU.wav\n",
      "Deleting original file songs/ZL6PvyP9JsU.webm (pass -k to keep)\n",
      "[youtube] Uu0u6sb4NCE: Downloading webpage\n",
      "[youtube] Uu0u6sb4NCE: Downloading video info webpage\n",
      "[youtube] Uu0u6sb4NCE: Extracting video information\n",
      "[youtube] Uu0u6sb4NCE: Downloading MPD manifest\n"
     ]
    },
    {
     "name": "stderr",
     "output_type": "stream",
     "text": [
      "WARNING: \"id\" field is not a string - forcing string conversion, there is an error in extractor\n"
     ]
    },
    {
     "name": "stdout",
     "output_type": "stream",
     "text": [
      "[download] Destination: songs/Uu0u6sb4NCE.webm\n",
      "[download] 100% of 1.64MiB in 00:03\n",
      "[ffmpeg] Destination: songs/Uu0u6sb4NCE.wav\n",
      "Deleting original file songs/Uu0u6sb4NCE.webm (pass -k to keep)\n",
      "[youtube] 0g5pvH5LIvw: Downloading webpage\n",
      "[youtube] 0g5pvH5LIvw: Downloading video info webpage\n",
      "[youtube] 0g5pvH5LIvw: Extracting video information\n",
      "[youtube] 0g5pvH5LIvw: Downloading MPD manifest\n"
     ]
    },
    {
     "name": "stderr",
     "output_type": "stream",
     "text": [
      "WARNING: \"id\" field is not a string - forcing string conversion, there is an error in extractor\n"
     ]
    },
    {
     "name": "stdout",
     "output_type": "stream",
     "text": [
      "[download] Destination: songs/0g5pvH5LIvw.webm\n",
      "[download] 100% of 3.88MiB in 00:07\n",
      "[ffmpeg] Destination: songs/0g5pvH5LIvw.wav\n",
      "Deleting original file songs/0g5pvH5LIvw.webm (pass -k to keep)\n",
      "[youtube] mDM5tzpQzDo: Downloading webpage\n",
      "[youtube] mDM5tzpQzDo: Downloading video info webpage\n",
      "[youtube] mDM5tzpQzDo: Extracting video information\n",
      "[youtube] mDM5tzpQzDo: Downloading MPD manifest\n"
     ]
    },
    {
     "name": "stderr",
     "output_type": "stream",
     "text": [
      "WARNING: \"id\" field is not a string - forcing string conversion, there is an error in extractor\n"
     ]
    },
    {
     "name": "stdout",
     "output_type": "stream",
     "text": [
      "[download] Destination: songs/mDM5tzpQzDo.webm\n",
      "[download] 100% of 4.41MiB in 00:08\n",
      "[ffmpeg] Destination: songs/mDM5tzpQzDo.wav\n",
      "Deleting original file songs/mDM5tzpQzDo.webm (pass -k to keep)\n",
      "[youtube] 3kw91RA1L58: Downloading webpage\n",
      "[youtube] 3kw91RA1L58: Downloading video info webpage\n",
      "[youtube] 3kw91RA1L58: Extracting video information\n",
      "[youtube] 3kw91RA1L58: Downloading MPD manifest\n"
     ]
    },
    {
     "name": "stderr",
     "output_type": "stream",
     "text": [
      "WARNING: \"id\" field is not a string - forcing string conversion, there is an error in extractor\n"
     ]
    },
    {
     "name": "stdout",
     "output_type": "stream",
     "text": [
      "[download] Destination: songs/3kw91RA1L58.m4a\n",
      "[download] 100% of 5.28MiB in 00:10\n",
      "[ffmpeg] Correcting container in \"songs/3kw91RA1L58.m4a\"\n",
      "[ffmpeg] Destination: songs/3kw91RA1L58.wav\n",
      "Deleting original file songs/3kw91RA1L58.m4a (pass -k to keep)\n",
      "[youtube] T9gYx3DVShM: Downloading webpage\n",
      "[youtube] T9gYx3DVShM: Downloading video info webpage\n",
      "[youtube] T9gYx3DVShM: Extracting video information\n",
      "[youtube] T9gYx3DVShM: Downloading MPD manifest\n"
     ]
    },
    {
     "name": "stderr",
     "output_type": "stream",
     "text": [
      "WARNING: \"id\" field is not a string - forcing string conversion, there is an error in extractor\n"
     ]
    },
    {
     "name": "stdout",
     "output_type": "stream",
     "text": [
      "[download] Destination: songs/T9gYx3DVShM.webm\n",
      "[download] 100% of 3.84MiB in 00:07\n",
      "[ffmpeg] Destination: songs/T9gYx3DVShM.wav\n",
      "Deleting original file songs/T9gYx3DVShM.webm (pass -k to keep)\n",
      "[youtube] snN02QCre5M: Downloading webpage\n",
      "[youtube] snN02QCre5M: Downloading video info webpage\n",
      "[youtube] snN02QCre5M: Extracting video information\n",
      "[youtube] snN02QCre5M: Downloading MPD manifest\n"
     ]
    },
    {
     "name": "stderr",
     "output_type": "stream",
     "text": [
      "WARNING: \"id\" field is not a string - forcing string conversion, there is an error in extractor\n"
     ]
    },
    {
     "name": "stdout",
     "output_type": "stream",
     "text": [
      "[download] Destination: songs/snN02QCre5M.webm\n",
      "[download] 100% of 3.53MiB in 00:06\n",
      "[ffmpeg] Destination: songs/snN02QCre5M.wav\n",
      "Deleting original file songs/snN02QCre5M.webm (pass -k to keep)\n",
      "[youtube] HlDOXBoQEVU: Downloading webpage\n",
      "[youtube] HlDOXBoQEVU: Downloading video info webpage\n",
      "[youtube] HlDOXBoQEVU: Extracting video information\n",
      "[youtube] HlDOXBoQEVU: Downloading MPD manifest\n"
     ]
    },
    {
     "name": "stderr",
     "output_type": "stream",
     "text": [
      "WARNING: \"id\" field is not a string - forcing string conversion, there is an error in extractor\n"
     ]
    },
    {
     "name": "stdout",
     "output_type": "stream",
     "text": [
      "[download] Destination: songs/HlDOXBoQEVU.webm\n",
      "[download] 100% of 3.10MiB in 00:06\n",
      "[ffmpeg] Destination: songs/HlDOXBoQEVU.wav\n",
      "Deleting original file songs/HlDOXBoQEVU.webm (pass -k to keep)\n",
      "[youtube] DrIGz9tfJmw: Downloading webpage\n",
      "[youtube] DrIGz9tfJmw: Downloading video info webpage\n",
      "[youtube] DrIGz9tfJmw: Extracting video information\n",
      "[youtube] DrIGz9tfJmw: Downloading MPD manifest\n"
     ]
    },
    {
     "name": "stderr",
     "output_type": "stream",
     "text": [
      "WARNING: \"id\" field is not a string - forcing string conversion, there is an error in extractor\n"
     ]
    },
    {
     "name": "stdout",
     "output_type": "stream",
     "text": [
      "[download] Destination: songs/DrIGz9tfJmw.m4a\n",
      "[download] 100% of 3.82MiB in 00:07\n",
      "[ffmpeg] Correcting container in \"songs/DrIGz9tfJmw.m4a\"\n",
      "[ffmpeg] Destination: songs/DrIGz9tfJmw.wav\n",
      "Deleting original file songs/DrIGz9tfJmw.m4a (pass -k to keep)\n",
      "[youtube] z1qPHrCpuhU: Downloading webpage\n",
      "[youtube] z1qPHrCpuhU: Downloading video info webpage\n",
      "[youtube] z1qPHrCpuhU: Extracting video information\n",
      "[youtube] z1qPHrCpuhU: Downloading MPD manifest\n"
     ]
    },
    {
     "name": "stderr",
     "output_type": "stream",
     "text": [
      "WARNING: \"id\" field is not a string - forcing string conversion, there is an error in extractor\n"
     ]
    },
    {
     "name": "stdout",
     "output_type": "stream",
     "text": [
      "[download] Destination: songs/z1qPHrCpuhU.webm\n",
      "[download] 100% of 2.72MiB in 00:05\n",
      "[ffmpeg] Destination: songs/z1qPHrCpuhU.wav\n",
      "Deleting original file songs/z1qPHrCpuhU.webm (pass -k to keep)\n",
      "[youtube] L8NZvg8qZTU: Downloading webpage\n",
      "[youtube] L8NZvg8qZTU: Downloading video info webpage\n",
      "[youtube] L8NZvg8qZTU: Extracting video information\n",
      "[youtube] L8NZvg8qZTU: Downloading MPD manifest\n"
     ]
    },
    {
     "name": "stderr",
     "output_type": "stream",
     "text": [
      "WARNING: \"id\" field is not a string - forcing string conversion, there is an error in extractor\n"
     ]
    },
    {
     "name": "stdout",
     "output_type": "stream",
     "text": [
      "[download] Destination: songs/L8NZvg8qZTU.webm\n",
      "[download] 100% of 3.33MiB in 00:06\n",
      "[ffmpeg] Destination: songs/L8NZvg8qZTU.wav\n",
      "Deleting original file songs/L8NZvg8qZTU.webm (pass -k to keep)\n",
      "[youtube] VzgL0TJtp30: Downloading webpage\n",
      "[youtube] VzgL0TJtp30: Downloading video info webpage\n",
      "[youtube] VzgL0TJtp30: Extracting video information\n",
      "[youtube] VzgL0TJtp30: Downloading MPD manifest\n"
     ]
    },
    {
     "name": "stderr",
     "output_type": "stream",
     "text": [
      "WARNING: \"id\" field is not a string - forcing string conversion, there is an error in extractor\n"
     ]
    },
    {
     "name": "stdout",
     "output_type": "stream",
     "text": [
      "[download] Destination: songs/VzgL0TJtp30.m4a\n",
      "[download] 100% of 4.03MiB in 00:07\n",
      "[ffmpeg] Correcting container in \"songs/VzgL0TJtp30.m4a\"\n",
      "[ffmpeg] Destination: songs/VzgL0TJtp30.wav\n",
      "Deleting original file songs/VzgL0TJtp30.m4a (pass -k to keep)\n",
      "[youtube] R6EM-eZIGF8: Downloading webpage\n",
      "[youtube] R6EM-eZIGF8: Downloading video info webpage\n",
      "[youtube] R6EM-eZIGF8: Extracting video information\n",
      "[youtube] R6EM-eZIGF8: Downloading MPD manifest\n",
      "[youtube] R6EM-eZIGF8: Downloading MPD manifest\n"
     ]
    },
    {
     "name": "stderr",
     "output_type": "stream",
     "text": [
      "WARNING: \"id\" field is not a string - forcing string conversion, there is an error in extractor\n"
     ]
    },
    {
     "name": "stdout",
     "output_type": "stream",
     "text": [
      "[dashsegments] Total fragments: 8\n",
      "[download] Destination: songs/R6EM-eZIGF8.m4a\n",
      "[download] 100% of 1.01MiB in 00:03\n",
      "[ffmpeg] Correcting container in \"songs/R6EM-eZIGF8.m4a\"\n",
      "[ffmpeg] Destination: songs/R6EM-eZIGF8.wav\n",
      "Deleting original file songs/R6EM-eZIGF8.m4a (pass -k to keep)\n",
      "[youtube] _GYnd3Qp-UA: Downloading webpage\n",
      "[youtube] _GYnd3Qp-UA: Downloading video info webpage\n",
      "[youtube] _GYnd3Qp-UA: Extracting video information\n",
      "[youtube] _GYnd3Qp-UA: Downloading MPD manifest\n"
     ]
    },
    {
     "name": "stderr",
     "output_type": "stream",
     "text": [
      "WARNING: \"id\" field is not a string - forcing string conversion, there is an error in extractor\n"
     ]
    },
    {
     "name": "stdout",
     "output_type": "stream",
     "text": [
      "[download] Destination: songs/_GYnd3Qp-UA.webm\n",
      "[download] 100% of 3.34MiB in 00:06\n",
      "[ffmpeg] Destination: songs/_GYnd3Qp-UA.wav\n",
      "Deleting original file songs/_GYnd3Qp-UA.webm (pass -k to keep)\n",
      "[youtube] Yy0jrAposi0: Downloading webpage\n",
      "[youtube] Yy0jrAposi0: Downloading video info webpage\n",
      "[youtube] Yy0jrAposi0: Extracting video information\n",
      "[youtube] Yy0jrAposi0: Downloading MPD manifest\n"
     ]
    },
    {
     "name": "stderr",
     "output_type": "stream",
     "text": [
      "WARNING: \"id\" field is not a string - forcing string conversion, there is an error in extractor\n"
     ]
    },
    {
     "name": "stdout",
     "output_type": "stream",
     "text": [
      "[download] Destination: songs/Yy0jrAposi0.webm\n",
      "[download] 100% of 3.92MiB in 00:07\n",
      "[ffmpeg] Destination: songs/Yy0jrAposi0.wav\n",
      "Deleting original file songs/Yy0jrAposi0.webm (pass -k to keep)\n",
      "[youtube] IGMabBGydC0: Downloading webpage\n",
      "[youtube] IGMabBGydC0: Downloading video info webpage\n",
      "[youtube] IGMabBGydC0: Extracting video information\n",
      "[youtube] IGMabBGydC0: Downloading MPD manifest\n"
     ]
    },
    {
     "name": "stderr",
     "output_type": "stream",
     "text": [
      "WARNING: \"id\" field is not a string - forcing string conversion, there is an error in extractor\n"
     ]
    },
    {
     "name": "stdout",
     "output_type": "stream",
     "text": [
      "[download] Destination: songs/IGMabBGydC0.webm\n",
      "[download] 100% of 3.77MiB in 00:07\n",
      "[ffmpeg] Destination: songs/IGMabBGydC0.wav\n",
      "Deleting original file songs/IGMabBGydC0.webm (pass -k to keep)\n",
      "[youtube] oXrpBemmEjg: Downloading webpage\n",
      "[youtube] oXrpBemmEjg: Downloading video info webpage\n",
      "[youtube] oXrpBemmEjg: Extracting video information\n",
      "[youtube] oXrpBemmEjg: Downloading MPD manifest\n"
     ]
    },
    {
     "name": "stderr",
     "output_type": "stream",
     "text": [
      "WARNING: \"id\" field is not a string - forcing string conversion, there is an error in extractor\n"
     ]
    },
    {
     "name": "stdout",
     "output_type": "stream",
     "text": [
      "[download] Destination: songs/oXrpBemmEjg.webm\n",
      "[download] 100% of 5.17MiB in 00:10\n",
      "[ffmpeg] Destination: songs/oXrpBemmEjg.wav\n",
      "Deleting original file songs/oXrpBemmEjg.webm (pass -k to keep)\n",
      "[youtube] O7NV52UApGY: Downloading webpage\n",
      "[youtube] O7NV52UApGY: Downloading video info webpage\n",
      "[youtube] O7NV52UApGY: Extracting video information\n",
      "[youtube] O7NV52UApGY: Downloading MPD manifest\n"
     ]
    },
    {
     "name": "stderr",
     "output_type": "stream",
     "text": [
      "WARNING: \"id\" field is not a string - forcing string conversion, there is an error in extractor\n"
     ]
    },
    {
     "name": "stdout",
     "output_type": "stream",
     "text": [
      "[download] Destination: songs/O7NV52UApGY.webm\n",
      "[download] 100% of 2.92MiB in 00:05\n",
      "[ffmpeg] Destination: songs/O7NV52UApGY.wav\n",
      "Deleting original file songs/O7NV52UApGY.webm (pass -k to keep)\n",
      "[youtube] p5pM4d4jres: Downloading webpage\n",
      "[youtube] p5pM4d4jres: Downloading video info webpage\n",
      "[youtube] p5pM4d4jres: Extracting video information\n",
      "[youtube] p5pM4d4jres: Downloading MPD manifest\n"
     ]
    },
    {
     "name": "stderr",
     "output_type": "stream",
     "text": [
      "WARNING: \"id\" field is not a string - forcing string conversion, there is an error in extractor\n"
     ]
    },
    {
     "name": "stdout",
     "output_type": "stream",
     "text": [
      "[download] Destination: songs/p5pM4d4jres.m4a\n",
      "[download] 100% of 1.94MiB in 00:03\n",
      "[ffmpeg] Correcting container in \"songs/p5pM4d4jres.m4a\"\n",
      "[ffmpeg] Destination: songs/p5pM4d4jres.wav\n",
      "Deleting original file songs/p5pM4d4jres.m4a (pass -k to keep)\n",
      "[youtube] BgGKuWCWhQE: Downloading webpage\n",
      "[youtube] BgGKuWCWhQE: Downloading video info webpage\n",
      "[youtube] BgGKuWCWhQE: Extracting video information\n",
      "[youtube] BgGKuWCWhQE: Downloading MPD manifest\n"
     ]
    },
    {
     "name": "stderr",
     "output_type": "stream",
     "text": [
      "WARNING: \"id\" field is not a string - forcing string conversion, there is an error in extractor\n"
     ]
    },
    {
     "name": "stdout",
     "output_type": "stream",
     "text": [
      "[download] Destination: songs/BgGKuWCWhQE.webm\n",
      "[download] 100% of 48.70MiB in 01:38\n",
      "[ffmpeg] Destination: songs/BgGKuWCWhQE.wav\n",
      "Deleting original file songs/BgGKuWCWhQE.webm (pass -k to keep)\n",
      "[youtube] Grla4kGpXWw: Downloading webpage\n",
      "[youtube] Grla4kGpXWw: Downloading video info webpage\n",
      "[youtube] Grla4kGpXWw: Extracting video information\n",
      "[youtube] Grla4kGpXWw: Downloading MPD manifest\n"
     ]
    },
    {
     "name": "stderr",
     "output_type": "stream",
     "text": [
      "WARNING: \"id\" field is not a string - forcing string conversion, there is an error in extractor\n"
     ]
    },
    {
     "name": "stdout",
     "output_type": "stream",
     "text": [
      "[download] Destination: songs/Grla4kGpXWw.m4a\n",
      "[download] 100% of 3.84MiB in 00:07\n",
      "[ffmpeg] Correcting container in \"songs/Grla4kGpXWw.m4a\"\n",
      "[ffmpeg] Destination: songs/Grla4kGpXWw.wav\n",
      "Deleting original file songs/Grla4kGpXWw.m4a (pass -k to keep)\n",
      "[youtube] wXVcL1X3xAs: Downloading webpage\n",
      "[youtube] wXVcL1X3xAs: Downloading video info webpage\n",
      "[youtube] wXVcL1X3xAs: Extracting video information\n",
      "[youtube] wXVcL1X3xAs: Downloading MPD manifest\n"
     ]
    },
    {
     "name": "stderr",
     "output_type": "stream",
     "text": [
      "WARNING: \"id\" field is not a string - forcing string conversion, there is an error in extractor\n"
     ]
    },
    {
     "name": "stdout",
     "output_type": "stream",
     "text": [
      "[download] Destination: songs/wXVcL1X3xAs.webm\n",
      "[download] 100% of 7.30MiB in 00:14\n",
      "[ffmpeg] Destination: songs/wXVcL1X3xAs.wav\n",
      "Deleting original file songs/wXVcL1X3xAs.webm (pass -k to keep)\n",
      "[youtube] cetBMEKvCJs: Downloading webpage\n",
      "[youtube] cetBMEKvCJs: Downloading video info webpage\n",
      "[youtube] cetBMEKvCJs: Extracting video information\n",
      "[youtube] cetBMEKvCJs: Downloading MPD manifest\n",
      "[youtube] cetBMEKvCJs: Downloading MPD manifest\n"
     ]
    },
    {
     "name": "stderr",
     "output_type": "stream",
     "text": [
      "WARNING: \"id\" field is not a string - forcing string conversion, there is an error in extractor\n"
     ]
    },
    {
     "name": "stdout",
     "output_type": "stream",
     "text": [
      "[dashsegments] Total fragments: 20\n",
      "[download] Destination: songs/cetBMEKvCJs.m4a\n",
      "[download] 100% of 2.10MiB in 00:08\n",
      "[ffmpeg] Correcting container in \"songs/cetBMEKvCJs.m4a\"\n",
      "[ffmpeg] Destination: songs/cetBMEKvCJs.wav\n",
      "Deleting original file songs/cetBMEKvCJs.m4a (pass -k to keep)\n",
      "[youtube] mYHyk7CoupA: Downloading webpage\n",
      "[youtube] mYHyk7CoupA: Downloading video info webpage\n",
      "[youtube] mYHyk7CoupA: Extracting video information\n",
      "[youtube] mYHyk7CoupA: Downloading MPD manifest\n"
     ]
    },
    {
     "name": "stderr",
     "output_type": "stream",
     "text": [
      "WARNING: \"id\" field is not a string - forcing string conversion, there is an error in extractor\n"
     ]
    },
    {
     "name": "stdout",
     "output_type": "stream",
     "text": [
      "[download] Destination: songs/mYHyk7CoupA.webm\n",
      "[download] 100% of 3.80MiB in 00:07\n",
      "[ffmpeg] Destination: songs/mYHyk7CoupA.wav\n",
      "Deleting original file songs/mYHyk7CoupA.webm (pass -k to keep)\n",
      "[youtube] vblNj75hUpM: Downloading webpage\n",
      "[youtube] vblNj75hUpM: Downloading video info webpage\n",
      "[youtube] vblNj75hUpM: Extracting video information\n",
      "[youtube] vblNj75hUpM: Downloading MPD manifest\n"
     ]
    },
    {
     "name": "stderr",
     "output_type": "stream",
     "text": [
      "WARNING: \"id\" field is not a string - forcing string conversion, there is an error in extractor\n"
     ]
    },
    {
     "name": "stdout",
     "output_type": "stream",
     "text": [
      "[download] Destination: songs/vblNj75hUpM.webm\n",
      "[download] 100% of 5.06MiB in 00:10\n",
      "[ffmpeg] Destination: songs/vblNj75hUpM.wav\n",
      "Deleting original file songs/vblNj75hUpM.webm (pass -k to keep)\n",
      "[youtube] uvqHW0s4gKo: Downloading webpage\n",
      "[youtube] uvqHW0s4gKo: Downloading video info webpage\n",
      "[youtube] uvqHW0s4gKo: Extracting video information\n",
      "[youtube] uvqHW0s4gKo: Downloading MPD manifest\n"
     ]
    },
    {
     "name": "stderr",
     "output_type": "stream",
     "text": [
      "WARNING: \"id\" field is not a string - forcing string conversion, there is an error in extractor\n"
     ]
    },
    {
     "name": "stdout",
     "output_type": "stream",
     "text": [
      "[download] Destination: songs/uvqHW0s4gKo.webm\n",
      "[download] 100% of 5.25MiB in 00:10\n",
      "[ffmpeg] Destination: songs/uvqHW0s4gKo.wav\n",
      "Deleting original file songs/uvqHW0s4gKo.webm (pass -k to keep)\n",
      "[youtube] piyciQdGC5s: Downloading webpage\n",
      "[youtube] piyciQdGC5s: Downloading video info webpage\n",
      "[youtube] piyciQdGC5s: Extracting video information\n",
      "[youtube] piyciQdGC5s: Downloading MPD manifest\n"
     ]
    },
    {
     "name": "stderr",
     "output_type": "stream",
     "text": [
      "WARNING: \"id\" field is not a string - forcing string conversion, there is an error in extractor\n"
     ]
    },
    {
     "name": "stdout",
     "output_type": "stream",
     "text": [
      "[download] Destination: songs/piyciQdGC5s.webm\n",
      "[download] 100% of 3.51MiB in 00:06\n",
      "[ffmpeg] Destination: songs/piyciQdGC5s.wav\n",
      "Deleting original file songs/piyciQdGC5s.webm (pass -k to keep)\n",
      "[youtube] rVm5lqNAvEM: Downloading webpage\n",
      "[youtube] rVm5lqNAvEM: Downloading video info webpage\n",
      "[youtube] rVm5lqNAvEM: Extracting video information\n",
      "[youtube] rVm5lqNAvEM: Downloading MPD manifest\n"
     ]
    },
    {
     "name": "stderr",
     "output_type": "stream",
     "text": [
      "WARNING: \"id\" field is not a string - forcing string conversion, there is an error in extractor\n"
     ]
    },
    {
     "name": "stdout",
     "output_type": "stream",
     "text": [
      "[download] Destination: songs/rVm5lqNAvEM.webm\n",
      "[download] 100% of 2.88MiB in 00:05\n",
      "[ffmpeg] Destination: songs/rVm5lqNAvEM.wav\n",
      "Deleting original file songs/rVm5lqNAvEM.webm (pass -k to keep)\n",
      "[youtube] gtfTkQ8CoxU: Downloading webpage\n",
      "[youtube] gtfTkQ8CoxU: Downloading video info webpage\n"
     ]
    },
    {
     "name": "stderr",
     "output_type": "stream",
     "text": [
      "ERROR: gtfTkQ8CoxU: YouTube said: This video contains content from BBC Worldwide, who has blocked it on copyright grounds.\n"
     ]
    },
    {
     "name": "stdout",
     "output_type": "stream",
     "text": [
      "[youtube] 1JMgbnOyIGc: Downloading webpage\n",
      "[youtube] 1JMgbnOyIGc: Downloading video info webpage\n",
      "[youtube] 1JMgbnOyIGc: Extracting video information\n",
      "[youtube] 1JMgbnOyIGc: Downloading MPD manifest\n"
     ]
    },
    {
     "name": "stderr",
     "output_type": "stream",
     "text": [
      "WARNING: \"id\" field is not a string - forcing string conversion, there is an error in extractor\n"
     ]
    },
    {
     "name": "stdout",
     "output_type": "stream",
     "text": [
      "[download] Destination: songs/1JMgbnOyIGc.webm\n",
      "[download] 100% of 4.00MiB in 00:10\n",
      "[ffmpeg] Destination: songs/1JMgbnOyIGc.wav\n",
      "Deleting original file songs/1JMgbnOyIGc.webm (pass -k to keep)\n",
      "[youtube] J8jaH7uywns: Downloading webpage\n",
      "[youtube] J8jaH7uywns: Downloading video info webpage\n",
      "[youtube] J8jaH7uywns: Extracting video information\n",
      "[youtube] J8jaH7uywns: Downloading MPD manifest\n"
     ]
    },
    {
     "name": "stderr",
     "output_type": "stream",
     "text": [
      "WARNING: \"id\" field is not a string - forcing string conversion, there is an error in extractor\n"
     ]
    },
    {
     "name": "stdout",
     "output_type": "stream",
     "text": [
      "[download] Destination: songs/J8jaH7uywns.webm\n",
      "[download] 100% of 1.72MiB in 00:03\n",
      "[ffmpeg] Destination: songs/J8jaH7uywns.wav\n",
      "Deleting original file songs/J8jaH7uywns.webm (pass -k to keep)\n",
      "[youtube] 8qH4ZXFpOgo: Downloading webpage\n",
      "[youtube] 8qH4ZXFpOgo: Downloading video info webpage\n",
      "[youtube] 8qH4ZXFpOgo: Extracting video information\n",
      "[youtube] 8qH4ZXFpOgo: Downloading MPD manifest\n"
     ]
    },
    {
     "name": "stderr",
     "output_type": "stream",
     "text": [
      "WARNING: \"id\" field is not a string - forcing string conversion, there is an error in extractor\n"
     ]
    },
    {
     "name": "stdout",
     "output_type": "stream",
     "text": [
      "[download] Destination: songs/8qH4ZXFpOgo.webm\n",
      "[download] 100% of 3.85MiB in 00:07\n",
      "[ffmpeg] Destination: songs/8qH4ZXFpOgo.wav\n",
      "Deleting original file songs/8qH4ZXFpOgo.webm (pass -k to keep)\n",
      "[youtube] dhu-KDRU2Kc: Downloading webpage\n",
      "[youtube] dhu-KDRU2Kc: Downloading video info webpage\n",
      "[youtube] dhu-KDRU2Kc: Extracting video information\n",
      "[youtube] dhu-KDRU2Kc: Downloading MPD manifest\n"
     ]
    },
    {
     "name": "stderr",
     "output_type": "stream",
     "text": [
      "WARNING: \"id\" field is not a string - forcing string conversion, there is an error in extractor\n"
     ]
    },
    {
     "name": "stdout",
     "output_type": "stream",
     "text": [
      "[download] Destination: songs/dhu-KDRU2Kc.webm\n",
      "[download] 100% of 3.22MiB in 00:06\n",
      "[ffmpeg] Destination: songs/dhu-KDRU2Kc.wav\n",
      "Deleting original file songs/dhu-KDRU2Kc.webm (pass -k to keep)\n",
      "[youtube] PTekHWPpdyA: Downloading webpage\n",
      "[youtube] PTekHWPpdyA: Downloading video info webpage\n",
      "[youtube] PTekHWPpdyA: Extracting video information\n",
      "[youtube] PTekHWPpdyA: Downloading MPD manifest\n"
     ]
    },
    {
     "name": "stderr",
     "output_type": "stream",
     "text": [
      "WARNING: \"id\" field is not a string - forcing string conversion, there is an error in extractor\n"
     ]
    },
    {
     "name": "stdout",
     "output_type": "stream",
     "text": [
      "[download] Destination: songs/PTekHWPpdyA.webm\n",
      "[download] 100% of 3.80MiB in 00:07\n",
      "[ffmpeg] Destination: songs/PTekHWPpdyA.wav\n",
      "Deleting original file songs/PTekHWPpdyA.webm (pass -k to keep)\n",
      "[youtube] W1PuJb-blp8: Downloading webpage\n",
      "[youtube] W1PuJb-blp8: Downloading video info webpage\n",
      "[youtube] W1PuJb-blp8: Extracting video information\n",
      "[youtube] W1PuJb-blp8: Downloading MPD manifest\n"
     ]
    },
    {
     "name": "stderr",
     "output_type": "stream",
     "text": [
      "WARNING: \"id\" field is not a string - forcing string conversion, there is an error in extractor\n"
     ]
    },
    {
     "name": "stdout",
     "output_type": "stream",
     "text": [
      "[download] Destination: songs/W1PuJb-blp8.webm\n",
      "[download] 100% of 5.13MiB in 00:10\n",
      "[ffmpeg] Destination: songs/W1PuJb-blp8.wav\n",
      "Deleting original file songs/W1PuJb-blp8.webm (pass -k to keep)\n",
      "[youtube] ddmKOnHqiMc: Downloading webpage\n",
      "[youtube] ddmKOnHqiMc: Downloading video info webpage\n",
      "[youtube] ddmKOnHqiMc: Extracting video information\n",
      "[youtube] ddmKOnHqiMc: Downloading MPD manifest\n"
     ]
    },
    {
     "name": "stderr",
     "output_type": "stream",
     "text": [
      "WARNING: \"id\" field is not a string - forcing string conversion, there is an error in extractor\n"
     ]
    },
    {
     "name": "stdout",
     "output_type": "stream",
     "text": [
      "[download] Destination: songs/ddmKOnHqiMc.m4a\n",
      "[download] 100% of 3.62MiB in 00:07\n",
      "[ffmpeg] Correcting container in \"songs/ddmKOnHqiMc.m4a\"\n",
      "[ffmpeg] Destination: songs/ddmKOnHqiMc.wav\n",
      "Deleting original file songs/ddmKOnHqiMc.m4a (pass -k to keep)\n",
      "[youtube] u9VdyQ-4fx0: Downloading webpage\n",
      "[youtube] u9VdyQ-4fx0: Downloading video info webpage\n",
      "[youtube] u9VdyQ-4fx0: Extracting video information\n",
      "[youtube] u9VdyQ-4fx0: Downloading MPD manifest\n"
     ]
    },
    {
     "name": "stderr",
     "output_type": "stream",
     "text": [
      "WARNING: \"id\" field is not a string - forcing string conversion, there is an error in extractor\n"
     ]
    },
    {
     "name": "stdout",
     "output_type": "stream",
     "text": [
      "[download] Destination: songs/u9VdyQ-4fx0.webm\n",
      "[download] 100% of 2.66MiB in 00:05\n",
      "[ffmpeg] Destination: songs/u9VdyQ-4fx0.wav\n",
      "Deleting original file songs/u9VdyQ-4fx0.webm (pass -k to keep)\n",
      "[youtube] BfzOHUHwFuw: Downloading webpage\n",
      "[youtube] BfzOHUHwFuw: Downloading video info webpage\n",
      "[youtube] BfzOHUHwFuw: Extracting video information\n",
      "[youtube] BfzOHUHwFuw: Downloading MPD manifest\n"
     ]
    },
    {
     "name": "stderr",
     "output_type": "stream",
     "text": [
      "WARNING: \"id\" field is not a string - forcing string conversion, there is an error in extractor\n"
     ]
    },
    {
     "name": "stdout",
     "output_type": "stream",
     "text": [
      "[download] Destination: songs/BfzOHUHwFuw.webm\n",
      "[download] 100% of 4.68MiB in 00:09\n",
      "[ffmpeg] Destination: songs/BfzOHUHwFuw.wav\n",
      "Deleting original file songs/BfzOHUHwFuw.webm (pass -k to keep)\n",
      "[youtube] SJ5Y5Uf4Mnw: Downloading webpage\n",
      "[youtube] SJ5Y5Uf4Mnw: Downloading video info webpage\n",
      "[youtube] SJ5Y5Uf4Mnw: Extracting video information\n",
      "[youtube] SJ5Y5Uf4Mnw: Downloading MPD manifest\n"
     ]
    },
    {
     "name": "stderr",
     "output_type": "stream",
     "text": [
      "WARNING: \"id\" field is not a string - forcing string conversion, there is an error in extractor\n"
     ]
    },
    {
     "name": "stdout",
     "output_type": "stream",
     "text": [
      "[download] Destination: songs/SJ5Y5Uf4Mnw.m4a\n",
      "[download] 100% of 8.08MiB in 00:16\n",
      "[ffmpeg] Correcting container in \"songs/SJ5Y5Uf4Mnw.m4a\"\n",
      "[ffmpeg] Destination: songs/SJ5Y5Uf4Mnw.wav\n",
      "Deleting original file songs/SJ5Y5Uf4Mnw.m4a (pass -k to keep)\n",
      "[youtube] sTSv-zPQ47o: Downloading webpage\n",
      "[youtube] sTSv-zPQ47o: Downloading video info webpage\n",
      "[youtube] sTSv-zPQ47o: Extracting video information\n",
      "[youtube] sTSv-zPQ47o: Downloading MPD manifest\n"
     ]
    },
    {
     "name": "stderr",
     "output_type": "stream",
     "text": [
      "WARNING: \"id\" field is not a string - forcing string conversion, there is an error in extractor\n"
     ]
    },
    {
     "name": "stdout",
     "output_type": "stream",
     "text": [
      "[download] Destination: songs/sTSv-zPQ47o.m4a\n",
      "[download] 100% of 3.64MiB in 00:07\n",
      "[ffmpeg] Correcting container in \"songs/sTSv-zPQ47o.m4a\"\n",
      "[ffmpeg] Destination: songs/sTSv-zPQ47o.wav\n",
      "Deleting original file songs/sTSv-zPQ47o.m4a (pass -k to keep)\n",
      "[youtube] VRmJdZ5MDzQ: Downloading webpage\n",
      "[youtube] VRmJdZ5MDzQ: Downloading video info webpage\n",
      "[youtube] VRmJdZ5MDzQ: Extracting video information\n",
      "[youtube] VRmJdZ5MDzQ: Downloading MPD manifest\n"
     ]
    },
    {
     "name": "stderr",
     "output_type": "stream",
     "text": [
      "WARNING: \"id\" field is not a string - forcing string conversion, there is an error in extractor\n"
     ]
    },
    {
     "name": "stdout",
     "output_type": "stream",
     "text": [
      "[download] Destination: songs/VRmJdZ5MDzQ.webm\n",
      "[download] 100% of 1015.46KiB in 00:01\n",
      "[ffmpeg] Destination: songs/VRmJdZ5MDzQ.wav\n",
      "Deleting original file songs/VRmJdZ5MDzQ.webm (pass -k to keep)\n",
      "[youtube] wY6tdlNduN4: Downloading webpage\n",
      "[youtube] wY6tdlNduN4: Downloading video info webpage\n",
      "[youtube] wY6tdlNduN4: Extracting video information\n",
      "[youtube] wY6tdlNduN4: Downloading MPD manifest\n"
     ]
    },
    {
     "name": "stderr",
     "output_type": "stream",
     "text": [
      "WARNING: \"id\" field is not a string - forcing string conversion, there is an error in extractor\n"
     ]
    },
    {
     "name": "stdout",
     "output_type": "stream",
     "text": [
      "[download] Destination: songs/wY6tdlNduN4.webm\n",
      "[download] 100% of 3.52MiB in 00:07\n",
      "[ffmpeg] Destination: songs/wY6tdlNduN4.wav\n",
      "Deleting original file songs/wY6tdlNduN4.webm (pass -k to keep)\n",
      "[youtube] 1wwyM_y9IR0: Downloading webpage\n",
      "[youtube] 1wwyM_y9IR0: Downloading video info webpage\n",
      "[youtube] 1wwyM_y9IR0: Extracting video information\n",
      "[youtube] 1wwyM_y9IR0: Downloading MPD manifest\n"
     ]
    },
    {
     "name": "stderr",
     "output_type": "stream",
     "text": [
      "WARNING: \"id\" field is not a string - forcing string conversion, there is an error in extractor\n"
     ]
    },
    {
     "name": "stdout",
     "output_type": "stream",
     "text": [
      "[download] Destination: songs/1wwyM_y9IR0.webm\n",
      "[download] 100% of 3.92MiB in 00:07\n",
      "[ffmpeg] Destination: songs/1wwyM_y9IR0.wav\n",
      "Deleting original file songs/1wwyM_y9IR0.webm (pass -k to keep)\n",
      "[youtube] 6f2QMvbld1o: Downloading webpage\n",
      "[youtube] 6f2QMvbld1o: Downloading video info webpage\n",
      "[youtube] 6f2QMvbld1o: Extracting video information\n",
      "[youtube] 6f2QMvbld1o: Downloading MPD manifest\n"
     ]
    },
    {
     "name": "stderr",
     "output_type": "stream",
     "text": [
      "WARNING: \"id\" field is not a string - forcing string conversion, there is an error in extractor\n"
     ]
    },
    {
     "name": "stdout",
     "output_type": "stream",
     "text": [
      "[download] Destination: songs/6f2QMvbld1o.webm\n",
      "[download] 100% of 5.07MiB in 00:10\n",
      "[ffmpeg] Destination: songs/6f2QMvbld1o.wav\n",
      "Deleting original file songs/6f2QMvbld1o.webm (pass -k to keep)\n",
      "[youtube] ioJXBmNRYBU: Downloading webpage\n",
      "[youtube] ioJXBmNRYBU: Downloading video info webpage\n",
      "[youtube] ioJXBmNRYBU: Extracting video information\n",
      "[youtube] ioJXBmNRYBU: Downloading MPD manifest\n"
     ]
    },
    {
     "name": "stderr",
     "output_type": "stream",
     "text": [
      "WARNING: \"id\" field is not a string - forcing string conversion, there is an error in extractor\n"
     ]
    },
    {
     "name": "stdout",
     "output_type": "stream",
     "text": [
      "[download] Destination: songs/ioJXBmNRYBU.webm\n",
      "[download] 100% of 2.35MiB in 00:04\n",
      "[ffmpeg] Destination: songs/ioJXBmNRYBU.wav\n",
      "Deleting original file songs/ioJXBmNRYBU.webm (pass -k to keep)\n",
      "[youtube] H2glwNhlu44: Downloading webpage\n",
      "[youtube] H2glwNhlu44: Downloading video info webpage\n",
      "[youtube] H2glwNhlu44: Extracting video information\n",
      "[youtube] H2glwNhlu44: Downloading MPD manifest\n"
     ]
    },
    {
     "name": "stderr",
     "output_type": "stream",
     "text": [
      "WARNING: \"id\" field is not a string - forcing string conversion, there is an error in extractor\n"
     ]
    },
    {
     "name": "stdout",
     "output_type": "stream",
     "text": [
      "[download] Destination: songs/H2glwNhlu44.webm\n",
      "[download] 100% of 5.97MiB in 00:11\n",
      "[ffmpeg] Destination: songs/H2glwNhlu44.wav\n",
      "Deleting original file songs/H2glwNhlu44.webm (pass -k to keep)\n",
      "[youtube] ow97yNEhotk: Downloading webpage\n",
      "[youtube] ow97yNEhotk: Downloading video info webpage\n",
      "[youtube] ow97yNEhotk: Extracting video information\n",
      "[youtube] ow97yNEhotk: Downloading MPD manifest\n",
      "[youtube] ow97yNEhotk: Downloading MPD manifest\n"
     ]
    },
    {
     "name": "stderr",
     "output_type": "stream",
     "text": [
      "WARNING: \"id\" field is not a string - forcing string conversion, there is an error in extractor\n"
     ]
    },
    {
     "name": "stdout",
     "output_type": "stream",
     "text": [
      "[dashsegments] Total fragments: 32\n",
      "[download] Destination: songs/ow97yNEhotk.m4a\n",
      "[download] 100% of 4.63MiB in 00:15\n",
      "[ffmpeg] Correcting container in \"songs/ow97yNEhotk.m4a\"\n",
      "[ffmpeg] Destination: songs/ow97yNEhotk.wav\n",
      "Deleting original file songs/ow97yNEhotk.m4a (pass -k to keep)\n",
      "[youtube] -bkR-qeQ200: Downloading webpage\n",
      "[youtube] -bkR-qeQ200: Downloading video info webpage\n",
      "[youtube] -bkR-qeQ200: Extracting video information\n",
      "[youtube] -bkR-qeQ200: Downloading MPD manifest\n"
     ]
    },
    {
     "name": "stderr",
     "output_type": "stream",
     "text": [
      "WARNING: \"id\" field is not a string - forcing string conversion, there is an error in extractor\n"
     ]
    },
    {
     "name": "stdout",
     "output_type": "stream",
     "text": [
      "[download] Destination: songs/-bkR-qeQ200.m4a\n",
      "[download] 100% of 3.55MiB in 00:06\n",
      "[ffmpeg] Correcting container in \"songs/-bkR-qeQ200.m4a\"\n",
      "[ffmpeg] Destination: songs/-bkR-qeQ200.wav\n",
      "Deleting original file songs/-bkR-qeQ200.m4a (pass -k to keep)\n",
      "[youtube] KN9Om9C3Zfc: Downloading webpage\n",
      "[youtube] KN9Om9C3Zfc: Downloading video info webpage\n",
      "[youtube] KN9Om9C3Zfc: Extracting video information\n",
      "[youtube] KN9Om9C3Zfc: Downloading MPD manifest\n"
     ]
    },
    {
     "name": "stderr",
     "output_type": "stream",
     "text": [
      "WARNING: \"id\" field is not a string - forcing string conversion, there is an error in extractor\n"
     ]
    },
    {
     "name": "stdout",
     "output_type": "stream",
     "text": [
      "[download] Destination: songs/KN9Om9C3Zfc.webm\n",
      "[download] 100% of 3.68MiB in 00:07\n",
      "[ffmpeg] Destination: songs/KN9Om9C3Zfc.wav\n",
      "Deleting original file songs/KN9Om9C3Zfc.webm (pass -k to keep)\n",
      "[youtube] ySPwgbVEdLg: Downloading webpage\n",
      "[youtube] ySPwgbVEdLg: Downloading video info webpage\n",
      "[youtube] ySPwgbVEdLg: Extracting video information\n",
      "[youtube] ySPwgbVEdLg: Downloading MPD manifest\n"
     ]
    },
    {
     "name": "stderr",
     "output_type": "stream",
     "text": [
      "WARNING: \"id\" field is not a string - forcing string conversion, there is an error in extractor\n"
     ]
    },
    {
     "name": "stdout",
     "output_type": "stream",
     "text": [
      "[download] Destination: songs/ySPwgbVEdLg.webm\n",
      "[download] 100% of 3.52MiB in 00:06\n",
      "[ffmpeg] Destination: songs/ySPwgbVEdLg.wav\n",
      "Deleting original file songs/ySPwgbVEdLg.webm (pass -k to keep)\n",
      "[youtube] fr9r2rpTtiU: Downloading webpage\n",
      "[youtube] fr9r2rpTtiU: Downloading video info webpage\n"
     ]
    },
    {
     "name": "stderr",
     "output_type": "stream",
     "text": [
      "ERROR: fr9r2rpTtiU: YouTube said: This video contains content from [Merlin] Beggars, who has blocked it on copyright grounds.\n"
     ]
    },
    {
     "name": "stdout",
     "output_type": "stream",
     "text": [
      "[youtube] 1NYw83uAQig: Downloading webpage\n",
      "[youtube] 1NYw83uAQig: Downloading video info webpage\n",
      "[youtube] 1NYw83uAQig: Extracting video information\n",
      "[youtube] 1NYw83uAQig: Downloading MPD manifest\n"
     ]
    },
    {
     "name": "stderr",
     "output_type": "stream",
     "text": [
      "WARNING: \"id\" field is not a string - forcing string conversion, there is an error in extractor\n"
     ]
    },
    {
     "name": "stdout",
     "output_type": "stream",
     "text": [
      "[download] Destination: songs/1NYw83uAQig.webm\n",
      "[download] 100% of 2.49MiB in 00:04\n",
      "[ffmpeg] Destination: songs/1NYw83uAQig.wav\n",
      "Deleting original file songs/1NYw83uAQig.webm (pass -k to keep)\n",
      "[youtube] NLONgF8a_Ig: Downloading webpage\n",
      "[youtube] NLONgF8a_Ig: Downloading video info webpage\n",
      "[youtube] NLONgF8a_Ig: Extracting video information\n",
      "[youtube] NLONgF8a_Ig: Downloading MPD manifest\n"
     ]
    },
    {
     "name": "stderr",
     "output_type": "stream",
     "text": [
      "WARNING: \"id\" field is not a string - forcing string conversion, there is an error in extractor\n"
     ]
    },
    {
     "name": "stdout",
     "output_type": "stream",
     "text": [
      "[download] Destination: songs/NLONgF8a_Ig.m4a\n",
      "[download] 100% of 5.00MiB in 00:10\n",
      "[ffmpeg] Correcting container in \"songs/NLONgF8a_Ig.m4a\"\n",
      "[ffmpeg] Destination: songs/NLONgF8a_Ig.wav\n",
      "Deleting original file songs/NLONgF8a_Ig.m4a (pass -k to keep)\n",
      "[youtube] dxq1mdM68YE: Downloading webpage\n",
      "[youtube] dxq1mdM68YE: Downloading video info webpage\n",
      "[youtube] dxq1mdM68YE: Extracting video information\n",
      "[youtube] dxq1mdM68YE: Downloading MPD manifest\n"
     ]
    },
    {
     "name": "stderr",
     "output_type": "stream",
     "text": [
      "WARNING: \"id\" field is not a string - forcing string conversion, there is an error in extractor\n"
     ]
    },
    {
     "name": "stdout",
     "output_type": "stream",
     "text": [
      "[download] Destination: songs/dxq1mdM68YE.webm\n",
      "[download] 100% of 3.64MiB in 00:07\n",
      "[ffmpeg] Destination: songs/dxq1mdM68YE.wav\n",
      "Deleting original file songs/dxq1mdM68YE.webm (pass -k to keep)\n",
      "[youtube] z2Ak6mcTWPM: Downloading webpage\n",
      "[youtube] z2Ak6mcTWPM: Downloading video info webpage\n",
      "[youtube] z2Ak6mcTWPM: Extracting video information\n",
      "[youtube] z2Ak6mcTWPM: Downloading MPD manifest\n"
     ]
    },
    {
     "name": "stderr",
     "output_type": "stream",
     "text": [
      "WARNING: \"id\" field is not a string - forcing string conversion, there is an error in extractor\n"
     ]
    },
    {
     "name": "stdout",
     "output_type": "stream",
     "text": [
      "[download] Destination: songs/z2Ak6mcTWPM.webm\n",
      "[download] 100% of 3.99MiB in 00:07\n",
      "[ffmpeg] Destination: songs/z2Ak6mcTWPM.wav\n",
      "Deleting original file songs/z2Ak6mcTWPM.webm (pass -k to keep)\n",
      "[youtube] 3tVOaNbgp6U: Downloading webpage\n",
      "[youtube] 3tVOaNbgp6U: Downloading video info webpage\n",
      "[youtube] 3tVOaNbgp6U: Extracting video information\n",
      "[youtube] 3tVOaNbgp6U: Downloading MPD manifest\n"
     ]
    },
    {
     "name": "stderr",
     "output_type": "stream",
     "text": [
      "WARNING: \"id\" field is not a string - forcing string conversion, there is an error in extractor\n"
     ]
    },
    {
     "name": "stdout",
     "output_type": "stream",
     "text": [
      "[download] Destination: songs/3tVOaNbgp6U.m4a\n",
      "[download] 100% of 2.52MiB in 00:04\n",
      "[ffmpeg] Correcting container in \"songs/3tVOaNbgp6U.m4a\"\n",
      "[ffmpeg] Destination: songs/3tVOaNbgp6U.wav\n",
      "Deleting original file songs/3tVOaNbgp6U.m4a (pass -k to keep)\n",
      "[youtube] Nb-_p5rekho: Downloading webpage\n",
      "[youtube] Nb-_p5rekho: Downloading video info webpage\n",
      "[youtube] Nb-_p5rekho: Extracting video information\n",
      "[youtube] Nb-_p5rekho: Downloading MPD manifest\n"
     ]
    },
    {
     "name": "stderr",
     "output_type": "stream",
     "text": [
      "WARNING: \"id\" field is not a string - forcing string conversion, there is an error in extractor\n"
     ]
    },
    {
     "name": "stdout",
     "output_type": "stream",
     "text": [
      "[download] Destination: songs/Nb-_p5rekho.webm\n",
      "[download] 100% of 3.15MiB in 00:06\n",
      "[ffmpeg] Destination: songs/Nb-_p5rekho.wav\n",
      "Deleting original file songs/Nb-_p5rekho.webm (pass -k to keep)\n",
      "[youtube] uYMccoB0IMM: Downloading webpage\n",
      "[youtube] uYMccoB0IMM: Downloading video info webpage\n",
      "[youtube] uYMccoB0IMM: Extracting video information\n",
      "[youtube] uYMccoB0IMM: Downloading MPD manifest\n",
      "[youtube] uYMccoB0IMM: Downloading MPD manifest\n"
     ]
    },
    {
     "name": "stderr",
     "output_type": "stream",
     "text": [
      "WARNING: \"id\" field is not a string - forcing string conversion, there is an error in extractor\n"
     ]
    },
    {
     "name": "stdout",
     "output_type": "stream",
     "text": [
      "[dashsegments] Total fragments: 24\n",
      "[download] Destination: songs/uYMccoB0IMM.m4a\n",
      "[download] 100% of 3.46MiB in 00:11\n",
      "[ffmpeg] Correcting container in \"songs/uYMccoB0IMM.m4a\"\n",
      "[ffmpeg] Destination: songs/uYMccoB0IMM.wav\n",
      "Deleting original file songs/uYMccoB0IMM.m4a (pass -k to keep)\n",
      "[youtube] dvMoWs0wOts: Downloading webpage\n",
      "[youtube] dvMoWs0wOts: Downloading video info webpage\n",
      "[youtube] dvMoWs0wOts: Extracting video information\n",
      "[youtube] dvMoWs0wOts: Downloading MPD manifest\n"
     ]
    },
    {
     "name": "stderr",
     "output_type": "stream",
     "text": [
      "WARNING: \"id\" field is not a string - forcing string conversion, there is an error in extractor\n"
     ]
    },
    {
     "name": "stdout",
     "output_type": "stream",
     "text": [
      "[download] Destination: songs/dvMoWs0wOts.webm\n",
      "[download] 100% of 5.78MiB in 00:11\n",
      "[ffmpeg] Destination: songs/dvMoWs0wOts.wav\n",
      "Deleting original file songs/dvMoWs0wOts.webm (pass -k to keep)\n",
      "[youtube] WvtnHW_mSYs: Downloading webpage\n",
      "[youtube] WvtnHW_mSYs: Downloading video info webpage\n",
      "[youtube] WvtnHW_mSYs: Extracting video information\n",
      "[youtube] WvtnHW_mSYs: Downloading MPD manifest\n"
     ]
    },
    {
     "name": "stderr",
     "output_type": "stream",
     "text": [
      "WARNING: \"id\" field is not a string - forcing string conversion, there is an error in extractor\n"
     ]
    },
    {
     "name": "stdout",
     "output_type": "stream",
     "text": [
      "[download] Destination: songs/WvtnHW_mSYs.m4a\n",
      "[download] 100% of 2.84MiB in 00:05\n",
      "[ffmpeg] Correcting container in \"songs/WvtnHW_mSYs.m4a\"\n",
      "[ffmpeg] Destination: songs/WvtnHW_mSYs.wav\n",
      "Deleting original file songs/WvtnHW_mSYs.m4a (pass -k to keep)\n",
      "[youtube] vLBKOcUbHR0: Downloading webpage\n",
      "[youtube] vLBKOcUbHR0: Downloading video info webpage\n",
      "[youtube] vLBKOcUbHR0: Extracting video information\n",
      "[youtube] vLBKOcUbHR0: Downloading MPD manifest\n"
     ]
    },
    {
     "name": "stderr",
     "output_type": "stream",
     "text": [
      "WARNING: \"id\" field is not a string - forcing string conversion, there is an error in extractor\n"
     ]
    },
    {
     "name": "stdout",
     "output_type": "stream",
     "text": [
      "[download] Destination: songs/vLBKOcUbHR0.webm\n",
      "[download] 100% of 3.50MiB in 00:06\n",
      "[ffmpeg] Destination: songs/vLBKOcUbHR0.wav\n",
      "Deleting original file songs/vLBKOcUbHR0.webm (pass -k to keep)\n",
      "[youtube] VSLeWUNaAL4: Downloading webpage\n",
      "[youtube] VSLeWUNaAL4: Downloading video info webpage\n",
      "[youtube] VSLeWUNaAL4: Extracting video information\n",
      "[youtube] VSLeWUNaAL4: Downloading MPD manifest\n"
     ]
    },
    {
     "name": "stderr",
     "output_type": "stream",
     "text": [
      "WARNING: \"id\" field is not a string - forcing string conversion, there is an error in extractor\n"
     ]
    },
    {
     "name": "stdout",
     "output_type": "stream",
     "text": [
      "[download] Destination: songs/VSLeWUNaAL4.webm\n",
      "[download] 100% of 2.96MiB in 00:05\n",
      "[ffmpeg] Destination: songs/VSLeWUNaAL4.wav\n",
      "Deleting original file songs/VSLeWUNaAL4.webm (pass -k to keep)\n",
      "[youtube] 0T-d-WYeQjQ: Downloading webpage\n",
      "[youtube] 0T-d-WYeQjQ: Downloading video info webpage\n",
      "[youtube] 0T-d-WYeQjQ: Extracting video information\n",
      "[youtube] 0T-d-WYeQjQ: Downloading MPD manifest\n"
     ]
    },
    {
     "name": "stderr",
     "output_type": "stream",
     "text": [
      "WARNING: \"id\" field is not a string - forcing string conversion, there is an error in extractor\n"
     ]
    },
    {
     "name": "stdout",
     "output_type": "stream",
     "text": [
      "[download] Destination: songs/0T-d-WYeQjQ.m4a\n",
      "[download] 100% of 3.08MiB in 00:06\n",
      "[ffmpeg] Correcting container in \"songs/0T-d-WYeQjQ.m4a\"\n",
      "[ffmpeg] Destination: songs/0T-d-WYeQjQ.wav\n",
      "Deleting original file songs/0T-d-WYeQjQ.m4a (pass -k to keep)\n",
      "[youtube] 26T3OBul-Ew: Downloading webpage\n",
      "[youtube] 26T3OBul-Ew: Downloading video info webpage\n",
      "[youtube] 26T3OBul-Ew: Extracting video information\n",
      "[youtube] 26T3OBul-Ew: Downloading MPD manifest\n"
     ]
    },
    {
     "name": "stderr",
     "output_type": "stream",
     "text": [
      "WARNING: \"id\" field is not a string - forcing string conversion, there is an error in extractor\n"
     ]
    },
    {
     "name": "stdout",
     "output_type": "stream",
     "text": [
      "[download] Destination: songs/26T3OBul-Ew.m4a\n",
      "[download] 100% of 5.08MiB in 00:10\n",
      "[ffmpeg] Correcting container in \"songs/26T3OBul-Ew.m4a\"\n",
      "[ffmpeg] Destination: songs/26T3OBul-Ew.wav\n",
      "Deleting original file songs/26T3OBul-Ew.m4a (pass -k to keep)\n",
      "[youtube] 6g6g2mvItp4: Downloading webpage\n",
      "[youtube] 6g6g2mvItp4: Downloading video info webpage\n",
      "[youtube] 6g6g2mvItp4: Extracting video information\n",
      "[youtube] 6g6g2mvItp4: Downloading MPD manifest\n"
     ]
    },
    {
     "name": "stderr",
     "output_type": "stream",
     "text": [
      "WARNING: \"id\" field is not a string - forcing string conversion, there is an error in extractor\n"
     ]
    },
    {
     "name": "stdout",
     "output_type": "stream",
     "text": [
      "[download] Destination: songs/6g6g2mvItp4.webm\n",
      "[download] 100% of 3.25MiB in 00:06\n",
      "[ffmpeg] Destination: songs/6g6g2mvItp4.wav\n",
      "Deleting original file songs/6g6g2mvItp4.webm (pass -k to keep)\n",
      "[youtube] XvlkTHI47Qc: Downloading webpage\n",
      "[youtube] XvlkTHI47Qc: Downloading video info webpage\n",
      "[youtube] XvlkTHI47Qc: Extracting video information\n",
      "[youtube] XvlkTHI47Qc: Downloading MPD manifest\n"
     ]
    },
    {
     "name": "stderr",
     "output_type": "stream",
     "text": [
      "WARNING: \"id\" field is not a string - forcing string conversion, there is an error in extractor\n"
     ]
    },
    {
     "name": "stdout",
     "output_type": "stream",
     "text": [
      "[download] Destination: songs/XvlkTHI47Qc.m4a\n",
      "[download] 100% of 3.44MiB in 00:06\n",
      "[ffmpeg] Correcting container in \"songs/XvlkTHI47Qc.m4a\"\n",
      "[ffmpeg] Destination: songs/XvlkTHI47Qc.wav\n",
      "Deleting original file songs/XvlkTHI47Qc.m4a (pass -k to keep)\n",
      "[youtube] Mkn7LSf-RR0: Downloading webpage\n",
      "[youtube] Mkn7LSf-RR0: Downloading video info webpage\n",
      "[youtube] Mkn7LSf-RR0: Extracting video information\n",
      "[youtube] Mkn7LSf-RR0: Downloading MPD manifest\n"
     ]
    },
    {
     "name": "stderr",
     "output_type": "stream",
     "text": [
      "WARNING: \"id\" field is not a string - forcing string conversion, there is an error in extractor\n"
     ]
    },
    {
     "name": "stdout",
     "output_type": "stream",
     "text": [
      "[download] Destination: songs/Mkn7LSf-RR0.webm\n",
      "[download] 100% of 3.97MiB in 00:07\n",
      "[ffmpeg] Destination: songs/Mkn7LSf-RR0.wav\n",
      "Deleting original file songs/Mkn7LSf-RR0.webm (pass -k to keep)\n",
      "[youtube] 30t1T8u231Q: Downloading webpage\n",
      "[youtube] 30t1T8u231Q: Downloading video info webpage\n",
      "[youtube] 30t1T8u231Q: Extracting video information\n",
      "[youtube] 30t1T8u231Q: Downloading MPD manifest\n"
     ]
    },
    {
     "name": "stderr",
     "output_type": "stream",
     "text": [
      "WARNING: \"id\" field is not a string - forcing string conversion, there is an error in extractor\n"
     ]
    },
    {
     "name": "stdout",
     "output_type": "stream",
     "text": [
      "[download] Destination: songs/30t1T8u231Q.webm\n",
      "[download] 100% of 3.56MiB in 00:07\n",
      "[ffmpeg] Destination: songs/30t1T8u231Q.wav\n",
      "Deleting original file songs/30t1T8u231Q.webm (pass -k to keep)\n",
      "[youtube] sXvtLMykLhY: Downloading webpage\n",
      "[youtube] sXvtLMykLhY: Downloading video info webpage\n",
      "[youtube] sXvtLMykLhY: Extracting video information\n",
      "[youtube] sXvtLMykLhY: Downloading MPD manifest\n"
     ]
    },
    {
     "name": "stderr",
     "output_type": "stream",
     "text": [
      "WARNING: \"id\" field is not a string - forcing string conversion, there is an error in extractor\n"
     ]
    },
    {
     "name": "stdout",
     "output_type": "stream",
     "text": [
      "[download] Destination: songs/sXvtLMykLhY.webm\n",
      "[download] 100% of 3.09MiB in 00:06\n",
      "[ffmpeg] Destination: songs/sXvtLMykLhY.wav\n",
      "Deleting original file songs/sXvtLMykLhY.webm (pass -k to keep)\n",
      "[youtube] zwuE1FOLwpY: Downloading webpage\n",
      "[youtube] zwuE1FOLwpY: Downloading video info webpage\n",
      "[youtube] zwuE1FOLwpY: Extracting video information\n",
      "[youtube] zwuE1FOLwpY: Downloading MPD manifest\n"
     ]
    },
    {
     "name": "stderr",
     "output_type": "stream",
     "text": [
      "WARNING: \"id\" field is not a string - forcing string conversion, there is an error in extractor\n"
     ]
    },
    {
     "name": "stdout",
     "output_type": "stream",
     "text": [
      "[download] Destination: songs/zwuE1FOLwpY.webm\n",
      "[download] 100% of 4.62MiB in 00:09\n",
      "[ffmpeg] Destination: songs/zwuE1FOLwpY.wav\n",
      "Deleting original file songs/zwuE1FOLwpY.webm (pass -k to keep)\n",
      "[youtube] hYryOTF92oo: Downloading webpage\n",
      "[youtube] hYryOTF92oo: Downloading video info webpage\n",
      "[youtube] hYryOTF92oo: Extracting video information\n",
      "[youtube] hYryOTF92oo: Downloading MPD manifest\n"
     ]
    },
    {
     "name": "stderr",
     "output_type": "stream",
     "text": [
      "WARNING: \"id\" field is not a string - forcing string conversion, there is an error in extractor\n"
     ]
    },
    {
     "name": "stdout",
     "output_type": "stream",
     "text": [
      "[download] Destination: songs/hYryOTF92oo.m4a\n",
      "[download] 100% of 5.19MiB in 00:10\n",
      "[ffmpeg] Correcting container in \"songs/hYryOTF92oo.m4a\"\n",
      "[ffmpeg] Destination: songs/hYryOTF92oo.wav\n",
      "Deleting original file songs/hYryOTF92oo.m4a (pass -k to keep)\n",
      "[youtube] j3m1xgXITT4: Downloading webpage\n",
      "[youtube] j3m1xgXITT4: Downloading video info webpage\n",
      "[youtube] j3m1xgXITT4: Extracting video information\n",
      "[youtube] j3m1xgXITT4: Downloading MPD manifest\n"
     ]
    },
    {
     "name": "stderr",
     "output_type": "stream",
     "text": [
      "WARNING: \"id\" field is not a string - forcing string conversion, there is an error in extractor\n"
     ]
    },
    {
     "name": "stdout",
     "output_type": "stream",
     "text": [
      "[download] Destination: songs/j3m1xgXITT4.webm\n",
      "[download] 100% of 2.63MiB in 00:05\n",
      "[ffmpeg] Destination: songs/j3m1xgXITT4.wav\n",
      "Deleting original file songs/j3m1xgXITT4.webm (pass -k to keep)\n",
      "[youtube] w0-Z10GK7gU: Downloading webpage\n",
      "[youtube] w0-Z10GK7gU: Downloading video info webpage\n",
      "[youtube] w0-Z10GK7gU: Extracting video information\n",
      "[youtube] w0-Z10GK7gU: Downloading MPD manifest\n"
     ]
    },
    {
     "name": "stderr",
     "output_type": "stream",
     "text": [
      "WARNING: \"id\" field is not a string - forcing string conversion, there is an error in extractor\n"
     ]
    },
    {
     "name": "stdout",
     "output_type": "stream",
     "text": [
      "[download] Destination: songs/w0-Z10GK7gU.webm\n",
      "[download] 100% of 2.73MiB in 00:05\n",
      "[ffmpeg] Destination: songs/w0-Z10GK7gU.wav\n",
      "Deleting original file songs/w0-Z10GK7gU.webm (pass -k to keep)\n",
      "[youtube] brMDe5XQbcA: Downloading webpage\n",
      "[youtube] brMDe5XQbcA: Downloading video info webpage\n",
      "[youtube] brMDe5XQbcA: Extracting video information\n",
      "[youtube] brMDe5XQbcA: Downloading MPD manifest\n"
     ]
    },
    {
     "name": "stderr",
     "output_type": "stream",
     "text": [
      "WARNING: \"id\" field is not a string - forcing string conversion, there is an error in extractor\n"
     ]
    },
    {
     "name": "stdout",
     "output_type": "stream",
     "text": [
      "[download] Destination: songs/brMDe5XQbcA.webm\n",
      "[download] 100% of 4.79MiB in 00:09\n",
      "[ffmpeg] Destination: songs/brMDe5XQbcA.wav\n",
      "Deleting original file songs/brMDe5XQbcA.webm (pass -k to keep)\n",
      "[youtube] pxytRIxdyk4: Downloading webpage\n",
      "[youtube] pxytRIxdyk4: Downloading video info webpage\n",
      "[youtube] pxytRIxdyk4: Extracting video information\n",
      "[youtube] pxytRIxdyk4: Downloading MPD manifest\n"
     ]
    },
    {
     "name": "stderr",
     "output_type": "stream",
     "text": [
      "WARNING: \"id\" field is not a string - forcing string conversion, there is an error in extractor\n"
     ]
    },
    {
     "name": "stdout",
     "output_type": "stream",
     "text": [
      "[download] Destination: songs/pxytRIxdyk4.webm\n",
      "[download] 100% of 3.17MiB in 00:06\n",
      "[ffmpeg] Destination: songs/pxytRIxdyk4.wav\n",
      "Deleting original file songs/pxytRIxdyk4.webm (pass -k to keep)\n",
      "[youtube] r2YmuP5IkTI: Downloading webpage\n",
      "[youtube] r2YmuP5IkTI: Downloading video info webpage\n",
      "[youtube] r2YmuP5IkTI: Extracting video information\n",
      "[youtube] r2YmuP5IkTI: Downloading MPD manifest\n"
     ]
    },
    {
     "name": "stderr",
     "output_type": "stream",
     "text": [
      "WARNING: \"id\" field is not a string - forcing string conversion, there is an error in extractor\n"
     ]
    },
    {
     "name": "stdout",
     "output_type": "stream",
     "text": [
      "[download] Destination: songs/r2YmuP5IkTI.m4a\n",
      "[download] 100% of 2.33MiB in 00:04\n",
      "[ffmpeg] Correcting container in \"songs/r2YmuP5IkTI.m4a\"\n",
      "[ffmpeg] Destination: songs/r2YmuP5IkTI.wav\n",
      "Deleting original file songs/r2YmuP5IkTI.m4a (pass -k to keep)\n",
      "[youtube] i4Kr-pl_EHA: Downloading webpage\n",
      "[youtube] i4Kr-pl_EHA: Downloading video info webpage\n",
      "[youtube] i4Kr-pl_EHA: Extracting video information\n",
      "[youtube] i4Kr-pl_EHA: Downloading MPD manifest\n"
     ]
    },
    {
     "name": "stderr",
     "output_type": "stream",
     "text": [
      "WARNING: \"id\" field is not a string - forcing string conversion, there is an error in extractor\n"
     ]
    },
    {
     "name": "stdout",
     "output_type": "stream",
     "text": [
      "[download] Destination: songs/i4Kr-pl_EHA.m4a\n",
      "[download] 100% of 3.42MiB in 00:07\n",
      "[ffmpeg] Correcting container in \"songs/i4Kr-pl_EHA.m4a\"\n",
      "[ffmpeg] Destination: songs/i4Kr-pl_EHA.wav\n",
      "Deleting original file songs/i4Kr-pl_EHA.m4a (pass -k to keep)\n",
      "[youtube] bLZMhWtCY58: Downloading webpage\n",
      "[youtube] bLZMhWtCY58: Downloading video info webpage\n",
      "[youtube] bLZMhWtCY58: Extracting video information\n",
      "[youtube] bLZMhWtCY58: Downloading MPD manifest\n"
     ]
    },
    {
     "name": "stderr",
     "output_type": "stream",
     "text": [
      "WARNING: \"id\" field is not a string - forcing string conversion, there is an error in extractor\n"
     ]
    },
    {
     "name": "stdout",
     "output_type": "stream",
     "text": [
      "[download] Destination: songs/bLZMhWtCY58.webm\n",
      "[download] 100% of 4.45MiB in 00:08\n",
      "[ffmpeg] Destination: songs/bLZMhWtCY58.wav\n",
      "Deleting original file songs/bLZMhWtCY58.webm (pass -k to keep)\n",
      "[youtube] HSILdkdwuhU: Downloading webpage\n",
      "[youtube] HSILdkdwuhU: Downloading video info webpage\n",
      "[youtube] HSILdkdwuhU: Extracting video information\n",
      "[youtube] HSILdkdwuhU: Downloading MPD manifest\n",
      "[youtube] HSILdkdwuhU: Downloading MPD manifest\n"
     ]
    },
    {
     "name": "stderr",
     "output_type": "stream",
     "text": [
      "WARNING: \"id\" field is not a string - forcing string conversion, there is an error in extractor\n"
     ]
    },
    {
     "name": "stdout",
     "output_type": "stream",
     "text": [
      "[dashsegments] Total fragments: 6\n",
      "[download] Destination: songs/HSILdkdwuhU.m4a\n",
      "[download] 100% of 569.41KiB in 00:02\n",
      "[ffmpeg] Correcting container in \"songs/HSILdkdwuhU.m4a\"\n",
      "[ffmpeg] Destination: songs/HSILdkdwuhU.wav\n",
      "Deleting original file songs/HSILdkdwuhU.m4a (pass -k to keep)\n",
      "[youtube] DXcf0C7dIxg: Downloading webpage\n",
      "[youtube] DXcf0C7dIxg: Downloading video info webpage\n",
      "[youtube] DXcf0C7dIxg: Extracting video information\n",
      "[youtube] DXcf0C7dIxg: Downloading MPD manifest\n",
      "[youtube] DXcf0C7dIxg: Downloading MPD manifest\n"
     ]
    },
    {
     "name": "stderr",
     "output_type": "stream",
     "text": [
      "WARNING: \"id\" field is not a string - forcing string conversion, there is an error in extractor\n"
     ]
    },
    {
     "name": "stdout",
     "output_type": "stream",
     "text": [
      "[dashsegments] Total fragments: 50\n",
      "[download] Destination: songs/DXcf0C7dIxg.m4a\n",
      "[download] 100% of 3.69MiB in 00:15\n",
      "[ffmpeg] Correcting container in \"songs/DXcf0C7dIxg.m4a\"\n",
      "[ffmpeg] Destination: songs/DXcf0C7dIxg.wav\n",
      "Deleting original file songs/DXcf0C7dIxg.m4a (pass -k to keep)\n",
      "[youtube] syBtO1r6mZM: Downloading webpage\n",
      "[youtube] syBtO1r6mZM: Downloading video info webpage\n",
      "[youtube] syBtO1r6mZM: Extracting video information\n",
      "[youtube] syBtO1r6mZM: Downloading MPD manifest\n"
     ]
    },
    {
     "name": "stderr",
     "output_type": "stream",
     "text": [
      "WARNING: \"id\" field is not a string - forcing string conversion, there is an error in extractor\n"
     ]
    },
    {
     "name": "stdout",
     "output_type": "stream",
     "text": [
      "[download] Destination: songs/syBtO1r6mZM.m4a\n",
      "[download] 100% of 3.02MiB in 00:05\n",
      "[ffmpeg] Correcting container in \"songs/syBtO1r6mZM.m4a\"\n",
      "[ffmpeg] Destination: songs/syBtO1r6mZM.wav\n",
      "Deleting original file songs/syBtO1r6mZM.m4a (pass -k to keep)\n",
      "[youtube] 0clHnQzFvfw: Downloading webpage\n",
      "[youtube] 0clHnQzFvfw: Downloading video info webpage\n",
      "[youtube] 0clHnQzFvfw: Extracting video information\n",
      "[youtube] 0clHnQzFvfw: Downloading MPD manifest\n"
     ]
    },
    {
     "name": "stderr",
     "output_type": "stream",
     "text": [
      "WARNING: \"id\" field is not a string - forcing string conversion, there is an error in extractor\n"
     ]
    },
    {
     "name": "stdout",
     "output_type": "stream",
     "text": [
      "[download] Destination: songs/0clHnQzFvfw.webm\n",
      "[download] 100% of 3.05MiB in 00:07\n",
      "[ffmpeg] Destination: songs/0clHnQzFvfw.wav\n",
      "Deleting original file songs/0clHnQzFvfw.webm (pass -k to keep)\n",
      "[youtube] lbQl14tJIWM: Downloading webpage\n",
      "[youtube] lbQl14tJIWM: Downloading video info webpage\n",
      "[youtube] lbQl14tJIWM: Extracting video information\n",
      "[youtube] lbQl14tJIWM: Downloading MPD manifest\n"
     ]
    },
    {
     "name": "stderr",
     "output_type": "stream",
     "text": [
      "WARNING: \"id\" field is not a string - forcing string conversion, there is an error in extractor\n"
     ]
    },
    {
     "name": "stdout",
     "output_type": "stream",
     "text": [
      "[download] Destination: songs/lbQl14tJIWM.m4a\n",
      "[download] 100% of 4.09MiB in 00:08\n",
      "[ffmpeg] Correcting container in \"songs/lbQl14tJIWM.m4a\"\n",
      "[ffmpeg] Destination: songs/lbQl14tJIWM.wav\n",
      "Deleting original file songs/lbQl14tJIWM.m4a (pass -k to keep)\n",
      "[youtube] M5U10JdA3R4: Downloading webpage\n",
      "[youtube] M5U10JdA3R4: Downloading video info webpage\n",
      "[youtube] M5U10JdA3R4: Extracting video information\n",
      "[youtube] M5U10JdA3R4: Downloading MPD manifest\n"
     ]
    },
    {
     "name": "stderr",
     "output_type": "stream",
     "text": [
      "WARNING: \"id\" field is not a string - forcing string conversion, there is an error in extractor\n"
     ]
    },
    {
     "name": "stdout",
     "output_type": "stream",
     "text": [
      "[download] Destination: songs/M5U10JdA3R4.webm\n",
      "[download] 100% of 2.02MiB in 00:04\n",
      "[ffmpeg] Destination: songs/M5U10JdA3R4.wav\n",
      "Deleting original file songs/M5U10JdA3R4.webm (pass -k to keep)\n",
      "[youtube] STVhtBondmw: Downloading webpage\n",
      "[youtube] STVhtBondmw: Downloading video info webpage\n",
      "[youtube] STVhtBondmw: Extracting video information\n",
      "[youtube] STVhtBondmw: Downloading MPD manifest\n"
     ]
    },
    {
     "name": "stderr",
     "output_type": "stream",
     "text": [
      "WARNING: \"id\" field is not a string - forcing string conversion, there is an error in extractor\n"
     ]
    },
    {
     "name": "stdout",
     "output_type": "stream",
     "text": [
      "[download] Destination: songs/STVhtBondmw.webm\n",
      "[download] 100% of 3.21MiB in 00:06\n",
      "[ffmpeg] Destination: songs/STVhtBondmw.wav\n",
      "Deleting original file songs/STVhtBondmw.webm (pass -k to keep)\n",
      "[youtube] lYCyFCs6n4s: Downloading webpage\n",
      "[youtube] lYCyFCs6n4s: Downloading video info webpage\n",
      "[youtube] lYCyFCs6n4s: Extracting video information\n",
      "[youtube] lYCyFCs6n4s: Downloading MPD manifest\n"
     ]
    },
    {
     "name": "stderr",
     "output_type": "stream",
     "text": [
      "WARNING: \"id\" field is not a string - forcing string conversion, there is an error in extractor\n"
     ]
    },
    {
     "name": "stdout",
     "output_type": "stream",
     "text": [
      "[download] Destination: songs/lYCyFCs6n4s.m4a\n",
      "[download] 100% of 4.14MiB in 00:08\n",
      "[ffmpeg] Correcting container in \"songs/lYCyFCs6n4s.m4a\"\n",
      "[ffmpeg] Destination: songs/lYCyFCs6n4s.wav\n",
      "Deleting original file songs/lYCyFCs6n4s.m4a (pass -k to keep)\n",
      "[youtube] t4jvckTBjUM: Downloading webpage\n",
      "[youtube] t4jvckTBjUM: Downloading video info webpage\n",
      "[youtube] t4jvckTBjUM: Extracting video information\n",
      "[youtube] t4jvckTBjUM: Downloading MPD manifest\n"
     ]
    },
    {
     "name": "stderr",
     "output_type": "stream",
     "text": [
      "WARNING: \"id\" field is not a string - forcing string conversion, there is an error in extractor\n"
     ]
    },
    {
     "name": "stdout",
     "output_type": "stream",
     "text": [
      "[download] Destination: songs/t4jvckTBjUM.webm\n",
      "[download] 100% of 3.77MiB in 00:07\n",
      "[ffmpeg] Destination: songs/t4jvckTBjUM.wav\n",
      "Deleting original file songs/t4jvckTBjUM.webm (pass -k to keep)\n",
      "[youtube] 8SHSdaK7CcU: Downloading webpage\n",
      "[youtube] 8SHSdaK7CcU: Downloading video info webpage\n",
      "[youtube] 8SHSdaK7CcU: Extracting video information\n",
      "[youtube] 8SHSdaK7CcU: Downloading MPD manifest\n"
     ]
    },
    {
     "name": "stderr",
     "output_type": "stream",
     "text": [
      "WARNING: \"id\" field is not a string - forcing string conversion, there is an error in extractor\n"
     ]
    },
    {
     "name": "stdout",
     "output_type": "stream",
     "text": [
      "[download] Destination: songs/8SHSdaK7CcU.webm\n",
      "[download] 100% of 4.47MiB in 00:08\n",
      "[ffmpeg] Destination: songs/8SHSdaK7CcU.wav\n",
      "Deleting original file songs/8SHSdaK7CcU.webm (pass -k to keep)\n",
      "[youtube] --vOgPWuTfQ: Downloading webpage\n",
      "[youtube] --vOgPWuTfQ: Downloading video info webpage\n",
      "[youtube] --vOgPWuTfQ: Extracting video information\n",
      "[youtube] --vOgPWuTfQ: Downloading MPD manifest\n"
     ]
    },
    {
     "name": "stderr",
     "output_type": "stream",
     "text": [
      "WARNING: \"id\" field is not a string - forcing string conversion, there is an error in extractor\n"
     ]
    },
    {
     "name": "stdout",
     "output_type": "stream",
     "text": [
      "[download] Destination: songs/--vOgPWuTfQ.webm\n",
      "[download] 100% of 3.01MiB in 00:10\n",
      "[ffmpeg] Destination: songs/--vOgPWuTfQ.wav\n",
      "Deleting original file songs/--vOgPWuTfQ.webm (pass -k to keep)\n",
      "[youtube] PsyXlfqRxn4: Downloading webpage\n",
      "[youtube] PsyXlfqRxn4: Downloading video info webpage\n",
      "[youtube] PsyXlfqRxn4: Extracting video information\n",
      "[youtube] PsyXlfqRxn4: Downloading MPD manifest\n"
     ]
    },
    {
     "name": "stderr",
     "output_type": "stream",
     "text": [
      "WARNING: \"id\" field is not a string - forcing string conversion, there is an error in extractor\n"
     ]
    },
    {
     "name": "stdout",
     "output_type": "stream",
     "text": [
      "[download] Destination: songs/PsyXlfqRxn4.m4a\n",
      "[download] 100% of 3.49MiB in 00:06\n",
      "[ffmpeg] Correcting container in \"songs/PsyXlfqRxn4.m4a\"\n",
      "[ffmpeg] Destination: songs/PsyXlfqRxn4.wav\n",
      "Deleting original file songs/PsyXlfqRxn4.m4a (pass -k to keep)\n",
      "[youtube] -smN7dhKWVQ: Downloading webpage\n",
      "[youtube] -smN7dhKWVQ: Downloading video info webpage\n",
      "[youtube] -smN7dhKWVQ: Extracting video information\n",
      "[youtube] -smN7dhKWVQ: Downloading MPD manifest\n"
     ]
    },
    {
     "name": "stderr",
     "output_type": "stream",
     "text": [
      "WARNING: \"id\" field is not a string - forcing string conversion, there is an error in extractor\n"
     ]
    },
    {
     "name": "stdout",
     "output_type": "stream",
     "text": [
      "[download] Destination: songs/-smN7dhKWVQ.webm\n",
      "[download] 100% of 5.59MiB in 00:11\n",
      "[ffmpeg] Destination: songs/-smN7dhKWVQ.wav\n",
      "Deleting original file songs/-smN7dhKWVQ.webm (pass -k to keep)\n",
      "[youtube] W4BySC_SH1I: Downloading webpage\n",
      "[youtube] W4BySC_SH1I: Downloading video info webpage\n",
      "[youtube] W4BySC_SH1I: Extracting video information\n",
      "[youtube] W4BySC_SH1I: Downloading MPD manifest\n",
      "[youtube] W4BySC_SH1I: Downloading MPD manifest\n"
     ]
    },
    {
     "name": "stderr",
     "output_type": "stream",
     "text": [
      "WARNING: \"id\" field is not a string - forcing string conversion, there is an error in extractor\n"
     ]
    },
    {
     "name": "stdout",
     "output_type": "stream",
     "text": [
      "[dashsegments] Total fragments: 34\n",
      "[download] Destination: songs/W4BySC_SH1I.m4a\n",
      "[download] 100% of 4.97MiB in 00:17\n",
      "[ffmpeg] Correcting container in \"songs/W4BySC_SH1I.m4a\"\n",
      "[ffmpeg] Destination: songs/W4BySC_SH1I.wav\n",
      "Deleting original file songs/W4BySC_SH1I.m4a (pass -k to keep)\n",
      "[youtube] lXWQivGTvck: Downloading webpage\n",
      "[youtube] lXWQivGTvck: Downloading video info webpage\n",
      "[youtube] lXWQivGTvck: Extracting video information\n",
      "[youtube] lXWQivGTvck: Downloading MPD manifest\n"
     ]
    },
    {
     "name": "stderr",
     "output_type": "stream",
     "text": [
      "WARNING: \"id\" field is not a string - forcing string conversion, there is an error in extractor\n"
     ]
    },
    {
     "name": "stdout",
     "output_type": "stream",
     "text": [
      "[download] Destination: songs/lXWQivGTvck.webm\n",
      "[download] 100% of 3.18MiB in 00:06\n",
      "[ffmpeg] Destination: songs/lXWQivGTvck.wav\n",
      "Deleting original file songs/lXWQivGTvck.webm (pass -k to keep)\n",
      "[youtube] fP59MXjgNsA: Downloading webpage\n",
      "[youtube] fP59MXjgNsA: Downloading video info webpage\n",
      "[youtube] fP59MXjgNsA: Extracting video information\n",
      "[youtube] fP59MXjgNsA: Downloading MPD manifest\n"
     ]
    },
    {
     "name": "stderr",
     "output_type": "stream",
     "text": [
      "WARNING: \"id\" field is not a string - forcing string conversion, there is an error in extractor\n"
     ]
    },
    {
     "name": "stdout",
     "output_type": "stream",
     "text": [
      "[download] Destination: songs/fP59MXjgNsA.webm\n",
      "[download] 100% of 3.40MiB in 00:06\n",
      "[ffmpeg] Destination: songs/fP59MXjgNsA.wav\n",
      "Deleting original file songs/fP59MXjgNsA.webm (pass -k to keep)\n",
      "[youtube] 2YYlzMiYXIA: Downloading webpage\n",
      "[youtube] 2YYlzMiYXIA: Downloading video info webpage\n",
      "[youtube] 2YYlzMiYXIA: Extracting video information\n",
      "[youtube] 2YYlzMiYXIA: Downloading MPD manifest\n"
     ]
    },
    {
     "name": "stderr",
     "output_type": "stream",
     "text": [
      "WARNING: \"id\" field is not a string - forcing string conversion, there is an error in extractor\n"
     ]
    },
    {
     "name": "stdout",
     "output_type": "stream",
     "text": [
      "[download] Destination: songs/2YYlzMiYXIA.webm\n",
      "[download] 100% of 3.60MiB in 00:07\n",
      "[ffmpeg] Destination: songs/2YYlzMiYXIA.wav\n",
      "Deleting original file songs/2YYlzMiYXIA.webm (pass -k to keep)\n",
      "[youtube] BMXZgzYnzlk: Downloading webpage\n",
      "[youtube] BMXZgzYnzlk: Downloading video info webpage\n",
      "[youtube] BMXZgzYnzlk: Extracting video information\n",
      "[youtube] BMXZgzYnzlk: Downloading MPD manifest\n"
     ]
    },
    {
     "name": "stderr",
     "output_type": "stream",
     "text": [
      "WARNING: \"id\" field is not a string - forcing string conversion, there is an error in extractor\n"
     ]
    },
    {
     "name": "stdout",
     "output_type": "stream",
     "text": [
      "[download] Destination: songs/BMXZgzYnzlk.webm\n",
      "[download] 100% of 3.31MiB in 00:06\n",
      "[ffmpeg] Destination: songs/BMXZgzYnzlk.wav\n",
      "Deleting original file songs/BMXZgzYnzlk.webm (pass -k to keep)\n",
      "[youtube] -lAj04tTONc: Downloading webpage\n",
      "[youtube] -lAj04tTONc: Downloading video info webpage\n",
      "[youtube] -lAj04tTONc: Extracting video information\n",
      "[youtube] -lAj04tTONc: Downloading MPD manifest\n"
     ]
    },
    {
     "name": "stderr",
     "output_type": "stream",
     "text": [
      "WARNING: \"id\" field is not a string - forcing string conversion, there is an error in extractor\n"
     ]
    },
    {
     "name": "stdout",
     "output_type": "stream",
     "text": [
      "[download] Destination: songs/-lAj04tTONc.webm\n",
      "[download] 100% of 2.35MiB in 00:04\n",
      "[ffmpeg] Destination: songs/-lAj04tTONc.wav\n",
      "Deleting original file songs/-lAj04tTONc.webm (pass -k to keep)\n",
      "[youtube] Ly8lHWiWrH4: Downloading webpage\n",
      "[youtube] Ly8lHWiWrH4: Downloading video info webpage\n",
      "[youtube] Ly8lHWiWrH4: Extracting video information\n",
      "[youtube] Ly8lHWiWrH4: Downloading MPD manifest\n"
     ]
    },
    {
     "name": "stderr",
     "output_type": "stream",
     "text": [
      "WARNING: \"id\" field is not a string - forcing string conversion, there is an error in extractor\n"
     ]
    },
    {
     "name": "stdout",
     "output_type": "stream",
     "text": [
      "[download] Destination: songs/Ly8lHWiWrH4.webm\n",
      "[download] 100% of 2.93MiB in 00:05\n",
      "[ffmpeg] Destination: songs/Ly8lHWiWrH4.wav\n",
      "Deleting original file songs/Ly8lHWiWrH4.webm (pass -k to keep)\n",
      "[youtube] NXUYp1bPVoI: Downloading webpage\n",
      "[youtube] NXUYp1bPVoI: Downloading video info webpage\n",
      "[youtube] NXUYp1bPVoI: Extracting video information\n",
      "[youtube] NXUYp1bPVoI: Downloading MPD manifest\n"
     ]
    },
    {
     "name": "stderr",
     "output_type": "stream",
     "text": [
      "WARNING: \"id\" field is not a string - forcing string conversion, there is an error in extractor\n"
     ]
    },
    {
     "name": "stdout",
     "output_type": "stream",
     "text": [
      "[download] Destination: songs/NXUYp1bPVoI.webm\n",
      "[download] 100% of 4.30MiB in 00:08\n",
      "[ffmpeg] Destination: songs/NXUYp1bPVoI.wav\n",
      "Deleting original file songs/NXUYp1bPVoI.webm (pass -k to keep)\n",
      "[youtube] X-Xxwi18590: Downloading webpage\n",
      "[youtube] X-Xxwi18590: Downloading video info webpage\n",
      "[youtube] X-Xxwi18590: Extracting video information\n",
      "[youtube] X-Xxwi18590: Downloading MPD manifest\n"
     ]
    },
    {
     "name": "stderr",
     "output_type": "stream",
     "text": [
      "WARNING: \"id\" field is not a string - forcing string conversion, there is an error in extractor\n"
     ]
    },
    {
     "name": "stdout",
     "output_type": "stream",
     "text": [
      "[download] Destination: songs/X-Xxwi18590.m4a\n",
      "[download] 100% of 1.97MiB in 00:03\n",
      "[ffmpeg] Correcting container in \"songs/X-Xxwi18590.m4a\"\n",
      "[ffmpeg] Destination: songs/X-Xxwi18590.wav\n",
      "Deleting original file songs/X-Xxwi18590.m4a (pass -k to keep)\n",
      "[youtube] D2ZAfBx4O5Q: Downloading webpage\n",
      "[youtube] D2ZAfBx4O5Q: Downloading video info webpage\n",
      "[youtube] D2ZAfBx4O5Q: Extracting video information\n",
      "[youtube] D2ZAfBx4O5Q: Downloading MPD manifest\n"
     ]
    },
    {
     "name": "stderr",
     "output_type": "stream",
     "text": [
      "WARNING: \"id\" field is not a string - forcing string conversion, there is an error in extractor\n"
     ]
    },
    {
     "name": "stdout",
     "output_type": "stream",
     "text": [
      "[download] Destination: songs/D2ZAfBx4O5Q.webm\n",
      "[download] 100% of 3.02MiB in 00:05\n",
      "[ffmpeg] Destination: songs/D2ZAfBx4O5Q.wav\n",
      "Deleting original file songs/D2ZAfBx4O5Q.webm (pass -k to keep)\n",
      "[youtube] SdvWgoWnnQM: Downloading webpage\n",
      "[youtube] SdvWgoWnnQM: Downloading video info webpage\n",
      "[youtube] SdvWgoWnnQM: Extracting video information\n",
      "[youtube] SdvWgoWnnQM: Downloading MPD manifest\n"
     ]
    },
    {
     "name": "stderr",
     "output_type": "stream",
     "text": [
      "WARNING: \"id\" field is not a string - forcing string conversion, there is an error in extractor\n"
     ]
    },
    {
     "name": "stdout",
     "output_type": "stream",
     "text": [
      "[download] Destination: songs/SdvWgoWnnQM.webm\n",
      "[download] 100% of 3.74MiB in 00:07\n",
      "[ffmpeg] Destination: songs/SdvWgoWnnQM.wav\n",
      "Deleting original file songs/SdvWgoWnnQM.webm (pass -k to keep)\n",
      "[youtube] uh1SQL4OuC8: Downloading webpage\n",
      "[youtube] uh1SQL4OuC8: Downloading video info webpage\n",
      "[youtube] uh1SQL4OuC8: Extracting video information\n",
      "[youtube] uh1SQL4OuC8: Downloading MPD manifest\n"
     ]
    },
    {
     "name": "stderr",
     "output_type": "stream",
     "text": [
      "WARNING: \"id\" field is not a string - forcing string conversion, there is an error in extractor\n"
     ]
    },
    {
     "name": "stdout",
     "output_type": "stream",
     "text": [
      "[download] Destination: songs/uh1SQL4OuC8.webm\n",
      "[download] 100% of 3.12MiB in 00:06\n",
      "[ffmpeg] Destination: songs/uh1SQL4OuC8.wav\n",
      "Deleting original file songs/uh1SQL4OuC8.webm (pass -k to keep)\n",
      "[youtube] Y_KVc7XGCSw: Downloading webpage\n",
      "[youtube] Y_KVc7XGCSw: Downloading video info webpage\n",
      "[youtube] Y_KVc7XGCSw: Extracting video information\n",
      "[youtube] Y_KVc7XGCSw: Downloading MPD manifest\n"
     ]
    },
    {
     "name": "stderr",
     "output_type": "stream",
     "text": [
      "WARNING: \"id\" field is not a string - forcing string conversion, there is an error in extractor\n"
     ]
    },
    {
     "name": "stdout",
     "output_type": "stream",
     "text": [
      "[download] Destination: songs/Y_KVc7XGCSw.webm\n",
      "[download] 100% of 3.74MiB in 00:07\n",
      "[ffmpeg] Destination: songs/Y_KVc7XGCSw.wav\n",
      "Deleting original file songs/Y_KVc7XGCSw.webm (pass -k to keep)\n",
      "[youtube] cVI_uMSKen4: Downloading webpage\n",
      "[youtube] cVI_uMSKen4: Downloading video info webpage\n",
      "[youtube] cVI_uMSKen4: Extracting video information\n",
      "[youtube] cVI_uMSKen4: Downloading MPD manifest\n"
     ]
    },
    {
     "name": "stderr",
     "output_type": "stream",
     "text": [
      "WARNING: \"id\" field is not a string - forcing string conversion, there is an error in extractor\n"
     ]
    },
    {
     "name": "stdout",
     "output_type": "stream",
     "text": [
      "[download] Destination: songs/cVI_uMSKen4.webm\n",
      "[download] 100% of 2.76MiB in 00:05\n",
      "[ffmpeg] Destination: songs/cVI_uMSKen4.wav\n",
      "Deleting original file songs/cVI_uMSKen4.webm (pass -k to keep)\n",
      "[youtube] iElqE-uGRLQ: Downloading webpage\n",
      "[youtube] iElqE-uGRLQ: Downloading video info webpage\n",
      "[youtube] iElqE-uGRLQ: Extracting video information\n",
      "[youtube] iElqE-uGRLQ: Downloading MPD manifest\n",
      "[youtube] iElqE-uGRLQ: Downloading MPD manifest\n"
     ]
    },
    {
     "name": "stderr",
     "output_type": "stream",
     "text": [
      "WARNING: \"id\" field is not a string - forcing string conversion, there is an error in extractor\n"
     ]
    },
    {
     "name": "stdout",
     "output_type": "stream",
     "text": [
      "[dashsegments] Total fragments: 26\n",
      "[download] Destination: songs/iElqE-uGRLQ.m4a\n",
      "[download] 100% of 3.75MiB in 00:12\n",
      "[ffmpeg] Correcting container in \"songs/iElqE-uGRLQ.m4a\"\n",
      "[ffmpeg] Destination: songs/iElqE-uGRLQ.wav\n",
      "Deleting original file songs/iElqE-uGRLQ.m4a (pass -k to keep)\n",
      "[youtube] BFs1GFUNcug: Downloading webpage\n",
      "[youtube] BFs1GFUNcug: Downloading video info webpage\n",
      "[youtube] BFs1GFUNcug: Extracting video information\n",
      "[youtube] BFs1GFUNcug: Downloading MPD manifest\n"
     ]
    },
    {
     "name": "stderr",
     "output_type": "stream",
     "text": [
      "WARNING: \"id\" field is not a string - forcing string conversion, there is an error in extractor\n"
     ]
    },
    {
     "name": "stdout",
     "output_type": "stream",
     "text": [
      "[download] Destination: songs/BFs1GFUNcug.m4a\n",
      "[download] 100% of 2.40MiB in 00:04\n",
      "[ffmpeg] Correcting container in \"songs/BFs1GFUNcug.m4a\"\n",
      "[ffmpeg] Destination: songs/BFs1GFUNcug.wav\n",
      "Deleting original file songs/BFs1GFUNcug.m4a (pass -k to keep)\n",
      "[youtube] gcqJ_WtcBTk: Downloading webpage\n",
      "[youtube] gcqJ_WtcBTk: Downloading video info webpage\n",
      "[youtube] gcqJ_WtcBTk: Extracting video information\n",
      "[youtube] gcqJ_WtcBTk: Downloading MPD manifest\n"
     ]
    },
    {
     "name": "stderr",
     "output_type": "stream",
     "text": [
      "WARNING: \"id\" field is not a string - forcing string conversion, there is an error in extractor\n"
     ]
    },
    {
     "name": "stdout",
     "output_type": "stream",
     "text": [
      "[download] Destination: songs/gcqJ_WtcBTk.m4a\n",
      "[download] 100% of 5.46MiB in 00:10\n",
      "[ffmpeg] Correcting container in \"songs/gcqJ_WtcBTk.m4a\"\n",
      "[ffmpeg] Destination: songs/gcqJ_WtcBTk.wav\n",
      "Deleting original file songs/gcqJ_WtcBTk.m4a (pass -k to keep)\n",
      "[youtube] eLPH-tIiLQA: Downloading webpage\n",
      "[youtube] eLPH-tIiLQA: Downloading video info webpage\n",
      "[youtube] eLPH-tIiLQA: Extracting video information\n",
      "[youtube] eLPH-tIiLQA: Downloading MPD manifest\n"
     ]
    },
    {
     "name": "stderr",
     "output_type": "stream",
     "text": [
      "WARNING: \"id\" field is not a string - forcing string conversion, there is an error in extractor\n"
     ]
    },
    {
     "name": "stdout",
     "output_type": "stream",
     "text": [
      "[download] Destination: songs/eLPH-tIiLQA.m4a\n",
      "[download] 100% of 3.24MiB in 00:06\n",
      "[ffmpeg] Correcting container in \"songs/eLPH-tIiLQA.m4a\"\n",
      "[ffmpeg] Destination: songs/eLPH-tIiLQA.wav\n",
      "Deleting original file songs/eLPH-tIiLQA.m4a (pass -k to keep)\n",
      "[youtube] qF2AWXyfT2Q: Downloading webpage\n",
      "[youtube] qF2AWXyfT2Q: Downloading video info webpage\n",
      "[youtube] qF2AWXyfT2Q: Extracting video information\n",
      "[youtube] qF2AWXyfT2Q: Downloading MPD manifest\n"
     ]
    },
    {
     "name": "stderr",
     "output_type": "stream",
     "text": [
      "WARNING: \"id\" field is not a string - forcing string conversion, there is an error in extractor\n"
     ]
    },
    {
     "name": "stdout",
     "output_type": "stream",
     "text": [
      "[download] Destination: songs/qF2AWXyfT2Q.webm\n",
      "[download] 100% of 3.61MiB in 00:07\n",
      "[ffmpeg] Destination: songs/qF2AWXyfT2Q.wav\n",
      "Deleting original file songs/qF2AWXyfT2Q.webm (pass -k to keep)\n",
      "[youtube] H_u_rv1T0I8: Downloading webpage\n",
      "[youtube] H_u_rv1T0I8: Downloading video info webpage\n",
      "[youtube] H_u_rv1T0I8: Extracting video information\n",
      "[youtube] H_u_rv1T0I8: Downloading MPD manifest\n"
     ]
    },
    {
     "name": "stderr",
     "output_type": "stream",
     "text": [
      "WARNING: \"id\" field is not a string - forcing string conversion, there is an error in extractor\n"
     ]
    },
    {
     "name": "stdout",
     "output_type": "stream",
     "text": [
      "[download] Destination: songs/H_u_rv1T0I8.webm\n",
      "[download] 100% of 6.01MiB in 00:12\n",
      "[ffmpeg] Destination: songs/H_u_rv1T0I8.wav\n",
      "Deleting original file songs/H_u_rv1T0I8.webm (pass -k to keep)\n",
      "[youtube] DhlkEDY_O84: Downloading webpage\n",
      "[youtube] DhlkEDY_O84: Downloading video info webpage\n",
      "[youtube] DhlkEDY_O84: Extracting video information\n",
      "[youtube] DhlkEDY_O84: Downloading MPD manifest\n"
     ]
    },
    {
     "name": "stderr",
     "output_type": "stream",
     "text": [
      "WARNING: \"id\" field is not a string - forcing string conversion, there is an error in extractor\n"
     ]
    },
    {
     "name": "stdout",
     "output_type": "stream",
     "text": [
      "[download] Destination: songs/DhlkEDY_O84.webm\n",
      "[download] 100% of 5.08MiB in 00:10\n",
      "[ffmpeg] Destination: songs/DhlkEDY_O84.wav\n",
      "Deleting original file songs/DhlkEDY_O84.webm (pass -k to keep)\n",
      "[youtube] MeVSbOF18B4: Downloading webpage\n",
      "[youtube] MeVSbOF18B4: Downloading video info webpage\n",
      "[youtube] MeVSbOF18B4: Extracting video information\n",
      "[youtube] MeVSbOF18B4: Downloading MPD manifest\n",
      "[youtube] MeVSbOF18B4: Downloading MPD manifest\n"
     ]
    },
    {
     "name": "stderr",
     "output_type": "stream",
     "text": [
      "WARNING: \"id\" field is not a string - forcing string conversion, there is an error in extractor\n"
     ]
    },
    {
     "name": "stdout",
     "output_type": "stream",
     "text": [
      "[dashsegments] Total fragments: 60\n",
      "[download] Destination: songs/MeVSbOF18B4.m4a\n",
      "[download] 100% of 4.40MiB in 00:20\n",
      "[ffmpeg] Correcting container in \"songs/MeVSbOF18B4.m4a\"\n",
      "[ffmpeg] Destination: songs/MeVSbOF18B4.wav\n",
      "Deleting original file songs/MeVSbOF18B4.m4a (pass -k to keep)\n",
      "[youtube] dJ_YjUezWZY: Downloading webpage\n",
      "[youtube] dJ_YjUezWZY: Downloading video info webpage\n",
      "[youtube] dJ_YjUezWZY: Extracting video information\n",
      "[youtube] dJ_YjUezWZY: Downloading MPD manifest\n"
     ]
    },
    {
     "name": "stderr",
     "output_type": "stream",
     "text": [
      "WARNING: \"id\" field is not a string - forcing string conversion, there is an error in extractor\n"
     ]
    },
    {
     "name": "stdout",
     "output_type": "stream",
     "text": [
      "[download] Destination: songs/dJ_YjUezWZY.m4a\n",
      "[download] 100% of 1.93MiB in 00:03\n",
      "[ffmpeg] Correcting container in \"songs/dJ_YjUezWZY.m4a\"\n",
      "[ffmpeg] Destination: songs/dJ_YjUezWZY.wav\n",
      "Deleting original file songs/dJ_YjUezWZY.m4a (pass -k to keep)\n",
      "[youtube] 2DjH1wAp1M0: Downloading webpage\n",
      "[youtube] 2DjH1wAp1M0: Downloading video info webpage\n",
      "[youtube] 2DjH1wAp1M0: Extracting video information\n",
      "[youtube] 2DjH1wAp1M0: Downloading MPD manifest\n"
     ]
    },
    {
     "name": "stderr",
     "output_type": "stream",
     "text": [
      "WARNING: \"id\" field is not a string - forcing string conversion, there is an error in extractor\n"
     ]
    },
    {
     "name": "stdout",
     "output_type": "stream",
     "text": [
      "[download] Destination: songs/2DjH1wAp1M0.m4a\n",
      "[download] 100% of 4.14MiB in 00:08\n",
      "[ffmpeg] Correcting container in \"songs/2DjH1wAp1M0.m4a\"\n",
      "[ffmpeg] Destination: songs/2DjH1wAp1M0.wav\n",
      "Deleting original file songs/2DjH1wAp1M0.m4a (pass -k to keep)\n",
      "[youtube] pMXZFIWBAQs: Downloading webpage\n",
      "[youtube] pMXZFIWBAQs: Downloading video info webpage\n",
      "[youtube] pMXZFIWBAQs: Extracting video information\n",
      "[youtube] pMXZFIWBAQs: Downloading MPD manifest\n"
     ]
    },
    {
     "name": "stderr",
     "output_type": "stream",
     "text": [
      "WARNING: \"id\" field is not a string - forcing string conversion, there is an error in extractor\n"
     ]
    },
    {
     "name": "stdout",
     "output_type": "stream",
     "text": [
      "[download] Destination: songs/pMXZFIWBAQs.webm\n",
      "[download] 100% of 1.97MiB in 00:03\n",
      "[ffmpeg] Destination: songs/pMXZFIWBAQs.wav\n",
      "Deleting original file songs/pMXZFIWBAQs.webm (pass -k to keep)\n",
      "[youtube] UVg9TZbNZmE: Downloading webpage\n",
      "[youtube] UVg9TZbNZmE: Downloading video info webpage\n",
      "[youtube] UVg9TZbNZmE: Extracting video information\n",
      "[youtube] UVg9TZbNZmE: Downloading MPD manifest\n"
     ]
    },
    {
     "name": "stderr",
     "output_type": "stream",
     "text": [
      "WARNING: \"id\" field is not a string - forcing string conversion, there is an error in extractor\n"
     ]
    },
    {
     "name": "stdout",
     "output_type": "stream",
     "text": [
      "[download] Destination: songs/UVg9TZbNZmE.webm\n",
      "[download] 100% of 2.95MiB in 00:05\n",
      "[ffmpeg] Destination: songs/UVg9TZbNZmE.wav\n",
      "Deleting original file songs/UVg9TZbNZmE.webm (pass -k to keep)\n",
      "[youtube] CopjNcTTBGU: Downloading webpage\n",
      "[youtube] CopjNcTTBGU: Downloading video info webpage\n",
      "[youtube] CopjNcTTBGU: Extracting video information\n",
      "[youtube] CopjNcTTBGU: Downloading MPD manifest\n"
     ]
    },
    {
     "name": "stderr",
     "output_type": "stream",
     "text": [
      "WARNING: \"id\" field is not a string - forcing string conversion, there is an error in extractor\n"
     ]
    },
    {
     "name": "stdout",
     "output_type": "stream",
     "text": [
      "[download] Destination: songs/CopjNcTTBGU.webm\n",
      "[download]  95.4% of 5.74MiB at 510.35KiB/s ETA 00:00"
     ]
    },
    {
     "name": "stderr",
     "output_type": "stream",
     "text": [
      "ERROR: unable to download video data: ('The read operation timed out',)\n"
     ]
    },
    {
     "name": "stdout",
     "output_type": "stream",
     "text": [
      "[youtube] duEI7ZOdkYk: Downloading webpage\n",
      "[youtube] duEI7ZOdkYk: Downloading video info webpage\n",
      "[youtube] duEI7ZOdkYk: Extracting video information\n",
      "[youtube] duEI7ZOdkYk: Downloading MPD manifest\n"
     ]
    },
    {
     "name": "stderr",
     "output_type": "stream",
     "text": [
      "WARNING: \"id\" field is not a string - forcing string conversion, there is an error in extractor\n"
     ]
    },
    {
     "name": "stdout",
     "output_type": "stream",
     "text": [
      "[download] Destination: songs/duEI7ZOdkYk.webm\n",
      "[download] 100% of 2.68MiB in 00:05\n",
      "[ffmpeg] Destination: songs/duEI7ZOdkYk.wav\n",
      "Deleting original file songs/duEI7ZOdkYk.webm (pass -k to keep)\n",
      "[youtube] iaaP7U98cjI: Downloading webpage\n",
      "[youtube] iaaP7U98cjI: Downloading video info webpage\n",
      "[youtube] iaaP7U98cjI: Extracting video information\n",
      "[youtube] iaaP7U98cjI: Downloading MPD manifest\n"
     ]
    },
    {
     "name": "stderr",
     "output_type": "stream",
     "text": [
      "WARNING: \"id\" field is not a string - forcing string conversion, there is an error in extractor\n"
     ]
    },
    {
     "name": "stdout",
     "output_type": "stream",
     "text": [
      "[download] Destination: songs/iaaP7U98cjI.webm\n",
      "[download] 100% of 2.85MiB in 00:05\n",
      "[ffmpeg] Destination: songs/iaaP7U98cjI.wav\n",
      "Deleting original file songs/iaaP7U98cjI.webm (pass -k to keep)\n",
      "[youtube] 0ZSzZWzDRWU: Downloading webpage\n",
      "[youtube] 0ZSzZWzDRWU: Downloading video info webpage\n",
      "[youtube] 0ZSzZWzDRWU: Extracting video information\n",
      "[youtube] 0ZSzZWzDRWU: Downloading MPD manifest\n"
     ]
    },
    {
     "name": "stderr",
     "output_type": "stream",
     "text": [
      "WARNING: \"id\" field is not a string - forcing string conversion, there is an error in extractor\n"
     ]
    },
    {
     "name": "stdout",
     "output_type": "stream",
     "text": [
      "[download] Destination: songs/0ZSzZWzDRWU.webm\n",
      "[download] 100% of 2.71MiB in 00:05\n",
      "[ffmpeg] Destination: songs/0ZSzZWzDRWU.wav\n",
      "Deleting original file songs/0ZSzZWzDRWU.webm (pass -k to keep)\n",
      "[youtube] kiRm7Clgi4U: Downloading webpage\n",
      "[youtube] kiRm7Clgi4U: Downloading video info webpage\n",
      "[youtube] kiRm7Clgi4U: Extracting video information\n",
      "[youtube] kiRm7Clgi4U: Downloading MPD manifest\n"
     ]
    },
    {
     "name": "stderr",
     "output_type": "stream",
     "text": [
      "WARNING: \"id\" field is not a string - forcing string conversion, there is an error in extractor\n"
     ]
    },
    {
     "name": "stdout",
     "output_type": "stream",
     "text": [
      "[download] Destination: songs/kiRm7Clgi4U.webm\n",
      "[download] 100% of 3.61MiB in 00:07\n",
      "[ffmpeg] Destination: songs/kiRm7Clgi4U.wav\n",
      "Deleting original file songs/kiRm7Clgi4U.webm (pass -k to keep)\n",
      "[youtube] 1AZnoDvp3K0: Downloading webpage\n",
      "[youtube] 1AZnoDvp3K0: Downloading video info webpage\n",
      "[youtube] 1AZnoDvp3K0: Extracting video information\n",
      "[youtube] 1AZnoDvp3K0: Downloading MPD manifest\n"
     ]
    },
    {
     "name": "stderr",
     "output_type": "stream",
     "text": [
      "WARNING: \"id\" field is not a string - forcing string conversion, there is an error in extractor\n"
     ]
    },
    {
     "name": "stdout",
     "output_type": "stream",
     "text": [
      "[download] Destination: songs/1AZnoDvp3K0.webm\n",
      "[download] 100% of 3.80MiB in 00:08\n",
      "[ffmpeg] Destination: songs/1AZnoDvp3K0.wav\n",
      "Deleting original file songs/1AZnoDvp3K0.webm (pass -k to keep)\n",
      "[youtube] oaG0fY41C-s: Downloading webpage\n",
      "[youtube] oaG0fY41C-s: Downloading video info webpage\n"
     ]
    },
    {
     "name": "stderr",
     "output_type": "stream",
     "text": [
      "ERROR: oaG0fY41C-s: YouTube said: This video contains content from UMG, who has blocked it on copyright grounds.\n"
     ]
    },
    {
     "name": "stdout",
     "output_type": "stream",
     "text": [
      "[youtube] SVy2vPv2IXI: Downloading webpage\n",
      "[youtube] SVy2vPv2IXI: Downloading video info webpage\n",
      "[youtube] SVy2vPv2IXI: Extracting video information\n",
      "[youtube] SVy2vPv2IXI: Downloading MPD manifest\n"
     ]
    },
    {
     "name": "stderr",
     "output_type": "stream",
     "text": [
      "WARNING: \"id\" field is not a string - forcing string conversion, there is an error in extractor\n"
     ]
    },
    {
     "name": "stdout",
     "output_type": "stream",
     "text": [
      "[download] Destination: songs/SVy2vPv2IXI.webm\n",
      "[download] 100% of 4.31MiB in 00:08\n",
      "[ffmpeg] Destination: songs/SVy2vPv2IXI.wav\n",
      "Deleting original file songs/SVy2vPv2IXI.webm (pass -k to keep)\n",
      "[youtube] yjW2rrK5vRU: Downloading webpage\n",
      "[youtube] yjW2rrK5vRU: Downloading video info webpage\n",
      "[youtube] yjW2rrK5vRU: Extracting video information\n",
      "[youtube] yjW2rrK5vRU: Downloading MPD manifest\n"
     ]
    },
    {
     "name": "stderr",
     "output_type": "stream",
     "text": [
      "WARNING: \"id\" field is not a string - forcing string conversion, there is an error in extractor\n"
     ]
    },
    {
     "name": "stdout",
     "output_type": "stream",
     "text": [
      "[download] Destination: songs/yjW2rrK5vRU.m4a\n",
      "[download] 100% of 2.83MiB in 00:05\n",
      "[ffmpeg] Correcting container in \"songs/yjW2rrK5vRU.m4a\"\n",
      "[ffmpeg] Destination: songs/yjW2rrK5vRU.wav\n",
      "Deleting original file songs/yjW2rrK5vRU.m4a (pass -k to keep)\n",
      "[youtube] T0EDCAVsEDM: Downloading webpage\n",
      "[youtube] T0EDCAVsEDM: Downloading video info webpage\n",
      "[youtube] T0EDCAVsEDM: Extracting video information\n",
      "[youtube] T0EDCAVsEDM: Downloading MPD manifest\n"
     ]
    },
    {
     "name": "stderr",
     "output_type": "stream",
     "text": [
      "WARNING: \"id\" field is not a string - forcing string conversion, there is an error in extractor\n"
     ]
    },
    {
     "name": "stdout",
     "output_type": "stream",
     "text": [
      "[download] Destination: songs/T0EDCAVsEDM.webm\n",
      "[download] 100% of 2.34MiB in 00:04\n",
      "[ffmpeg] Destination: songs/T0EDCAVsEDM.wav\n",
      "Deleting original file songs/T0EDCAVsEDM.webm (pass -k to keep)\n",
      "[youtube] X-o3JQ-6uPc: Downloading webpage\n",
      "[youtube] X-o3JQ-6uPc: Downloading video info webpage\n",
      "[youtube] X-o3JQ-6uPc: Extracting video information\n",
      "[youtube] X-o3JQ-6uPc: Downloading MPD manifest\n"
     ]
    },
    {
     "name": "stderr",
     "output_type": "stream",
     "text": [
      "WARNING: \"id\" field is not a string - forcing string conversion, there is an error in extractor\n"
     ]
    },
    {
     "name": "stdout",
     "output_type": "stream",
     "text": [
      "[download] Destination: songs/X-o3JQ-6uPc.webm\n",
      "[download] 100% of 6.21MiB in 00:12\n",
      "[ffmpeg] Destination: songs/X-o3JQ-6uPc.wav\n",
      "Deleting original file songs/X-o3JQ-6uPc.webm (pass -k to keep)\n",
      "[youtube] 1AIu7SqX_UI: Downloading webpage\n",
      "[youtube] 1AIu7SqX_UI: Downloading video info webpage\n",
      "[youtube] 1AIu7SqX_UI: Extracting video information\n",
      "[youtube] 1AIu7SqX_UI: Downloading MPD manifest\n"
     ]
    },
    {
     "name": "stderr",
     "output_type": "stream",
     "text": [
      "WARNING: \"id\" field is not a string - forcing string conversion, there is an error in extractor\n"
     ]
    },
    {
     "name": "stdout",
     "output_type": "stream",
     "text": [
      "[download] Destination: songs/1AIu7SqX_UI.webm\n",
      "[download] 100% of 3.63MiB in 00:07\n",
      "[ffmpeg] Destination: songs/1AIu7SqX_UI.wav\n",
      "Deleting original file songs/1AIu7SqX_UI.webm (pass -k to keep)\n",
      "[youtube] IVF0zcqr9Dg: Downloading webpage\n",
      "[youtube] IVF0zcqr9Dg: Downloading video info webpage\n",
      "[youtube] IVF0zcqr9Dg: Extracting video information\n",
      "[youtube] IVF0zcqr9Dg: Downloading MPD manifest\n"
     ]
    },
    {
     "name": "stderr",
     "output_type": "stream",
     "text": [
      "WARNING: \"id\" field is not a string - forcing string conversion, there is an error in extractor\n"
     ]
    },
    {
     "name": "stdout",
     "output_type": "stream",
     "text": [
      "[download] Destination: songs/IVF0zcqr9Dg.m4a\n",
      "[download] 100% of 3.94MiB in 00:07\n",
      "[ffmpeg] Correcting container in \"songs/IVF0zcqr9Dg.m4a\"\n",
      "[ffmpeg] Destination: songs/IVF0zcqr9Dg.wav\n",
      "Deleting original file songs/IVF0zcqr9Dg.m4a (pass -k to keep)\n",
      "[youtube] -smIiKYnP7o: Downloading webpage\n",
      "[youtube] -smIiKYnP7o: Downloading video info webpage\n",
      "[youtube] -smIiKYnP7o: Extracting video information\n",
      "[youtube] -smIiKYnP7o: Downloading MPD manifest\n"
     ]
    },
    {
     "name": "stderr",
     "output_type": "stream",
     "text": [
      "WARNING: \"id\" field is not a string - forcing string conversion, there is an error in extractor\n"
     ]
    },
    {
     "name": "stdout",
     "output_type": "stream",
     "text": [
      "[download] Destination: songs/-smIiKYnP7o.webm\n",
      "[download] 100% of 3.76MiB in 00:07\n",
      "[ffmpeg] Destination: songs/-smIiKYnP7o.wav\n",
      "Deleting original file songs/-smIiKYnP7o.webm (pass -k to keep)\n",
      "[youtube] 94oLKH1OnyA: Downloading webpage\n",
      "[youtube] 94oLKH1OnyA: Downloading video info webpage\n",
      "[youtube] 94oLKH1OnyA: Extracting video information\n",
      "[youtube] 94oLKH1OnyA: Downloading MPD manifest\n",
      "[youtube] 94oLKH1OnyA: Downloading MPD manifest\n"
     ]
    },
    {
     "name": "stderr",
     "output_type": "stream",
     "text": [
      "WARNING: \"id\" field is not a string - forcing string conversion, there is an error in extractor\n"
     ]
    },
    {
     "name": "stdout",
     "output_type": "stream",
     "text": [
      "[dashsegments] Total fragments: 24\n",
      "[download] Destination: songs/94oLKH1OnyA.m4a\n",
      "[download] 100% of 3.37MiB in 00:11\n",
      "[ffmpeg] Correcting container in \"songs/94oLKH1OnyA.m4a\"\n",
      "[ffmpeg] Destination: songs/94oLKH1OnyA.wav\n",
      "Deleting original file songs/94oLKH1OnyA.m4a (pass -k to keep)\n",
      "[youtube] L1aIM2Rhwl0: Downloading webpage\n",
      "[youtube] L1aIM2Rhwl0: Downloading video info webpage\n",
      "[youtube] L1aIM2Rhwl0: Extracting video information\n",
      "[youtube] L1aIM2Rhwl0: Downloading MPD manifest\n"
     ]
    },
    {
     "name": "stderr",
     "output_type": "stream",
     "text": [
      "WARNING: \"id\" field is not a string - forcing string conversion, there is an error in extractor\n"
     ]
    },
    {
     "name": "stdout",
     "output_type": "stream",
     "text": [
      "[download] Destination: songs/L1aIM2Rhwl0.webm\n",
      "[download] 100% of 3.96MiB in 00:07\n",
      "[ffmpeg] Destination: songs/L1aIM2Rhwl0.wav\n",
      "Deleting original file songs/L1aIM2Rhwl0.webm (pass -k to keep)\n",
      "[youtube] D2DGEaDxlok: Downloading webpage\n",
      "[youtube] D2DGEaDxlok: Downloading video info webpage\n",
      "[youtube] D2DGEaDxlok: Extracting video information\n",
      "[youtube] D2DGEaDxlok: Downloading MPD manifest\n"
     ]
    },
    {
     "name": "stderr",
     "output_type": "stream",
     "text": [
      "WARNING: \"id\" field is not a string - forcing string conversion, there is an error in extractor\n"
     ]
    },
    {
     "name": "stdout",
     "output_type": "stream",
     "text": [
      "[download] Destination: songs/D2DGEaDxlok.webm\n",
      "[download] 100% of 2.50MiB in 00:05\n",
      "[ffmpeg] Destination: songs/D2DGEaDxlok.wav\n",
      "Deleting original file songs/D2DGEaDxlok.webm (pass -k to keep)\n",
      "[youtube] ggler84cbzk: Downloading webpage\n",
      "[youtube] ggler84cbzk: Downloading video info webpage\n",
      "[youtube] ggler84cbzk: Extracting video information\n",
      "[youtube] ggler84cbzk: Downloading MPD manifest\n"
     ]
    },
    {
     "name": "stderr",
     "output_type": "stream",
     "text": [
      "WARNING: \"id\" field is not a string - forcing string conversion, there is an error in extractor\n"
     ]
    },
    {
     "name": "stdout",
     "output_type": "stream",
     "text": [
      "[download] Destination: songs/ggler84cbzk.webm\n",
      "[download] 100% of 2.93MiB in 00:05\n",
      "[ffmpeg] Destination: songs/ggler84cbzk.wav\n",
      "Deleting original file songs/ggler84cbzk.webm (pass -k to keep)\n",
      "[youtube] uZdaS5YiJG8: Downloading webpage\n",
      "[youtube] uZdaS5YiJG8: Downloading video info webpage\n",
      "[youtube] uZdaS5YiJG8: Extracting video information\n",
      "[youtube] uZdaS5YiJG8: Downloading MPD manifest\n"
     ]
    },
    {
     "name": "stderr",
     "output_type": "stream",
     "text": [
      "WARNING: \"id\" field is not a string - forcing string conversion, there is an error in extractor\n"
     ]
    },
    {
     "name": "stdout",
     "output_type": "stream",
     "text": [
      "[download] Destination: songs/uZdaS5YiJG8.webm\n",
      "[download] 100% of 2.97MiB in 00:05\n",
      "[ffmpeg] Destination: songs/uZdaS5YiJG8.wav\n",
      "Deleting original file songs/uZdaS5YiJG8.webm (pass -k to keep)\n",
      "[youtube] 98rZ0n94Nm8: Downloading webpage\n",
      "[youtube] 98rZ0n94Nm8: Downloading video info webpage\n",
      "[youtube] 98rZ0n94Nm8: Extracting video information\n",
      "[youtube] 98rZ0n94Nm8: Downloading MPD manifest\n"
     ]
    },
    {
     "name": "stderr",
     "output_type": "stream",
     "text": [
      "WARNING: \"id\" field is not a string - forcing string conversion, there is an error in extractor\n"
     ]
    },
    {
     "name": "stdout",
     "output_type": "stream",
     "text": [
      "[download] Destination: songs/98rZ0n94Nm8.webm\n",
      "[download] 100% of 2.95MiB in 00:05\n",
      "[ffmpeg] Destination: songs/98rZ0n94Nm8.wav\n",
      "Deleting original file songs/98rZ0n94Nm8.webm (pass -k to keep)\n",
      "[youtube] mGPmXURlOXU: Downloading webpage\n",
      "[youtube] mGPmXURlOXU: Downloading video info webpage\n",
      "[youtube] mGPmXURlOXU: Extracting video information\n",
      "[youtube] mGPmXURlOXU: Downloading MPD manifest\n"
     ]
    },
    {
     "name": "stderr",
     "output_type": "stream",
     "text": [
      "WARNING: \"id\" field is not a string - forcing string conversion, there is an error in extractor\n"
     ]
    },
    {
     "name": "stdout",
     "output_type": "stream",
     "text": [
      "[download] Destination: songs/mGPmXURlOXU.webm\n",
      "[download] 100% of 509.12KiB in 00:00\n",
      "[ffmpeg] Destination: songs/mGPmXURlOXU.wav\n",
      "Deleting original file songs/mGPmXURlOXU.webm (pass -k to keep)\n",
      "[youtube] wGzWuz25ROM: Downloading webpage\n",
      "[youtube] wGzWuz25ROM: Downloading video info webpage\n",
      "[youtube] wGzWuz25ROM: Extracting video information\n",
      "[youtube] wGzWuz25ROM: Downloading MPD manifest\n"
     ]
    },
    {
     "name": "stderr",
     "output_type": "stream",
     "text": [
      "WARNING: \"id\" field is not a string - forcing string conversion, there is an error in extractor\n"
     ]
    },
    {
     "name": "stdout",
     "output_type": "stream",
     "text": [
      "[download] Destination: songs/wGzWuz25ROM.webm\n",
      "[download] 100% of 2.82MiB in 00:05\n",
      "[ffmpeg] Destination: songs/wGzWuz25ROM.wav\n",
      "Deleting original file songs/wGzWuz25ROM.webm (pass -k to keep)\n",
      "[youtube] gOb-EjyXRPQ: Downloading webpage\n",
      "[youtube] gOb-EjyXRPQ: Downloading video info webpage\n",
      "[youtube] gOb-EjyXRPQ: Extracting video information\n",
      "[youtube] gOb-EjyXRPQ: Downloading MPD manifest\n"
     ]
    },
    {
     "name": "stderr",
     "output_type": "stream",
     "text": [
      "WARNING: \"id\" field is not a string - forcing string conversion, there is an error in extractor\n"
     ]
    },
    {
     "name": "stdout",
     "output_type": "stream",
     "text": [
      "[download] Destination: songs/gOb-EjyXRPQ.webm\n",
      "[download] 100% of 4.38MiB in 00:08\n",
      "[ffmpeg] Destination: songs/gOb-EjyXRPQ.wav\n",
      "Deleting original file songs/gOb-EjyXRPQ.webm (pass -k to keep)\n",
      "[youtube] qaF9T5pCAfI: Downloading webpage\n",
      "[youtube] qaF9T5pCAfI: Downloading video info webpage\n",
      "[youtube] qaF9T5pCAfI: Extracting video information\n",
      "[youtube] qaF9T5pCAfI: Downloading MPD manifest\n"
     ]
    },
    {
     "name": "stderr",
     "output_type": "stream",
     "text": [
      "WARNING: \"id\" field is not a string - forcing string conversion, there is an error in extractor\n"
     ]
    },
    {
     "name": "stdout",
     "output_type": "stream",
     "text": [
      "[download] Destination: songs/qaF9T5pCAfI.m4a\n",
      "[download] 100% of 4.50MiB in 00:08\n",
      "[ffmpeg] Correcting container in \"songs/qaF9T5pCAfI.m4a\"\n",
      "[ffmpeg] Destination: songs/qaF9T5pCAfI.wav\n",
      "Deleting original file songs/qaF9T5pCAfI.m4a (pass -k to keep)\n",
      "[youtube] h-tga0Wvf40: Downloading webpage\n",
      "[youtube] h-tga0Wvf40: Downloading video info webpage\n"
     ]
    },
    {
     "name": "stderr",
     "output_type": "stream",
     "text": [
      "ERROR: h-tga0Wvf40: YouTube said: This video is not available.\n"
     ]
    },
    {
     "name": "stdout",
     "output_type": "stream",
     "text": [
      "[youtube] _1HnkNVy2rM: Downloading webpage\n",
      "[youtube] _1HnkNVy2rM: Downloading video info webpage\n",
      "[youtube] _1HnkNVy2rM: Extracting video information\n",
      "[youtube] _1HnkNVy2rM: Downloading MPD manifest\n"
     ]
    },
    {
     "name": "stderr",
     "output_type": "stream",
     "text": [
      "WARNING: \"id\" field is not a string - forcing string conversion, there is an error in extractor\n"
     ]
    },
    {
     "name": "stdout",
     "output_type": "stream",
     "text": [
      "[download] Destination: songs/_1HnkNVy2rM.webm\n",
      "[download] 100% of 4.12MiB in 00:08\n",
      "[ffmpeg] Destination: songs/_1HnkNVy2rM.wav\n",
      "Deleting original file songs/_1HnkNVy2rM.webm (pass -k to keep)\n",
      "[youtube] LRwYOOSMdeY: Downloading webpage\n",
      "[youtube] LRwYOOSMdeY: Downloading video info webpage\n",
      "[youtube] LRwYOOSMdeY: Extracting video information\n",
      "[youtube] LRwYOOSMdeY: Downloading MPD manifest\n"
     ]
    },
    {
     "name": "stderr",
     "output_type": "stream",
     "text": [
      "WARNING: \"id\" field is not a string - forcing string conversion, there is an error in extractor\n"
     ]
    },
    {
     "name": "stdout",
     "output_type": "stream",
     "text": [
      "[download] Destination: songs/LRwYOOSMdeY.webm\n",
      "[download] 100% of 3.26MiB in 00:06\n",
      "[ffmpeg] Destination: songs/LRwYOOSMdeY.wav\n",
      "Deleting original file songs/LRwYOOSMdeY.webm (pass -k to keep)\n",
      "[youtube] NNC10hQ_XNs: Downloading webpage\n",
      "[youtube] NNC10hQ_XNs: Downloading video info webpage\n",
      "[youtube] NNC10hQ_XNs: Extracting video information\n",
      "[youtube] NNC10hQ_XNs: Downloading MPD manifest\n"
     ]
    },
    {
     "name": "stderr",
     "output_type": "stream",
     "text": [
      "WARNING: \"id\" field is not a string - forcing string conversion, there is an error in extractor\n"
     ]
    },
    {
     "name": "stdout",
     "output_type": "stream",
     "text": [
      "[download] Destination: songs/NNC10hQ_XNs.m4a\n",
      "[download] 100% of 2.79MiB in 00:05\n",
      "[ffmpeg] Correcting container in \"songs/NNC10hQ_XNs.m4a\"\n",
      "[ffmpeg] Destination: songs/NNC10hQ_XNs.wav\n",
      "Deleting original file songs/NNC10hQ_XNs.m4a (pass -k to keep)\n",
      "[youtube] 66nXF0wNfdg: Downloading webpage\n",
      "[youtube] 66nXF0wNfdg: Downloading video info webpage\n",
      "[youtube] 66nXF0wNfdg: Extracting video information\n",
      "[youtube] 66nXF0wNfdg: Downloading MPD manifest\n"
     ]
    },
    {
     "name": "stderr",
     "output_type": "stream",
     "text": [
      "WARNING: \"id\" field is not a string - forcing string conversion, there is an error in extractor\n"
     ]
    },
    {
     "name": "stdout",
     "output_type": "stream",
     "text": [
      "[download] Destination: songs/66nXF0wNfdg.m4a\n",
      "[download] 100% of 2.88MiB in 00:05\n",
      "[ffmpeg] Correcting container in \"songs/66nXF0wNfdg.m4a\"\n",
      "[ffmpeg] Destination: songs/66nXF0wNfdg.wav\n",
      "Deleting original file songs/66nXF0wNfdg.m4a (pass -k to keep)\n"
     ]
    }
   ],
   "source": [
    "codec = \"wav\"\n",
    "options = {\n",
    "  \"format\":       \"bestaudio/best\",\n",
    "  \"extractaudio\": True,  # only keep the audio\n",
    "  \"audioformat\":  codec,  # save as wav (easy to convert to data)\n",
    "  \"postprocessors\": [{\n",
    "        'key': 'FFmpegExtractAudio',\n",
    "        'preferredcodec': codec,\n",
    "  }],\n",
    "  \"outtmpl\":      \"songs/%(id)s.%(ext)s\",    # put into folder songs & name by ID of video\n",
    "  \"noplaylist\":   True,    # only download single song\n",
    "}\n",
    "\n",
    "# with youtube_dl.YoutubeDL(options) as ydl:\n",
    "#     ydl.download(links)\n",
    "\n",
    "with youtube_dl.YoutubeDL(options) as ydl:\n",
    "    # check whether songs have already been downloaded\n",
    "    for link in links:\n",
    "        if not os.path.isfile(\"songs/\" + link.split(\"=\")[1] + \".\" + codec):\n",
    "            try:\n",
    "                ydl.download([link])\n",
    "\n",
    "            except:\n",
    "                pass"
   ]
  },
  {
   "cell_type": "code",
   "execution_count": null,
   "metadata": {
    "collapsed": true
   },
   "outputs": [],
   "source": [
    "a"
   ]
  },
  {
   "cell_type": "code",
   "execution_count": null,
   "metadata": {
    "collapsed": true
   },
   "outputs": [],
   "source": []
  }
 ],
 "metadata": {
  "kernelspec": {
   "display_name": "Python 2",
   "language": "python",
   "name": "python2"
  },
  "language_info": {
   "codemirror_mode": {
    "name": "ipython",
    "version": 2
   },
   "file_extension": ".py",
   "mimetype": "text/x-python",
   "name": "python",
   "nbconvert_exporter": "python",
   "pygments_lexer": "ipython2",
   "version": "2.7.12"
  }
 },
 "nbformat": 4,
 "nbformat_minor": 0
}
