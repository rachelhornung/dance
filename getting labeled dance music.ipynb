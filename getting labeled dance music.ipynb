{
 "cells": [
  {
   "cell_type": "code",
   "execution_count": 9,
   "metadata": {
    "collapsed": false
   },
   "outputs": [],
   "source": [
    "import urllib2\n",
    "from bs4 import BeautifulSoup as BS\n",
    "import pandas as pd\n",
    "import os.path"
   ]
  },
  {
   "cell_type": "code",
   "execution_count": 2,
   "metadata": {
    "collapsed": false
   },
   "outputs": [],
   "source": [
    "def generate_song_list():\n",
    "    # returns random list of links to song's webpage on tanzmusik-online\n",
    "    \n",
    "    # get main webpage \n",
    "    music = \"https://www.tanzmusik-online.de/random\"\n",
    "    music_page = urllib2.urlopen(music)\n",
    "    music_soup = BS(music_page)\n",
    "    # get the songs listed\n",
    "    song_list=music_soup.find(\"div\", class_=\"songlist\")\n",
    "    # get all links to song titles\n",
    "    all_songs = song_list.find_all(\"div\", class_=\"songTitle\")\n",
    "    links = []\n",
    "    for song in all_songs:\n",
    "        link = song.find(\"a\").get(\"href\")\n",
    "        links.append(link)\n",
    "    return links"
   ]
  },
  {
   "cell_type": "code",
   "execution_count": 3,
   "metadata": {
    "collapsed": false
   },
   "outputs": [],
   "source": [
    "def get_label_and_youtube_link(song):\n",
    "    # returns the specified dance style as label and the youtube link to the song\n",
    "    # get the song's webpage\n",
    "    # make sure language is set to english (for string comparisons)\n",
    "    song_request = urllib2.Request(song, headers={\"Accept-Language\": \"en\"})\n",
    "    song_page = urllib2.urlopen(song_request)\n",
    "    # song_page = urllib2.urlopen('https://www.tanzmusik-online.de/locale/en')\n",
    "    song_soup = BS(song_page)\n",
    "    expert = False\n",
    "    # check whether song has been verified (only add songs where GT is correct)\n",
    "    all_pull_right = song_soup.find_all(\"div\", class_=\"pull-right\")\n",
    "\n",
    "    for pl in all_pull_right:\n",
    "        if pl.find(\"span\") is not None:\n",
    "            # since website may be confirmed by visitor or expert\n",
    "            if \"confirmed by\" in pl.find(\"span\").string:\n",
    "                expert = True\n",
    "                break\n",
    "    if expert:\n",
    "        # get the links to associated pages\n",
    "        all_modes = song_soup.find_all(\"span\", class_=\"modelink\")\n",
    "        for mode in all_modes:\n",
    "            link = mode.find(\"a\").get(\"href\")\n",
    "            # only continue if associated page is youtube\n",
    "            if \"youtube\" in link:\n",
    "                labels = []\n",
    "                # get the assigned dances, might either be multiple divs\n",
    "                # or multiple links in a single div\n",
    "                all_dances = song_soup.find_all(\"div\", class_=\"dances\")\n",
    "                for ad in all_dances:\n",
    "                    dances = ad.find_all(\"a\")\n",
    "                    for dance in dances:\n",
    "                        labels.append(dance.string)\n",
    "                # since we expect only one youtube link, we can return here\n",
    "                return link, labels\n",
    "    else:\n",
    "        print(\"no style confirmation for\", song)\n",
    "    # in case no youtube link was found or labels were not confirmed, we will not return any relevant info"
   ]
  },
  {
   "cell_type": "code",
   "execution_count": 4,
   "metadata": {
    "collapsed": false
   },
   "outputs": [
    {
     "data": {
      "text/plain": [
       "('http://youtube.com/watch?v=EdmoxnTpW9o', [u'Disco Fox'])"
      ]
     },
     "execution_count": 4,
     "metadata": {},
     "output_type": "execute_result"
    }
   ],
   "source": [
    "# visitor approved link\n",
    "get_label_and_youtube_link('https://www.tanzmusik-online.de/music/2am-club/title/not-your-boyfriend')"
   ]
  },
  {
   "cell_type": "code",
   "execution_count": 5,
   "metadata": {
    "collapsed": false
   },
   "outputs": [
    {
     "data": {
      "text/plain": [
       "('http://youtube.com/watch?v=-F0KzoXG9v8', [u'Jive'])"
      ]
     },
     "execution_count": 5,
     "metadata": {},
     "output_type": "execute_result"
    }
   ],
   "source": [
    "# expert approved link\n",
    "get_label_and_youtube_link('https://www.tanzmusik-online.de/music/ray-collins-hot-club/title/sweet-little-love')"
   ]
  },
  {
   "cell_type": "code",
   "execution_count": 6,
   "metadata": {
    "collapsed": false
   },
   "outputs": [
    {
     "name": "stdout",
     "output_type": "stream",
     "text": [
      "('no style confirmation for', 'https://www.tanzmusik-online.de/music/woodhouse-jazzband/title/almost-like-being-in-love')\n"
     ]
    }
   ],
   "source": [
    "# not approved link\n",
    "get_label_and_youtube_link('https://www.tanzmusik-online.de/music/woodhouse-jazzband/title/almost-like-being-in-love')"
   ]
  },
  {
   "cell_type": "code",
   "execution_count": 4,
   "metadata": {
    "collapsed": false
   },
   "outputs": [],
   "source": [
    "# generate dance music samples\n",
    "links = []\n",
    "for i in range(100):\n",
    "    links.extend(generate_song_list())\n",
    "# remove any duplicates\n",
    "links = set(links)"
   ]
  },
  {
   "cell_type": "code",
   "execution_count": 6,
   "metadata": {
    "collapsed": false
   },
   "outputs": [
    {
     "name": "stdout",
     "output_type": "stream",
     "text": [
      "('no style confirmation for', 'https://www.tanzmusik-online.de/music/katie-melua/title/the-cry-of-the-lone-wolf')\n",
      "('no style confirmation for', 'https://www.tanzmusik-online.de/music/toten-hosen/title/altes-fieber')\n",
      "('no style confirmation for', 'https://www.tanzmusik-online.de/music/scott-bradlee-postmodern-jukebox/title/hollaback-girl')\n",
      "('no style confirmation for', 'https://www.tanzmusik-online.de/music/zarah-leander/title/ich-weiss-es-wird-einmal-ein-wunder-geschehn')\n",
      "('no style confirmation for', 'https://www.tanzmusik-online.de/music/scott-bradlee-postmodern-jukebox/title/teenage-dirtback')\n",
      "('no style confirmation for', 'https://www.tanzmusik-online.de/music/cornell-hurd-band/title/happy-hour-in-hell')\n",
      "('no style confirmation for', 'https://www.tanzmusik-online.de/music/volbeat/title/the-bliss')\n",
      "('no style confirmation for', 'https://www.tanzmusik-online.de/music/the-corrs/title/road-to-eden-1')\n",
      "('no style confirmation for', 'https://www.tanzmusik-online.de/music/cat-ballou/title/et-jitt-kein-wood')\n",
      "('no style confirmation for', 'https://www.tanzmusik-online.de/music/chris-barber/title/south-rampart-street-parade')\n",
      "('no style confirmation for', 'https://www.tanzmusik-online.de/music/tommy-dorsey-orchestra-feat-frank-sinatra/title/in-the-blue-of-evening')\n",
      "('no style confirmation for', 'https://www.tanzmusik-online.de/music/scott-bradlee-postmodern-jukebox/title/feel-good-inc')\n",
      "('no style confirmation for', 'https://www.tanzmusik-online.de/music/joan-jett-and-the-blackhearts/title/i-love-rock-roll')\n",
      "('no style confirmation for', 'https://www.tanzmusik-online.de/music/olly-murs/title/up')\n",
      "('no style confirmation for', 'https://www.tanzmusik-online.de/music/the-hillbilly-moon-explosion/title/my-love-for-evermore')\n",
      "('no style confirmation for', 'https://www.tanzmusik-online.de/music/eff/title/stimme')\n",
      "('no style confirmation for', 'https://www.tanzmusik-online.de/music/kaplan-alfred-flury/title/lass-die-kleinen-dinge')\n",
      "('no style confirmation for', 'https://www.tanzmusik-online.de/music/celine-dion/title/alone')\n",
      "('no style confirmation for', 'https://www.tanzmusik-online.de/music/gregory-alan-isakov/title/amsterdam')\n",
      "('no style confirmation for', 'https://www.tanzmusik-online.de/music/pol1z1stensohn-aka-jan-boehmermann/title/ich-hab-polizei')\n",
      "('no style confirmation for', 'https://www.tanzmusik-online.de/music/cher/title/the-shoop-shoop-song-it-s-in-his-kiss')\n",
      "('no style confirmation for', 'https://www.tanzmusik-online.de/music/kiesza/title/sound-of-a-woman')\n",
      "('no style confirmation for', 'https://www.tanzmusik-online.de/music/ronny/title/oh-my-darling-caroline')\n",
      "('no style confirmation for', 'https://www.tanzmusik-online.de/music/mitch-miller/title/march-from-the-river-kwai-and-colonel-bogey')\n",
      "('no style confirmation for', 'https://www.tanzmusik-online.de/music/beyonce/title/love-on-top')\n",
      "('no style confirmation for', 'https://www.tanzmusik-online.de/music/rag-n-bone-man/title/human')\n",
      "('no style confirmation for', 'https://www.tanzmusik-online.de/music/cro/title/hey-girl')\n",
      "('no style confirmation for', 'https://www.tanzmusik-online.de/music/yuna/title/lullabies')\n",
      "('no style confirmation for', 'https://www.tanzmusik-online.de/music/cascada/title/the-rhythm-of-the-night')\n",
      "('no style confirmation for', 'https://www.tanzmusik-online.de/music/the-spotnicks/title/amapola')\n",
      "('no style confirmation for', 'https://www.tanzmusik-online.de/music/meghan-trainor/title/mom-feat-kelli-trainor')\n",
      "('no style confirmation for', 'https://www.tanzmusik-online.de/music/freddy-martin-his-orchestra-with-jack-fina/title/tonight-we-love-based-on-tchaikovsky-s-piano-concerto-in-b-flat-minor')\n",
      "('no style confirmation for', 'https://www.tanzmusik-online.de/music/oli-p/title/niemals-mehr')\n",
      "('no style confirmation for', 'https://www.tanzmusik-online.de/music/roxette/title/vulnerable')\n",
      "('no style confirmation for', 'https://www.tanzmusik-online.de/music/timothy-auid/title/waste-some-time')\n",
      "('no style confirmation for', 'https://www.tanzmusik-online.de/music/meghan-trainor/title/no-1')\n",
      "('no style confirmation for', 'https://www.tanzmusik-online.de/music/queen-david-bowie/title/china-girl')\n",
      "('no style confirmation for', 'https://www.tanzmusik-online.de/music/lys-assia/title/arrivederci-roma')\n"
     ]
    }
   ],
   "source": [
    "# get youtubelinks and dance type labels\n",
    "song_list = []\n",
    "for song in links:\n",
    "    # for each song get the labels and a youtube link\n",
    "    return_values = get_label_and_youtube_link(song)\n",
    "    # if relevant information is provided\n",
    "    if return_values is not None:\n",
    "        # for each label add a row with the youtube link\n",
    "        for irv in range(len(return_values[1])):\n",
    "            song_list.append([return_values[0], return_values[1][irv]])\n",
    "labels = pd.DataFrame(song_list, columns=[\"youtube_link\", \"label\"])"
   ]
  },
  {
   "cell_type": "code",
   "execution_count": 18,
   "metadata": {
    "collapsed": false
   },
   "outputs": [],
   "source": [
    "# put id and youtube link into separate data frame to be able to add relevant information later\n",
    "song_info = pd.DataFrame(labels[\"youtube_link\"].unique(), columns=[\"youtube_link\"])\n",
    "song_info[\"id\"] = song_info[\"youtube_link\"].str.split(\"=\").str[1]"
   ]
  },
  {
   "cell_type": "code",
   "execution_count": 19,
   "metadata": {
    "collapsed": false
   },
   "outputs": [],
   "source": [
    "# instead of link, save id with labels, only\n",
    "labels[\"id\"] = labels[\"youtube_link\"].str.split(\"=\").str[1]\n",
    "labels = labels.drop(\"youtube_link\", axis=1)"
   ]
  },
  {
   "cell_type": "code",
   "execution_count": 21,
   "metadata": {
    "collapsed": false
   },
   "outputs": [],
   "source": [
    "# if a song list has previously been generated add the two lists\n",
    "if os.path.isfile(\"labels_list.csv\"):\n",
    "    # only if both files exist, the information can be reused\n",
    "    old_labels = pd.read_csv(\"labels_list.csv\")\n",
    "    old_labels = old_labels.drop(\"Unnamed: 0\", axis=1)\n",
    "    old_info = pd.read_csv(\"song_info_list.csv\")\n",
    "    old_info = old_info.drop(\"Unnamed: 0\", axis=1)\n",
    "    # merge the data frames\n",
    "    labels = pd.concat([old_labels, labels])\n",
    "    song_info = pd.concat([old_info, song_info])\n",
    "# save lists\n",
    "labels.to_csv(\"labels_list.csv\")\n",
    "song_info.to_csv(\"song_info_list.csv\")\n",
    "\n"
   ]
  },
  {
   "cell_type": "code",
   "execution_count": null,
   "metadata": {
    "collapsed": true
   },
   "outputs": [],
   "source": []
  }
 ],
 "metadata": {
  "kernelspec": {
   "display_name": "Python 2",
   "language": "python",
   "name": "python2"
  },
  "language_info": {
   "codemirror_mode": {
    "name": "ipython",
    "version": 2
   },
   "file_extension": ".py",
   "mimetype": "text/x-python",
   "name": "python",
   "nbconvert_exporter": "python",
   "pygments_lexer": "ipython2",
   "version": "2.7.12"
  }
 },
 "nbformat": 4,
 "nbformat_minor": 0
}
